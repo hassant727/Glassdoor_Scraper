{
 "cells": [
  {
   "cell_type": "code",
   "execution_count": null,
   "id": "1f33d2b4",
   "metadata": {},
   "outputs": [],
   "source": [
    "# Extract keyords and important topics\n",
    "# Wordcloud to show the ones that occur the most often\n",
    "# Visualizations between employee title, tenure, department and the rating t"
   ]
  },
  {
   "cell_type": "code",
   "execution_count": null,
   "id": "ef1498fe",
   "metadata": {},
   "outputs": [],
   "source": [
    "# Heatmap on a map of the world for grades by location\n",
    "# Extract the top N positives and negative points that come up in reviews"
   ]
  },
  {
   "cell_type": "code",
   "execution_count": null,
   "id": "fd402347",
   "metadata": {},
   "outputs": [],
   "source": [
    "# General sentiment about the company - different segments of the employee population.\n",
    "\n",
    "# > What are the segments of people we are interested in? Everyone? Mangers and up?\n",
    "# > What do we want to know about them? How they feel about the company\n",
    "# > Why do they feel that way? - Topic Extraction and Clustering\n",
    "# > How has this changed through time? Were people giving better reviews in 2018?"
   ]
  },
  {
   "cell_type": "code",
   "execution_count": 2,
   "id": "2249ff81",
   "metadata": {},
   "outputs": [],
   "source": [
    "import pandas as pd\n",
    "import numpy as np"
   ]
  },
  {
   "cell_type": "code",
   "execution_count": 3,
   "id": "0b75eef7",
   "metadata": {},
   "outputs": [
    {
     "data": {
      "text/html": [
       "<div>\n",
       "<style scoped>\n",
       "    .dataframe tbody tr th:only-of-type {\n",
       "        vertical-align: middle;\n",
       "    }\n",
       "\n",
       "    .dataframe tbody tr th {\n",
       "        vertical-align: top;\n",
       "    }\n",
       "\n",
       "    .dataframe thead th {\n",
       "        text-align: right;\n",
       "    }\n",
       "</style>\n",
       "<table border=\"1\" class=\"dataframe\">\n",
       "  <thead>\n",
       "    <tr style=\"text-align: right;\">\n",
       "      <th></th>\n",
       "      <th>Title</th>\n",
       "      <th>Rating</th>\n",
       "      <th>Employee_Status</th>\n",
       "      <th>Pros</th>\n",
       "      <th>Cons</th>\n",
       "      <th>Date_Posted</th>\n",
       "      <th>Employee_Title</th>\n",
       "      <th>Location</th>\n",
       "      <th>Unnamed: 9</th>\n",
       "    </tr>\n",
       "  </thead>\n",
       "  <tbody>\n",
       "    <tr>\n",
       "      <th>0</th>\n",
       "      <td>Great Culture and Company That Cares</td>\n",
       "      <td>4</td>\n",
       "      <td>Current Employee</td>\n",
       "      <td>Not much politics and very few ego's. Everyone...</td>\n",
       "      <td>Need to focus on career growth and promoting w...</td>\n",
       "      <td>13-Jan-21</td>\n",
       "      <td>Senior Corporate Recruiter in Troy</td>\n",
       "      <td>MI</td>\n",
       "      <td>NaN</td>\n",
       "    </tr>\n",
       "    <tr>\n",
       "      <th>1</th>\n",
       "      <td>Shaping the Future of Mobility!</td>\n",
       "      <td>5</td>\n",
       "      <td>Current Employee, more than 1 year</td>\n",
       "      <td>Global Work Environment, Cutting Edge Technolo...</td>\n",
       "      <td>None to mention at this time.</td>\n",
       "      <td>14-Apr-21</td>\n",
       "      <td>Program Manager in Dublin</td>\n",
       "      <td>Dublin</td>\n",
       "      <td>NaN</td>\n",
       "    </tr>\n",
       "    <tr>\n",
       "      <th>2</th>\n",
       "      <td>Lots of potential- getting there</td>\n",
       "      <td>4</td>\n",
       "      <td>Current Employee, more than 1 year</td>\n",
       "      <td>A very fast paced environment - you definitely...</td>\n",
       "      <td>Training and coaching could be better- high ex...</td>\n",
       "      <td>22-May-21</td>\n",
       "      <td>SCM in Dublin</td>\n",
       "      <td>Dublin</td>\n",
       "      <td>NaN</td>\n",
       "    </tr>\n",
       "    <tr>\n",
       "      <th>3</th>\n",
       "      <td>Alright but not the best</td>\n",
       "      <td>3</td>\n",
       "      <td>Current Employee, more than 1 year</td>\n",
       "      <td>Excellent office, good staff, good pay, good b...</td>\n",
       "      <td>Dis organised, office politics at mid/top leve...</td>\n",
       "      <td>08-Mar-21</td>\n",
       "      <td>Business Analyst in Dublin</td>\n",
       "      <td>Dublin</td>\n",
       "      <td>NaN</td>\n",
       "    </tr>\n",
       "    <tr>\n",
       "      <th>4</th>\n",
       "      <td>Aptiv</td>\n",
       "      <td>3</td>\n",
       "      <td>Current Employee</td>\n",
       "      <td>It is one of the leaders in the automotive ind...</td>\n",
       "      <td>High pressure for hitting numbers, it is more ...</td>\n",
       "      <td>07-Nov-20</td>\n",
       "      <td>Supply Chain in Dublin</td>\n",
       "      <td>Dublin</td>\n",
       "      <td>NaN</td>\n",
       "    </tr>\n",
       "  </tbody>\n",
       "</table>\n",
       "</div>"
      ],
      "text/plain": [
       "                                  Title  Rating  \\\n",
       "0  Great Culture and Company That Cares       4   \n",
       "1       Shaping the Future of Mobility!       5   \n",
       "2      Lots of potential- getting there       4   \n",
       "3              Alright but not the best       3   \n",
       "4                                 Aptiv       3   \n",
       "\n",
       "                      Employee_Status  \\\n",
       "0                    Current Employee   \n",
       "1  Current Employee, more than 1 year   \n",
       "2  Current Employee, more than 1 year   \n",
       "3  Current Employee, more than 1 year   \n",
       "4                    Current Employee   \n",
       "\n",
       "                                                Pros  \\\n",
       "0  Not much politics and very few ego's. Everyone...   \n",
       "1  Global Work Environment, Cutting Edge Technolo...   \n",
       "2  A very fast paced environment - you definitely...   \n",
       "3  Excellent office, good staff, good pay, good b...   \n",
       "4  It is one of the leaders in the automotive ind...   \n",
       "\n",
       "                                                Cons Date_Posted  \\\n",
       "0  Need to focus on career growth and promoting w...   13-Jan-21   \n",
       "1                      None to mention at this time.   14-Apr-21   \n",
       "2  Training and coaching could be better- high ex...   22-May-21   \n",
       "3  Dis organised, office politics at mid/top leve...   08-Mar-21   \n",
       "4  High pressure for hitting numbers, it is more ...   07-Nov-20   \n",
       "\n",
       "                        Employee_Title Location Unnamed: 9  \n",
       "0   Senior Corporate Recruiter in Troy       MI        NaN  \n",
       "1            Program Manager in Dublin   Dublin        NaN  \n",
       "2                        SCM in Dublin   Dublin        NaN  \n",
       "3           Business Analyst in Dublin   Dublin        NaN  \n",
       "4               Supply Chain in Dublin   Dublin        NaN  "
      ]
     },
     "execution_count": 3,
     "metadata": {},
     "output_type": "execute_result"
    }
   ],
   "source": [
    "# Import dataset\n",
    "df = pd.read_csv(\"Data.csv\", index_col = 0)\n",
    "df.head()"
   ]
  },
  {
   "cell_type": "code",
   "execution_count": null,
   "id": "a304e97d",
   "metadata": {},
   "outputs": [],
   "source": []
  },
  {
   "cell_type": "markdown",
   "id": "39051b92",
   "metadata": {},
   "source": [
    "### Preprocessing\n",
    "        Text cleaning and preprocessing before analysis"
   ]
  },
  {
   "cell_type": "code",
   "execution_count": 4,
   "id": "c8b71fa1",
   "metadata": {},
   "outputs": [],
   "source": [
    "# Convert reviews to string format\n",
    "df['Pros'] = df['Pros'].astype(str)\n",
    "df['Cons'] = df['Cons'].astype(str)"
   ]
  },
  {
   "cell_type": "code",
   "execution_count": 5,
   "id": "362dbf8e",
   "metadata": {},
   "outputs": [],
   "source": [
    "#Drop any null values\n",
    "df = df[~df[\"Pros\"].isnull()]\n",
    "df = df[~df[\"Cons\"].isnull()]\n"
   ]
  },
  {
   "cell_type": "code",
   "execution_count": null,
   "id": "16089608",
   "metadata": {},
   "outputs": [],
   "source": []
  },
  {
   "cell_type": "code",
   "execution_count": 6,
   "id": "968b9e7f",
   "metadata": {},
   "outputs": [
    {
     "data": {
      "text/html": [
       "<div>\n",
       "<style scoped>\n",
       "    .dataframe tbody tr th:only-of-type {\n",
       "        vertical-align: middle;\n",
       "    }\n",
       "\n",
       "    .dataframe tbody tr th {\n",
       "        vertical-align: top;\n",
       "    }\n",
       "\n",
       "    .dataframe thead th {\n",
       "        text-align: right;\n",
       "    }\n",
       "</style>\n",
       "<table border=\"1\" class=\"dataframe\">\n",
       "  <thead>\n",
       "    <tr style=\"text-align: right;\">\n",
       "      <th></th>\n",
       "      <th>Title</th>\n",
       "      <th>Rating</th>\n",
       "      <th>Employee_Status</th>\n",
       "      <th>Pros</th>\n",
       "      <th>Cons</th>\n",
       "      <th>Date_Posted</th>\n",
       "      <th>Employee_Title</th>\n",
       "      <th>Location</th>\n",
       "      <th>Unnamed: 9</th>\n",
       "      <th>all_features</th>\n",
       "    </tr>\n",
       "  </thead>\n",
       "  <tbody>\n",
       "    <tr>\n",
       "      <th>0</th>\n",
       "      <td>Great Culture and Company That Cares</td>\n",
       "      <td>4</td>\n",
       "      <td>Current Employee</td>\n",
       "      <td>Not much politics and very few ego's. Everyone...</td>\n",
       "      <td>Need to focus on career growth and promoting w...</td>\n",
       "      <td>13-Jan-21</td>\n",
       "      <td>Senior Corporate Recruiter in Troy</td>\n",
       "      <td>MI</td>\n",
       "      <td>NaN</td>\n",
       "      <td>Great Culture and Company That Cares Not much ...</td>\n",
       "    </tr>\n",
       "    <tr>\n",
       "      <th>1</th>\n",
       "      <td>Shaping the Future of Mobility!</td>\n",
       "      <td>5</td>\n",
       "      <td>Current Employee, more than 1 year</td>\n",
       "      <td>Global Work Environment, Cutting Edge Technolo...</td>\n",
       "      <td>None to mention at this time.</td>\n",
       "      <td>14-Apr-21</td>\n",
       "      <td>Program Manager in Dublin</td>\n",
       "      <td>Dublin</td>\n",
       "      <td>NaN</td>\n",
       "      <td>Shaping the Future of Mobility! Global Work En...</td>\n",
       "    </tr>\n",
       "    <tr>\n",
       "      <th>2</th>\n",
       "      <td>Lots of potential- getting there</td>\n",
       "      <td>4</td>\n",
       "      <td>Current Employee, more than 1 year</td>\n",
       "      <td>A very fast paced environment - you definitely...</td>\n",
       "      <td>Training and coaching could be better- high ex...</td>\n",
       "      <td>22-May-21</td>\n",
       "      <td>SCM in Dublin</td>\n",
       "      <td>Dublin</td>\n",
       "      <td>NaN</td>\n",
       "      <td>Lots of potential- getting there A very fast p...</td>\n",
       "    </tr>\n",
       "    <tr>\n",
       "      <th>3</th>\n",
       "      <td>Alright but not the best</td>\n",
       "      <td>3</td>\n",
       "      <td>Current Employee, more than 1 year</td>\n",
       "      <td>Excellent office, good staff, good pay, good b...</td>\n",
       "      <td>Dis organised, office politics at mid/top leve...</td>\n",
       "      <td>08-Mar-21</td>\n",
       "      <td>Business Analyst in Dublin</td>\n",
       "      <td>Dublin</td>\n",
       "      <td>NaN</td>\n",
       "      <td>Alright but not the best Excellent office, goo...</td>\n",
       "    </tr>\n",
       "    <tr>\n",
       "      <th>4</th>\n",
       "      <td>Aptiv</td>\n",
       "      <td>3</td>\n",
       "      <td>Current Employee</td>\n",
       "      <td>It is one of the leaders in the automotive ind...</td>\n",
       "      <td>High pressure for hitting numbers, it is more ...</td>\n",
       "      <td>07-Nov-20</td>\n",
       "      <td>Supply Chain in Dublin</td>\n",
       "      <td>Dublin</td>\n",
       "      <td>NaN</td>\n",
       "      <td>Aptiv It is one of the leaders in the automoti...</td>\n",
       "    </tr>\n",
       "  </tbody>\n",
       "</table>\n",
       "</div>"
      ],
      "text/plain": [
       "                                  Title  Rating  \\\n",
       "0  Great Culture and Company That Cares       4   \n",
       "1       Shaping the Future of Mobility!       5   \n",
       "2      Lots of potential- getting there       4   \n",
       "3              Alright but not the best       3   \n",
       "4                                 Aptiv       3   \n",
       "\n",
       "                      Employee_Status  \\\n",
       "0                    Current Employee   \n",
       "1  Current Employee, more than 1 year   \n",
       "2  Current Employee, more than 1 year   \n",
       "3  Current Employee, more than 1 year   \n",
       "4                    Current Employee   \n",
       "\n",
       "                                                Pros  \\\n",
       "0  Not much politics and very few ego's. Everyone...   \n",
       "1  Global Work Environment, Cutting Edge Technolo...   \n",
       "2  A very fast paced environment - you definitely...   \n",
       "3  Excellent office, good staff, good pay, good b...   \n",
       "4  It is one of the leaders in the automotive ind...   \n",
       "\n",
       "                                                Cons Date_Posted  \\\n",
       "0  Need to focus on career growth and promoting w...   13-Jan-21   \n",
       "1                      None to mention at this time.   14-Apr-21   \n",
       "2  Training and coaching could be better- high ex...   22-May-21   \n",
       "3  Dis organised, office politics at mid/top leve...   08-Mar-21   \n",
       "4  High pressure for hitting numbers, it is more ...   07-Nov-20   \n",
       "\n",
       "                        Employee_Title Location Unnamed: 9  \\\n",
       "0   Senior Corporate Recruiter in Troy       MI        NaN   \n",
       "1            Program Manager in Dublin   Dublin        NaN   \n",
       "2                        SCM in Dublin   Dublin        NaN   \n",
       "3           Business Analyst in Dublin   Dublin        NaN   \n",
       "4               Supply Chain in Dublin   Dublin        NaN   \n",
       "\n",
       "                                        all_features  \n",
       "0  Great Culture and Company That Cares Not much ...  \n",
       "1  Shaping the Future of Mobility! Global Work En...  \n",
       "2  Lots of potential- getting there A very fast p...  \n",
       "3  Alright but not the best Excellent office, goo...  \n",
       "4  Aptiv It is one of the leaders in the automoti...  "
      ]
     },
     "execution_count": 6,
     "metadata": {},
     "output_type": "execute_result"
    }
   ],
   "source": [
    "# Combine the different review columns\n",
    "def combined_features(row):\n",
    "    return row['Title'] + ' '+ row['Pros'] + ' '+ row['Cons']\n",
    "df['all_features'] = df.apply(combined_features, axis=1)\n",
    "df.head()"
   ]
  },
  {
   "cell_type": "code",
   "execution_count": null,
   "id": "c306f0e9",
   "metadata": {},
   "outputs": [],
   "source": []
  },
  {
   "cell_type": "markdown",
   "id": "95d97d64",
   "metadata": {},
   "source": [
    "### Data Analysis"
   ]
  },
  {
   "cell_type": "code",
   "execution_count": 31,
   "id": "cb381212",
   "metadata": {},
   "outputs": [],
   "source": [
    "# Adding the length of the review and the word count of each review\n",
    "df['review_len'] = df['all_features'].astype(str).apply(len)\n",
    "df['word_count'] = df['all_features'].apply(lambda x: len(str(x).split()))\n",
    "df['Pros_len'] = df['Pros'].astype(str).apply(len)\n",
    "df['Cons_len'] = df['Cons'].astype(str).apply(len)"
   ]
  },
  {
   "cell_type": "code",
   "execution_count": 32,
   "id": "1fe51263",
   "metadata": {},
   "outputs": [
    {
     "data": {
      "text/html": [
       "<div>\n",
       "<style scoped>\n",
       "    .dataframe tbody tr th:only-of-type {\n",
       "        vertical-align: middle;\n",
       "    }\n",
       "\n",
       "    .dataframe tbody tr th {\n",
       "        vertical-align: top;\n",
       "    }\n",
       "\n",
       "    .dataframe thead th {\n",
       "        text-align: right;\n",
       "    }\n",
       "</style>\n",
       "<table border=\"1\" class=\"dataframe\">\n",
       "  <thead>\n",
       "    <tr style=\"text-align: right;\">\n",
       "      <th></th>\n",
       "      <th>Title</th>\n",
       "      <th>Rating</th>\n",
       "      <th>Employee_Status</th>\n",
       "      <th>Pros</th>\n",
       "      <th>Cons</th>\n",
       "      <th>Date_Posted</th>\n",
       "      <th>Employee_Title</th>\n",
       "      <th>Location</th>\n",
       "      <th>Unnamed: 9</th>\n",
       "      <th>all_features</th>\n",
       "      <th>review_len</th>\n",
       "      <th>word_count</th>\n",
       "      <th>polarity</th>\n",
       "      <th>Pros_len</th>\n",
       "      <th>Cons_len</th>\n",
       "    </tr>\n",
       "  </thead>\n",
       "  <tbody>\n",
       "    <tr>\n",
       "      <th>0</th>\n",
       "      <td>Great Culture and Company That Cares</td>\n",
       "      <td>4</td>\n",
       "      <td>Current Employee</td>\n",
       "      <td>Not much politics and very few ego's. Everyone...</td>\n",
       "      <td>Need to focus on career growth and promoting w...</td>\n",
       "      <td>13-Jan-21</td>\n",
       "      <td>Senior Corporate Recruiter in Troy</td>\n",
       "      <td>MI</td>\n",
       "      <td>NaN</td>\n",
       "      <td>Great Culture and Company That Cares Not much ...</td>\n",
       "      <td>342</td>\n",
       "      <td>58</td>\n",
       "      <td>0.193286</td>\n",
       "      <td>173</td>\n",
       "      <td>131</td>\n",
       "    </tr>\n",
       "    <tr>\n",
       "      <th>1</th>\n",
       "      <td>Shaping the Future of Mobility!</td>\n",
       "      <td>5</td>\n",
       "      <td>Current Employee, more than 1 year</td>\n",
       "      <td>Global Work Environment, Cutting Edge Technolo...</td>\n",
       "      <td>None to mention at this time.</td>\n",
       "      <td>14-Apr-21</td>\n",
       "      <td>Program Manager in Dublin</td>\n",
       "      <td>Dublin</td>\n",
       "      <td>NaN</td>\n",
       "      <td>Shaping the Future of Mobility! Global Work En...</td>\n",
       "      <td>141</td>\n",
       "      <td>20</td>\n",
       "      <td>-0.025000</td>\n",
       "      <td>79</td>\n",
       "      <td>29</td>\n",
       "    </tr>\n",
       "    <tr>\n",
       "      <th>2</th>\n",
       "      <td>Lots of potential- getting there</td>\n",
       "      <td>4</td>\n",
       "      <td>Current Employee, more than 1 year</td>\n",
       "      <td>A very fast paced environment - you definitely...</td>\n",
       "      <td>Training and coaching could be better- high ex...</td>\n",
       "      <td>22-May-21</td>\n",
       "      <td>SCM in Dublin</td>\n",
       "      <td>Dublin</td>\n",
       "      <td>NaN</td>\n",
       "      <td>Lots of potential- getting there A very fast p...</td>\n",
       "      <td>531</td>\n",
       "      <td>89</td>\n",
       "      <td>0.188991</td>\n",
       "      <td>379</td>\n",
       "      <td>118</td>\n",
       "    </tr>\n",
       "    <tr>\n",
       "      <th>3</th>\n",
       "      <td>Alright but not the best</td>\n",
       "      <td>3</td>\n",
       "      <td>Current Employee, more than 1 year</td>\n",
       "      <td>Excellent office, good staff, good pay, good b...</td>\n",
       "      <td>Dis organised, office politics at mid/top leve...</td>\n",
       "      <td>08-Mar-21</td>\n",
       "      <td>Business Analyst in Dublin</td>\n",
       "      <td>Dublin</td>\n",
       "      <td>NaN</td>\n",
       "      <td>Alright but not the best Excellent office, goo...</td>\n",
       "      <td>160</td>\n",
       "      <td>25</td>\n",
       "      <td>0.616667</td>\n",
       "      <td>53</td>\n",
       "      <td>81</td>\n",
       "    </tr>\n",
       "    <tr>\n",
       "      <th>4</th>\n",
       "      <td>Aptiv</td>\n",
       "      <td>3</td>\n",
       "      <td>Current Employee</td>\n",
       "      <td>It is one of the leaders in the automotive ind...</td>\n",
       "      <td>High pressure for hitting numbers, it is more ...</td>\n",
       "      <td>07-Nov-20</td>\n",
       "      <td>Supply Chain in Dublin</td>\n",
       "      <td>Dublin</td>\n",
       "      <td>NaN</td>\n",
       "      <td>Aptiv It is one of the leaders in the automoti...</td>\n",
       "      <td>300</td>\n",
       "      <td>53</td>\n",
       "      <td>0.100278</td>\n",
       "      <td>85</td>\n",
       "      <td>208</td>\n",
       "    </tr>\n",
       "  </tbody>\n",
       "</table>\n",
       "</div>"
      ],
      "text/plain": [
       "                                  Title  Rating  \\\n",
       "0  Great Culture and Company That Cares       4   \n",
       "1       Shaping the Future of Mobility!       5   \n",
       "2      Lots of potential- getting there       4   \n",
       "3              Alright but not the best       3   \n",
       "4                                 Aptiv       3   \n",
       "\n",
       "                      Employee_Status  \\\n",
       "0                    Current Employee   \n",
       "1  Current Employee, more than 1 year   \n",
       "2  Current Employee, more than 1 year   \n",
       "3  Current Employee, more than 1 year   \n",
       "4                    Current Employee   \n",
       "\n",
       "                                                Pros  \\\n",
       "0  Not much politics and very few ego's. Everyone...   \n",
       "1  Global Work Environment, Cutting Edge Technolo...   \n",
       "2  A very fast paced environment - you definitely...   \n",
       "3  Excellent office, good staff, good pay, good b...   \n",
       "4  It is one of the leaders in the automotive ind...   \n",
       "\n",
       "                                                Cons Date_Posted  \\\n",
       "0  Need to focus on career growth and promoting w...   13-Jan-21   \n",
       "1                      None to mention at this time.   14-Apr-21   \n",
       "2  Training and coaching could be better- high ex...   22-May-21   \n",
       "3  Dis organised, office politics at mid/top leve...   08-Mar-21   \n",
       "4  High pressure for hitting numbers, it is more ...   07-Nov-20   \n",
       "\n",
       "                        Employee_Title Location Unnamed: 9  \\\n",
       "0   Senior Corporate Recruiter in Troy       MI        NaN   \n",
       "1            Program Manager in Dublin   Dublin        NaN   \n",
       "2                        SCM in Dublin   Dublin        NaN   \n",
       "3           Business Analyst in Dublin   Dublin        NaN   \n",
       "4               Supply Chain in Dublin   Dublin        NaN   \n",
       "\n",
       "                                        all_features  review_len  word_count  \\\n",
       "0  Great Culture and Company That Cares Not much ...         342          58   \n",
       "1  Shaping the Future of Mobility! Global Work En...         141          20   \n",
       "2  Lots of potential- getting there A very fast p...         531          89   \n",
       "3  Alright but not the best Excellent office, goo...         160          25   \n",
       "4  Aptiv It is one of the leaders in the automoti...         300          53   \n",
       "\n",
       "   polarity  Pros_len  Cons_len  \n",
       "0  0.193286       173       131  \n",
       "1 -0.025000        79        29  \n",
       "2  0.188991       379       118  \n",
       "3  0.616667        53        81  \n",
       "4  0.100278        85       208  "
      ]
     },
     "execution_count": 32,
     "metadata": {},
     "output_type": "execute_result"
    }
   ],
   "source": [
    "# Use textblob library to check for polarity\n",
    "# Counts positive and negative words and determines the polarity (-1, 1)\n",
    "from textblob import TextBlob, Word, Blobber\n",
    "df['polarity'] = df['all_features'].map(lambda text: TextBlob(text).sentiment.polarity)\n",
    "df.head()"
   ]
  },
  {
   "cell_type": "code",
   "execution_count": 9,
   "id": "53b2e1a2",
   "metadata": {},
   "outputs": [
    {
     "data": {
      "text/plain": [
       "array([[<AxesSubplot:title={'center':'review_len'}>,\n",
       "        <AxesSubplot:title={'center':'word_count'}>],\n",
       "       [<AxesSubplot:title={'center':'polarity'}>, <AxesSubplot:>]],\n",
       "      dtype=object)"
      ]
     },
     "execution_count": 9,
     "metadata": {},
     "output_type": "execute_result"
    },
    {
     "data": {
      "image/png": "[encoded data removed]",
      "text/plain": [
       "<Figure size 1080x720 with 4 Axes>"
      ]
     },
     "metadata": {
      "needs_background": "light"
     },
     "output_type": "display_data"
    }
   ],
   "source": [
    "# Distribution of the word count, review lengh and polarity\n",
    "df[[\"review_len\", \"word_count\", \"polarity\"]].hist(bins=20, figsize=(15, 10))\n",
    "\n",
    "# Distribution of review length and word count is similar\n",
    "# Majority polarity is above 0 - more reviews have a positive sentiment"
   ]
  },
  {
   "cell_type": "code",
   "execution_count": 23,
   "id": "f3f95692",
   "metadata": {},
   "outputs": [],
   "source": [
    "import matplotlib.pyplot as plt\n",
    "%matplotlib inline"
   ]
  },
  {
   "cell_type": "code",
   "execution_count": 11,
   "id": "bb37400f",
   "metadata": {},
   "outputs": [
    {
     "data": {
      "image/png": "[encoded data removed]",
      "text/plain": [
       "<Figure size 720x720 with 1 Axes>"
      ]
     },
     "metadata": {
      "needs_background": "light"
     },
     "output_type": "display_data"
    }
   ],
   "source": [
    "# Mean polarity keeps going up with the higher rating\n",
    "mean_pol = df.groupby('Rating')['polarity'].agg([np.mean])\n",
    "mean_pol.columns = ['mean_polarity']\n",
    "fig, ax = plt.subplots(figsize=(10, 10))\n",
    "plt.bar(mean_pol.index, mean_pol.mean_polarity, width=0.3)\n",
    "#plt.gca().set_xticklabels(mean_pol.index, fontdict={'size': 14})\n",
    "    \n",
    "for i in ax.patches:\n",
    "    ax.text(i.get_x(), i.get_height()+0.01, str(\"{:.2f}\".format(i.get_height())))\n",
    "plt.title(\"Polarity of Ratings\", fontsize=22)\n",
    "plt.ylabel(\"Polarity\", fontsize=16)\n",
    "plt.xlabel(\"Rating\", fontsize=16)\n",
    "plt.ylim(0, 0.5)\n",
    "plt.show()\n",
    "\n",
    "# ower ratings still not near -1"
   ]
  },
  {
   "cell_type": "code",
   "execution_count": 12,
   "id": "53ea4b33",
   "metadata": {},
   "outputs": [],
   "source": [
    "import seaborn as sns"
   ]
  },
  {
   "cell_type": "code",
   "execution_count": 13,
   "id": "1c3eb5d9",
   "metadata": {},
   "outputs": [
    {
     "name": "stdout",
     "output_type": "stream",
     "text": [
      "Rectangle(xy=(-0.4, 0), width=0.8, height=209, angle=0)\n",
      "209\n",
      "Rectangle(xy=(0.6, 0), width=0.8, height=145, angle=0)\n",
      "145\n",
      "Rectangle(xy=(1.6, 0), width=0.8, height=118, angle=0)\n",
      "118\n",
      "Rectangle(xy=(2.6, 0), width=0.8, height=58, angle=0)\n",
      "58\n",
      "Rectangle(xy=(3.6, 0), width=0.8, height=49, angle=0)\n",
      "49\n"
     ]
    },
    {
     "data": {
      "image/png": "[encoded data removed]",
      "text/plain": [
       "<Figure size 720x720 with 1 Axes>"
      ]
     },
     "metadata": {
      "needs_background": "light"
     },
     "output_type": "display_data"
    }
   ],
   "source": [
    "# Count of the reviews for each rating\n",
    "# Most reviews have a rating of 4\n",
    "plt.figure(figsize=(10,10))\n",
    "\n",
    "ax = sns.countplot(x=df['Rating'], data=df, order=df['Rating'].value_counts().index)\n",
    "for p, label in zip(ax.patches, df['Rating'].value_counts()):\n",
    "    print(p)\n",
    "    print(label)\n",
    "    ax.annotate(label, (p.get_x()+0.25, p.get_height()+0.5))"
   ]
  },
  {
   "cell_type": "code",
   "execution_count": 14,
   "id": "0363a6ca",
   "metadata": {},
   "outputs": [
    {
     "data": {
      "image/png": "[encoded data removed]",
      "text/plain": [
       "<Figure size 720x432 with 1 Axes>"
      ]
     },
     "metadata": {
      "needs_background": "light"
     },
     "output_type": "display_data"
    }
   ],
   "source": [
    "# Length of the review vs the rating\n",
    "# Check of the review length changes with rating\n",
    "# Hogher ratings have shorter reviews\n",
    "plt.figure(figsize=(10, 6))\n",
    "sns.pointplot(x = \"Rating\", y = \"review_len\", data = df)\n",
    "plt.xlabel(\"Rating\")\n",
    "plt.ylabel(\"Review Length\")\n",
    "plt.title(\"Product Rating vs Review Length\")\n",
    "plt.show()"
   ]
  },
  {
   "cell_type": "code",
   "execution_count": 15,
   "id": "42d75595",
   "metadata": {},
   "outputs": [],
   "source": [
    "mask = (df['Rating'] == 1) | (df['Rating'] == 2)\n",
    "df_rating_12 = df[mask]\n",
    "mask = (df['Rating'] == 4) | (df['Rating'] == 5) | (df['Rating'] == 3)\n",
    "df_rating_345 = df[mask]"
   ]
  },
  {
   "cell_type": "code",
   "execution_count": 16,
   "id": "b2e7c7e5",
   "metadata": {},
   "outputs": [
    {
     "name": "stdout",
     "output_type": "stream",
     "text": [
      "107\n",
      "472\n"
     ]
    }
   ],
   "source": [
    "print(len(df_rating_12))\n",
    "print(len(df_rating_345))"
   ]
  },
  {
   "cell_type": "code",
   "execution_count": 123,
   "id": "ef3a71c5",
   "metadata": {},
   "outputs": [],
   "source": [
    "# Average rating by year"
   ]
  },
  {
   "cell_type": "markdown",
   "id": "8517840a",
   "metadata": {},
   "source": [
    "### Positive and Negative Reveiw Comparsion"
   ]
  },
  {
   "cell_type": "code",
   "execution_count": 124,
   "id": "7ce31ac2",
   "metadata": {},
   "outputs": [
    {
     "name": "stderr",
     "output_type": "stream",
     "text": [
      "c:\\users\\xj30hh\\appdata\\local\\programs\\python\\python39\\lib\\site-packages\\seaborn\\distributions.py:2557: FutureWarning: `distplot` is a deprecated function and will be removed in a future version. Please adapt your code to use either `displot` (a figure-level function with similar flexibility) or `histplot` (an axes-level function for histograms).\n",
      "  warnings.warn(msg, FutureWarning)\n",
      "c:\\users\\xj30hh\\appdata\\local\\programs\\python\\python39\\lib\\site-packages\\seaborn\\distributions.py:2557: FutureWarning: `distplot` is a deprecated function and will be removed in a future version. Please adapt your code to use either `displot` (a figure-level function with similar flexibility) or `histplot` (an axes-level function for histograms).\n",
      "  warnings.warn(msg, FutureWarning)\n"
     ]
    },
    {
     "data": {
      "image/png": "[encoded data removed]",
      "text/plain": [
       "<Figure size 1152x432 with 1 Axes>"
      ]
     },
     "metadata": {
      "needs_background": "light"
     },
     "output_type": "display_data"
    }
   ],
   "source": [
    "fig, ax = plt.subplots(figsize=(16, 6), tight_layout=True)\n",
    "\n",
    "sns.distplot(df.Pros_len, color=\"red\", label='Positive Review Length')\n",
    "sns.distplot(df.Cons_len, color='blue', label='Negative Rview Length')\n",
    "ax.legend()\n",
    "ax.set(xlabel='total word count', ylabel='Frequency review length')\n",
    "plt.xlim(0, 500)\n",
    "plt.show()\n",
    "\n"
   ]
  },
  {
   "cell_type": "code",
   "execution_count": null,
   "id": "6d04d64e",
   "metadata": {},
   "outputs": [],
   "source": []
  },
  {
   "cell_type": "code",
   "execution_count": null,
   "id": "e2bffd93",
   "metadata": {},
   "outputs": [],
   "source": []
  },
  {
   "cell_type": "code",
   "execution_count": null,
   "id": "77ff1446",
   "metadata": {},
   "outputs": [],
   "source": []
  },
  {
   "cell_type": "code",
   "execution_count": null,
   "id": "e7833015",
   "metadata": {},
   "outputs": [],
   "source": []
  },
  {
   "cell_type": "code",
   "execution_count": null,
   "id": "c32d47d2",
   "metadata": {},
   "outputs": [],
   "source": []
  },
  {
   "cell_type": "code",
   "execution_count": 137,
   "id": "70c59f94",
   "metadata": {},
   "outputs": [
    {
     "data": {
      "image/png": "[encoded data removed]",
      "text/plain": [
       "<Figure size 576x396 with 1 Axes>"
      ]
     },
     "metadata": {},
     "output_type": "display_data"
    }
   ],
   "source": [
    "import pandas as pd\n",
    "from datetime import datetime, timedelta\n",
    "from matplotlib import pyplot as plt\n",
    "from matplotlib import dates as mpl_dates\n",
    "\n",
    "plt.style.use('seaborn')\n",
    "\n",
    "dates = [\n",
    "            datetime(2015, 1, 30), \n",
    "            datetime(2016, 1, 30), \n",
    "            datetime(2017, 1, 30), \n",
    "            datetime(2018, 1, 30), \n",
    "            datetime(2019, 1, 30)\n",
    "    ]\n",
    "\n",
    "y = [1, 2, 3, 4, 5]\n",
    "\n",
    "plt.plot_date(dates, y, linestyle='solid')\n",
    "\n",
    "plt.gcf().autofmt_xdate()\n",
    "\n",
    "date_format = mpl_dates.DateFormatter('%b, %d, %y')\n",
    "\n",
    "plt.gca().xaxis.set_major_formatter(date_format)\n",
    "\n",
    "\n",
    "\n",
    "\n",
    "\n"
   ]
  },
  {
   "cell_type": "code",
   "execution_count": 164,
   "id": "cec30b4b",
   "metadata": {},
   "outputs": [
    {
     "data": {
      "image/png": "[encoded data removed]",
      "text/plain": [
       "<Figure size 1440x432 with 1 Axes>"
      ]
     },
     "metadata": {},
     "output_type": "display_data"
    }
   ],
   "source": [
    "import pandas as pd\n",
    "from datetime import datetime, timedelta\n",
    "from matplotlib import pyplot as plt\n",
    "from matplotlib import dates as mpl_dates\n",
    "\n",
    "fig, ax = plt.subplots(figsize=(20, 6), tight_layout=True)\n",
    "\n",
    "plt.style.use('seaborn')\n",
    "\n",
    "# df['Date_Posted'] = pd.to_datetime( df['Date_Posted'])\n",
    "# df.sort_values('Date_Posted', inplace=True)\n",
    "\n",
    "df.index = pd.to_datetime(df['Date_Posted'],format='%m/%d/%y %I:%M%p')\n",
    "df.groupby(by=[df.index.month, df.index.year])\n",
    "\n",
    "df.groupby(pd.Grouper(freq='M'))\n",
    "\n",
    "review_date = df['Date_Posted']\n",
    "rating = df['Rating']\n",
    "\n",
    "#plt.bar(review_date, rating, linestyle='wide')\n",
    "\n",
    "plt.gcf().autofmt_xdate()\n",
    "\n",
    "plt.title('Rating Over The Years')\n",
    "plt.xlabel('Date')\n",
    "plt.ylabel('Rating')\n",
    "\n",
    "plt.tight_layout()\n",
    "\n",
    "plt.show()\n",
    "\n",
    "\n",
    "\n",
    "\n",
    "\n"
   ]
  },
  {
   "cell_type": "code",
   "execution_count": null,
   "id": "2dd078ae",
   "metadata": {},
   "outputs": [],
   "source": []
  }
 ],
 "metadata": {
  "kernelspec": {
   "display_name": "Python 3",
   "language": "python",
   "name": "python3"
  },
  "language_info": {
   "codemirror_mode": {
    "name": "ipython",
    "version": 3
   },
   "file_extension": ".py",
   "mimetype": "text/x-python",
   "name": "python",
   "nbconvert_exporter": "python",
   "pygments_lexer": "ipython3",
   "version": "3.9.2"
  }
 },
 "nbformat": 4,
 "nbformat_minor": 5
}
