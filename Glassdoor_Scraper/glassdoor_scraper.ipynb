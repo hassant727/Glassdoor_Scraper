{
 "metadata": {
  "language_info": {
   "codemirror_mode": {
    "name": "ipython",
    "version": 3
   },
   "file_extension": ".py",
   "mimetype": "text/x-python",
   "name": "python",
   "nbconvert_exporter": "python",
   "pygments_lexer": "ipython3",
   "version": "3.8.5"
  },
  "orig_nbformat": 2,
  "kernelspec": {
   "name": "python385jvsc74a57bd063d545d6b34b221bfcea102df6b615a60b093b240efbb248c70fd676f52e8a84",
   "display_name": "Python 3.8.5 64-bit ('base': conda)"
  }
 },
 "nbformat": 4,
 "nbformat_minor": 2,
 "cells": [
  {
   "cell_type": "code",
   "execution_count": 4,
   "metadata": {},
   "outputs": [
    {
     "output_type": "stream",
     "name": "stdout",
     "text": [
      "Title:  Great Culture and Company That Cares\nRating:  4.0\nDesignation:  Current Employee\npros:  Not much politics and very few ego's. Everyone is willing to help which is refreshing. Not very tough recruiting A Player Talent as Aptiv is a place where most want to work.\ncons:  Need to focus on career growth and promoting within. Not much movement with internal candidates which turns into employees leaving.\ndate & position:  13 Jan 2021 - Senior Corporate Recruiter\n\nTitle:  Shaping the Future of Mobility!\nRating:  5.0\nDesignation:  Current Employee, more than 1 year\npros:  Global Work Environment, Cutting Edge Technology Sector, Interesting Challenge\ncons:  None to mention at this time.\ndate & position:  14 Apr 2021 - Program Manager\n\nTitle:  Lots of potential- getting there\nRating:  4.0\nDesignation:  Current Employee, more than 1 year\npros:  A very fast paced environment - you definitely won't be bored and you learn lots in a short space of time\nA very global company- exciting to work with some many colleagues from all over the world, if a little daunting at first\nYou can make decisions fast - less bureaucracy that other companies\nReally nice office facilities, young energetic team of people, good work colleagues.\ncons:  Training and coaching could be better- high expectations but needs more structure and stability to help people succeed\ndate & position:  22 May 2021 - SCM\n\nTitle:  Good working place\nRating:  4.0\nDesignation:  Former Employee, more than 1 year\npros:  good package comparing to other companie\ncons:  IT chaos in terms of org and proce\ndate & position:  3 Jun 2021 - Solutions Architect\n\nTitle:  Alright but not the best\nRating:  3.0\nDesignation:  Current Employee, more than 1 year\npros:  Excellent office, good staff, good pay, good benefit\ncons:  Dis organised, office politics at mid/top level, not sociable, some poor manager\ndate & position:  8 Mar 2021 - Business Analyst\n\nTitle:  Aptiv\nRating:  3.0\nDesignation:  Current Employee\npros:  It is one of the leaders in the automotive industry in the tier-1 supplier's segment.\ncons:  High pressure for hitting numbers, it is more important than people. You feel that no reasons are valid if you don't hit the numbers. It is typical behavior in US companies, I have worked in other previously.\ndate & position:  7 Nov 2020 - Supply Chain\n\nTitle:  Black stain on the IDA - Kevin and Joe Show - no encore needed\nRating:  1.0\nDesignation:  Current Employee, less than 1 year\npros:  The marketing department is great at creating positive reviews on glassdoor. Disregard the obvious fake reviews, challenging work environment is short for toxic and unraveling as a recent million dollar survey announced. \n\nCan be hard to get your head around the global scale and complex divisional structures really means aptiv is full of fiefdom, to get anything done you need to follow a broken process using broken systems for no thought out reason for no recognition.\n\nQuestion anything - fired. have an opinion - fired. talk out of turn - fired. try something different - fired. \n\nThe fear and toxic culture comes from CEO CFO dynamic duo all they way down - the need to impress wall street at all costs means nothing matters only numbers. Culture is a joke there is none. \n\nThey are Trumpian rip off merchants overpaying themselves to fly all over the world telling people how important they are, Look out for them with their begging bowl in the coming months.\ncons:  Everything about this place is a con. Dont worry they will be shedding most of the irish workforce soon enough and move onto the next country willing to put up with the Kevin and Joe show.\ndate & position:  11 May 2020 - Financial Analyst\n\nTitle:  Good working place\nRating:  4.0\nDesignation:  Former Employee\npros:  good package comparing to other companie\ncons:  IT chaos in terms of org and proce\ndate & position:  7 Nov 2020 - Solutions Architect\n\nTitle:  Bad culture, no HR alignment\nRating:  1.0\nDesignation:  Current Employee, more than 3 years\npros:  Fairly okay salary, key stakeholders good to work with\ncons:  HR is all over the place, no centralised HR, global comms are not aligned with local comms, miscommunication, favoritism, no annual bonus, poor incentives for HR team\ndate & position:  13 Jan 2021 - Human Resources Business Partner HRBP\n\nTitle:  Very good company advancing the technology for a safer, greener solutions for the future of mobility.\nRating:  5.0\nDesignation:  Current Employee\npros:  - Good base salary\n- Strong leadership\n- Friendly people\n- Very good vision\n- Commendable CSR activitie\ncons:  - Bonus is a bit low\n- Stock compensation is only available to executive\ndate & position:  10 Aug 2020 - EMEA Internal Audit, Sox & Compliance\n\n"
     ]
    },
    {
     "output_type": "error",
     "ename": "ElementNotInteractableException",
     "evalue": "Message: element not interactable\n  (Session info: chrome=91.0.4472.77)\n",
     "traceback": [
      "\u001b[1;31m---------------------------------------------------------------------------\u001b[0m",
      "\u001b[1;31mElementNotInteractableException\u001b[0m           Traceback (most recent call last)",
      "\u001b[1;32m<ipython-input-4-ab813ff5e5f9>\u001b[0m in \u001b[0;36m<module>\u001b[1;34m\u001b[0m\n\u001b[0;32m     35\u001b[0m     \u001b[0mdriver\u001b[0m\u001b[1;33m.\u001b[0m\u001b[0mfind_element_by_xpath\u001b[0m\u001b[1;33m(\u001b[0m\u001b[1;34m\"/html/body/header/nav[1]/div/div/div/div[1]/button\"\u001b[0m\u001b[1;33m)\u001b[0m\u001b[1;33m.\u001b[0m\u001b[0mclick\u001b[0m\u001b[1;33m(\u001b[0m\u001b[1;33m)\u001b[0m\u001b[1;33m\u001b[0m\u001b[1;33m\u001b[0m\u001b[0m\n\u001b[0;32m     36\u001b[0m     \u001b[0mtime\u001b[0m\u001b[1;33m.\u001b[0m\u001b[0msleep\u001b[0m\u001b[1;33m(\u001b[0m\u001b[1;36m5\u001b[0m\u001b[1;33m)\u001b[0m\u001b[1;33m\u001b[0m\u001b[1;33m\u001b[0m\u001b[0m\n\u001b[1;32m---> 37\u001b[1;33m     \u001b[0mdriver\u001b[0m\u001b[1;33m.\u001b[0m\u001b[0mfind_element_by_xpath\u001b[0m\u001b[1;33m(\u001b[0m\u001b[1;34m\"/html/body/div[11]/div/div/div[2]/div[2]/div[2]/div/div/div/div[3]/form/div[1]/div/div/input\"\u001b[0m\u001b[1;33m)\u001b[0m\u001b[1;33m.\u001b[0m\u001b[0msend_keys\u001b[0m\u001b[1;33m(\u001b[0m\u001b[0muserEmail\u001b[0m\u001b[1;33m)\u001b[0m\u001b[1;33m\u001b[0m\u001b[1;33m\u001b[0m\u001b[0m\n\u001b[0m\u001b[0;32m     38\u001b[0m     \u001b[0mdriver\u001b[0m\u001b[1;33m.\u001b[0m\u001b[0mfind_element_by_xpath\u001b[0m\u001b[1;33m(\u001b[0m\u001b[1;34m\"/html/body/div[11]/div/div/div[2]/div[2]/div[2]/div/div/div/div[3]/form/div[2]/div/div/input\"\u001b[0m\u001b[1;33m)\u001b[0m\u001b[1;33m.\u001b[0m\u001b[0msend_keys\u001b[0m\u001b[1;33m(\u001b[0m\u001b[0muserPassword\u001b[0m\u001b[1;33m)\u001b[0m\u001b[1;33m\u001b[0m\u001b[1;33m\u001b[0m\u001b[0m\n\u001b[0;32m     39\u001b[0m     \u001b[0mdriver\u001b[0m\u001b[1;33m.\u001b[0m\u001b[0mfind_element_by_xpath\u001b[0m\u001b[1;33m(\u001b[0m\u001b[1;34m\"/html/body/div[11]/div/div/div[2]/div[2]/div[2]/div/div/div/div[3]/form/div[3]/div[1]/button\"\u001b[0m\u001b[1;33m)\u001b[0m\u001b[1;33m.\u001b[0m\u001b[0mclick\u001b[0m\u001b[1;33m(\u001b[0m\u001b[1;33m)\u001b[0m\u001b[1;33m\u001b[0m\u001b[1;33m\u001b[0m\u001b[0m\n",
      "\u001b[1;32m~\\anaconda3\\lib\\site-packages\\selenium\\webdriver\\remote\\webelement.py\u001b[0m in \u001b[0;36msend_keys\u001b[1;34m(self, *value)\u001b[0m\n\u001b[0;32m    475\u001b[0m                 \u001b[0mvalue\u001b[0m \u001b[1;33m=\u001b[0m \u001b[0mself\u001b[0m\u001b[1;33m.\u001b[0m\u001b[0m_upload\u001b[0m\u001b[1;33m(\u001b[0m\u001b[0mlocal_file\u001b[0m\u001b[1;33m)\u001b[0m\u001b[1;33m\u001b[0m\u001b[1;33m\u001b[0m\u001b[0m\n\u001b[0;32m    476\u001b[0m \u001b[1;33m\u001b[0m\u001b[0m\n\u001b[1;32m--> 477\u001b[1;33m         self._execute(Command.SEND_KEYS_TO_ELEMENT,\n\u001b[0m\u001b[0;32m    478\u001b[0m                       {'text': \"\".join(keys_to_typing(value)),\n\u001b[0;32m    479\u001b[0m                        'value': keys_to_typing(value)})\n",
      "\u001b[1;32m~\\anaconda3\\lib\\site-packages\\selenium\\webdriver\\remote\\webelement.py\u001b[0m in \u001b[0;36m_execute\u001b[1;34m(self, command, params)\u001b[0m\n\u001b[0;32m    631\u001b[0m             \u001b[0mparams\u001b[0m \u001b[1;33m=\u001b[0m \u001b[1;33m{\u001b[0m\u001b[1;33m}\u001b[0m\u001b[1;33m\u001b[0m\u001b[1;33m\u001b[0m\u001b[0m\n\u001b[0;32m    632\u001b[0m         \u001b[0mparams\u001b[0m\u001b[1;33m[\u001b[0m\u001b[1;34m'id'\u001b[0m\u001b[1;33m]\u001b[0m \u001b[1;33m=\u001b[0m \u001b[0mself\u001b[0m\u001b[1;33m.\u001b[0m\u001b[0m_id\u001b[0m\u001b[1;33m\u001b[0m\u001b[1;33m\u001b[0m\u001b[0m\n\u001b[1;32m--> 633\u001b[1;33m         \u001b[1;32mreturn\u001b[0m \u001b[0mself\u001b[0m\u001b[1;33m.\u001b[0m\u001b[0m_parent\u001b[0m\u001b[1;33m.\u001b[0m\u001b[0mexecute\u001b[0m\u001b[1;33m(\u001b[0m\u001b[0mcommand\u001b[0m\u001b[1;33m,\u001b[0m \u001b[0mparams\u001b[0m\u001b[1;33m)\u001b[0m\u001b[1;33m\u001b[0m\u001b[1;33m\u001b[0m\u001b[0m\n\u001b[0m\u001b[0;32m    634\u001b[0m \u001b[1;33m\u001b[0m\u001b[0m\n\u001b[0;32m    635\u001b[0m     \u001b[1;32mdef\u001b[0m \u001b[0mfind_element\u001b[0m\u001b[1;33m(\u001b[0m\u001b[0mself\u001b[0m\u001b[1;33m,\u001b[0m \u001b[0mby\u001b[0m\u001b[1;33m=\u001b[0m\u001b[0mBy\u001b[0m\u001b[1;33m.\u001b[0m\u001b[0mID\u001b[0m\u001b[1;33m,\u001b[0m \u001b[0mvalue\u001b[0m\u001b[1;33m=\u001b[0m\u001b[1;32mNone\u001b[0m\u001b[1;33m)\u001b[0m\u001b[1;33m:\u001b[0m\u001b[1;33m\u001b[0m\u001b[1;33m\u001b[0m\u001b[0m\n",
      "\u001b[1;32m~\\anaconda3\\lib\\site-packages\\selenium\\webdriver\\remote\\webdriver.py\u001b[0m in \u001b[0;36mexecute\u001b[1;34m(self, driver_command, params)\u001b[0m\n\u001b[0;32m    319\u001b[0m         \u001b[0mresponse\u001b[0m \u001b[1;33m=\u001b[0m \u001b[0mself\u001b[0m\u001b[1;33m.\u001b[0m\u001b[0mcommand_executor\u001b[0m\u001b[1;33m.\u001b[0m\u001b[0mexecute\u001b[0m\u001b[1;33m(\u001b[0m\u001b[0mdriver_command\u001b[0m\u001b[1;33m,\u001b[0m \u001b[0mparams\u001b[0m\u001b[1;33m)\u001b[0m\u001b[1;33m\u001b[0m\u001b[1;33m\u001b[0m\u001b[0m\n\u001b[0;32m    320\u001b[0m         \u001b[1;32mif\u001b[0m \u001b[0mresponse\u001b[0m\u001b[1;33m:\u001b[0m\u001b[1;33m\u001b[0m\u001b[1;33m\u001b[0m\u001b[0m\n\u001b[1;32m--> 321\u001b[1;33m             \u001b[0mself\u001b[0m\u001b[1;33m.\u001b[0m\u001b[0merror_handler\u001b[0m\u001b[1;33m.\u001b[0m\u001b[0mcheck_response\u001b[0m\u001b[1;33m(\u001b[0m\u001b[0mresponse\u001b[0m\u001b[1;33m)\u001b[0m\u001b[1;33m\u001b[0m\u001b[1;33m\u001b[0m\u001b[0m\n\u001b[0m\u001b[0;32m    322\u001b[0m             response['value'] = self._unwrap_value(\n\u001b[0;32m    323\u001b[0m                 response.get('value', None))\n",
      "\u001b[1;32m~\\anaconda3\\lib\\site-packages\\selenium\\webdriver\\remote\\errorhandler.py\u001b[0m in \u001b[0;36mcheck_response\u001b[1;34m(self, response)\u001b[0m\n\u001b[0;32m    240\u001b[0m                 \u001b[0malert_text\u001b[0m \u001b[1;33m=\u001b[0m \u001b[0mvalue\u001b[0m\u001b[1;33m[\u001b[0m\u001b[1;34m'alert'\u001b[0m\u001b[1;33m]\u001b[0m\u001b[1;33m.\u001b[0m\u001b[0mget\u001b[0m\u001b[1;33m(\u001b[0m\u001b[1;34m'text'\u001b[0m\u001b[1;33m)\u001b[0m\u001b[1;33m\u001b[0m\u001b[1;33m\u001b[0m\u001b[0m\n\u001b[0;32m    241\u001b[0m             \u001b[1;32mraise\u001b[0m \u001b[0mexception_class\u001b[0m\u001b[1;33m(\u001b[0m\u001b[0mmessage\u001b[0m\u001b[1;33m,\u001b[0m \u001b[0mscreen\u001b[0m\u001b[1;33m,\u001b[0m \u001b[0mstacktrace\u001b[0m\u001b[1;33m,\u001b[0m \u001b[0malert_text\u001b[0m\u001b[1;33m)\u001b[0m\u001b[1;33m\u001b[0m\u001b[1;33m\u001b[0m\u001b[0m\n\u001b[1;32m--> 242\u001b[1;33m         \u001b[1;32mraise\u001b[0m \u001b[0mexception_class\u001b[0m\u001b[1;33m(\u001b[0m\u001b[0mmessage\u001b[0m\u001b[1;33m,\u001b[0m \u001b[0mscreen\u001b[0m\u001b[1;33m,\u001b[0m \u001b[0mstacktrace\u001b[0m\u001b[1;33m)\u001b[0m\u001b[1;33m\u001b[0m\u001b[1;33m\u001b[0m\u001b[0m\n\u001b[0m\u001b[0;32m    243\u001b[0m \u001b[1;33m\u001b[0m\u001b[0m\n\u001b[0;32m    244\u001b[0m     \u001b[1;32mdef\u001b[0m \u001b[0m_value_or_default\u001b[0m\u001b[1;33m(\u001b[0m\u001b[0mself\u001b[0m\u001b[1;33m,\u001b[0m \u001b[0mobj\u001b[0m\u001b[1;33m,\u001b[0m \u001b[0mkey\u001b[0m\u001b[1;33m,\u001b[0m \u001b[0mdefault\u001b[0m\u001b[1;33m)\u001b[0m\u001b[1;33m:\u001b[0m\u001b[1;33m\u001b[0m\u001b[1;33m\u001b[0m\u001b[0m\n",
      "\u001b[1;31mElementNotInteractableException\u001b[0m: Message: element not interactable\n  (Session info: chrome=91.0.4472.77)\n"
     ]
    }
   ],
   "source": [
    "     \n",
    "import requests\n",
    "from bs4 import BeautifulSoup\n",
    "import selenium\n",
    "import pandas as pd\n",
    "from selenium import webdriver\n",
    "from datetime import datetime, date, time\n",
    "import time\n",
    " \n",
    "\n",
    "# url = \"https://www.glassdoor.ie/Reviews/Aptiv-Reviews-E1891089.htm?filter.iso3Language=eng\"\n",
    "# driver.get(url)\n",
    "\n",
    "noofpages = range(1, 53,1)\n",
    "\n",
    "for page in noofpages:\n",
    "    options = webdriver.ChromeOptions()\n",
    "    options.add_argument(\"--ignore-certificate-errors\")\n",
    "    options.add_argument(\"--incognito\")\n",
    "    #options.add_argument('--headless')\n",
    "    options.add_experimental_option('excludeSwitches', ['enable-logging'])\n",
    "    driver = webdriver.Chrome(options=options)\n",
    "    driver.implicitly_wait(100)\n",
    " \n",
    "     \n",
    "    url = \"https://www.glassdoor.ie/Reviews/Aptiv-Reviews-E1891089_P{}.htm?filter.iso3Language=eng\"\n",
    "    url = url.format(page)\n",
    "    \n",
    "    driver.get(url)\n",
    "    html_soup = BeautifulSoup(driver.page_source, \"html.parser\")\n",
    "    containers = html_soup.find_all(\"div\", class_=\"gdReview\")\n",
    "    \n",
    "    userEmail = \"hassan.tariq@aptiv.com\"\n",
    "    userPassword = \"REKucuV4\"\n",
    "    \n",
    "    driver.find_element_by_xpath(\"/html/body/header/nav[1]/div/div/div/div[1]/button\").click()\n",
    "    time.sleep(5)\n",
    "    driver.find_element_by_xpath(\"/html/body/div[11]/div/div/div[2]/div[2]/div[2]/div/div/div/div[3]/form/div[1]/div/div/input\").send_keys(userEmail)\n",
    "    driver.find_element_by_xpath(\"/html/body/div[11]/div/div/div[2]/div[2]/div[2]/div/div/div/div[3]/form/div[2]/div/div/input\").send_keys(userPassword)\n",
    "    driver.find_element_by_xpath(\"/html/body/div[11]/div/div/div[2]/div[2]/div[2]/div/div/div/div[3]/form/div[3]/div[1]/button\").click()\n",
    "    time.sleep(5)\n",
    "    # read = driver.find_element_by_class_name(\"v2__EIReviewDetailsV2__continueReading v2__EIReviewDetailsV2__clickable v2__EIReviewDetailsV2__newUiCta mb\")\n",
    "    # read.click()\n",
    "    \n",
    "    for container in containers:\n",
    "    \n",
    "        review_title = container.find('a', class_=\"reviewLink\")\n",
    "        review_title = review_title.text\n",
    "        print('Title: ', review_title)\n",
    "    \n",
    "        rating = container.find('span', class_='ratingNumber mr-xsm')\n",
    "        rating = rating.text\n",
    "        print('Rating: ', rating)\n",
    "    \n",
    "        employee_Status = container.find('span', class_='pt-xsm pt-md-0 css-1qxtz39 eg4psks0')\n",
    "        employee_Status = employee_Status.text\n",
    "        print('Designation: ', employee_Status)\n",
    "    \n",
    "        rev_text = container.find('div', class_=\"v2__EIReviewDetailsV2__fullWidth\")\n",
    "        pros = rev_text.text\n",
    "        pros = pros.strip('Pros')\n",
    "        cons = rev_text.next_sibling.text\n",
    "        cons = cons.strip('Cons')\n",
    "        #advise = rev_text.next_sibling.next_sibling.text\n",
    "        #advise = advise.strip('Advice to Management')\n",
    "        print('pros: ', pros)\n",
    "        print('cons: ', cons)\n",
    "        #print('advise: ', advise)\n",
    "    \n",
    "    \n",
    "        date_posted = container.find('span', class_='authorJobTitle middle common__EiReviewDetailsStyle__newGrey')\n",
    "        date_posted = date_posted.text\n",
    "        print('date & position: ', date_posted)\n",
    "    \n",
    "        # author_info = container.find('span', class_='authorLocation')\n",
    "        # author_info = author_info.text\n",
    "        # print('Author Info: ', author_info)\n",
    "    \n",
    "        print()"
   ]
  },
  {
   "cell_type": "code",
   "execution_count": null,
   "metadata": {},
   "outputs": [],
   "source": []
  }
 ]
}