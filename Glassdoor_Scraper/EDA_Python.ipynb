{
 "cells": [
  {
   "cell_type": "code",
   "execution_count": 20,
   "id": "5e3babe3",
   "metadata": {},
   "outputs": [],
   "source": [
    "# Extract keyords and important topics\n",
    "# Wordcloud to show the ones that occur the most often\n",
    "# Visualizations between employee title, tenure, department and the rating they gave"
   ]
  },
  {
   "cell_type": "code",
   "execution_count": 21,
   "id": "64fb603b",
   "metadata": {},
   "outputs": [],
   "source": [
    "# Heatmap on a map of the world for grades by location"
   ]
  },
  {
   "cell_type": "code",
   "execution_count": 22,
   "id": "495344b6",
   "metadata": {},
   "outputs": [],
   "source": [
    "# Extract the top N positives and negative points that come up in reviews"
   ]
  },
  {
   "cell_type": "code",
   "execution_count": 23,
   "id": "89c37bb6",
   "metadata": {},
   "outputs": [],
   "source": [
    "# General sentiment about the company - different segments of the employee population.\n",
    "\n",
    "# > What are the segments of people we are interested in? Everyone? Mangers and up?\n",
    "# > What do we want to know about them? How they feel about the company\n",
    "# > Why do they feel that way? - Topic Extraction and Clustering\n",
    "# > How has this changed through time? Were people giving better reviews in 2018?"
   ]
  },
  {
   "cell_type": "code",
   "execution_count": 24,
   "id": "cd3dac81",
   "metadata": {},
   "outputs": [],
   "source": [
    "import pandas as pd\n",
    "import numpy as np\n",
    "import seaborn as sns\n",
    "import matplotlib.pyplot as plt\n",
    "import os\n",
    "%matplotlib inline\n",
    "import string"
   ]
  },
  {
   "cell_type": "code",
   "execution_count": 25,
   "id": "eca3181a",
   "metadata": {},
   "outputs": [],
   "source": [
    "import plotly as py\n",
    "import cufflinks as cf"
   ]
  },
  {
   "cell_type": "code",
   "execution_count": 26,
   "id": "767fae3b",
   "metadata": {},
   "outputs": [
    {
     "data": {
      "text/html": [
       "        <script type=\"text/javascript\">\n",
       "        window.PlotlyConfig = {MathJaxConfig: 'local'};\n",
       "        if (window.MathJax) {MathJax.Hub.Config({SVG: {font: \"STIX-Web\"}});}\n",
       "        if (typeof require !== 'undefined') {\n",
       "        require.undef(\"plotly\");\n",
       "        requirejs.config({\n",
       "            paths: {\n",
       "                'plotly': ['https://cdn.plot.ly/plotly-latest.min']\n",
       "            }\n",
       "        });\n",
       "        require(['plotly'], function(Plotly) {\n",
       "            window._Plotly = Plotly;\n",
       "        });\n",
       "        }\n",
       "        </script>\n",
       "        "
      ]
     },
     "metadata": {},
     "output_type": "display_data"
    },
    {
     "data": {
      "text/html": [
       "        <script type=\"text/javascript\">\n",
       "        window.PlotlyConfig = {MathJaxConfig: 'local'};\n",
       "        if (window.MathJax) {MathJax.Hub.Config({SVG: {font: \"STIX-Web\"}});}\n",
       "        if (typeof require !== 'undefined') {\n",
       "        require.undef(\"plotly\");\n",
       "        requirejs.config({\n",
       "            paths: {\n",
       "                'plotly': ['https://cdn.plot.ly/plotly-latest.min']\n",
       "            }\n",
       "        });\n",
       "        require(['plotly'], function(Plotly) {\n",
       "            window._Plotly = Plotly;\n",
       "        });\n",
       "        }\n",
       "        </script>\n",
       "        "
      ]
     },
     "metadata": {},
     "output_type": "display_data"
    }
   ],
   "source": [
    "from plotly.offline import iplot\n",
    "py.offline.init_notebook_mode(connected=True)\n",
    "cf.go_offline()"
   ]
  },
  {
   "cell_type": "markdown",
   "id": "dfefe13d",
   "metadata": {},
   "source": [
    "### Data import"
   ]
  },
  {
   "cell_type": "code",
   "execution_count": 39,
   "id": "d9a55d87",
   "metadata": {},
   "outputs": [
    {
     "data": {
      "text/html": [
       "<div>\n",
       "<style scoped>\n",
       "    .dataframe tbody tr th:only-of-type {\n",
       "        vertical-align: middle;\n",
       "    }\n",
       "\n",
       "    .dataframe tbody tr th {\n",
       "        vertical-align: top;\n",
       "    }\n",
       "\n",
       "    .dataframe thead th {\n",
       "        text-align: right;\n",
       "    }\n",
       "</style>\n",
       "<table border=\"1\" class=\"dataframe\">\n",
       "  <thead>\n",
       "    <tr style=\"text-align: right;\">\n",
       "      <th></th>\n",
       "      <th>Title</th>\n",
       "      <th>Rating</th>\n",
       "      <th>Employee Status</th>\n",
       "      <th>Pros</th>\n",
       "      <th>Cons</th>\n",
       "      <th>Date Posted</th>\n",
       "      <th>Employee Title</th>\n",
       "      <th>Location</th>\n",
       "      <th>Unnamed: 9</th>\n",
       "    </tr>\n",
       "  </thead>\n",
       "  <tbody>\n",
       "    <tr>\n",
       "      <th>0</th>\n",
       "      <td>Great Culture and Company That Cares</td>\n",
       "      <td>4</td>\n",
       "      <td>Current Employee</td>\n",
       "      <td>Not much politics and very few ego's. Everyone...</td>\n",
       "      <td>Need to focus on career growth and promoting w...</td>\n",
       "      <td>13-Jan-21</td>\n",
       "      <td>Senior Corporate Recruiter in Troy</td>\n",
       "      <td>MI</td>\n",
       "      <td>NaN</td>\n",
       "    </tr>\n",
       "    <tr>\n",
       "      <th>1</th>\n",
       "      <td>Shaping the Future of Mobility!</td>\n",
       "      <td>5</td>\n",
       "      <td>Current Employee, more than 1 year</td>\n",
       "      <td>Global Work Environment, Cutting Edge Technolo...</td>\n",
       "      <td>None to mention at this time.</td>\n",
       "      <td>14-Apr-21</td>\n",
       "      <td>Program Manager in Dublin</td>\n",
       "      <td>Dublin</td>\n",
       "      <td>NaN</td>\n",
       "    </tr>\n",
       "    <tr>\n",
       "      <th>2</th>\n",
       "      <td>Lots of potential- getting there</td>\n",
       "      <td>4</td>\n",
       "      <td>Current Employee, more than 1 year</td>\n",
       "      <td>A very fast paced environment - you definitely...</td>\n",
       "      <td>Training and coaching could be better- high ex...</td>\n",
       "      <td>22-May-21</td>\n",
       "      <td>SCM in Dublin</td>\n",
       "      <td>Dublin</td>\n",
       "      <td>NaN</td>\n",
       "    </tr>\n",
       "    <tr>\n",
       "      <th>3</th>\n",
       "      <td>Alright but not the best</td>\n",
       "      <td>3</td>\n",
       "      <td>Current Employee, more than 1 year</td>\n",
       "      <td>Excellent office, good staff, good pay, good b...</td>\n",
       "      <td>Dis organised, office politics at mid/top leve...</td>\n",
       "      <td>08-Mar-21</td>\n",
       "      <td>Business Analyst in Dublin</td>\n",
       "      <td>Dublin</td>\n",
       "      <td>NaN</td>\n",
       "    </tr>\n",
       "    <tr>\n",
       "      <th>4</th>\n",
       "      <td>Aptiv</td>\n",
       "      <td>3</td>\n",
       "      <td>Current Employee</td>\n",
       "      <td>It is one of the leaders in the automotive ind...</td>\n",
       "      <td>High pressure for hitting numbers, it is more ...</td>\n",
       "      <td>07-Nov-20</td>\n",
       "      <td>Supply Chain in Dublin</td>\n",
       "      <td>Dublin</td>\n",
       "      <td>NaN</td>\n",
       "    </tr>\n",
       "  </tbody>\n",
       "</table>\n",
       "</div>"
      ],
      "text/plain": [
       "                                  Title  Rating  \\\n",
       "0  Great Culture and Company That Cares       4   \n",
       "1       Shaping the Future of Mobility!       5   \n",
       "2      Lots of potential- getting there       4   \n",
       "3              Alright but not the best       3   \n",
       "4                                 Aptiv       3   \n",
       "\n",
       "                      Employee Status  \\\n",
       "0                    Current Employee   \n",
       "1  Current Employee, more than 1 year   \n",
       "2  Current Employee, more than 1 year   \n",
       "3  Current Employee, more than 1 year   \n",
       "4                    Current Employee   \n",
       "\n",
       "                                                Pros  \\\n",
       "0  Not much politics and very few ego's. Everyone...   \n",
       "1  Global Work Environment, Cutting Edge Technolo...   \n",
       "2  A very fast paced environment - you definitely...   \n",
       "3  Excellent office, good staff, good pay, good b...   \n",
       "4  It is one of the leaders in the automotive ind...   \n",
       "\n",
       "                                                Cons Date Posted  \\\n",
       "0  Need to focus on career growth and promoting w...   13-Jan-21   \n",
       "1                      None to mention at this time.   14-Apr-21   \n",
       "2  Training and coaching could be better- high ex...   22-May-21   \n",
       "3  Dis organised, office politics at mid/top leve...   08-Mar-21   \n",
       "4  High pressure for hitting numbers, it is more ...   07-Nov-20   \n",
       "\n",
       "                        Employee Title Location Unnamed: 9  \n",
       "0   Senior Corporate Recruiter in Troy       MI        NaN  \n",
       "1            Program Manager in Dublin   Dublin        NaN  \n",
       "2                        SCM in Dublin   Dublin        NaN  \n",
       "3           Business Analyst in Dublin   Dublin        NaN  \n",
       "4               Supply Chain in Dublin   Dublin        NaN  "
      ]
     },
     "execution_count": 39,
     "metadata": {},
     "output_type": "execute_result"
    }
   ],
   "source": [
    "df = pd.read_csv('Data.csv', index_col = 0)\n",
    "df.head()"
   ]
  },
  {
   "cell_type": "code",
   "execution_count": 40,
   "id": "603185cd",
   "metadata": {},
   "outputs": [
    {
     "data": {
      "text/plain": [
       "Index(['Title', 'Rating', 'Employee Status', 'Pros', 'Cons', 'Date Posted',\n",
       "       'Employee Title', 'Location', 'Unnamed: 9'],\n",
       "      dtype='object')"
      ]
     },
     "execution_count": 40,
     "metadata": {},
     "output_type": "execute_result"
    }
   ],
   "source": [
    "df.columns"
   ]
  },
  {
   "cell_type": "code",
   "execution_count": 41,
   "id": "6755bec3",
   "metadata": {},
   "outputs": [
    {
     "data": {
      "text/html": [
       "<div>\n",
       "<style scoped>\n",
       "    .dataframe tbody tr th:only-of-type {\n",
       "        vertical-align: middle;\n",
       "    }\n",
       "\n",
       "    .dataframe tbody tr th {\n",
       "        vertical-align: top;\n",
       "    }\n",
       "\n",
       "    .dataframe thead th {\n",
       "        text-align: right;\n",
       "    }\n",
       "</style>\n",
       "<table border=\"1\" class=\"dataframe\">\n",
       "  <thead>\n",
       "    <tr style=\"text-align: right;\">\n",
       "      <th></th>\n",
       "      <th>Title</th>\n",
       "      <th>Rating</th>\n",
       "      <th>Employee Status</th>\n",
       "      <th>Pros</th>\n",
       "      <th>Cons</th>\n",
       "      <th>Date Posted</th>\n",
       "      <th>Employee Title</th>\n",
       "      <th>Location</th>\n",
       "    </tr>\n",
       "  </thead>\n",
       "  <tbody>\n",
       "    <tr>\n",
       "      <th>0</th>\n",
       "      <td>Great Culture and Company That Cares</td>\n",
       "      <td>4</td>\n",
       "      <td>Current Employee</td>\n",
       "      <td>Not much politics and very few ego's. Everyone...</td>\n",
       "      <td>Need to focus on career growth and promoting w...</td>\n",
       "      <td>13-Jan-21</td>\n",
       "      <td>Senior Corporate Recruiter in Troy</td>\n",
       "      <td>MI</td>\n",
       "    </tr>\n",
       "    <tr>\n",
       "      <th>1</th>\n",
       "      <td>Shaping the Future of Mobility!</td>\n",
       "      <td>5</td>\n",
       "      <td>Current Employee, more than 1 year</td>\n",
       "      <td>Global Work Environment, Cutting Edge Technolo...</td>\n",
       "      <td>None to mention at this time.</td>\n",
       "      <td>14-Apr-21</td>\n",
       "      <td>Program Manager in Dublin</td>\n",
       "      <td>Dublin</td>\n",
       "    </tr>\n",
       "    <tr>\n",
       "      <th>2</th>\n",
       "      <td>Lots of potential- getting there</td>\n",
       "      <td>4</td>\n",
       "      <td>Current Employee, more than 1 year</td>\n",
       "      <td>A very fast paced environment - you definitely...</td>\n",
       "      <td>Training and coaching could be better- high ex...</td>\n",
       "      <td>22-May-21</td>\n",
       "      <td>SCM in Dublin</td>\n",
       "      <td>Dublin</td>\n",
       "    </tr>\n",
       "    <tr>\n",
       "      <th>3</th>\n",
       "      <td>Alright but not the best</td>\n",
       "      <td>3</td>\n",
       "      <td>Current Employee, more than 1 year</td>\n",
       "      <td>Excellent office, good staff, good pay, good b...</td>\n",
       "      <td>Dis organised, office politics at mid/top leve...</td>\n",
       "      <td>08-Mar-21</td>\n",
       "      <td>Business Analyst in Dublin</td>\n",
       "      <td>Dublin</td>\n",
       "    </tr>\n",
       "    <tr>\n",
       "      <th>4</th>\n",
       "      <td>Aptiv</td>\n",
       "      <td>3</td>\n",
       "      <td>Current Employee</td>\n",
       "      <td>It is one of the leaders in the automotive ind...</td>\n",
       "      <td>High pressure for hitting numbers, it is more ...</td>\n",
       "      <td>07-Nov-20</td>\n",
       "      <td>Supply Chain in Dublin</td>\n",
       "      <td>Dublin</td>\n",
       "    </tr>\n",
       "  </tbody>\n",
       "</table>\n",
       "</div>"
      ],
      "text/plain": [
       "                                  Title  Rating  \\\n",
       "0  Great Culture and Company That Cares       4   \n",
       "1       Shaping the Future of Mobility!       5   \n",
       "2      Lots of potential- getting there       4   \n",
       "3              Alright but not the best       3   \n",
       "4                                 Aptiv       3   \n",
       "\n",
       "                      Employee Status  \\\n",
       "0                    Current Employee   \n",
       "1  Current Employee, more than 1 year   \n",
       "2  Current Employee, more than 1 year   \n",
       "3  Current Employee, more than 1 year   \n",
       "4                    Current Employee   \n",
       "\n",
       "                                                Pros  \\\n",
       "0  Not much politics and very few ego's. Everyone...   \n",
       "1  Global Work Environment, Cutting Edge Technolo...   \n",
       "2  A very fast paced environment - you definitely...   \n",
       "3  Excellent office, good staff, good pay, good b...   \n",
       "4  It is one of the leaders in the automotive ind...   \n",
       "\n",
       "                                                Cons Date Posted  \\\n",
       "0  Need to focus on career growth and promoting w...   13-Jan-21   \n",
       "1                      None to mention at this time.   14-Apr-21   \n",
       "2  Training and coaching could be better- high ex...   22-May-21   \n",
       "3  Dis organised, office politics at mid/top leve...   08-Mar-21   \n",
       "4  High pressure for hitting numbers, it is more ...   07-Nov-20   \n",
       "\n",
       "                        Employee Title Location  \n",
       "0   Senior Corporate Recruiter in Troy       MI  \n",
       "1            Program Manager in Dublin   Dublin  \n",
       "2                        SCM in Dublin   Dublin  \n",
       "3           Business Analyst in Dublin   Dublin  \n",
       "4               Supply Chain in Dublin   Dublin  "
      ]
     },
     "execution_count": 41,
     "metadata": {},
     "output_type": "execute_result"
    }
   ],
   "source": [
    "# DROP UNWANTED COLUMNS\n",
    "df.drop(labels=['Unnamed: 9'], axis=1, inplace=True)\n",
    "df.head()"
   ]
  },
  {
   "cell_type": "code",
   "execution_count": 12,
   "id": "c2f24907",
   "metadata": {},
   "outputs": [
    {
     "name": "stdout",
     "output_type": "stream",
     "text": [
      "Rectangle(xy=(-0.4, 0), width=0.8, height=209, angle=0)\n",
      "209\n",
      "Rectangle(xy=(0.6, 0), width=0.8, height=145, angle=0)\n",
      "145\n",
      "Rectangle(xy=(1.6, 0), width=0.8, height=118, angle=0)\n",
      "118\n",
      "Rectangle(xy=(2.6, 0), width=0.8, height=58, angle=0)\n",
      "58\n",
      "Rectangle(xy=(3.6, 0), width=0.8, height=49, angle=0)\n",
      "49\n"
     ]
    },
    {
     "data": {
      "image/png": "[encoded data removed]",
      "text/plain": [
       "<Figure size 720x720 with 1 Axes>"
      ]
     },
     "metadata": {
      "needs_background": "light"
     },
     "output_type": "display_data"
    }
   ],
   "source": [
    "# Ratings allocated to reviews\n",
    "plt.figure(figsize=(10,10))\n",
    "\n",
    "ax = sns.countplot(x=df['Rating'], data=df, order=df['Rating'].value_counts().index)\n",
    "for p, label in zip(ax.patches, df['Rating'].value_counts()):\n",
    "    print(p)\n",
    "    print(label)\n",
    "    ax.annotate(label, (p.get_x()+0.25, p.get_height()+0.5))"
   ]
  },
  {
   "cell_type": "code",
   "execution_count": 47,
   "id": "6f50800d",
   "metadata": {},
   "outputs": [],
   "source": [
    "# Convert datatype to datetime\n",
    "df['Date Posted'] =  pd.to_datetime(df['Date Posted'])"
   ]
  },
  {
   "cell_type": "code",
   "execution_count": 55,
   "id": "4aa9abd5",
   "metadata": {},
   "outputs": [
    {
     "name": "stdout",
     "output_type": "stream",
     "text": [
      "             Rating\n",
      "Date Posted        \n",
      "2017-12-05        5\n",
      "2017-12-16        4\n",
      "2017-12-19        5\n",
      "2017-12-26        9\n",
      "2018-01-10        1\n",
      "...             ...\n",
      "2021-05-27       19\n",
      "2021-05-28        4\n",
      "2021-05-29        3\n",
      "2021-05-30        3\n",
      "2021-06-01        3\n",
      "\n",
      "[424 rows x 1 columns]\n"
     ]
    }
   ],
   "source": [
    "# Group by date posted\n",
    "results = df.groupby('Date Posted').sum()\n",
    "print(results)"
   ]
  },
  {
   "cell_type": "code",
   "execution_count": 64,
   "id": "a50f0992",
   "metadata": {},
   "outputs": [
    {
     "data": {
      "text/plain": [
       "(array([17532., 17713., 17897., 18078., 18262., 18444., 18628., 18809.]),\n",
       " [Text(0, 0, ''),\n",
       "  Text(0, 0, ''),\n",
       "  Text(0, 0, ''),\n",
       "  Text(0, 0, ''),\n",
       "  Text(0, 0, ''),\n",
       "  Text(0, 0, ''),\n",
       "  Text(0, 0, ''),\n",
       "  Text(0, 0, '')])"
      ]
     },
     "execution_count": 64,
     "metadata": {},
     "output_type": "execute_result"
    },
    {
     "data": {
      "image/png": "[encoded data removed]",
      "text/plain": [
       "<Figure size 432x288 with 1 Axes>"
      ]
     },
     "metadata": {
      "needs_background": "light"
     },
     "output_type": "display_data"
    }
   ],
   "source": [
    "\n",
    "# time_series = pd.DataFrame(df['Rating'].value_counts().reset_index())\n",
    "# time_series.columns = ['Date Posted', 'Rating']\n",
    "\n",
    "# time_series.plot(kind='hist')\n",
    "# plt.show()\n",
    "\n",
    "\n",
    "# months = range(1,13)\n",
    "\n",
    "# plt.bar(months, results['Date Posted'])\n",
    "# plt.xticks(Date Posted)\n",
    "# plt.ylabel('Ratings')\n",
    "# plt.xlabel('Month Number')\n",
    "# plt.show()\n",
    "\n",
    "df = df.sort_values('Date Posted', ascending=True)\n",
    "plt.plot(df['Date Posted'], df['Rating'])\n",
    "plt.xticks(rotation='vertical')"
   ]
  },
  {
   "cell_type": "markdown",
   "id": "1edea8a4",
   "metadata": {},
   "source": [
    "### Feature Engineering"
   ]
  },
  {
   "cell_type": "code",
   "execution_count": 65,
   "id": "d3002dba",
   "metadata": {},
   "outputs": [],
   "source": [
    "from textblob import TextBlob"
   ]
  },
  {
   "cell_type": "code",
   "execution_count": 66,
   "id": "d27ad006",
   "metadata": {},
   "outputs": [],
   "source": [
    "# What is the sentiment polarity for a particular text\n",
    "df['Pros_polarity'] = df['Pros'].apply(lambda x: TextBlob(x).sentiment.polarity)"
   ]
  },
  {
   "cell_type": "code",
   "execution_count": 67,
   "id": "5b7334c9",
   "metadata": {},
   "outputs": [],
   "source": [
    "# Review length - How many characters are there\n",
    "df['Pros_len'] = df['Pros'].apply(lambda x: len(x))"
   ]
  },
  {
   "cell_type": "code",
   "execution_count": 68,
   "id": "9efee546",
   "metadata": {},
   "outputs": [],
   "source": [
    "# Total number of words in the review\n",
    "df['Pros_Word_count'] = df['Pros'].apply(lambda x: len(x.split()))"
   ]
  },
  {
   "cell_type": "code",
   "execution_count": 69,
   "id": "4d973fc3",
   "metadata": {},
   "outputs": [],
   "source": [
    "# Calculate the aarege word length\n",
    "def get_avg_word_length(x):\n",
    "    words = x.split()\n",
    "    word_len = 0\n",
    "    for word in words:\n",
    "        word_len = word_len + len(word)\n",
    "    return word_len/len(words)"
   ]
  },
  {
   "cell_type": "code",
   "execution_count": 70,
   "id": "1fdeedd2",
   "metadata": {},
   "outputs": [],
   "source": [
    "df['Pros_avg_words_len'] = df['Pros'].apply(lambda x: get_avg_word_length(x))"
   ]
  },
  {
   "cell_type": "code",
   "execution_count": 71,
   "id": "eeaefd59",
   "metadata": {},
   "outputs": [
    {
     "data": {
      "text/html": [
       "<div>\n",
       "<style scoped>\n",
       "    .dataframe tbody tr th:only-of-type {\n",
       "        vertical-align: middle;\n",
       "    }\n",
       "\n",
       "    .dataframe tbody tr th {\n",
       "        vertical-align: top;\n",
       "    }\n",
       "\n",
       "    .dataframe thead th {\n",
       "        text-align: right;\n",
       "    }\n",
       "</style>\n",
       "<table border=\"1\" class=\"dataframe\">\n",
       "  <thead>\n",
       "    <tr style=\"text-align: right;\">\n",
       "      <th></th>\n",
       "      <th>Title</th>\n",
       "      <th>Rating</th>\n",
       "      <th>Employee Status</th>\n",
       "      <th>Pros</th>\n",
       "      <th>Cons</th>\n",
       "      <th>Date Posted</th>\n",
       "      <th>Employee Title</th>\n",
       "      <th>Location</th>\n",
       "      <th>Pros_polarity</th>\n",
       "      <th>Pros_len</th>\n",
       "      <th>Pros_Word_count</th>\n",
       "      <th>Pros_avg_words_len</th>\n",
       "    </tr>\n",
       "  </thead>\n",
       "  <tbody>\n",
       "    <tr>\n",
       "      <th>554</th>\n",
       "      <td>Great Company</td>\n",
       "      <td>5</td>\n",
       "      <td>Current Employee, more than 5 years</td>\n",
       "      <td>Exciting work! Love working here.</td>\n",
       "      <td>Has made major progress, but still updating to...</td>\n",
       "      <td>2017-12-05</td>\n",
       "      <td>Electrical Engineer in Kokomo</td>\n",
       "      <td>IN</td>\n",
       "      <td>0.437500</td>\n",
       "      <td>33</td>\n",
       "      <td>5</td>\n",
       "      <td>5.800000</td>\n",
       "    </tr>\n",
       "    <tr>\n",
       "      <th>567</th>\n",
       "      <td>Good plan to learn</td>\n",
       "      <td>4</td>\n",
       "      <td>Current Employee</td>\n",
       "      <td>Quite a lot to learn Flexibility in timing</td>\n",
       "      <td>Too much work pressure Politics at workplace</td>\n",
       "      <td>2017-12-16</td>\n",
       "      <td>Anonymous Employee</td>\n",
       "      <td>NaN</td>\n",
       "      <td>0.000000</td>\n",
       "      <td>42</td>\n",
       "      <td>8</td>\n",
       "      <td>4.375000</td>\n",
       "    </tr>\n",
       "    <tr>\n",
       "      <th>556</th>\n",
       "      <td>EGM</td>\n",
       "      <td>5</td>\n",
       "      <td>Current Employee, more than 3 years</td>\n",
       "      <td>Cutting edge technologies, challenging work,di...</td>\n",
       "      <td>Poor work life balance, fire fighting approaches</td>\n",
       "      <td>2017-12-19</td>\n",
       "      <td>Anonymous Employee</td>\n",
       "      <td>NaN</td>\n",
       "      <td>-0.050000</td>\n",
       "      <td>87</td>\n",
       "      <td>8</td>\n",
       "      <td>10.000000</td>\n",
       "    </tr>\n",
       "    <tr>\n",
       "      <th>563</th>\n",
       "      <td>Decent Embedded employer</td>\n",
       "      <td>4</td>\n",
       "      <td>Current Employee, more than 5 years</td>\n",
       "      <td>Decent growth, on-site, good for performers</td>\n",
       "      <td>Bad for average ppl and worst place for non co...</td>\n",
       "      <td>2017-12-26</td>\n",
       "      <td>Anonymous Employee</td>\n",
       "      <td>NaN</td>\n",
       "      <td>0.433333</td>\n",
       "      <td>43</td>\n",
       "      <td>6</td>\n",
       "      <td>6.333333</td>\n",
       "    </tr>\n",
       "    <tr>\n",
       "      <th>528</th>\n",
       "      <td>Been an amazing learning experience!</td>\n",
       "      <td>5</td>\n",
       "      <td>Current Employee, less than 1 year</td>\n",
       "      <td>Flexibility in timing. Interesting projects. F...</td>\n",
       "      <td>Not much to say. Sometimes work is thrown arou...</td>\n",
       "      <td>2017-12-26</td>\n",
       "      <td>Mechanical Engineer in Detroit</td>\n",
       "      <td>MI</td>\n",
       "      <td>0.437500</td>\n",
       "      <td>114</td>\n",
       "      <td>14</td>\n",
       "      <td>7.214286</td>\n",
       "    </tr>\n",
       "  </tbody>\n",
       "</table>\n",
       "</div>"
      ],
      "text/plain": [
       "                                    Title  Rating  \\\n",
       "554                         Great Company       5   \n",
       "567                    Good plan to learn       4   \n",
       "556                                   EGM       5   \n",
       "563              Decent Embedded employer       4   \n",
       "528  Been an amazing learning experience!       5   \n",
       "\n",
       "                         Employee Status  \\\n",
       "554  Current Employee, more than 5 years   \n",
       "567                     Current Employee   \n",
       "556  Current Employee, more than 3 years   \n",
       "563  Current Employee, more than 5 years   \n",
       "528   Current Employee, less than 1 year   \n",
       "\n",
       "                                                  Pros  \\\n",
       "554                  Exciting work! Love working here.   \n",
       "567         Quite a lot to learn Flexibility in timing   \n",
       "556  Cutting edge technologies, challenging work,di...   \n",
       "563        Decent growth, on-site, good for performers   \n",
       "528  Flexibility in timing. Interesting projects. F...   \n",
       "\n",
       "                                                  Cons Date Posted  \\\n",
       "554  Has made major progress, but still updating to...  2017-12-05   \n",
       "567       Too much work pressure Politics at workplace  2017-12-16   \n",
       "556   Poor work life balance, fire fighting approaches  2017-12-19   \n",
       "563  Bad for average ppl and worst place for non co...  2017-12-26   \n",
       "528  Not much to say. Sometimes work is thrown arou...  2017-12-26   \n",
       "\n",
       "                      Employee Title Location  Pros_polarity  Pros_len  \\\n",
       "554    Electrical Engineer in Kokomo       IN       0.437500        33   \n",
       "567              Anonymous Employee       NaN       0.000000        42   \n",
       "556              Anonymous Employee       NaN      -0.050000        87   \n",
       "563              Anonymous Employee       NaN       0.433333        43   \n",
       "528   Mechanical Engineer in Detroit       MI       0.437500       114   \n",
       "\n",
       "     Pros_Word_count  Pros_avg_words_len  \n",
       "554                5            5.800000  \n",
       "567                8            4.375000  \n",
       "556                8           10.000000  \n",
       "563                6            6.333333  \n",
       "528               14            7.214286  "
      ]
     },
     "execution_count": 71,
     "metadata": {},
     "output_type": "execute_result"
    }
   ],
   "source": [
    "df.head()"
   ]
  },
  {
   "cell_type": "code",
   "execution_count": 72,
   "id": "3cb0dee5",
   "metadata": {},
   "outputs": [],
   "source": [
    "# What is the sentiment polarity for a particular text\n",
    "df['Cons_polarity'] = df['Cons'].apply(lambda x: TextBlob(x).sentiment.polarity)\n",
    "\n",
    "# Review length - How many characters are there\n",
    "df['Cons_len'] = df['Cons'].apply(lambda x: len(x))\n",
    "\n",
    "# Total number of words in the review\n",
    "df['Cons_Word_count'] = df['Cons'].apply(lambda x: len(x.split()))"
   ]
  },
  {
   "cell_type": "code",
   "execution_count": 73,
   "id": "9c766b0f",
   "metadata": {},
   "outputs": [],
   "source": [
    "# Calculate the aarege word length\n",
    "def get_avg_word_length(x):\n",
    "    words = x.split()\n",
    "    word_len = 0\n",
    "    for word in words:\n",
    "        word_len = word_len + len(word)\n",
    "    return word_len/len(words)"
   ]
  },
  {
   "cell_type": "code",
   "execution_count": 74,
   "id": "aad81499",
   "metadata": {},
   "outputs": [],
   "source": [
    "df['Cons_avg_words_len'] = df['Pros'].apply(lambda x: get_avg_word_length(x))"
   ]
  },
  {
   "cell_type": "code",
   "execution_count": 75,
   "id": "1bd3e23c",
   "metadata": {},
   "outputs": [
    {
     "data": {
      "text/html": [
       "<div>\n",
       "<style scoped>\n",
       "    .dataframe tbody tr th:only-of-type {\n",
       "        vertical-align: middle;\n",
       "    }\n",
       "\n",
       "    .dataframe tbody tr th {\n",
       "        vertical-align: top;\n",
       "    }\n",
       "\n",
       "    .dataframe thead th {\n",
       "        text-align: right;\n",
       "    }\n",
       "</style>\n",
       "<table border=\"1\" class=\"dataframe\">\n",
       "  <thead>\n",
       "    <tr style=\"text-align: right;\">\n",
       "      <th></th>\n",
       "      <th>Title</th>\n",
       "      <th>Rating</th>\n",
       "      <th>Employee Status</th>\n",
       "      <th>Pros</th>\n",
       "      <th>Cons</th>\n",
       "      <th>Date Posted</th>\n",
       "      <th>Employee Title</th>\n",
       "      <th>Location</th>\n",
       "      <th>Pros_polarity</th>\n",
       "      <th>Pros_len</th>\n",
       "      <th>Pros_Word_count</th>\n",
       "      <th>Pros_avg_words_len</th>\n",
       "      <th>Cons_polarity</th>\n",
       "      <th>Cons_len</th>\n",
       "      <th>Cons_Word_count</th>\n",
       "      <th>Cons_avg_words_len</th>\n",
       "    </tr>\n",
       "  </thead>\n",
       "  <tbody>\n",
       "    <tr>\n",
       "      <th>554</th>\n",
       "      <td>Great Company</td>\n",
       "      <td>5</td>\n",
       "      <td>Current Employee, more than 5 years</td>\n",
       "      <td>Exciting work! Love working here.</td>\n",
       "      <td>Has made major progress, but still updating to...</td>\n",
       "      <td>2017-12-05</td>\n",
       "      <td>Electrical Engineer in Kokomo</td>\n",
       "      <td>IN</td>\n",
       "      <td>0.437500</td>\n",
       "      <td>33</td>\n",
       "      <td>5</td>\n",
       "      <td>5.800000</td>\n",
       "      <td>0.062500</td>\n",
       "      <td>83</td>\n",
       "      <td>14</td>\n",
       "      <td>5.800000</td>\n",
       "    </tr>\n",
       "    <tr>\n",
       "      <th>567</th>\n",
       "      <td>Good plan to learn</td>\n",
       "      <td>4</td>\n",
       "      <td>Current Employee</td>\n",
       "      <td>Quite a lot to learn Flexibility in timing</td>\n",
       "      <td>Too much work pressure Politics at workplace</td>\n",
       "      <td>2017-12-16</td>\n",
       "      <td>Anonymous Employee</td>\n",
       "      <td>NaN</td>\n",
       "      <td>0.000000</td>\n",
       "      <td>42</td>\n",
       "      <td>8</td>\n",
       "      <td>4.375000</td>\n",
       "      <td>0.200000</td>\n",
       "      <td>44</td>\n",
       "      <td>7</td>\n",
       "      <td>4.375000</td>\n",
       "    </tr>\n",
       "    <tr>\n",
       "      <th>556</th>\n",
       "      <td>EGM</td>\n",
       "      <td>5</td>\n",
       "      <td>Current Employee, more than 3 years</td>\n",
       "      <td>Cutting edge technologies, challenging work,di...</td>\n",
       "      <td>Poor work life balance, fire fighting approaches</td>\n",
       "      <td>2017-12-19</td>\n",
       "      <td>Anonymous Employee</td>\n",
       "      <td>NaN</td>\n",
       "      <td>-0.050000</td>\n",
       "      <td>87</td>\n",
       "      <td>8</td>\n",
       "      <td>10.000000</td>\n",
       "      <td>-0.400000</td>\n",
       "      <td>48</td>\n",
       "      <td>7</td>\n",
       "      <td>10.000000</td>\n",
       "    </tr>\n",
       "    <tr>\n",
       "      <th>563</th>\n",
       "      <td>Decent Embedded employer</td>\n",
       "      <td>4</td>\n",
       "      <td>Current Employee, more than 5 years</td>\n",
       "      <td>Decent growth, on-site, good for performers</td>\n",
       "      <td>Bad for average ppl and worst place for non co...</td>\n",
       "      <td>2017-12-26</td>\n",
       "      <td>Anonymous Employee</td>\n",
       "      <td>NaN</td>\n",
       "      <td>0.433333</td>\n",
       "      <td>43</td>\n",
       "      <td>6</td>\n",
       "      <td>6.333333</td>\n",
       "      <td>-0.616667</td>\n",
       "      <td>56</td>\n",
       "      <td>10</td>\n",
       "      <td>6.333333</td>\n",
       "    </tr>\n",
       "    <tr>\n",
       "      <th>528</th>\n",
       "      <td>Been an amazing learning experience!</td>\n",
       "      <td>5</td>\n",
       "      <td>Current Employee, less than 1 year</td>\n",
       "      <td>Flexibility in timing. Interesting projects. F...</td>\n",
       "      <td>Not much to say. Sometimes work is thrown arou...</td>\n",
       "      <td>2017-12-26</td>\n",
       "      <td>Mechanical Engineer in Detroit</td>\n",
       "      <td>MI</td>\n",
       "      <td>0.437500</td>\n",
       "      <td>114</td>\n",
       "      <td>14</td>\n",
       "      <td>7.214286</td>\n",
       "      <td>-0.050000</td>\n",
       "      <td>99</td>\n",
       "      <td>19</td>\n",
       "      <td>7.214286</td>\n",
       "    </tr>\n",
       "  </tbody>\n",
       "</table>\n",
       "</div>"
      ],
      "text/plain": [
       "                                    Title  Rating  \\\n",
       "554                         Great Company       5   \n",
       "567                    Good plan to learn       4   \n",
       "556                                   EGM       5   \n",
       "563              Decent Embedded employer       4   \n",
       "528  Been an amazing learning experience!       5   \n",
       "\n",
       "                         Employee Status  \\\n",
       "554  Current Employee, more than 5 years   \n",
       "567                     Current Employee   \n",
       "556  Current Employee, more than 3 years   \n",
       "563  Current Employee, more than 5 years   \n",
       "528   Current Employee, less than 1 year   \n",
       "\n",
       "                                                  Pros  \\\n",
       "554                  Exciting work! Love working here.   \n",
       "567         Quite a lot to learn Flexibility in timing   \n",
       "556  Cutting edge technologies, challenging work,di...   \n",
       "563        Decent growth, on-site, good for performers   \n",
       "528  Flexibility in timing. Interesting projects. F...   \n",
       "\n",
       "                                                  Cons Date Posted  \\\n",
       "554  Has made major progress, but still updating to...  2017-12-05   \n",
       "567       Too much work pressure Politics at workplace  2017-12-16   \n",
       "556   Poor work life balance, fire fighting approaches  2017-12-19   \n",
       "563  Bad for average ppl and worst place for non co...  2017-12-26   \n",
       "528  Not much to say. Sometimes work is thrown arou...  2017-12-26   \n",
       "\n",
       "                      Employee Title Location  Pros_polarity  Pros_len  \\\n",
       "554    Electrical Engineer in Kokomo       IN       0.437500        33   \n",
       "567              Anonymous Employee       NaN       0.000000        42   \n",
       "556              Anonymous Employee       NaN      -0.050000        87   \n",
       "563              Anonymous Employee       NaN       0.433333        43   \n",
       "528   Mechanical Engineer in Detroit       MI       0.437500       114   \n",
       "\n",
       "     Pros_Word_count  Pros_avg_words_len  Cons_polarity  Cons_len  \\\n",
       "554                5            5.800000       0.062500        83   \n",
       "567                8            4.375000       0.200000        44   \n",
       "556                8           10.000000      -0.400000        48   \n",
       "563                6            6.333333      -0.616667        56   \n",
       "528               14            7.214286      -0.050000        99   \n",
       "\n",
       "     Cons_Word_count  Cons_avg_words_len  \n",
       "554               14            5.800000  \n",
       "567                7            4.375000  \n",
       "556                7           10.000000  \n",
       "563               10            6.333333  \n",
       "528               19            7.214286  "
      ]
     },
     "execution_count": 75,
     "metadata": {},
     "output_type": "execute_result"
    }
   ],
   "source": [
    "df.head()"
   ]
  },
  {
   "cell_type": "markdown",
   "id": "ae5390c9",
   "metadata": {},
   "source": [
    "### Distribution of Sentiment Polarity"
   ]
  },
  {
   "cell_type": "code",
   "execution_count": 76,
   "id": "99d9102e",
   "metadata": {},
   "outputs": [
    {
     "data": {
      "application/vnd.plotly.v1+json": {
       "config": {
        "linkText": "Export to plot.ly",
        "plotlyServerURL": "https://plot.ly",
        "showLink": true
       },
       "data": [
        {
         "histfunc": "count",
         "histnorm": "",
         "marker": {
          "color": "rgba(219, 64, 82, 1.0)",
          "line": {
           "color": "#4D5663",
           "width": 1.3
          }
         },
         "name": "Pros_polarity",
         "nbinsx": 50,
         "opacity": 0.8,
         "orientation": "v",
         "type": "histogram",
         "x": [
          0.4375,
          0,
          -0.04999999999999999,
          0.4333333333333333,
          0.4375,
          0.10181818181818181,
          0.4333333333333333,
          0.4,
          0.39999999999999997,
          0.3625,
          0.2603318903318903,
          0,
          0.5,
          0.4888888888888889,
          -0.15,
          0.7,
          0.24533333333333332,
          0.39999999999999997,
          0.7733333333333333,
          0.2625,
          0.5047619047619047,
          -0.05,
          0.6,
          0.6,
          0.65,
          0.7799999999999999,
          0.625,
          0.6999999999999998,
          0.8000000000000002,
          0.13472222222222224,
          0.6950000000000001,
          0,
          0.30000000000000004,
          0.475,
          0.475,
          0.28194444444444444,
          0.45909090909090905,
          0.6,
          0.8,
          0.35,
          0,
          0.6,
          0.5,
          0.8,
          0.7,
          0.1,
          0.7,
          0.535,
          0.6999999999999998,
          0.4,
          0.5,
          0.19166666666666665,
          0.5633333333333334,
          0,
          -0.05555555555555555,
          0.35000000000000003,
          0.5533333333333333,
          0.6,
          0.3906481481481482,
          0,
          0.26666666666666666,
          0.35,
          0.21428571428571427,
          0.2,
          0.4142857142857142,
          0.22272727272727275,
          0.4875,
          0.7,
          0.5166666666666666,
          0.3977777777777778,
          0.5,
          0.26666666666666666,
          0.7,
          0.05555555555555555,
          0,
          0.5,
          0.7,
          0.21666666666666665,
          0.75,
          0.23541666666666666,
          0.6,
          0.8,
          0.8,
          0.59375,
          0.4121212121212121,
          0,
          0.7,
          0.14489795918367346,
          0.3333333333333333,
          0.6,
          0.8,
          0.18944444444444442,
          0.4,
          0,
          0.6,
          0,
          0.6666666666666666,
          -0.050000000000000044,
          0.12159090909090908,
          0.8500000000000001,
          -0.1,
          0.14970238095238095,
          0.7,
          0.6666666666666666,
          0,
          0.35,
          0.35,
          0.48666666666666664,
          0,
          0.21428571428571427,
          0.43499999999999994,
          0.25,
          0.3875,
          0.7,
          0.21388888888888888,
          0.3387878787878788,
          0.5,
          0,
          0.7,
          0.7,
          0.5366666666666666,
          0.55,
          0.7,
          0.5454545454545454,
          0.5,
          0.8666666666666667,
          0.75,
          0.64375,
          0.41818181818181815,
          0.7,
          0.7,
          0.6916666666666668,
          1,
          0.4166666666666667,
          0.26249999999999996,
          0.43333333333333335,
          0.4666666666666666,
          0.6616666666666666,
          0.7,
          0.03125,
          0.49999999999999994,
          0.13636363636363635,
          0.7,
          0,
          0.5,
          0.525,
          0.525,
          0.015277777777777776,
          0.44999999999999996,
          0.6,
          0.75,
          0.02083333333333333,
          0.75,
          0.19206349206349205,
          0,
          0.9099999999999999,
          0.9099999999999999,
          0.7,
          0.35,
          0.8049999999999999,
          0.7,
          0.7,
          0.5,
          0.8,
          0.3,
          0.47159090909090906,
          0.7,
          0.4666666666666666,
          0.022727272727272724,
          0,
          0.29166666666666663,
          0.7,
          0.8,
          0.4,
          0.7,
          0.26499999999999996,
          0,
          0.3121212121212121,
          0.06818181818181818,
          0.2,
          0.78,
          0.75,
          0.6,
          0,
          0,
          0.6,
          0.7,
          0.5121212121212121,
          0.35,
          0.375,
          0.5375,
          0.061111111111111116,
          0.6666666666666666,
          0.35,
          0.8,
          0.7,
          0.3,
          0.7000000000000001,
          0.25,
          0.38888888888888884,
          0.03571428571428571,
          0.7,
          0.1,
          0.22162761151891588,
          0,
          0,
          0.8,
          0.2333333333333333,
          -0.019444444444444448,
          0.39999999999999997,
          1,
          0.78,
          0.48000000000000004,
          0.2808730158730158,
          0.7,
          0.5,
          0.7,
          0.7,
          0,
          0.55,
          0.35,
          0.3525,
          0.4,
          0.35,
          -0.2916666666666667,
          0,
          1,
          0.8,
          0.4916666666666667,
          0.35,
          0.55,
          0.6,
          -1,
          0.7,
          0.4875,
          0.35,
          0,
          0.65,
          0.65,
          1,
          0.4928571428571428,
          0.16666666666666666,
          0.8,
          0.35,
          0.5,
          0,
          0,
          0,
          0.41818181818181815,
          0.15,
          0.4681818181818182,
          0.4465909090909091,
          0.13636363636363635,
          0.6999999999999998,
          0.7,
          0.5424242424242424,
          0,
          0.5333333333333333,
          0.5,
          0.4,
          0.3499999999999999,
          0.06150252525252525,
          0.8333333333333334,
          0.10000000000000002,
          0.30000000000000004,
          0.234375,
          0,
          0.5,
          0.4333333333333333,
          0.4333333333333333,
          0.43333333333333335,
          0.35,
          0.39999999999999997,
          0.64375,
          0.3,
          0.64375,
          0.4,
          0.35,
          0.7,
          0.4625,
          0.8,
          0.8,
          0.7,
          0.49375,
          0,
          0.1,
          0.54,
          0.5,
          0.8,
          0.7,
          0.2965909090909091,
          0.6,
          0.32499999999999996,
          0.7,
          0.7,
          0.21428571428571427,
          -0.15,
          0,
          0.79,
          0.65,
          0.3181818181818182,
          0,
          0,
          0,
          0.25,
          0,
          0,
          0.55,
          0.6,
          0.7,
          0.35,
          0.40625,
          0.49375,
          0,
          0.7,
          0.7,
          0.5666666666666667,
          0.75,
          0.7,
          0.10714285714285714,
          0.7,
          0,
          0.7,
          0.64,
          0.4666666666666667,
          0.3136842105263158,
          0.9099999999999999,
          0.5,
          0.5,
          0.4,
          0.7,
          0.7,
          0.5,
          0.7,
          0,
          0.35,
          0.55,
          0.65,
          0.55,
          0.3,
          0.75,
          0.7,
          0.4,
          0.04999999999999999,
          0.5,
          1,
          0.43333333333333335,
          0,
          0,
          0.4166666666666667,
          0.2333333333333333,
          0.5875,
          0.35,
          0.39999999999999997,
          0.4375,
          0,
          0,
          0,
          0.16,
          1,
          0.5,
          0,
          0.2875,
          0.8,
          0.35,
          0.45,
          0.4555555555555555,
          0.6499999999999999,
          0.8,
          0.425,
          0,
          0.3995192307692308,
          0,
          1,
          0.7,
          0.4333333333333333,
          0.09166666666666663,
          0.3,
          0.5583333333333333,
          0.7,
          0,
          0.6,
          0.8,
          0.6,
          0,
          0.1,
          0.7,
          0.7,
          0,
          0.7,
          0.39999999999999997,
          0.7,
          0.3333333333333333,
          0.5,
          0.6000000000000001,
          0.17777777777777778,
          0.25399999999999995,
          -0.09583333333333334,
          0,
          0.8,
          0,
          0.472,
          0.3666666666666667,
          0,
          0.7,
          0.2125,
          0,
          0.7,
          0.7,
          0.5428571428571429,
          0.39999999999999997,
          0.17326210826210828,
          0.17326210826210828,
          -0.1875,
          0.7,
          0.6999999999999998,
          0.7,
          0.46375,
          0,
          0.7,
          0.575,
          0.75,
          0,
          0,
          0.6,
          0.13636363636363635,
          0.75,
          0.5533333333333333,
          0.7,
          0.7,
          0.8,
          0.4666666666666666,
          0.5047619047619047,
          0,
          0.6499999999999999,
          0.19166666666666665,
          0,
          0.5,
          0,
          0.5,
          0.7,
          0.7,
          0.25,
          0.7,
          0.4916666666666666,
          0,
          -0.19999999999999998,
          0.6,
          0.3033333333333333,
          0.6461538461538461,
          -0.2,
          0.8,
          0.4666666666666666,
          0.7,
          0.4,
          0.4,
          0.78,
          0,
          0.9099999999999999,
          0.9099999999999999,
          0.4,
          0.1,
          0.75,
          0.7,
          0.8,
          0.5,
          0.5,
          0.6499999999999999,
          0.7,
          0.18333333333333335,
          0.6499999999999999,
          0.8,
          0.9099999999999999,
          0.18541666666666665,
          0,
          0.7749999999999999,
          0,
          0,
          0.3333333333333333,
          0.7,
          0.375,
          0.6999999999999998,
          0.2,
          0.7,
          0.3,
          0.5454545454545454,
          0.7,
          0.7,
          0.44999999999999996,
          0.16666666666666666,
          0.35,
          0.5555555555555555,
          -1,
          0.6,
          0,
          0.55,
          0.35,
          0.7,
          0.35,
          -0.19999999999999998,
          0,
          0.3,
          0.8,
          0.0909090909090909,
          0,
          0.6999999999999998,
          0.8,
          0.7,
          0.41818181818181815,
          0.4,
          0,
          0.7,
          0,
          -0.6,
          0.13636363636363635,
          0,
          0.17777777777777778,
          0.65,
          0.7,
          0.45,
          -0.009999999999999995,
          0.8049999999999999,
          0.2,
          0.35,
          0,
          0.7,
          0.8019999999999999,
          -0.033333333333333326,
          0.35,
          0.7,
          0.7,
          0.4333333333333333,
          0.7,
          0.2,
          0,
          0.6999999999999998,
          0,
          0.7,
          -0.1,
          0.7,
          0.8049999999999999,
          0.44999999999999996,
          0.17916666666666667,
          0.7,
          0.7,
          0.7,
          0.6874999999999999,
          0,
          0.7,
          0.39999999999999997,
          0.6666666666666666,
          0.18333333333333332,
          0.7,
          0.4107142857142857,
          0.4,
          0,
          0.41818181818181815,
          0.5,
          0.5,
          0.6,
          -0.1583333333333333,
          1,
          0,
          -0.25,
          0,
          0,
          0.26666666666666666,
          0.16205555555555554,
          0,
          0.5375,
          0.16,
          0.22916666666666666,
          0.7,
          1,
          0.7,
          0,
          0.35,
          0.3,
          0.39999999999999997
         ]
        }
       ],
       "layout": {
        "barmode": "overlay",
        "legend": {
         "bgcolor": "#F5F6F9",
         "font": {
          "color": "#4D5663"
         }
        },
        "paper_bgcolor": "#F5F6F9",
        "plot_bgcolor": "#F5F6F9",
        "template": {
         "data": {
          "bar": [
           {
            "error_x": {
             "color": "#2a3f5f"
            },
            "error_y": {
             "color": "#2a3f5f"
            },
            "marker": {
             "line": {
              "color": "#E5ECF6",
              "width": 0.5
             }
            },
            "type": "bar"
           }
          ],
          "barpolar": [
           {
            "marker": {
             "line": {
              "color": "#E5ECF6",
              "width": 0.5
             }
            },
            "type": "barpolar"
           }
          ],
          "carpet": [
           {
            "aaxis": {
             "endlinecolor": "#2a3f5f",
             "gridcolor": "white",
             "linecolor": "white",
             "minorgridcolor": "white",
             "startlinecolor": "#2a3f5f"
            },
            "baxis": {
             "endlinecolor": "#2a3f5f",
             "gridcolor": "white",
             "linecolor": "white",
             "minorgridcolor": "white",
             "startlinecolor": "#2a3f5f"
            },
            "type": "carpet"
           }
          ],
          "choropleth": [
           {
            "colorbar": {
             "outlinewidth": 0,
             "ticks": ""
            },
            "type": "choropleth"
           }
          ],
          "contour": [
           {
            "colorbar": {
             "outlinewidth": 0,
             "ticks": ""
            },
            "colorscale": [
             [
              0,
              "#0d0887"
             ],
             [
              0.1111111111111111,
              "#46039f"
             ],
             [
              0.2222222222222222,
              "#7201a8"
             ],
             [
              0.3333333333333333,
              "#9c179e"
             ],
             [
              0.4444444444444444,
              "#bd3786"
             ],
             [
              0.5555555555555556,
              "#d8576b"
             ],
             [
              0.6666666666666666,
              "#ed7953"
             ],
             [
              0.7777777777777778,
              "#fb9f3a"
             ],
             [
              0.8888888888888888,
              "#fdca26"
             ],
             [
              1,
              "#f0f921"
             ]
            ],
            "type": "contour"
           }
          ],
          "contourcarpet": [
           {
            "colorbar": {
             "outlinewidth": 0,
             "ticks": ""
            },
            "type": "contourcarpet"
           }
          ],
          "heatmap": [
           {
            "colorbar": {
             "outlinewidth": 0,
             "ticks": ""
            },
            "colorscale": [
             [
              0,
              "#0d0887"
             ],
             [
              0.1111111111111111,
              "#46039f"
             ],
             [
              0.2222222222222222,
              "#7201a8"
             ],
             [
              0.3333333333333333,
              "#9c179e"
             ],
             [
              0.4444444444444444,
              "#bd3786"
             ],
             [
              0.5555555555555556,
              "#d8576b"
             ],
             [
              0.6666666666666666,
              "#ed7953"
             ],
             [
              0.7777777777777778,
              "#fb9f3a"
             ],
             [
              0.8888888888888888,
              "#fdca26"
             ],
             [
              1,
              "#f0f921"
             ]
            ],
            "type": "heatmap"
           }
          ],
          "heatmapgl": [
           {
            "colorbar": {
             "outlinewidth": 0,
             "ticks": ""
            },
            "colorscale": [
             [
              0,
              "#0d0887"
             ],
             [
              0.1111111111111111,
              "#46039f"
             ],
             [
              0.2222222222222222,
              "#7201a8"
             ],
             [
              0.3333333333333333,
              "#9c179e"
             ],
             [
              0.4444444444444444,
              "#bd3786"
             ],
             [
              0.5555555555555556,
              "#d8576b"
             ],
             [
              0.6666666666666666,
              "#ed7953"
             ],
             [
              0.7777777777777778,
              "#fb9f3a"
             ],
             [
              0.8888888888888888,
              "#fdca26"
             ],
             [
              1,
              "#f0f921"
             ]
            ],
            "type": "heatmapgl"
           }
          ],
          "histogram": [
           {
            "marker": {
             "colorbar": {
              "outlinewidth": 0,
              "ticks": ""
             }
            },
            "type": "histogram"
           }
          ],
          "histogram2d": [
           {
            "colorbar": {
             "outlinewidth": 0,
             "ticks": ""
            },
            "colorscale": [
             [
              0,
              "#0d0887"
             ],
             [
              0.1111111111111111,
              "#46039f"
             ],
             [
              0.2222222222222222,
              "#7201a8"
             ],
             [
              0.3333333333333333,
              "#9c179e"
             ],
             [
              0.4444444444444444,
              "#bd3786"
             ],
             [
              0.5555555555555556,
              "#d8576b"
             ],
             [
              0.6666666666666666,
              "#ed7953"
             ],
             [
              0.7777777777777778,
              "#fb9f3a"
             ],
             [
              0.8888888888888888,
              "#fdca26"
             ],
             [
              1,
              "#f0f921"
             ]
            ],
            "type": "histogram2d"
           }
          ],
          "histogram2dcontour": [
           {
            "colorbar": {
             "outlinewidth": 0,
             "ticks": ""
            },
            "colorscale": [
             [
              0,
              "#0d0887"
             ],
             [
              0.1111111111111111,
              "#46039f"
             ],
             [
              0.2222222222222222,
              "#7201a8"
             ],
             [
              0.3333333333333333,
              "#9c179e"
             ],
             [
              0.4444444444444444,
              "#bd3786"
             ],
             [
              0.5555555555555556,
              "#d8576b"
             ],
             [
              0.6666666666666666,
              "#ed7953"
             ],
             [
              0.7777777777777778,
              "#fb9f3a"
             ],
             [
              0.8888888888888888,
              "#fdca26"
             ],
             [
              1,
              "#f0f921"
             ]
            ],
            "type": "histogram2dcontour"
           }
          ],
          "mesh3d": [
           {
            "colorbar": {
             "outlinewidth": 0,
             "ticks": ""
            },
            "type": "mesh3d"
           }
          ],
          "parcoords": [
           {
            "line": {
             "colorbar": {
              "outlinewidth": 0,
              "ticks": ""
             }
            },
            "type": "parcoords"
           }
          ],
          "pie": [
           {
            "automargin": true,
            "type": "pie"
           }
          ],
          "scatter": [
           {
            "marker": {
             "colorbar": {
              "outlinewidth": 0,
              "ticks": ""
             }
            },
            "type": "scatter"
           }
          ],
          "scatter3d": [
           {
            "line": {
             "colorbar": {
              "outlinewidth": 0,
              "ticks": ""
             }
            },
            "marker": {
             "colorbar": {
              "outlinewidth": 0,
              "ticks": ""
             }
            },
            "type": "scatter3d"
           }
          ],
          "scattercarpet": [
           {
            "marker": {
             "colorbar": {
              "outlinewidth": 0,
              "ticks": ""
             }
            },
            "type": "scattercarpet"
           }
          ],
          "scattergeo": [
           {
            "marker": {
             "colorbar": {
              "outlinewidth": 0,
              "ticks": ""
             }
            },
            "type": "scattergeo"
           }
          ],
          "scattergl": [
           {
            "marker": {
             "colorbar": {
              "outlinewidth": 0,
              "ticks": ""
             }
            },
            "type": "scattergl"
           }
          ],
          "scattermapbox": [
           {
            "marker": {
             "colorbar": {
              "outlinewidth": 0,
              "ticks": ""
             }
            },
            "type": "scattermapbox"
           }
          ],
          "scatterpolar": [
           {
            "marker": {
             "colorbar": {
              "outlinewidth": 0,
              "ticks": ""
             }
            },
            "type": "scatterpolar"
           }
          ],
          "scatterpolargl": [
           {
            "marker": {
             "colorbar": {
              "outlinewidth": 0,
              "ticks": ""
             }
            },
            "type": "scatterpolargl"
           }
          ],
          "scatterternary": [
           {
            "marker": {
             "colorbar": {
              "outlinewidth": 0,
              "ticks": ""
             }
            },
            "type": "scatterternary"
           }
          ],
          "surface": [
           {
            "colorbar": {
             "outlinewidth": 0,
             "ticks": ""
            },
            "colorscale": [
             [
              0,
              "#0d0887"
             ],
             [
              0.1111111111111111,
              "#46039f"
             ],
             [
              0.2222222222222222,
              "#7201a8"
             ],
             [
              0.3333333333333333,
              "#9c179e"
             ],
             [
              0.4444444444444444,
              "#bd3786"
             ],
             [
              0.5555555555555556,
              "#d8576b"
             ],
             [
              0.6666666666666666,
              "#ed7953"
             ],
             [
              0.7777777777777778,
              "#fb9f3a"
             ],
             [
              0.8888888888888888,
              "#fdca26"
             ],
             [
              1,
              "#f0f921"
             ]
            ],
            "type": "surface"
           }
          ],
          "table": [
           {
            "cells": {
             "fill": {
              "color": "#EBF0F8"
             },
             "line": {
              "color": "white"
             }
            },
            "header": {
             "fill": {
              "color": "#C8D4E3"
             },
             "line": {
              "color": "white"
             }
            },
            "type": "table"
           }
          ]
         },
         "layout": {
          "annotationdefaults": {
           "arrowcolor": "#2a3f5f",
           "arrowhead": 0,
           "arrowwidth": 1
          },
          "autotypenumbers": "strict",
          "coloraxis": {
           "colorbar": {
            "outlinewidth": 0,
            "ticks": ""
           }
          },
          "colorscale": {
           "diverging": [
            [
             0,
             "#8e0152"
            ],
            [
             0.1,
             "#c51b7d"
            ],
            [
             0.2,
             "#de77ae"
            ],
            [
             0.3,
             "#f1b6da"
            ],
            [
             0.4,
             "#fde0ef"
            ],
            [
             0.5,
             "#f7f7f7"
            ],
            [
             0.6,
             "#e6f5d0"
            ],
            [
             0.7,
             "#b8e186"
            ],
            [
             0.8,
             "#7fbc41"
            ],
            [
             0.9,
             "#4d9221"
            ],
            [
             1,
             "#276419"
            ]
           ],
           "sequential": [
            [
             0,
             "#0d0887"
            ],
            [
             0.1111111111111111,
             "#46039f"
            ],
            [
             0.2222222222222222,
             "#7201a8"
            ],
            [
             0.3333333333333333,
             "#9c179e"
            ],
            [
             0.4444444444444444,
             "#bd3786"
            ],
            [
             0.5555555555555556,
             "#d8576b"
            ],
            [
             0.6666666666666666,
             "#ed7953"
            ],
            [
             0.7777777777777778,
             "#fb9f3a"
            ],
            [
             0.8888888888888888,
             "#fdca26"
            ],
            [
             1,
             "#f0f921"
            ]
           ],
           "sequentialminus": [
            [
             0,
             "#0d0887"
            ],
            [
             0.1111111111111111,
             "#46039f"
            ],
            [
             0.2222222222222222,
             "#7201a8"
            ],
            [
             0.3333333333333333,
             "#9c179e"
            ],
            [
             0.4444444444444444,
             "#bd3786"
            ],
            [
             0.5555555555555556,
             "#d8576b"
            ],
            [
             0.6666666666666666,
             "#ed7953"
            ],
            [
             0.7777777777777778,
             "#fb9f3a"
            ],
            [
             0.8888888888888888,
             "#fdca26"
            ],
            [
             1,
             "#f0f921"
            ]
           ]
          },
          "colorway": [
           "#636efa",
           "#EF553B",
           "#00cc96",
           "#ab63fa",
           "#FFA15A",
           "#19d3f3",
           "#FF6692",
           "#B6E880",
           "#FF97FF",
           "#FECB52"
          ],
          "font": {
           "color": "#2a3f5f"
          },
          "geo": {
           "bgcolor": "white",
           "lakecolor": "white",
           "landcolor": "#E5ECF6",
           "showlakes": true,
           "showland": true,
           "subunitcolor": "white"
          },
          "hoverlabel": {
           "align": "left"
          },
          "hovermode": "closest",
          "mapbox": {
           "style": "light"
          },
          "paper_bgcolor": "white",
          "plot_bgcolor": "#E5ECF6",
          "polar": {
           "angularaxis": {
            "gridcolor": "white",
            "linecolor": "white",
            "ticks": ""
           },
           "bgcolor": "#E5ECF6",
           "radialaxis": {
            "gridcolor": "white",
            "linecolor": "white",
            "ticks": ""
           }
          },
          "scene": {
           "xaxis": {
            "backgroundcolor": "#E5ECF6",
            "gridcolor": "white",
            "gridwidth": 2,
            "linecolor": "white",
            "showbackground": true,
            "ticks": "",
            "zerolinecolor": "white"
           },
           "yaxis": {
            "backgroundcolor": "#E5ECF6",
            "gridcolor": "white",
            "gridwidth": 2,
            "linecolor": "white",
            "showbackground": true,
            "ticks": "",
            "zerolinecolor": "white"
           },
           "zaxis": {
            "backgroundcolor": "#E5ECF6",
            "gridcolor": "white",
            "gridwidth": 2,
            "linecolor": "white",
            "showbackground": true,
            "ticks": "",
            "zerolinecolor": "white"
           }
          },
          "shapedefaults": {
           "line": {
            "color": "#2a3f5f"
           }
          },
          "ternary": {
           "aaxis": {
            "gridcolor": "white",
            "linecolor": "white",
            "ticks": ""
           },
           "baxis": {
            "gridcolor": "white",
            "linecolor": "white",
            "ticks": ""
           },
           "bgcolor": "#E5ECF6",
           "caxis": {
            "gridcolor": "white",
            "linecolor": "white",
            "ticks": ""
           }
          },
          "title": {
           "x": 0.05
          },
          "xaxis": {
           "automargin": true,
           "gridcolor": "white",
           "linecolor": "white",
           "ticks": "",
           "title": {
            "standoff": 15
           },
           "zerolinecolor": "white",
           "zerolinewidth": 2
          },
          "yaxis": {
           "automargin": true,
           "gridcolor": "white",
           "linecolor": "white",
           "ticks": "",
           "title": {
            "standoff": 15
           },
           "zerolinecolor": "white",
           "zerolinewidth": 2
          }
         }
        },
        "title": {
         "font": {
          "color": "#4D5663"
         }
        },
        "xaxis": {
         "gridcolor": "#E1E5ED",
         "showgrid": true,
         "tickfont": {
          "color": "#4D5663"
         },
         "title": {
          "font": {
           "color": "#4D5663"
          },
          "text": "Polarity"
         },
         "zerolinecolor": "#E1E5ED"
        },
        "yaxis": {
         "gridcolor": "#E1E5ED",
         "showgrid": true,
         "tickfont": {
          "color": "#4D5663"
         },
         "title": {
          "font": {
           "color": "#4D5663"
          },
          "text": ""
         },
         "zerolinecolor": "#E1E5ED"
        }
       }
      },
      "text/html": [
       "<div>                            <div id=\"95a2c559-efc6-4022-8392-938f0208aff8\" class=\"plotly-graph-div\" style=\"height:525px; width:100%;\"></div>            <script type=\"text/javascript\">                require([\"plotly\"], function(Plotly) {                    window.PLOTLYENV=window.PLOTLYENV || {};\n",
       "                    window.PLOTLYENV.BASE_URL='https://plot.ly';                                    if (document.getElementById(\"95a2c559-efc6-4022-8392-938f0208aff8\")) {                    Plotly.newPlot(                        \"95a2c559-efc6-4022-8392-938f0208aff8\",                        [{\"histfunc\": \"count\", \"histnorm\": \"\", \"marker\": {\"color\": \"rgba(219, 64, 82, 1.0)\", \"line\": {\"color\": \"#4D5663\", \"width\": 1.3}}, \"name\": \"Pros_polarity\", \"nbinsx\": 50, \"opacity\": 0.8, \"orientation\": \"v\", \"type\": \"histogram\", \"x\": [0.4375, 0.0, -0.04999999999999999, 0.4333333333333333, 0.4375, 0.10181818181818181, 0.4333333333333333, 0.4, 0.39999999999999997, 0.3625, 0.2603318903318903, 0.0, 0.5, 0.4888888888888889, -0.15, 0.7, 0.24533333333333332, 0.39999999999999997, 0.7733333333333333, 0.2625, 0.5047619047619047, -0.05, 0.6, 0.6, 0.65, 0.7799999999999999, 0.625, 0.6999999999999998, 0.8000000000000002, 0.13472222222222224, 0.6950000000000001, 0.0, 0.30000000000000004, 0.475, 0.475, 0.28194444444444444, 0.45909090909090905, 0.6, 0.8, 0.35, 0.0, 0.6, 0.5, 0.8, 0.7, 0.1, 0.7, 0.535, 0.6999999999999998, 0.4, 0.5, 0.19166666666666665, 0.5633333333333334, 0.0, -0.05555555555555555, 0.35000000000000003, 0.5533333333333333, 0.6, 0.3906481481481482, 0.0, 0.26666666666666666, 0.35, 0.21428571428571427, 0.2, 0.4142857142857142, 0.22272727272727275, 0.4875, 0.7, 0.5166666666666666, 0.3977777777777778, 0.5, 0.26666666666666666, 0.7, 0.05555555555555555, 0.0, 0.5, 0.7, 0.21666666666666665, 0.75, 0.23541666666666666, 0.6, 0.8, 0.8, 0.59375, 0.4121212121212121, 0.0, 0.7, 0.14489795918367346, 0.3333333333333333, 0.6, 0.8, 0.18944444444444442, 0.4, 0.0, 0.6, 0.0, 0.6666666666666666, -0.050000000000000044, 0.12159090909090908, 0.8500000000000001, -0.1, 0.14970238095238095, 0.7, 0.6666666666666666, 0.0, 0.35, 0.35, 0.48666666666666664, 0.0, 0.21428571428571427, 0.43499999999999994, 0.25, 0.3875, 0.7, 0.21388888888888888, 0.3387878787878788, 0.5, 0.0, 0.7, 0.7, 0.5366666666666666, 0.55, 0.7, 0.5454545454545454, 0.5, 0.8666666666666667, 0.75, 0.64375, 0.41818181818181815, 0.7, 0.7, 0.6916666666666668, 1.0, 0.4166666666666667, 0.26249999999999996, 0.43333333333333335, 0.4666666666666666, 0.6616666666666666, 0.7, 0.03125, 0.49999999999999994, 0.13636363636363635, 0.7, 0.0, 0.5, 0.525, 0.525, 0.015277777777777776, 0.44999999999999996, 0.6, 0.75, 0.02083333333333333, 0.75, 0.19206349206349205, 0.0, 0.9099999999999999, 0.9099999999999999, 0.7, 0.35, 0.8049999999999999, 0.7, 0.7, 0.5, 0.8, 0.3, 0.47159090909090906, 0.7, 0.4666666666666666, 0.022727272727272724, 0.0, 0.29166666666666663, 0.7, 0.8, 0.4, 0.7, 0.26499999999999996, 0.0, 0.3121212121212121, 0.06818181818181818, 0.2, 0.78, 0.75, 0.6, 0.0, 0.0, 0.6, 0.7, 0.5121212121212121, 0.35, 0.375, 0.5375, 0.061111111111111116, 0.6666666666666666, 0.35, 0.8, 0.7, 0.3, 0.7000000000000001, 0.25, 0.38888888888888884, 0.03571428571428571, 0.7, 0.1, 0.22162761151891588, 0.0, 0.0, 0.8, 0.2333333333333333, -0.019444444444444448, 0.39999999999999997, 1.0, 0.78, 0.48000000000000004, 0.2808730158730158, 0.7, 0.5, 0.7, 0.7, 0.0, 0.55, 0.35, 0.3525, 0.4, 0.35, -0.2916666666666667, 0.0, 1.0, 0.8, 0.4916666666666667, 0.35, 0.55, 0.6, -1.0, 0.7, 0.4875, 0.35, 0.0, 0.65, 0.65, 1.0, 0.4928571428571428, 0.16666666666666666, 0.8, 0.35, 0.5, 0.0, 0.0, 0.0, 0.41818181818181815, 0.15, 0.4681818181818182, 0.4465909090909091, 0.13636363636363635, 0.6999999999999998, 0.7, 0.5424242424242424, 0.0, 0.5333333333333333, 0.5, 0.4, 0.3499999999999999, 0.06150252525252525, 0.8333333333333334, 0.10000000000000002, 0.30000000000000004, 0.234375, 0.0, 0.5, 0.4333333333333333, 0.4333333333333333, 0.43333333333333335, 0.35, 0.39999999999999997, 0.64375, 0.3, 0.64375, 0.4, 0.35, 0.7, 0.4625, 0.8, 0.8, 0.7, 0.49375, 0.0, 0.1, 0.54, 0.5, 0.8, 0.7, 0.2965909090909091, 0.6, 0.32499999999999996, 0.7, 0.7, 0.21428571428571427, -0.15, 0.0, 0.79, 0.65, 0.3181818181818182, 0.0, 0.0, 0.0, 0.25, 0.0, 0.0, 0.55, 0.6, 0.7, 0.35, 0.40625, 0.49375, 0.0, 0.7, 0.7, 0.5666666666666667, 0.75, 0.7, 0.10714285714285714, 0.7, 0.0, 0.7, 0.64, 0.4666666666666667, 0.3136842105263158, 0.9099999999999999, 0.5, 0.5, 0.4, 0.7, 0.7, 0.5, 0.7, 0.0, 0.35, 0.55, 0.65, 0.55, 0.3, 0.75, 0.7, 0.4, 0.04999999999999999, 0.5, 1.0, 0.43333333333333335, 0.0, 0.0, 0.4166666666666667, 0.2333333333333333, 0.5875, 0.35, 0.39999999999999997, 0.4375, 0.0, 0.0, 0.0, 0.16, 1.0, 0.5, 0.0, 0.2875, 0.8, 0.35, 0.45, 0.4555555555555555, 0.6499999999999999, 0.8, 0.425, 0.0, 0.3995192307692308, 0.0, 1.0, 0.7, 0.4333333333333333, 0.09166666666666663, 0.3, 0.5583333333333333, 0.7, 0.0, 0.6, 0.8, 0.6, 0.0, 0.1, 0.7, 0.7, 0.0, 0.7, 0.39999999999999997, 0.7, 0.3333333333333333, 0.5, 0.6000000000000001, 0.17777777777777778, 0.25399999999999995, -0.09583333333333334, 0.0, 0.8, 0.0, 0.472, 0.3666666666666667, 0.0, 0.7, 0.2125, 0.0, 0.7, 0.7, 0.5428571428571429, 0.39999999999999997, 0.17326210826210828, 0.17326210826210828, -0.1875, 0.7, 0.6999999999999998, 0.7, 0.46375, 0.0, 0.7, 0.575, 0.75, 0.0, 0.0, 0.6, 0.13636363636363635, 0.75, 0.5533333333333333, 0.7, 0.7, 0.8, 0.4666666666666666, 0.5047619047619047, 0.0, 0.6499999999999999, 0.19166666666666665, 0.0, 0.5, 0.0, 0.5, 0.7, 0.7, 0.25, 0.7, 0.4916666666666666, 0.0, -0.19999999999999998, 0.6, 0.3033333333333333, 0.6461538461538461, -0.2, 0.8, 0.4666666666666666, 0.7, 0.4, 0.4, 0.78, 0.0, 0.9099999999999999, 0.9099999999999999, 0.4, 0.1, 0.75, 0.7, 0.8, 0.5, 0.5, 0.6499999999999999, 0.7, 0.18333333333333335, 0.6499999999999999, 0.8, 0.9099999999999999, 0.18541666666666665, 0.0, 0.7749999999999999, 0.0, 0.0, 0.3333333333333333, 0.7, 0.375, 0.6999999999999998, 0.2, 0.7, 0.3, 0.5454545454545454, 0.7, 0.7, 0.44999999999999996, 0.16666666666666666, 0.35, 0.5555555555555555, -1.0, 0.6, 0.0, 0.55, 0.35, 0.7, 0.35, -0.19999999999999998, 0.0, 0.3, 0.8, 0.0909090909090909, 0.0, 0.6999999999999998, 0.8, 0.7, 0.41818181818181815, 0.4, 0.0, 0.7, 0.0, -0.6, 0.13636363636363635, 0.0, 0.17777777777777778, 0.65, 0.7, 0.45, -0.009999999999999995, 0.8049999999999999, 0.2, 0.35, 0.0, 0.7, 0.8019999999999999, -0.033333333333333326, 0.35, 0.7, 0.7, 0.4333333333333333, 0.7, 0.2, 0.0, 0.6999999999999998, 0.0, 0.7, -0.1, 0.7, 0.8049999999999999, 0.44999999999999996, 0.17916666666666667, 0.7, 0.7, 0.7, 0.6874999999999999, 0.0, 0.7, 0.39999999999999997, 0.6666666666666666, 0.18333333333333332, 0.7, 0.4107142857142857, 0.4, 0.0, 0.41818181818181815, 0.5, 0.5, 0.6, -0.1583333333333333, 1.0, 0.0, -0.25, 0.0, 0.0, 0.26666666666666666, 0.16205555555555554, 0.0, 0.5375, 0.16, 0.22916666666666666, 0.7, 1.0, 0.7, 0.0, 0.35, 0.3, 0.39999999999999997]}],                        {\"barmode\": \"overlay\", \"legend\": {\"bgcolor\": \"#F5F6F9\", \"font\": {\"color\": \"#4D5663\"}}, \"paper_bgcolor\": \"#F5F6F9\", \"plot_bgcolor\": \"#F5F6F9\", \"template\": {\"data\": {\"bar\": [{\"error_x\": {\"color\": \"#2a3f5f\"}, \"error_y\": {\"color\": \"#2a3f5f\"}, \"marker\": {\"line\": {\"color\": \"#E5ECF6\", \"width\": 0.5}}, \"type\": \"bar\"}], \"barpolar\": [{\"marker\": {\"line\": {\"color\": \"#E5ECF6\", \"width\": 0.5}}, \"type\": \"barpolar\"}], \"carpet\": [{\"aaxis\": {\"endlinecolor\": \"#2a3f5f\", \"gridcolor\": \"white\", \"linecolor\": \"white\", \"minorgridcolor\": \"white\", \"startlinecolor\": \"#2a3f5f\"}, \"baxis\": {\"endlinecolor\": \"#2a3f5f\", \"gridcolor\": \"white\", \"linecolor\": \"white\", \"minorgridcolor\": \"white\", \"startlinecolor\": \"#2a3f5f\"}, \"type\": \"carpet\"}], \"choropleth\": [{\"colorbar\": {\"outlinewidth\": 0, \"ticks\": \"\"}, \"type\": \"choropleth\"}], \"contour\": [{\"colorbar\": {\"outlinewidth\": 0, \"ticks\": \"\"}, \"colorscale\": [[0.0, \"#0d0887\"], [0.1111111111111111, \"#46039f\"], [0.2222222222222222, \"#7201a8\"], [0.3333333333333333, \"#9c179e\"], [0.4444444444444444, \"#bd3786\"], [0.5555555555555556, \"#d8576b\"], [0.6666666666666666, \"#ed7953\"], [0.7777777777777778, \"#fb9f3a\"], [0.8888888888888888, \"#fdca26\"], [1.0, \"#f0f921\"]], \"type\": \"contour\"}], \"contourcarpet\": [{\"colorbar\": {\"outlinewidth\": 0, \"ticks\": \"\"}, \"type\": \"contourcarpet\"}], \"heatmap\": [{\"colorbar\": {\"outlinewidth\": 0, \"ticks\": \"\"}, \"colorscale\": [[0.0, \"#0d0887\"], [0.1111111111111111, \"#46039f\"], [0.2222222222222222, \"#7201a8\"], [0.3333333333333333, \"#9c179e\"], [0.4444444444444444, \"#bd3786\"], [0.5555555555555556, \"#d8576b\"], [0.6666666666666666, \"#ed7953\"], [0.7777777777777778, \"#fb9f3a\"], [0.8888888888888888, \"#fdca26\"], [1.0, \"#f0f921\"]], \"type\": \"heatmap\"}], \"heatmapgl\": [{\"colorbar\": {\"outlinewidth\": 0, \"ticks\": \"\"}, \"colorscale\": [[0.0, \"#0d0887\"], [0.1111111111111111, \"#46039f\"], [0.2222222222222222, \"#7201a8\"], [0.3333333333333333, \"#9c179e\"], [0.4444444444444444, \"#bd3786\"], [0.5555555555555556, \"#d8576b\"], [0.6666666666666666, \"#ed7953\"], [0.7777777777777778, \"#fb9f3a\"], [0.8888888888888888, \"#fdca26\"], [1.0, \"#f0f921\"]], \"type\": \"heatmapgl\"}], \"histogram\": [{\"marker\": {\"colorbar\": {\"outlinewidth\": 0, \"ticks\": \"\"}}, \"type\": \"histogram\"}], \"histogram2d\": [{\"colorbar\": {\"outlinewidth\": 0, \"ticks\": \"\"}, \"colorscale\": [[0.0, \"#0d0887\"], [0.1111111111111111, \"#46039f\"], [0.2222222222222222, \"#7201a8\"], [0.3333333333333333, \"#9c179e\"], [0.4444444444444444, \"#bd3786\"], [0.5555555555555556, \"#d8576b\"], [0.6666666666666666, \"#ed7953\"], [0.7777777777777778, \"#fb9f3a\"], [0.8888888888888888, \"#fdca26\"], [1.0, \"#f0f921\"]], \"type\": \"histogram2d\"}], \"histogram2dcontour\": [{\"colorbar\": {\"outlinewidth\": 0, \"ticks\": \"\"}, \"colorscale\": [[0.0, \"#0d0887\"], [0.1111111111111111, \"#46039f\"], [0.2222222222222222, \"#7201a8\"], [0.3333333333333333, \"#9c179e\"], [0.4444444444444444, \"#bd3786\"], [0.5555555555555556, \"#d8576b\"], [0.6666666666666666, \"#ed7953\"], [0.7777777777777778, \"#fb9f3a\"], [0.8888888888888888, \"#fdca26\"], [1.0, \"#f0f921\"]], \"type\": \"histogram2dcontour\"}], \"mesh3d\": [{\"colorbar\": {\"outlinewidth\": 0, \"ticks\": \"\"}, \"type\": \"mesh3d\"}], \"parcoords\": [{\"line\": {\"colorbar\": {\"outlinewidth\": 0, \"ticks\": \"\"}}, \"type\": \"parcoords\"}], \"pie\": [{\"automargin\": true, \"type\": \"pie\"}], \"scatter\": [{\"marker\": {\"colorbar\": {\"outlinewidth\": 0, \"ticks\": \"\"}}, \"type\": \"scatter\"}], \"scatter3d\": [{\"line\": {\"colorbar\": {\"outlinewidth\": 0, \"ticks\": \"\"}}, \"marker\": {\"colorbar\": {\"outlinewidth\": 0, \"ticks\": \"\"}}, \"type\": \"scatter3d\"}], \"scattercarpet\": [{\"marker\": {\"colorbar\": {\"outlinewidth\": 0, \"ticks\": \"\"}}, \"type\": \"scattercarpet\"}], \"scattergeo\": [{\"marker\": {\"colorbar\": {\"outlinewidth\": 0, \"ticks\": \"\"}}, \"type\": \"scattergeo\"}], \"scattergl\": [{\"marker\": {\"colorbar\": {\"outlinewidth\": 0, \"ticks\": \"\"}}, \"type\": \"scattergl\"}], \"scattermapbox\": [{\"marker\": {\"colorbar\": {\"outlinewidth\": 0, \"ticks\": \"\"}}, \"type\": \"scattermapbox\"}], \"scatterpolar\": [{\"marker\": {\"colorbar\": {\"outlinewidth\": 0, \"ticks\": \"\"}}, \"type\": \"scatterpolar\"}], \"scatterpolargl\": [{\"marker\": {\"colorbar\": {\"outlinewidth\": 0, \"ticks\": \"\"}}, \"type\": \"scatterpolargl\"}], \"scatterternary\": [{\"marker\": {\"colorbar\": {\"outlinewidth\": 0, \"ticks\": \"\"}}, \"type\": \"scatterternary\"}], \"surface\": [{\"colorbar\": {\"outlinewidth\": 0, \"ticks\": \"\"}, \"colorscale\": [[0.0, \"#0d0887\"], [0.1111111111111111, \"#46039f\"], [0.2222222222222222, \"#7201a8\"], [0.3333333333333333, \"#9c179e\"], [0.4444444444444444, \"#bd3786\"], [0.5555555555555556, \"#d8576b\"], [0.6666666666666666, \"#ed7953\"], [0.7777777777777778, \"#fb9f3a\"], [0.8888888888888888, \"#fdca26\"], [1.0, \"#f0f921\"]], \"type\": \"surface\"}], \"table\": [{\"cells\": {\"fill\": {\"color\": \"#EBF0F8\"}, \"line\": {\"color\": \"white\"}}, \"header\": {\"fill\": {\"color\": \"#C8D4E3\"}, \"line\": {\"color\": \"white\"}}, \"type\": \"table\"}]}, \"layout\": {\"annotationdefaults\": {\"arrowcolor\": \"#2a3f5f\", \"arrowhead\": 0, \"arrowwidth\": 1}, \"autotypenumbers\": \"strict\", \"coloraxis\": {\"colorbar\": {\"outlinewidth\": 0, \"ticks\": \"\"}}, \"colorscale\": {\"diverging\": [[0, \"#8e0152\"], [0.1, \"#c51b7d\"], [0.2, \"#de77ae\"], [0.3, \"#f1b6da\"], [0.4, \"#fde0ef\"], [0.5, \"#f7f7f7\"], [0.6, \"#e6f5d0\"], [0.7, \"#b8e186\"], [0.8, \"#7fbc41\"], [0.9, \"#4d9221\"], [1, \"#276419\"]], \"sequential\": [[0.0, \"#0d0887\"], [0.1111111111111111, \"#46039f\"], [0.2222222222222222, \"#7201a8\"], [0.3333333333333333, \"#9c179e\"], [0.4444444444444444, \"#bd3786\"], [0.5555555555555556, \"#d8576b\"], [0.6666666666666666, \"#ed7953\"], [0.7777777777777778, \"#fb9f3a\"], [0.8888888888888888, \"#fdca26\"], [1.0, \"#f0f921\"]], \"sequentialminus\": [[0.0, \"#0d0887\"], [0.1111111111111111, \"#46039f\"], [0.2222222222222222, \"#7201a8\"], [0.3333333333333333, \"#9c179e\"], [0.4444444444444444, \"#bd3786\"], [0.5555555555555556, \"#d8576b\"], [0.6666666666666666, \"#ed7953\"], [0.7777777777777778, \"#fb9f3a\"], [0.8888888888888888, \"#fdca26\"], [1.0, \"#f0f921\"]]}, \"colorway\": [\"#636efa\", \"#EF553B\", \"#00cc96\", \"#ab63fa\", \"#FFA15A\", \"#19d3f3\", \"#FF6692\", \"#B6E880\", \"#FF97FF\", \"#FECB52\"], \"font\": {\"color\": \"#2a3f5f\"}, \"geo\": {\"bgcolor\": \"white\", \"lakecolor\": \"white\", \"landcolor\": \"#E5ECF6\", \"showlakes\": true, \"showland\": true, \"subunitcolor\": \"white\"}, \"hoverlabel\": {\"align\": \"left\"}, \"hovermode\": \"closest\", \"mapbox\": {\"style\": \"light\"}, \"paper_bgcolor\": \"white\", \"plot_bgcolor\": \"#E5ECF6\", \"polar\": {\"angularaxis\": {\"gridcolor\": \"white\", \"linecolor\": \"white\", \"ticks\": \"\"}, \"bgcolor\": \"#E5ECF6\", \"radialaxis\": {\"gridcolor\": \"white\", \"linecolor\": \"white\", \"ticks\": \"\"}}, \"scene\": {\"xaxis\": {\"backgroundcolor\": \"#E5ECF6\", \"gridcolor\": \"white\", \"gridwidth\": 2, \"linecolor\": \"white\", \"showbackground\": true, \"ticks\": \"\", \"zerolinecolor\": \"white\"}, \"yaxis\": {\"backgroundcolor\": \"#E5ECF6\", \"gridcolor\": \"white\", \"gridwidth\": 2, \"linecolor\": \"white\", \"showbackground\": true, \"ticks\": \"\", \"zerolinecolor\": \"white\"}, \"zaxis\": {\"backgroundcolor\": \"#E5ECF6\", \"gridcolor\": \"white\", \"gridwidth\": 2, \"linecolor\": \"white\", \"showbackground\": true, \"ticks\": \"\", \"zerolinecolor\": \"white\"}}, \"shapedefaults\": {\"line\": {\"color\": \"#2a3f5f\"}}, \"ternary\": {\"aaxis\": {\"gridcolor\": \"white\", \"linecolor\": \"white\", \"ticks\": \"\"}, \"baxis\": {\"gridcolor\": \"white\", \"linecolor\": \"white\", \"ticks\": \"\"}, \"bgcolor\": \"#E5ECF6\", \"caxis\": {\"gridcolor\": \"white\", \"linecolor\": \"white\", \"ticks\": \"\"}}, \"title\": {\"x\": 0.05}, \"xaxis\": {\"automargin\": true, \"gridcolor\": \"white\", \"linecolor\": \"white\", \"ticks\": \"\", \"title\": {\"standoff\": 15}, \"zerolinecolor\": \"white\", \"zerolinewidth\": 2}, \"yaxis\": {\"automargin\": true, \"gridcolor\": \"white\", \"linecolor\": \"white\", \"ticks\": \"\", \"title\": {\"standoff\": 15}, \"zerolinecolor\": \"white\", \"zerolinewidth\": 2}}}, \"title\": {\"font\": {\"color\": \"#4D5663\"}}, \"xaxis\": {\"gridcolor\": \"#E1E5ED\", \"showgrid\": true, \"tickfont\": {\"color\": \"#4D5663\"}, \"title\": {\"font\": {\"color\": \"#4D5663\"}, \"text\": \"Polarity\"}, \"zerolinecolor\": \"#E1E5ED\"}, \"yaxis\": {\"gridcolor\": \"#E1E5ED\", \"showgrid\": true, \"tickfont\": {\"color\": \"#4D5663\"}, \"title\": {\"font\": {\"color\": \"#4D5663\"}, \"text\": \"\"}, \"zerolinecolor\": \"#E1E5ED\"}},                        {\"showLink\": true, \"linkText\": \"Export to plot.ly\", \"plotlyServerURL\": \"https://plot.ly\", \"responsive\": true}                    ).then(function(){\n",
       "                            \n",
       "var gd = document.getElementById('95a2c559-efc6-4022-8392-938f0208aff8');\n",
       "var x = new MutationObserver(function (mutations, observer) {{\n",
       "        var display = window.getComputedStyle(gd).display;\n",
       "        if (!display || display === 'none') {{\n",
       "            console.log([gd, 'removed!']);\n",
       "            Plotly.purge(gd);\n",
       "            observer.disconnect();\n",
       "        }}\n",
       "}});\n",
       "\n",
       "// Listen for the removal of the full notebook cells\n",
       "var notebookContainer = gd.closest('#notebook-container');\n",
       "if (notebookContainer) {{\n",
       "    x.observe(notebookContainer, {childList: true});\n",
       "}}\n",
       "\n",
       "// Listen for the clearing of the current output cell\n",
       "var outputEl = gd.closest('.output');\n",
       "if (outputEl) {{\n",
       "    x.observe(outputEl, {childList: true});\n",
       "}}\n",
       "\n",
       "                        })                };                });            </script>        </div>"
      ]
     },
     "metadata": {},
     "output_type": "display_data"
    },
    {
     "data": {
      "application/vnd.plotly.v1+json": {
       "config": {
        "linkText": "Export to plot.ly",
        "plotlyServerURL": "https://plot.ly",
        "showLink": true
       },
       "data": [
        {
         "histfunc": "count",
         "histnorm": "",
         "marker": {
          "color": "rgba(219, 64, 82, 1.0)",
          "line": {
           "color": "#4D5663",
           "width": 1.3
          }
         },
         "name": "Cons_polarity",
         "nbinsx": 50,
         "opacity": 0.8,
         "orientation": "v",
         "type": "histogram",
         "x": [
          0.0625,
          0.2,
          -0.4,
          -0.6166666666666666,
          -0.05,
          -0.13948412698412696,
          0,
          0.125,
          0.014393939393939403,
          0.1,
          0.39625,
          -0.3277777777777778,
          0.02777777777777778,
          0,
          0,
          0.05,
          0.5,
          -0.16666666666666666,
          -0.16666666666666666,
          0.31666666666666665,
          0.16,
          0,
          0,
          0,
          -0.10000000000000002,
          0,
          0,
          0.5,
          0.8,
          -0.08806818181818182,
          0.10874999999999999,
          0,
          -0.10833333333333334,
          0,
          0,
          -0.05833333333333333,
          0,
          0,
          0.08333333333333333,
          -0.07222222222222222,
          0,
          0.05,
          -0.1875,
          0.35714285714285715,
          -0.15555555555555559,
          0.037500000000000006,
          -0.3,
          0,
          0.16,
          0.7,
          0,
          0.7,
          0,
          -0.078125,
          0,
          0.1,
          0.43,
          0,
          -0.08214285714285711,
          0.06666666666666667,
          0.21428571428571427,
          0,
          0.13636363636363635,
          -0.35,
          -0.19500000000000003,
          -0.08156565656565654,
          0,
          0,
          0.042272727272727274,
          -0.08333333333333334,
          -0.125,
          0.5,
          -0.05,
          -0.15,
          0.5,
          -0.19999999999999998,
          0.34732142857142856,
          0.13636363636363635,
          0.1,
          0.08,
          -0.07999999999999996,
          0.8,
          0.35,
          0,
          0,
          0.2,
          0,
          0.10696296296296294,
          -0.22678571428571428,
          0,
          0.03333333333333333,
          0.15929903429903428,
          0,
          0.35,
          0,
          0,
          0,
          0.7,
          -0.1875,
          0.21428571428571427,
          -0.2833333333333334,
          0.025873015873015895,
          -0.20833333333333334,
          0,
          -0.07962962962962963,
          0,
          0.44999999999999996,
          -0.5,
          0,
          -0.049999999999999996,
          0.024047619047619036,
          0.2,
          0.29878787878787877,
          0,
          0.07083333333333332,
          0.025,
          -0.18333333333333332,
          0,
          0.3,
          0.2,
          0.2333333333333333,
          0,
          0,
          -0.025,
          -0.095,
          0,
          0,
          0.5,
          0.2,
          0.5,
          0.5,
          -0.05164835164835162,
          0.7,
          0.11721590909090909,
          0,
          0.2333333333333333,
          0.057142857142857134,
          0.6,
          0.7,
          -0.30000000000000004,
          -0.575,
          -0.07121212121212121,
          0.4,
          -0.10833333333333334,
          -0.2357142857142857,
          0,
          0,
          0.016666666666666677,
          0,
          -0.6999999999999998,
          0.5,
          -0.125,
          0.07291666666666666,
          0.015373563218390816,
          0,
          -0.31666666666666665,
          -0.31666666666666665,
          0,
          0.09999999999999999,
          0.7,
          0,
          -0.09499999999999999,
          0,
          0.7,
          -0.675,
          0.08616883116883116,
          0,
          0,
          -0.5083333333333332,
          0.037500000000000006,
          0.11500000000000002,
          -0.08333333333333333,
          -0.1,
          0.8,
          0,
          -0.025,
          0.03250000000000003,
          -0.004166666666666659,
          -0.65,
          0.5,
          -0.40041666666666664,
          0.16666666666666666,
          -0.06666666666666667,
          0,
          0,
          -0.11875000000000001,
          0.44999999999999996,
          0,
          -0.020000000000000004,
          0,
          -0.20000000000000004,
          0,
          0.09999999999999998,
          0,
          -0.1,
          0,
          0.05833333333333331,
          0.3,
          -0.1,
          -0.10555555555555553,
          -1,
          0,
          0.16,
          0.04984126984126985,
          0,
          0,
          0,
          0.06818181818181818,
          0.04999999999999999,
          0,
          -0.2916666666666667,
          -0.17708333333333331,
          0,
          0.02,
          -0.25,
          0.09999999999999999,
          0,
          0.7,
          0,
          0.25,
          -0.15,
          -0.19722222222222222,
          0,
          -0.125,
          -0.025793650793650803,
          -0.25,
          0.45,
          -0.23333333333333334,
          0,
          0.13333333333333333,
          0,
          0,
          -0.5333333333333333,
          0.7,
          0,
          0.11388888888888887,
          -0.1,
          0,
          0,
          -0.07777777777777779,
          0,
          0.2,
          -0.375,
          0.14772727272727273,
          -0.23999999999999994,
          0,
          -0.16333333333333333,
          0.20333333333333337,
          0,
          -0.18333333333333335,
          -0.30000000000000004,
          0.25,
          -0.65,
          -0.35,
          -0.020000000000000007,
          -0.10997354497354495,
          0,
          -0.17083333333333334,
          -0.22499999999999998,
          -0.08999999999999997,
          -0.09375,
          0.15,
          0,
          -0.5,
          0.225,
          0,
          0,
          0,
          0,
          0,
          0.39999999999999997,
          0,
          0.5,
          -0.022222222222222216,
          0.8,
          0.25,
          0.65,
          -0.037878787878787845,
          0,
          0.425,
          -0.17083333333333334,
          -0.15000000000000002,
          -0.2125,
          0.5,
          0.15,
          -0.1,
          0.2,
          0,
          -0.5,
          0,
          0.23214285714285715,
          0,
          0.11249999999999999,
          -0.08,
          0,
          -0.325,
          0,
          0,
          -0.05,
          1,
          0,
          0,
          0,
          0.32499999999999996,
          -0.175,
          0,
          0,
          0.2857142857142857,
          0.35714285714285715,
          -0.275,
          0,
          0.058333333333333334,
          0,
          0.125,
          0,
          0,
          -0.2916666666666667,
          0.24423076923076922,
          0,
          -0.08333333333333333,
          0.5,
          0.08928571428571429,
          0.15,
          -0.49999999999999994,
          0,
          -0.09892857142857142,
          0,
          0,
          0,
          -0.1,
          -0.2916666666666667,
          0.2,
          -0.05833333333333333,
          0,
          0,
          0,
          0,
          0,
          0,
          -0.125,
          -0.05,
          0.5,
          -0.10000000000000002,
          0.225,
          -0.30000000000000004,
          -0.2107142857142857,
          0.004545454545454561,
          0.03333333333333333,
          -1,
          -0.225,
          0.2,
          -0.3,
          0,
          0,
          -0.19,
          -0.5,
          -0.5,
          0.25,
          0.46666666666666673,
          -0.14583333333333334,
          0.12199843260188083,
          0.1002777777777778,
          0,
          0.4,
          0.21428571428571427,
          0,
          0.2625,
          -0.4,
          -0.6999999999999998,
          0.11666666666666665,
          0,
          -0.20000000000000004,
          0.2,
          -0.13125,
          0,
          -0.21250000000000002,
          -0.2,
          -0.05,
          -0.39000000000000007,
          0,
          0,
          -0.2916666666666667,
          0.16666666666666666,
          -0.025,
          0,
          0.0888888888888889,
          0,
          -0.5,
          0.10357142857142856,
          0,
          0,
          0,
          0,
          0.16,
          0.04999999999999996,
          -0.4,
          0,
          -0.6999999999999998,
          0,
          0.8,
          0,
          -0.6999999999999998,
          0.2,
          0,
          0,
          0,
          0.1,
          0.35,
          0,
          -0.1875,
          -0.13333333333333333,
          -0.05,
          -0.05,
          0,
          -0.14583333333333331,
          0,
          -0.1,
          -0.038461538461538464,
          0,
          -0.4,
          -0.4,
          -0.04285714285714286,
          0.7,
          -0.5,
          -0.05000000000000001,
          0,
          0,
          0.3194444444444444,
          -0.35,
          0.21814814814814817,
          -0.4,
          0,
          0.5,
          0,
          0.1,
          -0.02194444444444445,
          -0.1,
          0,
          0,
          0.25,
          -0.14583333333333331,
          -0.175,
          0,
          0,
          -0.05000000000000001,
          0,
          0,
          -0.21666666666666667,
          0.012500000000000011,
          0,
          -0.4,
          0.1,
          -0.125,
          -0.1,
          -0.30000000000000004,
          0.23,
          -0.6666666666666666,
          0.03452380952380951,
          0.35714285714285715,
          0.35714285714285715,
          0,
          0,
          -0.13333333333333333,
          -0.4,
          -0.14583333333333334,
          0.06666666666666667,
          0.03652380952380952,
          -0.042857142857142885,
          -0.125,
          0.5,
          -0.08181818181818185,
          0,
          0,
          -0.1923076923076923,
          -0.1875,
          -0.4,
          0.1,
          -0.4,
          0,
          -0.15000000000000002,
          0,
          -0.16666666666666666,
          0.4166666666666667,
          -0.05,
          0,
          0,
          -0.2,
          -0.2,
          -0.125,
          1,
          0,
          0.234375,
          0,
          -0.5444444444444444,
          0,
          -0.020000000000000004,
          -0.07936507936507936,
          -0.1,
          0.5,
          -0.07500000000000001,
          0.35,
          0,
          -0.2583333333333333,
          0.5,
          0,
          0,
          -0.25,
          0,
          0,
          -0.15000000000000002,
          0,
          0.15000000000000002,
          0,
          0,
          0,
          -0.2318181818181818,
          0.08,
          0.375,
          0,
          0,
          -0.1,
          -0.4749999999999999,
          0,
          -0.05,
          -0.075,
          0.029166666666666646,
          0,
          0,
          -0.4,
          -0.9099999999999998,
          -0.9099999999999998,
          0,
          -0.07142857142857142,
          0.11481481481481481,
          0,
          0,
          0,
          -0.25,
          0,
          0,
          0.16666666666666669,
          -0.1875,
          -0.05555555555555555,
          0,
          -0.1,
          0.125,
          0.3333333333333333,
          -0.25,
          0,
          0.5,
          0,
          -0.2,
          0.33,
          -0.2916666666666667,
          0,
          -0.1,
          0,
          -0.4,
          0,
          0.2,
          0.15085858585858583,
          0,
          -0.19666666666666668,
          0.11333333333333333,
          0.5,
          -0.1625,
          0.16964285714285712,
          0.3866666666666667,
          -0.35,
          -0.07500000000000001,
          -0.3,
          0.03333333333333333,
          0,
          0.2,
          1,
          0.10000000000000002,
          -0.25,
          0.25,
          -0.08333333333333333
         ]
        }
       ],
       "layout": {
        "barmode": "overlay",
        "legend": {
         "bgcolor": "#F5F6F9",
         "font": {
          "color": "#4D5663"
         }
        },
        "paper_bgcolor": "#F5F6F9",
        "plot_bgcolor": "#F5F6F9",
        "template": {
         "data": {
          "bar": [
           {
            "error_x": {
             "color": "#2a3f5f"
            },
            "error_y": {
             "color": "#2a3f5f"
            },
            "marker": {
             "line": {
              "color": "#E5ECF6",
              "width": 0.5
             }
            },
            "type": "bar"
           }
          ],
          "barpolar": [
           {
            "marker": {
             "line": {
              "color": "#E5ECF6",
              "width": 0.5
             }
            },
            "type": "barpolar"
           }
          ],
          "carpet": [
           {
            "aaxis": {
             "endlinecolor": "#2a3f5f",
             "gridcolor": "white",
             "linecolor": "white",
             "minorgridcolor": "white",
             "startlinecolor": "#2a3f5f"
            },
            "baxis": {
             "endlinecolor": "#2a3f5f",
             "gridcolor": "white",
             "linecolor": "white",
             "minorgridcolor": "white",
             "startlinecolor": "#2a3f5f"
            },
            "type": "carpet"
           }
          ],
          "choropleth": [
           {
            "colorbar": {
             "outlinewidth": 0,
             "ticks": ""
            },
            "type": "choropleth"
           }
          ],
          "contour": [
           {
            "colorbar": {
             "outlinewidth": 0,
             "ticks": ""
            },
            "colorscale": [
             [
              0,
              "#0d0887"
             ],
             [
              0.1111111111111111,
              "#46039f"
             ],
             [
              0.2222222222222222,
              "#7201a8"
             ],
             [
              0.3333333333333333,
              "#9c179e"
             ],
             [
              0.4444444444444444,
              "#bd3786"
             ],
             [
              0.5555555555555556,
              "#d8576b"
             ],
             [
              0.6666666666666666,
              "#ed7953"
             ],
             [
              0.7777777777777778,
              "#fb9f3a"
             ],
             [
              0.8888888888888888,
              "#fdca26"
             ],
             [
              1,
              "#f0f921"
             ]
            ],
            "type": "contour"
           }
          ],
          "contourcarpet": [
           {
            "colorbar": {
             "outlinewidth": 0,
             "ticks": ""
            },
            "type": "contourcarpet"
           }
          ],
          "heatmap": [
           {
            "colorbar": {
             "outlinewidth": 0,
             "ticks": ""
            },
            "colorscale": [
             [
              0,
              "#0d0887"
             ],
             [
              0.1111111111111111,
              "#46039f"
             ],
             [
              0.2222222222222222,
              "#7201a8"
             ],
             [
              0.3333333333333333,
              "#9c179e"
             ],
             [
              0.4444444444444444,
              "#bd3786"
             ],
             [
              0.5555555555555556,
              "#d8576b"
             ],
             [
              0.6666666666666666,
              "#ed7953"
             ],
             [
              0.7777777777777778,
              "#fb9f3a"
             ],
             [
              0.8888888888888888,
              "#fdca26"
             ],
             [
              1,
              "#f0f921"
             ]
            ],
            "type": "heatmap"
           }
          ],
          "heatmapgl": [
           {
            "colorbar": {
             "outlinewidth": 0,
             "ticks": ""
            },
            "colorscale": [
             [
              0,
              "#0d0887"
             ],
             [
              0.1111111111111111,
              "#46039f"
             ],
             [
              0.2222222222222222,
              "#7201a8"
             ],
             [
              0.3333333333333333,
              "#9c179e"
             ],
             [
              0.4444444444444444,
              "#bd3786"
             ],
             [
              0.5555555555555556,
              "#d8576b"
             ],
             [
              0.6666666666666666,
              "#ed7953"
             ],
             [
              0.7777777777777778,
              "#fb9f3a"
             ],
             [
              0.8888888888888888,
              "#fdca26"
             ],
             [
              1,
              "#f0f921"
             ]
            ],
            "type": "heatmapgl"
           }
          ],
          "histogram": [
           {
            "marker": {
             "colorbar": {
              "outlinewidth": 0,
              "ticks": ""
             }
            },
            "type": "histogram"
           }
          ],
          "histogram2d": [
           {
            "colorbar": {
             "outlinewidth": 0,
             "ticks": ""
            },
            "colorscale": [
             [
              0,
              "#0d0887"
             ],
             [
              0.1111111111111111,
              "#46039f"
             ],
             [
              0.2222222222222222,
              "#7201a8"
             ],
             [
              0.3333333333333333,
              "#9c179e"
             ],
             [
              0.4444444444444444,
              "#bd3786"
             ],
             [
              0.5555555555555556,
              "#d8576b"
             ],
             [
              0.6666666666666666,
              "#ed7953"
             ],
             [
              0.7777777777777778,
              "#fb9f3a"
             ],
             [
              0.8888888888888888,
              "#fdca26"
             ],
             [
              1,
              "#f0f921"
             ]
            ],
            "type": "histogram2d"
           }
          ],
          "histogram2dcontour": [
           {
            "colorbar": {
             "outlinewidth": 0,
             "ticks": ""
            },
            "colorscale": [
             [
              0,
              "#0d0887"
             ],
             [
              0.1111111111111111,
              "#46039f"
             ],
             [
              0.2222222222222222,
              "#7201a8"
             ],
             [
              0.3333333333333333,
              "#9c179e"
             ],
             [
              0.4444444444444444,
              "#bd3786"
             ],
             [
              0.5555555555555556,
              "#d8576b"
             ],
             [
              0.6666666666666666,
              "#ed7953"
             ],
             [
              0.7777777777777778,
              "#fb9f3a"
             ],
             [
              0.8888888888888888,
              "#fdca26"
             ],
             [
              1,
              "#f0f921"
             ]
            ],
            "type": "histogram2dcontour"
           }
          ],
          "mesh3d": [
           {
            "colorbar": {
             "outlinewidth": 0,
             "ticks": ""
            },
            "type": "mesh3d"
           }
          ],
          "parcoords": [
           {
            "line": {
             "colorbar": {
              "outlinewidth": 0,
              "ticks": ""
             }
            },
            "type": "parcoords"
           }
          ],
          "pie": [
           {
            "automargin": true,
            "type": "pie"
           }
          ],
          "scatter": [
           {
            "marker": {
             "colorbar": {
              "outlinewidth": 0,
              "ticks": ""
             }
            },
            "type": "scatter"
           }
          ],
          "scatter3d": [
           {
            "line": {
             "colorbar": {
              "outlinewidth": 0,
              "ticks": ""
             }
            },
            "marker": {
             "colorbar": {
              "outlinewidth": 0,
              "ticks": ""
             }
            },
            "type": "scatter3d"
           }
          ],
          "scattercarpet": [
           {
            "marker": {
             "colorbar": {
              "outlinewidth": 0,
              "ticks": ""
             }
            },
            "type": "scattercarpet"
           }
          ],
          "scattergeo": [
           {
            "marker": {
             "colorbar": {
              "outlinewidth": 0,
              "ticks": ""
             }
            },
            "type": "scattergeo"
           }
          ],
          "scattergl": [
           {
            "marker": {
             "colorbar": {
              "outlinewidth": 0,
              "ticks": ""
             }
            },
            "type": "scattergl"
           }
          ],
          "scattermapbox": [
           {
            "marker": {
             "colorbar": {
              "outlinewidth": 0,
              "ticks": ""
             }
            },
            "type": "scattermapbox"
           }
          ],
          "scatterpolar": [
           {
            "marker": {
             "colorbar": {
              "outlinewidth": 0,
              "ticks": ""
             }
            },
            "type": "scatterpolar"
           }
          ],
          "scatterpolargl": [
           {
            "marker": {
             "colorbar": {
              "outlinewidth": 0,
              "ticks": ""
             }
            },
            "type": "scatterpolargl"
           }
          ],
          "scatterternary": [
           {
            "marker": {
             "colorbar": {
              "outlinewidth": 0,
              "ticks": ""
             }
            },
            "type": "scatterternary"
           }
          ],
          "surface": [
           {
            "colorbar": {
             "outlinewidth": 0,
             "ticks": ""
            },
            "colorscale": [
             [
              0,
              "#0d0887"
             ],
             [
              0.1111111111111111,
              "#46039f"
             ],
             [
              0.2222222222222222,
              "#7201a8"
             ],
             [
              0.3333333333333333,
              "#9c179e"
             ],
             [
              0.4444444444444444,
              "#bd3786"
             ],
             [
              0.5555555555555556,
              "#d8576b"
             ],
             [
              0.6666666666666666,
              "#ed7953"
             ],
             [
              0.7777777777777778,
              "#fb9f3a"
             ],
             [
              0.8888888888888888,
              "#fdca26"
             ],
             [
              1,
              "#f0f921"
             ]
            ],
            "type": "surface"
           }
          ],
          "table": [
           {
            "cells": {
             "fill": {
              "color": "#EBF0F8"
             },
             "line": {
              "color": "white"
             }
            },
            "header": {
             "fill": {
              "color": "#C8D4E3"
             },
             "line": {
              "color": "white"
             }
            },
            "type": "table"
           }
          ]
         },
         "layout": {
          "annotationdefaults": {
           "arrowcolor": "#2a3f5f",
           "arrowhead": 0,
           "arrowwidth": 1
          },
          "autotypenumbers": "strict",
          "coloraxis": {
           "colorbar": {
            "outlinewidth": 0,
            "ticks": ""
           }
          },
          "colorscale": {
           "diverging": [
            [
             0,
             "#8e0152"
            ],
            [
             0.1,
             "#c51b7d"
            ],
            [
             0.2,
             "#de77ae"
            ],
            [
             0.3,
             "#f1b6da"
            ],
            [
             0.4,
             "#fde0ef"
            ],
            [
             0.5,
             "#f7f7f7"
            ],
            [
             0.6,
             "#e6f5d0"
            ],
            [
             0.7,
             "#b8e186"
            ],
            [
             0.8,
             "#7fbc41"
            ],
            [
             0.9,
             "#4d9221"
            ],
            [
             1,
             "#276419"
            ]
           ],
           "sequential": [
            [
             0,
             "#0d0887"
            ],
            [
             0.1111111111111111,
             "#46039f"
            ],
            [
             0.2222222222222222,
             "#7201a8"
            ],
            [
             0.3333333333333333,
             "#9c179e"
            ],
            [
             0.4444444444444444,
             "#bd3786"
            ],
            [
             0.5555555555555556,
             "#d8576b"
            ],
            [
             0.6666666666666666,
             "#ed7953"
            ],
            [
             0.7777777777777778,
             "#fb9f3a"
            ],
            [
             0.8888888888888888,
             "#fdca26"
            ],
            [
             1,
             "#f0f921"
            ]
           ],
           "sequentialminus": [
            [
             0,
             "#0d0887"
            ],
            [
             0.1111111111111111,
             "#46039f"
            ],
            [
             0.2222222222222222,
             "#7201a8"
            ],
            [
             0.3333333333333333,
             "#9c179e"
            ],
            [
             0.4444444444444444,
             "#bd3786"
            ],
            [
             0.5555555555555556,
             "#d8576b"
            ],
            [
             0.6666666666666666,
             "#ed7953"
            ],
            [
             0.7777777777777778,
             "#fb9f3a"
            ],
            [
             0.8888888888888888,
             "#fdca26"
            ],
            [
             1,
             "#f0f921"
            ]
           ]
          },
          "colorway": [
           "#636efa",
           "#EF553B",
           "#00cc96",
           "#ab63fa",
           "#FFA15A",
           "#19d3f3",
           "#FF6692",
           "#B6E880",
           "#FF97FF",
           "#FECB52"
          ],
          "font": {
           "color": "#2a3f5f"
          },
          "geo": {
           "bgcolor": "white",
           "lakecolor": "white",
           "landcolor": "#E5ECF6",
           "showlakes": true,
           "showland": true,
           "subunitcolor": "white"
          },
          "hoverlabel": {
           "align": "left"
          },
          "hovermode": "closest",
          "mapbox": {
           "style": "light"
          },
          "paper_bgcolor": "white",
          "plot_bgcolor": "#E5ECF6",
          "polar": {
           "angularaxis": {
            "gridcolor": "white",
            "linecolor": "white",
            "ticks": ""
           },
           "bgcolor": "#E5ECF6",
           "radialaxis": {
            "gridcolor": "white",
            "linecolor": "white",
            "ticks": ""
           }
          },
          "scene": {
           "xaxis": {
            "backgroundcolor": "#E5ECF6",
            "gridcolor": "white",
            "gridwidth": 2,
            "linecolor": "white",
            "showbackground": true,
            "ticks": "",
            "zerolinecolor": "white"
           },
           "yaxis": {
            "backgroundcolor": "#E5ECF6",
            "gridcolor": "white",
            "gridwidth": 2,
            "linecolor": "white",
            "showbackground": true,
            "ticks": "",
            "zerolinecolor": "white"
           },
           "zaxis": {
            "backgroundcolor": "#E5ECF6",
            "gridcolor": "white",
            "gridwidth": 2,
            "linecolor": "white",
            "showbackground": true,
            "ticks": "",
            "zerolinecolor": "white"
           }
          },
          "shapedefaults": {
           "line": {
            "color": "#2a3f5f"
           }
          },
          "ternary": {
           "aaxis": {
            "gridcolor": "white",
            "linecolor": "white",
            "ticks": ""
           },
           "baxis": {
            "gridcolor": "white",
            "linecolor": "white",
            "ticks": ""
           },
           "bgcolor": "#E5ECF6",
           "caxis": {
            "gridcolor": "white",
            "linecolor": "white",
            "ticks": ""
           }
          },
          "title": {
           "x": 0.05
          },
          "xaxis": {
           "automargin": true,
           "gridcolor": "white",
           "linecolor": "white",
           "ticks": "",
           "title": {
            "standoff": 15
           },
           "zerolinecolor": "white",
           "zerolinewidth": 2
          },
          "yaxis": {
           "automargin": true,
           "gridcolor": "white",
           "linecolor": "white",
           "ticks": "",
           "title": {
            "standoff": 15
           },
           "zerolinecolor": "white",
           "zerolinewidth": 2
          }
         }
        },
        "title": {
         "font": {
          "color": "#4D5663"
         }
        },
        "xaxis": {
         "gridcolor": "#E1E5ED",
         "showgrid": true,
         "tickfont": {
          "color": "#4D5663"
         },
         "title": {
          "font": {
           "color": "#4D5663"
          },
          "text": "Polarity"
         },
         "zerolinecolor": "#E1E5ED"
        },
        "yaxis": {
         "gridcolor": "#E1E5ED",
         "showgrid": true,
         "tickfont": {
          "color": "#4D5663"
         },
         "title": {
          "font": {
           "color": "#4D5663"
          },
          "text": ""
         },
         "zerolinecolor": "#E1E5ED"
        }
       }
      },
      "text/html": [
       "<div>                            <div id=\"0e10182e-7489-4951-bfa4-35027d1e3b22\" class=\"plotly-graph-div\" style=\"height:525px; width:100%;\"></div>            <script type=\"text/javascript\">                require([\"plotly\"], function(Plotly) {                    window.PLOTLYENV=window.PLOTLYENV || {};\n",
       "                    window.PLOTLYENV.BASE_URL='https://plot.ly';                                    if (document.getElementById(\"0e10182e-7489-4951-bfa4-35027d1e3b22\")) {                    Plotly.newPlot(                        \"0e10182e-7489-4951-bfa4-35027d1e3b22\",                        [{\"histfunc\": \"count\", \"histnorm\": \"\", \"marker\": {\"color\": \"rgba(219, 64, 82, 1.0)\", \"line\": {\"color\": \"#4D5663\", \"width\": 1.3}}, \"name\": \"Cons_polarity\", \"nbinsx\": 50, \"opacity\": 0.8, \"orientation\": \"v\", \"type\": \"histogram\", \"x\": [0.0625, 0.2, -0.4, -0.6166666666666666, -0.05, -0.13948412698412696, 0.0, 0.125, 0.014393939393939403, 0.1, 0.39625, -0.3277777777777778, 0.02777777777777778, 0.0, 0.0, 0.05, 0.5, -0.16666666666666666, -0.16666666666666666, 0.31666666666666665, 0.16, 0.0, 0.0, 0.0, -0.10000000000000002, 0.0, 0.0, 0.5, 0.8, -0.08806818181818182, 0.10874999999999999, 0.0, -0.10833333333333334, 0.0, 0.0, -0.05833333333333333, 0.0, 0.0, 0.08333333333333333, -0.07222222222222222, 0.0, 0.05, -0.1875, 0.35714285714285715, -0.15555555555555559, 0.037500000000000006, -0.3, 0.0, 0.16, 0.7, 0.0, 0.7, 0.0, -0.078125, 0.0, 0.1, 0.43, 0.0, -0.08214285714285711, 0.06666666666666667, 0.21428571428571427, 0.0, 0.13636363636363635, -0.35, -0.19500000000000003, -0.08156565656565654, 0.0, 0.0, 0.042272727272727274, -0.08333333333333334, -0.125, 0.5, -0.05, -0.15, 0.5, -0.19999999999999998, 0.34732142857142856, 0.13636363636363635, 0.1, 0.08, -0.07999999999999996, 0.8, 0.35, 0.0, 0.0, 0.2, 0.0, 0.10696296296296294, -0.22678571428571428, 0.0, 0.03333333333333333, 0.15929903429903428, 0.0, 0.35, 0.0, 0.0, 0.0, 0.7, -0.1875, 0.21428571428571427, -0.2833333333333334, 0.025873015873015895, -0.20833333333333334, 0.0, -0.07962962962962963, 0.0, 0.44999999999999996, -0.5, 0.0, -0.049999999999999996, 0.024047619047619036, 0.2, 0.29878787878787877, 0.0, 0.07083333333333332, 0.025, -0.18333333333333332, 0.0, 0.3, 0.2, 0.2333333333333333, 0.0, 0.0, -0.025, -0.095, 0.0, 0.0, 0.5, 0.2, 0.5, 0.5, -0.05164835164835162, 0.7, 0.11721590909090909, 0.0, 0.2333333333333333, 0.057142857142857134, 0.6, 0.7, -0.30000000000000004, -0.575, -0.07121212121212121, 0.4, -0.10833333333333334, -0.2357142857142857, 0.0, 0.0, 0.016666666666666677, 0.0, -0.6999999999999998, 0.5, -0.125, 0.07291666666666666, 0.015373563218390816, 0.0, -0.31666666666666665, -0.31666666666666665, 0.0, 0.09999999999999999, 0.7, 0.0, -0.09499999999999999, 0.0, 0.7, -0.675, 0.08616883116883116, 0.0, 0.0, -0.5083333333333332, 0.037500000000000006, 0.11500000000000002, -0.08333333333333333, -0.1, 0.8, 0.0, -0.025, 0.03250000000000003, -0.004166666666666659, -0.65, 0.5, -0.40041666666666664, 0.16666666666666666, -0.06666666666666667, 0.0, 0.0, -0.11875000000000001, 0.44999999999999996, 0.0, -0.020000000000000004, 0.0, -0.20000000000000004, 0.0, 0.09999999999999998, 0.0, -0.1, 0.0, 0.05833333333333331, 0.3, -0.1, -0.10555555555555553, -1.0, 0.0, 0.16, 0.04984126984126985, 0.0, 0.0, 0.0, 0.06818181818181818, 0.04999999999999999, 0.0, -0.2916666666666667, -0.17708333333333331, 0.0, 0.02, -0.25, 0.09999999999999999, 0.0, 0.7, 0.0, 0.25, -0.15, -0.19722222222222222, 0.0, -0.125, -0.025793650793650803, -0.25, 0.45, -0.23333333333333334, 0.0, 0.13333333333333333, 0.0, 0.0, -0.5333333333333333, 0.7, 0.0, 0.11388888888888887, -0.1, 0.0, 0.0, -0.07777777777777779, 0.0, 0.2, -0.375, 0.14772727272727273, -0.23999999999999994, 0.0, -0.16333333333333333, 0.20333333333333337, 0.0, -0.18333333333333335, -0.30000000000000004, 0.25, -0.65, -0.35, -0.020000000000000007, -0.10997354497354495, 0.0, -0.17083333333333334, -0.22499999999999998, -0.08999999999999997, -0.09375, 0.15, 0.0, -0.5, 0.225, 0.0, 0.0, 0.0, 0.0, 0.0, 0.39999999999999997, 0.0, 0.5, -0.022222222222222216, 0.8, 0.25, 0.65, -0.037878787878787845, 0.0, 0.425, -0.17083333333333334, -0.15000000000000002, -0.2125, 0.5, 0.15, -0.1, 0.2, 0.0, -0.5, 0.0, 0.23214285714285715, 0.0, 0.11249999999999999, -0.08, 0.0, -0.325, 0.0, 0.0, -0.05, 1.0, 0.0, 0.0, 0.0, 0.32499999999999996, -0.175, 0.0, 0.0, 0.2857142857142857, 0.35714285714285715, -0.275, 0.0, 0.058333333333333334, 0.0, 0.125, 0.0, 0.0, -0.2916666666666667, 0.24423076923076922, 0.0, -0.08333333333333333, 0.5, 0.08928571428571429, 0.15, -0.49999999999999994, 0.0, -0.09892857142857142, 0.0, 0.0, 0.0, -0.1, -0.2916666666666667, 0.2, -0.05833333333333333, 0.0, 0.0, 0.0, 0.0, 0.0, 0.0, -0.125, -0.05, 0.5, -0.10000000000000002, 0.225, -0.30000000000000004, -0.2107142857142857, 0.004545454545454561, 0.03333333333333333, -1.0, -0.225, 0.2, -0.3, 0.0, 0.0, -0.19, -0.5, -0.5, 0.25, 0.46666666666666673, -0.14583333333333334, 0.12199843260188083, 0.1002777777777778, 0.0, 0.4, 0.21428571428571427, 0.0, 0.2625, -0.4, -0.6999999999999998, 0.11666666666666665, 0.0, -0.20000000000000004, 0.2, -0.13125, 0.0, -0.21250000000000002, -0.2, -0.05, -0.39000000000000007, 0.0, 0.0, -0.2916666666666667, 0.16666666666666666, -0.025, 0.0, 0.0888888888888889, 0.0, -0.5, 0.10357142857142856, 0.0, 0.0, 0.0, 0.0, 0.16, 0.04999999999999996, -0.4, 0.0, -0.6999999999999998, 0.0, 0.8, 0.0, -0.6999999999999998, 0.2, 0.0, 0.0, 0.0, 0.1, 0.35, 0.0, -0.1875, -0.13333333333333333, -0.05, -0.05, 0.0, -0.14583333333333331, 0.0, -0.1, -0.038461538461538464, 0.0, -0.4, -0.4, -0.04285714285714286, 0.7, -0.5, -0.05000000000000001, 0.0, 0.0, 0.3194444444444444, -0.35, 0.21814814814814817, -0.4, 0.0, 0.5, 0.0, 0.1, -0.02194444444444445, -0.1, 0.0, 0.0, 0.25, -0.14583333333333331, -0.175, 0.0, 0.0, -0.05000000000000001, 0.0, 0.0, -0.21666666666666667, 0.012500000000000011, 0.0, -0.4, 0.1, -0.125, -0.1, -0.30000000000000004, 0.23, -0.6666666666666666, 0.03452380952380951, 0.35714285714285715, 0.35714285714285715, 0.0, 0.0, -0.13333333333333333, -0.4, -0.14583333333333334, 0.06666666666666667, 0.03652380952380952, -0.042857142857142885, -0.125, 0.5, -0.08181818181818185, 0.0, 0.0, -0.1923076923076923, -0.1875, -0.4, 0.1, -0.4, 0.0, -0.15000000000000002, 0.0, -0.16666666666666666, 0.4166666666666667, -0.05, 0.0, 0.0, -0.2, -0.2, -0.125, 1.0, 0.0, 0.234375, 0.0, -0.5444444444444444, 0.0, -0.020000000000000004, -0.07936507936507936, -0.1, 0.5, -0.07500000000000001, 0.35, 0.0, -0.2583333333333333, 0.5, 0.0, 0.0, -0.25, 0.0, 0.0, -0.15000000000000002, 0.0, 0.15000000000000002, 0.0, 0.0, 0.0, -0.2318181818181818, 0.08, 0.375, 0.0, 0.0, -0.1, -0.4749999999999999, 0.0, -0.05, -0.075, 0.029166666666666646, 0.0, 0.0, -0.4, -0.9099999999999998, -0.9099999999999998, 0.0, -0.07142857142857142, 0.11481481481481481, 0.0, 0.0, 0.0, -0.25, 0.0, 0.0, 0.16666666666666669, -0.1875, -0.05555555555555555, 0.0, -0.1, 0.125, 0.3333333333333333, -0.25, 0.0, 0.5, 0.0, -0.2, 0.33, -0.2916666666666667, 0.0, -0.1, 0.0, -0.4, 0.0, 0.2, 0.15085858585858583, 0.0, -0.19666666666666668, 0.11333333333333333, 0.5, -0.1625, 0.16964285714285712, 0.3866666666666667, -0.35, -0.07500000000000001, -0.3, 0.03333333333333333, 0.0, 0.2, 1.0, 0.10000000000000002, -0.25, 0.25, -0.08333333333333333]}],                        {\"barmode\": \"overlay\", \"legend\": {\"bgcolor\": \"#F5F6F9\", \"font\": {\"color\": \"#4D5663\"}}, \"paper_bgcolor\": \"#F5F6F9\", \"plot_bgcolor\": \"#F5F6F9\", \"template\": {\"data\": {\"bar\": [{\"error_x\": {\"color\": \"#2a3f5f\"}, \"error_y\": {\"color\": \"#2a3f5f\"}, \"marker\": {\"line\": {\"color\": \"#E5ECF6\", \"width\": 0.5}}, \"type\": \"bar\"}], \"barpolar\": [{\"marker\": {\"line\": {\"color\": \"#E5ECF6\", \"width\": 0.5}}, \"type\": \"barpolar\"}], \"carpet\": [{\"aaxis\": {\"endlinecolor\": \"#2a3f5f\", \"gridcolor\": \"white\", \"linecolor\": \"white\", \"minorgridcolor\": \"white\", \"startlinecolor\": \"#2a3f5f\"}, \"baxis\": {\"endlinecolor\": \"#2a3f5f\", \"gridcolor\": \"white\", \"linecolor\": \"white\", \"minorgridcolor\": \"white\", \"startlinecolor\": \"#2a3f5f\"}, \"type\": \"carpet\"}], \"choropleth\": [{\"colorbar\": {\"outlinewidth\": 0, \"ticks\": \"\"}, \"type\": \"choropleth\"}], \"contour\": [{\"colorbar\": {\"outlinewidth\": 0, \"ticks\": \"\"}, \"colorscale\": [[0.0, \"#0d0887\"], [0.1111111111111111, \"#46039f\"], [0.2222222222222222, \"#7201a8\"], [0.3333333333333333, \"#9c179e\"], [0.4444444444444444, \"#bd3786\"], [0.5555555555555556, \"#d8576b\"], [0.6666666666666666, \"#ed7953\"], [0.7777777777777778, \"#fb9f3a\"], [0.8888888888888888, \"#fdca26\"], [1.0, \"#f0f921\"]], \"type\": \"contour\"}], \"contourcarpet\": [{\"colorbar\": {\"outlinewidth\": 0, \"ticks\": \"\"}, \"type\": \"contourcarpet\"}], \"heatmap\": [{\"colorbar\": {\"outlinewidth\": 0, \"ticks\": \"\"}, \"colorscale\": [[0.0, \"#0d0887\"], [0.1111111111111111, \"#46039f\"], [0.2222222222222222, \"#7201a8\"], [0.3333333333333333, \"#9c179e\"], [0.4444444444444444, \"#bd3786\"], [0.5555555555555556, \"#d8576b\"], [0.6666666666666666, \"#ed7953\"], [0.7777777777777778, \"#fb9f3a\"], [0.8888888888888888, \"#fdca26\"], [1.0, \"#f0f921\"]], \"type\": \"heatmap\"}], \"heatmapgl\": [{\"colorbar\": {\"outlinewidth\": 0, \"ticks\": \"\"}, \"colorscale\": [[0.0, \"#0d0887\"], [0.1111111111111111, \"#46039f\"], [0.2222222222222222, \"#7201a8\"], [0.3333333333333333, \"#9c179e\"], [0.4444444444444444, \"#bd3786\"], [0.5555555555555556, \"#d8576b\"], [0.6666666666666666, \"#ed7953\"], [0.7777777777777778, \"#fb9f3a\"], [0.8888888888888888, \"#fdca26\"], [1.0, \"#f0f921\"]], \"type\": \"heatmapgl\"}], \"histogram\": [{\"marker\": {\"colorbar\": {\"outlinewidth\": 0, \"ticks\": \"\"}}, \"type\": \"histogram\"}], \"histogram2d\": [{\"colorbar\": {\"outlinewidth\": 0, \"ticks\": \"\"}, \"colorscale\": [[0.0, \"#0d0887\"], [0.1111111111111111, \"#46039f\"], [0.2222222222222222, \"#7201a8\"], [0.3333333333333333, \"#9c179e\"], [0.4444444444444444, \"#bd3786\"], [0.5555555555555556, \"#d8576b\"], [0.6666666666666666, \"#ed7953\"], [0.7777777777777778, \"#fb9f3a\"], [0.8888888888888888, \"#fdca26\"], [1.0, \"#f0f921\"]], \"type\": \"histogram2d\"}], \"histogram2dcontour\": [{\"colorbar\": {\"outlinewidth\": 0, \"ticks\": \"\"}, \"colorscale\": [[0.0, \"#0d0887\"], [0.1111111111111111, \"#46039f\"], [0.2222222222222222, \"#7201a8\"], [0.3333333333333333, \"#9c179e\"], [0.4444444444444444, \"#bd3786\"], [0.5555555555555556, \"#d8576b\"], [0.6666666666666666, \"#ed7953\"], [0.7777777777777778, \"#fb9f3a\"], [0.8888888888888888, \"#fdca26\"], [1.0, \"#f0f921\"]], \"type\": \"histogram2dcontour\"}], \"mesh3d\": [{\"colorbar\": {\"outlinewidth\": 0, \"ticks\": \"\"}, \"type\": \"mesh3d\"}], \"parcoords\": [{\"line\": {\"colorbar\": {\"outlinewidth\": 0, \"ticks\": \"\"}}, \"type\": \"parcoords\"}], \"pie\": [{\"automargin\": true, \"type\": \"pie\"}], \"scatter\": [{\"marker\": {\"colorbar\": {\"outlinewidth\": 0, \"ticks\": \"\"}}, \"type\": \"scatter\"}], \"scatter3d\": [{\"line\": {\"colorbar\": {\"outlinewidth\": 0, \"ticks\": \"\"}}, \"marker\": {\"colorbar\": {\"outlinewidth\": 0, \"ticks\": \"\"}}, \"type\": \"scatter3d\"}], \"scattercarpet\": [{\"marker\": {\"colorbar\": {\"outlinewidth\": 0, \"ticks\": \"\"}}, \"type\": \"scattercarpet\"}], \"scattergeo\": [{\"marker\": {\"colorbar\": {\"outlinewidth\": 0, \"ticks\": \"\"}}, \"type\": \"scattergeo\"}], \"scattergl\": [{\"marker\": {\"colorbar\": {\"outlinewidth\": 0, \"ticks\": \"\"}}, \"type\": \"scattergl\"}], \"scattermapbox\": [{\"marker\": {\"colorbar\": {\"outlinewidth\": 0, \"ticks\": \"\"}}, \"type\": \"scattermapbox\"}], \"scatterpolar\": [{\"marker\": {\"colorbar\": {\"outlinewidth\": 0, \"ticks\": \"\"}}, \"type\": \"scatterpolar\"}], \"scatterpolargl\": [{\"marker\": {\"colorbar\": {\"outlinewidth\": 0, \"ticks\": \"\"}}, \"type\": \"scatterpolargl\"}], \"scatterternary\": [{\"marker\": {\"colorbar\": {\"outlinewidth\": 0, \"ticks\": \"\"}}, \"type\": \"scatterternary\"}], \"surface\": [{\"colorbar\": {\"outlinewidth\": 0, \"ticks\": \"\"}, \"colorscale\": [[0.0, \"#0d0887\"], [0.1111111111111111, \"#46039f\"], [0.2222222222222222, \"#7201a8\"], [0.3333333333333333, \"#9c179e\"], [0.4444444444444444, \"#bd3786\"], [0.5555555555555556, \"#d8576b\"], [0.6666666666666666, \"#ed7953\"], [0.7777777777777778, \"#fb9f3a\"], [0.8888888888888888, \"#fdca26\"], [1.0, \"#f0f921\"]], \"type\": \"surface\"}], \"table\": [{\"cells\": {\"fill\": {\"color\": \"#EBF0F8\"}, \"line\": {\"color\": \"white\"}}, \"header\": {\"fill\": {\"color\": \"#C8D4E3\"}, \"line\": {\"color\": \"white\"}}, \"type\": \"table\"}]}, \"layout\": {\"annotationdefaults\": {\"arrowcolor\": \"#2a3f5f\", \"arrowhead\": 0, \"arrowwidth\": 1}, \"autotypenumbers\": \"strict\", \"coloraxis\": {\"colorbar\": {\"outlinewidth\": 0, \"ticks\": \"\"}}, \"colorscale\": {\"diverging\": [[0, \"#8e0152\"], [0.1, \"#c51b7d\"], [0.2, \"#de77ae\"], [0.3, \"#f1b6da\"], [0.4, \"#fde0ef\"], [0.5, \"#f7f7f7\"], [0.6, \"#e6f5d0\"], [0.7, \"#b8e186\"], [0.8, \"#7fbc41\"], [0.9, \"#4d9221\"], [1, \"#276419\"]], \"sequential\": [[0.0, \"#0d0887\"], [0.1111111111111111, \"#46039f\"], [0.2222222222222222, \"#7201a8\"], [0.3333333333333333, \"#9c179e\"], [0.4444444444444444, \"#bd3786\"], [0.5555555555555556, \"#d8576b\"], [0.6666666666666666, \"#ed7953\"], [0.7777777777777778, \"#fb9f3a\"], [0.8888888888888888, \"#fdca26\"], [1.0, \"#f0f921\"]], \"sequentialminus\": [[0.0, \"#0d0887\"], [0.1111111111111111, \"#46039f\"], [0.2222222222222222, \"#7201a8\"], [0.3333333333333333, \"#9c179e\"], [0.4444444444444444, \"#bd3786\"], [0.5555555555555556, \"#d8576b\"], [0.6666666666666666, \"#ed7953\"], [0.7777777777777778, \"#fb9f3a\"], [0.8888888888888888, \"#fdca26\"], [1.0, \"#f0f921\"]]}, \"colorway\": [\"#636efa\", \"#EF553B\", \"#00cc96\", \"#ab63fa\", \"#FFA15A\", \"#19d3f3\", \"#FF6692\", \"#B6E880\", \"#FF97FF\", \"#FECB52\"], \"font\": {\"color\": \"#2a3f5f\"}, \"geo\": {\"bgcolor\": \"white\", \"lakecolor\": \"white\", \"landcolor\": \"#E5ECF6\", \"showlakes\": true, \"showland\": true, \"subunitcolor\": \"white\"}, \"hoverlabel\": {\"align\": \"left\"}, \"hovermode\": \"closest\", \"mapbox\": {\"style\": \"light\"}, \"paper_bgcolor\": \"white\", \"plot_bgcolor\": \"#E5ECF6\", \"polar\": {\"angularaxis\": {\"gridcolor\": \"white\", \"linecolor\": \"white\", \"ticks\": \"\"}, \"bgcolor\": \"#E5ECF6\", \"radialaxis\": {\"gridcolor\": \"white\", \"linecolor\": \"white\", \"ticks\": \"\"}}, \"scene\": {\"xaxis\": {\"backgroundcolor\": \"#E5ECF6\", \"gridcolor\": \"white\", \"gridwidth\": 2, \"linecolor\": \"white\", \"showbackground\": true, \"ticks\": \"\", \"zerolinecolor\": \"white\"}, \"yaxis\": {\"backgroundcolor\": \"#E5ECF6\", \"gridcolor\": \"white\", \"gridwidth\": 2, \"linecolor\": \"white\", \"showbackground\": true, \"ticks\": \"\", \"zerolinecolor\": \"white\"}, \"zaxis\": {\"backgroundcolor\": \"#E5ECF6\", \"gridcolor\": \"white\", \"gridwidth\": 2, \"linecolor\": \"white\", \"showbackground\": true, \"ticks\": \"\", \"zerolinecolor\": \"white\"}}, \"shapedefaults\": {\"line\": {\"color\": \"#2a3f5f\"}}, \"ternary\": {\"aaxis\": {\"gridcolor\": \"white\", \"linecolor\": \"white\", \"ticks\": \"\"}, \"baxis\": {\"gridcolor\": \"white\", \"linecolor\": \"white\", \"ticks\": \"\"}, \"bgcolor\": \"#E5ECF6\", \"caxis\": {\"gridcolor\": \"white\", \"linecolor\": \"white\", \"ticks\": \"\"}}, \"title\": {\"x\": 0.05}, \"xaxis\": {\"automargin\": true, \"gridcolor\": \"white\", \"linecolor\": \"white\", \"ticks\": \"\", \"title\": {\"standoff\": 15}, \"zerolinecolor\": \"white\", \"zerolinewidth\": 2}, \"yaxis\": {\"automargin\": true, \"gridcolor\": \"white\", \"linecolor\": \"white\", \"ticks\": \"\", \"title\": {\"standoff\": 15}, \"zerolinecolor\": \"white\", \"zerolinewidth\": 2}}}, \"title\": {\"font\": {\"color\": \"#4D5663\"}}, \"xaxis\": {\"gridcolor\": \"#E1E5ED\", \"showgrid\": true, \"tickfont\": {\"color\": \"#4D5663\"}, \"title\": {\"font\": {\"color\": \"#4D5663\"}, \"text\": \"Polarity\"}, \"zerolinecolor\": \"#E1E5ED\"}, \"yaxis\": {\"gridcolor\": \"#E1E5ED\", \"showgrid\": true, \"tickfont\": {\"color\": \"#4D5663\"}, \"title\": {\"font\": {\"color\": \"#4D5663\"}, \"text\": \"\"}, \"zerolinecolor\": \"#E1E5ED\"}},                        {\"showLink\": true, \"linkText\": \"Export to plot.ly\", \"plotlyServerURL\": \"https://plot.ly\", \"responsive\": true}                    ).then(function(){\n",
       "                            \n",
       "var gd = document.getElementById('0e10182e-7489-4951-bfa4-35027d1e3b22');\n",
       "var x = new MutationObserver(function (mutations, observer) {{\n",
       "        var display = window.getComputedStyle(gd).display;\n",
       "        if (!display || display === 'none') {{\n",
       "            console.log([gd, 'removed!']);\n",
       "            Plotly.purge(gd);\n",
       "            observer.disconnect();\n",
       "        }}\n",
       "}});\n",
       "\n",
       "// Listen for the removal of the full notebook cells\n",
       "var notebookContainer = gd.closest('#notebook-container');\n",
       "if (notebookContainer) {{\n",
       "    x.observe(notebookContainer, {childList: true});\n",
       "}}\n",
       "\n",
       "// Listen for the clearing of the current output cell\n",
       "var outputEl = gd.closest('.output');\n",
       "if (outputEl) {{\n",
       "    x.observe(outputEl, {childList: true});\n",
       "}}\n",
       "\n",
       "                        })                };                });            </script>        </div>"
      ]
     },
     "metadata": {},
     "output_type": "display_data"
    }
   ],
   "source": [
    "df['Pros_polarity'].iplot(kind = 'hist', colors = 'red', bins = 50, xTitle = 'Polarity')\n",
    "df['Cons_polarity'].iplot(kind = 'hist', colors = 'red', bins = 50, xTitle = 'Polarity')"
   ]
  },
  {
   "cell_type": "code",
   "execution_count": 80,
   "id": "19f9973a",
   "metadata": {},
   "outputs": [],
   "source": [
    "### Distribution of Reviews, Ratings"
   ]
  },
  {
   "cell_type": "code",
   "execution_count": 77,
   "id": "d6802889",
   "metadata": {
    "scrolled": false
   },
   "outputs": [
    {
     "data": {
      "application/vnd.plotly.v1+json": {
       "config": {
        "linkText": "Export to plot.ly",
        "plotlyServerURL": "https://plot.ly",
        "showLink": true
       },
       "data": [
        {
         "histfunc": "count",
         "histnorm": "",
         "marker": {
          "color": "rgba(255, 153, 51, 1.0)",
          "line": {
           "color": "#4D5663",
           "width": 1.3
          }
         },
         "name": "Rating",
         "opacity": 0.8,
         "orientation": "v",
         "type": "histogram",
         "x": [
          5,
          4,
          5,
          4,
          5,
          1,
          1,
          5,
          3,
          3,
          5,
          3,
          4,
          4,
          2,
          2,
          5,
          5,
          5,
          3,
          5,
          4,
          4,
          4,
          5,
          5,
          5,
          5,
          5,
          5,
          5,
          4,
          4,
          4,
          4,
          5,
          4,
          4,
          2,
          4,
          4,
          5,
          5,
          5,
          2,
          3,
          4,
          5,
          4,
          3,
          3,
          4,
          4,
          4,
          4,
          4,
          2,
          3,
          5,
          2,
          5,
          5,
          4,
          4,
          5,
          5,
          5,
          3,
          1,
          1,
          4,
          5,
          3,
          2,
          4,
          1,
          3,
          4,
          4,
          1,
          1,
          2,
          4,
          4,
          5,
          3,
          5,
          3,
          2,
          4,
          3,
          2,
          1,
          1,
          5,
          3,
          4,
          1,
          3,
          5,
          3,
          4,
          4,
          4,
          1,
          3,
          4,
          4,
          5,
          1,
          1,
          3,
          4,
          3,
          2,
          4,
          4,
          1,
          3,
          3,
          4,
          4,
          5,
          2,
          4,
          5,
          3,
          4,
          3,
          3,
          3,
          2,
          4,
          4,
          4,
          4,
          4,
          5,
          4,
          4,
          4,
          3,
          3,
          3,
          4,
          5,
          5,
          5,
          1,
          4,
          5,
          4,
          5,
          2,
          4,
          3,
          3,
          2,
          2,
          5,
          5,
          3,
          5,
          3,
          1,
          3,
          3,
          4,
          5,
          5,
          4,
          4,
          5,
          5,
          1,
          3,
          3,
          1,
          4,
          3,
          1,
          4,
          3,
          1,
          5,
          1,
          3,
          5,
          3,
          4,
          3,
          2,
          4,
          2,
          4,
          1,
          4,
          5,
          2,
          1,
          1,
          4,
          4,
          1,
          5,
          5,
          3,
          4,
          1,
          4,
          3,
          4,
          5,
          5,
          4,
          3,
          4,
          4,
          3,
          3,
          4,
          5,
          4,
          1,
          2,
          4,
          5,
          4,
          5,
          1,
          5,
          4,
          1,
          3,
          5,
          4,
          4,
          5,
          5,
          4,
          4,
          3,
          1,
          3,
          1,
          4,
          1,
          1,
          2,
          3,
          4,
          4,
          3,
          4,
          2,
          1,
          4,
          5,
          1,
          1,
          2,
          1,
          5,
          5,
          5,
          4,
          5,
          4,
          4,
          4,
          5,
          4,
          4,
          4,
          4,
          3,
          4,
          1,
          2,
          5,
          4,
          4,
          4,
          4,
          5,
          4,
          4,
          5,
          4,
          4,
          4,
          4,
          2,
          4,
          4,
          3,
          1,
          5,
          3,
          5,
          4,
          2,
          3,
          1,
          4,
          4,
          5,
          5,
          4,
          2,
          4,
          1,
          5,
          3,
          4,
          4,
          4,
          4,
          3,
          3,
          5,
          2,
          5,
          4,
          4,
          2,
          5,
          3,
          3,
          3,
          4,
          5,
          4,
          4,
          1,
          2,
          4,
          4,
          4,
          4,
          3,
          5,
          1,
          3,
          4,
          5,
          1,
          5,
          4,
          4,
          3,
          4,
          5,
          4,
          1,
          4,
          4,
          4,
          3,
          3,
          2,
          3,
          4,
          5,
          3,
          4,
          5,
          3,
          4,
          5,
          3,
          4,
          4,
          4,
          3,
          5,
          4,
          4,
          5,
          3,
          5,
          5,
          5,
          3,
          4,
          2,
          5,
          5,
          2,
          4,
          4,
          5,
          4,
          5,
          3,
          5,
          5,
          4,
          2,
          5,
          3,
          4,
          5,
          2,
          4,
          3,
          4,
          5,
          4,
          4,
          1,
          4,
          4,
          1,
          4,
          4,
          4,
          4,
          4,
          2,
          2,
          3,
          5,
          3,
          4,
          5,
          5,
          4,
          3,
          2,
          3,
          3,
          4,
          1,
          3,
          3,
          5,
          4,
          5,
          4,
          5,
          3,
          3,
          4,
          4,
          4,
          5,
          1,
          4,
          5,
          2,
          5,
          3,
          4,
          4,
          5,
          5,
          5,
          5,
          5,
          4,
          5,
          5,
          3,
          5,
          4,
          3,
          4,
          4,
          3,
          4,
          4,
          4,
          5,
          5,
          3,
          4,
          5,
          2,
          4,
          5,
          4,
          3,
          3,
          4,
          4,
          3,
          3,
          5,
          3,
          2,
          5,
          3,
          2,
          3,
          5,
          5,
          5,
          2,
          4,
          5,
          2,
          3,
          3,
          5,
          3,
          4,
          3,
          4,
          1,
          4,
          4,
          4,
          3,
          5,
          4,
          4,
          5,
          4,
          4,
          5,
          4,
          4,
          4,
          4,
          3,
          5,
          5,
          4,
          1,
          1,
          2,
          4,
          2,
          4,
          5,
          4,
          3,
          4,
          3,
          3,
          3,
          4,
          4,
          5,
          3,
          4,
          1,
          3,
          5,
          5,
          2,
          2,
          5,
          5,
          3,
          3,
          3,
          1,
          3,
          1,
          4,
          4,
          1,
          1,
          5,
          1,
          4,
          2,
          3,
          5,
          5,
          5,
          4,
          5,
          4,
          3,
          3,
          3
         ]
        }
       ],
       "layout": {
        "barmode": "overlay",
        "legend": {
         "bgcolor": "#F5F6F9",
         "font": {
          "color": "#4D5663"
         }
        },
        "paper_bgcolor": "#F5F6F9",
        "plot_bgcolor": "#F5F6F9",
        "template": {
         "data": {
          "bar": [
           {
            "error_x": {
             "color": "#2a3f5f"
            },
            "error_y": {
             "color": "#2a3f5f"
            },
            "marker": {
             "line": {
              "color": "#E5ECF6",
              "width": 0.5
             }
            },
            "type": "bar"
           }
          ],
          "barpolar": [
           {
            "marker": {
             "line": {
              "color": "#E5ECF6",
              "width": 0.5
             }
            },
            "type": "barpolar"
           }
          ],
          "carpet": [
           {
            "aaxis": {
             "endlinecolor": "#2a3f5f",
             "gridcolor": "white",
             "linecolor": "white",
             "minorgridcolor": "white",
             "startlinecolor": "#2a3f5f"
            },
            "baxis": {
             "endlinecolor": "#2a3f5f",
             "gridcolor": "white",
             "linecolor": "white",
             "minorgridcolor": "white",
             "startlinecolor": "#2a3f5f"
            },
            "type": "carpet"
           }
          ],
          "choropleth": [
           {
            "colorbar": {
             "outlinewidth": 0,
             "ticks": ""
            },
            "type": "choropleth"
           }
          ],
          "contour": [
           {
            "colorbar": {
             "outlinewidth": 0,
             "ticks": ""
            },
            "colorscale": [
             [
              0,
              "#0d0887"
             ],
             [
              0.1111111111111111,
              "#46039f"
             ],
             [
              0.2222222222222222,
              "#7201a8"
             ],
             [
              0.3333333333333333,
              "#9c179e"
             ],
             [
              0.4444444444444444,
              "#bd3786"
             ],
             [
              0.5555555555555556,
              "#d8576b"
             ],
             [
              0.6666666666666666,
              "#ed7953"
             ],
             [
              0.7777777777777778,
              "#fb9f3a"
             ],
             [
              0.8888888888888888,
              "#fdca26"
             ],
             [
              1,
              "#f0f921"
             ]
            ],
            "type": "contour"
           }
          ],
          "contourcarpet": [
           {
            "colorbar": {
             "outlinewidth": 0,
             "ticks": ""
            },
            "type": "contourcarpet"
           }
          ],
          "heatmap": [
           {
            "colorbar": {
             "outlinewidth": 0,
             "ticks": ""
            },
            "colorscale": [
             [
              0,
              "#0d0887"
             ],
             [
              0.1111111111111111,
              "#46039f"
             ],
             [
              0.2222222222222222,
              "#7201a8"
             ],
             [
              0.3333333333333333,
              "#9c179e"
             ],
             [
              0.4444444444444444,
              "#bd3786"
             ],
             [
              0.5555555555555556,
              "#d8576b"
             ],
             [
              0.6666666666666666,
              "#ed7953"
             ],
             [
              0.7777777777777778,
              "#fb9f3a"
             ],
             [
              0.8888888888888888,
              "#fdca26"
             ],
             [
              1,
              "#f0f921"
             ]
            ],
            "type": "heatmap"
           }
          ],
          "heatmapgl": [
           {
            "colorbar": {
             "outlinewidth": 0,
             "ticks": ""
            },
            "colorscale": [
             [
              0,
              "#0d0887"
             ],
             [
              0.1111111111111111,
              "#46039f"
             ],
             [
              0.2222222222222222,
              "#7201a8"
             ],
             [
              0.3333333333333333,
              "#9c179e"
             ],
             [
              0.4444444444444444,
              "#bd3786"
             ],
             [
              0.5555555555555556,
              "#d8576b"
             ],
             [
              0.6666666666666666,
              "#ed7953"
             ],
             [
              0.7777777777777778,
              "#fb9f3a"
             ],
             [
              0.8888888888888888,
              "#fdca26"
             ],
             [
              1,
              "#f0f921"
             ]
            ],
            "type": "heatmapgl"
           }
          ],
          "histogram": [
           {
            "marker": {
             "colorbar": {
              "outlinewidth": 0,
              "ticks": ""
             }
            },
            "type": "histogram"
           }
          ],
          "histogram2d": [
           {
            "colorbar": {
             "outlinewidth": 0,
             "ticks": ""
            },
            "colorscale": [
             [
              0,
              "#0d0887"
             ],
             [
              0.1111111111111111,
              "#46039f"
             ],
             [
              0.2222222222222222,
              "#7201a8"
             ],
             [
              0.3333333333333333,
              "#9c179e"
             ],
             [
              0.4444444444444444,
              "#bd3786"
             ],
             [
              0.5555555555555556,
              "#d8576b"
             ],
             [
              0.6666666666666666,
              "#ed7953"
             ],
             [
              0.7777777777777778,
              "#fb9f3a"
             ],
             [
              0.8888888888888888,
              "#fdca26"
             ],
             [
              1,
              "#f0f921"
             ]
            ],
            "type": "histogram2d"
           }
          ],
          "histogram2dcontour": [
           {
            "colorbar": {
             "outlinewidth": 0,
             "ticks": ""
            },
            "colorscale": [
             [
              0,
              "#0d0887"
             ],
             [
              0.1111111111111111,
              "#46039f"
             ],
             [
              0.2222222222222222,
              "#7201a8"
             ],
             [
              0.3333333333333333,
              "#9c179e"
             ],
             [
              0.4444444444444444,
              "#bd3786"
             ],
             [
              0.5555555555555556,
              "#d8576b"
             ],
             [
              0.6666666666666666,
              "#ed7953"
             ],
             [
              0.7777777777777778,
              "#fb9f3a"
             ],
             [
              0.8888888888888888,
              "#fdca26"
             ],
             [
              1,
              "#f0f921"
             ]
            ],
            "type": "histogram2dcontour"
           }
          ],
          "mesh3d": [
           {
            "colorbar": {
             "outlinewidth": 0,
             "ticks": ""
            },
            "type": "mesh3d"
           }
          ],
          "parcoords": [
           {
            "line": {
             "colorbar": {
              "outlinewidth": 0,
              "ticks": ""
             }
            },
            "type": "parcoords"
           }
          ],
          "pie": [
           {
            "automargin": true,
            "type": "pie"
           }
          ],
          "scatter": [
           {
            "marker": {
             "colorbar": {
              "outlinewidth": 0,
              "ticks": ""
             }
            },
            "type": "scatter"
           }
          ],
          "scatter3d": [
           {
            "line": {
             "colorbar": {
              "outlinewidth": 0,
              "ticks": ""
             }
            },
            "marker": {
             "colorbar": {
              "outlinewidth": 0,
              "ticks": ""
             }
            },
            "type": "scatter3d"
           }
          ],
          "scattercarpet": [
           {
            "marker": {
             "colorbar": {
              "outlinewidth": 0,
              "ticks": ""
             }
            },
            "type": "scattercarpet"
           }
          ],
          "scattergeo": [
           {
            "marker": {
             "colorbar": {
              "outlinewidth": 0,
              "ticks": ""
             }
            },
            "type": "scattergeo"
           }
          ],
          "scattergl": [
           {
            "marker": {
             "colorbar": {
              "outlinewidth": 0,
              "ticks": ""
             }
            },
            "type": "scattergl"
           }
          ],
          "scattermapbox": [
           {
            "marker": {
             "colorbar": {
              "outlinewidth": 0,
              "ticks": ""
             }
            },
            "type": "scattermapbox"
           }
          ],
          "scatterpolar": [
           {
            "marker": {
             "colorbar": {
              "outlinewidth": 0,
              "ticks": ""
             }
            },
            "type": "scatterpolar"
           }
          ],
          "scatterpolargl": [
           {
            "marker": {
             "colorbar": {
              "outlinewidth": 0,
              "ticks": ""
             }
            },
            "type": "scatterpolargl"
           }
          ],
          "scatterternary": [
           {
            "marker": {
             "colorbar": {
              "outlinewidth": 0,
              "ticks": ""
             }
            },
            "type": "scatterternary"
           }
          ],
          "surface": [
           {
            "colorbar": {
             "outlinewidth": 0,
             "ticks": ""
            },
            "colorscale": [
             [
              0,
              "#0d0887"
             ],
             [
              0.1111111111111111,
              "#46039f"
             ],
             [
              0.2222222222222222,
              "#7201a8"
             ],
             [
              0.3333333333333333,
              "#9c179e"
             ],
             [
              0.4444444444444444,
              "#bd3786"
             ],
             [
              0.5555555555555556,
              "#d8576b"
             ],
             [
              0.6666666666666666,
              "#ed7953"
             ],
             [
              0.7777777777777778,
              "#fb9f3a"
             ],
             [
              0.8888888888888888,
              "#fdca26"
             ],
             [
              1,
              "#f0f921"
             ]
            ],
            "type": "surface"
           }
          ],
          "table": [
           {
            "cells": {
             "fill": {
              "color": "#EBF0F8"
             },
             "line": {
              "color": "white"
             }
            },
            "header": {
             "fill": {
              "color": "#C8D4E3"
             },
             "line": {
              "color": "white"
             }
            },
            "type": "table"
           }
          ]
         },
         "layout": {
          "annotationdefaults": {
           "arrowcolor": "#2a3f5f",
           "arrowhead": 0,
           "arrowwidth": 1
          },
          "autotypenumbers": "strict",
          "coloraxis": {
           "colorbar": {
            "outlinewidth": 0,
            "ticks": ""
           }
          },
          "colorscale": {
           "diverging": [
            [
             0,
             "#8e0152"
            ],
            [
             0.1,
             "#c51b7d"
            ],
            [
             0.2,
             "#de77ae"
            ],
            [
             0.3,
             "#f1b6da"
            ],
            [
             0.4,
             "#fde0ef"
            ],
            [
             0.5,
             "#f7f7f7"
            ],
            [
             0.6,
             "#e6f5d0"
            ],
            [
             0.7,
             "#b8e186"
            ],
            [
             0.8,
             "#7fbc41"
            ],
            [
             0.9,
             "#4d9221"
            ],
            [
             1,
             "#276419"
            ]
           ],
           "sequential": [
            [
             0,
             "#0d0887"
            ],
            [
             0.1111111111111111,
             "#46039f"
            ],
            [
             0.2222222222222222,
             "#7201a8"
            ],
            [
             0.3333333333333333,
             "#9c179e"
            ],
            [
             0.4444444444444444,
             "#bd3786"
            ],
            [
             0.5555555555555556,
             "#d8576b"
            ],
            [
             0.6666666666666666,
             "#ed7953"
            ],
            [
             0.7777777777777778,
             "#fb9f3a"
            ],
            [
             0.8888888888888888,
             "#fdca26"
            ],
            [
             1,
             "#f0f921"
            ]
           ],
           "sequentialminus": [
            [
             0,
             "#0d0887"
            ],
            [
             0.1111111111111111,
             "#46039f"
            ],
            [
             0.2222222222222222,
             "#7201a8"
            ],
            [
             0.3333333333333333,
             "#9c179e"
            ],
            [
             0.4444444444444444,
             "#bd3786"
            ],
            [
             0.5555555555555556,
             "#d8576b"
            ],
            [
             0.6666666666666666,
             "#ed7953"
            ],
            [
             0.7777777777777778,
             "#fb9f3a"
            ],
            [
             0.8888888888888888,
             "#fdca26"
            ],
            [
             1,
             "#f0f921"
            ]
           ]
          },
          "colorway": [
           "#636efa",
           "#EF553B",
           "#00cc96",
           "#ab63fa",
           "#FFA15A",
           "#19d3f3",
           "#FF6692",
           "#B6E880",
           "#FF97FF",
           "#FECB52"
          ],
          "font": {
           "color": "#2a3f5f"
          },
          "geo": {
           "bgcolor": "white",
           "lakecolor": "white",
           "landcolor": "#E5ECF6",
           "showlakes": true,
           "showland": true,
           "subunitcolor": "white"
          },
          "hoverlabel": {
           "align": "left"
          },
          "hovermode": "closest",
          "mapbox": {
           "style": "light"
          },
          "paper_bgcolor": "white",
          "plot_bgcolor": "#E5ECF6",
          "polar": {
           "angularaxis": {
            "gridcolor": "white",
            "linecolor": "white",
            "ticks": ""
           },
           "bgcolor": "#E5ECF6",
           "radialaxis": {
            "gridcolor": "white",
            "linecolor": "white",
            "ticks": ""
           }
          },
          "scene": {
           "xaxis": {
            "backgroundcolor": "#E5ECF6",
            "gridcolor": "white",
            "gridwidth": 2,
            "linecolor": "white",
            "showbackground": true,
            "ticks": "",
            "zerolinecolor": "white"
           },
           "yaxis": {
            "backgroundcolor": "#E5ECF6",
            "gridcolor": "white",
            "gridwidth": 2,
            "linecolor": "white",
            "showbackground": true,
            "ticks": "",
            "zerolinecolor": "white"
           },
           "zaxis": {
            "backgroundcolor": "#E5ECF6",
            "gridcolor": "white",
            "gridwidth": 2,
            "linecolor": "white",
            "showbackground": true,
            "ticks": "",
            "zerolinecolor": "white"
           }
          },
          "shapedefaults": {
           "line": {
            "color": "#2a3f5f"
           }
          },
          "ternary": {
           "aaxis": {
            "gridcolor": "white",
            "linecolor": "white",
            "ticks": ""
           },
           "baxis": {
            "gridcolor": "white",
            "linecolor": "white",
            "ticks": ""
           },
           "bgcolor": "#E5ECF6",
           "caxis": {
            "gridcolor": "white",
            "linecolor": "white",
            "ticks": ""
           }
          },
          "title": {
           "x": 0.05
          },
          "xaxis": {
           "automargin": true,
           "gridcolor": "white",
           "linecolor": "white",
           "ticks": "",
           "title": {
            "standoff": 15
           },
           "zerolinecolor": "white",
           "zerolinewidth": 2
          },
          "yaxis": {
           "automargin": true,
           "gridcolor": "white",
           "linecolor": "white",
           "ticks": "",
           "title": {
            "standoff": 15
           },
           "zerolinecolor": "white",
           "zerolinewidth": 2
          }
         }
        },
        "title": {
         "font": {
          "color": "#4D5663"
         },
         "text": "Review Rating Distribution"
        },
        "xaxis": {
         "gridcolor": "#E1E5ED",
         "showgrid": true,
         "tickfont": {
          "color": "#4D5663"
         },
         "title": {
          "font": {
           "color": "#4D5663"
          },
          "text": "Rating"
         },
         "zerolinecolor": "#E1E5ED"
        },
        "yaxis": {
         "gridcolor": "#E1E5ED",
         "showgrid": true,
         "tickfont": {
          "color": "#4D5663"
         },
         "title": {
          "font": {
           "color": "#4D5663"
          },
          "text": "Count"
         },
         "zerolinecolor": "#E1E5ED"
        }
       }
      },
      "text/html": [
       "<div>                            <div id=\"4da122c4-fb31-455d-85b5-e9b98d2de604\" class=\"plotly-graph-div\" style=\"height:525px; width:100%;\"></div>            <script type=\"text/javascript\">                require([\"plotly\"], function(Plotly) {                    window.PLOTLYENV=window.PLOTLYENV || {};\n",
       "                    window.PLOTLYENV.BASE_URL='https://plot.ly';                                    if (document.getElementById(\"4da122c4-fb31-455d-85b5-e9b98d2de604\")) {                    Plotly.newPlot(                        \"4da122c4-fb31-455d-85b5-e9b98d2de604\",                        [{\"histfunc\": \"count\", \"histnorm\": \"\", \"marker\": {\"color\": \"rgba(255, 153, 51, 1.0)\", \"line\": {\"color\": \"#4D5663\", \"width\": 1.3}}, \"name\": \"Rating\", \"opacity\": 0.8, \"orientation\": \"v\", \"type\": \"histogram\", \"x\": [5, 4, 5, 4, 5, 1, 1, 5, 3, 3, 5, 3, 4, 4, 2, 2, 5, 5, 5, 3, 5, 4, 4, 4, 5, 5, 5, 5, 5, 5, 5, 4, 4, 4, 4, 5, 4, 4, 2, 4, 4, 5, 5, 5, 2, 3, 4, 5, 4, 3, 3, 4, 4, 4, 4, 4, 2, 3, 5, 2, 5, 5, 4, 4, 5, 5, 5, 3, 1, 1, 4, 5, 3, 2, 4, 1, 3, 4, 4, 1, 1, 2, 4, 4, 5, 3, 5, 3, 2, 4, 3, 2, 1, 1, 5, 3, 4, 1, 3, 5, 3, 4, 4, 4, 1, 3, 4, 4, 5, 1, 1, 3, 4, 3, 2, 4, 4, 1, 3, 3, 4, 4, 5, 2, 4, 5, 3, 4, 3, 3, 3, 2, 4, 4, 4, 4, 4, 5, 4, 4, 4, 3, 3, 3, 4, 5, 5, 5, 1, 4, 5, 4, 5, 2, 4, 3, 3, 2, 2, 5, 5, 3, 5, 3, 1, 3, 3, 4, 5, 5, 4, 4, 5, 5, 1, 3, 3, 1, 4, 3, 1, 4, 3, 1, 5, 1, 3, 5, 3, 4, 3, 2, 4, 2, 4, 1, 4, 5, 2, 1, 1, 4, 4, 1, 5, 5, 3, 4, 1, 4, 3, 4, 5, 5, 4, 3, 4, 4, 3, 3, 4, 5, 4, 1, 2, 4, 5, 4, 5, 1, 5, 4, 1, 3, 5, 4, 4, 5, 5, 4, 4, 3, 1, 3, 1, 4, 1, 1, 2, 3, 4, 4, 3, 4, 2, 1, 4, 5, 1, 1, 2, 1, 5, 5, 5, 4, 5, 4, 4, 4, 5, 4, 4, 4, 4, 3, 4, 1, 2, 5, 4, 4, 4, 4, 5, 4, 4, 5, 4, 4, 4, 4, 2, 4, 4, 3, 1, 5, 3, 5, 4, 2, 3, 1, 4, 4, 5, 5, 4, 2, 4, 1, 5, 3, 4, 4, 4, 4, 3, 3, 5, 2, 5, 4, 4, 2, 5, 3, 3, 3, 4, 5, 4, 4, 1, 2, 4, 4, 4, 4, 3, 5, 1, 3, 4, 5, 1, 5, 4, 4, 3, 4, 5, 4, 1, 4, 4, 4, 3, 3, 2, 3, 4, 5, 3, 4, 5, 3, 4, 5, 3, 4, 4, 4, 3, 5, 4, 4, 5, 3, 5, 5, 5, 3, 4, 2, 5, 5, 2, 4, 4, 5, 4, 5, 3, 5, 5, 4, 2, 5, 3, 4, 5, 2, 4, 3, 4, 5, 4, 4, 1, 4, 4, 1, 4, 4, 4, 4, 4, 2, 2, 3, 5, 3, 4, 5, 5, 4, 3, 2, 3, 3, 4, 1, 3, 3, 5, 4, 5, 4, 5, 3, 3, 4, 4, 4, 5, 1, 4, 5, 2, 5, 3, 4, 4, 5, 5, 5, 5, 5, 4, 5, 5, 3, 5, 4, 3, 4, 4, 3, 4, 4, 4, 5, 5, 3, 4, 5, 2, 4, 5, 4, 3, 3, 4, 4, 3, 3, 5, 3, 2, 5, 3, 2, 3, 5, 5, 5, 2, 4, 5, 2, 3, 3, 5, 3, 4, 3, 4, 1, 4, 4, 4, 3, 5, 4, 4, 5, 4, 4, 5, 4, 4, 4, 4, 3, 5, 5, 4, 1, 1, 2, 4, 2, 4, 5, 4, 3, 4, 3, 3, 3, 4, 4, 5, 3, 4, 1, 3, 5, 5, 2, 2, 5, 5, 3, 3, 3, 1, 3, 1, 4, 4, 1, 1, 5, 1, 4, 2, 3, 5, 5, 5, 4, 5, 4, 3, 3, 3]}],                        {\"barmode\": \"overlay\", \"legend\": {\"bgcolor\": \"#F5F6F9\", \"font\": {\"color\": \"#4D5663\"}}, \"paper_bgcolor\": \"#F5F6F9\", \"plot_bgcolor\": \"#F5F6F9\", \"template\": {\"data\": {\"bar\": [{\"error_x\": {\"color\": \"#2a3f5f\"}, \"error_y\": {\"color\": \"#2a3f5f\"}, \"marker\": {\"line\": {\"color\": \"#E5ECF6\", \"width\": 0.5}}, \"type\": \"bar\"}], \"barpolar\": [{\"marker\": {\"line\": {\"color\": \"#E5ECF6\", \"width\": 0.5}}, \"type\": \"barpolar\"}], \"carpet\": [{\"aaxis\": {\"endlinecolor\": \"#2a3f5f\", \"gridcolor\": \"white\", \"linecolor\": \"white\", \"minorgridcolor\": \"white\", \"startlinecolor\": \"#2a3f5f\"}, \"baxis\": {\"endlinecolor\": \"#2a3f5f\", \"gridcolor\": \"white\", \"linecolor\": \"white\", \"minorgridcolor\": \"white\", \"startlinecolor\": \"#2a3f5f\"}, \"type\": \"carpet\"}], \"choropleth\": [{\"colorbar\": {\"outlinewidth\": 0, \"ticks\": \"\"}, \"type\": \"choropleth\"}], \"contour\": [{\"colorbar\": {\"outlinewidth\": 0, \"ticks\": \"\"}, \"colorscale\": [[0.0, \"#0d0887\"], [0.1111111111111111, \"#46039f\"], [0.2222222222222222, \"#7201a8\"], [0.3333333333333333, \"#9c179e\"], [0.4444444444444444, \"#bd3786\"], [0.5555555555555556, \"#d8576b\"], [0.6666666666666666, \"#ed7953\"], [0.7777777777777778, \"#fb9f3a\"], [0.8888888888888888, \"#fdca26\"], [1.0, \"#f0f921\"]], \"type\": \"contour\"}], \"contourcarpet\": [{\"colorbar\": {\"outlinewidth\": 0, \"ticks\": \"\"}, \"type\": \"contourcarpet\"}], \"heatmap\": [{\"colorbar\": {\"outlinewidth\": 0, \"ticks\": \"\"}, \"colorscale\": [[0.0, \"#0d0887\"], [0.1111111111111111, \"#46039f\"], [0.2222222222222222, \"#7201a8\"], [0.3333333333333333, \"#9c179e\"], [0.4444444444444444, \"#bd3786\"], [0.5555555555555556, \"#d8576b\"], [0.6666666666666666, \"#ed7953\"], [0.7777777777777778, \"#fb9f3a\"], [0.8888888888888888, \"#fdca26\"], [1.0, \"#f0f921\"]], \"type\": \"heatmap\"}], \"heatmapgl\": [{\"colorbar\": {\"outlinewidth\": 0, \"ticks\": \"\"}, \"colorscale\": [[0.0, \"#0d0887\"], [0.1111111111111111, \"#46039f\"], [0.2222222222222222, \"#7201a8\"], [0.3333333333333333, \"#9c179e\"], [0.4444444444444444, \"#bd3786\"], [0.5555555555555556, \"#d8576b\"], [0.6666666666666666, \"#ed7953\"], [0.7777777777777778, \"#fb9f3a\"], [0.8888888888888888, \"#fdca26\"], [1.0, \"#f0f921\"]], \"type\": \"heatmapgl\"}], \"histogram\": [{\"marker\": {\"colorbar\": {\"outlinewidth\": 0, \"ticks\": \"\"}}, \"type\": \"histogram\"}], \"histogram2d\": [{\"colorbar\": {\"outlinewidth\": 0, \"ticks\": \"\"}, \"colorscale\": [[0.0, \"#0d0887\"], [0.1111111111111111, \"#46039f\"], [0.2222222222222222, \"#7201a8\"], [0.3333333333333333, \"#9c179e\"], [0.4444444444444444, \"#bd3786\"], [0.5555555555555556, \"#d8576b\"], [0.6666666666666666, \"#ed7953\"], [0.7777777777777778, \"#fb9f3a\"], [0.8888888888888888, \"#fdca26\"], [1.0, \"#f0f921\"]], \"type\": \"histogram2d\"}], \"histogram2dcontour\": [{\"colorbar\": {\"outlinewidth\": 0, \"ticks\": \"\"}, \"colorscale\": [[0.0, \"#0d0887\"], [0.1111111111111111, \"#46039f\"], [0.2222222222222222, \"#7201a8\"], [0.3333333333333333, \"#9c179e\"], [0.4444444444444444, \"#bd3786\"], [0.5555555555555556, \"#d8576b\"], [0.6666666666666666, \"#ed7953\"], [0.7777777777777778, \"#fb9f3a\"], [0.8888888888888888, \"#fdca26\"], [1.0, \"#f0f921\"]], \"type\": \"histogram2dcontour\"}], \"mesh3d\": [{\"colorbar\": {\"outlinewidth\": 0, \"ticks\": \"\"}, \"type\": \"mesh3d\"}], \"parcoords\": [{\"line\": {\"colorbar\": {\"outlinewidth\": 0, \"ticks\": \"\"}}, \"type\": \"parcoords\"}], \"pie\": [{\"automargin\": true, \"type\": \"pie\"}], \"scatter\": [{\"marker\": {\"colorbar\": {\"outlinewidth\": 0, \"ticks\": \"\"}}, \"type\": \"scatter\"}], \"scatter3d\": [{\"line\": {\"colorbar\": {\"outlinewidth\": 0, \"ticks\": \"\"}}, \"marker\": {\"colorbar\": {\"outlinewidth\": 0, \"ticks\": \"\"}}, \"type\": \"scatter3d\"}], \"scattercarpet\": [{\"marker\": {\"colorbar\": {\"outlinewidth\": 0, \"ticks\": \"\"}}, \"type\": \"scattercarpet\"}], \"scattergeo\": [{\"marker\": {\"colorbar\": {\"outlinewidth\": 0, \"ticks\": \"\"}}, \"type\": \"scattergeo\"}], \"scattergl\": [{\"marker\": {\"colorbar\": {\"outlinewidth\": 0, \"ticks\": \"\"}}, \"type\": \"scattergl\"}], \"scattermapbox\": [{\"marker\": {\"colorbar\": {\"outlinewidth\": 0, \"ticks\": \"\"}}, \"type\": \"scattermapbox\"}], \"scatterpolar\": [{\"marker\": {\"colorbar\": {\"outlinewidth\": 0, \"ticks\": \"\"}}, \"type\": \"scatterpolar\"}], \"scatterpolargl\": [{\"marker\": {\"colorbar\": {\"outlinewidth\": 0, \"ticks\": \"\"}}, \"type\": \"scatterpolargl\"}], \"scatterternary\": [{\"marker\": {\"colorbar\": {\"outlinewidth\": 0, \"ticks\": \"\"}}, \"type\": \"scatterternary\"}], \"surface\": [{\"colorbar\": {\"outlinewidth\": 0, \"ticks\": \"\"}, \"colorscale\": [[0.0, \"#0d0887\"], [0.1111111111111111, \"#46039f\"], [0.2222222222222222, \"#7201a8\"], [0.3333333333333333, \"#9c179e\"], [0.4444444444444444, \"#bd3786\"], [0.5555555555555556, \"#d8576b\"], [0.6666666666666666, \"#ed7953\"], [0.7777777777777778, \"#fb9f3a\"], [0.8888888888888888, \"#fdca26\"], [1.0, \"#f0f921\"]], \"type\": \"surface\"}], \"table\": [{\"cells\": {\"fill\": {\"color\": \"#EBF0F8\"}, \"line\": {\"color\": \"white\"}}, \"header\": {\"fill\": {\"color\": \"#C8D4E3\"}, \"line\": {\"color\": \"white\"}}, \"type\": \"table\"}]}, \"layout\": {\"annotationdefaults\": {\"arrowcolor\": \"#2a3f5f\", \"arrowhead\": 0, \"arrowwidth\": 1}, \"autotypenumbers\": \"strict\", \"coloraxis\": {\"colorbar\": {\"outlinewidth\": 0, \"ticks\": \"\"}}, \"colorscale\": {\"diverging\": [[0, \"#8e0152\"], [0.1, \"#c51b7d\"], [0.2, \"#de77ae\"], [0.3, \"#f1b6da\"], [0.4, \"#fde0ef\"], [0.5, \"#f7f7f7\"], [0.6, \"#e6f5d0\"], [0.7, \"#b8e186\"], [0.8, \"#7fbc41\"], [0.9, \"#4d9221\"], [1, \"#276419\"]], \"sequential\": [[0.0, \"#0d0887\"], [0.1111111111111111, \"#46039f\"], [0.2222222222222222, \"#7201a8\"], [0.3333333333333333, \"#9c179e\"], [0.4444444444444444, \"#bd3786\"], [0.5555555555555556, \"#d8576b\"], [0.6666666666666666, \"#ed7953\"], [0.7777777777777778, \"#fb9f3a\"], [0.8888888888888888, \"#fdca26\"], [1.0, \"#f0f921\"]], \"sequentialminus\": [[0.0, \"#0d0887\"], [0.1111111111111111, \"#46039f\"], [0.2222222222222222, \"#7201a8\"], [0.3333333333333333, \"#9c179e\"], [0.4444444444444444, \"#bd3786\"], [0.5555555555555556, \"#d8576b\"], [0.6666666666666666, \"#ed7953\"], [0.7777777777777778, \"#fb9f3a\"], [0.8888888888888888, \"#fdca26\"], [1.0, \"#f0f921\"]]}, \"colorway\": [\"#636efa\", \"#EF553B\", \"#00cc96\", \"#ab63fa\", \"#FFA15A\", \"#19d3f3\", \"#FF6692\", \"#B6E880\", \"#FF97FF\", \"#FECB52\"], \"font\": {\"color\": \"#2a3f5f\"}, \"geo\": {\"bgcolor\": \"white\", \"lakecolor\": \"white\", \"landcolor\": \"#E5ECF6\", \"showlakes\": true, \"showland\": true, \"subunitcolor\": \"white\"}, \"hoverlabel\": {\"align\": \"left\"}, \"hovermode\": \"closest\", \"mapbox\": {\"style\": \"light\"}, \"paper_bgcolor\": \"white\", \"plot_bgcolor\": \"#E5ECF6\", \"polar\": {\"angularaxis\": {\"gridcolor\": \"white\", \"linecolor\": \"white\", \"ticks\": \"\"}, \"bgcolor\": \"#E5ECF6\", \"radialaxis\": {\"gridcolor\": \"white\", \"linecolor\": \"white\", \"ticks\": \"\"}}, \"scene\": {\"xaxis\": {\"backgroundcolor\": \"#E5ECF6\", \"gridcolor\": \"white\", \"gridwidth\": 2, \"linecolor\": \"white\", \"showbackground\": true, \"ticks\": \"\", \"zerolinecolor\": \"white\"}, \"yaxis\": {\"backgroundcolor\": \"#E5ECF6\", \"gridcolor\": \"white\", \"gridwidth\": 2, \"linecolor\": \"white\", \"showbackground\": true, \"ticks\": \"\", \"zerolinecolor\": \"white\"}, \"zaxis\": {\"backgroundcolor\": \"#E5ECF6\", \"gridcolor\": \"white\", \"gridwidth\": 2, \"linecolor\": \"white\", \"showbackground\": true, \"ticks\": \"\", \"zerolinecolor\": \"white\"}}, \"shapedefaults\": {\"line\": {\"color\": \"#2a3f5f\"}}, \"ternary\": {\"aaxis\": {\"gridcolor\": \"white\", \"linecolor\": \"white\", \"ticks\": \"\"}, \"baxis\": {\"gridcolor\": \"white\", \"linecolor\": \"white\", \"ticks\": \"\"}, \"bgcolor\": \"#E5ECF6\", \"caxis\": {\"gridcolor\": \"white\", \"linecolor\": \"white\", \"ticks\": \"\"}}, \"title\": {\"x\": 0.05}, \"xaxis\": {\"automargin\": true, \"gridcolor\": \"white\", \"linecolor\": \"white\", \"ticks\": \"\", \"title\": {\"standoff\": 15}, \"zerolinecolor\": \"white\", \"zerolinewidth\": 2}, \"yaxis\": {\"automargin\": true, \"gridcolor\": \"white\", \"linecolor\": \"white\", \"ticks\": \"\", \"title\": {\"standoff\": 15}, \"zerolinecolor\": \"white\", \"zerolinewidth\": 2}}}, \"title\": {\"font\": {\"color\": \"#4D5663\"}, \"text\": \"Review Rating Distribution\"}, \"xaxis\": {\"gridcolor\": \"#E1E5ED\", \"showgrid\": true, \"tickfont\": {\"color\": \"#4D5663\"}, \"title\": {\"font\": {\"color\": \"#4D5663\"}, \"text\": \"Rating\"}, \"zerolinecolor\": \"#E1E5ED\"}, \"yaxis\": {\"gridcolor\": \"#E1E5ED\", \"showgrid\": true, \"tickfont\": {\"color\": \"#4D5663\"}, \"title\": {\"font\": {\"color\": \"#4D5663\"}, \"text\": \"Count\"}, \"zerolinecolor\": \"#E1E5ED\"}},                        {\"showLink\": true, \"linkText\": \"Export to plot.ly\", \"plotlyServerURL\": \"https://plot.ly\", \"responsive\": true}                    ).then(function(){\n",
       "                            \n",
       "var gd = document.getElementById('4da122c4-fb31-455d-85b5-e9b98d2de604');\n",
       "var x = new MutationObserver(function (mutations, observer) {{\n",
       "        var display = window.getComputedStyle(gd).display;\n",
       "        if (!display || display === 'none') {{\n",
       "            console.log([gd, 'removed!']);\n",
       "            Plotly.purge(gd);\n",
       "            observer.disconnect();\n",
       "        }}\n",
       "}});\n",
       "\n",
       "// Listen for the removal of the full notebook cells\n",
       "var notebookContainer = gd.closest('#notebook-container');\n",
       "if (notebookContainer) {{\n",
       "    x.observe(notebookContainer, {childList: true});\n",
       "}}\n",
       "\n",
       "// Listen for the clearing of the current output cell\n",
       "var outputEl = gd.closest('.output');\n",
       "if (outputEl) {{\n",
       "    x.observe(outputEl, {childList: true});\n",
       "}}\n",
       "\n",
       "                        })                };                });            </script>        </div>"
      ]
     },
     "metadata": {},
     "output_type": "display_data"
    }
   ],
   "source": [
    "df['Rating'].iplot(kind = 'hist', xTitle = 'Rating', yTitle = 'Count', title = 'Review Rating Distribution')"
   ]
  },
  {
   "cell_type": "code",
   "execution_count": 82,
   "id": "74ea05a5",
   "metadata": {},
   "outputs": [
    {
     "data": {
      "application/vnd.plotly.v1+json": {
       "config": {
        "linkText": "Export to plot.ly",
        "plotlyServerURL": "https://plot.ly",
        "showLink": true
       },
       "data": [
        {
         "histfunc": "count",
         "histnorm": "",
         "marker": {
          "color": "rgba(219, 64, 82, 1.0)",
          "line": {
           "color": "#4D5663",
           "width": 1.3
          }
         },
         "name": "Rating",
         "opacity": 0.8,
         "orientation": "v",
         "type": "histogram",
         "x": [
          5,
          4,
          5,
          4,
          5,
          1,
          1,
          5,
          3,
          3,
          5,
          3,
          4,
          4,
          2,
          2,
          5,
          5,
          5,
          3,
          5,
          4,
          4,
          4,
          5,
          5,
          5,
          5,
          5,
          5,
          5,
          4,
          4,
          4,
          4,
          5,
          4,
          4,
          2,
          4,
          4,
          5,
          5,
          5,
          2,
          3,
          4,
          5,
          4,
          3,
          3,
          4,
          4,
          4,
          4,
          4,
          2,
          3,
          5,
          2,
          5,
          5,
          4,
          4,
          5,
          5,
          5,
          3,
          1,
          1,
          4,
          5,
          3,
          2,
          4,
          1,
          3,
          4,
          4,
          1,
          1,
          2,
          4,
          4,
          5,
          3,
          5,
          3,
          2,
          4,
          3,
          2,
          1,
          1,
          5,
          3,
          4,
          1,
          3,
          5,
          3,
          4,
          4,
          4,
          1,
          3,
          4,
          4,
          5,
          1,
          1,
          3,
          4,
          3,
          2,
          4,
          4,
          1,
          3,
          3,
          4,
          4,
          5,
          2,
          4,
          5,
          3,
          4,
          3,
          3,
          3,
          2,
          4,
          4,
          4,
          4,
          4,
          5,
          4,
          4,
          4,
          3,
          3,
          3,
          4,
          5,
          5,
          5,
          1,
          4,
          5,
          4,
          5,
          2,
          4,
          3,
          3,
          2,
          2,
          5,
          5,
          3,
          5,
          3,
          1,
          3,
          3,
          4,
          5,
          5,
          4,
          4,
          5,
          5,
          1,
          3,
          3,
          1,
          4,
          3,
          1,
          4,
          3,
          1,
          5,
          1,
          3,
          5,
          3,
          4,
          3,
          2,
          4,
          2,
          4,
          1,
          4,
          5,
          2,
          1,
          1,
          4,
          4,
          1,
          5,
          5,
          3,
          4,
          1,
          4,
          3,
          4,
          5,
          5,
          4,
          3,
          4,
          4,
          3,
          3,
          4,
          5,
          4,
          1,
          2,
          4,
          5,
          4,
          5,
          1,
          5,
          4,
          1,
          3,
          5,
          4,
          4,
          5,
          5,
          4,
          4,
          3,
          1,
          3,
          1,
          4,
          1,
          1,
          2,
          3,
          4,
          4,
          3,
          4,
          2,
          1,
          4,
          5,
          1,
          1,
          2,
          1,
          5,
          5,
          5,
          4,
          5,
          4,
          4,
          4,
          5,
          4,
          4,
          4,
          4,
          3,
          4,
          1,
          2,
          5,
          4,
          4,
          4,
          4,
          5,
          4,
          4,
          5,
          4,
          4,
          4,
          4,
          2,
          4,
          4,
          3,
          1,
          5,
          3,
          5,
          4,
          2,
          3,
          1,
          4,
          4,
          5,
          5,
          4,
          2,
          4,
          1,
          5,
          3,
          4,
          4,
          4,
          4,
          3,
          3,
          5,
          2,
          5,
          4,
          4,
          2,
          5,
          3,
          3,
          3,
          4,
          5,
          4,
          4,
          1,
          2,
          4,
          4,
          4,
          4,
          3,
          5,
          1,
          3,
          4,
          5,
          1,
          5,
          4,
          4,
          3,
          4,
          5,
          4,
          1,
          4,
          4,
          4,
          3,
          3,
          2,
          3,
          4,
          5,
          3,
          4,
          5,
          3,
          4,
          5,
          3,
          4,
          4,
          4,
          3,
          5,
          4,
          4,
          5,
          3,
          5,
          5,
          5,
          3,
          4,
          2,
          5,
          5,
          2,
          4,
          4,
          5,
          4,
          5,
          3,
          5,
          5,
          4,
          2,
          5,
          3,
          4,
          5,
          2,
          4,
          3,
          4,
          5,
          4,
          4,
          1,
          4,
          4,
          1,
          4,
          4,
          4,
          4,
          4,
          2,
          2,
          3,
          5,
          3,
          4,
          5,
          5,
          4,
          3,
          2,
          3,
          3,
          4,
          1,
          3,
          3,
          5,
          4,
          5,
          4,
          5,
          3,
          3,
          4,
          4,
          4,
          5,
          1,
          4,
          5,
          2,
          5,
          3,
          4,
          4,
          5,
          5,
          5,
          5,
          5,
          4,
          5,
          5,
          3,
          5,
          4,
          3,
          4,
          4,
          3,
          4,
          4,
          4,
          5,
          5,
          3,
          4,
          5,
          2,
          4,
          5,
          4,
          3,
          3,
          4,
          4,
          3,
          3,
          5,
          3,
          2,
          5,
          3,
          2,
          3,
          5,
          5,
          5,
          2,
          4,
          5,
          2,
          3,
          3,
          5,
          3,
          4,
          3,
          4,
          1,
          4,
          4,
          4,
          3,
          5,
          4,
          4,
          5,
          4,
          4,
          5,
          4,
          4,
          4,
          4,
          3,
          5,
          5,
          4,
          1,
          1,
          2,
          4,
          2,
          4,
          5,
          4,
          3,
          4,
          3,
          3,
          3,
          4,
          4,
          5,
          3,
          4,
          1,
          3,
          5,
          5,
          2,
          2,
          5,
          5,
          3,
          3,
          3,
          1,
          3,
          1,
          4,
          4,
          1,
          1,
          5,
          1,
          4,
          2,
          3,
          5,
          5,
          5,
          4,
          5,
          4,
          3,
          3,
          3
         ]
        },
        {
         "histfunc": "count",
         "histnorm": "",
         "marker": {
          "color": "rgba(219, 64, 82, 0.8999999999999999)",
          "line": {
           "color": "#4D5663",
           "width": 1.3
          }
         },
         "name": "Date Posted",
         "opacity": 0.8,
         "orientation": "v",
         "type": "histogram",
         "x": [
          1512432000000000000,
          1513382400000000000,
          1513641600000000000,
          1514246400000000000,
          1514246400000000000,
          1515542400000000000,
          1515888000000000000,
          1516060800000000000,
          1516492800000000000,
          1517184000000000000,
          1518739200000000000,
          1519257600000000000,
          1519516800000000000,
          1519603200000000000,
          1519689600000000000,
          1519862400000000000,
          1520035200000000000,
          1520121600000000000,
          1520380800000000000,
          1520467200000000000,
          1520553600000000000,
          1520553600000000000,
          1521504000000000000,
          1521504000000000000,
          1522022400000000000,
          1522022400000000000,
          1522108800000000000,
          1522627200000000000,
          1522972800000000000,
          1522972800000000000,
          1523232000000000000,
          1523491200000000000,
          1524096000000000000,
          1524355200000000000,
          1524355200000000000,
          1524528000000000000,
          1525132800000000000,
          1525910400000000000,
          1525996800000000000,
          1526342400000000000,
          1526860800000000000,
          1527379200000000000,
          1527811200000000000,
          1528329600000000000,
          1529539200000000000,
          1529971200000000000,
          1529971200000000000,
          1529971200000000000,
          1530316800000000000,
          1531008000000000000,
          1531094400000000000,
          1531353600000000000,
          1531612800000000000,
          1532563200000000000,
          1532563200000000000,
          1532995200000000000,
          1533600000000000000,
          1534377600000000000,
          1534464000000000000,
          1534550400000000000,
          1534809600000000000,
          1534982400000000000,
          1535068800000000000,
          1535500800000000000,
          1535587200000000000,
          1536019200000000000,
          1536883200000000000,
          1537142400000000000,
          1537488000000000000,
          1537747200000000000,
          1537747200000000000,
          1537833600000000000,
          1538524800000000000,
          1539043200000000000,
          1539216000000000000,
          1539302400000000000,
          1539820800000000000,
          1540080000000000000,
          1540166400000000000,
          1541030400000000000,
          1541116800000000000,
          1541635200000000000,
          1541721600000000000,
          1542326400000000000,
          1542585600000000000,
          1542844800000000000,
          1543190400000000000,
          1543449600000000000,
          1544659200000000000,
          1545523200000000000,
          1545868800000000000,
          1546387200000000000,
          1546646400000000000,
          1546732800000000000,
          1547164800000000000,
          1547337600000000000,
          1547424000000000000,
          1547424000000000000,
          1548374400000000000,
          1548979200000000000,
          1549584000000000000,
          1549584000000000000,
          1550102400000000000,
          1550275200000000000,
          1550361600000000000,
          1550448000000000000,
          1550534400000000000,
          1550620800000000000,
          1550707200000000000,
          1551139200000000000,
          1551398400000000000,
          1551484800000000000,
          1551830400000000000,
          1552176000000000000,
          1552262400000000000,
          1552348800000000000,
          1552694400000000000,
          1553040000000000000,
          1553558400000000000,
          1553731200000000000,
          1553731200000000000,
          1553817600000000000,
          1553990400000000000,
          1554076800000000000,
          1554595200000000000,
          1554595200000000000,
          1554940800000000000,
          1555286400000000000,
          1555286400000000000,
          1555459200000000000,
          1555459200000000000,
          1555891200000000000,
          1556064000000000000,
          1556496000000000000,
          1556841600000000000,
          1557100800000000000,
          1557360000000000000,
          1557619200000000000,
          1557964800000000000,
          1558483200000000000,
          1558742400000000000,
          1559520000000000000,
          1559779200000000000,
          1560124800000000000,
          1560211200000000000,
          1560211200000000000,
          1560211200000000000,
          1560297600000000000,
          1560297600000000000,
          1560384000000000000,
          1560384000000000000,
          1560816000000000000,
          1561075200000000000,
          1561161600000000000,
          1561161600000000000,
          1561593600000000000,
          1561593600000000000,
          1561939200000000000,
          1561939200000000000,
          1561939200000000000,
          1562198400000000000,
          1562457600000000000,
          1562544000000000000,
          1562889600000000000,
          1563235200000000000,
          1563235200000000000,
          1563321600000000000,
          1563408000000000000,
          1563753600000000000,
          1563753600000000000,
          1563840000000000000,
          1563926400000000000,
          1563926400000000000,
          1564012800000000000,
          1564012800000000000,
          1564358400000000000,
          1564444800000000000,
          1564531200000000000,
          1564617600000000000,
          1565049600000000000,
          1566432000000000000,
          1567641600000000000,
          1568505600000000000,
          1568678400000000000,
          1568764800000000000,
          1569024000000000000,
          1569024000000000000,
          1569110400000000000,
          1569196800000000000,
          1569283200000000000,
          1569542400000000000,
          1569974400000000000,
          1570060800000000000,
          1570406400000000000,
          1570492800000000000,
          1570752000000000000,
          1570752000000000000,
          1570924800000000000,
          1571356800000000000,
          1572220800000000000,
          1572307200000000000,
          1572393600000000000,
          1572912000000000000,
          1573257600000000000,
          1573516800000000000,
          1573516800000000000,
          1573776000000000000,
          1574035200000000000,
          1574208000000000000,
          1574208000000000000,
          1574294400000000000,
          1574294400000000000,
          1574294400000000000,
          1574553600000000000,
          1574553600000000000,
          1574640000000000000,
          1574640000000000000,
          1574899200000000000,
          1575158400000000000,
          1575244800000000000,
          1576022400000000000,
          1576627200000000000,
          1577664000000000000,
          1577750400000000000,
          1578441600000000000,
          1578441600000000000,
          1578528000000000000,
          1578873600000000000,
          1579046400000000000,
          1579219200000000000,
          1579564800000000000,
          1579564800000000000,
          1579824000000000000,
          1579824000000000000,
          1579910400000000000,
          1580169600000000000,
          1580342400000000000,
          1580688000000000000,
          1580688000000000000,
          1581120000000000000,
          1582416000000000000,
          1582416000000000000,
          1582588800000000000,
          1583884800000000000,
          1584489600000000000,
          1584576000000000000,
          1584835200000000000,
          1585008000000000000,
          1585094400000000000,
          1585440000000000000,
          1586131200000000000,
          1586217600000000000,
          1586908800000000000,
          1586995200000000000,
          1587168000000000000,
          1587859200000000000,
          1587945600000000000,
          1588032000000000000,
          1588204800000000000,
          1588550400000000000,
          1589068800000000000,
          1589155200000000000,
          1589155200000000000,
          1589241600000000000,
          1589328000000000000,
          1589414400000000000,
          1589500800000000000,
          1589587200000000000,
          1589673600000000000,
          1589673600000000000,
          1590796800000000000,
          1591142400000000000,
          1591574400000000000,
          1591660800000000000,
          1591660800000000000,
          1591920000000000000,
          1592092800000000000,
          1592265600000000000,
          1592524800000000000,
          1593043200000000000,
          1593820800000000000,
          1594512000000000000,
          1594512000000000000,
          1594598400000000000,
          1594771200000000000,
          1594771200000000000,
          1595116800000000000,
          1595462400000000000,
          1595462400000000000,
          1595548800000000000,
          1596067200000000000,
          1596153600000000000,
          1596412800000000000,
          1596412800000000000,
          1596585600000000000,
          1596758400000000000,
          1596844800000000000,
          1597017600000000000,
          1597190400000000000,
          1597190400000000000,
          1597622400000000000,
          1597622400000000000,
          1597708800000000000,
          1597708800000000000,
          1597795200000000000,
          1598227200000000000,
          1598313600000000000,
          1598313600000000000,
          1598313600000000000,
          1598400000000000000,
          1598400000000000000,
          1598572800000000000,
          1598572800000000000,
          1598832000000000000,
          1598832000000000000,
          1598832000000000000,
          1598918400000000000,
          1599004800000000000,
          1599177600000000000,
          1599609600000000000,
          1599868800000000000,
          1600560000000000000,
          1600646400000000000,
          1600819200000000000,
          1600905600000000000,
          1600905600000000000,
          1600905600000000000,
          1600992000000000000,
          1600992000000000000,
          1601251200000000000,
          1601424000000000000,
          1601769600000000000,
          1601856000000000000,
          1601856000000000000,
          1601856000000000000,
          1601856000000000000,
          1601942400000000000,
          1601942400000000000,
          1601942400000000000,
          1602028800000000000,
          1602115200000000000,
          1602201600000000000,
          1602288000000000000,
          1602374400000000000,
          1602460800000000000,
          1602720000000000000,
          1602806400000000000,
          1602806400000000000,
          1602892800000000000,
          1602979200000000000,
          1603065600000000000,
          1603065600000000000,
          1603065600000000000,
          1603497600000000000,
          1603584000000000000,
          1603756800000000000,
          1603756800000000000,
          1603843200000000000,
          1604275200000000000,
          1604448000000000000,
          1604534400000000000,
          1604707200000000000,
          1604707200000000000,
          1604880000000000000,
          1604966400000000000,
          1604966400000000000,
          1605052800000000000,
          1605139200000000000,
          1605571200000000000,
          1605657600000000000,
          1605916800000000000,
          1606003200000000000,
          1606089600000000000,
          1606089600000000000,
          1606176000000000000,
          1606176000000000000,
          1606262400000000000,
          1606262400000000000,
          1606608000000000000,
          1606694400000000000,
          1606780800000000000,
          1606780800000000000,
          1606867200000000000,
          1606953600000000000,
          1607040000000000000,
          1607472000000000000,
          1607472000000000000,
          1607558400000000000,
          1607558400000000000,
          1607904000000000000,
          1607904000000000000,
          1607904000000000000,
          1607904000000000000,
          1607990400000000000,
          1608076800000000000,
          1608076800000000000,
          1608163200000000000,
          1608163200000000000,
          1608249600000000000,
          1608336000000000000,
          1608595200000000000,
          1609113600000000000,
          1609804800000000000,
          1609977600000000000,
          1610064000000000000,
          1610150400000000000,
          1610323200000000000,
          1610323200000000000,
          1610323200000000000,
          1610496000000000000,
          1610496000000000000,
          1610496000000000000,
          1610496000000000000,
          1610496000000000000,
          1610668800000000000,
          1610668800000000000,
          1610668800000000000,
          1610755200000000000,
          1610841600000000000,
          1610928000000000000,
          1610928000000000000,
          1610928000000000000,
          1611014400000000000,
          1611100800000000000,
          1611100800000000000,
          1611187200000000000,
          1611187200000000000,
          1611273600000000000,
          1611446400000000000,
          1611532800000000000,
          1611532800000000000,
          1611532800000000000,
          1611532800000000000,
          1611792000000000000,
          1611878400000000000,
          1611964800000000000,
          1611964800000000000,
          1612051200000000000,
          1612137600000000000,
          1612137600000000000,
          1612396800000000000,
          1612483200000000000,
          1612742400000000000,
          1612828800000000000,
          1612828800000000000,
          1612915200000000000,
          1612915200000000000,
          1612915200000000000,
          1613088000000000000,
          1613088000000000000,
          1613088000000000000,
          1613174400000000000,
          1613347200000000000,
          1613520000000000000,
          1613520000000000000,
          1613520000000000000,
          1613606400000000000,
          1613606400000000000,
          1613606400000000000,
          1613606400000000000,
          1613865600000000000,
          1613952000000000000,
          1613952000000000000,
          1613952000000000000,
          1614124800000000000,
          1614124800000000000,
          1614124800000000000,
          1614211200000000000,
          1614384000000000000,
          1614556800000000000,
          1614729600000000000,
          1614816000000000000,
          1614988800000000000,
          1614988800000000000,
          1614988800000000000,
          1615161600000000000,
          1615248000000000000,
          1615248000000000000,
          1615334400000000000,
          1615334400000000000,
          1615420800000000000,
          1615420800000000000,
          1615507200000000000,
          1615507200000000000,
          1615593600000000000,
          1615766400000000000,
          1615852800000000000,
          1615852800000000000,
          1615852800000000000,
          1615939200000000000,
          1615939200000000000,
          1616025600000000000,
          1616112000000000000,
          1616198400000000000,
          1616198400000000000,
          1616371200000000000,
          1616457600000000000,
          1616630400000000000,
          1616630400000000000,
          1616716800000000000,
          1616716800000000000,
          1616889600000000000,
          1617062400000000000,
          1617062400000000000,
          1617148800000000000,
          1617148800000000000,
          1617148800000000000,
          1617148800000000000,
          1617235200000000000,
          1617321600000000000,
          1617321600000000000,
          1617321600000000000,
          1617408000000000000,
          1617494400000000000,
          1617580800000000000,
          1617667200000000000,
          1617667200000000000,
          1617753600000000000,
          1617753600000000000,
          1617840000000000000,
          1617840000000000000,
          1617840000000000000,
          1618012800000000000,
          1618099200000000000,
          1618099200000000000,
          1618185600000000000,
          1618272000000000000,
          1618358400000000000,
          1618358400000000000,
          1618531200000000000,
          1618531200000000000,
          1618704000000000000,
          1618790400000000000,
          1618790400000000000,
          1618876800000000000,
          1618876800000000000,
          1618876800000000000,
          1618963200000000000,
          1618963200000000000,
          1618963200000000000,
          1619136000000000000,
          1619222400000000000,
          1619481600000000000,
          1619481600000000000,
          1619654400000000000,
          1619654400000000000,
          1619740800000000000,
          1619827200000000000,
          1620000000000000000,
          1620000000000000000,
          1620086400000000000,
          1620172800000000000,
          1620172800000000000,
          1620259200000000000,
          1620259200000000000,
          1620345600000000000,
          1620432000000000000,
          1620604800000000000,
          1620604800000000000,
          1620777600000000000,
          1620777600000000000,
          1620864000000000000,
          1620950400000000000,
          1621036800000000000,
          1621382400000000000,
          1621382400000000000,
          1621641600000000000,
          1621641600000000000,
          1621728000000000000,
          1621900800000000000,
          1621987200000000000,
          1622073600000000000,
          1622073600000000000,
          1622073600000000000,
          1622073600000000000,
          1622160000000000000,
          1622246400000000000,
          1622332800000000000,
          1622505600000000000
         ]
        }
       ],
       "layout": {
        "barmode": "overlay",
        "legend": {
         "bgcolor": "#F5F6F9",
         "font": {
          "color": "#4D5663"
         }
        },
        "paper_bgcolor": "#F5F6F9",
        "plot_bgcolor": "#F5F6F9",
        "template": {
         "data": {
          "bar": [
           {
            "error_x": {
             "color": "#2a3f5f"
            },
            "error_y": {
             "color": "#2a3f5f"
            },
            "marker": {
             "line": {
              "color": "#E5ECF6",
              "width": 0.5
             }
            },
            "type": "bar"
           }
          ],
          "barpolar": [
           {
            "marker": {
             "line": {
              "color": "#E5ECF6",
              "width": 0.5
             }
            },
            "type": "barpolar"
           }
          ],
          "carpet": [
           {
            "aaxis": {
             "endlinecolor": "#2a3f5f",
             "gridcolor": "white",
             "linecolor": "white",
             "minorgridcolor": "white",
             "startlinecolor": "#2a3f5f"
            },
            "baxis": {
             "endlinecolor": "#2a3f5f",
             "gridcolor": "white",
             "linecolor": "white",
             "minorgridcolor": "white",
             "startlinecolor": "#2a3f5f"
            },
            "type": "carpet"
           }
          ],
          "choropleth": [
           {
            "colorbar": {
             "outlinewidth": 0,
             "ticks": ""
            },
            "type": "choropleth"
           }
          ],
          "contour": [
           {
            "colorbar": {
             "outlinewidth": 0,
             "ticks": ""
            },
            "colorscale": [
             [
              0,
              "#0d0887"
             ],
             [
              0.1111111111111111,
              "#46039f"
             ],
             [
              0.2222222222222222,
              "#7201a8"
             ],
             [
              0.3333333333333333,
              "#9c179e"
             ],
             [
              0.4444444444444444,
              "#bd3786"
             ],
             [
              0.5555555555555556,
              "#d8576b"
             ],
             [
              0.6666666666666666,
              "#ed7953"
             ],
             [
              0.7777777777777778,
              "#fb9f3a"
             ],
             [
              0.8888888888888888,
              "#fdca26"
             ],
             [
              1,
              "#f0f921"
             ]
            ],
            "type": "contour"
           }
          ],
          "contourcarpet": [
           {
            "colorbar": {
             "outlinewidth": 0,
             "ticks": ""
            },
            "type": "contourcarpet"
           }
          ],
          "heatmap": [
           {
            "colorbar": {
             "outlinewidth": 0,
             "ticks": ""
            },
            "colorscale": [
             [
              0,
              "#0d0887"
             ],
             [
              0.1111111111111111,
              "#46039f"
             ],
             [
              0.2222222222222222,
              "#7201a8"
             ],
             [
              0.3333333333333333,
              "#9c179e"
             ],
             [
              0.4444444444444444,
              "#bd3786"
             ],
             [
              0.5555555555555556,
              "#d8576b"
             ],
             [
              0.6666666666666666,
              "#ed7953"
             ],
             [
              0.7777777777777778,
              "#fb9f3a"
             ],
             [
              0.8888888888888888,
              "#fdca26"
             ],
             [
              1,
              "#f0f921"
             ]
            ],
            "type": "heatmap"
           }
          ],
          "heatmapgl": [
           {
            "colorbar": {
             "outlinewidth": 0,
             "ticks": ""
            },
            "colorscale": [
             [
              0,
              "#0d0887"
             ],
             [
              0.1111111111111111,
              "#46039f"
             ],
             [
              0.2222222222222222,
              "#7201a8"
             ],
             [
              0.3333333333333333,
              "#9c179e"
             ],
             [
              0.4444444444444444,
              "#bd3786"
             ],
             [
              0.5555555555555556,
              "#d8576b"
             ],
             [
              0.6666666666666666,
              "#ed7953"
             ],
             [
              0.7777777777777778,
              "#fb9f3a"
             ],
             [
              0.8888888888888888,
              "#fdca26"
             ],
             [
              1,
              "#f0f921"
             ]
            ],
            "type": "heatmapgl"
           }
          ],
          "histogram": [
           {
            "marker": {
             "colorbar": {
              "outlinewidth": 0,
              "ticks": ""
             }
            },
            "type": "histogram"
           }
          ],
          "histogram2d": [
           {
            "colorbar": {
             "outlinewidth": 0,
             "ticks": ""
            },
            "colorscale": [
             [
              0,
              "#0d0887"
             ],
             [
              0.1111111111111111,
              "#46039f"
             ],
             [
              0.2222222222222222,
              "#7201a8"
             ],
             [
              0.3333333333333333,
              "#9c179e"
             ],
             [
              0.4444444444444444,
              "#bd3786"
             ],
             [
              0.5555555555555556,
              "#d8576b"
             ],
             [
              0.6666666666666666,
              "#ed7953"
             ],
             [
              0.7777777777777778,
              "#fb9f3a"
             ],
             [
              0.8888888888888888,
              "#fdca26"
             ],
             [
              1,
              "#f0f921"
             ]
            ],
            "type": "histogram2d"
           }
          ],
          "histogram2dcontour": [
           {
            "colorbar": {
             "outlinewidth": 0,
             "ticks": ""
            },
            "colorscale": [
             [
              0,
              "#0d0887"
             ],
             [
              0.1111111111111111,
              "#46039f"
             ],
             [
              0.2222222222222222,
              "#7201a8"
             ],
             [
              0.3333333333333333,
              "#9c179e"
             ],
             [
              0.4444444444444444,
              "#bd3786"
             ],
             [
              0.5555555555555556,
              "#d8576b"
             ],
             [
              0.6666666666666666,
              "#ed7953"
             ],
             [
              0.7777777777777778,
              "#fb9f3a"
             ],
             [
              0.8888888888888888,
              "#fdca26"
             ],
             [
              1,
              "#f0f921"
             ]
            ],
            "type": "histogram2dcontour"
           }
          ],
          "mesh3d": [
           {
            "colorbar": {
             "outlinewidth": 0,
             "ticks": ""
            },
            "type": "mesh3d"
           }
          ],
          "parcoords": [
           {
            "line": {
             "colorbar": {
              "outlinewidth": 0,
              "ticks": ""
             }
            },
            "type": "parcoords"
           }
          ],
          "pie": [
           {
            "automargin": true,
            "type": "pie"
           }
          ],
          "scatter": [
           {
            "marker": {
             "colorbar": {
              "outlinewidth": 0,
              "ticks": ""
             }
            },
            "type": "scatter"
           }
          ],
          "scatter3d": [
           {
            "line": {
             "colorbar": {
              "outlinewidth": 0,
              "ticks": ""
             }
            },
            "marker": {
             "colorbar": {
              "outlinewidth": 0,
              "ticks": ""
             }
            },
            "type": "scatter3d"
           }
          ],
          "scattercarpet": [
           {
            "marker": {
             "colorbar": {
              "outlinewidth": 0,
              "ticks": ""
             }
            },
            "type": "scattercarpet"
           }
          ],
          "scattergeo": [
           {
            "marker": {
             "colorbar": {
              "outlinewidth": 0,
              "ticks": ""
             }
            },
            "type": "scattergeo"
           }
          ],
          "scattergl": [
           {
            "marker": {
             "colorbar": {
              "outlinewidth": 0,
              "ticks": ""
             }
            },
            "type": "scattergl"
           }
          ],
          "scattermapbox": [
           {
            "marker": {
             "colorbar": {
              "outlinewidth": 0,
              "ticks": ""
             }
            },
            "type": "scattermapbox"
           }
          ],
          "scatterpolar": [
           {
            "marker": {
             "colorbar": {
              "outlinewidth": 0,
              "ticks": ""
             }
            },
            "type": "scatterpolar"
           }
          ],
          "scatterpolargl": [
           {
            "marker": {
             "colorbar": {
              "outlinewidth": 0,
              "ticks": ""
             }
            },
            "type": "scatterpolargl"
           }
          ],
          "scatterternary": [
           {
            "marker": {
             "colorbar": {
              "outlinewidth": 0,
              "ticks": ""
             }
            },
            "type": "scatterternary"
           }
          ],
          "surface": [
           {
            "colorbar": {
             "outlinewidth": 0,
             "ticks": ""
            },
            "colorscale": [
             [
              0,
              "#0d0887"
             ],
             [
              0.1111111111111111,
              "#46039f"
             ],
             [
              0.2222222222222222,
              "#7201a8"
             ],
             [
              0.3333333333333333,
              "#9c179e"
             ],
             [
              0.4444444444444444,
              "#bd3786"
             ],
             [
              0.5555555555555556,
              "#d8576b"
             ],
             [
              0.6666666666666666,
              "#ed7953"
             ],
             [
              0.7777777777777778,
              "#fb9f3a"
             ],
             [
              0.8888888888888888,
              "#fdca26"
             ],
             [
              1,
              "#f0f921"
             ]
            ],
            "type": "surface"
           }
          ],
          "table": [
           {
            "cells": {
             "fill": {
              "color": "#EBF0F8"
             },
             "line": {
              "color": "white"
             }
            },
            "header": {
             "fill": {
              "color": "#C8D4E3"
             },
             "line": {
              "color": "white"
             }
            },
            "type": "table"
           }
          ]
         },
         "layout": {
          "annotationdefaults": {
           "arrowcolor": "#2a3f5f",
           "arrowhead": 0,
           "arrowwidth": 1
          },
          "autotypenumbers": "strict",
          "coloraxis": {
           "colorbar": {
            "outlinewidth": 0,
            "ticks": ""
           }
          },
          "colorscale": {
           "diverging": [
            [
             0,
             "#8e0152"
            ],
            [
             0.1,
             "#c51b7d"
            ],
            [
             0.2,
             "#de77ae"
            ],
            [
             0.3,
             "#f1b6da"
            ],
            [
             0.4,
             "#fde0ef"
            ],
            [
             0.5,
             "#f7f7f7"
            ],
            [
             0.6,
             "#e6f5d0"
            ],
            [
             0.7,
             "#b8e186"
            ],
            [
             0.8,
             "#7fbc41"
            ],
            [
             0.9,
             "#4d9221"
            ],
            [
             1,
             "#276419"
            ]
           ],
           "sequential": [
            [
             0,
             "#0d0887"
            ],
            [
             0.1111111111111111,
             "#46039f"
            ],
            [
             0.2222222222222222,
             "#7201a8"
            ],
            [
             0.3333333333333333,
             "#9c179e"
            ],
            [
             0.4444444444444444,
             "#bd3786"
            ],
            [
             0.5555555555555556,
             "#d8576b"
            ],
            [
             0.6666666666666666,
             "#ed7953"
            ],
            [
             0.7777777777777778,
             "#fb9f3a"
            ],
            [
             0.8888888888888888,
             "#fdca26"
            ],
            [
             1,
             "#f0f921"
            ]
           ],
           "sequentialminus": [
            [
             0,
             "#0d0887"
            ],
            [
             0.1111111111111111,
             "#46039f"
            ],
            [
             0.2222222222222222,
             "#7201a8"
            ],
            [
             0.3333333333333333,
             "#9c179e"
            ],
            [
             0.4444444444444444,
             "#bd3786"
            ],
            [
             0.5555555555555556,
             "#d8576b"
            ],
            [
             0.6666666666666666,
             "#ed7953"
            ],
            [
             0.7777777777777778,
             "#fb9f3a"
            ],
            [
             0.8888888888888888,
             "#fdca26"
            ],
            [
             1,
             "#f0f921"
            ]
           ]
          },
          "colorway": [
           "#636efa",
           "#EF553B",
           "#00cc96",
           "#ab63fa",
           "#FFA15A",
           "#19d3f3",
           "#FF6692",
           "#B6E880",
           "#FF97FF",
           "#FECB52"
          ],
          "font": {
           "color": "#2a3f5f"
          },
          "geo": {
           "bgcolor": "white",
           "lakecolor": "white",
           "landcolor": "#E5ECF6",
           "showlakes": true,
           "showland": true,
           "subunitcolor": "white"
          },
          "hoverlabel": {
           "align": "left"
          },
          "hovermode": "closest",
          "mapbox": {
           "style": "light"
          },
          "paper_bgcolor": "white",
          "plot_bgcolor": "#E5ECF6",
          "polar": {
           "angularaxis": {
            "gridcolor": "white",
            "linecolor": "white",
            "ticks": ""
           },
           "bgcolor": "#E5ECF6",
           "radialaxis": {
            "gridcolor": "white",
            "linecolor": "white",
            "ticks": ""
           }
          },
          "scene": {
           "xaxis": {
            "backgroundcolor": "#E5ECF6",
            "gridcolor": "white",
            "gridwidth": 2,
            "linecolor": "white",
            "showbackground": true,
            "ticks": "",
            "zerolinecolor": "white"
           },
           "yaxis": {
            "backgroundcolor": "#E5ECF6",
            "gridcolor": "white",
            "gridwidth": 2,
            "linecolor": "white",
            "showbackground": true,
            "ticks": "",
            "zerolinecolor": "white"
           },
           "zaxis": {
            "backgroundcolor": "#E5ECF6",
            "gridcolor": "white",
            "gridwidth": 2,
            "linecolor": "white",
            "showbackground": true,
            "ticks": "",
            "zerolinecolor": "white"
           }
          },
          "shapedefaults": {
           "line": {
            "color": "#2a3f5f"
           }
          },
          "ternary": {
           "aaxis": {
            "gridcolor": "white",
            "linecolor": "white",
            "ticks": ""
           },
           "baxis": {
            "gridcolor": "white",
            "linecolor": "white",
            "ticks": ""
           },
           "bgcolor": "#E5ECF6",
           "caxis": {
            "gridcolor": "white",
            "linecolor": "white",
            "ticks": ""
           }
          },
          "title": {
           "x": 0.05
          },
          "xaxis": {
           "automargin": true,
           "gridcolor": "white",
           "linecolor": "white",
           "ticks": "",
           "title": {
            "standoff": 15
           },
           "zerolinecolor": "white",
           "zerolinewidth": 2
          },
          "yaxis": {
           "automargin": true,
           "gridcolor": "white",
           "linecolor": "white",
           "ticks": "",
           "title": {
            "standoff": 15
           },
           "zerolinecolor": "white",
           "zerolinewidth": 2
          }
         }
        },
        "title": {
         "font": {
          "color": "#4D5663"
         }
        },
        "xaxis": {
         "gridcolor": "#E1E5ED",
         "showgrid": true,
         "tickfont": {
          "color": "#4D5663"
         },
         "title": {
          "font": {
           "color": "#4D5663"
          },
          "text": ""
         },
         "zerolinecolor": "#E1E5ED"
        },
        "yaxis": {
         "gridcolor": "#E1E5ED",
         "showgrid": true,
         "tickfont": {
          "color": "#4D5663"
         },
         "title": {
          "font": {
           "color": "#4D5663"
          },
          "text": ""
         },
         "zerolinecolor": "#E1E5ED"
        }
       }
      },
      "text/html": [
       "<div>                            <div id=\"12a0967f-e7ed-4fd9-8f7f-b68458e409db\" class=\"plotly-graph-div\" style=\"height:525px; width:100%;\"></div>            <script type=\"text/javascript\">                require([\"plotly\"], function(Plotly) {                    window.PLOTLYENV=window.PLOTLYENV || {};\n",
       "                    window.PLOTLYENV.BASE_URL='https://plot.ly';                                    if (document.getElementById(\"12a0967f-e7ed-4fd9-8f7f-b68458e409db\")) {                    Plotly.newPlot(                        \"12a0967f-e7ed-4fd9-8f7f-b68458e409db\",                        [{\"histfunc\": \"count\", \"histnorm\": \"\", \"marker\": {\"color\": \"rgba(219, 64, 82, 1.0)\", \"line\": {\"color\": \"#4D5663\", \"width\": 1.3}}, \"name\": \"Rating\", \"opacity\": 0.8, \"orientation\": \"v\", \"type\": \"histogram\", \"x\": [5, 4, 5, 4, 5, 1, 1, 5, 3, 3, 5, 3, 4, 4, 2, 2, 5, 5, 5, 3, 5, 4, 4, 4, 5, 5, 5, 5, 5, 5, 5, 4, 4, 4, 4, 5, 4, 4, 2, 4, 4, 5, 5, 5, 2, 3, 4, 5, 4, 3, 3, 4, 4, 4, 4, 4, 2, 3, 5, 2, 5, 5, 4, 4, 5, 5, 5, 3, 1, 1, 4, 5, 3, 2, 4, 1, 3, 4, 4, 1, 1, 2, 4, 4, 5, 3, 5, 3, 2, 4, 3, 2, 1, 1, 5, 3, 4, 1, 3, 5, 3, 4, 4, 4, 1, 3, 4, 4, 5, 1, 1, 3, 4, 3, 2, 4, 4, 1, 3, 3, 4, 4, 5, 2, 4, 5, 3, 4, 3, 3, 3, 2, 4, 4, 4, 4, 4, 5, 4, 4, 4, 3, 3, 3, 4, 5, 5, 5, 1, 4, 5, 4, 5, 2, 4, 3, 3, 2, 2, 5, 5, 3, 5, 3, 1, 3, 3, 4, 5, 5, 4, 4, 5, 5, 1, 3, 3, 1, 4, 3, 1, 4, 3, 1, 5, 1, 3, 5, 3, 4, 3, 2, 4, 2, 4, 1, 4, 5, 2, 1, 1, 4, 4, 1, 5, 5, 3, 4, 1, 4, 3, 4, 5, 5, 4, 3, 4, 4, 3, 3, 4, 5, 4, 1, 2, 4, 5, 4, 5, 1, 5, 4, 1, 3, 5, 4, 4, 5, 5, 4, 4, 3, 1, 3, 1, 4, 1, 1, 2, 3, 4, 4, 3, 4, 2, 1, 4, 5, 1, 1, 2, 1, 5, 5, 5, 4, 5, 4, 4, 4, 5, 4, 4, 4, 4, 3, 4, 1, 2, 5, 4, 4, 4, 4, 5, 4, 4, 5, 4, 4, 4, 4, 2, 4, 4, 3, 1, 5, 3, 5, 4, 2, 3, 1, 4, 4, 5, 5, 4, 2, 4, 1, 5, 3, 4, 4, 4, 4, 3, 3, 5, 2, 5, 4, 4, 2, 5, 3, 3, 3, 4, 5, 4, 4, 1, 2, 4, 4, 4, 4, 3, 5, 1, 3, 4, 5, 1, 5, 4, 4, 3, 4, 5, 4, 1, 4, 4, 4, 3, 3, 2, 3, 4, 5, 3, 4, 5, 3, 4, 5, 3, 4, 4, 4, 3, 5, 4, 4, 5, 3, 5, 5, 5, 3, 4, 2, 5, 5, 2, 4, 4, 5, 4, 5, 3, 5, 5, 4, 2, 5, 3, 4, 5, 2, 4, 3, 4, 5, 4, 4, 1, 4, 4, 1, 4, 4, 4, 4, 4, 2, 2, 3, 5, 3, 4, 5, 5, 4, 3, 2, 3, 3, 4, 1, 3, 3, 5, 4, 5, 4, 5, 3, 3, 4, 4, 4, 5, 1, 4, 5, 2, 5, 3, 4, 4, 5, 5, 5, 5, 5, 4, 5, 5, 3, 5, 4, 3, 4, 4, 3, 4, 4, 4, 5, 5, 3, 4, 5, 2, 4, 5, 4, 3, 3, 4, 4, 3, 3, 5, 3, 2, 5, 3, 2, 3, 5, 5, 5, 2, 4, 5, 2, 3, 3, 5, 3, 4, 3, 4, 1, 4, 4, 4, 3, 5, 4, 4, 5, 4, 4, 5, 4, 4, 4, 4, 3, 5, 5, 4, 1, 1, 2, 4, 2, 4, 5, 4, 3, 4, 3, 3, 3, 4, 4, 5, 3, 4, 1, 3, 5, 5, 2, 2, 5, 5, 3, 3, 3, 1, 3, 1, 4, 4, 1, 1, 5, 1, 4, 2, 3, 5, 5, 5, 4, 5, 4, 3, 3, 3]}, {\"histfunc\": \"count\", \"histnorm\": \"\", \"marker\": {\"color\": \"rgba(219, 64, 82, 0.8999999999999999)\", \"line\": {\"color\": \"#4D5663\", \"width\": 1.3}}, \"name\": \"Date Posted\", \"opacity\": 0.8, \"orientation\": \"v\", \"type\": \"histogram\", \"x\": [1512432000000000000, 1513382400000000000, 1513641600000000000, 1514246400000000000, 1514246400000000000, 1515542400000000000, 1515888000000000000, 1516060800000000000, 1516492800000000000, 1517184000000000000, 1518739200000000000, 1519257600000000000, 1519516800000000000, 1519603200000000000, 1519689600000000000, 1519862400000000000, 1520035200000000000, 1520121600000000000, 1520380800000000000, 1520467200000000000, 1520553600000000000, 1520553600000000000, 1521504000000000000, 1521504000000000000, 1522022400000000000, 1522022400000000000, 1522108800000000000, 1522627200000000000, 1522972800000000000, 1522972800000000000, 1523232000000000000, 1523491200000000000, 1524096000000000000, 1524355200000000000, 1524355200000000000, 1524528000000000000, 1525132800000000000, 1525910400000000000, 1525996800000000000, 1526342400000000000, 1526860800000000000, 1527379200000000000, 1527811200000000000, 1528329600000000000, 1529539200000000000, 1529971200000000000, 1529971200000000000, 1529971200000000000, 1530316800000000000, 1531008000000000000, 1531094400000000000, 1531353600000000000, 1531612800000000000, 1532563200000000000, 1532563200000000000, 1532995200000000000, 1533600000000000000, 1534377600000000000, 1534464000000000000, 1534550400000000000, 1534809600000000000, 1534982400000000000, 1535068800000000000, 1535500800000000000, 1535587200000000000, 1536019200000000000, 1536883200000000000, 1537142400000000000, 1537488000000000000, 1537747200000000000, 1537747200000000000, 1537833600000000000, 1538524800000000000, 1539043200000000000, 1539216000000000000, 1539302400000000000, 1539820800000000000, 1540080000000000000, 1540166400000000000, 1541030400000000000, 1541116800000000000, 1541635200000000000, 1541721600000000000, 1542326400000000000, 1542585600000000000, 1542844800000000000, 1543190400000000000, 1543449600000000000, 1544659200000000000, 1545523200000000000, 1545868800000000000, 1546387200000000000, 1546646400000000000, 1546732800000000000, 1547164800000000000, 1547337600000000000, 1547424000000000000, 1547424000000000000, 1548374400000000000, 1548979200000000000, 1549584000000000000, 1549584000000000000, 1550102400000000000, 1550275200000000000, 1550361600000000000, 1550448000000000000, 1550534400000000000, 1550620800000000000, 1550707200000000000, 1551139200000000000, 1551398400000000000, 1551484800000000000, 1551830400000000000, 1552176000000000000, 1552262400000000000, 1552348800000000000, 1552694400000000000, 1553040000000000000, 1553558400000000000, 1553731200000000000, 1553731200000000000, 1553817600000000000, 1553990400000000000, 1554076800000000000, 1554595200000000000, 1554595200000000000, 1554940800000000000, 1555286400000000000, 1555286400000000000, 1555459200000000000, 1555459200000000000, 1555891200000000000, 1556064000000000000, 1556496000000000000, 1556841600000000000, 1557100800000000000, 1557360000000000000, 1557619200000000000, 1557964800000000000, 1558483200000000000, 1558742400000000000, 1559520000000000000, 1559779200000000000, 1560124800000000000, 1560211200000000000, 1560211200000000000, 1560211200000000000, 1560297600000000000, 1560297600000000000, 1560384000000000000, 1560384000000000000, 1560816000000000000, 1561075200000000000, 1561161600000000000, 1561161600000000000, 1561593600000000000, 1561593600000000000, 1561939200000000000, 1561939200000000000, 1561939200000000000, 1562198400000000000, 1562457600000000000, 1562544000000000000, 1562889600000000000, 1563235200000000000, 1563235200000000000, 1563321600000000000, 1563408000000000000, 1563753600000000000, 1563753600000000000, 1563840000000000000, 1563926400000000000, 1563926400000000000, 1564012800000000000, 1564012800000000000, 1564358400000000000, 1564444800000000000, 1564531200000000000, 1564617600000000000, 1565049600000000000, 1566432000000000000, 1567641600000000000, 1568505600000000000, 1568678400000000000, 1568764800000000000, 1569024000000000000, 1569024000000000000, 1569110400000000000, 1569196800000000000, 1569283200000000000, 1569542400000000000, 1569974400000000000, 1570060800000000000, 1570406400000000000, 1570492800000000000, 1570752000000000000, 1570752000000000000, 1570924800000000000, 1571356800000000000, 1572220800000000000, 1572307200000000000, 1572393600000000000, 1572912000000000000, 1573257600000000000, 1573516800000000000, 1573516800000000000, 1573776000000000000, 1574035200000000000, 1574208000000000000, 1574208000000000000, 1574294400000000000, 1574294400000000000, 1574294400000000000, 1574553600000000000, 1574553600000000000, 1574640000000000000, 1574640000000000000, 1574899200000000000, 1575158400000000000, 1575244800000000000, 1576022400000000000, 1576627200000000000, 1577664000000000000, 1577750400000000000, 1578441600000000000, 1578441600000000000, 1578528000000000000, 1578873600000000000, 1579046400000000000, 1579219200000000000, 1579564800000000000, 1579564800000000000, 1579824000000000000, 1579824000000000000, 1579910400000000000, 1580169600000000000, 1580342400000000000, 1580688000000000000, 1580688000000000000, 1581120000000000000, 1582416000000000000, 1582416000000000000, 1582588800000000000, 1583884800000000000, 1584489600000000000, 1584576000000000000, 1584835200000000000, 1585008000000000000, 1585094400000000000, 1585440000000000000, 1586131200000000000, 1586217600000000000, 1586908800000000000, 1586995200000000000, 1587168000000000000, 1587859200000000000, 1587945600000000000, 1588032000000000000, 1588204800000000000, 1588550400000000000, 1589068800000000000, 1589155200000000000, 1589155200000000000, 1589241600000000000, 1589328000000000000, 1589414400000000000, 1589500800000000000, 1589587200000000000, 1589673600000000000, 1589673600000000000, 1590796800000000000, 1591142400000000000, 1591574400000000000, 1591660800000000000, 1591660800000000000, 1591920000000000000, 1592092800000000000, 1592265600000000000, 1592524800000000000, 1593043200000000000, 1593820800000000000, 1594512000000000000, 1594512000000000000, 1594598400000000000, 1594771200000000000, 1594771200000000000, 1595116800000000000, 1595462400000000000, 1595462400000000000, 1595548800000000000, 1596067200000000000, 1596153600000000000, 1596412800000000000, 1596412800000000000, 1596585600000000000, 1596758400000000000, 1596844800000000000, 1597017600000000000, 1597190400000000000, 1597190400000000000, 1597622400000000000, 1597622400000000000, 1597708800000000000, 1597708800000000000, 1597795200000000000, 1598227200000000000, 1598313600000000000, 1598313600000000000, 1598313600000000000, 1598400000000000000, 1598400000000000000, 1598572800000000000, 1598572800000000000, 1598832000000000000, 1598832000000000000, 1598832000000000000, 1598918400000000000, 1599004800000000000, 1599177600000000000, 1599609600000000000, 1599868800000000000, 1600560000000000000, 1600646400000000000, 1600819200000000000, 1600905600000000000, 1600905600000000000, 1600905600000000000, 1600992000000000000, 1600992000000000000, 1601251200000000000, 1601424000000000000, 1601769600000000000, 1601856000000000000, 1601856000000000000, 1601856000000000000, 1601856000000000000, 1601942400000000000, 1601942400000000000, 1601942400000000000, 1602028800000000000, 1602115200000000000, 1602201600000000000, 1602288000000000000, 1602374400000000000, 1602460800000000000, 1602720000000000000, 1602806400000000000, 1602806400000000000, 1602892800000000000, 1602979200000000000, 1603065600000000000, 1603065600000000000, 1603065600000000000, 1603497600000000000, 1603584000000000000, 1603756800000000000, 1603756800000000000, 1603843200000000000, 1604275200000000000, 1604448000000000000, 1604534400000000000, 1604707200000000000, 1604707200000000000, 1604880000000000000, 1604966400000000000, 1604966400000000000, 1605052800000000000, 1605139200000000000, 1605571200000000000, 1605657600000000000, 1605916800000000000, 1606003200000000000, 1606089600000000000, 1606089600000000000, 1606176000000000000, 1606176000000000000, 1606262400000000000, 1606262400000000000, 1606608000000000000, 1606694400000000000, 1606780800000000000, 1606780800000000000, 1606867200000000000, 1606953600000000000, 1607040000000000000, 1607472000000000000, 1607472000000000000, 1607558400000000000, 1607558400000000000, 1607904000000000000, 1607904000000000000, 1607904000000000000, 1607904000000000000, 1607990400000000000, 1608076800000000000, 1608076800000000000, 1608163200000000000, 1608163200000000000, 1608249600000000000, 1608336000000000000, 1608595200000000000, 1609113600000000000, 1609804800000000000, 1609977600000000000, 1610064000000000000, 1610150400000000000, 1610323200000000000, 1610323200000000000, 1610323200000000000, 1610496000000000000, 1610496000000000000, 1610496000000000000, 1610496000000000000, 1610496000000000000, 1610668800000000000, 1610668800000000000, 1610668800000000000, 1610755200000000000, 1610841600000000000, 1610928000000000000, 1610928000000000000, 1610928000000000000, 1611014400000000000, 1611100800000000000, 1611100800000000000, 1611187200000000000, 1611187200000000000, 1611273600000000000, 1611446400000000000, 1611532800000000000, 1611532800000000000, 1611532800000000000, 1611532800000000000, 1611792000000000000, 1611878400000000000, 1611964800000000000, 1611964800000000000, 1612051200000000000, 1612137600000000000, 1612137600000000000, 1612396800000000000, 1612483200000000000, 1612742400000000000, 1612828800000000000, 1612828800000000000, 1612915200000000000, 1612915200000000000, 1612915200000000000, 1613088000000000000, 1613088000000000000, 1613088000000000000, 1613174400000000000, 1613347200000000000, 1613520000000000000, 1613520000000000000, 1613520000000000000, 1613606400000000000, 1613606400000000000, 1613606400000000000, 1613606400000000000, 1613865600000000000, 1613952000000000000, 1613952000000000000, 1613952000000000000, 1614124800000000000, 1614124800000000000, 1614124800000000000, 1614211200000000000, 1614384000000000000, 1614556800000000000, 1614729600000000000, 1614816000000000000, 1614988800000000000, 1614988800000000000, 1614988800000000000, 1615161600000000000, 1615248000000000000, 1615248000000000000, 1615334400000000000, 1615334400000000000, 1615420800000000000, 1615420800000000000, 1615507200000000000, 1615507200000000000, 1615593600000000000, 1615766400000000000, 1615852800000000000, 1615852800000000000, 1615852800000000000, 1615939200000000000, 1615939200000000000, 1616025600000000000, 1616112000000000000, 1616198400000000000, 1616198400000000000, 1616371200000000000, 1616457600000000000, 1616630400000000000, 1616630400000000000, 1616716800000000000, 1616716800000000000, 1616889600000000000, 1617062400000000000, 1617062400000000000, 1617148800000000000, 1617148800000000000, 1617148800000000000, 1617148800000000000, 1617235200000000000, 1617321600000000000, 1617321600000000000, 1617321600000000000, 1617408000000000000, 1617494400000000000, 1617580800000000000, 1617667200000000000, 1617667200000000000, 1617753600000000000, 1617753600000000000, 1617840000000000000, 1617840000000000000, 1617840000000000000, 1618012800000000000, 1618099200000000000, 1618099200000000000, 1618185600000000000, 1618272000000000000, 1618358400000000000, 1618358400000000000, 1618531200000000000, 1618531200000000000, 1618704000000000000, 1618790400000000000, 1618790400000000000, 1618876800000000000, 1618876800000000000, 1618876800000000000, 1618963200000000000, 1618963200000000000, 1618963200000000000, 1619136000000000000, 1619222400000000000, 1619481600000000000, 1619481600000000000, 1619654400000000000, 1619654400000000000, 1619740800000000000, 1619827200000000000, 1620000000000000000, 1620000000000000000, 1620086400000000000, 1620172800000000000, 1620172800000000000, 1620259200000000000, 1620259200000000000, 1620345600000000000, 1620432000000000000, 1620604800000000000, 1620604800000000000, 1620777600000000000, 1620777600000000000, 1620864000000000000, 1620950400000000000, 1621036800000000000, 1621382400000000000, 1621382400000000000, 1621641600000000000, 1621641600000000000, 1621728000000000000, 1621900800000000000, 1621987200000000000, 1622073600000000000, 1622073600000000000, 1622073600000000000, 1622073600000000000, 1622160000000000000, 1622246400000000000, 1622332800000000000, 1622505600000000000]}],                        {\"barmode\": \"overlay\", \"legend\": {\"bgcolor\": \"#F5F6F9\", \"font\": {\"color\": \"#4D5663\"}}, \"paper_bgcolor\": \"#F5F6F9\", \"plot_bgcolor\": \"#F5F6F9\", \"template\": {\"data\": {\"bar\": [{\"error_x\": {\"color\": \"#2a3f5f\"}, \"error_y\": {\"color\": \"#2a3f5f\"}, \"marker\": {\"line\": {\"color\": \"#E5ECF6\", \"width\": 0.5}}, \"type\": \"bar\"}], \"barpolar\": [{\"marker\": {\"line\": {\"color\": \"#E5ECF6\", \"width\": 0.5}}, \"type\": \"barpolar\"}], \"carpet\": [{\"aaxis\": {\"endlinecolor\": \"#2a3f5f\", \"gridcolor\": \"white\", \"linecolor\": \"white\", \"minorgridcolor\": \"white\", \"startlinecolor\": \"#2a3f5f\"}, \"baxis\": {\"endlinecolor\": \"#2a3f5f\", \"gridcolor\": \"white\", \"linecolor\": \"white\", \"minorgridcolor\": \"white\", \"startlinecolor\": \"#2a3f5f\"}, \"type\": \"carpet\"}], \"choropleth\": [{\"colorbar\": {\"outlinewidth\": 0, \"ticks\": \"\"}, \"type\": \"choropleth\"}], \"contour\": [{\"colorbar\": {\"outlinewidth\": 0, \"ticks\": \"\"}, \"colorscale\": [[0.0, \"#0d0887\"], [0.1111111111111111, \"#46039f\"], [0.2222222222222222, \"#7201a8\"], [0.3333333333333333, \"#9c179e\"], [0.4444444444444444, \"#bd3786\"], [0.5555555555555556, \"#d8576b\"], [0.6666666666666666, \"#ed7953\"], [0.7777777777777778, \"#fb9f3a\"], [0.8888888888888888, \"#fdca26\"], [1.0, \"#f0f921\"]], \"type\": \"contour\"}], \"contourcarpet\": [{\"colorbar\": {\"outlinewidth\": 0, \"ticks\": \"\"}, \"type\": \"contourcarpet\"}], \"heatmap\": [{\"colorbar\": {\"outlinewidth\": 0, \"ticks\": \"\"}, \"colorscale\": [[0.0, \"#0d0887\"], [0.1111111111111111, \"#46039f\"], [0.2222222222222222, \"#7201a8\"], [0.3333333333333333, \"#9c179e\"], [0.4444444444444444, \"#bd3786\"], [0.5555555555555556, \"#d8576b\"], [0.6666666666666666, \"#ed7953\"], [0.7777777777777778, \"#fb9f3a\"], [0.8888888888888888, \"#fdca26\"], [1.0, \"#f0f921\"]], \"type\": \"heatmap\"}], \"heatmapgl\": [{\"colorbar\": {\"outlinewidth\": 0, \"ticks\": \"\"}, \"colorscale\": [[0.0, \"#0d0887\"], [0.1111111111111111, \"#46039f\"], [0.2222222222222222, \"#7201a8\"], [0.3333333333333333, \"#9c179e\"], [0.4444444444444444, \"#bd3786\"], [0.5555555555555556, \"#d8576b\"], [0.6666666666666666, \"#ed7953\"], [0.7777777777777778, \"#fb9f3a\"], [0.8888888888888888, \"#fdca26\"], [1.0, \"#f0f921\"]], \"type\": \"heatmapgl\"}], \"histogram\": [{\"marker\": {\"colorbar\": {\"outlinewidth\": 0, \"ticks\": \"\"}}, \"type\": \"histogram\"}], \"histogram2d\": [{\"colorbar\": {\"outlinewidth\": 0, \"ticks\": \"\"}, \"colorscale\": [[0.0, \"#0d0887\"], [0.1111111111111111, \"#46039f\"], [0.2222222222222222, \"#7201a8\"], [0.3333333333333333, \"#9c179e\"], [0.4444444444444444, \"#bd3786\"], [0.5555555555555556, \"#d8576b\"], [0.6666666666666666, \"#ed7953\"], [0.7777777777777778, \"#fb9f3a\"], [0.8888888888888888, \"#fdca26\"], [1.0, \"#f0f921\"]], \"type\": \"histogram2d\"}], \"histogram2dcontour\": [{\"colorbar\": {\"outlinewidth\": 0, \"ticks\": \"\"}, \"colorscale\": [[0.0, \"#0d0887\"], [0.1111111111111111, \"#46039f\"], [0.2222222222222222, \"#7201a8\"], [0.3333333333333333, \"#9c179e\"], [0.4444444444444444, \"#bd3786\"], [0.5555555555555556, \"#d8576b\"], [0.6666666666666666, \"#ed7953\"], [0.7777777777777778, \"#fb9f3a\"], [0.8888888888888888, \"#fdca26\"], [1.0, \"#f0f921\"]], \"type\": \"histogram2dcontour\"}], \"mesh3d\": [{\"colorbar\": {\"outlinewidth\": 0, \"ticks\": \"\"}, \"type\": \"mesh3d\"}], \"parcoords\": [{\"line\": {\"colorbar\": {\"outlinewidth\": 0, \"ticks\": \"\"}}, \"type\": \"parcoords\"}], \"pie\": [{\"automargin\": true, \"type\": \"pie\"}], \"scatter\": [{\"marker\": {\"colorbar\": {\"outlinewidth\": 0, \"ticks\": \"\"}}, \"type\": \"scatter\"}], \"scatter3d\": [{\"line\": {\"colorbar\": {\"outlinewidth\": 0, \"ticks\": \"\"}}, \"marker\": {\"colorbar\": {\"outlinewidth\": 0, \"ticks\": \"\"}}, \"type\": \"scatter3d\"}], \"scattercarpet\": [{\"marker\": {\"colorbar\": {\"outlinewidth\": 0, \"ticks\": \"\"}}, \"type\": \"scattercarpet\"}], \"scattergeo\": [{\"marker\": {\"colorbar\": {\"outlinewidth\": 0, \"ticks\": \"\"}}, \"type\": \"scattergeo\"}], \"scattergl\": [{\"marker\": {\"colorbar\": {\"outlinewidth\": 0, \"ticks\": \"\"}}, \"type\": \"scattergl\"}], \"scattermapbox\": [{\"marker\": {\"colorbar\": {\"outlinewidth\": 0, \"ticks\": \"\"}}, \"type\": \"scattermapbox\"}], \"scatterpolar\": [{\"marker\": {\"colorbar\": {\"outlinewidth\": 0, \"ticks\": \"\"}}, \"type\": \"scatterpolar\"}], \"scatterpolargl\": [{\"marker\": {\"colorbar\": {\"outlinewidth\": 0, \"ticks\": \"\"}}, \"type\": \"scatterpolargl\"}], \"scatterternary\": [{\"marker\": {\"colorbar\": {\"outlinewidth\": 0, \"ticks\": \"\"}}, \"type\": \"scatterternary\"}], \"surface\": [{\"colorbar\": {\"outlinewidth\": 0, \"ticks\": \"\"}, \"colorscale\": [[0.0, \"#0d0887\"], [0.1111111111111111, \"#46039f\"], [0.2222222222222222, \"#7201a8\"], [0.3333333333333333, \"#9c179e\"], [0.4444444444444444, \"#bd3786\"], [0.5555555555555556, \"#d8576b\"], [0.6666666666666666, \"#ed7953\"], [0.7777777777777778, \"#fb9f3a\"], [0.8888888888888888, \"#fdca26\"], [1.0, \"#f0f921\"]], \"type\": \"surface\"}], \"table\": [{\"cells\": {\"fill\": {\"color\": \"#EBF0F8\"}, \"line\": {\"color\": \"white\"}}, \"header\": {\"fill\": {\"color\": \"#C8D4E3\"}, \"line\": {\"color\": \"white\"}}, \"type\": \"table\"}]}, \"layout\": {\"annotationdefaults\": {\"arrowcolor\": \"#2a3f5f\", \"arrowhead\": 0, \"arrowwidth\": 1}, \"autotypenumbers\": \"strict\", \"coloraxis\": {\"colorbar\": {\"outlinewidth\": 0, \"ticks\": \"\"}}, \"colorscale\": {\"diverging\": [[0, \"#8e0152\"], [0.1, \"#c51b7d\"], [0.2, \"#de77ae\"], [0.3, \"#f1b6da\"], [0.4, \"#fde0ef\"], [0.5, \"#f7f7f7\"], [0.6, \"#e6f5d0\"], [0.7, \"#b8e186\"], [0.8, \"#7fbc41\"], [0.9, \"#4d9221\"], [1, \"#276419\"]], \"sequential\": [[0.0, \"#0d0887\"], [0.1111111111111111, \"#46039f\"], [0.2222222222222222, \"#7201a8\"], [0.3333333333333333, \"#9c179e\"], [0.4444444444444444, \"#bd3786\"], [0.5555555555555556, \"#d8576b\"], [0.6666666666666666, \"#ed7953\"], [0.7777777777777778, \"#fb9f3a\"], [0.8888888888888888, \"#fdca26\"], [1.0, \"#f0f921\"]], \"sequentialminus\": [[0.0, \"#0d0887\"], [0.1111111111111111, \"#46039f\"], [0.2222222222222222, \"#7201a8\"], [0.3333333333333333, \"#9c179e\"], [0.4444444444444444, \"#bd3786\"], [0.5555555555555556, \"#d8576b\"], [0.6666666666666666, \"#ed7953\"], [0.7777777777777778, \"#fb9f3a\"], [0.8888888888888888, \"#fdca26\"], [1.0, \"#f0f921\"]]}, \"colorway\": [\"#636efa\", \"#EF553B\", \"#00cc96\", \"#ab63fa\", \"#FFA15A\", \"#19d3f3\", \"#FF6692\", \"#B6E880\", \"#FF97FF\", \"#FECB52\"], \"font\": {\"color\": \"#2a3f5f\"}, \"geo\": {\"bgcolor\": \"white\", \"lakecolor\": \"white\", \"landcolor\": \"#E5ECF6\", \"showlakes\": true, \"showland\": true, \"subunitcolor\": \"white\"}, \"hoverlabel\": {\"align\": \"left\"}, \"hovermode\": \"closest\", \"mapbox\": {\"style\": \"light\"}, \"paper_bgcolor\": \"white\", \"plot_bgcolor\": \"#E5ECF6\", \"polar\": {\"angularaxis\": {\"gridcolor\": \"white\", \"linecolor\": \"white\", \"ticks\": \"\"}, \"bgcolor\": \"#E5ECF6\", \"radialaxis\": {\"gridcolor\": \"white\", \"linecolor\": \"white\", \"ticks\": \"\"}}, \"scene\": {\"xaxis\": {\"backgroundcolor\": \"#E5ECF6\", \"gridcolor\": \"white\", \"gridwidth\": 2, \"linecolor\": \"white\", \"showbackground\": true, \"ticks\": \"\", \"zerolinecolor\": \"white\"}, \"yaxis\": {\"backgroundcolor\": \"#E5ECF6\", \"gridcolor\": \"white\", \"gridwidth\": 2, \"linecolor\": \"white\", \"showbackground\": true, \"ticks\": \"\", \"zerolinecolor\": \"white\"}, \"zaxis\": {\"backgroundcolor\": \"#E5ECF6\", \"gridcolor\": \"white\", \"gridwidth\": 2, \"linecolor\": \"white\", \"showbackground\": true, \"ticks\": \"\", \"zerolinecolor\": \"white\"}}, \"shapedefaults\": {\"line\": {\"color\": \"#2a3f5f\"}}, \"ternary\": {\"aaxis\": {\"gridcolor\": \"white\", \"linecolor\": \"white\", \"ticks\": \"\"}, \"baxis\": {\"gridcolor\": \"white\", \"linecolor\": \"white\", \"ticks\": \"\"}, \"bgcolor\": \"#E5ECF6\", \"caxis\": {\"gridcolor\": \"white\", \"linecolor\": \"white\", \"ticks\": \"\"}}, \"title\": {\"x\": 0.05}, \"xaxis\": {\"automargin\": true, \"gridcolor\": \"white\", \"linecolor\": \"white\", \"ticks\": \"\", \"title\": {\"standoff\": 15}, \"zerolinecolor\": \"white\", \"zerolinewidth\": 2}, \"yaxis\": {\"automargin\": true, \"gridcolor\": \"white\", \"linecolor\": \"white\", \"ticks\": \"\", \"title\": {\"standoff\": 15}, \"zerolinecolor\": \"white\", \"zerolinewidth\": 2}}}, \"title\": {\"font\": {\"color\": \"#4D5663\"}}, \"xaxis\": {\"gridcolor\": \"#E1E5ED\", \"showgrid\": true, \"tickfont\": {\"color\": \"#4D5663\"}, \"title\": {\"font\": {\"color\": \"#4D5663\"}, \"text\": \"\"}, \"zerolinecolor\": \"#E1E5ED\"}, \"yaxis\": {\"gridcolor\": \"#E1E5ED\", \"showgrid\": true, \"tickfont\": {\"color\": \"#4D5663\"}, \"title\": {\"font\": {\"color\": \"#4D5663\"}, \"text\": \"\"}, \"zerolinecolor\": \"#E1E5ED\"}},                        {\"showLink\": true, \"linkText\": \"Export to plot.ly\", \"plotlyServerURL\": \"https://plot.ly\", \"responsive\": true}                    ).then(function(){\n",
       "                            \n",
       "var gd = document.getElementById('12a0967f-e7ed-4fd9-8f7f-b68458e409db');\n",
       "var x = new MutationObserver(function (mutations, observer) {{\n",
       "        var display = window.getComputedStyle(gd).display;\n",
       "        if (!display || display === 'none') {{\n",
       "            console.log([gd, 'removed!']);\n",
       "            Plotly.purge(gd);\n",
       "            observer.disconnect();\n",
       "        }}\n",
       "}});\n",
       "\n",
       "// Listen for the removal of the full notebook cells\n",
       "var notebookContainer = gd.closest('#notebook-container');\n",
       "if (notebookContainer) {{\n",
       "    x.observe(notebookContainer, {childList: true});\n",
       "}}\n",
       "\n",
       "// Listen for the clearing of the current output cell\n",
       "var outputEl = gd.closest('.output');\n",
       "if (outputEl) {{\n",
       "    x.observe(outputEl, {childList: true});\n",
       "}}\n",
       "\n",
       "                        })                };                });            </script>        </div>"
      ]
     },
     "metadata": {},
     "output_type": "display_data"
    }
   ],
   "source": [
    "df[['Rating', 'Date Posted']].iplot(kind='hist', color='red')"
   ]
  },
  {
   "cell_type": "markdown",
   "id": "c38314d7",
   "metadata": {},
   "source": [
    "### Candidate Keywords/Keyphrases"
   ]
  },
  {
   "cell_type": "code",
   "execution_count": 83,
   "id": "9a9d8fca",
   "metadata": {},
   "outputs": [],
   "source": [
    "doc = \"Need to focus on career growth and promoting within. Not much movement with internal candidates which turns into employees leaving.\""
   ]
  },
  {
   "cell_type": "code",
   "execution_count": 84,
   "id": "7443d9ac",
   "metadata": {},
   "outputs": [],
   "source": [
    "from sklearn.feature_extraction.text import CountVectorizer\n",
    "\n",
    "n_gram_range = (1, 1)\n",
    "stop_words = \"english\"\n",
    "\n",
    "# Extract candidate words/phrases\n",
    "count = CountVectorizer(ngram_range=n_gram_range, stop_words=stop_words).fit([doc])\n",
    "candidates = count.get_feature_names()"
   ]
  },
  {
   "cell_type": "code",
   "execution_count": 85,
   "id": "737e79bb",
   "metadata": {},
   "outputs": [],
   "source": [
    "from sentence_transformers import SentenceTransformer\n",
    "\n",
    "model = SentenceTransformer('distilbert-base-nli-mean-tokens')\n",
    "doc_embedding = model.encode([doc])\n",
    "candidate_embeddings = model.encode(candidates)"
   ]
  },
  {
   "cell_type": "code",
   "execution_count": 86,
   "id": "a2249d58",
   "metadata": {},
   "outputs": [],
   "source": [
    "from sklearn.metrics.pairwise import cosine_similarity\n",
    "\n",
    "top_n = 15\n",
    "distances = cosine_similarity(doc_embedding, candidate_embeddings)\n",
    "keywords = [candidates[index] for index in distances.argsort()[0][-top_n:]]"
   ]
  },
  {
   "cell_type": "code",
   "execution_count": 87,
   "id": "1443ccce",
   "metadata": {},
   "outputs": [
    {
     "data": {
      "text/plain": [
       "['turns',\n",
       " 'focus',\n",
       " 'internal',\n",
       " 'movement',\n",
       " 'need',\n",
       " 'growth',\n",
       " 'promoting',\n",
       " 'leaving',\n",
       " 'candidates',\n",
       " 'career',\n",
       " 'employees']"
      ]
     },
     "execution_count": 87,
     "metadata": {},
     "output_type": "execute_result"
    }
   ],
   "source": [
    "keywords"
   ]
  },
  {
   "cell_type": "code",
   "execution_count": 88,
   "id": "90b4c2cd",
   "metadata": {},
   "outputs": [],
   "source": [
    "mask = (df['Rating'] == 1) | (df['Rating'] == 2)\n",
    "df_rating_12 = df[mask]\n",
    "mask = (df['Rating'] == 4) | (df['Rating'] == 5) | (df['Rating'] == 3)\n",
    "df_rating_345 = df[mask]"
   ]
  },
  {
   "cell_type": "code",
   "execution_count": 89,
   "id": "7780f832",
   "metadata": {},
   "outputs": [
    {
     "name": "stdout",
     "output_type": "stream",
     "text": [
      "107\n",
      "472\n"
     ]
    }
   ],
   "source": [
    "print(len(df_rating_12))\n",
    "print(len(df_rating_345))"
   ]
  },
  {
   "cell_type": "code",
   "execution_count": 90,
   "id": "7f374d8d",
   "metadata": {},
   "outputs": [
    {
     "name": "stderr",
     "output_type": "stream",
     "text": [
      "[nltk_data] Downloading package stopwords to\n",
      "[nltk_data]     C:\\Users\\xj30hh\\AppData\\Roaming\\nltk_data...\n",
      "[nltk_data]   Package stopwords is already up-to-date!\n"
     ]
    },
    {
     "data": {
      "text/plain": [
       "True"
      ]
     },
     "execution_count": 90,
     "metadata": {},
     "output_type": "execute_result"
    }
   ],
   "source": [
    "from nltk.tokenize import word_tokenize\n",
    "from nltk.tokenize import sent_tokenize\n",
    "from nltk.stem import WordNetLemmatizer\n",
    "from nltk.corpus import stopwords\n",
    "from nltk.tag import pos_tag\n",
    "import nltk\n",
    "nltk.download('stopwords')"
   ]
  },
  {
   "cell_type": "code",
   "execution_count": 91,
   "id": "e9de25da",
   "metadata": {},
   "outputs": [],
   "source": [
    "text = \"Not much politics and very few ego's. Everyone is willing to help which is refreshing. Not very tough recruiting A Player Talent as Aptiv is a place where most want to work.\""
   ]
  },
  {
   "cell_type": "code",
   "execution_count": 92,
   "id": "da061b6c",
   "metadata": {},
   "outputs": [
    {
     "data": {
      "text/plain": [
       "\"Not much politics and very few ego 's . Everyone is willing to help which is refreshing . Not very tough recruiting A Player Talent a Aptiv is a place where most want to work .\""
      ]
     },
     "execution_count": 92,
     "metadata": {},
     "output_type": "execute_result"
    }
   ],
   "source": [
    "def remove_stopwords(text):\n",
    "    stop_words = set(stopwords.words('english'))\n",
    "    words = word_tokenize(text.lower())\n",
    "    sentence = [w for w in words if not w in stop_words]\n",
    "    return \" \".join(sentence)\n",
    "\n",
    "def lemmatize_text(text):\n",
    "    wordlist=[]\n",
    "    lemmatizer = WordNetLemmatizer()\n",
    "    sentences = sent_tokenize(text)\n",
    "    for sentence in sentences:\n",
    "        words = word_tokenize(sentence)\n",
    "        for word in words:\n",
    "            wordlist.append(lemmatizer.lemmatize(word))\n",
    "    return  ' '.join(wordlist)\n",
    "\n",
    "remove_stopwords(text)\n",
    "lemmatize_text(text)"
   ]
  },
  {
   "cell_type": "code",
   "execution_count": null,
   "id": "e672c523",
   "metadata": {},
   "outputs": [],
   "source": []
  },
  {
   "cell_type": "code",
   "execution_count": null,
   "id": "bada4737",
   "metadata": {},
   "outputs": [],
   "source": []
  }
 ],
 "metadata": {
  "kernelspec": {
   "display_name": "Python 3",
   "language": "python",
   "name": "python3"
  },
  "language_info": {
   "codemirror_mode": {
    "name": "ipython",
    "version": 3
   },
   "file_extension": ".py",
   "mimetype": "text/x-python",
   "name": "python",
   "nbconvert_exporter": "python",
   "pygments_lexer": "ipython3",
   "version": "3.9.2"
  }
 },
 "nbformat": 4,
 "nbformat_minor": 5
}
