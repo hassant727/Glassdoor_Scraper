{
 "cells": [
  {
   "cell_type": "code",
   "execution_count": 1,
   "id": "98ed0514",
   "metadata": {},
   "outputs": [],
   "source": [
    "# Extract keyords and important topics\n",
    "# Wordcloud to show the ones that occur the most often\n",
    "# Visualizations between employee title, tenure, department and the rating they gave"
   ]
  },
  {
   "cell_type": "code",
   "execution_count": 2,
   "id": "9fd1c32f",
   "metadata": {},
   "outputs": [],
   "source": [
    "# Heatmap on a map of the world for grades by location"
   ]
  },
  {
   "cell_type": "code",
   "execution_count": 3,
   "id": "11901ede",
   "metadata": {},
   "outputs": [],
   "source": [
    "# Extract the top N positives and negative points that come up in reviews"
   ]
  },
  {
   "cell_type": "code",
   "execution_count": 4,
   "id": "487fe85a",
   "metadata": {},
   "outputs": [],
   "source": [
    "# General sentiment about the company - different segments of the employee population.\n",
    "\n",
    "# > What are the segments of people we are interested in? Everyone? Mangers and up?\n",
    "# > What do we want to know about them? How they feel about the company\n",
    "# > Why do they feel that way? - Topic Extraction and Clustering\n",
    "# > How has this changed through time? Were people giving better reviews in 2018?"
   ]
  },
  {
   "cell_type": "code",
   "execution_count": 5,
   "id": "cd3dac81",
   "metadata": {},
   "outputs": [],
   "source": [
    "import pandas as pd\n",
    "import numpy as np\n",
    "import seaborn as sns\n",
    "import matplotlib.pyplot as plt\n",
    "import os\n",
    "%matplotlib inline\n",
    "\n",
    "import string\n",
    "#from wordcloud import WordCloud"
   ]
  },
  {
   "cell_type": "code",
   "execution_count": 6,
   "id": "d12338d8",
   "metadata": {},
   "outputs": [],
   "source": [
    "import plotly as py\n",
    "import cufflinks as cf"
   ]
  },
  {
   "cell_type": "code",
   "execution_count": 7,
   "id": "0031837f",
   "metadata": {},
   "outputs": [
    {
     "data": {
      "text/html": [
       "        <script type=\"text/javascript\">\n",
       "        window.PlotlyConfig = {MathJaxConfig: 'local'};\n",
       "        if (window.MathJax) {MathJax.Hub.Config({SVG: {font: \"STIX-Web\"}});}\n",
       "        if (typeof require !== 'undefined') {\n",
       "        require.undef(\"plotly\");\n",
       "        requirejs.config({\n",
       "            paths: {\n",
       "                'plotly': ['https://cdn.plot.ly/plotly-latest.min']\n",
       "            }\n",
       "        });\n",
       "        require(['plotly'], function(Plotly) {\n",
       "            window._Plotly = Plotly;\n",
       "        });\n",
       "        }\n",
       "        </script>\n",
       "        "
      ]
     },
     "metadata": {},
     "output_type": "display_data"
    },
    {
     "data": {
      "text/html": [
       "        <script type=\"text/javascript\">\n",
       "        window.PlotlyConfig = {MathJaxConfig: 'local'};\n",
       "        if (window.MathJax) {MathJax.Hub.Config({SVG: {font: \"STIX-Web\"}});}\n",
       "        if (typeof require !== 'undefined') {\n",
       "        require.undef(\"plotly\");\n",
       "        requirejs.config({\n",
       "            paths: {\n",
       "                'plotly': ['https://cdn.plot.ly/plotly-latest.min']\n",
       "            }\n",
       "        });\n",
       "        require(['plotly'], function(Plotly) {\n",
       "            window._Plotly = Plotly;\n",
       "        });\n",
       "        }\n",
       "        </script>\n",
       "        "
      ]
     },
     "metadata": {},
     "output_type": "display_data"
    }
   ],
   "source": [
    "from plotly.offline import iplot\n",
    "py.offline.init_notebook_mode(connected=True)\n",
    "cf.go_offline()"
   ]
  },
  {
   "cell_type": "markdown",
   "id": "22f786ec",
   "metadata": {},
   "source": [
    "### Data import"
   ]
  },
  {
   "cell_type": "code",
   "execution_count": 8,
   "id": "d9a55d87",
   "metadata": {},
   "outputs": [
    {
     "data": {
      "text/html": [
       "<div>\n",
       "<style scoped>\n",
       "    .dataframe tbody tr th:only-of-type {\n",
       "        vertical-align: middle;\n",
       "    }\n",
       "\n",
       "    .dataframe tbody tr th {\n",
       "        vertical-align: top;\n",
       "    }\n",
       "\n",
       "    .dataframe thead th {\n",
       "        text-align: right;\n",
       "    }\n",
       "</style>\n",
       "<table border=\"1\" class=\"dataframe\">\n",
       "  <thead>\n",
       "    <tr style=\"text-align: right;\">\n",
       "      <th></th>\n",
       "      <th>Title</th>\n",
       "      <th>Rating</th>\n",
       "      <th>Designation</th>\n",
       "      <th>Pros</th>\n",
       "      <th>Cons</th>\n",
       "      <th>Author Info</th>\n",
       "    </tr>\n",
       "  </thead>\n",
       "  <tbody>\n",
       "    <tr>\n",
       "      <th>0</th>\n",
       "      <td>Great Culture and Company That Cares</td>\n",
       "      <td>4</td>\n",
       "      <td>Current Employee</td>\n",
       "      <td>Not much politics and very few ego's. Everyone...</td>\n",
       "      <td>Need to focus on career growth and promoting w...</td>\n",
       "      <td>13 Jan 2021 - Senior Corporate Recruiter in Tr...</td>\n",
       "    </tr>\n",
       "    <tr>\n",
       "      <th>1</th>\n",
       "      <td>Shaping the Future of Mobility!</td>\n",
       "      <td>5</td>\n",
       "      <td>Current Employee, more than 1 year</td>\n",
       "      <td>Global Work Environment, Cutting Edge Technolo...</td>\n",
       "      <td>None to mention at this time.</td>\n",
       "      <td>14 Apr 2021 - Program Manager in Dublin, Dublin</td>\n",
       "    </tr>\n",
       "    <tr>\n",
       "      <th>2</th>\n",
       "      <td>Lots of potential- getting there</td>\n",
       "      <td>4</td>\n",
       "      <td>Current Employee, more than 1 year</td>\n",
       "      <td>A very fast paced environment - you definitely...</td>\n",
       "      <td>Training and coaching could be better- high ex...</td>\n",
       "      <td>22 May 2021 - SCM in Dublin, Dublin</td>\n",
       "    </tr>\n",
       "    <tr>\n",
       "      <th>3</th>\n",
       "      <td>Alright but not the best</td>\n",
       "      <td>3</td>\n",
       "      <td>Current Employee, more than 1 year</td>\n",
       "      <td>Excellent office, good staff, good pay, good b...</td>\n",
       "      <td>Dis organised, office politics at mid/top leve...</td>\n",
       "      <td>8 Mar 2021 - Business Analyst in Dublin, Dublin</td>\n",
       "    </tr>\n",
       "    <tr>\n",
       "      <th>4</th>\n",
       "      <td>Aptiv</td>\n",
       "      <td>3</td>\n",
       "      <td>Current Employee</td>\n",
       "      <td>It is one of the leaders in the automotive ind...</td>\n",
       "      <td>High pressure for hitting numbers, it is more ...</td>\n",
       "      <td>7 Nov 2020 - Supply Chain in Dublin, Dublin</td>\n",
       "    </tr>\n",
       "  </tbody>\n",
       "</table>\n",
       "</div>"
      ],
      "text/plain": [
       "                                  Title  Rating  \\\n",
       "0  Great Culture and Company That Cares       4   \n",
       "1       Shaping the Future of Mobility!       5   \n",
       "2      Lots of potential- getting there       4   \n",
       "3              Alright but not the best       3   \n",
       "4                                 Aptiv       3   \n",
       "\n",
       "                          Designation  \\\n",
       "0                    Current Employee   \n",
       "1  Current Employee, more than 1 year   \n",
       "2  Current Employee, more than 1 year   \n",
       "3  Current Employee, more than 1 year   \n",
       "4                    Current Employee   \n",
       "\n",
       "                                                Pros  \\\n",
       "0  Not much politics and very few ego's. Everyone...   \n",
       "1  Global Work Environment, Cutting Edge Technolo...   \n",
       "2  A very fast paced environment - you definitely...   \n",
       "3  Excellent office, good staff, good pay, good b...   \n",
       "4  It is one of the leaders in the automotive ind...   \n",
       "\n",
       "                                                Cons  \\\n",
       "0  Need to focus on career growth and promoting w...   \n",
       "1                      None to mention at this time.   \n",
       "2  Training and coaching could be better- high ex...   \n",
       "3  Dis organised, office politics at mid/top leve...   \n",
       "4  High pressure for hitting numbers, it is more ...   \n",
       "\n",
       "                                         Author Info  \n",
       "0  13 Jan 2021 - Senior Corporate Recruiter in Tr...  \n",
       "1    14 Apr 2021 - Program Manager in Dublin, Dublin  \n",
       "2                22 May 2021 - SCM in Dublin, Dublin  \n",
       "3    8 Mar 2021 - Business Analyst in Dublin, Dublin  \n",
       "4        7 Nov 2020 - Supply Chain in Dublin, Dublin  "
      ]
     },
     "execution_count": 8,
     "metadata": {},
     "output_type": "execute_result"
    }
   ],
   "source": [
    "df = pd.read_csv('Data.csv', index_col = 0)\n",
    "df.head()"
   ]
  },
  {
   "cell_type": "code",
   "execution_count": 18,
   "id": "7c08d65c",
   "metadata": {},
   "outputs": [
    {
     "data": {
      "text/html": [
       "<div>\n",
       "<style scoped>\n",
       "    .dataframe tbody tr th:only-of-type {\n",
       "        vertical-align: middle;\n",
       "    }\n",
       "\n",
       "    .dataframe tbody tr th {\n",
       "        vertical-align: top;\n",
       "    }\n",
       "\n",
       "    .dataframe thead th {\n",
       "        text-align: right;\n",
       "    }\n",
       "</style>\n",
       "<table border=\"1\" class=\"dataframe\">\n",
       "  <thead>\n",
       "    <tr style=\"text-align: right;\">\n",
       "      <th></th>\n",
       "      <th>Title</th>\n",
       "      <th>Rating</th>\n",
       "      <th>Designation</th>\n",
       "      <th>Pros</th>\n",
       "      <th>Cons</th>\n",
       "      <th>Author Info</th>\n",
       "      <th>Pros_polarity</th>\n",
       "      <th>Pros_len</th>\n",
       "      <th>Pros_Word_count</th>\n",
       "      <th>Pros_avg_words_len</th>\n",
       "      <th>Date Posted</th>\n",
       "    </tr>\n",
       "  </thead>\n",
       "  <tbody>\n",
       "    <tr>\n",
       "      <th>0</th>\n",
       "      <td>Great Culture and Company That Cares</td>\n",
       "      <td>4</td>\n",
       "      <td>Current Employee</td>\n",
       "      <td>Not much politics and very few ego's. Everyone...</td>\n",
       "      <td>Need to focus on career growth and promoting w...</td>\n",
       "      <td>13 Jan 2021 - Senior Corporate Recruiter in Tr...</td>\n",
       "      <td>0.173262</td>\n",
       "      <td>173</td>\n",
       "      <td>32</td>\n",
       "      <td>4.437500</td>\n",
       "      <td>13 Jan 2021 - Senior Corporate Recruiter in Tr...</td>\n",
       "    </tr>\n",
       "    <tr>\n",
       "      <th>1</th>\n",
       "      <td>Shaping the Future of Mobility!</td>\n",
       "      <td>5</td>\n",
       "      <td>Current Employee, more than 1 year</td>\n",
       "      <td>Global Work Environment, Cutting Edge Technolo...</td>\n",
       "      <td>None to mention at this time.</td>\n",
       "      <td>14 Apr 2021 - Program Manager in Dublin, Dublin</td>\n",
       "      <td>-0.033333</td>\n",
       "      <td>79</td>\n",
       "      <td>9</td>\n",
       "      <td>7.888889</td>\n",
       "      <td>14 Apr 2021 - Program Manager in Dublin, Dublin</td>\n",
       "    </tr>\n",
       "    <tr>\n",
       "      <th>2</th>\n",
       "      <td>Lots of potential- getting there</td>\n",
       "      <td>4</td>\n",
       "      <td>Current Employee, more than 1 year</td>\n",
       "      <td>A very fast paced environment - you definitely...</td>\n",
       "      <td>Training and coaching could be better- high ex...</td>\n",
       "      <td>22 May 2021 - SCM in Dublin, Dublin</td>\n",
       "      <td>0.162056</td>\n",
       "      <td>379</td>\n",
       "      <td>66</td>\n",
       "      <td>4.757576</td>\n",
       "      <td>22 May 2021 - SCM in Dublin, Dublin</td>\n",
       "    </tr>\n",
       "    <tr>\n",
       "      <th>3</th>\n",
       "      <td>Alright but not the best</td>\n",
       "      <td>3</td>\n",
       "      <td>Current Employee, more than 1 year</td>\n",
       "      <td>Excellent office, good staff, good pay, good b...</td>\n",
       "      <td>Dis organised, office politics at mid/top leve...</td>\n",
       "      <td>8 Mar 2021 - Business Analyst in Dublin, Dublin</td>\n",
       "      <td>0.775000</td>\n",
       "      <td>53</td>\n",
       "      <td>8</td>\n",
       "      <td>5.750000</td>\n",
       "      <td>8 Mar 2021 - Business Analyst in Dublin, Dublin</td>\n",
       "    </tr>\n",
       "    <tr>\n",
       "      <th>4</th>\n",
       "      <td>Aptiv</td>\n",
       "      <td>3</td>\n",
       "      <td>Current Employee</td>\n",
       "      <td>It is one of the leaders in the automotive ind...</td>\n",
       "      <td>High pressure for hitting numbers, it is more ...</td>\n",
       "      <td>7 Nov 2020 - Supply Chain in Dublin, Dublin</td>\n",
       "      <td>0.000000</td>\n",
       "      <td>85</td>\n",
       "      <td>15</td>\n",
       "      <td>4.733333</td>\n",
       "      <td>7 Nov 2020 - Supply Chain in Dublin, Dublin</td>\n",
       "    </tr>\n",
       "    <tr>\n",
       "      <th>5</th>\n",
       "      <td>Black stain on the IDA - Kevin and Joe Show - ...</td>\n",
       "      <td>1</td>\n",
       "      <td>Current Employee, less than 1 year</td>\n",
       "      <td>The marketing department is great at creating ...</td>\n",
       "      <td>Everything about this place is a con. Dont wor...</td>\n",
       "      <td>11 May 2020 - Financial Analyst in Dublin, Dublin</td>\n",
       "      <td>0.061503</td>\n",
       "      <td>960</td>\n",
       "      <td>165</td>\n",
       "      <td>4.824242</td>\n",
       "      <td>11 May 2020 - Financial Analyst in Dublin, Dublin</td>\n",
       "    </tr>\n",
       "    <tr>\n",
       "      <th>6</th>\n",
       "      <td>Bad culture, no HR alignment</td>\n",
       "      <td>1</td>\n",
       "      <td>Current Employee, more than 3 years</td>\n",
       "      <td>Fairly okay salary, key stakeholders good to w...</td>\n",
       "      <td>HR is all over the place, no centralised HR, g...</td>\n",
       "      <td>13 Jan 2021 - Human Resources Business Partner...</td>\n",
       "      <td>0.400000</td>\n",
       "      <td>54</td>\n",
       "      <td>9</td>\n",
       "      <td>5.111111</td>\n",
       "      <td>13 Jan 2021 - Human Resources Business Partner...</td>\n",
       "    </tr>\n",
       "    <tr>\n",
       "      <th>7</th>\n",
       "      <td>Good working place</td>\n",
       "      <td>4</td>\n",
       "      <td>Former Employee</td>\n",
       "      <td>good package comparing to other companies</td>\n",
       "      <td>IT chaos in terms of org and process</td>\n",
       "      <td>7 Nov 2020 - Solutions Architect in Dublin, Du...</td>\n",
       "      <td>0.287500</td>\n",
       "      <td>41</td>\n",
       "      <td>6</td>\n",
       "      <td>6.000000</td>\n",
       "      <td>7 Nov 2020 - Solutions Architect in Dublin, Du...</td>\n",
       "    </tr>\n",
       "    <tr>\n",
       "      <th>8</th>\n",
       "      <td>Very good company advancing the technology for...</td>\n",
       "      <td>5</td>\n",
       "      <td>Current Employee</td>\n",
       "      <td>#NAME?</td>\n",
       "      <td>#NAME?</td>\n",
       "      <td>10 Aug 2020 - EMEA Internal Audit, Sox &amp; Compl...</td>\n",
       "      <td>0.000000</td>\n",
       "      <td>6</td>\n",
       "      <td>1</td>\n",
       "      <td>6.000000</td>\n",
       "      <td>10 Aug 2020 - EMEA Internal Audit, Sox &amp; Compl...</td>\n",
       "    </tr>\n",
       "    <tr>\n",
       "      <th>9</th>\n",
       "      <td>Soulless company that grinds you into dust</td>\n",
       "      <td>1</td>\n",
       "      <td>Current Employee, more than 1 year</td>\n",
       "      <td>Beautiful offices, friendly work colleagues, f...</td>\n",
       "      <td>This is the hardest company I've ever worked f...</td>\n",
       "      <td>28 Aug 2020 - Corporate Ops in Dublin, Dublin</td>\n",
       "      <td>0.406250</td>\n",
       "      <td>84</td>\n",
       "      <td>11</td>\n",
       "      <td>6.727273</td>\n",
       "      <td>28 Aug 2020 - Corporate Ops in Dublin, Dublin</td>\n",
       "    </tr>\n",
       "    <tr>\n",
       "      <th>10</th>\n",
       "      <td>Great Company with Progressive Technology</td>\n",
       "      <td>5</td>\n",
       "      <td>Current Employee, more than 1 year</td>\n",
       "      <td>Rare opportunity in Ireland to work in the aut...</td>\n",
       "      <td>Top-heavy management structure. Unfortunately ...</td>\n",
       "      <td>24 Nov 2019 - Anonymous Employee</td>\n",
       "      <td>0.280873</td>\n",
       "      <td>404</td>\n",
       "      <td>61</td>\n",
       "      <td>5.639344</td>\n",
       "      <td>24 Nov 2019 - Anonymous Employee</td>\n",
       "    </tr>\n",
       "    <tr>\n",
       "      <th>11</th>\n",
       "      <td>\"Best place I've ever worked\"</td>\n",
       "      <td>4</td>\n",
       "      <td>Current Employee, less than 1 year</td>\n",
       "      <td>Great place to build new skills. Work with sma...</td>\n",
       "      <td>Work life balance. Slow hierarchical progression.</td>\n",
       "      <td>6 Apr 2020 - IT Analyst in Dublin, Dublin</td>\n",
       "      <td>0.468182</td>\n",
       "      <td>113</td>\n",
       "      <td>19</td>\n",
       "      <td>5.000000</td>\n",
       "      <td>6 Apr 2020 - IT Analyst in Dublin, Dublin</td>\n",
       "    </tr>\n",
       "    <tr>\n",
       "      <th>12</th>\n",
       "      <td>Horrific still having nightmares</td>\n",
       "      <td>1</td>\n",
       "      <td>Former Employee, more than 1 year</td>\n",
       "      <td>My exit interview as i could see light at the ...</td>\n",
       "      <td>Micro management, really bad culture as in NO ...</td>\n",
       "      <td>4 May 2020 - Finance</td>\n",
       "      <td>0.400000</td>\n",
       "      <td>65</td>\n",
       "      <td>15</td>\n",
       "      <td>3.400000</td>\n",
       "      <td>4 May 2020 - Finance</td>\n",
       "    </tr>\n",
       "    <tr>\n",
       "      <th>13</th>\n",
       "      <td>Great</td>\n",
       "      <td>5</td>\n",
       "      <td>Current Employee, less than 1 year</td>\n",
       "      <td>Great place to work, lots of very talented peo...</td>\n",
       "      <td>Can be hard to get your head around the global...</td>\n",
       "      <td>18 Dec 2019 - Anonymous Employee in Dublin, Du...</td>\n",
       "      <td>0.352500</td>\n",
       "      <td>121</td>\n",
       "      <td>19</td>\n",
       "      <td>5.421053</td>\n",
       "      <td>18 Dec 2019 - Anonymous Employee in Dublin, Du...</td>\n",
       "    </tr>\n",
       "    <tr>\n",
       "      <th>14</th>\n",
       "      <td>Terrible Culture</td>\n",
       "      <td>1</td>\n",
       "      <td>Current Employee</td>\n",
       "      <td>Interesting technological challenges Diverse i...</td>\n",
       "      <td>Terrible challenge Poor management NO leadersh...</td>\n",
       "      <td>30 Apr 2020 - Enterprise Architect</td>\n",
       "      <td>0.500000</td>\n",
       "      <td>104</td>\n",
       "      <td>9</td>\n",
       "      <td>10.666667</td>\n",
       "      <td>30 Apr 2020 - Enterprise Architect</td>\n",
       "    </tr>\n",
       "    <tr>\n",
       "      <th>15</th>\n",
       "      <td>Employer review</td>\n",
       "      <td>2</td>\n",
       "      <td>Current Employee</td>\n",
       "      <td>Good to start with new levels</td>\n",
       "      <td>HR policies need extensive revision.</td>\n",
       "      <td>25 Mar 2020 - Anonymous Employee</td>\n",
       "      <td>0.418182</td>\n",
       "      <td>29</td>\n",
       "      <td>6</td>\n",
       "      <td>4.000000</td>\n",
       "      <td>25 Mar 2020 - Anonymous Employee</td>\n",
       "    </tr>\n",
       "    <tr>\n",
       "      <th>16</th>\n",
       "      <td>If Carlsberg did bad places to work, they prob...</td>\n",
       "      <td>1</td>\n",
       "      <td>Current Employee, more than 1 year</td>\n",
       "      <td>Very little really, many were sold a vision th...</td>\n",
       "      <td>Where to start. Basics: No parking, no stock f...</td>\n",
       "      <td>9 Nov 2019 - IT in Dublin, Dublin</td>\n",
       "      <td>0.221628</td>\n",
       "      <td>883</td>\n",
       "      <td>163</td>\n",
       "      <td>4.423313</td>\n",
       "      <td>9 Nov 2019 - IT in Dublin, Dublin</td>\n",
       "    </tr>\n",
       "    <tr>\n",
       "      <th>17</th>\n",
       "      <td>Stay clear of this company</td>\n",
       "      <td>1</td>\n",
       "      <td>Former Employee</td>\n",
       "      <td>Some good people, all struggling to survive su...</td>\n",
       "      <td>Toxic culture primarily due to leadership team...</td>\n",
       "      <td>31 Dec 2019 - Anonymous Employee</td>\n",
       "      <td>0.350000</td>\n",
       "      <td>68</td>\n",
       "      <td>11</td>\n",
       "      <td>5.272727</td>\n",
       "      <td>31 Dec 2019 - Anonymous Employee</td>\n",
       "    </tr>\n",
       "    <tr>\n",
       "      <th>18</th>\n",
       "      <td>Going about as well as Brexit really, isnt't it?</td>\n",
       "      <td>1</td>\n",
       "      <td>Current Employee</td>\n",
       "      <td>shiny new office (fancy fingerprint sign-in do...</td>\n",
       "      <td>let's face it, it's going about as well as Bre...</td>\n",
       "      <td>31 Jul 2019 - Supply Chain Manager in Dublin, ...</td>\n",
       "      <td>0.312121</td>\n",
       "      <td>107</td>\n",
       "      <td>17</td>\n",
       "      <td>5.352941</td>\n",
       "      <td>31 Jul 2019 - Supply Chain Manager in Dublin, ...</td>\n",
       "    </tr>\n",
       "    <tr>\n",
       "      <th>19</th>\n",
       "      <td>Cutting edge on Automotive Technology, Better ...</td>\n",
       "      <td>4</td>\n",
       "      <td>Current Employee, more than 1 year</td>\n",
       "      <td>The environment is changing to become more a o...</td>\n",
       "      <td>Very demanding management teams to get more do...</td>\n",
       "      <td>6 May 2019 - IT Business Relationship Manager ...</td>\n",
       "      <td>0.433333</td>\n",
       "      <td>205</td>\n",
       "      <td>33</td>\n",
       "      <td>5.242424</td>\n",
       "      <td>6 May 2019 - IT Business Relationship Manager ...</td>\n",
       "    </tr>\n",
       "  </tbody>\n",
       "</table>\n",
       "</div>"
      ],
      "text/plain": [
       "                                                Title  Rating  \\\n",
       "0                Great Culture and Company That Cares       4   \n",
       "1                     Shaping the Future of Mobility!       5   \n",
       "2                    Lots of potential- getting there       4   \n",
       "3                            Alright but not the best       3   \n",
       "4                                               Aptiv       3   \n",
       "5   Black stain on the IDA - Kevin and Joe Show - ...       1   \n",
       "6                        Bad culture, no HR alignment       1   \n",
       "7                                  Good working place       4   \n",
       "8   Very good company advancing the technology for...       5   \n",
       "9          Soulless company that grinds you into dust       1   \n",
       "10          Great Company with Progressive Technology       5   \n",
       "11                      \"Best place I've ever worked\"       4   \n",
       "12                   Horrific still having nightmares       1   \n",
       "13                                              Great       5   \n",
       "14                                   Terrible Culture       1   \n",
       "15                                    Employer review       2   \n",
       "16  If Carlsberg did bad places to work, they prob...       1   \n",
       "17                         Stay clear of this company       1   \n",
       "18   Going about as well as Brexit really, isnt't it?       1   \n",
       "19  Cutting edge on Automotive Technology, Better ...       4   \n",
       "\n",
       "                            Designation  \\\n",
       "0                      Current Employee   \n",
       "1    Current Employee, more than 1 year   \n",
       "2    Current Employee, more than 1 year   \n",
       "3    Current Employee, more than 1 year   \n",
       "4                      Current Employee   \n",
       "5    Current Employee, less than 1 year   \n",
       "6   Current Employee, more than 3 years   \n",
       "7                       Former Employee   \n",
       "8                      Current Employee   \n",
       "9    Current Employee, more than 1 year   \n",
       "10   Current Employee, more than 1 year   \n",
       "11   Current Employee, less than 1 year   \n",
       "12    Former Employee, more than 1 year   \n",
       "13   Current Employee, less than 1 year   \n",
       "14                     Current Employee   \n",
       "15                     Current Employee   \n",
       "16   Current Employee, more than 1 year   \n",
       "17                      Former Employee   \n",
       "18                     Current Employee   \n",
       "19   Current Employee, more than 1 year   \n",
       "\n",
       "                                                 Pros  \\\n",
       "0   Not much politics and very few ego's. Everyone...   \n",
       "1   Global Work Environment, Cutting Edge Technolo...   \n",
       "2   A very fast paced environment - you definitely...   \n",
       "3   Excellent office, good staff, good pay, good b...   \n",
       "4   It is one of the leaders in the automotive ind...   \n",
       "5   The marketing department is great at creating ...   \n",
       "6   Fairly okay salary, key stakeholders good to w...   \n",
       "7           good package comparing to other companies   \n",
       "8                                              #NAME?   \n",
       "9   Beautiful offices, friendly work colleagues, f...   \n",
       "10  Rare opportunity in Ireland to work in the aut...   \n",
       "11  Great place to build new skills. Work with sma...   \n",
       "12  My exit interview as i could see light at the ...   \n",
       "13  Great place to work, lots of very talented peo...   \n",
       "14  Interesting technological challenges Diverse i...   \n",
       "15                      Good to start with new levels   \n",
       "16  Very little really, many were sold a vision th...   \n",
       "17  Some good people, all struggling to survive su...   \n",
       "18  shiny new office (fancy fingerprint sign-in do...   \n",
       "19  The environment is changing to become more a o...   \n",
       "\n",
       "                                                 Cons  \\\n",
       "0   Need to focus on career growth and promoting w...   \n",
       "1                       None to mention at this time.   \n",
       "2   Training and coaching could be better- high ex...   \n",
       "3   Dis organised, office politics at mid/top leve...   \n",
       "4   High pressure for hitting numbers, it is more ...   \n",
       "5   Everything about this place is a con. Dont wor...   \n",
       "6   HR is all over the place, no centralised HR, g...   \n",
       "7                IT chaos in terms of org and process   \n",
       "8                                              #NAME?   \n",
       "9   This is the hardest company I've ever worked f...   \n",
       "10  Top-heavy management structure. Unfortunately ...   \n",
       "11  Work life balance. Slow hierarchical progression.   \n",
       "12  Micro management, really bad culture as in NO ...   \n",
       "13  Can be hard to get your head around the global...   \n",
       "14  Terrible challenge Poor management NO leadersh...   \n",
       "15               HR policies need extensive revision.   \n",
       "16  Where to start. Basics: No parking, no stock f...   \n",
       "17  Toxic culture primarily due to leadership team...   \n",
       "18  let's face it, it's going about as well as Bre...   \n",
       "19  Very demanding management teams to get more do...   \n",
       "\n",
       "                                          Author Info  Pros_polarity  \\\n",
       "0   13 Jan 2021 - Senior Corporate Recruiter in Tr...       0.173262   \n",
       "1     14 Apr 2021 - Program Manager in Dublin, Dublin      -0.033333   \n",
       "2                 22 May 2021 - SCM in Dublin, Dublin       0.162056   \n",
       "3     8 Mar 2021 - Business Analyst in Dublin, Dublin       0.775000   \n",
       "4         7 Nov 2020 - Supply Chain in Dublin, Dublin       0.000000   \n",
       "5   11 May 2020 - Financial Analyst in Dublin, Dublin       0.061503   \n",
       "6   13 Jan 2021 - Human Resources Business Partner...       0.400000   \n",
       "7   7 Nov 2020 - Solutions Architect in Dublin, Du...       0.287500   \n",
       "8   10 Aug 2020 - EMEA Internal Audit, Sox & Compl...       0.000000   \n",
       "9       28 Aug 2020 - Corporate Ops in Dublin, Dublin       0.406250   \n",
       "10                  24 Nov 2019 - Anonymous Employee        0.280873   \n",
       "11          6 Apr 2020 - IT Analyst in Dublin, Dublin       0.468182   \n",
       "12                              4 May 2020 - Finance        0.400000   \n",
       "13  18 Dec 2019 - Anonymous Employee in Dublin, Du...       0.352500   \n",
       "14                30 Apr 2020 - Enterprise Architect        0.500000   \n",
       "15                  25 Mar 2020 - Anonymous Employee        0.418182   \n",
       "16                  9 Nov 2019 - IT in Dublin, Dublin       0.221628   \n",
       "17                  31 Dec 2019 - Anonymous Employee        0.350000   \n",
       "18  31 Jul 2019 - Supply Chain Manager in Dublin, ...       0.312121   \n",
       "19  6 May 2019 - IT Business Relationship Manager ...       0.433333   \n",
       "\n",
       "    Pros_len  Pros_Word_count  Pros_avg_words_len  \\\n",
       "0        173               32            4.437500   \n",
       "1         79                9            7.888889   \n",
       "2        379               66            4.757576   \n",
       "3         53                8            5.750000   \n",
       "4         85               15            4.733333   \n",
       "5        960              165            4.824242   \n",
       "6         54                9            5.111111   \n",
       "7         41                6            6.000000   \n",
       "8          6                1            6.000000   \n",
       "9         84               11            6.727273   \n",
       "10       404               61            5.639344   \n",
       "11       113               19            5.000000   \n",
       "12        65               15            3.400000   \n",
       "13       121               19            5.421053   \n",
       "14       104                9           10.666667   \n",
       "15        29                6            4.000000   \n",
       "16       883              163            4.423313   \n",
       "17        68               11            5.272727   \n",
       "18       107               17            5.352941   \n",
       "19       205               33            5.242424   \n",
       "\n",
       "                                          Date Posted  \n",
       "0   13 Jan 2021 - Senior Corporate Recruiter in Tr...  \n",
       "1     14 Apr 2021 - Program Manager in Dublin, Dublin  \n",
       "2                 22 May 2021 - SCM in Dublin, Dublin  \n",
       "3     8 Mar 2021 - Business Analyst in Dublin, Dublin  \n",
       "4         7 Nov 2020 - Supply Chain in Dublin, Dublin  \n",
       "5   11 May 2020 - Financial Analyst in Dublin, Dublin  \n",
       "6   13 Jan 2021 - Human Resources Business Partner...  \n",
       "7   7 Nov 2020 - Solutions Architect in Dublin, Du...  \n",
       "8   10 Aug 2020 - EMEA Internal Audit, Sox & Compl...  \n",
       "9       28 Aug 2020 - Corporate Ops in Dublin, Dublin  \n",
       "10                  24 Nov 2019 - Anonymous Employee   \n",
       "11          6 Apr 2020 - IT Analyst in Dublin, Dublin  \n",
       "12                              4 May 2020 - Finance   \n",
       "13  18 Dec 2019 - Anonymous Employee in Dublin, Du...  \n",
       "14                30 Apr 2020 - Enterprise Architect   \n",
       "15                  25 Mar 2020 - Anonymous Employee   \n",
       "16                  9 Nov 2019 - IT in Dublin, Dublin  \n",
       "17                  31 Dec 2019 - Anonymous Employee   \n",
       "18  31 Jul 2019 - Supply Chain Manager in Dublin, ...  \n",
       "19  6 May 2019 - IT Business Relationship Manager ...  "
      ]
     },
     "execution_count": 18,
     "metadata": {},
     "output_type": "execute_result"
    }
   ],
   "source": [
    "df['Date Posted'] = df['Author Info'].str[0.8]\n",
    "df['Date Posted'] = df['Author Info']\n",
    "df.head(20)"
   ]
  },
  {
   "cell_type": "code",
   "execution_count": null,
   "id": "15a4f287",
   "metadata": {},
   "outputs": [],
   "source": [
    "# DROP UNWANTED COLUMNS\n",
    "# df.drop(labels=['column name', 'column name'], axis=1, inplace=True)\n",
    "# df.head()"
   ]
  },
  {
   "cell_type": "code",
   "execution_count": null,
   "id": "94ae2bf9",
   "metadata": {},
   "outputs": [],
   "source": [
    "df.isnull().sum()"
   ]
  },
  {
   "cell_type": "code",
   "execution_count": 19,
   "id": "df28f48b",
   "metadata": {},
   "outputs": [
    {
     "name": "stdout",
     "output_type": "stream",
     "text": [
      "Rectangle(xy=(-0.4, 0), width=0.8, height=209, angle=0)\n",
      "209\n",
      "Rectangle(xy=(0.6, 0), width=0.8, height=145, angle=0)\n",
      "145\n",
      "Rectangle(xy=(1.6, 0), width=0.8, height=118, angle=0)\n",
      "118\n",
      "Rectangle(xy=(2.6, 0), width=0.8, height=58, angle=0)\n",
      "58\n",
      "Rectangle(xy=(3.6, 0), width=0.8, height=49, angle=0)\n",
      "49\n"
     ]
    },
    {
     "data": {
      "image/png": "[encoded data removed]",
      "text/plain": [
       "<Figure size 720x720 with 1 Axes>"
      ]
     },
     "metadata": {
      "needs_background": "light"
     },
     "output_type": "display_data"
    }
   ],
   "source": [
    "# How many reviews have each star\n",
    "plt.figure(figsize=(10,10))\n",
    "\n",
    "ax = sns.countplot(x=df['Rating'], data=df, order=df['Rating'].value_counts().index)\n",
    "for p, label in zip(ax.patches, df['Rating'].value_counts()):\n",
    "    print(p)\n",
    "    print(label)\n",
    "    ax.annotate(label, (p.get_x()+0.25, p.get_height()+0.5))"
   ]
  },
  {
   "cell_type": "markdown",
   "id": "afd69ab7",
   "metadata": {},
   "source": [
    "### Feature Engineering"
   ]
  },
  {
   "cell_type": "code",
   "execution_count": 10,
   "id": "5154aeb5",
   "metadata": {},
   "outputs": [],
   "source": [
    "from textblob import TextBlob"
   ]
  },
  {
   "cell_type": "code",
   "execution_count": 11,
   "id": "ad674ba7",
   "metadata": {},
   "outputs": [],
   "source": [
    "# What is the sentiment polarity for a particular text\n",
    "df['Pros_polarity'] = df['Pros'].apply(lambda x: TextBlob(x).sentiment.polarity)"
   ]
  },
  {
   "cell_type": "code",
   "execution_count": 12,
   "id": "c6f335ee",
   "metadata": {},
   "outputs": [],
   "source": [
    "# Review length - How many characters are there\n",
    "df['Pros_len'] = df['Pros'].apply(lambda x: len(x))"
   ]
  },
  {
   "cell_type": "code",
   "execution_count": 13,
   "id": "edf76451",
   "metadata": {},
   "outputs": [],
   "source": [
    "# Total number of words in the review\n",
    "df['Pros_Word_count'] = df['Pros'].apply(lambda x: len(x.split()))"
   ]
  },
  {
   "cell_type": "code",
   "execution_count": 14,
   "id": "09cd3745",
   "metadata": {},
   "outputs": [],
   "source": [
    "# Calculate the aarege word length\n",
    "def get_avg_word_length(x):\n",
    "    words = x.split()\n",
    "    word_len = 0\n",
    "    for word in words:\n",
    "        word_len = word_len + len(word)\n",
    "    return word_len/len(words)"
   ]
  },
  {
   "cell_type": "code",
   "execution_count": 15,
   "id": "3c585a22",
   "metadata": {},
   "outputs": [],
   "source": [
    "df['Pros_avg_words_len'] = df['Pros'].apply(lambda x: get_avg_word_length(x))"
   ]
  },
  {
   "cell_type": "code",
   "execution_count": 16,
   "id": "d520762b",
   "metadata": {},
   "outputs": [
    {
     "data": {
      "text/html": [
       "<div>\n",
       "<style scoped>\n",
       "    .dataframe tbody tr th:only-of-type {\n",
       "        vertical-align: middle;\n",
       "    }\n",
       "\n",
       "    .dataframe tbody tr th {\n",
       "        vertical-align: top;\n",
       "    }\n",
       "\n",
       "    .dataframe thead th {\n",
       "        text-align: right;\n",
       "    }\n",
       "</style>\n",
       "<table border=\"1\" class=\"dataframe\">\n",
       "  <thead>\n",
       "    <tr style=\"text-align: right;\">\n",
       "      <th></th>\n",
       "      <th>Title</th>\n",
       "      <th>Rating</th>\n",
       "      <th>Designation</th>\n",
       "      <th>Pros</th>\n",
       "      <th>Cons</th>\n",
       "      <th>Author Info</th>\n",
       "      <th>Pros_polarity</th>\n",
       "      <th>Pros_len</th>\n",
       "      <th>Pros_Word_count</th>\n",
       "      <th>Pros_avg_words_len</th>\n",
       "    </tr>\n",
       "  </thead>\n",
       "  <tbody>\n",
       "    <tr>\n",
       "      <th>0</th>\n",
       "      <td>Great Culture and Company That Cares</td>\n",
       "      <td>4</td>\n",
       "      <td>Current Employee</td>\n",
       "      <td>Not much politics and very few ego's. Everyone...</td>\n",
       "      <td>Need to focus on career growth and promoting w...</td>\n",
       "      <td>13 Jan 2021 - Senior Corporate Recruiter in Tr...</td>\n",
       "      <td>0.173262</td>\n",
       "      <td>173</td>\n",
       "      <td>32</td>\n",
       "      <td>4.437500</td>\n",
       "    </tr>\n",
       "    <tr>\n",
       "      <th>1</th>\n",
       "      <td>Shaping the Future of Mobility!</td>\n",
       "      <td>5</td>\n",
       "      <td>Current Employee, more than 1 year</td>\n",
       "      <td>Global Work Environment, Cutting Edge Technolo...</td>\n",
       "      <td>None to mention at this time.</td>\n",
       "      <td>14 Apr 2021 - Program Manager in Dublin, Dublin</td>\n",
       "      <td>-0.033333</td>\n",
       "      <td>79</td>\n",
       "      <td>9</td>\n",
       "      <td>7.888889</td>\n",
       "    </tr>\n",
       "    <tr>\n",
       "      <th>2</th>\n",
       "      <td>Lots of potential- getting there</td>\n",
       "      <td>4</td>\n",
       "      <td>Current Employee, more than 1 year</td>\n",
       "      <td>A very fast paced environment - you definitely...</td>\n",
       "      <td>Training and coaching could be better- high ex...</td>\n",
       "      <td>22 May 2021 - SCM in Dublin, Dublin</td>\n",
       "      <td>0.162056</td>\n",
       "      <td>379</td>\n",
       "      <td>66</td>\n",
       "      <td>4.757576</td>\n",
       "    </tr>\n",
       "    <tr>\n",
       "      <th>3</th>\n",
       "      <td>Alright but not the best</td>\n",
       "      <td>3</td>\n",
       "      <td>Current Employee, more than 1 year</td>\n",
       "      <td>Excellent office, good staff, good pay, good b...</td>\n",
       "      <td>Dis organised, office politics at mid/top leve...</td>\n",
       "      <td>8 Mar 2021 - Business Analyst in Dublin, Dublin</td>\n",
       "      <td>0.775000</td>\n",
       "      <td>53</td>\n",
       "      <td>8</td>\n",
       "      <td>5.750000</td>\n",
       "    </tr>\n",
       "    <tr>\n",
       "      <th>4</th>\n",
       "      <td>Aptiv</td>\n",
       "      <td>3</td>\n",
       "      <td>Current Employee</td>\n",
       "      <td>It is one of the leaders in the automotive ind...</td>\n",
       "      <td>High pressure for hitting numbers, it is more ...</td>\n",
       "      <td>7 Nov 2020 - Supply Chain in Dublin, Dublin</td>\n",
       "      <td>0.000000</td>\n",
       "      <td>85</td>\n",
       "      <td>15</td>\n",
       "      <td>4.733333</td>\n",
       "    </tr>\n",
       "  </tbody>\n",
       "</table>\n",
       "</div>"
      ],
      "text/plain": [
       "                                  Title  Rating  \\\n",
       "0  Great Culture and Company That Cares       4   \n",
       "1       Shaping the Future of Mobility!       5   \n",
       "2      Lots of potential- getting there       4   \n",
       "3              Alright but not the best       3   \n",
       "4                                 Aptiv       3   \n",
       "\n",
       "                          Designation  \\\n",
       "0                    Current Employee   \n",
       "1  Current Employee, more than 1 year   \n",
       "2  Current Employee, more than 1 year   \n",
       "3  Current Employee, more than 1 year   \n",
       "4                    Current Employee   \n",
       "\n",
       "                                                Pros  \\\n",
       "0  Not much politics and very few ego's. Everyone...   \n",
       "1  Global Work Environment, Cutting Edge Technolo...   \n",
       "2  A very fast paced environment - you definitely...   \n",
       "3  Excellent office, good staff, good pay, good b...   \n",
       "4  It is one of the leaders in the automotive ind...   \n",
       "\n",
       "                                                Cons  \\\n",
       "0  Need to focus on career growth and promoting w...   \n",
       "1                      None to mention at this time.   \n",
       "2  Training and coaching could be better- high ex...   \n",
       "3  Dis organised, office politics at mid/top leve...   \n",
       "4  High pressure for hitting numbers, it is more ...   \n",
       "\n",
       "                                         Author Info  Pros_polarity  Pros_len  \\\n",
       "0  13 Jan 2021 - Senior Corporate Recruiter in Tr...       0.173262       173   \n",
       "1    14 Apr 2021 - Program Manager in Dublin, Dublin      -0.033333        79   \n",
       "2                22 May 2021 - SCM in Dublin, Dublin       0.162056       379   \n",
       "3    8 Mar 2021 - Business Analyst in Dublin, Dublin       0.775000        53   \n",
       "4        7 Nov 2020 - Supply Chain in Dublin, Dublin       0.000000        85   \n",
       "\n",
       "   Pros_Word_count  Pros_avg_words_len  \n",
       "0               32            4.437500  \n",
       "1                9            7.888889  \n",
       "2               66            4.757576  \n",
       "3                8            5.750000  \n",
       "4               15            4.733333  "
      ]
     },
     "execution_count": 16,
     "metadata": {},
     "output_type": "execute_result"
    }
   ],
   "source": [
    "df.head()"
   ]
  },
  {
   "cell_type": "code",
   "execution_count": 21,
   "id": "be5cafc2",
   "metadata": {},
   "outputs": [],
   "source": [
    "# What is the sentiment polarity for a particular text\n",
    "df['Cons_polarity'] = df['Cons'].apply(lambda x: TextBlob(x).sentiment.polarity)\n",
    "\n",
    "# Review length - How many characters are there\n",
    "df['Cons_len'] = df['Cons'].apply(lambda x: len(x))\n",
    "\n",
    "# Total number of words in the review\n",
    "df['Cons_Word_count'] = df['Cons'].apply(lambda x: len(x.split()))"
   ]
  },
  {
   "cell_type": "code",
   "execution_count": 22,
   "id": "825213db",
   "metadata": {},
   "outputs": [],
   "source": [
    "# Calculate the aarege word length\n",
    "def get_avg_word_length(x):\n",
    "    words = x.split()\n",
    "    word_len = 0\n",
    "    for word in words:\n",
    "        word_len = word_len + len(word)\n",
    "    return word_len/len(words)"
   ]
  },
  {
   "cell_type": "code",
   "execution_count": 23,
   "id": "01cd338b",
   "metadata": {},
   "outputs": [],
   "source": [
    "df['Cons_avg_words_len'] = df['Pros'].apply(lambda x: get_avg_word_length(x))"
   ]
  },
  {
   "cell_type": "code",
   "execution_count": 24,
   "id": "34e17a75",
   "metadata": {},
   "outputs": [
    {
     "data": {
      "text/html": [
       "<div>\n",
       "<style scoped>\n",
       "    .dataframe tbody tr th:only-of-type {\n",
       "        vertical-align: middle;\n",
       "    }\n",
       "\n",
       "    .dataframe tbody tr th {\n",
       "        vertical-align: top;\n",
       "    }\n",
       "\n",
       "    .dataframe thead th {\n",
       "        text-align: right;\n",
       "    }\n",
       "</style>\n",
       "<table border=\"1\" class=\"dataframe\">\n",
       "  <thead>\n",
       "    <tr style=\"text-align: right;\">\n",
       "      <th></th>\n",
       "      <th>Title</th>\n",
       "      <th>Rating</th>\n",
       "      <th>Designation</th>\n",
       "      <th>Pros</th>\n",
       "      <th>Cons</th>\n",
       "      <th>Author Info</th>\n",
       "      <th>Pros_polarity</th>\n",
       "      <th>Pros_len</th>\n",
       "      <th>Pros_Word_count</th>\n",
       "      <th>Pros_avg_words_len</th>\n",
       "      <th>Date Posted</th>\n",
       "      <th>Cons_polarity</th>\n",
       "      <th>Cons_len</th>\n",
       "      <th>Cons_Word_count</th>\n",
       "      <th>Cons_avg_words_len</th>\n",
       "    </tr>\n",
       "  </thead>\n",
       "  <tbody>\n",
       "    <tr>\n",
       "      <th>0</th>\n",
       "      <td>Great Culture and Company That Cares</td>\n",
       "      <td>4</td>\n",
       "      <td>Current Employee</td>\n",
       "      <td>Not much politics and very few ego's. Everyone...</td>\n",
       "      <td>Need to focus on career growth and promoting w...</td>\n",
       "      <td>13 Jan 2021 - Senior Corporate Recruiter in Tr...</td>\n",
       "      <td>0.173262</td>\n",
       "      <td>173</td>\n",
       "      <td>32</td>\n",
       "      <td>4.437500</td>\n",
       "      <td>13 Jan 2021 - Senior Corporate Recruiter in Tr...</td>\n",
       "      <td>-0.050000</td>\n",
       "      <td>131</td>\n",
       "      <td>20</td>\n",
       "      <td>4.437500</td>\n",
       "    </tr>\n",
       "    <tr>\n",
       "      <th>1</th>\n",
       "      <td>Shaping the Future of Mobility!</td>\n",
       "      <td>5</td>\n",
       "      <td>Current Employee, more than 1 year</td>\n",
       "      <td>Global Work Environment, Cutting Edge Technolo...</td>\n",
       "      <td>None to mention at this time.</td>\n",
       "      <td>14 Apr 2021 - Program Manager in Dublin, Dublin</td>\n",
       "      <td>-0.033333</td>\n",
       "      <td>79</td>\n",
       "      <td>9</td>\n",
       "      <td>7.888889</td>\n",
       "      <td>14 Apr 2021 - Program Manager in Dublin, Dublin</td>\n",
       "      <td>0.000000</td>\n",
       "      <td>29</td>\n",
       "      <td>6</td>\n",
       "      <td>7.888889</td>\n",
       "    </tr>\n",
       "    <tr>\n",
       "      <th>2</th>\n",
       "      <td>Lots of potential- getting there</td>\n",
       "      <td>4</td>\n",
       "      <td>Current Employee, more than 1 year</td>\n",
       "      <td>A very fast paced environment - you definitely...</td>\n",
       "      <td>Training and coaching could be better- high ex...</td>\n",
       "      <td>22 May 2021 - SCM in Dublin, Dublin</td>\n",
       "      <td>0.162056</td>\n",
       "      <td>379</td>\n",
       "      <td>66</td>\n",
       "      <td>4.757576</td>\n",
       "      <td>22 May 2021 - SCM in Dublin, Dublin</td>\n",
       "      <td>0.386667</td>\n",
       "      <td>118</td>\n",
       "      <td>18</td>\n",
       "      <td>4.757576</td>\n",
       "    </tr>\n",
       "    <tr>\n",
       "      <th>3</th>\n",
       "      <td>Alright but not the best</td>\n",
       "      <td>3</td>\n",
       "      <td>Current Employee, more than 1 year</td>\n",
       "      <td>Excellent office, good staff, good pay, good b...</td>\n",
       "      <td>Dis organised, office politics at mid/top leve...</td>\n",
       "      <td>8 Mar 2021 - Business Analyst in Dublin, Dublin</td>\n",
       "      <td>0.775000</td>\n",
       "      <td>53</td>\n",
       "      <td>8</td>\n",
       "      <td>5.750000</td>\n",
       "      <td>8 Mar 2021 - Business Analyst in Dublin, Dublin</td>\n",
       "      <td>-0.400000</td>\n",
       "      <td>81</td>\n",
       "      <td>12</td>\n",
       "      <td>5.750000</td>\n",
       "    </tr>\n",
       "    <tr>\n",
       "      <th>4</th>\n",
       "      <td>Aptiv</td>\n",
       "      <td>3</td>\n",
       "      <td>Current Employee</td>\n",
       "      <td>It is one of the leaders in the automotive ind...</td>\n",
       "      <td>High pressure for hitting numbers, it is more ...</td>\n",
       "      <td>7 Nov 2020 - Supply Chain in Dublin, Dublin</td>\n",
       "      <td>0.000000</td>\n",
       "      <td>85</td>\n",
       "      <td>15</td>\n",
       "      <td>4.733333</td>\n",
       "      <td>7 Nov 2020 - Supply Chain in Dublin, Dublin</td>\n",
       "      <td>0.100278</td>\n",
       "      <td>208</td>\n",
       "      <td>37</td>\n",
       "      <td>4.733333</td>\n",
       "    </tr>\n",
       "  </tbody>\n",
       "</table>\n",
       "</div>"
      ],
      "text/plain": [
       "                                  Title  Rating  \\\n",
       "0  Great Culture and Company That Cares       4   \n",
       "1       Shaping the Future of Mobility!       5   \n",
       "2      Lots of potential- getting there       4   \n",
       "3              Alright but not the best       3   \n",
       "4                                 Aptiv       3   \n",
       "\n",
       "                          Designation  \\\n",
       "0                    Current Employee   \n",
       "1  Current Employee, more than 1 year   \n",
       "2  Current Employee, more than 1 year   \n",
       "3  Current Employee, more than 1 year   \n",
       "4                    Current Employee   \n",
       "\n",
       "                                                Pros  \\\n",
       "0  Not much politics and very few ego's. Everyone...   \n",
       "1  Global Work Environment, Cutting Edge Technolo...   \n",
       "2  A very fast paced environment - you definitely...   \n",
       "3  Excellent office, good staff, good pay, good b...   \n",
       "4  It is one of the leaders in the automotive ind...   \n",
       "\n",
       "                                                Cons  \\\n",
       "0  Need to focus on career growth and promoting w...   \n",
       "1                      None to mention at this time.   \n",
       "2  Training and coaching could be better- high ex...   \n",
       "3  Dis organised, office politics at mid/top leve...   \n",
       "4  High pressure for hitting numbers, it is more ...   \n",
       "\n",
       "                                         Author Info  Pros_polarity  Pros_len  \\\n",
       "0  13 Jan 2021 - Senior Corporate Recruiter in Tr...       0.173262       173   \n",
       "1    14 Apr 2021 - Program Manager in Dublin, Dublin      -0.033333        79   \n",
       "2                22 May 2021 - SCM in Dublin, Dublin       0.162056       379   \n",
       "3    8 Mar 2021 - Business Analyst in Dublin, Dublin       0.775000        53   \n",
       "4        7 Nov 2020 - Supply Chain in Dublin, Dublin       0.000000        85   \n",
       "\n",
       "   Pros_Word_count  Pros_avg_words_len  \\\n",
       "0               32            4.437500   \n",
       "1                9            7.888889   \n",
       "2               66            4.757576   \n",
       "3                8            5.750000   \n",
       "4               15            4.733333   \n",
       "\n",
       "                                         Date Posted  Cons_polarity  Cons_len  \\\n",
       "0  13 Jan 2021 - Senior Corporate Recruiter in Tr...      -0.050000       131   \n",
       "1    14 Apr 2021 - Program Manager in Dublin, Dublin       0.000000        29   \n",
       "2                22 May 2021 - SCM in Dublin, Dublin       0.386667       118   \n",
       "3    8 Mar 2021 - Business Analyst in Dublin, Dublin      -0.400000        81   \n",
       "4        7 Nov 2020 - Supply Chain in Dublin, Dublin       0.100278       208   \n",
       "\n",
       "   Cons_Word_count  Cons_avg_words_len  \n",
       "0               20            4.437500  \n",
       "1                6            7.888889  \n",
       "2               18            4.757576  \n",
       "3               12            5.750000  \n",
       "4               37            4.733333  "
      ]
     },
     "execution_count": 24,
     "metadata": {},
     "output_type": "execute_result"
    }
   ],
   "source": [
    "df.head()"
   ]
  },
  {
   "cell_type": "markdown",
   "id": "9f2a653a",
   "metadata": {},
   "source": [
    "### Distribution of Sentiment Polarity"
   ]
  },
  {
   "cell_type": "code",
   "execution_count": 33,
   "id": "7988e214",
   "metadata": {},
   "outputs": [
    {
     "data": {
      "application/vnd.plotly.v1+json": {
       "config": {
        "linkText": "Export to plot.ly",
        "plotlyServerURL": "https://plot.ly",
        "showLink": true
       },
       "data": [
        {
         "histfunc": "count",
         "histnorm": "",
         "marker": {
          "color": "rgba(219, 64, 82, 1.0)",
          "line": {
           "color": "#4D5663",
           "width": 1.3
          }
         },
         "name": "Pros_polarity",
         "nbinsx": 50,
         "opacity": 0.8,
         "orientation": "v",
         "type": "histogram",
         "x": [
          0.17326210826210828,
          -0.033333333333333326,
          0.16205555555555554,
          0.7749999999999999,
          0,
          0.06150252525252525,
          0.39999999999999997,
          0.2875,
          0,
          0.40625,
          0.2808730158730158,
          0.4681818181818182,
          0.4,
          0.3525,
          0.5,
          0.41818181818181815,
          0.22162761151891588,
          0.35,
          0.3121212121212121,
          0.43333333333333335,
          0.6,
          0.75,
          0.5,
          0.3333333333333333,
          0.6,
          0.05555555555555555,
          0.26666666666666666,
          0.4,
          0.2603318903318903,
          0.535,
          -0.1583333333333333,
          -0.25,
          0.26666666666666666,
          0.22916666666666666,
          0,
          0.39999999999999997,
          0.7,
          1,
          0.7,
          0.16,
          0,
          0,
          0.3,
          0.4107142857142857,
          0.35,
          1,
          0.6666666666666666,
          0.6874999999999999,
          0.5375,
          0.4,
          0.17916666666666667,
          0.39999999999999997,
          0.375,
          0,
          0.7,
          0.7,
          0.17777777777777778,
          0.35,
          0.6999999999999998,
          0,
          0,
          0.7,
          0.41818181818181815,
          0.65,
          -0.1,
          0.18333333333333332,
          0.35,
          0.35,
          0,
          0.2,
          0.8019999999999999,
          0,
          0.45,
          0.2,
          0.6,
          0,
          0.5,
          0.7,
          -0.009999999999999995,
          0,
          0.13636363636363635,
          0.8049999999999999,
          0,
          0.41818181818181815,
          0.8,
          0,
          0.7,
          0.7,
          0,
          0,
          0,
          -0.19999999999999998,
          0.7,
          0.4333333333333333,
          0.7,
          0.7,
          0,
          0.17326210826210828,
          0.5555555555555555,
          0.44999999999999996,
          0.55,
          0.5,
          0.7,
          0.44999999999999996,
          0.8049999999999999,
          0.7,
          0.16666666666666666,
          0.8,
          0.7,
          0.7,
          0.7,
          0,
          0.3,
          0.5454545454545454,
          0.6999999999999998,
          0,
          0,
          0.18541666666666665,
          0,
          0.8,
          0,
          0.9099999999999999,
          0.6499999999999999,
          0.6461538461538461,
          0.7,
          0.0909090909090909,
          0.78,
          -0.6,
          0.5,
          0.1,
          0.3666666666666667,
          0.4,
          0.5,
          0.75,
          0.7,
          0.8,
          0.6499999999999999,
          0.7,
          0.5533333333333333,
          0.9099999999999999,
          0.9099999999999999,
          0.4,
          0.4,
          0.7,
          0.4916666666666666,
          -0.19999999999999998,
          0.3033333333333333,
          0.7,
          0.5428571428571429,
          0.6999999999999998,
          0.8,
          0.6,
          0.3,
          0.35,
          0.75,
          0,
          0.19166666666666665,
          0.7,
          0,
          0.46375,
          0.5,
          0.5,
          0.472,
          -1,
          0.7,
          0.18333333333333335,
          0.4,
          0.5047619047619047,
          0.75,
          0.7,
          0.7,
          0.13636363636363635,
          0.35,
          0.3333333333333333,
          0,
          0.6999999999999998,
          0.4555555555555555,
          0.7,
          0,
          0.7,
          0.2,
          0.6,
          0.7,
          0.7,
          0.7,
          0.25399999999999995,
          0,
          0.25,
          0.3333333333333333,
          0.7,
          0.17777777777777778,
          0.4666666666666666,
          -0.09583333333333334,
          -0.2,
          0.7,
          0.4666666666666666,
          0.5,
          0.8,
          0.7,
          0.7,
          0.7,
          0.425,
          0.45,
          0.39999999999999997,
          0.7,
          0.5583333333333333,
          0,
          0.75,
          0.7,
          0.6000000000000001,
          0,
          0.4333333333333333,
          0.6499999999999999,
          0.5,
          1,
          0.8,
          0.35,
          0.3995192307692308,
          0.09166666666666663,
          0.7,
          0.6,
          0,
          0.3,
          0.8,
          0.8,
          0.6,
          0.5,
          0.7,
          0,
          0.43333333333333335,
          0.1,
          0,
          0.2125,
          0,
          0.575,
          0.8,
          0,
          0,
          0,
          0,
          0,
          0,
          0.4166666666666667,
          0.35,
          0.3136842105263158,
          0.39999999999999997,
          0,
          0,
          0.4666666666666667,
          0.3,
          1,
          0.16,
          0.5875,
          -0.1875,
          0,
          0.54,
          0.7,
          0.5,
          0.65,
          0.55,
          0.55,
          0.7,
          0.7,
          0.7,
          0.7,
          0.7,
          0.9099999999999999,
          0.7,
          0.64,
          0.6,
          0.25,
          0.4625,
          0.7,
          0.5666666666666667,
          0.4,
          0,
          0,
          0.6499999999999999,
          0.35,
          0,
          0.4375,
          0.2965909090909091,
          0,
          0.49375,
          0,
          0.55,
          0.32499999999999996,
          1,
          0.7,
          0.35,
          0.64375,
          0.35,
          0.7,
          0.3181818181818182,
          0,
          0.6,
          0.65,
          0.6,
          0.49375,
          0.04999999999999999,
          0.7,
          0.7,
          0.8,
          0.5,
          0.35,
          0.2333333333333333,
          0.5,
          0.35,
          0,
          0.7,
          0.7,
          0.1,
          0.75,
          0.35,
          0.8,
          0.10714285714285714,
          0.8,
          0.4,
          0.234375,
          0.5,
          0.5,
          0.64375,
          0.7,
          0.43333333333333335,
          -0.2916666666666667,
          0.4,
          0.3,
          0.7,
          0.79,
          0.39999999999999997,
          0,
          0.4465909090909091,
          0,
          0.30000000000000004,
          0,
          0.10000000000000002,
          0.21428571428571427,
          0.8333333333333334,
          0,
          0.4333333333333333,
          0.4333333333333333,
          0.6999999999999998,
          0.5333333333333333,
          0.3499999999999999,
          0.7,
          0,
          0.7,
          0,
          -0.15,
          0.4928571428571428,
          1,
          0.6,
          0.5424242424242424,
          0.6,
          0.38888888888888884,
          0.8,
          0,
          0.55,
          0.4875,
          0.65,
          0.65,
          0.13636363636363635,
          0.4916666666666667,
          0,
          1,
          0.8,
          0,
          0.15,
          0.35,
          0.4,
          0.8,
          0.5,
          0.022727272727272724,
          0.7,
          0.7,
          0.48000000000000004,
          0.2333333333333333,
          0.7000000000000001,
          0.39999999999999997,
          0,
          0,
          0,
          0.78,
          0.7,
          0.3,
          0.5121212121212121,
          0.16666666666666666,
          0.6666666666666666,
          0.4166666666666667,
          0.1,
          0.7,
          0.78,
          0.7,
          -0.019444444444444448,
          -1,
          0.375,
          0.75,
          0,
          0.4,
          0.47159090909090906,
          0.015277777777777776,
          0.18944444444444442,
          0.55,
          0.7,
          0.14970238095238095,
          0.29166666666666663,
          0.5,
          0.49999999999999994,
          0.19206349206349205,
          0.35,
          0.25,
          0,
          0.8,
          0,
          0.5,
          0.06818181818181818,
          1,
          0.4666666666666666,
          0.8,
          0.525,
          0.525,
          0.6616666666666666,
          0.75,
          0.5,
          0.8049999999999999,
          0.43499999999999994,
          0.061111111111111116,
          0.35,
          0.7,
          0.02083333333333333,
          0.64375,
          0.3875,
          0.5,
          0.03125,
          0.6,
          0.5366666666666666,
          0.5375,
          0.21388888888888888,
          0.35,
          0.4666666666666666,
          0.7,
          0.8,
          0.7,
          0.7,
          0.3387878787878788,
          0.44999999999999996,
          0.8666666666666667,
          0.26249999999999996,
          0,
          0,
          0.6,
          1,
          0.03571428571428571,
          0,
          0.7,
          0.3,
          0.2,
          0.6916666666666668,
          0.35,
          0.26499999999999996,
          0.14489795918367346,
          0.55,
          0.13636363636363635,
          0,
          0.7,
          0.8,
          0.7,
          0.48666666666666664,
          0.7,
          0.9099999999999999,
          0.9099999999999999,
          0.7,
          0.8500000000000001,
          0.21428571428571427,
          0,
          0.7,
          0.6666666666666666,
          0.35,
          0,
          0.7,
          0.6666666666666666,
          0.6,
          0.7,
          0.41818181818181815,
          0.7,
          0.4121212121212121,
          0.59375,
          0.5,
          0.12159090909090908,
          0.7,
          0.7,
          0.5454545454545454,
          0.75,
          0.7,
          0.21666666666666665,
          0.75,
          0.7,
          0.25,
          0,
          0.5166666666666666,
          0.13472222222222224,
          0.4875,
          0,
          -0.1,
          0,
          0.35,
          0.3977777777777778,
          0.23541666666666666,
          0.7,
          0.8,
          0.5,
          0,
          0.8,
          -0.050000000000000044,
          0.7,
          0.7,
          0.7,
          0.3906481481481482,
          0.6950000000000001,
          0.21428571428571427,
          0.22272727272727275,
          0.7733333333333333,
          0.26666666666666666,
          0.2625,
          0.4,
          0.4142857142857142,
          0.28194444444444444,
          0,
          0.4375,
          0.39999999999999997,
          0.24533333333333332,
          0.19166666666666665,
          0,
          0.4888888888888889,
          0.35000000000000003,
          0.5533333333333333,
          0.7799999999999999,
          0.6999999999999998,
          0.5,
          0.475,
          0.475,
          0.45909090909090905,
          0.5,
          0.3625,
          0.6999999999999998,
          0.10181818181818181,
          -0.15,
          0.8000000000000002,
          -0.05555555555555555,
          0.625,
          0.6,
          0.35,
          0.30000000000000004,
          0.5633333333333334,
          0.4375,
          0.65,
          -0.04999999999999999,
          0.39999999999999997,
          0.5047619047619047,
          0.6,
          0.6,
          0,
          0.2,
          0.4333333333333333,
          -0.05,
          0.35,
          0.6,
          0,
          0.8,
          0.7,
          0.4,
          0.1,
          0,
          0,
          0.7,
          0.5,
          0.6,
          0.8,
          0.4333333333333333
         ]
        }
       ],
       "layout": {
        "barmode": "overlay",
        "legend": {
         "bgcolor": "#F5F6F9",
         "font": {
          "color": "#4D5663"
         }
        },
        "paper_bgcolor": "#F5F6F9",
        "plot_bgcolor": "#F5F6F9",
        "template": {
         "data": {
          "bar": [
           {
            "error_x": {
             "color": "#2a3f5f"
            },
            "error_y": {
             "color": "#2a3f5f"
            },
            "marker": {
             "line": {
              "color": "#E5ECF6",
              "width": 0.5
             }
            },
            "type": "bar"
           }
          ],
          "barpolar": [
           {
            "marker": {
             "line": {
              "color": "#E5ECF6",
              "width": 0.5
             }
            },
            "type": "barpolar"
           }
          ],
          "carpet": [
           {
            "aaxis": {
             "endlinecolor": "#2a3f5f",
             "gridcolor": "white",
             "linecolor": "white",
             "minorgridcolor": "white",
             "startlinecolor": "#2a3f5f"
            },
            "baxis": {
             "endlinecolor": "#2a3f5f",
             "gridcolor": "white",
             "linecolor": "white",
             "minorgridcolor": "white",
             "startlinecolor": "#2a3f5f"
            },
            "type": "carpet"
           }
          ],
          "choropleth": [
           {
            "colorbar": {
             "outlinewidth": 0,
             "ticks": ""
            },
            "type": "choropleth"
           }
          ],
          "contour": [
           {
            "colorbar": {
             "outlinewidth": 0,
             "ticks": ""
            },
            "colorscale": [
             [
              0,
              "#0d0887"
             ],
             [
              0.1111111111111111,
              "#46039f"
             ],
             [
              0.2222222222222222,
              "#7201a8"
             ],
             [
              0.3333333333333333,
              "#9c179e"
             ],
             [
              0.4444444444444444,
              "#bd3786"
             ],
             [
              0.5555555555555556,
              "#d8576b"
             ],
             [
              0.6666666666666666,
              "#ed7953"
             ],
             [
              0.7777777777777778,
              "#fb9f3a"
             ],
             [
              0.8888888888888888,
              "#fdca26"
             ],
             [
              1,
              "#f0f921"
             ]
            ],
            "type": "contour"
           }
          ],
          "contourcarpet": [
           {
            "colorbar": {
             "outlinewidth": 0,
             "ticks": ""
            },
            "type": "contourcarpet"
           }
          ],
          "heatmap": [
           {
            "colorbar": {
             "outlinewidth": 0,
             "ticks": ""
            },
            "colorscale": [
             [
              0,
              "#0d0887"
             ],
             [
              0.1111111111111111,
              "#46039f"
             ],
             [
              0.2222222222222222,
              "#7201a8"
             ],
             [
              0.3333333333333333,
              "#9c179e"
             ],
             [
              0.4444444444444444,
              "#bd3786"
             ],
             [
              0.5555555555555556,
              "#d8576b"
             ],
             [
              0.6666666666666666,
              "#ed7953"
             ],
             [
              0.7777777777777778,
              "#fb9f3a"
             ],
             [
              0.8888888888888888,
              "#fdca26"
             ],
             [
              1,
              "#f0f921"
             ]
            ],
            "type": "heatmap"
           }
          ],
          "heatmapgl": [
           {
            "colorbar": {
             "outlinewidth": 0,
             "ticks": ""
            },
            "colorscale": [
             [
              0,
              "#0d0887"
             ],
             [
              0.1111111111111111,
              "#46039f"
             ],
             [
              0.2222222222222222,
              "#7201a8"
             ],
             [
              0.3333333333333333,
              "#9c179e"
             ],
             [
              0.4444444444444444,
              "#bd3786"
             ],
             [
              0.5555555555555556,
              "#d8576b"
             ],
             [
              0.6666666666666666,
              "#ed7953"
             ],
             [
              0.7777777777777778,
              "#fb9f3a"
             ],
             [
              0.8888888888888888,
              "#fdca26"
             ],
             [
              1,
              "#f0f921"
             ]
            ],
            "type": "heatmapgl"
           }
          ],
          "histogram": [
           {
            "marker": {
             "colorbar": {
              "outlinewidth": 0,
              "ticks": ""
             }
            },
            "type": "histogram"
           }
          ],
          "histogram2d": [
           {
            "colorbar": {
             "outlinewidth": 0,
             "ticks": ""
            },
            "colorscale": [
             [
              0,
              "#0d0887"
             ],
             [
              0.1111111111111111,
              "#46039f"
             ],
             [
              0.2222222222222222,
              "#7201a8"
             ],
             [
              0.3333333333333333,
              "#9c179e"
             ],
             [
              0.4444444444444444,
              "#bd3786"
             ],
             [
              0.5555555555555556,
              "#d8576b"
             ],
             [
              0.6666666666666666,
              "#ed7953"
             ],
             [
              0.7777777777777778,
              "#fb9f3a"
             ],
             [
              0.8888888888888888,
              "#fdca26"
             ],
             [
              1,
              "#f0f921"
             ]
            ],
            "type": "histogram2d"
           }
          ],
          "histogram2dcontour": [
           {
            "colorbar": {
             "outlinewidth": 0,
             "ticks": ""
            },
            "colorscale": [
             [
              0,
              "#0d0887"
             ],
             [
              0.1111111111111111,
              "#46039f"
             ],
             [
              0.2222222222222222,
              "#7201a8"
             ],
             [
              0.3333333333333333,
              "#9c179e"
             ],
             [
              0.4444444444444444,
              "#bd3786"
             ],
             [
              0.5555555555555556,
              "#d8576b"
             ],
             [
              0.6666666666666666,
              "#ed7953"
             ],
             [
              0.7777777777777778,
              "#fb9f3a"
             ],
             [
              0.8888888888888888,
              "#fdca26"
             ],
             [
              1,
              "#f0f921"
             ]
            ],
            "type": "histogram2dcontour"
           }
          ],
          "mesh3d": [
           {
            "colorbar": {
             "outlinewidth": 0,
             "ticks": ""
            },
            "type": "mesh3d"
           }
          ],
          "parcoords": [
           {
            "line": {
             "colorbar": {
              "outlinewidth": 0,
              "ticks": ""
             }
            },
            "type": "parcoords"
           }
          ],
          "pie": [
           {
            "automargin": true,
            "type": "pie"
           }
          ],
          "scatter": [
           {
            "marker": {
             "colorbar": {
              "outlinewidth": 0,
              "ticks": ""
             }
            },
            "type": "scatter"
           }
          ],
          "scatter3d": [
           {
            "line": {
             "colorbar": {
              "outlinewidth": 0,
              "ticks": ""
             }
            },
            "marker": {
             "colorbar": {
              "outlinewidth": 0,
              "ticks": ""
             }
            },
            "type": "scatter3d"
           }
          ],
          "scattercarpet": [
           {
            "marker": {
             "colorbar": {
              "outlinewidth": 0,
              "ticks": ""
             }
            },
            "type": "scattercarpet"
           }
          ],
          "scattergeo": [
           {
            "marker": {
             "colorbar": {
              "outlinewidth": 0,
              "ticks": ""
             }
            },
            "type": "scattergeo"
           }
          ],
          "scattergl": [
           {
            "marker": {
             "colorbar": {
              "outlinewidth": 0,
              "ticks": ""
             }
            },
            "type": "scattergl"
           }
          ],
          "scattermapbox": [
           {
            "marker": {
             "colorbar": {
              "outlinewidth": 0,
              "ticks": ""
             }
            },
            "type": "scattermapbox"
           }
          ],
          "scatterpolar": [
           {
            "marker": {
             "colorbar": {
              "outlinewidth": 0,
              "ticks": ""
             }
            },
            "type": "scatterpolar"
           }
          ],
          "scatterpolargl": [
           {
            "marker": {
             "colorbar": {
              "outlinewidth": 0,
              "ticks": ""
             }
            },
            "type": "scatterpolargl"
           }
          ],
          "scatterternary": [
           {
            "marker": {
             "colorbar": {
              "outlinewidth": 0,
              "ticks": ""
             }
            },
            "type": "scatterternary"
           }
          ],
          "surface": [
           {
            "colorbar": {
             "outlinewidth": 0,
             "ticks": ""
            },
            "colorscale": [
             [
              0,
              "#0d0887"
             ],
             [
              0.1111111111111111,
              "#46039f"
             ],
             [
              0.2222222222222222,
              "#7201a8"
             ],
             [
              0.3333333333333333,
              "#9c179e"
             ],
             [
              0.4444444444444444,
              "#bd3786"
             ],
             [
              0.5555555555555556,
              "#d8576b"
             ],
             [
              0.6666666666666666,
              "#ed7953"
             ],
             [
              0.7777777777777778,
              "#fb9f3a"
             ],
             [
              0.8888888888888888,
              "#fdca26"
             ],
             [
              1,
              "#f0f921"
             ]
            ],
            "type": "surface"
           }
          ],
          "table": [
           {
            "cells": {
             "fill": {
              "color": "#EBF0F8"
             },
             "line": {
              "color": "white"
             }
            },
            "header": {
             "fill": {
              "color": "#C8D4E3"
             },
             "line": {
              "color": "white"
             }
            },
            "type": "table"
           }
          ]
         },
         "layout": {
          "annotationdefaults": {
           "arrowcolor": "#2a3f5f",
           "arrowhead": 0,
           "arrowwidth": 1
          },
          "autotypenumbers": "strict",
          "coloraxis": {
           "colorbar": {
            "outlinewidth": 0,
            "ticks": ""
           }
          },
          "colorscale": {
           "diverging": [
            [
             0,
             "#8e0152"
            ],
            [
             0.1,
             "#c51b7d"
            ],
            [
             0.2,
             "#de77ae"
            ],
            [
             0.3,
             "#f1b6da"
            ],
            [
             0.4,
             "#fde0ef"
            ],
            [
             0.5,
             "#f7f7f7"
            ],
            [
             0.6,
             "#e6f5d0"
            ],
            [
             0.7,
             "#b8e186"
            ],
            [
             0.8,
             "#7fbc41"
            ],
            [
             0.9,
             "#4d9221"
            ],
            [
             1,
             "#276419"
            ]
           ],
           "sequential": [
            [
             0,
             "#0d0887"
            ],
            [
             0.1111111111111111,
             "#46039f"
            ],
            [
             0.2222222222222222,
             "#7201a8"
            ],
            [
             0.3333333333333333,
             "#9c179e"
            ],
            [
             0.4444444444444444,
             "#bd3786"
            ],
            [
             0.5555555555555556,
             "#d8576b"
            ],
            [
             0.6666666666666666,
             "#ed7953"
            ],
            [
             0.7777777777777778,
             "#fb9f3a"
            ],
            [
             0.8888888888888888,
             "#fdca26"
            ],
            [
             1,
             "#f0f921"
            ]
           ],
           "sequentialminus": [
            [
             0,
             "#0d0887"
            ],
            [
             0.1111111111111111,
             "#46039f"
            ],
            [
             0.2222222222222222,
             "#7201a8"
            ],
            [
             0.3333333333333333,
             "#9c179e"
            ],
            [
             0.4444444444444444,
             "#bd3786"
            ],
            [
             0.5555555555555556,
             "#d8576b"
            ],
            [
             0.6666666666666666,
             "#ed7953"
            ],
            [
             0.7777777777777778,
             "#fb9f3a"
            ],
            [
             0.8888888888888888,
             "#fdca26"
            ],
            [
             1,
             "#f0f921"
            ]
           ]
          },
          "colorway": [
           "#636efa",
           "#EF553B",
           "#00cc96",
           "#ab63fa",
           "#FFA15A",
           "#19d3f3",
           "#FF6692",
           "#B6E880",
           "#FF97FF",
           "#FECB52"
          ],
          "font": {
           "color": "#2a3f5f"
          },
          "geo": {
           "bgcolor": "white",
           "lakecolor": "white",
           "landcolor": "#E5ECF6",
           "showlakes": true,
           "showland": true,
           "subunitcolor": "white"
          },
          "hoverlabel": {
           "align": "left"
          },
          "hovermode": "closest",
          "mapbox": {
           "style": "light"
          },
          "paper_bgcolor": "white",
          "plot_bgcolor": "#E5ECF6",
          "polar": {
           "angularaxis": {
            "gridcolor": "white",
            "linecolor": "white",
            "ticks": ""
           },
           "bgcolor": "#E5ECF6",
           "radialaxis": {
            "gridcolor": "white",
            "linecolor": "white",
            "ticks": ""
           }
          },
          "scene": {
           "xaxis": {
            "backgroundcolor": "#E5ECF6",
            "gridcolor": "white",
            "gridwidth": 2,
            "linecolor": "white",
            "showbackground": true,
            "ticks": "",
            "zerolinecolor": "white"
           },
           "yaxis": {
            "backgroundcolor": "#E5ECF6",
            "gridcolor": "white",
            "gridwidth": 2,
            "linecolor": "white",
            "showbackground": true,
            "ticks": "",
            "zerolinecolor": "white"
           },
           "zaxis": {
            "backgroundcolor": "#E5ECF6",
            "gridcolor": "white",
            "gridwidth": 2,
            "linecolor": "white",
            "showbackground": true,
            "ticks": "",
            "zerolinecolor": "white"
           }
          },
          "shapedefaults": {
           "line": {
            "color": "#2a3f5f"
           }
          },
          "ternary": {
           "aaxis": {
            "gridcolor": "white",
            "linecolor": "white",
            "ticks": ""
           },
           "baxis": {
            "gridcolor": "white",
            "linecolor": "white",
            "ticks": ""
           },
           "bgcolor": "#E5ECF6",
           "caxis": {
            "gridcolor": "white",
            "linecolor": "white",
            "ticks": ""
           }
          },
          "title": {
           "x": 0.05
          },
          "xaxis": {
           "automargin": true,
           "gridcolor": "white",
           "linecolor": "white",
           "ticks": "",
           "title": {
            "standoff": 15
           },
           "zerolinecolor": "white",
           "zerolinewidth": 2
          },
          "yaxis": {
           "automargin": true,
           "gridcolor": "white",
           "linecolor": "white",
           "ticks": "",
           "title": {
            "standoff": 15
           },
           "zerolinecolor": "white",
           "zerolinewidth": 2
          }
         }
        },
        "title": {
         "font": {
          "color": "#4D5663"
         }
        },
        "xaxis": {
         "gridcolor": "#E1E5ED",
         "showgrid": true,
         "tickfont": {
          "color": "#4D5663"
         },
         "title": {
          "font": {
           "color": "#4D5663"
          },
          "text": "Polarity"
         },
         "zerolinecolor": "#E1E5ED"
        },
        "yaxis": {
         "gridcolor": "#E1E5ED",
         "showgrid": true,
         "tickfont": {
          "color": "#4D5663"
         },
         "title": {
          "font": {
           "color": "#4D5663"
          },
          "text": ""
         },
         "zerolinecolor": "#E1E5ED"
        }
       }
      },
      "text/html": [
       "<div>                            <div id=\"9098c7c4-f523-4b4f-9f87-6d061f0f2a77\" class=\"plotly-graph-div\" style=\"height:525px; width:100%;\"></div>            <script type=\"text/javascript\">                require([\"plotly\"], function(Plotly) {                    window.PLOTLYENV=window.PLOTLYENV || {};\n",
       "                    window.PLOTLYENV.BASE_URL='https://plot.ly';                                    if (document.getElementById(\"9098c7c4-f523-4b4f-9f87-6d061f0f2a77\")) {                    Plotly.newPlot(                        \"9098c7c4-f523-4b4f-9f87-6d061f0f2a77\",                        [{\"histfunc\": \"count\", \"histnorm\": \"\", \"marker\": {\"color\": \"rgba(219, 64, 82, 1.0)\", \"line\": {\"color\": \"#4D5663\", \"width\": 1.3}}, \"name\": \"Pros_polarity\", \"nbinsx\": 50, \"opacity\": 0.8, \"orientation\": \"v\", \"type\": \"histogram\", \"x\": [0.17326210826210828, -0.033333333333333326, 0.16205555555555554, 0.7749999999999999, 0.0, 0.06150252525252525, 0.39999999999999997, 0.2875, 0.0, 0.40625, 0.2808730158730158, 0.4681818181818182, 0.4, 0.3525, 0.5, 0.41818181818181815, 0.22162761151891588, 0.35, 0.3121212121212121, 0.43333333333333335, 0.6, 0.75, 0.5, 0.3333333333333333, 0.6, 0.05555555555555555, 0.26666666666666666, 0.4, 0.2603318903318903, 0.535, -0.1583333333333333, -0.25, 0.26666666666666666, 0.22916666666666666, 0.0, 0.39999999999999997, 0.7, 1.0, 0.7, 0.16, 0.0, 0.0, 0.3, 0.4107142857142857, 0.35, 1.0, 0.6666666666666666, 0.6874999999999999, 0.5375, 0.4, 0.17916666666666667, 0.39999999999999997, 0.375, 0.0, 0.7, 0.7, 0.17777777777777778, 0.35, 0.6999999999999998, 0.0, 0.0, 0.7, 0.41818181818181815, 0.65, -0.1, 0.18333333333333332, 0.35, 0.35, 0.0, 0.2, 0.8019999999999999, 0.0, 0.45, 0.2, 0.6, 0.0, 0.5, 0.7, -0.009999999999999995, 0.0, 0.13636363636363635, 0.8049999999999999, 0.0, 0.41818181818181815, 0.8, 0.0, 0.7, 0.7, 0.0, 0.0, 0.0, -0.19999999999999998, 0.7, 0.4333333333333333, 0.7, 0.7, 0.0, 0.17326210826210828, 0.5555555555555555, 0.44999999999999996, 0.55, 0.5, 0.7, 0.44999999999999996, 0.8049999999999999, 0.7, 0.16666666666666666, 0.8, 0.7, 0.7, 0.7, 0.0, 0.3, 0.5454545454545454, 0.6999999999999998, 0.0, 0.0, 0.18541666666666665, 0.0, 0.8, 0.0, 0.9099999999999999, 0.6499999999999999, 0.6461538461538461, 0.7, 0.0909090909090909, 0.78, -0.6, 0.5, 0.1, 0.3666666666666667, 0.4, 0.5, 0.75, 0.7, 0.8, 0.6499999999999999, 0.7, 0.5533333333333333, 0.9099999999999999, 0.9099999999999999, 0.4, 0.4, 0.7, 0.4916666666666666, -0.19999999999999998, 0.3033333333333333, 0.7, 0.5428571428571429, 0.6999999999999998, 0.8, 0.6, 0.3, 0.35, 0.75, 0.0, 0.19166666666666665, 0.7, 0.0, 0.46375, 0.5, 0.5, 0.472, -1.0, 0.7, 0.18333333333333335, 0.4, 0.5047619047619047, 0.75, 0.7, 0.7, 0.13636363636363635, 0.35, 0.3333333333333333, 0.0, 0.6999999999999998, 0.4555555555555555, 0.7, 0.0, 0.7, 0.2, 0.6, 0.7, 0.7, 0.7, 0.25399999999999995, 0.0, 0.25, 0.3333333333333333, 0.7, 0.17777777777777778, 0.4666666666666666, -0.09583333333333334, -0.2, 0.7, 0.4666666666666666, 0.5, 0.8, 0.7, 0.7, 0.7, 0.425, 0.45, 0.39999999999999997, 0.7, 0.5583333333333333, 0.0, 0.75, 0.7, 0.6000000000000001, 0.0, 0.4333333333333333, 0.6499999999999999, 0.5, 1.0, 0.8, 0.35, 0.3995192307692308, 0.09166666666666663, 0.7, 0.6, 0.0, 0.3, 0.8, 0.8, 0.6, 0.5, 0.7, 0.0, 0.43333333333333335, 0.1, 0.0, 0.2125, 0.0, 0.575, 0.8, 0.0, 0.0, 0.0, 0.0, 0.0, 0.0, 0.4166666666666667, 0.35, 0.3136842105263158, 0.39999999999999997, 0.0, 0.0, 0.4666666666666667, 0.3, 1.0, 0.16, 0.5875, -0.1875, 0.0, 0.54, 0.7, 0.5, 0.65, 0.55, 0.55, 0.7, 0.7, 0.7, 0.7, 0.7, 0.9099999999999999, 0.7, 0.64, 0.6, 0.25, 0.4625, 0.7, 0.5666666666666667, 0.4, 0.0, 0.0, 0.6499999999999999, 0.35, 0.0, 0.4375, 0.2965909090909091, 0.0, 0.49375, 0.0, 0.55, 0.32499999999999996, 1.0, 0.7, 0.35, 0.64375, 0.35, 0.7, 0.3181818181818182, 0.0, 0.6, 0.65, 0.6, 0.49375, 0.04999999999999999, 0.7, 0.7, 0.8, 0.5, 0.35, 0.2333333333333333, 0.5, 0.35, 0.0, 0.7, 0.7, 0.1, 0.75, 0.35, 0.8, 0.10714285714285714, 0.8, 0.4, 0.234375, 0.5, 0.5, 0.64375, 0.7, 0.43333333333333335, -0.2916666666666667, 0.4, 0.3, 0.7, 0.79, 0.39999999999999997, 0.0, 0.4465909090909091, 0.0, 0.30000000000000004, 0.0, 0.10000000000000002, 0.21428571428571427, 0.8333333333333334, 0.0, 0.4333333333333333, 0.4333333333333333, 0.6999999999999998, 0.5333333333333333, 0.3499999999999999, 0.7, 0.0, 0.7, 0.0, -0.15, 0.4928571428571428, 1.0, 0.6, 0.5424242424242424, 0.6, 0.38888888888888884, 0.8, 0.0, 0.55, 0.4875, 0.65, 0.65, 0.13636363636363635, 0.4916666666666667, 0.0, 1.0, 0.8, 0.0, 0.15, 0.35, 0.4, 0.8, 0.5, 0.022727272727272724, 0.7, 0.7, 0.48000000000000004, 0.2333333333333333, 0.7000000000000001, 0.39999999999999997, 0.0, 0.0, 0.0, 0.78, 0.7, 0.3, 0.5121212121212121, 0.16666666666666666, 0.6666666666666666, 0.4166666666666667, 0.1, 0.7, 0.78, 0.7, -0.019444444444444448, -1.0, 0.375, 0.75, 0.0, 0.4, 0.47159090909090906, 0.015277777777777776, 0.18944444444444442, 0.55, 0.7, 0.14970238095238095, 0.29166666666666663, 0.5, 0.49999999999999994, 0.19206349206349205, 0.35, 0.25, 0.0, 0.8, 0.0, 0.5, 0.06818181818181818, 1.0, 0.4666666666666666, 0.8, 0.525, 0.525, 0.6616666666666666, 0.75, 0.5, 0.8049999999999999, 0.43499999999999994, 0.061111111111111116, 0.35, 0.7, 0.02083333333333333, 0.64375, 0.3875, 0.5, 0.03125, 0.6, 0.5366666666666666, 0.5375, 0.21388888888888888, 0.35, 0.4666666666666666, 0.7, 0.8, 0.7, 0.7, 0.3387878787878788, 0.44999999999999996, 0.8666666666666667, 0.26249999999999996, 0.0, 0.0, 0.6, 1.0, 0.03571428571428571, 0.0, 0.7, 0.3, 0.2, 0.6916666666666668, 0.35, 0.26499999999999996, 0.14489795918367346, 0.55, 0.13636363636363635, 0.0, 0.7, 0.8, 0.7, 0.48666666666666664, 0.7, 0.9099999999999999, 0.9099999999999999, 0.7, 0.8500000000000001, 0.21428571428571427, 0.0, 0.7, 0.6666666666666666, 0.35, 0.0, 0.7, 0.6666666666666666, 0.6, 0.7, 0.41818181818181815, 0.7, 0.4121212121212121, 0.59375, 0.5, 0.12159090909090908, 0.7, 0.7, 0.5454545454545454, 0.75, 0.7, 0.21666666666666665, 0.75, 0.7, 0.25, 0.0, 0.5166666666666666, 0.13472222222222224, 0.4875, 0.0, -0.1, 0.0, 0.35, 0.3977777777777778, 0.23541666666666666, 0.7, 0.8, 0.5, 0.0, 0.8, -0.050000000000000044, 0.7, 0.7, 0.7, 0.3906481481481482, 0.6950000000000001, 0.21428571428571427, 0.22272727272727275, 0.7733333333333333, 0.26666666666666666, 0.2625, 0.4, 0.4142857142857142, 0.28194444444444444, 0.0, 0.4375, 0.39999999999999997, 0.24533333333333332, 0.19166666666666665, 0.0, 0.4888888888888889, 0.35000000000000003, 0.5533333333333333, 0.7799999999999999, 0.6999999999999998, 0.5, 0.475, 0.475, 0.45909090909090905, 0.5, 0.3625, 0.6999999999999998, 0.10181818181818181, -0.15, 0.8000000000000002, -0.05555555555555555, 0.625, 0.6, 0.35, 0.30000000000000004, 0.5633333333333334, 0.4375, 0.65, -0.04999999999999999, 0.39999999999999997, 0.5047619047619047, 0.6, 0.6, 0.0, 0.2, 0.4333333333333333, -0.05, 0.35, 0.6, 0.0, 0.8, 0.7, 0.4, 0.1, 0.0, 0.0, 0.7, 0.5, 0.6, 0.8, 0.4333333333333333]}],                        {\"barmode\": \"overlay\", \"legend\": {\"bgcolor\": \"#F5F6F9\", \"font\": {\"color\": \"#4D5663\"}}, \"paper_bgcolor\": \"#F5F6F9\", \"plot_bgcolor\": \"#F5F6F9\", \"template\": {\"data\": {\"bar\": [{\"error_x\": {\"color\": \"#2a3f5f\"}, \"error_y\": {\"color\": \"#2a3f5f\"}, \"marker\": {\"line\": {\"color\": \"#E5ECF6\", \"width\": 0.5}}, \"type\": \"bar\"}], \"barpolar\": [{\"marker\": {\"line\": {\"color\": \"#E5ECF6\", \"width\": 0.5}}, \"type\": \"barpolar\"}], \"carpet\": [{\"aaxis\": {\"endlinecolor\": \"#2a3f5f\", \"gridcolor\": \"white\", \"linecolor\": \"white\", \"minorgridcolor\": \"white\", \"startlinecolor\": \"#2a3f5f\"}, \"baxis\": {\"endlinecolor\": \"#2a3f5f\", \"gridcolor\": \"white\", \"linecolor\": \"white\", \"minorgridcolor\": \"white\", \"startlinecolor\": \"#2a3f5f\"}, \"type\": \"carpet\"}], \"choropleth\": [{\"colorbar\": {\"outlinewidth\": 0, \"ticks\": \"\"}, \"type\": \"choropleth\"}], \"contour\": [{\"colorbar\": {\"outlinewidth\": 0, \"ticks\": \"\"}, \"colorscale\": [[0.0, \"#0d0887\"], [0.1111111111111111, \"#46039f\"], [0.2222222222222222, \"#7201a8\"], [0.3333333333333333, \"#9c179e\"], [0.4444444444444444, \"#bd3786\"], [0.5555555555555556, \"#d8576b\"], [0.6666666666666666, \"#ed7953\"], [0.7777777777777778, \"#fb9f3a\"], [0.8888888888888888, \"#fdca26\"], [1.0, \"#f0f921\"]], \"type\": \"contour\"}], \"contourcarpet\": [{\"colorbar\": {\"outlinewidth\": 0, \"ticks\": \"\"}, \"type\": \"contourcarpet\"}], \"heatmap\": [{\"colorbar\": {\"outlinewidth\": 0, \"ticks\": \"\"}, \"colorscale\": [[0.0, \"#0d0887\"], [0.1111111111111111, \"#46039f\"], [0.2222222222222222, \"#7201a8\"], [0.3333333333333333, \"#9c179e\"], [0.4444444444444444, \"#bd3786\"], [0.5555555555555556, \"#d8576b\"], [0.6666666666666666, \"#ed7953\"], [0.7777777777777778, \"#fb9f3a\"], [0.8888888888888888, \"#fdca26\"], [1.0, \"#f0f921\"]], \"type\": \"heatmap\"}], \"heatmapgl\": [{\"colorbar\": {\"outlinewidth\": 0, \"ticks\": \"\"}, \"colorscale\": [[0.0, \"#0d0887\"], [0.1111111111111111, \"#46039f\"], [0.2222222222222222, \"#7201a8\"], [0.3333333333333333, \"#9c179e\"], [0.4444444444444444, \"#bd3786\"], [0.5555555555555556, \"#d8576b\"], [0.6666666666666666, \"#ed7953\"], [0.7777777777777778, \"#fb9f3a\"], [0.8888888888888888, \"#fdca26\"], [1.0, \"#f0f921\"]], \"type\": \"heatmapgl\"}], \"histogram\": [{\"marker\": {\"colorbar\": {\"outlinewidth\": 0, \"ticks\": \"\"}}, \"type\": \"histogram\"}], \"histogram2d\": [{\"colorbar\": {\"outlinewidth\": 0, \"ticks\": \"\"}, \"colorscale\": [[0.0, \"#0d0887\"], [0.1111111111111111, \"#46039f\"], [0.2222222222222222, \"#7201a8\"], [0.3333333333333333, \"#9c179e\"], [0.4444444444444444, \"#bd3786\"], [0.5555555555555556, \"#d8576b\"], [0.6666666666666666, \"#ed7953\"], [0.7777777777777778, \"#fb9f3a\"], [0.8888888888888888, \"#fdca26\"], [1.0, \"#f0f921\"]], \"type\": \"histogram2d\"}], \"histogram2dcontour\": [{\"colorbar\": {\"outlinewidth\": 0, \"ticks\": \"\"}, \"colorscale\": [[0.0, \"#0d0887\"], [0.1111111111111111, \"#46039f\"], [0.2222222222222222, \"#7201a8\"], [0.3333333333333333, \"#9c179e\"], [0.4444444444444444, \"#bd3786\"], [0.5555555555555556, \"#d8576b\"], [0.6666666666666666, \"#ed7953\"], [0.7777777777777778, \"#fb9f3a\"], [0.8888888888888888, \"#fdca26\"], [1.0, \"#f0f921\"]], \"type\": \"histogram2dcontour\"}], \"mesh3d\": [{\"colorbar\": {\"outlinewidth\": 0, \"ticks\": \"\"}, \"type\": \"mesh3d\"}], \"parcoords\": [{\"line\": {\"colorbar\": {\"outlinewidth\": 0, \"ticks\": \"\"}}, \"type\": \"parcoords\"}], \"pie\": [{\"automargin\": true, \"type\": \"pie\"}], \"scatter\": [{\"marker\": {\"colorbar\": {\"outlinewidth\": 0, \"ticks\": \"\"}}, \"type\": \"scatter\"}], \"scatter3d\": [{\"line\": {\"colorbar\": {\"outlinewidth\": 0, \"ticks\": \"\"}}, \"marker\": {\"colorbar\": {\"outlinewidth\": 0, \"ticks\": \"\"}}, \"type\": \"scatter3d\"}], \"scattercarpet\": [{\"marker\": {\"colorbar\": {\"outlinewidth\": 0, \"ticks\": \"\"}}, \"type\": \"scattercarpet\"}], \"scattergeo\": [{\"marker\": {\"colorbar\": {\"outlinewidth\": 0, \"ticks\": \"\"}}, \"type\": \"scattergeo\"}], \"scattergl\": [{\"marker\": {\"colorbar\": {\"outlinewidth\": 0, \"ticks\": \"\"}}, \"type\": \"scattergl\"}], \"scattermapbox\": [{\"marker\": {\"colorbar\": {\"outlinewidth\": 0, \"ticks\": \"\"}}, \"type\": \"scattermapbox\"}], \"scatterpolar\": [{\"marker\": {\"colorbar\": {\"outlinewidth\": 0, \"ticks\": \"\"}}, \"type\": \"scatterpolar\"}], \"scatterpolargl\": [{\"marker\": {\"colorbar\": {\"outlinewidth\": 0, \"ticks\": \"\"}}, \"type\": \"scatterpolargl\"}], \"scatterternary\": [{\"marker\": {\"colorbar\": {\"outlinewidth\": 0, \"ticks\": \"\"}}, \"type\": \"scatterternary\"}], \"surface\": [{\"colorbar\": {\"outlinewidth\": 0, \"ticks\": \"\"}, \"colorscale\": [[0.0, \"#0d0887\"], [0.1111111111111111, \"#46039f\"], [0.2222222222222222, \"#7201a8\"], [0.3333333333333333, \"#9c179e\"], [0.4444444444444444, \"#bd3786\"], [0.5555555555555556, \"#d8576b\"], [0.6666666666666666, \"#ed7953\"], [0.7777777777777778, \"#fb9f3a\"], [0.8888888888888888, \"#fdca26\"], [1.0, \"#f0f921\"]], \"type\": \"surface\"}], \"table\": [{\"cells\": {\"fill\": {\"color\": \"#EBF0F8\"}, \"line\": {\"color\": \"white\"}}, \"header\": {\"fill\": {\"color\": \"#C8D4E3\"}, \"line\": {\"color\": \"white\"}}, \"type\": \"table\"}]}, \"layout\": {\"annotationdefaults\": {\"arrowcolor\": \"#2a3f5f\", \"arrowhead\": 0, \"arrowwidth\": 1}, \"autotypenumbers\": \"strict\", \"coloraxis\": {\"colorbar\": {\"outlinewidth\": 0, \"ticks\": \"\"}}, \"colorscale\": {\"diverging\": [[0, \"#8e0152\"], [0.1, \"#c51b7d\"], [0.2, \"#de77ae\"], [0.3, \"#f1b6da\"], [0.4, \"#fde0ef\"], [0.5, \"#f7f7f7\"], [0.6, \"#e6f5d0\"], [0.7, \"#b8e186\"], [0.8, \"#7fbc41\"], [0.9, \"#4d9221\"], [1, \"#276419\"]], \"sequential\": [[0.0, \"#0d0887\"], [0.1111111111111111, \"#46039f\"], [0.2222222222222222, \"#7201a8\"], [0.3333333333333333, \"#9c179e\"], [0.4444444444444444, \"#bd3786\"], [0.5555555555555556, \"#d8576b\"], [0.6666666666666666, \"#ed7953\"], [0.7777777777777778, \"#fb9f3a\"], [0.8888888888888888, \"#fdca26\"], [1.0, \"#f0f921\"]], \"sequentialminus\": [[0.0, \"#0d0887\"], [0.1111111111111111, \"#46039f\"], [0.2222222222222222, \"#7201a8\"], [0.3333333333333333, \"#9c179e\"], [0.4444444444444444, \"#bd3786\"], [0.5555555555555556, \"#d8576b\"], [0.6666666666666666, \"#ed7953\"], [0.7777777777777778, \"#fb9f3a\"], [0.8888888888888888, \"#fdca26\"], [1.0, \"#f0f921\"]]}, \"colorway\": [\"#636efa\", \"#EF553B\", \"#00cc96\", \"#ab63fa\", \"#FFA15A\", \"#19d3f3\", \"#FF6692\", \"#B6E880\", \"#FF97FF\", \"#FECB52\"], \"font\": {\"color\": \"#2a3f5f\"}, \"geo\": {\"bgcolor\": \"white\", \"lakecolor\": \"white\", \"landcolor\": \"#E5ECF6\", \"showlakes\": true, \"showland\": true, \"subunitcolor\": \"white\"}, \"hoverlabel\": {\"align\": \"left\"}, \"hovermode\": \"closest\", \"mapbox\": {\"style\": \"light\"}, \"paper_bgcolor\": \"white\", \"plot_bgcolor\": \"#E5ECF6\", \"polar\": {\"angularaxis\": {\"gridcolor\": \"white\", \"linecolor\": \"white\", \"ticks\": \"\"}, \"bgcolor\": \"#E5ECF6\", \"radialaxis\": {\"gridcolor\": \"white\", \"linecolor\": \"white\", \"ticks\": \"\"}}, \"scene\": {\"xaxis\": {\"backgroundcolor\": \"#E5ECF6\", \"gridcolor\": \"white\", \"gridwidth\": 2, \"linecolor\": \"white\", \"showbackground\": true, \"ticks\": \"\", \"zerolinecolor\": \"white\"}, \"yaxis\": {\"backgroundcolor\": \"#E5ECF6\", \"gridcolor\": \"white\", \"gridwidth\": 2, \"linecolor\": \"white\", \"showbackground\": true, \"ticks\": \"\", \"zerolinecolor\": \"white\"}, \"zaxis\": {\"backgroundcolor\": \"#E5ECF6\", \"gridcolor\": \"white\", \"gridwidth\": 2, \"linecolor\": \"white\", \"showbackground\": true, \"ticks\": \"\", \"zerolinecolor\": \"white\"}}, \"shapedefaults\": {\"line\": {\"color\": \"#2a3f5f\"}}, \"ternary\": {\"aaxis\": {\"gridcolor\": \"white\", \"linecolor\": \"white\", \"ticks\": \"\"}, \"baxis\": {\"gridcolor\": \"white\", \"linecolor\": \"white\", \"ticks\": \"\"}, \"bgcolor\": \"#E5ECF6\", \"caxis\": {\"gridcolor\": \"white\", \"linecolor\": \"white\", \"ticks\": \"\"}}, \"title\": {\"x\": 0.05}, \"xaxis\": {\"automargin\": true, \"gridcolor\": \"white\", \"linecolor\": \"white\", \"ticks\": \"\", \"title\": {\"standoff\": 15}, \"zerolinecolor\": \"white\", \"zerolinewidth\": 2}, \"yaxis\": {\"automargin\": true, \"gridcolor\": \"white\", \"linecolor\": \"white\", \"ticks\": \"\", \"title\": {\"standoff\": 15}, \"zerolinecolor\": \"white\", \"zerolinewidth\": 2}}}, \"title\": {\"font\": {\"color\": \"#4D5663\"}}, \"xaxis\": {\"gridcolor\": \"#E1E5ED\", \"showgrid\": true, \"tickfont\": {\"color\": \"#4D5663\"}, \"title\": {\"font\": {\"color\": \"#4D5663\"}, \"text\": \"Polarity\"}, \"zerolinecolor\": \"#E1E5ED\"}, \"yaxis\": {\"gridcolor\": \"#E1E5ED\", \"showgrid\": true, \"tickfont\": {\"color\": \"#4D5663\"}, \"title\": {\"font\": {\"color\": \"#4D5663\"}, \"text\": \"\"}, \"zerolinecolor\": \"#E1E5ED\"}},                        {\"showLink\": true, \"linkText\": \"Export to plot.ly\", \"plotlyServerURL\": \"https://plot.ly\", \"responsive\": true}                    ).then(function(){\n",
       "                            \n",
       "var gd = document.getElementById('9098c7c4-f523-4b4f-9f87-6d061f0f2a77');\n",
       "var x = new MutationObserver(function (mutations, observer) {{\n",
       "        var display = window.getComputedStyle(gd).display;\n",
       "        if (!display || display === 'none') {{\n",
       "            console.log([gd, 'removed!']);\n",
       "            Plotly.purge(gd);\n",
       "            observer.disconnect();\n",
       "        }}\n",
       "}});\n",
       "\n",
       "// Listen for the removal of the full notebook cells\n",
       "var notebookContainer = gd.closest('#notebook-container');\n",
       "if (notebookContainer) {{\n",
       "    x.observe(notebookContainer, {childList: true});\n",
       "}}\n",
       "\n",
       "// Listen for the clearing of the current output cell\n",
       "var outputEl = gd.closest('.output');\n",
       "if (outputEl) {{\n",
       "    x.observe(outputEl, {childList: true});\n",
       "}}\n",
       "\n",
       "                        })                };                });            </script>        </div>"
      ]
     },
     "metadata": {},
     "output_type": "display_data"
    },
    {
     "data": {
      "application/vnd.plotly.v1+json": {
       "config": {
        "linkText": "Export to plot.ly",
        "plotlyServerURL": "https://plot.ly",
        "showLink": true
       },
       "data": [
        {
         "histfunc": "count",
         "histnorm": "",
         "marker": {
          "color": "rgba(219, 64, 82, 1.0)",
          "line": {
           "color": "#4D5663",
           "width": 1.3
          }
         },
         "name": "Cons_polarity",
         "nbinsx": 50,
         "opacity": 0.8,
         "orientation": "v",
         "type": "histogram",
         "x": [
          -0.05,
          0,
          0.3866666666666667,
          -0.4,
          0.1002777777777778,
          0.15,
          -0.13333333333333333,
          0,
          0,
          0.058333333333333334,
          0.02,
          -0.30000000000000004,
          -0.08999999999999997,
          -0.19722222222222222,
          -0.22499999999999998,
          0,
          0.04984126984126985,
          -0.125,
          -0.004166666666666659,
          0.2333333333333333,
          -0.11875000000000001,
          0.07291666666666666,
          -0.095,
          -0.22678571428571428,
          -0.07999999999999996,
          -0.15,
          0.5,
          0,
          0.39625,
          0,
          0.15085858585858583,
          0.11333333333333333,
          0.16964285714285712,
          0.03333333333333333,
          0.10000000000000002,
          -0.08333333333333333,
          0,
          0.2,
          1,
          -0.3,
          -0.19666666666666668,
          -0.1625,
          0.25,
          -0.2916666666666667,
          -0.25,
          0,
          0,
          0.3333333333333333,
          -0.07500000000000001,
          0,
          -0.05555555555555555,
          0.5,
          0,
          -0.35,
          0,
          -0.1,
          0.08,
          -0.07936507936507936,
          0,
          0,
          0,
          -0.07142857142857142,
          0,
          0.375,
          0,
          -0.2,
          -0.4,
          -0.05,
          -0.075,
          0,
          0,
          -0.1,
          0,
          0.11481481481481481,
          0.2,
          0.35,
          -0.4,
          0,
          -0.1,
          0,
          0,
          -0.4749999999999999,
          0.5,
          0,
          -0.25,
          -0.2318181818181818,
          0.15000000000000002,
          0.33,
          0,
          0,
          -0.4,
          -0.07500000000000001,
          0,
          0,
          -0.1,
          0.125,
          0,
          -0.05,
          0.234375,
          -0.125,
          -0.020000000000000004,
          0,
          -0.25,
          -0.1875,
          0.16666666666666669,
          -0.15000000000000002,
          1,
          -0.2583333333333333,
          0,
          -0.9099999999999998,
          -0.9099999999999998,
          0.1,
          0,
          0,
          -0.16666666666666666,
          -0.25,
          0.03452380952380951,
          -0.1923076923076923,
          -0.1875,
          0,
          -0.1,
          0,
          -0.08181818181818185,
          0,
          0.029166666666666646,
          0.5,
          -0.6666666666666666,
          0,
          0.03652380952380952,
          0,
          0.2,
          0.23,
          0.06666666666666667,
          -0.13333333333333333,
          0,
          -0.14583333333333334,
          -0.042857142857142885,
          -0.125,
          0.3194444444444444,
          0.35714285714285715,
          0.35714285714285715,
          -0.30000000000000004,
          0,
          -0.1,
          -0.05000000000000001,
          0,
          0.012500000000000011,
          0,
          -0.1875,
          0,
          0.1,
          -0.5444444444444444,
          0,
          0.5,
          0.24423076923076922,
          0,
          -0.02194444444444445,
          -0.14583333333333331,
          0,
          -0.038461538461538464,
          0,
          0.25,
          -0.6999999999999998,
          0,
          0.35,
          0.5,
          -0.15000000000000002,
          0.5,
          0,
          -0.2,
          -0.2,
          0,
          0,
          0,
          0,
          0,
          0.2625,
          -0.05,
          0.7,
          -0.1,
          0.4166666666666667,
          -0.05000000000000001,
          -0.14583333333333331,
          0,
          0,
          0,
          0.1,
          0,
          0,
          -0.4,
          -0.4,
          -0.125,
          -0.6999999999999998,
          -0.4,
          -0.175,
          0,
          0.16,
          0.8,
          -0.4,
          -0.5,
          0,
          0.11666666666666665,
          0,
          0,
          0,
          -0.39000000000000007,
          0,
          -0.04285714285714286,
          0,
          0.04999999999999996,
          0,
          -0.21250000000000002,
          0.1,
          0.12199843260188083,
          -0.13125,
          0.16666666666666666,
          -0.037878787878787845,
          -0.20000000000000004,
          -0.2,
          0.21814814814814817,
          -0.2916666666666667,
          0.2,
          -0.05,
          -0.6999999999999998,
          -0.4,
          -0.21666666666666667,
          -0.30000000000000004,
          -0.35,
          -0.5,
          0.004545454545454561,
          0.0888888888888889,
          0.10357142857142856,
          0,
          0,
          -0.4,
          0.4,
          0.25,
          0,
          0.03333333333333333,
          -0.5,
          -0.5,
          0,
          -0.225,
          0,
          -0.09892857142857142,
          0,
          -1,
          0,
          0,
          -0.125,
          -0.2107142857142857,
          0.46666666666666673,
          -0.3,
          0,
          0.20333333333333337,
          0.2,
          0.5,
          -0.05833333333333333,
          0,
          0,
          0,
          0.2,
          0,
          0,
          -0.2916666666666667,
          0.15,
          0,
          0.5,
          -0.49999999999999994,
          -0.025,
          -0.175,
          0.425,
          0,
          -0.2916666666666667,
          -0.1,
          0.08928571428571429,
          0,
          -0.4,
          0,
          0.125,
          -0.19,
          0.23214285714285715,
          0,
          0,
          0,
          0.2857142857142857,
          0.11249999999999999,
          -0.14583333333333334,
          0,
          0,
          -0.022222222222222216,
          0.21428571428571427,
          0,
          0,
          0,
          0.35714285714285715,
          1,
          0,
          0.5,
          0.225,
          -0.08,
          0,
          -0.5,
          0,
          0.14772727272727273,
          0.2,
          0,
          0,
          0.15,
          -0.2125,
          0,
          -0.1,
          -0.05,
          0.11388888888888887,
          -0.15000000000000002,
          -0.08333333333333333,
          -0.17083333333333334,
          0.65,
          0,
          0,
          0,
          0.25,
          -0.275,
          0.39999999999999997,
          -0.025793650793650803,
          -0.10000000000000002,
          0.8,
          0,
          -0.05,
          0.5,
          0,
          0.25,
          0,
          0.225,
          0,
          -0.5,
          -0.325,
          0,
          0,
          0,
          0,
          -0.35,
          -0.17083333333333334,
          -0.09375,
          -0.020000000000000007,
          0.32499999999999996,
          0,
          0,
          0,
          0,
          -0.07777777777777779,
          -0.06666666666666667,
          -0.10997354497354495,
          0,
          -0.10555555555555553,
          -0.375,
          -0.1,
          0,
          0,
          0,
          0,
          -0.65,
          0,
          -0.25,
          0.45,
          -0.23333333333333334,
          0.037500000000000006,
          -0.18333333333333335,
          -0.15,
          0,
          -0.1,
          -0.23999999999999994,
          -0.5083333333333332,
          0.7,
          0,
          0,
          0.06818181818181818,
          0.3,
          0,
          0,
          0,
          -0.16333333333333333,
          -0.17708333333333331,
          -0.25,
          0.05833333333333331,
          0,
          0.2,
          0.09999999999999998,
          0.11721590909090909,
          0.16,
          0.7,
          -0.40041666666666664,
          0,
          0.04999999999999999,
          -0.5333333333333333,
          0,
          0.16666666666666666,
          0,
          0.8,
          0.08616883116883116,
          0.016666666666666677,
          0.15929903429903428,
          0.25,
          -0.08333333333333333,
          0.025873015873015895,
          0.11500000000000002,
          0.09999999999999999,
          -0.575,
          0.015373563218390816,
          0.13333333333333333,
          -0.1,
          0,
          0,
          0,
          -0.18333333333333332,
          -0.65,
          -0.2916666666666667,
          0,
          -0.1,
          0,
          0,
          0.6,
          0.5,
          0,
          0.7,
          0.024047619047619036,
          0,
          0,
          0,
          -0.125,
          0.5,
          0.29878787878787877,
          -0.2357142857142857,
          -0.30000000000000004,
          -0.6999999999999998,
          0.2333333333333333,
          -0.20000000000000004,
          0.07083333333333332,
          -0.020000000000000004,
          0.057142857142857134,
          0.44999999999999996,
          0.35,
          0,
          0.7,
          0.025,
          0,
          0,
          0,
          0.03250000000000003,
          -0.07962962962962963,
          0,
          0.7,
          -1,
          0,
          0,
          -0.675,
          0.5,
          -0.05164835164835162,
          0.09999999999999999,
          -0.025,
          0.10696296296296294,
          0,
          -0.07121212121212121,
          -0.10833333333333334,
          0,
          0.7,
          0,
          -0.5,
          0,
          -0.31666666666666665,
          -0.31666666666666665,
          -0.09499999999999999,
          0.21428571428571427,
          -0.049999999999999996,
          0,
          -0.20833333333333334,
          0,
          0.44999999999999996,
          0.35,
          0.4,
          0,
          0,
          0.3,
          0.2,
          0,
          0,
          0,
          -0.125,
          -0.1875,
          0.5,
          0.5,
          -0.025,
          0,
          0.2,
          0.13636363636363635,
          0.1,
          0,
          0.2,
          0.5,
          0.042272727272727274,
          -0.08806818181818182,
          0,
          0,
          -0.2833333333333334,
          0,
          0,
          -0.08333333333333334,
          0.08,
          0.34732142857142856,
          0.03333333333333333,
          -0.19999999999999998,
          0.2,
          0.8,
          0.7,
          -0.05,
          0,
          0.05,
          -0.08214285714285711,
          0.10874999999999999,
          0.13636363636363635,
          -0.08156565656565654,
          -0.16666666666666666,
          0.21428571428571427,
          0.31666666666666665,
          0.125,
          -0.19500000000000003,
          -0.05833333333333333,
          0,
          -0.05,
          0.014393939393939403,
          0.5,
          0.7,
          -0.078125,
          0,
          0.1,
          0.43,
          0,
          0.16,
          0.02777777777777778,
          0,
          0,
          0,
          -0.1875,
          0.1,
          0.5,
          -0.13948412698412696,
          0,
          0.8,
          0,
          0,
          0,
          0,
          -0.10833333333333334,
          0,
          0.0625,
          -0.10000000000000002,
          -0.4,
          -0.16666666666666666,
          0.16,
          0,
          0,
          0,
          -0.35,
          -0.6166666666666666,
          0,
          -0.07222222222222222,
          0.05,
          0.2,
          0.35714285714285715,
          -0.3,
          0.7,
          0.037500000000000006,
          0.06666666666666667,
          -0.3277777777777778,
          -0.15555555555555559,
          0,
          0,
          0.08333333333333333,
          0
         ]
        }
       ],
       "layout": {
        "barmode": "overlay",
        "legend": {
         "bgcolor": "#F5F6F9",
         "font": {
          "color": "#4D5663"
         }
        },
        "paper_bgcolor": "#F5F6F9",
        "plot_bgcolor": "#F5F6F9",
        "template": {
         "data": {
          "bar": [
           {
            "error_x": {
             "color": "#2a3f5f"
            },
            "error_y": {
             "color": "#2a3f5f"
            },
            "marker": {
             "line": {
              "color": "#E5ECF6",
              "width": 0.5
             }
            },
            "type": "bar"
           }
          ],
          "barpolar": [
           {
            "marker": {
             "line": {
              "color": "#E5ECF6",
              "width": 0.5
             }
            },
            "type": "barpolar"
           }
          ],
          "carpet": [
           {
            "aaxis": {
             "endlinecolor": "#2a3f5f",
             "gridcolor": "white",
             "linecolor": "white",
             "minorgridcolor": "white",
             "startlinecolor": "#2a3f5f"
            },
            "baxis": {
             "endlinecolor": "#2a3f5f",
             "gridcolor": "white",
             "linecolor": "white",
             "minorgridcolor": "white",
             "startlinecolor": "#2a3f5f"
            },
            "type": "carpet"
           }
          ],
          "choropleth": [
           {
            "colorbar": {
             "outlinewidth": 0,
             "ticks": ""
            },
            "type": "choropleth"
           }
          ],
          "contour": [
           {
            "colorbar": {
             "outlinewidth": 0,
             "ticks": ""
            },
            "colorscale": [
             [
              0,
              "#0d0887"
             ],
             [
              0.1111111111111111,
              "#46039f"
             ],
             [
              0.2222222222222222,
              "#7201a8"
             ],
             [
              0.3333333333333333,
              "#9c179e"
             ],
             [
              0.4444444444444444,
              "#bd3786"
             ],
             [
              0.5555555555555556,
              "#d8576b"
             ],
             [
              0.6666666666666666,
              "#ed7953"
             ],
             [
              0.7777777777777778,
              "#fb9f3a"
             ],
             [
              0.8888888888888888,
              "#fdca26"
             ],
             [
              1,
              "#f0f921"
             ]
            ],
            "type": "contour"
           }
          ],
          "contourcarpet": [
           {
            "colorbar": {
             "outlinewidth": 0,
             "ticks": ""
            },
            "type": "contourcarpet"
           }
          ],
          "heatmap": [
           {
            "colorbar": {
             "outlinewidth": 0,
             "ticks": ""
            },
            "colorscale": [
             [
              0,
              "#0d0887"
             ],
             [
              0.1111111111111111,
              "#46039f"
             ],
             [
              0.2222222222222222,
              "#7201a8"
             ],
             [
              0.3333333333333333,
              "#9c179e"
             ],
             [
              0.4444444444444444,
              "#bd3786"
             ],
             [
              0.5555555555555556,
              "#d8576b"
             ],
             [
              0.6666666666666666,
              "#ed7953"
             ],
             [
              0.7777777777777778,
              "#fb9f3a"
             ],
             [
              0.8888888888888888,
              "#fdca26"
             ],
             [
              1,
              "#f0f921"
             ]
            ],
            "type": "heatmap"
           }
          ],
          "heatmapgl": [
           {
            "colorbar": {
             "outlinewidth": 0,
             "ticks": ""
            },
            "colorscale": [
             [
              0,
              "#0d0887"
             ],
             [
              0.1111111111111111,
              "#46039f"
             ],
             [
              0.2222222222222222,
              "#7201a8"
             ],
             [
              0.3333333333333333,
              "#9c179e"
             ],
             [
              0.4444444444444444,
              "#bd3786"
             ],
             [
              0.5555555555555556,
              "#d8576b"
             ],
             [
              0.6666666666666666,
              "#ed7953"
             ],
             [
              0.7777777777777778,
              "#fb9f3a"
             ],
             [
              0.8888888888888888,
              "#fdca26"
             ],
             [
              1,
              "#f0f921"
             ]
            ],
            "type": "heatmapgl"
           }
          ],
          "histogram": [
           {
            "marker": {
             "colorbar": {
              "outlinewidth": 0,
              "ticks": ""
             }
            },
            "type": "histogram"
           }
          ],
          "histogram2d": [
           {
            "colorbar": {
             "outlinewidth": 0,
             "ticks": ""
            },
            "colorscale": [
             [
              0,
              "#0d0887"
             ],
             [
              0.1111111111111111,
              "#46039f"
             ],
             [
              0.2222222222222222,
              "#7201a8"
             ],
             [
              0.3333333333333333,
              "#9c179e"
             ],
             [
              0.4444444444444444,
              "#bd3786"
             ],
             [
              0.5555555555555556,
              "#d8576b"
             ],
             [
              0.6666666666666666,
              "#ed7953"
             ],
             [
              0.7777777777777778,
              "#fb9f3a"
             ],
             [
              0.8888888888888888,
              "#fdca26"
             ],
             [
              1,
              "#f0f921"
             ]
            ],
            "type": "histogram2d"
           }
          ],
          "histogram2dcontour": [
           {
            "colorbar": {
             "outlinewidth": 0,
             "ticks": ""
            },
            "colorscale": [
             [
              0,
              "#0d0887"
             ],
             [
              0.1111111111111111,
              "#46039f"
             ],
             [
              0.2222222222222222,
              "#7201a8"
             ],
             [
              0.3333333333333333,
              "#9c179e"
             ],
             [
              0.4444444444444444,
              "#bd3786"
             ],
             [
              0.5555555555555556,
              "#d8576b"
             ],
             [
              0.6666666666666666,
              "#ed7953"
             ],
             [
              0.7777777777777778,
              "#fb9f3a"
             ],
             [
              0.8888888888888888,
              "#fdca26"
             ],
             [
              1,
              "#f0f921"
             ]
            ],
            "type": "histogram2dcontour"
           }
          ],
          "mesh3d": [
           {
            "colorbar": {
             "outlinewidth": 0,
             "ticks": ""
            },
            "type": "mesh3d"
           }
          ],
          "parcoords": [
           {
            "line": {
             "colorbar": {
              "outlinewidth": 0,
              "ticks": ""
             }
            },
            "type": "parcoords"
           }
          ],
          "pie": [
           {
            "automargin": true,
            "type": "pie"
           }
          ],
          "scatter": [
           {
            "marker": {
             "colorbar": {
              "outlinewidth": 0,
              "ticks": ""
             }
            },
            "type": "scatter"
           }
          ],
          "scatter3d": [
           {
            "line": {
             "colorbar": {
              "outlinewidth": 0,
              "ticks": ""
             }
            },
            "marker": {
             "colorbar": {
              "outlinewidth": 0,
              "ticks": ""
             }
            },
            "type": "scatter3d"
           }
          ],
          "scattercarpet": [
           {
            "marker": {
             "colorbar": {
              "outlinewidth": 0,
              "ticks": ""
             }
            },
            "type": "scattercarpet"
           }
          ],
          "scattergeo": [
           {
            "marker": {
             "colorbar": {
              "outlinewidth": 0,
              "ticks": ""
             }
            },
            "type": "scattergeo"
           }
          ],
          "scattergl": [
           {
            "marker": {
             "colorbar": {
              "outlinewidth": 0,
              "ticks": ""
             }
            },
            "type": "scattergl"
           }
          ],
          "scattermapbox": [
           {
            "marker": {
             "colorbar": {
              "outlinewidth": 0,
              "ticks": ""
             }
            },
            "type": "scattermapbox"
           }
          ],
          "scatterpolar": [
           {
            "marker": {
             "colorbar": {
              "outlinewidth": 0,
              "ticks": ""
             }
            },
            "type": "scatterpolar"
           }
          ],
          "scatterpolargl": [
           {
            "marker": {
             "colorbar": {
              "outlinewidth": 0,
              "ticks": ""
             }
            },
            "type": "scatterpolargl"
           }
          ],
          "scatterternary": [
           {
            "marker": {
             "colorbar": {
              "outlinewidth": 0,
              "ticks": ""
             }
            },
            "type": "scatterternary"
           }
          ],
          "surface": [
           {
            "colorbar": {
             "outlinewidth": 0,
             "ticks": ""
            },
            "colorscale": [
             [
              0,
              "#0d0887"
             ],
             [
              0.1111111111111111,
              "#46039f"
             ],
             [
              0.2222222222222222,
              "#7201a8"
             ],
             [
              0.3333333333333333,
              "#9c179e"
             ],
             [
              0.4444444444444444,
              "#bd3786"
             ],
             [
              0.5555555555555556,
              "#d8576b"
             ],
             [
              0.6666666666666666,
              "#ed7953"
             ],
             [
              0.7777777777777778,
              "#fb9f3a"
             ],
             [
              0.8888888888888888,
              "#fdca26"
             ],
             [
              1,
              "#f0f921"
             ]
            ],
            "type": "surface"
           }
          ],
          "table": [
           {
            "cells": {
             "fill": {
              "color": "#EBF0F8"
             },
             "line": {
              "color": "white"
             }
            },
            "header": {
             "fill": {
              "color": "#C8D4E3"
             },
             "line": {
              "color": "white"
             }
            },
            "type": "table"
           }
          ]
         },
         "layout": {
          "annotationdefaults": {
           "arrowcolor": "#2a3f5f",
           "arrowhead": 0,
           "arrowwidth": 1
          },
          "autotypenumbers": "strict",
          "coloraxis": {
           "colorbar": {
            "outlinewidth": 0,
            "ticks": ""
           }
          },
          "colorscale": {
           "diverging": [
            [
             0,
             "#8e0152"
            ],
            [
             0.1,
             "#c51b7d"
            ],
            [
             0.2,
             "#de77ae"
            ],
            [
             0.3,
             "#f1b6da"
            ],
            [
             0.4,
             "#fde0ef"
            ],
            [
             0.5,
             "#f7f7f7"
            ],
            [
             0.6,
             "#e6f5d0"
            ],
            [
             0.7,
             "#b8e186"
            ],
            [
             0.8,
             "#7fbc41"
            ],
            [
             0.9,
             "#4d9221"
            ],
            [
             1,
             "#276419"
            ]
           ],
           "sequential": [
            [
             0,
             "#0d0887"
            ],
            [
             0.1111111111111111,
             "#46039f"
            ],
            [
             0.2222222222222222,
             "#7201a8"
            ],
            [
             0.3333333333333333,
             "#9c179e"
            ],
            [
             0.4444444444444444,
             "#bd3786"
            ],
            [
             0.5555555555555556,
             "#d8576b"
            ],
            [
             0.6666666666666666,
             "#ed7953"
            ],
            [
             0.7777777777777778,
             "#fb9f3a"
            ],
            [
             0.8888888888888888,
             "#fdca26"
            ],
            [
             1,
             "#f0f921"
            ]
           ],
           "sequentialminus": [
            [
             0,
             "#0d0887"
            ],
            [
             0.1111111111111111,
             "#46039f"
            ],
            [
             0.2222222222222222,
             "#7201a8"
            ],
            [
             0.3333333333333333,
             "#9c179e"
            ],
            [
             0.4444444444444444,
             "#bd3786"
            ],
            [
             0.5555555555555556,
             "#d8576b"
            ],
            [
             0.6666666666666666,
             "#ed7953"
            ],
            [
             0.7777777777777778,
             "#fb9f3a"
            ],
            [
             0.8888888888888888,
             "#fdca26"
            ],
            [
             1,
             "#f0f921"
            ]
           ]
          },
          "colorway": [
           "#636efa",
           "#EF553B",
           "#00cc96",
           "#ab63fa",
           "#FFA15A",
           "#19d3f3",
           "#FF6692",
           "#B6E880",
           "#FF97FF",
           "#FECB52"
          ],
          "font": {
           "color": "#2a3f5f"
          },
          "geo": {
           "bgcolor": "white",
           "lakecolor": "white",
           "landcolor": "#E5ECF6",
           "showlakes": true,
           "showland": true,
           "subunitcolor": "white"
          },
          "hoverlabel": {
           "align": "left"
          },
          "hovermode": "closest",
          "mapbox": {
           "style": "light"
          },
          "paper_bgcolor": "white",
          "plot_bgcolor": "#E5ECF6",
          "polar": {
           "angularaxis": {
            "gridcolor": "white",
            "linecolor": "white",
            "ticks": ""
           },
           "bgcolor": "#E5ECF6",
           "radialaxis": {
            "gridcolor": "white",
            "linecolor": "white",
            "ticks": ""
           }
          },
          "scene": {
           "xaxis": {
            "backgroundcolor": "#E5ECF6",
            "gridcolor": "white",
            "gridwidth": 2,
            "linecolor": "white",
            "showbackground": true,
            "ticks": "",
            "zerolinecolor": "white"
           },
           "yaxis": {
            "backgroundcolor": "#E5ECF6",
            "gridcolor": "white",
            "gridwidth": 2,
            "linecolor": "white",
            "showbackground": true,
            "ticks": "",
            "zerolinecolor": "white"
           },
           "zaxis": {
            "backgroundcolor": "#E5ECF6",
            "gridcolor": "white",
            "gridwidth": 2,
            "linecolor": "white",
            "showbackground": true,
            "ticks": "",
            "zerolinecolor": "white"
           }
          },
          "shapedefaults": {
           "line": {
            "color": "#2a3f5f"
           }
          },
          "ternary": {
           "aaxis": {
            "gridcolor": "white",
            "linecolor": "white",
            "ticks": ""
           },
           "baxis": {
            "gridcolor": "white",
            "linecolor": "white",
            "ticks": ""
           },
           "bgcolor": "#E5ECF6",
           "caxis": {
            "gridcolor": "white",
            "linecolor": "white",
            "ticks": ""
           }
          },
          "title": {
           "x": 0.05
          },
          "xaxis": {
           "automargin": true,
           "gridcolor": "white",
           "linecolor": "white",
           "ticks": "",
           "title": {
            "standoff": 15
           },
           "zerolinecolor": "white",
           "zerolinewidth": 2
          },
          "yaxis": {
           "automargin": true,
           "gridcolor": "white",
           "linecolor": "white",
           "ticks": "",
           "title": {
            "standoff": 15
           },
           "zerolinecolor": "white",
           "zerolinewidth": 2
          }
         }
        },
        "title": {
         "font": {
          "color": "#4D5663"
         }
        },
        "xaxis": {
         "gridcolor": "#E1E5ED",
         "showgrid": true,
         "tickfont": {
          "color": "#4D5663"
         },
         "title": {
          "font": {
           "color": "#4D5663"
          },
          "text": "Polarity"
         },
         "zerolinecolor": "#E1E5ED"
        },
        "yaxis": {
         "gridcolor": "#E1E5ED",
         "showgrid": true,
         "tickfont": {
          "color": "#4D5663"
         },
         "title": {
          "font": {
           "color": "#4D5663"
          },
          "text": ""
         },
         "zerolinecolor": "#E1E5ED"
        }
       }
      },
      "text/html": [
       "<div>                            <div id=\"ba0473df-e890-4007-be0c-d5429f97cc48\" class=\"plotly-graph-div\" style=\"height:525px; width:100%;\"></div>            <script type=\"text/javascript\">                require([\"plotly\"], function(Plotly) {                    window.PLOTLYENV=window.PLOTLYENV || {};\n",
       "                    window.PLOTLYENV.BASE_URL='https://plot.ly';                                    if (document.getElementById(\"ba0473df-e890-4007-be0c-d5429f97cc48\")) {                    Plotly.newPlot(                        \"ba0473df-e890-4007-be0c-d5429f97cc48\",                        [{\"histfunc\": \"count\", \"histnorm\": \"\", \"marker\": {\"color\": \"rgba(219, 64, 82, 1.0)\", \"line\": {\"color\": \"#4D5663\", \"width\": 1.3}}, \"name\": \"Cons_polarity\", \"nbinsx\": 50, \"opacity\": 0.8, \"orientation\": \"v\", \"type\": \"histogram\", \"x\": [-0.05, 0.0, 0.3866666666666667, -0.4, 0.1002777777777778, 0.15, -0.13333333333333333, 0.0, 0.0, 0.058333333333333334, 0.02, -0.30000000000000004, -0.08999999999999997, -0.19722222222222222, -0.22499999999999998, 0.0, 0.04984126984126985, -0.125, -0.004166666666666659, 0.2333333333333333, -0.11875000000000001, 0.07291666666666666, -0.095, -0.22678571428571428, -0.07999999999999996, -0.15, 0.5, 0.0, 0.39625, 0.0, 0.15085858585858583, 0.11333333333333333, 0.16964285714285712, 0.03333333333333333, 0.10000000000000002, -0.08333333333333333, 0.0, 0.2, 1.0, -0.3, -0.19666666666666668, -0.1625, 0.25, -0.2916666666666667, -0.25, 0.0, 0.0, 0.3333333333333333, -0.07500000000000001, 0.0, -0.05555555555555555, 0.5, 0.0, -0.35, 0.0, -0.1, 0.08, -0.07936507936507936, 0.0, 0.0, 0.0, -0.07142857142857142, 0.0, 0.375, 0.0, -0.2, -0.4, -0.05, -0.075, 0.0, 0.0, -0.1, 0.0, 0.11481481481481481, 0.2, 0.35, -0.4, 0.0, -0.1, 0.0, 0.0, -0.4749999999999999, 0.5, 0.0, -0.25, -0.2318181818181818, 0.15000000000000002, 0.33, 0.0, 0.0, -0.4, -0.07500000000000001, 0.0, 0.0, -0.1, 0.125, 0.0, -0.05, 0.234375, -0.125, -0.020000000000000004, 0.0, -0.25, -0.1875, 0.16666666666666669, -0.15000000000000002, 1.0, -0.2583333333333333, 0.0, -0.9099999999999998, -0.9099999999999998, 0.1, 0.0, 0.0, -0.16666666666666666, -0.25, 0.03452380952380951, -0.1923076923076923, -0.1875, 0.0, -0.1, 0.0, -0.08181818181818185, 0.0, 0.029166666666666646, 0.5, -0.6666666666666666, 0.0, 0.03652380952380952, 0.0, 0.2, 0.23, 0.06666666666666667, -0.13333333333333333, 0.0, -0.14583333333333334, -0.042857142857142885, -0.125, 0.3194444444444444, 0.35714285714285715, 0.35714285714285715, -0.30000000000000004, 0.0, -0.1, -0.05000000000000001, 0.0, 0.012500000000000011, 0.0, -0.1875, 0.0, 0.1, -0.5444444444444444, 0.0, 0.5, 0.24423076923076922, 0.0, -0.02194444444444445, -0.14583333333333331, 0.0, -0.038461538461538464, 0.0, 0.25, -0.6999999999999998, 0.0, 0.35, 0.5, -0.15000000000000002, 0.5, 0.0, -0.2, -0.2, 0.0, 0.0, 0.0, 0.0, 0.0, 0.2625, -0.05, 0.7, -0.1, 0.4166666666666667, -0.05000000000000001, -0.14583333333333331, 0.0, 0.0, 0.0, 0.1, 0.0, 0.0, -0.4, -0.4, -0.125, -0.6999999999999998, -0.4, -0.175, 0.0, 0.16, 0.8, -0.4, -0.5, 0.0, 0.11666666666666665, 0.0, 0.0, 0.0, -0.39000000000000007, 0.0, -0.04285714285714286, 0.0, 0.04999999999999996, 0.0, -0.21250000000000002, 0.1, 0.12199843260188083, -0.13125, 0.16666666666666666, -0.037878787878787845, -0.20000000000000004, -0.2, 0.21814814814814817, -0.2916666666666667, 0.2, -0.05, -0.6999999999999998, -0.4, -0.21666666666666667, -0.30000000000000004, -0.35, -0.5, 0.004545454545454561, 0.0888888888888889, 0.10357142857142856, 0.0, 0.0, -0.4, 0.4, 0.25, 0.0, 0.03333333333333333, -0.5, -0.5, 0.0, -0.225, 0.0, -0.09892857142857142, 0.0, -1.0, 0.0, 0.0, -0.125, -0.2107142857142857, 0.46666666666666673, -0.3, 0.0, 0.20333333333333337, 0.2, 0.5, -0.05833333333333333, 0.0, 0.0, 0.0, 0.2, 0.0, 0.0, -0.2916666666666667, 0.15, 0.0, 0.5, -0.49999999999999994, -0.025, -0.175, 0.425, 0.0, -0.2916666666666667, -0.1, 0.08928571428571429, 0.0, -0.4, 0.0, 0.125, -0.19, 0.23214285714285715, 0.0, 0.0, 0.0, 0.2857142857142857, 0.11249999999999999, -0.14583333333333334, 0.0, 0.0, -0.022222222222222216, 0.21428571428571427, 0.0, 0.0, 0.0, 0.35714285714285715, 1.0, 0.0, 0.5, 0.225, -0.08, 0.0, -0.5, 0.0, 0.14772727272727273, 0.2, 0.0, 0.0, 0.15, -0.2125, 0.0, -0.1, -0.05, 0.11388888888888887, -0.15000000000000002, -0.08333333333333333, -0.17083333333333334, 0.65, 0.0, 0.0, 0.0, 0.25, -0.275, 0.39999999999999997, -0.025793650793650803, -0.10000000000000002, 0.8, 0.0, -0.05, 0.5, 0.0, 0.25, 0.0, 0.225, 0.0, -0.5, -0.325, 0.0, 0.0, 0.0, 0.0, -0.35, -0.17083333333333334, -0.09375, -0.020000000000000007, 0.32499999999999996, 0.0, 0.0, 0.0, 0.0, -0.07777777777777779, -0.06666666666666667, -0.10997354497354495, 0.0, -0.10555555555555553, -0.375, -0.1, 0.0, 0.0, 0.0, 0.0, -0.65, 0.0, -0.25, 0.45, -0.23333333333333334, 0.037500000000000006, -0.18333333333333335, -0.15, 0.0, -0.1, -0.23999999999999994, -0.5083333333333332, 0.7, 0.0, 0.0, 0.06818181818181818, 0.3, 0.0, 0.0, 0.0, -0.16333333333333333, -0.17708333333333331, -0.25, 0.05833333333333331, 0.0, 0.2, 0.09999999999999998, 0.11721590909090909, 0.16, 0.7, -0.40041666666666664, 0.0, 0.04999999999999999, -0.5333333333333333, 0.0, 0.16666666666666666, 0.0, 0.8, 0.08616883116883116, 0.016666666666666677, 0.15929903429903428, 0.25, -0.08333333333333333, 0.025873015873015895, 0.11500000000000002, 0.09999999999999999, -0.575, 0.015373563218390816, 0.13333333333333333, -0.1, 0.0, 0.0, 0.0, -0.18333333333333332, -0.65, -0.2916666666666667, 0.0, -0.1, 0.0, 0.0, 0.6, 0.5, 0.0, 0.7, 0.024047619047619036, 0.0, 0.0, 0.0, -0.125, 0.5, 0.29878787878787877, -0.2357142857142857, -0.30000000000000004, -0.6999999999999998, 0.2333333333333333, -0.20000000000000004, 0.07083333333333332, -0.020000000000000004, 0.057142857142857134, 0.44999999999999996, 0.35, 0.0, 0.7, 0.025, 0.0, 0.0, 0.0, 0.03250000000000003, -0.07962962962962963, 0.0, 0.7, -1.0, 0.0, 0.0, -0.675, 0.5, -0.05164835164835162, 0.09999999999999999, -0.025, 0.10696296296296294, 0.0, -0.07121212121212121, -0.10833333333333334, 0.0, 0.7, 0.0, -0.5, 0.0, -0.31666666666666665, -0.31666666666666665, -0.09499999999999999, 0.21428571428571427, -0.049999999999999996, 0.0, -0.20833333333333334, 0.0, 0.44999999999999996, 0.35, 0.4, 0.0, 0.0, 0.3, 0.2, 0.0, 0.0, 0.0, -0.125, -0.1875, 0.5, 0.5, -0.025, 0.0, 0.2, 0.13636363636363635, 0.1, 0.0, 0.2, 0.5, 0.042272727272727274, -0.08806818181818182, 0.0, 0.0, -0.2833333333333334, 0.0, 0.0, -0.08333333333333334, 0.08, 0.34732142857142856, 0.03333333333333333, -0.19999999999999998, 0.2, 0.8, 0.7, -0.05, 0.0, 0.05, -0.08214285714285711, 0.10874999999999999, 0.13636363636363635, -0.08156565656565654, -0.16666666666666666, 0.21428571428571427, 0.31666666666666665, 0.125, -0.19500000000000003, -0.05833333333333333, 0.0, -0.05, 0.014393939393939403, 0.5, 0.7, -0.078125, 0.0, 0.1, 0.43, 0.0, 0.16, 0.02777777777777778, 0.0, 0.0, 0.0, -0.1875, 0.1, 0.5, -0.13948412698412696, 0.0, 0.8, 0.0, 0.0, 0.0, 0.0, -0.10833333333333334, 0.0, 0.0625, -0.10000000000000002, -0.4, -0.16666666666666666, 0.16, 0.0, 0.0, 0.0, -0.35, -0.6166666666666666, 0.0, -0.07222222222222222, 0.05, 0.2, 0.35714285714285715, -0.3, 0.7, 0.037500000000000006, 0.06666666666666667, -0.3277777777777778, -0.15555555555555559, 0.0, 0.0, 0.08333333333333333, 0.0]}],                        {\"barmode\": \"overlay\", \"legend\": {\"bgcolor\": \"#F5F6F9\", \"font\": {\"color\": \"#4D5663\"}}, \"paper_bgcolor\": \"#F5F6F9\", \"plot_bgcolor\": \"#F5F6F9\", \"template\": {\"data\": {\"bar\": [{\"error_x\": {\"color\": \"#2a3f5f\"}, \"error_y\": {\"color\": \"#2a3f5f\"}, \"marker\": {\"line\": {\"color\": \"#E5ECF6\", \"width\": 0.5}}, \"type\": \"bar\"}], \"barpolar\": [{\"marker\": {\"line\": {\"color\": \"#E5ECF6\", \"width\": 0.5}}, \"type\": \"barpolar\"}], \"carpet\": [{\"aaxis\": {\"endlinecolor\": \"#2a3f5f\", \"gridcolor\": \"white\", \"linecolor\": \"white\", \"minorgridcolor\": \"white\", \"startlinecolor\": \"#2a3f5f\"}, \"baxis\": {\"endlinecolor\": \"#2a3f5f\", \"gridcolor\": \"white\", \"linecolor\": \"white\", \"minorgridcolor\": \"white\", \"startlinecolor\": \"#2a3f5f\"}, \"type\": \"carpet\"}], \"choropleth\": [{\"colorbar\": {\"outlinewidth\": 0, \"ticks\": \"\"}, \"type\": \"choropleth\"}], \"contour\": [{\"colorbar\": {\"outlinewidth\": 0, \"ticks\": \"\"}, \"colorscale\": [[0.0, \"#0d0887\"], [0.1111111111111111, \"#46039f\"], [0.2222222222222222, \"#7201a8\"], [0.3333333333333333, \"#9c179e\"], [0.4444444444444444, \"#bd3786\"], [0.5555555555555556, \"#d8576b\"], [0.6666666666666666, \"#ed7953\"], [0.7777777777777778, \"#fb9f3a\"], [0.8888888888888888, \"#fdca26\"], [1.0, \"#f0f921\"]], \"type\": \"contour\"}], \"contourcarpet\": [{\"colorbar\": {\"outlinewidth\": 0, \"ticks\": \"\"}, \"type\": \"contourcarpet\"}], \"heatmap\": [{\"colorbar\": {\"outlinewidth\": 0, \"ticks\": \"\"}, \"colorscale\": [[0.0, \"#0d0887\"], [0.1111111111111111, \"#46039f\"], [0.2222222222222222, \"#7201a8\"], [0.3333333333333333, \"#9c179e\"], [0.4444444444444444, \"#bd3786\"], [0.5555555555555556, \"#d8576b\"], [0.6666666666666666, \"#ed7953\"], [0.7777777777777778, \"#fb9f3a\"], [0.8888888888888888, \"#fdca26\"], [1.0, \"#f0f921\"]], \"type\": \"heatmap\"}], \"heatmapgl\": [{\"colorbar\": {\"outlinewidth\": 0, \"ticks\": \"\"}, \"colorscale\": [[0.0, \"#0d0887\"], [0.1111111111111111, \"#46039f\"], [0.2222222222222222, \"#7201a8\"], [0.3333333333333333, \"#9c179e\"], [0.4444444444444444, \"#bd3786\"], [0.5555555555555556, \"#d8576b\"], [0.6666666666666666, \"#ed7953\"], [0.7777777777777778, \"#fb9f3a\"], [0.8888888888888888, \"#fdca26\"], [1.0, \"#f0f921\"]], \"type\": \"heatmapgl\"}], \"histogram\": [{\"marker\": {\"colorbar\": {\"outlinewidth\": 0, \"ticks\": \"\"}}, \"type\": \"histogram\"}], \"histogram2d\": [{\"colorbar\": {\"outlinewidth\": 0, \"ticks\": \"\"}, \"colorscale\": [[0.0, \"#0d0887\"], [0.1111111111111111, \"#46039f\"], [0.2222222222222222, \"#7201a8\"], [0.3333333333333333, \"#9c179e\"], [0.4444444444444444, \"#bd3786\"], [0.5555555555555556, \"#d8576b\"], [0.6666666666666666, \"#ed7953\"], [0.7777777777777778, \"#fb9f3a\"], [0.8888888888888888, \"#fdca26\"], [1.0, \"#f0f921\"]], \"type\": \"histogram2d\"}], \"histogram2dcontour\": [{\"colorbar\": {\"outlinewidth\": 0, \"ticks\": \"\"}, \"colorscale\": [[0.0, \"#0d0887\"], [0.1111111111111111, \"#46039f\"], [0.2222222222222222, \"#7201a8\"], [0.3333333333333333, \"#9c179e\"], [0.4444444444444444, \"#bd3786\"], [0.5555555555555556, \"#d8576b\"], [0.6666666666666666, \"#ed7953\"], [0.7777777777777778, \"#fb9f3a\"], [0.8888888888888888, \"#fdca26\"], [1.0, \"#f0f921\"]], \"type\": \"histogram2dcontour\"}], \"mesh3d\": [{\"colorbar\": {\"outlinewidth\": 0, \"ticks\": \"\"}, \"type\": \"mesh3d\"}], \"parcoords\": [{\"line\": {\"colorbar\": {\"outlinewidth\": 0, \"ticks\": \"\"}}, \"type\": \"parcoords\"}], \"pie\": [{\"automargin\": true, \"type\": \"pie\"}], \"scatter\": [{\"marker\": {\"colorbar\": {\"outlinewidth\": 0, \"ticks\": \"\"}}, \"type\": \"scatter\"}], \"scatter3d\": [{\"line\": {\"colorbar\": {\"outlinewidth\": 0, \"ticks\": \"\"}}, \"marker\": {\"colorbar\": {\"outlinewidth\": 0, \"ticks\": \"\"}}, \"type\": \"scatter3d\"}], \"scattercarpet\": [{\"marker\": {\"colorbar\": {\"outlinewidth\": 0, \"ticks\": \"\"}}, \"type\": \"scattercarpet\"}], \"scattergeo\": [{\"marker\": {\"colorbar\": {\"outlinewidth\": 0, \"ticks\": \"\"}}, \"type\": \"scattergeo\"}], \"scattergl\": [{\"marker\": {\"colorbar\": {\"outlinewidth\": 0, \"ticks\": \"\"}}, \"type\": \"scattergl\"}], \"scattermapbox\": [{\"marker\": {\"colorbar\": {\"outlinewidth\": 0, \"ticks\": \"\"}}, \"type\": \"scattermapbox\"}], \"scatterpolar\": [{\"marker\": {\"colorbar\": {\"outlinewidth\": 0, \"ticks\": \"\"}}, \"type\": \"scatterpolar\"}], \"scatterpolargl\": [{\"marker\": {\"colorbar\": {\"outlinewidth\": 0, \"ticks\": \"\"}}, \"type\": \"scatterpolargl\"}], \"scatterternary\": [{\"marker\": {\"colorbar\": {\"outlinewidth\": 0, \"ticks\": \"\"}}, \"type\": \"scatterternary\"}], \"surface\": [{\"colorbar\": {\"outlinewidth\": 0, \"ticks\": \"\"}, \"colorscale\": [[0.0, \"#0d0887\"], [0.1111111111111111, \"#46039f\"], [0.2222222222222222, \"#7201a8\"], [0.3333333333333333, \"#9c179e\"], [0.4444444444444444, \"#bd3786\"], [0.5555555555555556, \"#d8576b\"], [0.6666666666666666, \"#ed7953\"], [0.7777777777777778, \"#fb9f3a\"], [0.8888888888888888, \"#fdca26\"], [1.0, \"#f0f921\"]], \"type\": \"surface\"}], \"table\": [{\"cells\": {\"fill\": {\"color\": \"#EBF0F8\"}, \"line\": {\"color\": \"white\"}}, \"header\": {\"fill\": {\"color\": \"#C8D4E3\"}, \"line\": {\"color\": \"white\"}}, \"type\": \"table\"}]}, \"layout\": {\"annotationdefaults\": {\"arrowcolor\": \"#2a3f5f\", \"arrowhead\": 0, \"arrowwidth\": 1}, \"autotypenumbers\": \"strict\", \"coloraxis\": {\"colorbar\": {\"outlinewidth\": 0, \"ticks\": \"\"}}, \"colorscale\": {\"diverging\": [[0, \"#8e0152\"], [0.1, \"#c51b7d\"], [0.2, \"#de77ae\"], [0.3, \"#f1b6da\"], [0.4, \"#fde0ef\"], [0.5, \"#f7f7f7\"], [0.6, \"#e6f5d0\"], [0.7, \"#b8e186\"], [0.8, \"#7fbc41\"], [0.9, \"#4d9221\"], [1, \"#276419\"]], \"sequential\": [[0.0, \"#0d0887\"], [0.1111111111111111, \"#46039f\"], [0.2222222222222222, \"#7201a8\"], [0.3333333333333333, \"#9c179e\"], [0.4444444444444444, \"#bd3786\"], [0.5555555555555556, \"#d8576b\"], [0.6666666666666666, \"#ed7953\"], [0.7777777777777778, \"#fb9f3a\"], [0.8888888888888888, \"#fdca26\"], [1.0, \"#f0f921\"]], \"sequentialminus\": [[0.0, \"#0d0887\"], [0.1111111111111111, \"#46039f\"], [0.2222222222222222, \"#7201a8\"], [0.3333333333333333, \"#9c179e\"], [0.4444444444444444, \"#bd3786\"], [0.5555555555555556, \"#d8576b\"], [0.6666666666666666, \"#ed7953\"], [0.7777777777777778, \"#fb9f3a\"], [0.8888888888888888, \"#fdca26\"], [1.0, \"#f0f921\"]]}, \"colorway\": [\"#636efa\", \"#EF553B\", \"#00cc96\", \"#ab63fa\", \"#FFA15A\", \"#19d3f3\", \"#FF6692\", \"#B6E880\", \"#FF97FF\", \"#FECB52\"], \"font\": {\"color\": \"#2a3f5f\"}, \"geo\": {\"bgcolor\": \"white\", \"lakecolor\": \"white\", \"landcolor\": \"#E5ECF6\", \"showlakes\": true, \"showland\": true, \"subunitcolor\": \"white\"}, \"hoverlabel\": {\"align\": \"left\"}, \"hovermode\": \"closest\", \"mapbox\": {\"style\": \"light\"}, \"paper_bgcolor\": \"white\", \"plot_bgcolor\": \"#E5ECF6\", \"polar\": {\"angularaxis\": {\"gridcolor\": \"white\", \"linecolor\": \"white\", \"ticks\": \"\"}, \"bgcolor\": \"#E5ECF6\", \"radialaxis\": {\"gridcolor\": \"white\", \"linecolor\": \"white\", \"ticks\": \"\"}}, \"scene\": {\"xaxis\": {\"backgroundcolor\": \"#E5ECF6\", \"gridcolor\": \"white\", \"gridwidth\": 2, \"linecolor\": \"white\", \"showbackground\": true, \"ticks\": \"\", \"zerolinecolor\": \"white\"}, \"yaxis\": {\"backgroundcolor\": \"#E5ECF6\", \"gridcolor\": \"white\", \"gridwidth\": 2, \"linecolor\": \"white\", \"showbackground\": true, \"ticks\": \"\", \"zerolinecolor\": \"white\"}, \"zaxis\": {\"backgroundcolor\": \"#E5ECF6\", \"gridcolor\": \"white\", \"gridwidth\": 2, \"linecolor\": \"white\", \"showbackground\": true, \"ticks\": \"\", \"zerolinecolor\": \"white\"}}, \"shapedefaults\": {\"line\": {\"color\": \"#2a3f5f\"}}, \"ternary\": {\"aaxis\": {\"gridcolor\": \"white\", \"linecolor\": \"white\", \"ticks\": \"\"}, \"baxis\": {\"gridcolor\": \"white\", \"linecolor\": \"white\", \"ticks\": \"\"}, \"bgcolor\": \"#E5ECF6\", \"caxis\": {\"gridcolor\": \"white\", \"linecolor\": \"white\", \"ticks\": \"\"}}, \"title\": {\"x\": 0.05}, \"xaxis\": {\"automargin\": true, \"gridcolor\": \"white\", \"linecolor\": \"white\", \"ticks\": \"\", \"title\": {\"standoff\": 15}, \"zerolinecolor\": \"white\", \"zerolinewidth\": 2}, \"yaxis\": {\"automargin\": true, \"gridcolor\": \"white\", \"linecolor\": \"white\", \"ticks\": \"\", \"title\": {\"standoff\": 15}, \"zerolinecolor\": \"white\", \"zerolinewidth\": 2}}}, \"title\": {\"font\": {\"color\": \"#4D5663\"}}, \"xaxis\": {\"gridcolor\": \"#E1E5ED\", \"showgrid\": true, \"tickfont\": {\"color\": \"#4D5663\"}, \"title\": {\"font\": {\"color\": \"#4D5663\"}, \"text\": \"Polarity\"}, \"zerolinecolor\": \"#E1E5ED\"}, \"yaxis\": {\"gridcolor\": \"#E1E5ED\", \"showgrid\": true, \"tickfont\": {\"color\": \"#4D5663\"}, \"title\": {\"font\": {\"color\": \"#4D5663\"}, \"text\": \"\"}, \"zerolinecolor\": \"#E1E5ED\"}},                        {\"showLink\": true, \"linkText\": \"Export to plot.ly\", \"plotlyServerURL\": \"https://plot.ly\", \"responsive\": true}                    ).then(function(){\n",
       "                            \n",
       "var gd = document.getElementById('ba0473df-e890-4007-be0c-d5429f97cc48');\n",
       "var x = new MutationObserver(function (mutations, observer) {{\n",
       "        var display = window.getComputedStyle(gd).display;\n",
       "        if (!display || display === 'none') {{\n",
       "            console.log([gd, 'removed!']);\n",
       "            Plotly.purge(gd);\n",
       "            observer.disconnect();\n",
       "        }}\n",
       "}});\n",
       "\n",
       "// Listen for the removal of the full notebook cells\n",
       "var notebookContainer = gd.closest('#notebook-container');\n",
       "if (notebookContainer) {{\n",
       "    x.observe(notebookContainer, {childList: true});\n",
       "}}\n",
       "\n",
       "// Listen for the clearing of the current output cell\n",
       "var outputEl = gd.closest('.output');\n",
       "if (outputEl) {{\n",
       "    x.observe(outputEl, {childList: true});\n",
       "}}\n",
       "\n",
       "                        })                };                });            </script>        </div>"
      ]
     },
     "metadata": {},
     "output_type": "display_data"
    }
   ],
   "source": [
    "df['Pros_polarity'].iplot(kind = 'hist', colors = 'red', bins = 50, xTitle = 'Polarity')\n",
    "df['Cons_polarity'].iplot(kind = 'hist', colors = 'red', bins = 50, xTitle = 'Polarity')"
   ]
  },
  {
   "cell_type": "markdown",
   "id": "d37c480e",
   "metadata": {},
   "source": [
    "### Distribution of Reviews, Ratings, and Reviewers Age"
   ]
  },
  {
   "cell_type": "code",
   "execution_count": 37,
   "id": "67e2df42",
   "metadata": {
    "scrolled": false
   },
   "outputs": [
    {
     "data": {
      "application/vnd.plotly.v1+json": {
       "config": {
        "linkText": "Export to plot.ly",
        "plotlyServerURL": "https://plot.ly",
        "showLink": true
       },
       "data": [
        {
         "histfunc": "count",
         "histnorm": "",
         "marker": {
          "color": "rgba(255, 153, 51, 1.0)",
          "line": {
           "color": "#4D5663",
           "width": 1.3
          }
         },
         "name": "Rating",
         "opacity": 0.8,
         "orientation": "v",
         "type": "histogram",
         "x": [
          4,
          5,
          4,
          3,
          3,
          1,
          1,
          4,
          5,
          1,
          5,
          4,
          1,
          5,
          1,
          2,
          1,
          1,
          1,
          4,
          1,
          5,
          4,
          2,
          1,
          2,
          5,
          1,
          5,
          5,
          1,
          1,
          1,
          5,
          4,
          3,
          5,
          4,
          5,
          5,
          4,
          5,
          3,
          5,
          3,
          4,
          5,
          4,
          3,
          5,
          4,
          5,
          5,
          2,
          4,
          5,
          4,
          5,
          5,
          4,
          4,
          4,
          3,
          5,
          4,
          2,
          4,
          4,
          4,
          4,
          5,
          3,
          4,
          2,
          3,
          5,
          3,
          4,
          5,
          5,
          5,
          4,
          1,
          4,
          4,
          4,
          4,
          2,
          4,
          4,
          5,
          4,
          3,
          2,
          5,
          3,
          3,
          4,
          5,
          5,
          5,
          1,
          3,
          3,
          3,
          4,
          3,
          3,
          3,
          1,
          1,
          4,
          4,
          4,
          4,
          1,
          5,
          5,
          5,
          4,
          5,
          4,
          4,
          5,
          3,
          3,
          5,
          3,
          3,
          5,
          5,
          5,
          4,
          5,
          4,
          5,
          4,
          4,
          4,
          5,
          5,
          4,
          4,
          4,
          4,
          5,
          4,
          3,
          4,
          3,
          5,
          2,
          2,
          2,
          4,
          5,
          3,
          5,
          4,
          4,
          4,
          4,
          4,
          3,
          5,
          3,
          1,
          4,
          5,
          3,
          3,
          5,
          2,
          2,
          4,
          4,
          5,
          3,
          5,
          4,
          3,
          4,
          4,
          4,
          4,
          5,
          4,
          3,
          4,
          3,
          5,
          3,
          4,
          2,
          3,
          3,
          5,
          5,
          2,
          5,
          4,
          5,
          4,
          4,
          5,
          5,
          4,
          3,
          5,
          3,
          5,
          5,
          3,
          2,
          4,
          5,
          1,
          4,
          4,
          2,
          5,
          4,
          4,
          4,
          3,
          1,
          4,
          3,
          3,
          1,
          2,
          2,
          3,
          2,
          2,
          5,
          4,
          3,
          5,
          4,
          4,
          1,
          4,
          5,
          2,
          4,
          4,
          2,
          4,
          4,
          5,
          3,
          4,
          1,
          1,
          4,
          5,
          4,
          4,
          4,
          4,
          5,
          4,
          3,
          4,
          5,
          5,
          5,
          4,
          3,
          4,
          5,
          3,
          4,
          3,
          2,
          5,
          3,
          4,
          3,
          1,
          4,
          3,
          5,
          5,
          5,
          2,
          3,
          4,
          4,
          4,
          3,
          4,
          4,
          4,
          4,
          5,
          4,
          4,
          3,
          4,
          4,
          4,
          4,
          3,
          3,
          5,
          2,
          5,
          4,
          4,
          4,
          3,
          4,
          4,
          3,
          4,
          4,
          4,
          3,
          3,
          3,
          2,
          5,
          2,
          1,
          4,
          3,
          3,
          4,
          2,
          4,
          1,
          5,
          3,
          5,
          3,
          5,
          4,
          4,
          4,
          4,
          5,
          2,
          2,
          1,
          2,
          4,
          1,
          4,
          4,
          3,
          1,
          4,
          1,
          1,
          4,
          5,
          5,
          5,
          5,
          3,
          5,
          4,
          5,
          4,
          5,
          3,
          4,
          4,
          4,
          1,
          5,
          4,
          4,
          5,
          4,
          5,
          4,
          5,
          5,
          1,
          4,
          4,
          4,
          5,
          3,
          4,
          4,
          4,
          3,
          1,
          4,
          1,
          1,
          4,
          4,
          5,
          5,
          3,
          5,
          2,
          3,
          4,
          4,
          4,
          3,
          4,
          2,
          1,
          2,
          3,
          3,
          4,
          4,
          4,
          3,
          4,
          5,
          5,
          5,
          5,
          5,
          5,
          5,
          1,
          2,
          2,
          5,
          4,
          4,
          4,
          4,
          4,
          4,
          4,
          3,
          2,
          3,
          4,
          3,
          4,
          1,
          4,
          4,
          1,
          5,
          4,
          3,
          1,
          5,
          4,
          1,
          1,
          5,
          1,
          3,
          2,
          2,
          3,
          3,
          4,
          3,
          3,
          1,
          3,
          2,
          4,
          3,
          3,
          3,
          3,
          5,
          1,
          5,
          4,
          4,
          4,
          1,
          3,
          4,
          4,
          3,
          3,
          5,
          5,
          4,
          4,
          3,
          3,
          3,
          2,
          3,
          3,
          4,
          4,
          3,
          3,
          4,
          1,
          5,
          5,
          1,
          3,
          3,
          3,
          1,
          1,
          3,
          3,
          1,
          3,
          2,
          1,
          3,
          3,
          2,
          5,
          5,
          4,
          5,
          5,
          5,
          3,
          5,
          5,
          5,
          4,
          5,
          3,
          5,
          4,
          4,
          4,
          4,
          2,
          5,
          4,
          4,
          4,
          4,
          4,
          5,
          3,
          5,
          1,
          2,
          5,
          4,
          5,
          4,
          5,
          4,
          4,
          5,
          5,
          5,
          5,
          5,
          4,
          4,
          4,
          4,
          4,
          4,
          4,
          5,
          4,
          5,
          4,
          3,
          3,
          2,
          3,
          2,
          3,
          3,
          2,
          1
         ]
        }
       ],
       "layout": {
        "barmode": "overlay",
        "legend": {
         "bgcolor": "#F5F6F9",
         "font": {
          "color": "#4D5663"
         }
        },
        "paper_bgcolor": "#F5F6F9",
        "plot_bgcolor": "#F5F6F9",
        "template": {
         "data": {
          "bar": [
           {
            "error_x": {
             "color": "#2a3f5f"
            },
            "error_y": {
             "color": "#2a3f5f"
            },
            "marker": {
             "line": {
              "color": "#E5ECF6",
              "width": 0.5
             }
            },
            "type": "bar"
           }
          ],
          "barpolar": [
           {
            "marker": {
             "line": {
              "color": "#E5ECF6",
              "width": 0.5
             }
            },
            "type": "barpolar"
           }
          ],
          "carpet": [
           {
            "aaxis": {
             "endlinecolor": "#2a3f5f",
             "gridcolor": "white",
             "linecolor": "white",
             "minorgridcolor": "white",
             "startlinecolor": "#2a3f5f"
            },
            "baxis": {
             "endlinecolor": "#2a3f5f",
             "gridcolor": "white",
             "linecolor": "white",
             "minorgridcolor": "white",
             "startlinecolor": "#2a3f5f"
            },
            "type": "carpet"
           }
          ],
          "choropleth": [
           {
            "colorbar": {
             "outlinewidth": 0,
             "ticks": ""
            },
            "type": "choropleth"
           }
          ],
          "contour": [
           {
            "colorbar": {
             "outlinewidth": 0,
             "ticks": ""
            },
            "colorscale": [
             [
              0,
              "#0d0887"
             ],
             [
              0.1111111111111111,
              "#46039f"
             ],
             [
              0.2222222222222222,
              "#7201a8"
             ],
             [
              0.3333333333333333,
              "#9c179e"
             ],
             [
              0.4444444444444444,
              "#bd3786"
             ],
             [
              0.5555555555555556,
              "#d8576b"
             ],
             [
              0.6666666666666666,
              "#ed7953"
             ],
             [
              0.7777777777777778,
              "#fb9f3a"
             ],
             [
              0.8888888888888888,
              "#fdca26"
             ],
             [
              1,
              "#f0f921"
             ]
            ],
            "type": "contour"
           }
          ],
          "contourcarpet": [
           {
            "colorbar": {
             "outlinewidth": 0,
             "ticks": ""
            },
            "type": "contourcarpet"
           }
          ],
          "heatmap": [
           {
            "colorbar": {
             "outlinewidth": 0,
             "ticks": ""
            },
            "colorscale": [
             [
              0,
              "#0d0887"
             ],
             [
              0.1111111111111111,
              "#46039f"
             ],
             [
              0.2222222222222222,
              "#7201a8"
             ],
             [
              0.3333333333333333,
              "#9c179e"
             ],
             [
              0.4444444444444444,
              "#bd3786"
             ],
             [
              0.5555555555555556,
              "#d8576b"
             ],
             [
              0.6666666666666666,
              "#ed7953"
             ],
             [
              0.7777777777777778,
              "#fb9f3a"
             ],
             [
              0.8888888888888888,
              "#fdca26"
             ],
             [
              1,
              "#f0f921"
             ]
            ],
            "type": "heatmap"
           }
          ],
          "heatmapgl": [
           {
            "colorbar": {
             "outlinewidth": 0,
             "ticks": ""
            },
            "colorscale": [
             [
              0,
              "#0d0887"
             ],
             [
              0.1111111111111111,
              "#46039f"
             ],
             [
              0.2222222222222222,
              "#7201a8"
             ],
             [
              0.3333333333333333,
              "#9c179e"
             ],
             [
              0.4444444444444444,
              "#bd3786"
             ],
             [
              0.5555555555555556,
              "#d8576b"
             ],
             [
              0.6666666666666666,
              "#ed7953"
             ],
             [
              0.7777777777777778,
              "#fb9f3a"
             ],
             [
              0.8888888888888888,
              "#fdca26"
             ],
             [
              1,
              "#f0f921"
             ]
            ],
            "type": "heatmapgl"
           }
          ],
          "histogram": [
           {
            "marker": {
             "colorbar": {
              "outlinewidth": 0,
              "ticks": ""
             }
            },
            "type": "histogram"
           }
          ],
          "histogram2d": [
           {
            "colorbar": {
             "outlinewidth": 0,
             "ticks": ""
            },
            "colorscale": [
             [
              0,
              "#0d0887"
             ],
             [
              0.1111111111111111,
              "#46039f"
             ],
             [
              0.2222222222222222,
              "#7201a8"
             ],
             [
              0.3333333333333333,
              "#9c179e"
             ],
             [
              0.4444444444444444,
              "#bd3786"
             ],
             [
              0.5555555555555556,
              "#d8576b"
             ],
             [
              0.6666666666666666,
              "#ed7953"
             ],
             [
              0.7777777777777778,
              "#fb9f3a"
             ],
             [
              0.8888888888888888,
              "#fdca26"
             ],
             [
              1,
              "#f0f921"
             ]
            ],
            "type": "histogram2d"
           }
          ],
          "histogram2dcontour": [
           {
            "colorbar": {
             "outlinewidth": 0,
             "ticks": ""
            },
            "colorscale": [
             [
              0,
              "#0d0887"
             ],
             [
              0.1111111111111111,
              "#46039f"
             ],
             [
              0.2222222222222222,
              "#7201a8"
             ],
             [
              0.3333333333333333,
              "#9c179e"
             ],
             [
              0.4444444444444444,
              "#bd3786"
             ],
             [
              0.5555555555555556,
              "#d8576b"
             ],
             [
              0.6666666666666666,
              "#ed7953"
             ],
             [
              0.7777777777777778,
              "#fb9f3a"
             ],
             [
              0.8888888888888888,
              "#fdca26"
             ],
             [
              1,
              "#f0f921"
             ]
            ],
            "type": "histogram2dcontour"
           }
          ],
          "mesh3d": [
           {
            "colorbar": {
             "outlinewidth": 0,
             "ticks": ""
            },
            "type": "mesh3d"
           }
          ],
          "parcoords": [
           {
            "line": {
             "colorbar": {
              "outlinewidth": 0,
              "ticks": ""
             }
            },
            "type": "parcoords"
           }
          ],
          "pie": [
           {
            "automargin": true,
            "type": "pie"
           }
          ],
          "scatter": [
           {
            "marker": {
             "colorbar": {
              "outlinewidth": 0,
              "ticks": ""
             }
            },
            "type": "scatter"
           }
          ],
          "scatter3d": [
           {
            "line": {
             "colorbar": {
              "outlinewidth": 0,
              "ticks": ""
             }
            },
            "marker": {
             "colorbar": {
              "outlinewidth": 0,
              "ticks": ""
             }
            },
            "type": "scatter3d"
           }
          ],
          "scattercarpet": [
           {
            "marker": {
             "colorbar": {
              "outlinewidth": 0,
              "ticks": ""
             }
            },
            "type": "scattercarpet"
           }
          ],
          "scattergeo": [
           {
            "marker": {
             "colorbar": {
              "outlinewidth": 0,
              "ticks": ""
             }
            },
            "type": "scattergeo"
           }
          ],
          "scattergl": [
           {
            "marker": {
             "colorbar": {
              "outlinewidth": 0,
              "ticks": ""
             }
            },
            "type": "scattergl"
           }
          ],
          "scattermapbox": [
           {
            "marker": {
             "colorbar": {
              "outlinewidth": 0,
              "ticks": ""
             }
            },
            "type": "scattermapbox"
           }
          ],
          "scatterpolar": [
           {
            "marker": {
             "colorbar": {
              "outlinewidth": 0,
              "ticks": ""
             }
            },
            "type": "scatterpolar"
           }
          ],
          "scatterpolargl": [
           {
            "marker": {
             "colorbar": {
              "outlinewidth": 0,
              "ticks": ""
             }
            },
            "type": "scatterpolargl"
           }
          ],
          "scatterternary": [
           {
            "marker": {
             "colorbar": {
              "outlinewidth": 0,
              "ticks": ""
             }
            },
            "type": "scatterternary"
           }
          ],
          "surface": [
           {
            "colorbar": {
             "outlinewidth": 0,
             "ticks": ""
            },
            "colorscale": [
             [
              0,
              "#0d0887"
             ],
             [
              0.1111111111111111,
              "#46039f"
             ],
             [
              0.2222222222222222,
              "#7201a8"
             ],
             [
              0.3333333333333333,
              "#9c179e"
             ],
             [
              0.4444444444444444,
              "#bd3786"
             ],
             [
              0.5555555555555556,
              "#d8576b"
             ],
             [
              0.6666666666666666,
              "#ed7953"
             ],
             [
              0.7777777777777778,
              "#fb9f3a"
             ],
             [
              0.8888888888888888,
              "#fdca26"
             ],
             [
              1,
              "#f0f921"
             ]
            ],
            "type": "surface"
           }
          ],
          "table": [
           {
            "cells": {
             "fill": {
              "color": "#EBF0F8"
             },
             "line": {
              "color": "white"
             }
            },
            "header": {
             "fill": {
              "color": "#C8D4E3"
             },
             "line": {
              "color": "white"
             }
            },
            "type": "table"
           }
          ]
         },
         "layout": {
          "annotationdefaults": {
           "arrowcolor": "#2a3f5f",
           "arrowhead": 0,
           "arrowwidth": 1
          },
          "autotypenumbers": "strict",
          "coloraxis": {
           "colorbar": {
            "outlinewidth": 0,
            "ticks": ""
           }
          },
          "colorscale": {
           "diverging": [
            [
             0,
             "#8e0152"
            ],
            [
             0.1,
             "#c51b7d"
            ],
            [
             0.2,
             "#de77ae"
            ],
            [
             0.3,
             "#f1b6da"
            ],
            [
             0.4,
             "#fde0ef"
            ],
            [
             0.5,
             "#f7f7f7"
            ],
            [
             0.6,
             "#e6f5d0"
            ],
            [
             0.7,
             "#b8e186"
            ],
            [
             0.8,
             "#7fbc41"
            ],
            [
             0.9,
             "#4d9221"
            ],
            [
             1,
             "#276419"
            ]
           ],
           "sequential": [
            [
             0,
             "#0d0887"
            ],
            [
             0.1111111111111111,
             "#46039f"
            ],
            [
             0.2222222222222222,
             "#7201a8"
            ],
            [
             0.3333333333333333,
             "#9c179e"
            ],
            [
             0.4444444444444444,
             "#bd3786"
            ],
            [
             0.5555555555555556,
             "#d8576b"
            ],
            [
             0.6666666666666666,
             "#ed7953"
            ],
            [
             0.7777777777777778,
             "#fb9f3a"
            ],
            [
             0.8888888888888888,
             "#fdca26"
            ],
            [
             1,
             "#f0f921"
            ]
           ],
           "sequentialminus": [
            [
             0,
             "#0d0887"
            ],
            [
             0.1111111111111111,
             "#46039f"
            ],
            [
             0.2222222222222222,
             "#7201a8"
            ],
            [
             0.3333333333333333,
             "#9c179e"
            ],
            [
             0.4444444444444444,
             "#bd3786"
            ],
            [
             0.5555555555555556,
             "#d8576b"
            ],
            [
             0.6666666666666666,
             "#ed7953"
            ],
            [
             0.7777777777777778,
             "#fb9f3a"
            ],
            [
             0.8888888888888888,
             "#fdca26"
            ],
            [
             1,
             "#f0f921"
            ]
           ]
          },
          "colorway": [
           "#636efa",
           "#EF553B",
           "#00cc96",
           "#ab63fa",
           "#FFA15A",
           "#19d3f3",
           "#FF6692",
           "#B6E880",
           "#FF97FF",
           "#FECB52"
          ],
          "font": {
           "color": "#2a3f5f"
          },
          "geo": {
           "bgcolor": "white",
           "lakecolor": "white",
           "landcolor": "#E5ECF6",
           "showlakes": true,
           "showland": true,
           "subunitcolor": "white"
          },
          "hoverlabel": {
           "align": "left"
          },
          "hovermode": "closest",
          "mapbox": {
           "style": "light"
          },
          "paper_bgcolor": "white",
          "plot_bgcolor": "#E5ECF6",
          "polar": {
           "angularaxis": {
            "gridcolor": "white",
            "linecolor": "white",
            "ticks": ""
           },
           "bgcolor": "#E5ECF6",
           "radialaxis": {
            "gridcolor": "white",
            "linecolor": "white",
            "ticks": ""
           }
          },
          "scene": {
           "xaxis": {
            "backgroundcolor": "#E5ECF6",
            "gridcolor": "white",
            "gridwidth": 2,
            "linecolor": "white",
            "showbackground": true,
            "ticks": "",
            "zerolinecolor": "white"
           },
           "yaxis": {
            "backgroundcolor": "#E5ECF6",
            "gridcolor": "white",
            "gridwidth": 2,
            "linecolor": "white",
            "showbackground": true,
            "ticks": "",
            "zerolinecolor": "white"
           },
           "zaxis": {
            "backgroundcolor": "#E5ECF6",
            "gridcolor": "white",
            "gridwidth": 2,
            "linecolor": "white",
            "showbackground": true,
            "ticks": "",
            "zerolinecolor": "white"
           }
          },
          "shapedefaults": {
           "line": {
            "color": "#2a3f5f"
           }
          },
          "ternary": {
           "aaxis": {
            "gridcolor": "white",
            "linecolor": "white",
            "ticks": ""
           },
           "baxis": {
            "gridcolor": "white",
            "linecolor": "white",
            "ticks": ""
           },
           "bgcolor": "#E5ECF6",
           "caxis": {
            "gridcolor": "white",
            "linecolor": "white",
            "ticks": ""
           }
          },
          "title": {
           "x": 0.05
          },
          "xaxis": {
           "automargin": true,
           "gridcolor": "white",
           "linecolor": "white",
           "ticks": "",
           "title": {
            "standoff": 15
           },
           "zerolinecolor": "white",
           "zerolinewidth": 2
          },
          "yaxis": {
           "automargin": true,
           "gridcolor": "white",
           "linecolor": "white",
           "ticks": "",
           "title": {
            "standoff": 15
           },
           "zerolinecolor": "white",
           "zerolinewidth": 2
          }
         }
        },
        "title": {
         "font": {
          "color": "#4D5663"
         },
         "text": "Review Rating Distribution"
        },
        "xaxis": {
         "gridcolor": "#E1E5ED",
         "showgrid": true,
         "tickfont": {
          "color": "#4D5663"
         },
         "title": {
          "font": {
           "color": "#4D5663"
          },
          "text": "Rating"
         },
         "zerolinecolor": "#E1E5ED"
        },
        "yaxis": {
         "gridcolor": "#E1E5ED",
         "showgrid": true,
         "tickfont": {
          "color": "#4D5663"
         },
         "title": {
          "font": {
           "color": "#4D5663"
          },
          "text": "Count"
         },
         "zerolinecolor": "#E1E5ED"
        }
       }
      },
      "text/html": [
       "<div>                            <div id=\"fcf87bcc-65f5-40e5-8d33-e1b3a6ee7af5\" class=\"plotly-graph-div\" style=\"height:525px; width:100%;\"></div>            <script type=\"text/javascript\">                require([\"plotly\"], function(Plotly) {                    window.PLOTLYENV=window.PLOTLYENV || {};\n",
       "                    window.PLOTLYENV.BASE_URL='https://plot.ly';                                    if (document.getElementById(\"fcf87bcc-65f5-40e5-8d33-e1b3a6ee7af5\")) {                    Plotly.newPlot(                        \"fcf87bcc-65f5-40e5-8d33-e1b3a6ee7af5\",                        [{\"histfunc\": \"count\", \"histnorm\": \"\", \"marker\": {\"color\": \"rgba(255, 153, 51, 1.0)\", \"line\": {\"color\": \"#4D5663\", \"width\": 1.3}}, \"name\": \"Rating\", \"opacity\": 0.8, \"orientation\": \"v\", \"type\": \"histogram\", \"x\": [4, 5, 4, 3, 3, 1, 1, 4, 5, 1, 5, 4, 1, 5, 1, 2, 1, 1, 1, 4, 1, 5, 4, 2, 1, 2, 5, 1, 5, 5, 1, 1, 1, 5, 4, 3, 5, 4, 5, 5, 4, 5, 3, 5, 3, 4, 5, 4, 3, 5, 4, 5, 5, 2, 4, 5, 4, 5, 5, 4, 4, 4, 3, 5, 4, 2, 4, 4, 4, 4, 5, 3, 4, 2, 3, 5, 3, 4, 5, 5, 5, 4, 1, 4, 4, 4, 4, 2, 4, 4, 5, 4, 3, 2, 5, 3, 3, 4, 5, 5, 5, 1, 3, 3, 3, 4, 3, 3, 3, 1, 1, 4, 4, 4, 4, 1, 5, 5, 5, 4, 5, 4, 4, 5, 3, 3, 5, 3, 3, 5, 5, 5, 4, 5, 4, 5, 4, 4, 4, 5, 5, 4, 4, 4, 4, 5, 4, 3, 4, 3, 5, 2, 2, 2, 4, 5, 3, 5, 4, 4, 4, 4, 4, 3, 5, 3, 1, 4, 5, 3, 3, 5, 2, 2, 4, 4, 5, 3, 5, 4, 3, 4, 4, 4, 4, 5, 4, 3, 4, 3, 5, 3, 4, 2, 3, 3, 5, 5, 2, 5, 4, 5, 4, 4, 5, 5, 4, 3, 5, 3, 5, 5, 3, 2, 4, 5, 1, 4, 4, 2, 5, 4, 4, 4, 3, 1, 4, 3, 3, 1, 2, 2, 3, 2, 2, 5, 4, 3, 5, 4, 4, 1, 4, 5, 2, 4, 4, 2, 4, 4, 5, 3, 4, 1, 1, 4, 5, 4, 4, 4, 4, 5, 4, 3, 4, 5, 5, 5, 4, 3, 4, 5, 3, 4, 3, 2, 5, 3, 4, 3, 1, 4, 3, 5, 5, 5, 2, 3, 4, 4, 4, 3, 4, 4, 4, 4, 5, 4, 4, 3, 4, 4, 4, 4, 3, 3, 5, 2, 5, 4, 4, 4, 3, 4, 4, 3, 4, 4, 4, 3, 3, 3, 2, 5, 2, 1, 4, 3, 3, 4, 2, 4, 1, 5, 3, 5, 3, 5, 4, 4, 4, 4, 5, 2, 2, 1, 2, 4, 1, 4, 4, 3, 1, 4, 1, 1, 4, 5, 5, 5, 5, 3, 5, 4, 5, 4, 5, 3, 4, 4, 4, 1, 5, 4, 4, 5, 4, 5, 4, 5, 5, 1, 4, 4, 4, 5, 3, 4, 4, 4, 3, 1, 4, 1, 1, 4, 4, 5, 5, 3, 5, 2, 3, 4, 4, 4, 3, 4, 2, 1, 2, 3, 3, 4, 4, 4, 3, 4, 5, 5, 5, 5, 5, 5, 5, 1, 2, 2, 5, 4, 4, 4, 4, 4, 4, 4, 3, 2, 3, 4, 3, 4, 1, 4, 4, 1, 5, 4, 3, 1, 5, 4, 1, 1, 5, 1, 3, 2, 2, 3, 3, 4, 3, 3, 1, 3, 2, 4, 3, 3, 3, 3, 5, 1, 5, 4, 4, 4, 1, 3, 4, 4, 3, 3, 5, 5, 4, 4, 3, 3, 3, 2, 3, 3, 4, 4, 3, 3, 4, 1, 5, 5, 1, 3, 3, 3, 1, 1, 3, 3, 1, 3, 2, 1, 3, 3, 2, 5, 5, 4, 5, 5, 5, 3, 5, 5, 5, 4, 5, 3, 5, 4, 4, 4, 4, 2, 5, 4, 4, 4, 4, 4, 5, 3, 5, 1, 2, 5, 4, 5, 4, 5, 4, 4, 5, 5, 5, 5, 5, 4, 4, 4, 4, 4, 4, 4, 5, 4, 5, 4, 3, 3, 2, 3, 2, 3, 3, 2, 1]}],                        {\"barmode\": \"overlay\", \"legend\": {\"bgcolor\": \"#F5F6F9\", \"font\": {\"color\": \"#4D5663\"}}, \"paper_bgcolor\": \"#F5F6F9\", \"plot_bgcolor\": \"#F5F6F9\", \"template\": {\"data\": {\"bar\": [{\"error_x\": {\"color\": \"#2a3f5f\"}, \"error_y\": {\"color\": \"#2a3f5f\"}, \"marker\": {\"line\": {\"color\": \"#E5ECF6\", \"width\": 0.5}}, \"type\": \"bar\"}], \"barpolar\": [{\"marker\": {\"line\": {\"color\": \"#E5ECF6\", \"width\": 0.5}}, \"type\": \"barpolar\"}], \"carpet\": [{\"aaxis\": {\"endlinecolor\": \"#2a3f5f\", \"gridcolor\": \"white\", \"linecolor\": \"white\", \"minorgridcolor\": \"white\", \"startlinecolor\": \"#2a3f5f\"}, \"baxis\": {\"endlinecolor\": \"#2a3f5f\", \"gridcolor\": \"white\", \"linecolor\": \"white\", \"minorgridcolor\": \"white\", \"startlinecolor\": \"#2a3f5f\"}, \"type\": \"carpet\"}], \"choropleth\": [{\"colorbar\": {\"outlinewidth\": 0, \"ticks\": \"\"}, \"type\": \"choropleth\"}], \"contour\": [{\"colorbar\": {\"outlinewidth\": 0, \"ticks\": \"\"}, \"colorscale\": [[0.0, \"#0d0887\"], [0.1111111111111111, \"#46039f\"], [0.2222222222222222, \"#7201a8\"], [0.3333333333333333, \"#9c179e\"], [0.4444444444444444, \"#bd3786\"], [0.5555555555555556, \"#d8576b\"], [0.6666666666666666, \"#ed7953\"], [0.7777777777777778, \"#fb9f3a\"], [0.8888888888888888, \"#fdca26\"], [1.0, \"#f0f921\"]], \"type\": \"contour\"}], \"contourcarpet\": [{\"colorbar\": {\"outlinewidth\": 0, \"ticks\": \"\"}, \"type\": \"contourcarpet\"}], \"heatmap\": [{\"colorbar\": {\"outlinewidth\": 0, \"ticks\": \"\"}, \"colorscale\": [[0.0, \"#0d0887\"], [0.1111111111111111, \"#46039f\"], [0.2222222222222222, \"#7201a8\"], [0.3333333333333333, \"#9c179e\"], [0.4444444444444444, \"#bd3786\"], [0.5555555555555556, \"#d8576b\"], [0.6666666666666666, \"#ed7953\"], [0.7777777777777778, \"#fb9f3a\"], [0.8888888888888888, \"#fdca26\"], [1.0, \"#f0f921\"]], \"type\": \"heatmap\"}], \"heatmapgl\": [{\"colorbar\": {\"outlinewidth\": 0, \"ticks\": \"\"}, \"colorscale\": [[0.0, \"#0d0887\"], [0.1111111111111111, \"#46039f\"], [0.2222222222222222, \"#7201a8\"], [0.3333333333333333, \"#9c179e\"], [0.4444444444444444, \"#bd3786\"], [0.5555555555555556, \"#d8576b\"], [0.6666666666666666, \"#ed7953\"], [0.7777777777777778, \"#fb9f3a\"], [0.8888888888888888, \"#fdca26\"], [1.0, \"#f0f921\"]], \"type\": \"heatmapgl\"}], \"histogram\": [{\"marker\": {\"colorbar\": {\"outlinewidth\": 0, \"ticks\": \"\"}}, \"type\": \"histogram\"}], \"histogram2d\": [{\"colorbar\": {\"outlinewidth\": 0, \"ticks\": \"\"}, \"colorscale\": [[0.0, \"#0d0887\"], [0.1111111111111111, \"#46039f\"], [0.2222222222222222, \"#7201a8\"], [0.3333333333333333, \"#9c179e\"], [0.4444444444444444, \"#bd3786\"], [0.5555555555555556, \"#d8576b\"], [0.6666666666666666, \"#ed7953\"], [0.7777777777777778, \"#fb9f3a\"], [0.8888888888888888, \"#fdca26\"], [1.0, \"#f0f921\"]], \"type\": \"histogram2d\"}], \"histogram2dcontour\": [{\"colorbar\": {\"outlinewidth\": 0, \"ticks\": \"\"}, \"colorscale\": [[0.0, \"#0d0887\"], [0.1111111111111111, \"#46039f\"], [0.2222222222222222, \"#7201a8\"], [0.3333333333333333, \"#9c179e\"], [0.4444444444444444, \"#bd3786\"], [0.5555555555555556, \"#d8576b\"], [0.6666666666666666, \"#ed7953\"], [0.7777777777777778, \"#fb9f3a\"], [0.8888888888888888, \"#fdca26\"], [1.0, \"#f0f921\"]], \"type\": \"histogram2dcontour\"}], \"mesh3d\": [{\"colorbar\": {\"outlinewidth\": 0, \"ticks\": \"\"}, \"type\": \"mesh3d\"}], \"parcoords\": [{\"line\": {\"colorbar\": {\"outlinewidth\": 0, \"ticks\": \"\"}}, \"type\": \"parcoords\"}], \"pie\": [{\"automargin\": true, \"type\": \"pie\"}], \"scatter\": [{\"marker\": {\"colorbar\": {\"outlinewidth\": 0, \"ticks\": \"\"}}, \"type\": \"scatter\"}], \"scatter3d\": [{\"line\": {\"colorbar\": {\"outlinewidth\": 0, \"ticks\": \"\"}}, \"marker\": {\"colorbar\": {\"outlinewidth\": 0, \"ticks\": \"\"}}, \"type\": \"scatter3d\"}], \"scattercarpet\": [{\"marker\": {\"colorbar\": {\"outlinewidth\": 0, \"ticks\": \"\"}}, \"type\": \"scattercarpet\"}], \"scattergeo\": [{\"marker\": {\"colorbar\": {\"outlinewidth\": 0, \"ticks\": \"\"}}, \"type\": \"scattergeo\"}], \"scattergl\": [{\"marker\": {\"colorbar\": {\"outlinewidth\": 0, \"ticks\": \"\"}}, \"type\": \"scattergl\"}], \"scattermapbox\": [{\"marker\": {\"colorbar\": {\"outlinewidth\": 0, \"ticks\": \"\"}}, \"type\": \"scattermapbox\"}], \"scatterpolar\": [{\"marker\": {\"colorbar\": {\"outlinewidth\": 0, \"ticks\": \"\"}}, \"type\": \"scatterpolar\"}], \"scatterpolargl\": [{\"marker\": {\"colorbar\": {\"outlinewidth\": 0, \"ticks\": \"\"}}, \"type\": \"scatterpolargl\"}], \"scatterternary\": [{\"marker\": {\"colorbar\": {\"outlinewidth\": 0, \"ticks\": \"\"}}, \"type\": \"scatterternary\"}], \"surface\": [{\"colorbar\": {\"outlinewidth\": 0, \"ticks\": \"\"}, \"colorscale\": [[0.0, \"#0d0887\"], [0.1111111111111111, \"#46039f\"], [0.2222222222222222, \"#7201a8\"], [0.3333333333333333, \"#9c179e\"], [0.4444444444444444, \"#bd3786\"], [0.5555555555555556, \"#d8576b\"], [0.6666666666666666, \"#ed7953\"], [0.7777777777777778, \"#fb9f3a\"], [0.8888888888888888, \"#fdca26\"], [1.0, \"#f0f921\"]], \"type\": \"surface\"}], \"table\": [{\"cells\": {\"fill\": {\"color\": \"#EBF0F8\"}, \"line\": {\"color\": \"white\"}}, \"header\": {\"fill\": {\"color\": \"#C8D4E3\"}, \"line\": {\"color\": \"white\"}}, \"type\": \"table\"}]}, \"layout\": {\"annotationdefaults\": {\"arrowcolor\": \"#2a3f5f\", \"arrowhead\": 0, \"arrowwidth\": 1}, \"autotypenumbers\": \"strict\", \"coloraxis\": {\"colorbar\": {\"outlinewidth\": 0, \"ticks\": \"\"}}, \"colorscale\": {\"diverging\": [[0, \"#8e0152\"], [0.1, \"#c51b7d\"], [0.2, \"#de77ae\"], [0.3, \"#f1b6da\"], [0.4, \"#fde0ef\"], [0.5, \"#f7f7f7\"], [0.6, \"#e6f5d0\"], [0.7, \"#b8e186\"], [0.8, \"#7fbc41\"], [0.9, \"#4d9221\"], [1, \"#276419\"]], \"sequential\": [[0.0, \"#0d0887\"], [0.1111111111111111, \"#46039f\"], [0.2222222222222222, \"#7201a8\"], [0.3333333333333333, \"#9c179e\"], [0.4444444444444444, \"#bd3786\"], [0.5555555555555556, \"#d8576b\"], [0.6666666666666666, \"#ed7953\"], [0.7777777777777778, \"#fb9f3a\"], [0.8888888888888888, \"#fdca26\"], [1.0, \"#f0f921\"]], \"sequentialminus\": [[0.0, \"#0d0887\"], [0.1111111111111111, \"#46039f\"], [0.2222222222222222, \"#7201a8\"], [0.3333333333333333, \"#9c179e\"], [0.4444444444444444, \"#bd3786\"], [0.5555555555555556, \"#d8576b\"], [0.6666666666666666, \"#ed7953\"], [0.7777777777777778, \"#fb9f3a\"], [0.8888888888888888, \"#fdca26\"], [1.0, \"#f0f921\"]]}, \"colorway\": [\"#636efa\", \"#EF553B\", \"#00cc96\", \"#ab63fa\", \"#FFA15A\", \"#19d3f3\", \"#FF6692\", \"#B6E880\", \"#FF97FF\", \"#FECB52\"], \"font\": {\"color\": \"#2a3f5f\"}, \"geo\": {\"bgcolor\": \"white\", \"lakecolor\": \"white\", \"landcolor\": \"#E5ECF6\", \"showlakes\": true, \"showland\": true, \"subunitcolor\": \"white\"}, \"hoverlabel\": {\"align\": \"left\"}, \"hovermode\": \"closest\", \"mapbox\": {\"style\": \"light\"}, \"paper_bgcolor\": \"white\", \"plot_bgcolor\": \"#E5ECF6\", \"polar\": {\"angularaxis\": {\"gridcolor\": \"white\", \"linecolor\": \"white\", \"ticks\": \"\"}, \"bgcolor\": \"#E5ECF6\", \"radialaxis\": {\"gridcolor\": \"white\", \"linecolor\": \"white\", \"ticks\": \"\"}}, \"scene\": {\"xaxis\": {\"backgroundcolor\": \"#E5ECF6\", \"gridcolor\": \"white\", \"gridwidth\": 2, \"linecolor\": \"white\", \"showbackground\": true, \"ticks\": \"\", \"zerolinecolor\": \"white\"}, \"yaxis\": {\"backgroundcolor\": \"#E5ECF6\", \"gridcolor\": \"white\", \"gridwidth\": 2, \"linecolor\": \"white\", \"showbackground\": true, \"ticks\": \"\", \"zerolinecolor\": \"white\"}, \"zaxis\": {\"backgroundcolor\": \"#E5ECF6\", \"gridcolor\": \"white\", \"gridwidth\": 2, \"linecolor\": \"white\", \"showbackground\": true, \"ticks\": \"\", \"zerolinecolor\": \"white\"}}, \"shapedefaults\": {\"line\": {\"color\": \"#2a3f5f\"}}, \"ternary\": {\"aaxis\": {\"gridcolor\": \"white\", \"linecolor\": \"white\", \"ticks\": \"\"}, \"baxis\": {\"gridcolor\": \"white\", \"linecolor\": \"white\", \"ticks\": \"\"}, \"bgcolor\": \"#E5ECF6\", \"caxis\": {\"gridcolor\": \"white\", \"linecolor\": \"white\", \"ticks\": \"\"}}, \"title\": {\"x\": 0.05}, \"xaxis\": {\"automargin\": true, \"gridcolor\": \"white\", \"linecolor\": \"white\", \"ticks\": \"\", \"title\": {\"standoff\": 15}, \"zerolinecolor\": \"white\", \"zerolinewidth\": 2}, \"yaxis\": {\"automargin\": true, \"gridcolor\": \"white\", \"linecolor\": \"white\", \"ticks\": \"\", \"title\": {\"standoff\": 15}, \"zerolinecolor\": \"white\", \"zerolinewidth\": 2}}}, \"title\": {\"font\": {\"color\": \"#4D5663\"}, \"text\": \"Review Rating Distribution\"}, \"xaxis\": {\"gridcolor\": \"#E1E5ED\", \"showgrid\": true, \"tickfont\": {\"color\": \"#4D5663\"}, \"title\": {\"font\": {\"color\": \"#4D5663\"}, \"text\": \"Rating\"}, \"zerolinecolor\": \"#E1E5ED\"}, \"yaxis\": {\"gridcolor\": \"#E1E5ED\", \"showgrid\": true, \"tickfont\": {\"color\": \"#4D5663\"}, \"title\": {\"font\": {\"color\": \"#4D5663\"}, \"text\": \"Count\"}, \"zerolinecolor\": \"#E1E5ED\"}},                        {\"showLink\": true, \"linkText\": \"Export to plot.ly\", \"plotlyServerURL\": \"https://plot.ly\", \"responsive\": true}                    ).then(function(){\n",
       "                            \n",
       "var gd = document.getElementById('fcf87bcc-65f5-40e5-8d33-e1b3a6ee7af5');\n",
       "var x = new MutationObserver(function (mutations, observer) {{\n",
       "        var display = window.getComputedStyle(gd).display;\n",
       "        if (!display || display === 'none') {{\n",
       "            console.log([gd, 'removed!']);\n",
       "            Plotly.purge(gd);\n",
       "            observer.disconnect();\n",
       "        }}\n",
       "}});\n",
       "\n",
       "// Listen for the removal of the full notebook cells\n",
       "var notebookContainer = gd.closest('#notebook-container');\n",
       "if (notebookContainer) {{\n",
       "    x.observe(notebookContainer, {childList: true});\n",
       "}}\n",
       "\n",
       "// Listen for the clearing of the current output cell\n",
       "var outputEl = gd.closest('.output');\n",
       "if (outputEl) {{\n",
       "    x.observe(outputEl, {childList: true});\n",
       "}}\n",
       "\n",
       "                        })                };                });            </script>        </div>"
      ]
     },
     "metadata": {},
     "output_type": "display_data"
    }
   ],
   "source": [
    "df['Rating'].iplot(kind = 'hist', xTitle = 'Rating', yTitle = 'Count', title = 'Review Rating Distribution')"
   ]
  },
  {
   "cell_type": "code",
   "execution_count": 43,
   "id": "690e803a",
   "metadata": {},
   "outputs": [
    {
     "data": {
      "application/vnd.plotly.v1+json": {
       "config": {
        "linkText": "Export to plot.ly",
        "plotlyServerURL": "https://plot.ly",
        "showLink": true
       },
       "data": [
        {
         "histfunc": "count",
         "histnorm": "",
         "marker": {
          "color": "rgba(219, 64, 82, 1.0)",
          "line": {
           "color": "#4D5663",
           "width": 1.3
          }
         },
         "name": "Rating",
         "opacity": 0.8,
         "orientation": "v",
         "type": "histogram",
         "x": [
          4,
          5,
          4,
          3,
          3,
          1,
          1,
          4,
          5,
          1,
          5,
          4,
          1,
          5,
          1,
          2,
          1,
          1,
          1,
          4,
          1,
          5,
          4,
          2,
          1,
          2,
          5,
          1,
          5,
          5,
          1,
          1,
          1,
          5,
          4,
          3,
          5,
          4,
          5,
          5,
          4,
          5,
          3,
          5,
          3,
          4,
          5,
          4,
          3,
          5,
          4,
          5,
          5,
          2,
          4,
          5,
          4,
          5,
          5,
          4,
          4,
          4,
          3,
          5,
          4,
          2,
          4,
          4,
          4,
          4,
          5,
          3,
          4,
          2,
          3,
          5,
          3,
          4,
          5,
          5,
          5,
          4,
          1,
          4,
          4,
          4,
          4,
          2,
          4,
          4,
          5,
          4,
          3,
          2,
          5,
          3,
          3,
          4,
          5,
          5,
          5,
          1,
          3,
          3,
          3,
          4,
          3,
          3,
          3,
          1,
          1,
          4,
          4,
          4,
          4,
          1,
          5,
          5,
          5,
          4,
          5,
          4,
          4,
          5,
          3,
          3,
          5,
          3,
          3,
          5,
          5,
          5,
          4,
          5,
          4,
          5,
          4,
          4,
          4,
          5,
          5,
          4,
          4,
          4,
          4,
          5,
          4,
          3,
          4,
          3,
          5,
          2,
          2,
          2,
          4,
          5,
          3,
          5,
          4,
          4,
          4,
          4,
          4,
          3,
          5,
          3,
          1,
          4,
          5,
          3,
          3,
          5,
          2,
          2,
          4,
          4,
          5,
          3,
          5,
          4,
          3,
          4,
          4,
          4,
          4,
          5,
          4,
          3,
          4,
          3,
          5,
          3,
          4,
          2,
          3,
          3,
          5,
          5,
          2,
          5,
          4,
          5,
          4,
          4,
          5,
          5,
          4,
          3,
          5,
          3,
          5,
          5,
          3,
          2,
          4,
          5,
          1,
          4,
          4,
          2,
          5,
          4,
          4,
          4,
          3,
          1,
          4,
          3,
          3,
          1,
          2,
          2,
          3,
          2,
          2,
          5,
          4,
          3,
          5,
          4,
          4,
          1,
          4,
          5,
          2,
          4,
          4,
          2,
          4,
          4,
          5,
          3,
          4,
          1,
          1,
          4,
          5,
          4,
          4,
          4,
          4,
          5,
          4,
          3,
          4,
          5,
          5,
          5,
          4,
          3,
          4,
          5,
          3,
          4,
          3,
          2,
          5,
          3,
          4,
          3,
          1,
          4,
          3,
          5,
          5,
          5,
          2,
          3,
          4,
          4,
          4,
          3,
          4,
          4,
          4,
          4,
          5,
          4,
          4,
          3,
          4,
          4,
          4,
          4,
          3,
          3,
          5,
          2,
          5,
          4,
          4,
          4,
          3,
          4,
          4,
          3,
          4,
          4,
          4,
          3,
          3,
          3,
          2,
          5,
          2,
          1,
          4,
          3,
          3,
          4,
          2,
          4,
          1,
          5,
          3,
          5,
          3,
          5,
          4,
          4,
          4,
          4,
          5,
          2,
          2,
          1,
          2,
          4,
          1,
          4,
          4,
          3,
          1,
          4,
          1,
          1,
          4,
          5,
          5,
          5,
          5,
          3,
          5,
          4,
          5,
          4,
          5,
          3,
          4,
          4,
          4,
          1,
          5,
          4,
          4,
          5,
          4,
          5,
          4,
          5,
          5,
          1,
          4,
          4,
          4,
          5,
          3,
          4,
          4,
          4,
          3,
          1,
          4,
          1,
          1,
          4,
          4,
          5,
          5,
          3,
          5,
          2,
          3,
          4,
          4,
          4,
          3,
          4,
          2,
          1,
          2,
          3,
          3,
          4,
          4,
          4,
          3,
          4,
          5,
          5,
          5,
          5,
          5,
          5,
          5,
          1,
          2,
          2,
          5,
          4,
          4,
          4,
          4,
          4,
          4,
          4,
          3,
          2,
          3,
          4,
          3,
          4,
          1,
          4,
          4,
          1,
          5,
          4,
          3,
          1,
          5,
          4,
          1,
          1,
          5,
          1,
          3,
          2,
          2,
          3,
          3,
          4,
          3,
          3,
          1,
          3,
          2,
          4,
          3,
          3,
          3,
          3,
          5,
          1,
          5,
          4,
          4,
          4,
          1,
          3,
          4,
          4,
          3,
          3,
          5,
          5,
          4,
          4,
          3,
          3,
          3,
          2,
          3,
          3,
          4,
          4,
          3,
          3,
          4,
          1,
          5,
          5,
          1,
          3,
          3,
          3,
          1,
          1,
          3,
          3,
          1,
          3,
          2,
          1,
          3,
          3,
          2,
          5,
          5,
          4,
          5,
          5,
          5,
          3,
          5,
          5,
          5,
          4,
          5,
          3,
          5,
          4,
          4,
          4,
          4,
          2,
          5,
          4,
          4,
          4,
          4,
          4,
          5,
          3,
          5,
          1,
          2,
          5,
          4,
          5,
          4,
          5,
          4,
          4,
          5,
          5,
          5,
          5,
          5,
          4,
          4,
          4,
          4,
          4,
          4,
          4,
          5,
          4,
          5,
          4,
          3,
          3,
          2,
          3,
          2,
          3,
          3,
          2,
          1
         ]
        },
        {
         "histfunc": "count",
         "histnorm": "",
         "marker": {
          "color": "rgba(219, 64, 82, 0.8999999999999999)",
          "line": {
           "color": "#4D5663",
           "width": 1.3
          }
         },
         "name": "Author Info",
         "opacity": 0.8,
         "orientation": "v",
         "type": "histogram",
         "x": [
          "13 Jan 2021 - Senior Corporate Recruiter in Troy, MI",
          "14 Apr 2021 - Program Manager in Dublin, Dublin",
          "22 May 2021 - SCM in Dublin, Dublin",
          "8 Mar 2021 - Business Analyst in Dublin, Dublin",
          "7 Nov 2020 - Supply Chain in Dublin, Dublin",
          "11 May 2020 - Financial Analyst in Dublin, Dublin",
          "13 Jan 2021 - Human Resources Business Partner HRBP in Dublin, Dublin",
          "7 Nov 2020 - Solutions Architect in Dublin, Dublin",
          "10 Aug 2020 - EMEA Internal Audit, Sox & Compliance in Dublin, Dublin",
          "28 Aug 2020 - Corporate Ops in Dublin, Dublin",
          "24 Nov 2019 - Anonymous Employee ",
          "6 Apr 2020 - IT Analyst in Dublin, Dublin",
          "4 May 2020 - Finance ",
          "18 Dec 2019 - Anonymous Employee in Dublin, Dublin",
          "30 Apr 2020 - Enterprise Architect ",
          "25 Mar 2020 - Anonymous Employee ",
          "9 Nov 2019 - IT in Dublin, Dublin",
          "31 Dec 2019 - Anonymous Employee ",
          "31 Jul 2019 - Supply Chain Manager in Dublin, Dublin",
          "6 May 2019 - IT Business Relationship Manager in Dublin, Dublin",
          "21 Sep 2019 - IT Consultant in Dublin, Dublin",
          "21 Jun 2019 - IT Director in Dublin, Dublin",
          "7 Apr 2019 - IT Architect in Dublin, Dublin",
          "13 Dec 2018 - Anonymous Employee in Dublin, Dublin",
          "2 Nov 2018 - Anonymous Employee in Dublin, Dublin",
          "9 Oct 2018 - Anonymous Employee in Dublin, Dublin",
          "25 Sep 2018 - Anonymous Employee ",
          "5 Jan 2019 - Anonymous Employee in Dublin, Dublin",
          "16 Feb 2018 - IT Director in Dublin, Dublin",
          "26 Jun 2018 - Senior Manager in Dublin, Dublin",
          "12 May 2021 - Autonomous Vehicle Operator in Las Vegas, NV",
          "15 May 2021 - Engineer in Troy, MI",
          "22 May 2021 - Anonymous Employee ",
          "27 May 2021 - Anonymous Employee in Kraków",
          "28 May 2021 - Supervisor in Kraków",
          "1 Jun 2021 - Engineer in Warren, OH",
          "27 May 2021 - Anonymous Employee in Wuppertal",
          "27 May 2021 - Ingénieur in Troy, MI",
          "27 May 2021 - Administration in Janesville, WI",
          "26 May 2021 - Financial Analyst ",
          "14 May 2021 - Agile Coach in Hildesheim",
          "19 May 2021 - Test and Validation Engineer in Bangalore",
          "30 May 2021 - Algorithm Engineer in Troy, MI",
          "6 May 2021 - Engineering Group Manager in Kraków",
          "29 May 2021 - Human Resources Officer in Novi Sad",
          "13 May 2021 - Software Engineer in Bangalore",
          "4 May 2021 - Human Resources Manager in München, Bavaria, Bavaria",
          "30 Apr 2021 - Technical Manager ",
          "25 May 2021 - Expert Systems Engineer in Kraków",
          "6 May 2021 - SWE ",
          "27 Apr 2021 - Embedded Software Engineer in Bangalore",
          "3 May 2021 - Senior Software Engineer in Kraków",
          "11 Mar 2021 - Advanced Software Engineer in Bangalore",
          "23 May 2021 - Anonymous Employee ",
          "27 Apr 2021 - Anonymous Employee ",
          "29 Apr 2021 - Systems Engineer in San Francisco, CA",
          "6 Apr 2021 - Mechanical Engineer in Porto, Oporto, Oporto",
          "23 Mar 2021 - Senior Systems Engineer in Bangalore",
          "20 Apr 2021 - Senior Technical Lead ",
          "20 Apr 2021 - Senior Software Engineer in Bangalore",
          "20 Apr 2021 - Senior Software Engineer in Bangalore",
          "19 Apr 2021 - Anonymous Employee in Bangalore",
          "8 May 2021 - Product Engineer in Tangier",
          "7 Apr 2021 - Investor Relations in Boston, MA",
          "21 Apr 2021 - Anonymous Employee ",
          "5 May 2021 - Anonymous Employee in Wuppertal",
          "14 Apr 2021 - Systems Engineer in Kraków",
          "11 Apr 2021 - Embedded Software Engineer in Bangalore",
          "11 Apr 2021 - Software Developer Intern in Kokomo, IN",
          "10 Apr 2021 - Systems Engineer in Kokomo, IN",
          "13 Apr 2021 - Internship in Bangalore",
          "7 May 2021 - Machine Operator in Novi Sad",
          "8 Apr 2021 - Systems Validation Engineer in Detroit, MI",
          "19 Apr 2021 - Data Architect in Bordeaux, Aquitaine, Aquitaine",
          "12 May 2021 - Engineer in Kokomo, IN",
          "26 Mar 2021 - Human Resources in Ineu, Arad, Arad",
          "10 May 2021 - Systems Engineer in Kraków",
          "7 Apr 2021 - EDS Engineer in Coventry, England, England",
          "8 Apr 2021 - Algorithm Developer ",
          "31 Mar 2021 - Technical Leader in Bangalore",
          "5 Apr 2021 - Systems Engineer in Troy, MI",
          "8 Apr 2021 - Senior Software Engineer ",
          "19 May 2021 - Graduate Engineer Trainee ",
          "1 Apr 2021 - Senior Software Developer in Detroit, MI",
          "31 Mar 2021 - Engineer ",
          "6 Apr 2021 - Software Developer in Troy, MI",
          "2 Apr 2021 - Design Engineer in Chennai",
          "5 May 2021 - Sales Manager in Chennai",
          "3 Apr 2021 - Software Engineer in Kraków",
          "2 Apr 2021 - Advanced Technical Leader in Bangalore",
          "9 Mar 2021 - Expert Systems Engineer in Kraków",
          "26 Mar 2021 - Product Owner in Kraków",
          "3 May 2021 - Software Engineer in Detroit, MI",
          "18 Apr 2021 - Anonymous Employee ",
          "25 Mar 2021 - Anonymous Employee ",
          "29 Apr 2021 - Test Engineer in Braga",
          "20 Mar 2021 - Embedded C Developer in Kraków",
          "13 Jan 2021 - Senior Corporate Recruiter in Troy, MI",
          "18 Mar 2021 - Software Quality Engineer in Wuppertal",
          "16 Mar 2021 - Senior CAD Designer in Troy, MI",
          "22 Mar 2021 - Technical Lead in Kraków",
          "10 May 2021 - Senior Embedded Software Engineer in Kokomo, IN",
          "21 Apr 2021 - Program Manager in Paris",
          "24 Apr 2021 - Algorithm Engineer in Detroit, MI",
          "23 Apr 2021 - Senior Software Engineer ",
          "10 Mar 2021 - Advanced Software Developer in Bangalore",
          "17 Mar 2021 - Systems Architect in Hildesheim",
          "30 Mar 2021 - Advanced Software Engineer in Bangalore",
          "21 Apr 2021 - Senior Software Engineer in Bangalore",
          "16 Apr 2021 - Advanced Software Developer ",
          "16 Apr 2021 - Advanced Software Developer ",
          "9 Mar 2021 - Algorithm Engineer in Suzhou, Jiangsu, Jiangsu",
          "13 Mar 2021 - Anonymous Employee ",
          "15 Mar 2021 - BI Developer in Kraków",
          "11 Mar 2021 - Software Test Engineer in Troy, MI",
          "1 May 2021 - Driver/Forklift Operator and Cargo Handler ",
          "18 Feb 2021 - Software Engineer in Gothenburg",
          "6 Mar 2021 - Technical Manager in Tokyo",
          "6 Mar 2021 - Chief Engineer in Bangalore",
          "4 Mar 2021 - Engineering in Bangalore",
          "30 Jan 2021 - Electrical Engineer in Auckland, Auckland",
          "6 Mar 2021 - Systems IS Engineer ",
          "3 Mar 2021 - Systems Engineer ",
          "12 Feb 2021 - Vehicle Test Engineer in Troy, MI",
          "12 Apr 2021 - Logistics Coordinator in Tangier",
          "30 Mar 2021 - IT Specialist in Kraków",
          "18 Feb 2021 - ITV Technician in Ciudad Juarez",
          "4 Apr 2021 - Algorithm Engineer in Indianapolis, IN",
          "24 Feb 2021 - Quality Engineer ",
          "22 Feb 2021 - Human Resources in Ineu, Arad, Arad",
          "5 Jan 2021 - Senior Software Engineer in Bangalore",
          "17 Feb 2021 - Recruitment Specialist in Leskovac, Central Serbia, Central Serbia",
          "24 Feb 2021 - System Engineer in Wuppertal",
          "22 Feb 2021 - Data Analyst in Singapore",
          "9 Feb 2021 - Advanced Software Developer in Bangalore",
          "24 Feb 2021 - Electrical Engineer ",
          "25 Feb 2021 - Senior Engineering in Auckland, Auckland",
          "27 Feb 2021 - Software Test Engineer in Kraków",
          "22 Jan 2021 - IT Senior Manager in Kokomo, IN",
          "18 Feb 2021 - Human Resources Manager in Tangier",
          "18 Feb 2021 - Human Resources Manager in Tangier",
          "17 Feb 2021 - Senior Talent Acquisition Specialist ",
          "21 Feb 2021 - Software Engineer ",
          "17 Feb 2021 - Anonymous Employee ",
          "9 Feb 2021 - OTC Specialist ",
          "10 Feb 2021 - Systems Engineer in Troy, MI",
          "12 Feb 2021 - Functional Safety Engineer in Kraków",
          "31 Mar 2021 - Sales ",
          "13 Jan 2021 - Field Applications Engineer in Troy, MI",
          "31 Mar 2021 - Advanced Engineer in Bangalore",
          "13 Feb 2021 - Operations in Las Vegas, NV",
          "20 Mar 2021 - Mechanical Engineer in Braga",
          "28 Mar 2021 - Vehicle Tester/Engineer ",
          "25 Mar 2021 - Warehouse Worker in Ang Mo Kio New Town,",
          "2 Sep 2020 - Senior Systems Engineer in Auburn Hills, MI",
          "1 Feb 2021 - Technical Manager ",
          "30 Jan 2021 - Senior Software Engineer in Dearborn, MI",
          "4 Feb 2021 - Systems Engineer ",
          "10 Feb 2021 - Function Owner in Sterling Heights, MI",
          "16 Jan 2021 - Working Student in Wuppertal",
          "31 Jan 2021 - Machine Operator in Vallam",
          "1 Feb 2021 - Development Engineer in Wuppertal",
          "28 Dec 2020 - Chief Engineer in Troy, MI",
          "19 Mar 2021 - Engineer in Detroit, MI",
          "11 Jan 2021 - Anonymous Employee ",
          "1 Mar 2021 - Expediter in Nuevo Laredo",
          "2 Apr 2021 - Anonymous Employee ",
          "25 Jan 2021 - Identity and Access Management Engineer in Boston, MA",
          "21 Jan 2021 - Systems Engineer in Wuppertal",
          "16 Mar 2021 - Anonymous Employee in Pune",
          "16 Mar 2021 - Anonymous Employee in Pune",
          "21 Jan 2021 - Project Manager in Kraków",
          "17 Mar 2021 - Engineering Assistant ",
          "10 Mar 2021 - Sales in Troy, MI",
          "17 Jan 2021 - Software Engineer in Troy, MI",
          "15 Jan 2021 - Team Leader in Bangalore",
          "11 Nov 2020 - Talent Acquisition Manager in Wuppertal",
          "12 Mar 2021 - Engineering Manager in Detroit, MI",
          "19 Jan 2021 - Advanced Software Engineer in Bangalore",
          "15 Jan 2021 - Senior Test Engineer in Bangalore",
          "12 Mar 2021 - Senior Systems Engineer in Kraków",
          "20 Jan 2021 - Algorithm Engineer ",
          "15 Jan 2021 - Algorithm Engineer in Troy, MI",
          "8 Jan 2021 - Software Verification Engineer ",
          "11 Jan 2021 - Systems Engineer in Troy, MI",
          "17 Dec 2020 - Software Engineer in Gothenburg",
          "11 Jan 2021 - Team Leader in Kraków",
          "8 Feb 2021 - Buyer in Troy, MI",
          "14 Dec 2020 - Software Engineer in Detroit, MI",
          "22 Feb 2021 - Manager ",
          "16 Dec 2020 - Supply Chain/Logistics Analyst in Kraków",
          "15 Feb 2021 - Software Test Engineer in Kraków",
          "17 Dec 2020 - Lean Champion ",
          "12 Feb 2021 - Anonymous Employee ",
          "5 Feb 2021 - Design Engineer in Pune",
          "25 Jan 2021 - Algorithm Engineer in Troy, MI",
          "15 Dec 2020 - Project Manager in Troy, MI",
          "19 Dec 2020 - Engineering Manager in Bangalore",
          "18 Jan 2021 - Manager ",
          "10 Dec 2020 - Software Engineer in Bangalore",
          "14 Dec 2020 - Systems Engineer in Troy, MI",
          "18 Nov 2020 - Technical Leader in Bangalore",
          "10 Nov 2020 - Graduate Engineer in Bangalore",
          "14 Dec 2020 - Manager ",
          "14 Dec 2020 - Graduate Engineer Trainee in Bangalore",
          "29 Nov 2020 - Senior Engineer in Troy, MI",
          "4 Dec 2020 - Software Engineer in Kraków",
          "18 Jan 2021 - Software Engineer in Yongin, Kyonggi, Kyonggi",
          "9 Dec 2020 - Senior Software Developer ",
          "16 Dec 2020 - Systems Engineer in Warren, OH",
          "1 Dec 2020 - Senior Product Manager in Stuttgart",
          "24 Nov 2020 - HR Manager in Pamplona",
          "29 Jan 2021 - Software Engineer in Detroit, MI",
          "5 Nov 2020 - Senior Technical Project Manager in Wuppertal",
          "23 Nov 2020 - Senior Software Engineer in Bangalore",
          "2 Dec 2020 - Technical Manager in Bangalore",
          "16 Jun 2020 - Manager in Troy, MI",
          "22 Nov 2020 - Software/Systems Test Engineer in Kraków",
          "25 Nov 2020 - Systems Engineer in Troy, MI",
          "25 Jan 2021 - Anonymous Employee ",
          "1 Dec 2020 - Data Analyst in Kraków",
          "23 Nov 2020 - Graduate Student Researcher in Wuppertal",
          "25 Nov 2020 - Systems Engineer in Gothenburg",
          "17 Nov 2020 - Systems Engineer in Auburn Hills, MI",
          "25 Jan 2021 - Continuous Improvement Manager in Troy, MI",
          "10 Feb 2021 - Senior Accountant in London, England, England",
          "12 Oct 2020 - Advanced Software Engineer in Kokomo, IN",
          "24 Jan 2021 - Senior Financial Analyst ",
          "20 Jan 2021 - Senior Embedded Software Engineer in Detroit, MI",
          "16 Oct 2020 - Manufacturing Engineer in Ivano-Frankivs'k",
          "9 Dec 2020 - Account Manager in München, Bavaria, Bavaria",
          "10 Dec 2020 - Business Analyst in Kraków",
          "9 Jan 2021 - Master Thesis Student in Wuppertal",
          "7 Jan 2021 - Talent Manager in Detroit, MI",
          "18 Jan 2021 - Product Owner ",
          "9 Nov 2020 - Project Engineer in Allen Park, MI",
          "28 Oct 2020 - ADAS Algorithm Developer in Troy, MI",
          "22 Dec 2020 - Engineering Assistant ",
          "16 Oct 2020 - Talent Acquisition Manager in Rabat",
          "27 Oct 2020 - ADAS Algorithm Developer in Detroit, MI",
          "27 Oct 2020 - ADAS Algorithm Developer in Detroit, MI",
          "28 Jan 2021 - Manager in Troy, MI",
          "18 Oct 2020 - Software Engineer in Troy, MI",
          "19 Oct 2020 - Vehicle Systems Engineer in Troy, MI",
          "24 Sep 2020 - User Experience Designer in Allen Park, MI",
          "24 Oct 2020 - Plant Support Engineer in Novi Sad",
          "17 Oct 2020 - Engineer in Chennai",
          "18 Dec 2020 - Sales Manager in Berlin",
          "24 Sep 2020 - Senior Software Engineer ",
          "7 Oct 2020 - Student QA Tester ",
          "15 Oct 2020 - Human Resources Supervisor in Kuala Terengganu",
          "2 Nov 2020 - Senior Project Engineer in Kokomo, IN",
          "19 Oct 2020 - Lab Technician ",
          "13 Jan 2021 - Software Engineer in Indianapolis, IN",
          "24 Mar 2020 - Executive Director in America, IL",
          "19 Jul 2020 - Director ",
          "9 Oct 2020 - Industrial Engineering ",
          "5 Oct 2020 - Software/Systems Test Engineer in Kraków",
          "6 Oct 2020 - Program Manager in Allen Park, MI",
          "6 Oct 2020 - Technical Manager in Kraków",
          "6 Oct 2020 - Technical Manager in Kraków",
          "4 Oct 2020 - Software Engineer ",
          "5 Oct 2020 - Project Manager in Kraków",
          "30 Nov 2020 - Engineer ",
          "30 Sep 2020 - Anonymous Employee in Bangalore",
          "21 Sep 2020 - IT Supervisor, Technical Support in Warren, OH",
          "24 Sep 2020 - Design/BOM Engineer in Hillsboro, OR",
          "12 Sep 2020 - Senior Software Engineer in Chandler, AZ",
          "23 Sep 2020 - Senior Technical Lead in Örebro",
          "3 Dec 2020 - Production in New Delhi",
          "19 Aug 2020 - Anonymous Employee ",
          "25 Jun 2020 - Systems Engineer in Troy, MI",
          "24 Nov 2020 - DFMEA Engineer ",
          "1 Sep 2020 - Senior Engineer ",
          "28 Sep 2020 - Anonymous Employee in Troy, MI",
          "20 Sep 2020 - Anonymous Employee in Kokomo, IN",
          "15 May 2020 - Business Unit Director ",
          "12 Nov 2020 - Software Engineer ",
          "3 Jun 2020 - Anonymous Employee in Troy, MI",
          "31 Aug 2020 - Test Engineer in Kokomo, IN",
          "25 Oct 2020 - Anonymous Employee in Aliso Viejo, CA",
          "30 Jul 2020 - ADAS Algorithm Developer in Columbus, OH",
          "21 Nov 2020 - Product Engineer in Gothenburg",
          "28 Aug 2020 - Anonymous Employee ",
          "25 Aug 2020 - CAE Engineer in Bursa",
          "25 Aug 2020 - Senior Software Engineer in Bangalore",
          "3 Aug 2020 - Algorithm Engineer ",
          "4 Nov 2020 - Systems Engineer in Troy, MI",
          "31 Aug 2020 - Anonymous Employee ",
          "26 Aug 2020 - Software Engineer in Detroit, MI",
          "9 Jun 2020 - Systems Engineer in Troy, MI",
          "10 Nov 2020 - Sales Analyst in Detroit, MI",
          "31 Aug 2020 - Anonymous Employee ",
          "17 Aug 2020 - Anonymous Employee ",
          "24 Aug 2020 - Manufacturing Engineer in Timişoara",
          "25 Aug 2020 - Internship in Boston, MA",
          "12 Aug 2020 - Embedded Software Engineer in Ciudad Juarez",
          "31 Jul 2020 - Assistant Manager Supply Chain in Pune",
          "13 Jul 2020 - Anonymous Employee ",
          "11 Oct 2020 - ADAS Algorithm Developer in Troy, MI",
          "3 Aug 2020 - Embedded Software Engineer in Kraków",
          "5 Aug 2020 - Anonymous Employee ",
          "23 Jul 2020 - Software Developer in Allen Park, MI",
          "16 May 2020 - Senior Hardware Engineer in Kokomo, IN",
          "11 Mar 2020 - Verification Engineer in Bangalore",
          "19 Oct 2020 - EDI Specialist in Niš",
          "23 Jul 2020 - Talent Acquisition ",
          "5 Oct 2020 - Corporate Manager ",
          "15 Jul 2020 - Software Engineer in Troy, MI",
          "12 Jul 2020 - Software Engineer in Troy, MI",
          "24 Jul 2020 - Program Manager in Detroit, MI",
          "15 Jul 2020 - Hardware Engineer ",
          "8 Oct 2020 - Senior Manufacturing Supervisor in Brookhaven, MS",
          "28 Jan 2020 - Anonymous Employee in Kokomo, IN",
          "12 Jul 2020 - Algorithm Developer in Troy, MI",
          "9 Sep 2020 - Senior Business Manager in Kokomo, IN",
          "4 Jul 2020 - Program Manager in Troy, MI",
          "14 Jun 2020 - Software Engineer in Troy, MI",
          "14 May 2020 - Chief Engineer ",
          "25 Sep 2020 - Manufacturing Engineering in Singapore",
          "25 Sep 2020 - Manufacturing Engineering in Singapore",
          "12 Jun 2020 - Software Engineer in Allen Park, MI",
          "26 Aug 2020 - Technical Lead in Bangalore",
          "30 May 2020 - Test Engineer ",
          "8 Jan 2020 - Process Engineer in Warren, OH",
          "10 Oct 2020 - Specialist in Niš",
          "9 Jun 2020 - Project Engineer ",
          "4 Sep 2020 - Technical Lead in Bangalore",
          "12 Aug 2020 - Materials Management in Reynosa, Tamaulipas, Tamaulipas",
          "8 Jun 2020 - Technician ",
          "17 Aug 2020 - Senior Software Engineer in Bangalore",
          "7 Apr 2020 - Senior Software Engineer in Bangalore",
          "5 Oct 2020 - Manager in Leskovac, Central Serbia, Central Serbia",
          "13 May 2020 - Manager in Kraków",
          "18 Aug 2020 - Intern in Lisbon",
          "12 May 2020 - Manufacturing in Singapore",
          "7 Aug 2020 - Process Engineer in Warren, OH",
          "11 May 2020 - Advanced Product Engineer in Juárez, Chihuahua, Chihuahua",
          "27 Apr 2020 - Senior Mechanical Engineer in Kokomo, IN",
          "17 May 2020 - Operations Manager in Boston, MA",
          "17 May 2020 - Operations Manager in Boston, MA",
          "16 Apr 2020 - Software Engineer Advanced in Bangalore",
          "28 Apr 2020 - Anonymous Employee ",
          "10 May 2020 - Responsible in Aït Aomar, Meknès-Tafilalet, Meknès-Tafilalet",
          "18 Apr 2020 - Electrical Engineer in Bangalore",
          "18 Aug 2020 - Technical Support Engineer ",
          "19 Jun 2020 - Program Coordinator in Troy, MI",
          "19 Mar 2020 - Software Test Engineer in Kraków",
          "8 Aug 2020 - Material Planner in Pune",
          "23 Feb 2020 - Software Engineer Advanced ",
          "8 Feb 2020 - Software Engineer in West Lafayette, IN",
          "15 Sep 2019 - Systems Engineer in Troy, MI",
          "26 Apr 2020 - Corporate in Troy, MI",
          "21 Jan 2020 - Configuration Analyst in Auburn Hills, MI",
          "28 Oct 2019 - Anonymous Employee in Noida",
          "25 Feb 2020 - Anonymous Employee in Troy, MI",
          "30 Jan 2020 - Security Analyst in Troy, MI",
          "21 Jan 2020 - Manager in Stamford, CT",
          "25 Jan 2020 - Anonymous Employee ",
          "3 Feb 2020 - Financial Analyst in Austin, TX",
          "3 Feb 2020 - Financial Analyst in Troy, MI",
          "15 Apr 2020 - Software Architect ",
          "15 Jan 2020 - Algorithm Engineer ",
          "8 Jan 2020 - Anonymous Employee ",
          "9 Jan 2020 - Vehicle Operator in Las Vegas, NV",
          "13 Jan 2020 - Simulation Engineer in Troy, MI",
          "22 Jul 2019 - Autonomous Vehicle Operator in Las Vegas, NV",
          "29 Mar 2020 - SiL/HiL Engineer in Kraków",
          "11 Dec 2019 - Senior Software Engineer in Bangalore",
          "30 Dec 2019 - Industrial Engineer in Juárez, Chihuahua, Chihuahua",
          "8 Oct 2019 - Vehicle Operator in Pittsburgh, PA",
          "18 Mar 2020 - Product Owner in Wuppertal",
          "22 Jul 2019 - Vehicle Operator in Las Vegas, NV",
          "28 Nov 2019 - Architect ",
          "25 Nov 2019 - Algorithm Engineer ",
          "21 Nov 2019 - Applications in Allen Park, MI",
          "18 Nov 2019 - Senior Design Engineer in Chennai",
          "13 Oct 2019 - Engineering ",
          "20 Nov 2019 - Anonymous Employee ",
          "12 Nov 2019 - Advanced Safety and User Experience in Troy, MI",
          "12 Nov 2019 - Advanced Safety and User Experience in Troy, MI",
          "22 Mar 2020 - Engineer in Troy, MI",
          "21 Nov 2019 - Anonymous Employee ",
          "24 Nov 2019 - Anonymous Employee ",
          "11 Oct 2019 - Software Verification Engineer ",
          "22 Sep 2019 - Software Project Manager in Bangalore",
          "23 Feb 2020 - Electrical Engineer ",
          "3 Oct 2019 - Software Engineer ADAS in Troy, MI",
          "29 Apr 2019 - Algorithm Engineer in Troy, MI",
          "5 Nov 2019 - Indirect Procurement ",
          "24 Jan 2020 - Anonymous Employee ",
          "22 Aug 2019 - Workday Analyst in Troy, MI",
          "30 Oct 2019 - Anonymous Employee ",
          "20 Nov 2019 - Engineer in Troy, MI",
          "24 Jan 2020 -  in Boston, MA",
          "24 Sep 2019 - Researcher in Singapore",
          "5 Sep 2019 - Senior Software Engineer ",
          "18 Sep 2019 - Senior Software Engineer in Bangalore",
          "25 Jul 2019 - Director in Boston, MA",
          "16 Jul 2019 - Driver ",
          "12 Jun 2019 - Vehicle Operator ",
          "2 Jan 2019 - Prefer Not to Say in Pittsburgh, PA",
          "2 Dec 2019 - Technical Designer in Juárez, Chihuahua, Chihuahua",
          "24 Jul 2019 - IT Specialist in Detroit, MI",
          "8 Feb 2019 - Senior Technical Leader in Bangalore",
          "23 Jul 2019 - Mechanical Engineer ",
          "25 Nov 2019 - Electrical Engineer in Troy, MI",
          "25 May 2019 - Senior Technical Leader in Bangalore",
          "22 Jun 2019 - Vehicle Operator ",
          "17 Jan 2020 - Anonymous Employee ",
          "18 Oct 2019 - Learning and Development Manager in Detroit, MI",
          "1 Dec 2019 - Customer Service Representative in Nürnberg",
          "15 Nov 2019 - PC&L Manager in Troy, MI",
          "22 Jun 2019 - Anonymous Employee ",
          "16 Mar 2019 - Electrical Engineer in Auburn Hills, MI",
          "1 Aug 2019 - Mechanical Design Engineer in Chennai",
          "21 Nov 2019 - Senior Software Engineer ",
          "18 Jul 2019 - Anonymous Employee in Barcelona",
          "24 Jul 2019 - Engineer ",
          "11 Jun 2019 - Industrial Engineer in Matamoros, Tamaulipas, Tamaulipas",
          "11 Jun 2019 - Industrial Engineer in Matamoros, Tamaulipas, Tamaulipas",
          "12 May 2019 - Sustaining Engineer in Kraków",
          "13 Jun 2019 - IT PMO Senior Portfolio Advisor in Troy, MI",
          "8 Jul 2019 - Anonymous Employee ",
          "1 Jul 2019 - Anonymous Employee ",
          "1 Mar 2019 - Vehicle Operator in Pittsburgh, PA",
          "2 Oct 2019 -  ",
          "7 Oct 2019 - Logistics Analyst in Kraków",
          "4 Jul 2019 - Technical Lead in Bangalore",
          "18 Jun 2019 - Anonymous Employee in Chennai",
          "15 Apr 2019 - Work Study Student in Wuppertal",
          "6 Mar 2019 - Senior Manager in Troy, MI",
          "11 Jun 2019 - Anonymous Employee in Bangalore",
          "22 May 2019 - Internship ",
          "13 Jun 2019 - Financial Controller in Mattighofen, Upper Austria",
          "28 Mar 2019 - Senior Engineer in Bangalore",
          "27 Sep 2019 - Expert Systems Engineer in Kraków",
          "11 Mar 2019 - Anonymous Employee ",
          "23 Sep 2019 - Software Engineer in Bangalore",
          "9 May 2019 - Anonymous Employee ",
          "21 Sep 2019 - Anonymous Employee in Bangalore",
          "9 Nov 2018 - Anonymous Employee ",
          "11 Oct 2019 - Senior Director in Troy, MI",
          "16 May 2019 -  ",
          "12 Mar 2019 - Anonymous Employee in Braga",
          "12 Jun 2019 - Anonymous Employee in Troy, MI",
          "7 Apr 2019 - Vehicle Operator in Las Vegas, NV",
          "3 May 2019 - Design Engineer in Chennai",
          "30 Jul 2019 - Logistics Supervisor ",
          "17 Feb 2019 - Polyvalent Operator in Novi Sad",
          "11 Jan 2019 - Senior Software Engineer in Boston, MA",
          "24 Apr 2019 - Software Engineer in Bangalore",
          "29 Oct 2019 - Anonymous Employee ",
          "17 Sep 2019 - Financial Analyst in Troy, MI",
          "31 Mar 2019 - Sales Engineer in Ciudad de Mexico",
          "16 Jul 2019 - Senior in East Las Vegas, NV",
          "6 Aug 2019 - Anonymous Employee ",
          "22 Apr 2019 - Anonymous Employee ",
          "1 Jul 2019 - Software Developer in Kokomo, IN",
          "29 Jul 2019 - Manufacturing Engineering Manager in Tangier",
          "29 Nov 2018 - Design Engineer in Troy, MI",
          "29 Mar 2019 - Anonymous Employee ",
          "3 Jun 2019 - Advanced Manufacturing Engineer in Auburn Hills, MI",
          "10 Jun 2019 - Anonymous Employee in Kollam",
          "25 Jul 2019 - Deputy Manager in Dhāruhera",
          "12 Jul 2019 - Production Supervisor in Pimpri-Chinchwad",
          "1 Jul 2019 - Senior Electrical Engineer in Bangalore",
          "20 Feb 2019 - Software Engineer in Querétaro, Querétaro, Querétaro",
          "17 Jul 2019 - Technical Lead in Bangalore",
          "27 Jun 2019 - Anonymous Employee in Bangalore",
          "27 Jun 2019 - Anonymous Employee in Bangalore",
          "7 Jul 2019 - Team Lead ",
          "1 Feb 2019 - Onsite Support Engineer ",
          "26 Feb 2019 - Director of Operations in Ciudad de Mexico",
          "21 Feb 2019 - Validation Engineer ",
          "14 Feb 2019 - Project Manager ",
          "16 Feb 2019 - Systems Engineer in Kraków",
          "19 Feb 2019 - Anonymous Employee ",
          "6 Jan 2019 -  ",
          "6 Jun 2019 - Android Developer in Bangalore",
          "14 Jan 2019 - Anonymous Employee in Bangalore",
          "23 Dec 2018 - Systems Test Engineer in Kraków",
          "26 Mar 2019 - Senior Software Engineer in Bangalore",
          "15 Apr 2019 - Software Engineer in Bangalore",
          "26 Nov 2018 - Anonymous Employee ",
          "19 Nov 2018 - Anonymous Employee ",
          "16 Nov 2018 - Advanced Applications Engineer in Whitefield",
          "24 Sep 2018 - Software Verification Engineer - Student in West Lafayette, IN",
          "25 Jan 2019 - Test EA in Singapore",
          "17 Apr 2019 - Product Engineer ",
          "17 Apr 2019 - Product Engineer ",
          "1 Apr 2019 - IT Operations Manager in İzmir",
          "11 Apr 2019 - Anonymous Employee in Tangier",
          "28 Mar 2019 - Assistant PE Engineer in Bangalore",
          "21 Oct 2018 - Senior Design Engineer in Chennai",
          "22 Oct 2018 -  ",
          "10 Mar 2019 - Quality Engineer ",
          "2 Mar 2019 - Anonymous Employee ",
          "11 Oct 2018 - Software/Systems Test Engineer in Kraków",
          "21 Sep 2018 -  in Troy, MI",
          "6 Apr 2018 - Vehicle Operator in Las Vegas, NV",
          "14 Sep 2018 - Salesforce Administrator in Troy, MI",
          "20 Mar 2019 - Senior Engineer in Chennai",
          "8 Feb 2019 - Anonymous Employee ",
          "13 Jan 2019 - Senior Software Engineer in Bangalore",
          "18 Feb 2019 - Embedded Software Engineer in Kokomo, IN",
          "24 Sep 2018 - Anonymous Employee ",
          "1 Nov 2018 - Senior Financial Analyst in Troy, MI",
          "18 Oct 2018 - Anonymous Employee ",
          "27 Dec 2018 - Anonymous Employee ",
          "12 Oct 2018 - Anonymous Employee ",
          "22 Nov 2018 - Anonymous Employee ",
          "8 Nov 2018 - Anonymous Employee ",
          "14 Jan 2019 - Anonymous Employee ",
          "3 Oct 2018 - Validation Engineer in Nuevo Laredo",
          "17 Sep 2018 - Anonymous Employee ",
          "1 Mar 2018 - Engineer in Warren, OH",
          "17 Aug 2018 - Vehicle Operator in Las Vegas, NV",
          "9 Apr 2018 - Safety Driver in Las Vegas, NV",
          "24 Aug 2018 - Engineering Manager ",
          "4 Sep 2018 - Anonymous Employee ",
          "7 Mar 2018 - Technical Leader in Bangalore",
          "21 Aug 2018 - Software Engineer(Internship) in Pittsburgh, PA",
          "8 Mar 2018 - Anonymous Employee ",
          "16 Jan 2018 - Anonymous Employee in Troy, MI",
          "30 Aug 2018 - Software Engineer Advanced in Bangalore",
          "24 Apr 2018 - Test Operator in Las Vegas, NV",
          "21 May 2018 - Anonymous Employee ",
          "26 Dec 2017 - Mechanical Engineer in Detroit, MI",
          "21 Jan 2018 - Anonymous Employee ",
          "3 Mar 2018 - Anonymous Employee ",
          "12 Jul 2018 - Senior Engineer in Bangalore",
          "26 Jul 2018 - Anonymous Employee ",
          "26 Feb 2018 - Analyst in Troy, MI",
          "31 Jul 2018 - Anonymous Employee ",
          "7 Aug 2018 - Technical Leader in Bangalore",
          "26 Mar 2018 - Current Employee in Las Vegas, NV",
          "30 Jun 2018 - Senior Software Engineer in Bangalore",
          "25 Feb 2018 - Expert Software Engineer in Kraków",
          "22 Apr 2018 - Technical Manager in Kokomo, IN",
          "22 Apr 2018 - Technical Manager in Kokomo, IN",
          "1 May 2018 - Software Engineer Advanced in Bangalore",
          "1 Jun 2018 - Product Engineer in Warren, OH",
          "29 Jan 2018 - Technical Lead in Bangalore",
          "2 Apr 2018 - Anonymous Employee ",
          "10 Jan 2018 - Anonymous Employee ",
          "27 Feb 2018 - Anonymous Employee ",
          "6 Apr 2018 - Anonymous Employee in Las Vegas, NV",
          "26 Jul 2018 - Account Executive in New Delhi",
          "27 Mar 2018 - Software Engineer in Pittsburgh, PA",
          "10 May 2018 - Advance Software Engineer in Bangalore",
          "23 Aug 2018 - Advanced Technical Leader in Bangalore",
          "19 Apr 2018 - Software Engineer in Bangalore",
          "15 Jul 2018 - Anonymous Employee ",
          "5 Dec 2017 - Electrical Engineer in Kokomo, IN",
          "26 Mar 2018 - Director, Supplier Alignment in Troy, MI",
          "19 Dec 2017 - Anonymous Employee ",
          "4 Mar 2018 - Technical Leader in Bangalore Rural",
          "9 Mar 2018 - Anonymous Employee in Troy, MI",
          "20 Mar 2018 - Anonymous Employee ",
          "20 Mar 2018 - Anonymous Employee ",
          "12 Apr 2018 - Anonymous Employee ",
          "29 Aug 2018 - Anonymous Employee ",
          "26 Dec 2017 - Anonymous Employee ",
          "9 Mar 2018 - Anonymous Employee ",
          "15 May 2018 - Lean in Fort Myers, FL",
          "27 May 2018 - Design Engineer in Fort Myers, FL",
          "16 Dec 2017 - Anonymous Employee ",
          "7 Jun 2018 - Anonymous Employee ",
          "26 Jun 2018 - Maintenance Supervisor in Amf G Boro, NC",
          "8 Jul 2018 - Assistant Manager and Quality Systems Responsible ",
          "26 Jun 2018 - Anonymous Employee in Chennai",
          "18 Aug 2018 - Anonymous Employee ",
          "22 Feb 2018 - Project Engineer in İzmir",
          "21 Jun 2018 - Anonymous Employee ",
          "9 Jul 2018 - Anonymous Employee ",
          "16 Aug 2018 - Anonymous Employee ",
          "11 May 2018 - Anonymous Employee ",
          "14 Jan 2018 - Entwicklungsingenieur in Wiehl"
         ]
        }
       ],
       "layout": {
        "barmode": "overlay",
        "legend": {
         "bgcolor": "#F5F6F9",
         "font": {
          "color": "#4D5663"
         }
        },
        "paper_bgcolor": "#F5F6F9",
        "plot_bgcolor": "#F5F6F9",
        "template": {
         "data": {
          "bar": [
           {
            "error_x": {
             "color": "#2a3f5f"
            },
            "error_y": {
             "color": "#2a3f5f"
            },
            "marker": {
             "line": {
              "color": "#E5ECF6",
              "width": 0.5
             }
            },
            "type": "bar"
           }
          ],
          "barpolar": [
           {
            "marker": {
             "line": {
              "color": "#E5ECF6",
              "width": 0.5
             }
            },
            "type": "barpolar"
           }
          ],
          "carpet": [
           {
            "aaxis": {
             "endlinecolor": "#2a3f5f",
             "gridcolor": "white",
             "linecolor": "white",
             "minorgridcolor": "white",
             "startlinecolor": "#2a3f5f"
            },
            "baxis": {
             "endlinecolor": "#2a3f5f",
             "gridcolor": "white",
             "linecolor": "white",
             "minorgridcolor": "white",
             "startlinecolor": "#2a3f5f"
            },
            "type": "carpet"
           }
          ],
          "choropleth": [
           {
            "colorbar": {
             "outlinewidth": 0,
             "ticks": ""
            },
            "type": "choropleth"
           }
          ],
          "contour": [
           {
            "colorbar": {
             "outlinewidth": 0,
             "ticks": ""
            },
            "colorscale": [
             [
              0,
              "#0d0887"
             ],
             [
              0.1111111111111111,
              "#46039f"
             ],
             [
              0.2222222222222222,
              "#7201a8"
             ],
             [
              0.3333333333333333,
              "#9c179e"
             ],
             [
              0.4444444444444444,
              "#bd3786"
             ],
             [
              0.5555555555555556,
              "#d8576b"
             ],
             [
              0.6666666666666666,
              "#ed7953"
             ],
             [
              0.7777777777777778,
              "#fb9f3a"
             ],
             [
              0.8888888888888888,
              "#fdca26"
             ],
             [
              1,
              "#f0f921"
             ]
            ],
            "type": "contour"
           }
          ],
          "contourcarpet": [
           {
            "colorbar": {
             "outlinewidth": 0,
             "ticks": ""
            },
            "type": "contourcarpet"
           }
          ],
          "heatmap": [
           {
            "colorbar": {
             "outlinewidth": 0,
             "ticks": ""
            },
            "colorscale": [
             [
              0,
              "#0d0887"
             ],
             [
              0.1111111111111111,
              "#46039f"
             ],
             [
              0.2222222222222222,
              "#7201a8"
             ],
             [
              0.3333333333333333,
              "#9c179e"
             ],
             [
              0.4444444444444444,
              "#bd3786"
             ],
             [
              0.5555555555555556,
              "#d8576b"
             ],
             [
              0.6666666666666666,
              "#ed7953"
             ],
             [
              0.7777777777777778,
              "#fb9f3a"
             ],
             [
              0.8888888888888888,
              "#fdca26"
             ],
             [
              1,
              "#f0f921"
             ]
            ],
            "type": "heatmap"
           }
          ],
          "heatmapgl": [
           {
            "colorbar": {
             "outlinewidth": 0,
             "ticks": ""
            },
            "colorscale": [
             [
              0,
              "#0d0887"
             ],
             [
              0.1111111111111111,
              "#46039f"
             ],
             [
              0.2222222222222222,
              "#7201a8"
             ],
             [
              0.3333333333333333,
              "#9c179e"
             ],
             [
              0.4444444444444444,
              "#bd3786"
             ],
             [
              0.5555555555555556,
              "#d8576b"
             ],
             [
              0.6666666666666666,
              "#ed7953"
             ],
             [
              0.7777777777777778,
              "#fb9f3a"
             ],
             [
              0.8888888888888888,
              "#fdca26"
             ],
             [
              1,
              "#f0f921"
             ]
            ],
            "type": "heatmapgl"
           }
          ],
          "histogram": [
           {
            "marker": {
             "colorbar": {
              "outlinewidth": 0,
              "ticks": ""
             }
            },
            "type": "histogram"
           }
          ],
          "histogram2d": [
           {
            "colorbar": {
             "outlinewidth": 0,
             "ticks": ""
            },
            "colorscale": [
             [
              0,
              "#0d0887"
             ],
             [
              0.1111111111111111,
              "#46039f"
             ],
             [
              0.2222222222222222,
              "#7201a8"
             ],
             [
              0.3333333333333333,
              "#9c179e"
             ],
             [
              0.4444444444444444,
              "#bd3786"
             ],
             [
              0.5555555555555556,
              "#d8576b"
             ],
             [
              0.6666666666666666,
              "#ed7953"
             ],
             [
              0.7777777777777778,
              "#fb9f3a"
             ],
             [
              0.8888888888888888,
              "#fdca26"
             ],
             [
              1,
              "#f0f921"
             ]
            ],
            "type": "histogram2d"
           }
          ],
          "histogram2dcontour": [
           {
            "colorbar": {
             "outlinewidth": 0,
             "ticks": ""
            },
            "colorscale": [
             [
              0,
              "#0d0887"
             ],
             [
              0.1111111111111111,
              "#46039f"
             ],
             [
              0.2222222222222222,
              "#7201a8"
             ],
             [
              0.3333333333333333,
              "#9c179e"
             ],
             [
              0.4444444444444444,
              "#bd3786"
             ],
             [
              0.5555555555555556,
              "#d8576b"
             ],
             [
              0.6666666666666666,
              "#ed7953"
             ],
             [
              0.7777777777777778,
              "#fb9f3a"
             ],
             [
              0.8888888888888888,
              "#fdca26"
             ],
             [
              1,
              "#f0f921"
             ]
            ],
            "type": "histogram2dcontour"
           }
          ],
          "mesh3d": [
           {
            "colorbar": {
             "outlinewidth": 0,
             "ticks": ""
            },
            "type": "mesh3d"
           }
          ],
          "parcoords": [
           {
            "line": {
             "colorbar": {
              "outlinewidth": 0,
              "ticks": ""
             }
            },
            "type": "parcoords"
           }
          ],
          "pie": [
           {
            "automargin": true,
            "type": "pie"
           }
          ],
          "scatter": [
           {
            "marker": {
             "colorbar": {
              "outlinewidth": 0,
              "ticks": ""
             }
            },
            "type": "scatter"
           }
          ],
          "scatter3d": [
           {
            "line": {
             "colorbar": {
              "outlinewidth": 0,
              "ticks": ""
             }
            },
            "marker": {
             "colorbar": {
              "outlinewidth": 0,
              "ticks": ""
             }
            },
            "type": "scatter3d"
           }
          ],
          "scattercarpet": [
           {
            "marker": {
             "colorbar": {
              "outlinewidth": 0,
              "ticks": ""
             }
            },
            "type": "scattercarpet"
           }
          ],
          "scattergeo": [
           {
            "marker": {
             "colorbar": {
              "outlinewidth": 0,
              "ticks": ""
             }
            },
            "type": "scattergeo"
           }
          ],
          "scattergl": [
           {
            "marker": {
             "colorbar": {
              "outlinewidth": 0,
              "ticks": ""
             }
            },
            "type": "scattergl"
           }
          ],
          "scattermapbox": [
           {
            "marker": {
             "colorbar": {
              "outlinewidth": 0,
              "ticks": ""
             }
            },
            "type": "scattermapbox"
           }
          ],
          "scatterpolar": [
           {
            "marker": {
             "colorbar": {
              "outlinewidth": 0,
              "ticks": ""
             }
            },
            "type": "scatterpolar"
           }
          ],
          "scatterpolargl": [
           {
            "marker": {
             "colorbar": {
              "outlinewidth": 0,
              "ticks": ""
             }
            },
            "type": "scatterpolargl"
           }
          ],
          "scatterternary": [
           {
            "marker": {
             "colorbar": {
              "outlinewidth": 0,
              "ticks": ""
             }
            },
            "type": "scatterternary"
           }
          ],
          "surface": [
           {
            "colorbar": {
             "outlinewidth": 0,
             "ticks": ""
            },
            "colorscale": [
             [
              0,
              "#0d0887"
             ],
             [
              0.1111111111111111,
              "#46039f"
             ],
             [
              0.2222222222222222,
              "#7201a8"
             ],
             [
              0.3333333333333333,
              "#9c179e"
             ],
             [
              0.4444444444444444,
              "#bd3786"
             ],
             [
              0.5555555555555556,
              "#d8576b"
             ],
             [
              0.6666666666666666,
              "#ed7953"
             ],
             [
              0.7777777777777778,
              "#fb9f3a"
             ],
             [
              0.8888888888888888,
              "#fdca26"
             ],
             [
              1,
              "#f0f921"
             ]
            ],
            "type": "surface"
           }
          ],
          "table": [
           {
            "cells": {
             "fill": {
              "color": "#EBF0F8"
             },
             "line": {
              "color": "white"
             }
            },
            "header": {
             "fill": {
              "color": "#C8D4E3"
             },
             "line": {
              "color": "white"
             }
            },
            "type": "table"
           }
          ]
         },
         "layout": {
          "annotationdefaults": {
           "arrowcolor": "#2a3f5f",
           "arrowhead": 0,
           "arrowwidth": 1
          },
          "autotypenumbers": "strict",
          "coloraxis": {
           "colorbar": {
            "outlinewidth": 0,
            "ticks": ""
           }
          },
          "colorscale": {
           "diverging": [
            [
             0,
             "#8e0152"
            ],
            [
             0.1,
             "#c51b7d"
            ],
            [
             0.2,
             "#de77ae"
            ],
            [
             0.3,
             "#f1b6da"
            ],
            [
             0.4,
             "#fde0ef"
            ],
            [
             0.5,
             "#f7f7f7"
            ],
            [
             0.6,
             "#e6f5d0"
            ],
            [
             0.7,
             "#b8e186"
            ],
            [
             0.8,
             "#7fbc41"
            ],
            [
             0.9,
             "#4d9221"
            ],
            [
             1,
             "#276419"
            ]
           ],
           "sequential": [
            [
             0,
             "#0d0887"
            ],
            [
             0.1111111111111111,
             "#46039f"
            ],
            [
             0.2222222222222222,
             "#7201a8"
            ],
            [
             0.3333333333333333,
             "#9c179e"
            ],
            [
             0.4444444444444444,
             "#bd3786"
            ],
            [
             0.5555555555555556,
             "#d8576b"
            ],
            [
             0.6666666666666666,
             "#ed7953"
            ],
            [
             0.7777777777777778,
             "#fb9f3a"
            ],
            [
             0.8888888888888888,
             "#fdca26"
            ],
            [
             1,
             "#f0f921"
            ]
           ],
           "sequentialminus": [
            [
             0,
             "#0d0887"
            ],
            [
             0.1111111111111111,
             "#46039f"
            ],
            [
             0.2222222222222222,
             "#7201a8"
            ],
            [
             0.3333333333333333,
             "#9c179e"
            ],
            [
             0.4444444444444444,
             "#bd3786"
            ],
            [
             0.5555555555555556,
             "#d8576b"
            ],
            [
             0.6666666666666666,
             "#ed7953"
            ],
            [
             0.7777777777777778,
             "#fb9f3a"
            ],
            [
             0.8888888888888888,
             "#fdca26"
            ],
            [
             1,
             "#f0f921"
            ]
           ]
          },
          "colorway": [
           "#636efa",
           "#EF553B",
           "#00cc96",
           "#ab63fa",
           "#FFA15A",
           "#19d3f3",
           "#FF6692",
           "#B6E880",
           "#FF97FF",
           "#FECB52"
          ],
          "font": {
           "color": "#2a3f5f"
          },
          "geo": {
           "bgcolor": "white",
           "lakecolor": "white",
           "landcolor": "#E5ECF6",
           "showlakes": true,
           "showland": true,
           "subunitcolor": "white"
          },
          "hoverlabel": {
           "align": "left"
          },
          "hovermode": "closest",
          "mapbox": {
           "style": "light"
          },
          "paper_bgcolor": "white",
          "plot_bgcolor": "#E5ECF6",
          "polar": {
           "angularaxis": {
            "gridcolor": "white",
            "linecolor": "white",
            "ticks": ""
           },
           "bgcolor": "#E5ECF6",
           "radialaxis": {
            "gridcolor": "white",
            "linecolor": "white",
            "ticks": ""
           }
          },
          "scene": {
           "xaxis": {
            "backgroundcolor": "#E5ECF6",
            "gridcolor": "white",
            "gridwidth": 2,
            "linecolor": "white",
            "showbackground": true,
            "ticks": "",
            "zerolinecolor": "white"
           },
           "yaxis": {
            "backgroundcolor": "#E5ECF6",
            "gridcolor": "white",
            "gridwidth": 2,
            "linecolor": "white",
            "showbackground": true,
            "ticks": "",
            "zerolinecolor": "white"
           },
           "zaxis": {
            "backgroundcolor": "#E5ECF6",
            "gridcolor": "white",
            "gridwidth": 2,
            "linecolor": "white",
            "showbackground": true,
            "ticks": "",
            "zerolinecolor": "white"
           }
          },
          "shapedefaults": {
           "line": {
            "color": "#2a3f5f"
           }
          },
          "ternary": {
           "aaxis": {
            "gridcolor": "white",
            "linecolor": "white",
            "ticks": ""
           },
           "baxis": {
            "gridcolor": "white",
            "linecolor": "white",
            "ticks": ""
           },
           "bgcolor": "#E5ECF6",
           "caxis": {
            "gridcolor": "white",
            "linecolor": "white",
            "ticks": ""
           }
          },
          "title": {
           "x": 0.05
          },
          "xaxis": {
           "automargin": true,
           "gridcolor": "white",
           "linecolor": "white",
           "ticks": "",
           "title": {
            "standoff": 15
           },
           "zerolinecolor": "white",
           "zerolinewidth": 2
          },
          "yaxis": {
           "automargin": true,
           "gridcolor": "white",
           "linecolor": "white",
           "ticks": "",
           "title": {
            "standoff": 15
           },
           "zerolinecolor": "white",
           "zerolinewidth": 2
          }
         }
        },
        "title": {
         "font": {
          "color": "#4D5663"
         }
        },
        "xaxis": {
         "gridcolor": "#E1E5ED",
         "showgrid": true,
         "tickfont": {
          "color": "#4D5663"
         },
         "title": {
          "font": {
           "color": "#4D5663"
          },
          "text": ""
         },
         "zerolinecolor": "#E1E5ED"
        },
        "yaxis": {
         "gridcolor": "#E1E5ED",
         "showgrid": true,
         "tickfont": {
          "color": "#4D5663"
         },
         "title": {
          "font": {
           "color": "#4D5663"
          },
          "text": ""
         },
         "zerolinecolor": "#E1E5ED"
        }
       }
      },
      "text/html": [
       "<div>                            <div id=\"be44cf8a-8cbb-4ec4-bafa-9cdc44ba9ca1\" class=\"plotly-graph-div\" style=\"height:525px; width:100%;\"></div>            <script type=\"text/javascript\">                require([\"plotly\"], function(Plotly) {                    window.PLOTLYENV=window.PLOTLYENV || {};\n",
       "                    window.PLOTLYENV.BASE_URL='https://plot.ly';                                    if (document.getElementById(\"be44cf8a-8cbb-4ec4-bafa-9cdc44ba9ca1\")) {                    Plotly.newPlot(                        \"be44cf8a-8cbb-4ec4-bafa-9cdc44ba9ca1\",                        [{\"histfunc\": \"count\", \"histnorm\": \"\", \"marker\": {\"color\": \"rgba(219, 64, 82, 1.0)\", \"line\": {\"color\": \"#4D5663\", \"width\": 1.3}}, \"name\": \"Rating\", \"opacity\": 0.8, \"orientation\": \"v\", \"type\": \"histogram\", \"x\": [4, 5, 4, 3, 3, 1, 1, 4, 5, 1, 5, 4, 1, 5, 1, 2, 1, 1, 1, 4, 1, 5, 4, 2, 1, 2, 5, 1, 5, 5, 1, 1, 1, 5, 4, 3, 5, 4, 5, 5, 4, 5, 3, 5, 3, 4, 5, 4, 3, 5, 4, 5, 5, 2, 4, 5, 4, 5, 5, 4, 4, 4, 3, 5, 4, 2, 4, 4, 4, 4, 5, 3, 4, 2, 3, 5, 3, 4, 5, 5, 5, 4, 1, 4, 4, 4, 4, 2, 4, 4, 5, 4, 3, 2, 5, 3, 3, 4, 5, 5, 5, 1, 3, 3, 3, 4, 3, 3, 3, 1, 1, 4, 4, 4, 4, 1, 5, 5, 5, 4, 5, 4, 4, 5, 3, 3, 5, 3, 3, 5, 5, 5, 4, 5, 4, 5, 4, 4, 4, 5, 5, 4, 4, 4, 4, 5, 4, 3, 4, 3, 5, 2, 2, 2, 4, 5, 3, 5, 4, 4, 4, 4, 4, 3, 5, 3, 1, 4, 5, 3, 3, 5, 2, 2, 4, 4, 5, 3, 5, 4, 3, 4, 4, 4, 4, 5, 4, 3, 4, 3, 5, 3, 4, 2, 3, 3, 5, 5, 2, 5, 4, 5, 4, 4, 5, 5, 4, 3, 5, 3, 5, 5, 3, 2, 4, 5, 1, 4, 4, 2, 5, 4, 4, 4, 3, 1, 4, 3, 3, 1, 2, 2, 3, 2, 2, 5, 4, 3, 5, 4, 4, 1, 4, 5, 2, 4, 4, 2, 4, 4, 5, 3, 4, 1, 1, 4, 5, 4, 4, 4, 4, 5, 4, 3, 4, 5, 5, 5, 4, 3, 4, 5, 3, 4, 3, 2, 5, 3, 4, 3, 1, 4, 3, 5, 5, 5, 2, 3, 4, 4, 4, 3, 4, 4, 4, 4, 5, 4, 4, 3, 4, 4, 4, 4, 3, 3, 5, 2, 5, 4, 4, 4, 3, 4, 4, 3, 4, 4, 4, 3, 3, 3, 2, 5, 2, 1, 4, 3, 3, 4, 2, 4, 1, 5, 3, 5, 3, 5, 4, 4, 4, 4, 5, 2, 2, 1, 2, 4, 1, 4, 4, 3, 1, 4, 1, 1, 4, 5, 5, 5, 5, 3, 5, 4, 5, 4, 5, 3, 4, 4, 4, 1, 5, 4, 4, 5, 4, 5, 4, 5, 5, 1, 4, 4, 4, 5, 3, 4, 4, 4, 3, 1, 4, 1, 1, 4, 4, 5, 5, 3, 5, 2, 3, 4, 4, 4, 3, 4, 2, 1, 2, 3, 3, 4, 4, 4, 3, 4, 5, 5, 5, 5, 5, 5, 5, 1, 2, 2, 5, 4, 4, 4, 4, 4, 4, 4, 3, 2, 3, 4, 3, 4, 1, 4, 4, 1, 5, 4, 3, 1, 5, 4, 1, 1, 5, 1, 3, 2, 2, 3, 3, 4, 3, 3, 1, 3, 2, 4, 3, 3, 3, 3, 5, 1, 5, 4, 4, 4, 1, 3, 4, 4, 3, 3, 5, 5, 4, 4, 3, 3, 3, 2, 3, 3, 4, 4, 3, 3, 4, 1, 5, 5, 1, 3, 3, 3, 1, 1, 3, 3, 1, 3, 2, 1, 3, 3, 2, 5, 5, 4, 5, 5, 5, 3, 5, 5, 5, 4, 5, 3, 5, 4, 4, 4, 4, 2, 5, 4, 4, 4, 4, 4, 5, 3, 5, 1, 2, 5, 4, 5, 4, 5, 4, 4, 5, 5, 5, 5, 5, 4, 4, 4, 4, 4, 4, 4, 5, 4, 5, 4, 3, 3, 2, 3, 2, 3, 3, 2, 1]}, {\"histfunc\": \"count\", \"histnorm\": \"\", \"marker\": {\"color\": \"rgba(219, 64, 82, 0.8999999999999999)\", \"line\": {\"color\": \"#4D5663\", \"width\": 1.3}}, \"name\": \"Author Info\", \"opacity\": 0.8, \"orientation\": \"v\", \"type\": \"histogram\", \"x\": [\"13 Jan 2021 - Senior Corporate Recruiter in Troy, MI\", \"14 Apr 2021 - Program Manager in Dublin, Dublin\", \"22 May 2021 - SCM in Dublin, Dublin\", \"8 Mar 2021 - Business Analyst in Dublin, Dublin\", \"7 Nov 2020 - Supply Chain in Dublin, Dublin\", \"11 May 2020 - Financial Analyst in Dublin, Dublin\", \"13 Jan 2021 - Human Resources Business Partner HRBP in Dublin, Dublin\", \"7 Nov 2020 - Solutions Architect in Dublin, Dublin\", \"10 Aug 2020 - EMEA Internal Audit, Sox & Compliance in Dublin, Dublin\", \"28 Aug 2020 - Corporate Ops in Dublin, Dublin\", \"24 Nov 2019 - Anonymous Employee \", \"6 Apr 2020 - IT Analyst in Dublin, Dublin\", \"4 May 2020 - Finance \", \"18 Dec 2019 - Anonymous Employee in Dublin, Dublin\", \"30 Apr 2020 - Enterprise Architect \", \"25 Mar 2020 - Anonymous Employee \", \"9 Nov 2019 - IT in Dublin, Dublin\", \"31 Dec 2019 - Anonymous Employee \", \"31 Jul 2019 - Supply Chain Manager in Dublin, Dublin\", \"6 May 2019 - IT Business Relationship Manager in Dublin, Dublin\", \"21 Sep 2019 - IT Consultant in Dublin, Dublin\", \"21 Jun 2019 - IT Director in Dublin, Dublin\", \"7 Apr 2019 - IT Architect in Dublin, Dublin\", \"13 Dec 2018 - Anonymous Employee in Dublin, Dublin\", \"2 Nov 2018 - Anonymous Employee in Dublin, Dublin\", \"9 Oct 2018 - Anonymous Employee in Dublin, Dublin\", \"25 Sep 2018 - Anonymous Employee \", \"5 Jan 2019 - Anonymous Employee in Dublin, Dublin\", \"16 Feb 2018 - IT Director in Dublin, Dublin\", \"26 Jun 2018 - Senior Manager in Dublin, Dublin\", \"12 May 2021 - Autonomous Vehicle Operator in Las Vegas, NV\", \"15 May 2021 - Engineer in Troy, MI\", \"22 May 2021 - Anonymous Employee \", \"27 May 2021 - Anonymous Employee in Krak\\u00f3w\", \"28 May 2021 - Supervisor in Krak\\u00f3w\", \"1 Jun 2021 - Engineer in Warren, OH\", \"27 May 2021 - Anonymous Employee in Wuppertal\", \"27 May 2021 - Ing\\u00e9nieur in Troy, MI\", \"27 May 2021 - Administration in Janesville, WI\", \"26 May 2021 - Financial Analyst \", \"14 May 2021 - Agile Coach in Hildesheim\", \"19 May 2021 - Test and Validation Engineer in Bangalore\", \"30 May 2021 - Algorithm Engineer in Troy, MI\", \"6 May 2021 - Engineering Group Manager in Krak\\u00f3w\", \"29 May 2021 - Human Resources Officer in Novi Sad\", \"13 May 2021 - Software Engineer in Bangalore\", \"4 May 2021 - Human Resources Manager in M\\u00fcnchen, Bavaria, Bavaria\", \"30 Apr 2021 - Technical Manager \", \"25 May 2021 - Expert Systems Engineer in Krak\\u00f3w\", \"6 May 2021 - SWE \", \"27 Apr 2021 - Embedded Software Engineer in Bangalore\", \"3 May 2021 - Senior Software Engineer in Krak\\u00f3w\", \"11 Mar 2021 - Advanced Software Engineer in Bangalore\", \"23 May 2021 - Anonymous Employee \", \"27 Apr 2021 - Anonymous Employee \", \"29 Apr 2021 - Systems Engineer in San Francisco, CA\", \"6 Apr 2021 - Mechanical Engineer in Porto, Oporto, Oporto\", \"23 Mar 2021 - Senior Systems Engineer in Bangalore\", \"20 Apr 2021 - Senior Technical Lead \", \"20 Apr 2021 - Senior Software Engineer in Bangalore\", \"20 Apr 2021 - Senior Software Engineer in Bangalore\", \"19 Apr 2021 - Anonymous Employee in Bangalore\", \"8 May 2021 - Product Engineer in Tangier\", \"7 Apr 2021 - Investor Relations in Boston, MA\", \"21 Apr 2021 - Anonymous Employee \", \"5 May 2021 - Anonymous Employee in Wuppertal\", \"14 Apr 2021 - Systems Engineer in Krak\\u00f3w\", \"11 Apr 2021 - Embedded Software Engineer in Bangalore\", \"11 Apr 2021 - Software Developer Intern in Kokomo, IN\", \"10 Apr 2021 - Systems Engineer in Kokomo, IN\", \"13 Apr 2021 - Internship in Bangalore\", \"7 May 2021 - Machine Operator in Novi Sad\", \"8 Apr 2021 - Systems Validation Engineer in Detroit, MI\", \"19 Apr 2021 - Data Architect in Bordeaux, Aquitaine, Aquitaine\", \"12 May 2021 - Engineer in Kokomo, IN\", \"26 Mar 2021 - Human Resources in Ineu, Arad, Arad\", \"10 May 2021 - Systems Engineer in Krak\\u00f3w\", \"7 Apr 2021 - EDS Engineer in Coventry, England, England\", \"8 Apr 2021 - Algorithm Developer \", \"31 Mar 2021 - Technical Leader in Bangalore\", \"5 Apr 2021 - Systems Engineer in Troy, MI\", \"8 Apr 2021 - Senior Software Engineer \", \"19 May 2021 - Graduate Engineer Trainee \", \"1 Apr 2021 - Senior Software Developer in Detroit, MI\", \"31 Mar 2021 - Engineer \", \"6 Apr 2021 - Software Developer in Troy, MI\", \"2 Apr 2021 - Design Engineer in Chennai\", \"5 May 2021 - Sales Manager in Chennai\", \"3 Apr 2021 - Software Engineer in Krak\\u00f3w\", \"2 Apr 2021 - Advanced Technical Leader in Bangalore\", \"9 Mar 2021 - Expert Systems Engineer in Krak\\u00f3w\", \"26 Mar 2021 - Product Owner in Krak\\u00f3w\", \"3 May 2021 - Software Engineer in Detroit, MI\", \"18 Apr 2021 - Anonymous Employee \", \"25 Mar 2021 - Anonymous Employee \", \"29 Apr 2021 - Test Engineer in Braga\", \"20 Mar 2021 - Embedded C Developer in Krak\\u00f3w\", \"13 Jan 2021 - Senior Corporate Recruiter in Troy, MI\", \"18 Mar 2021 - Software Quality Engineer in Wuppertal\", \"16 Mar 2021 - Senior CAD Designer in Troy, MI\", \"22 Mar 2021 - Technical Lead in Krak\\u00f3w\", \"10 May 2021 - Senior Embedded Software Engineer in Kokomo, IN\", \"21 Apr 2021 - Program Manager in Paris\", \"24 Apr 2021 - Algorithm Engineer in Detroit, MI\", \"23 Apr 2021 - Senior Software Engineer \", \"10 Mar 2021 - Advanced Software Developer in Bangalore\", \"17 Mar 2021 - Systems Architect in Hildesheim\", \"30 Mar 2021 - Advanced Software Engineer in Bangalore\", \"21 Apr 2021 - Senior Software Engineer in Bangalore\", \"16 Apr 2021 - Advanced Software Developer \", \"16 Apr 2021 - Advanced Software Developer \", \"9 Mar 2021 - Algorithm Engineer in Suzhou, Jiangsu, Jiangsu\", \"13 Mar 2021 - Anonymous Employee \", \"15 Mar 2021 - BI Developer in Krak\\u00f3w\", \"11 Mar 2021 - Software Test Engineer in Troy, MI\", \"1 May 2021 - Driver/Forklift Operator and Cargo Handler \", \"18 Feb 2021 - Software Engineer in Gothenburg\", \"6 Mar 2021 - Technical Manager in Tokyo\", \"6 Mar 2021 - Chief Engineer in Bangalore\", \"4 Mar 2021 - Engineering in Bangalore\", \"30 Jan 2021 - Electrical Engineer in Auckland, Auckland\", \"6 Mar 2021 - Systems IS Engineer \", \"3 Mar 2021 - Systems Engineer \", \"12 Feb 2021 - Vehicle Test Engineer in Troy, MI\", \"12 Apr 2021 - Logistics Coordinator in Tangier\", \"30 Mar 2021 - IT Specialist in Krak\\u00f3w\", \"18 Feb 2021 - ITV Technician in Ciudad Juarez\", \"4 Apr 2021 - Algorithm Engineer in Indianapolis, IN\", \"24 Feb 2021 - Quality Engineer \", \"22 Feb 2021 - Human Resources in Ineu, Arad, Arad\", \"5 Jan 2021 - Senior Software Engineer in Bangalore\", \"17 Feb 2021 - Recruitment Specialist in Leskovac, Central Serbia, Central Serbia\", \"24 Feb 2021 - System Engineer in Wuppertal\", \"22 Feb 2021 - Data Analyst in Singapore\", \"9 Feb 2021 - Advanced Software Developer in Bangalore\", \"24 Feb 2021 - Electrical Engineer \", \"25 Feb 2021 - Senior Engineering in Auckland, Auckland\", \"27 Feb 2021 - Software Test Engineer in Krak\\u00f3w\", \"22 Jan 2021 - IT Senior Manager in Kokomo, IN\", \"18 Feb 2021 - Human Resources Manager in Tangier\", \"18 Feb 2021 - Human Resources Manager in Tangier\", \"17 Feb 2021 - Senior Talent Acquisition Specialist \", \"21 Feb 2021 - Software Engineer \", \"17 Feb 2021 - Anonymous Employee \", \"9 Feb 2021 - OTC Specialist \", \"10 Feb 2021 - Systems Engineer in Troy, MI\", \"12 Feb 2021 - Functional Safety Engineer in Krak\\u00f3w\", \"31 Mar 2021 - Sales \", \"13 Jan 2021 - Field Applications Engineer in Troy, MI\", \"31 Mar 2021 - Advanced Engineer in Bangalore\", \"13 Feb 2021 - Operations in Las Vegas, NV\", \"20 Mar 2021 - Mechanical Engineer in Braga\", \"28 Mar 2021 - Vehicle Tester/Engineer \", \"25 Mar 2021 - Warehouse Worker in Ang Mo Kio New Town,\", \"2 Sep 2020 - Senior Systems Engineer in Auburn Hills, MI\", \"1 Feb 2021 - Technical Manager \", \"30 Jan 2021 - Senior Software Engineer in Dearborn, MI\", \"4 Feb 2021 - Systems Engineer \", \"10 Feb 2021 - Function Owner in Sterling Heights, MI\", \"16 Jan 2021 - Working Student in Wuppertal\", \"31 Jan 2021 - Machine Operator in Vallam\", \"1 Feb 2021 - Development Engineer in Wuppertal\", \"28 Dec 2020 - Chief Engineer in Troy, MI\", \"19 Mar 2021 - Engineer in Detroit, MI\", \"11 Jan 2021 - Anonymous Employee \", \"1 Mar 2021 - Expediter in Nuevo Laredo\", \"2 Apr 2021 - Anonymous Employee \", \"25 Jan 2021 - Identity and Access Management Engineer in Boston, MA\", \"21 Jan 2021 - Systems Engineer in Wuppertal\", \"16 Mar 2021 - Anonymous Employee in Pune\", \"16 Mar 2021 - Anonymous Employee in Pune\", \"21 Jan 2021 - Project Manager in Krak\\u00f3w\", \"17 Mar 2021 - Engineering Assistant \", \"10 Mar 2021 - Sales in Troy, MI\", \"17 Jan 2021 - Software Engineer in Troy, MI\", \"15 Jan 2021 - Team Leader in Bangalore\", \"11 Nov 2020 - Talent Acquisition Manager in Wuppertal\", \"12 Mar 2021 - Engineering Manager in Detroit, MI\", \"19 Jan 2021 - Advanced Software Engineer in Bangalore\", \"15 Jan 2021 - Senior Test Engineer in Bangalore\", \"12 Mar 2021 - Senior Systems Engineer in Krak\\u00f3w\", \"20 Jan 2021 - Algorithm Engineer \", \"15 Jan 2021 - Algorithm Engineer in Troy, MI\", \"8 Jan 2021 - Software Verification Engineer \", \"11 Jan 2021 - Systems Engineer in Troy, MI\", \"17 Dec 2020 - Software Engineer in Gothenburg\", \"11 Jan 2021 - Team Leader in Krak\\u00f3w\", \"8 Feb 2021 - Buyer in Troy, MI\", \"14 Dec 2020 - Software Engineer in Detroit, MI\", \"22 Feb 2021 - Manager \", \"16 Dec 2020 - Supply Chain/Logistics Analyst in Krak\\u00f3w\", \"15 Feb 2021 - Software Test Engineer in Krak\\u00f3w\", \"17 Dec 2020 - Lean Champion \", \"12 Feb 2021 - Anonymous Employee \", \"5 Feb 2021 - Design Engineer in Pune\", \"25 Jan 2021 - Algorithm Engineer in Troy, MI\", \"15 Dec 2020 - Project Manager in Troy, MI\", \"19 Dec 2020 - Engineering Manager in Bangalore\", \"18 Jan 2021 - Manager \", \"10 Dec 2020 - Software Engineer in Bangalore\", \"14 Dec 2020 - Systems Engineer in Troy, MI\", \"18 Nov 2020 - Technical Leader in Bangalore\", \"10 Nov 2020 - Graduate Engineer in Bangalore\", \"14 Dec 2020 - Manager \", \"14 Dec 2020 - Graduate Engineer Trainee in Bangalore\", \"29 Nov 2020 - Senior Engineer in Troy, MI\", \"4 Dec 2020 - Software Engineer in Krak\\u00f3w\", \"18 Jan 2021 - Software Engineer in Yongin, Kyonggi, Kyonggi\", \"9 Dec 2020 - Senior Software Developer \", \"16 Dec 2020 - Systems Engineer in Warren, OH\", \"1 Dec 2020 - Senior Product Manager in Stuttgart\", \"24 Nov 2020 - HR Manager in Pamplona\", \"29 Jan 2021 - Software Engineer in Detroit, MI\", \"5 Nov 2020 - Senior Technical Project Manager in Wuppertal\", \"23 Nov 2020 - Senior Software Engineer in Bangalore\", \"2 Dec 2020 - Technical Manager in Bangalore\", \"16 Jun 2020 - Manager in Troy, MI\", \"22 Nov 2020 - Software/Systems Test Engineer in Krak\\u00f3w\", \"25 Nov 2020 - Systems Engineer in Troy, MI\", \"25 Jan 2021 - Anonymous Employee \", \"1 Dec 2020 - Data Analyst in Krak\\u00f3w\", \"23 Nov 2020 - Graduate Student Researcher in Wuppertal\", \"25 Nov 2020 - Systems Engineer in Gothenburg\", \"17 Nov 2020 - Systems Engineer in Auburn Hills, MI\", \"25 Jan 2021 - Continuous Improvement Manager in Troy, MI\", \"10 Feb 2021 - Senior Accountant in London, England, England\", \"12 Oct 2020 - Advanced Software Engineer in Kokomo, IN\", \"24 Jan 2021 - Senior Financial Analyst \", \"20 Jan 2021 - Senior Embedded Software Engineer in Detroit, MI\", \"16 Oct 2020 - Manufacturing Engineer in Ivano-Frankivs'k\", \"9 Dec 2020 - Account Manager in M\\u00fcnchen, Bavaria, Bavaria\", \"10 Dec 2020 - Business Analyst in Krak\\u00f3w\", \"9 Jan 2021 - Master Thesis Student in Wuppertal\", \"7 Jan 2021 - Talent Manager in Detroit, MI\", \"18 Jan 2021 - Product Owner \", \"9 Nov 2020 - Project Engineer in Allen Park, MI\", \"28 Oct 2020 - ADAS Algorithm Developer in Troy, MI\", \"22 Dec 2020 - Engineering Assistant \", \"16 Oct 2020 - Talent Acquisition Manager in Rabat\", \"27 Oct 2020 - ADAS Algorithm Developer in Detroit, MI\", \"27 Oct 2020 - ADAS Algorithm Developer in Detroit, MI\", \"28 Jan 2021 - Manager in Troy, MI\", \"18 Oct 2020 - Software Engineer in Troy, MI\", \"19 Oct 2020 - Vehicle Systems Engineer in Troy, MI\", \"24 Sep 2020 - User Experience Designer in Allen Park, MI\", \"24 Oct 2020 - Plant Support Engineer in Novi Sad\", \"17 Oct 2020 - Engineer in Chennai\", \"18 Dec 2020 - Sales Manager in Berlin\", \"24 Sep 2020 - Senior Software Engineer \", \"7 Oct 2020 - Student QA Tester \", \"15 Oct 2020 - Human Resources Supervisor in Kuala Terengganu\", \"2 Nov 2020 - Senior Project Engineer in Kokomo, IN\", \"19 Oct 2020 - Lab Technician \", \"13 Jan 2021 - Software Engineer in Indianapolis, IN\", \"24 Mar 2020 - Executive Director in America, IL\", \"19 Jul 2020 - Director \", \"9 Oct 2020 - Industrial Engineering \", \"5 Oct 2020 - Software/Systems Test Engineer in Krak\\u00f3w\", \"6 Oct 2020 - Program Manager in Allen Park, MI\", \"6 Oct 2020 - Technical Manager in Krak\\u00f3w\", \"6 Oct 2020 - Technical Manager in Krak\\u00f3w\", \"4 Oct 2020 - Software Engineer \", \"5 Oct 2020 - Project Manager in Krak\\u00f3w\", \"30 Nov 2020 - Engineer \", \"30 Sep 2020 - Anonymous Employee in Bangalore\", \"21 Sep 2020 - IT Supervisor, Technical Support in Warren, OH\", \"24 Sep 2020 - Design/BOM Engineer in Hillsboro, OR\", \"12 Sep 2020 - Senior Software Engineer in Chandler, AZ\", \"23 Sep 2020 - Senior Technical Lead in \\u00d6rebro\", \"3 Dec 2020 - Production in New Delhi\", \"19 Aug 2020 - Anonymous Employee \", \"25 Jun 2020 - Systems Engineer in Troy, MI\", \"24 Nov 2020 - DFMEA Engineer \", \"1 Sep 2020 - Senior Engineer \", \"28 Sep 2020 - Anonymous Employee in Troy, MI\", \"20 Sep 2020 - Anonymous Employee in Kokomo, IN\", \"15 May 2020 - Business Unit Director \", \"12 Nov 2020 - Software Engineer \", \"3 Jun 2020 - Anonymous Employee in Troy, MI\", \"31 Aug 2020 - Test Engineer in Kokomo, IN\", \"25 Oct 2020 - Anonymous Employee in Aliso Viejo, CA\", \"30 Jul 2020 - ADAS Algorithm Developer in Columbus, OH\", \"21 Nov 2020 - Product Engineer in Gothenburg\", \"28 Aug 2020 - Anonymous Employee \", \"25 Aug 2020 - CAE Engineer in Bursa\", \"25 Aug 2020 - Senior Software Engineer in Bangalore\", \"3 Aug 2020 - Algorithm Engineer \", \"4 Nov 2020 - Systems Engineer in Troy, MI\", \"31 Aug 2020 - Anonymous Employee \", \"26 Aug 2020 - Software Engineer in Detroit, MI\", \"9 Jun 2020 - Systems Engineer in Troy, MI\", \"10 Nov 2020 - Sales Analyst in Detroit, MI\", \"31 Aug 2020 - Anonymous Employee \", \"17 Aug 2020 - Anonymous Employee \", \"24 Aug 2020 - Manufacturing Engineer in Timi\\u015foara\", \"25 Aug 2020 - Internship in Boston, MA\", \"12 Aug 2020 - Embedded Software Engineer in Ciudad Juarez\", \"31 Jul 2020 - Assistant Manager Supply Chain in Pune\", \"13 Jul 2020 - Anonymous Employee \", \"11 Oct 2020 - ADAS Algorithm Developer in Troy, MI\", \"3 Aug 2020 - Embedded Software Engineer in Krak\\u00f3w\", \"5 Aug 2020 - Anonymous Employee \", \"23 Jul 2020 - Software Developer in Allen Park, MI\", \"16 May 2020 - Senior Hardware Engineer in Kokomo, IN\", \"11 Mar 2020 - Verification Engineer in Bangalore\", \"19 Oct 2020 - EDI Specialist in Ni\\u0161\", \"23 Jul 2020 - Talent Acquisition \", \"5 Oct 2020 - Corporate Manager \", \"15 Jul 2020 - Software Engineer in Troy, MI\", \"12 Jul 2020 - Software Engineer in Troy, MI\", \"24 Jul 2020 - Program Manager in Detroit, MI\", \"15 Jul 2020 - Hardware Engineer \", \"8 Oct 2020 - Senior Manufacturing Supervisor in Brookhaven, MS\", \"28 Jan 2020 - Anonymous Employee in Kokomo, IN\", \"12 Jul 2020 - Algorithm Developer in Troy, MI\", \"9 Sep 2020 - Senior Business Manager in Kokomo, IN\", \"4 Jul 2020 - Program Manager in Troy, MI\", \"14 Jun 2020 - Software Engineer in Troy, MI\", \"14 May 2020 - Chief Engineer \", \"25 Sep 2020 - Manufacturing Engineering in Singapore\", \"25 Sep 2020 - Manufacturing Engineering in Singapore\", \"12 Jun 2020 - Software Engineer in Allen Park, MI\", \"26 Aug 2020 - Technical Lead in Bangalore\", \"30 May 2020 - Test Engineer \", \"8 Jan 2020 - Process Engineer in Warren, OH\", \"10 Oct 2020 - Specialist in Ni\\u0161\", \"9 Jun 2020 - Project Engineer \", \"4 Sep 2020 - Technical Lead in Bangalore\", \"12 Aug 2020 - Materials Management in Reynosa, Tamaulipas, Tamaulipas\", \"8 Jun 2020 - Technician \", \"17 Aug 2020 - Senior Software Engineer in Bangalore\", \"7 Apr 2020 - Senior Software Engineer in Bangalore\", \"5 Oct 2020 - Manager in Leskovac, Central Serbia, Central Serbia\", \"13 May 2020 - Manager in Krak\\u00f3w\", \"18 Aug 2020 - Intern in Lisbon\", \"12 May 2020 - Manufacturing in Singapore\", \"7 Aug 2020 - Process Engineer in Warren, OH\", \"11 May 2020 - Advanced Product Engineer in Ju\\u00e1rez, Chihuahua, Chihuahua\", \"27 Apr 2020 - Senior Mechanical Engineer in Kokomo, IN\", \"17 May 2020 - Operations Manager in Boston, MA\", \"17 May 2020 - Operations Manager in Boston, MA\", \"16 Apr 2020 - Software Engineer Advanced in Bangalore\", \"28 Apr 2020 - Anonymous Employee \", \"10 May 2020 - Responsible in A\\u00eft Aomar, Mekn\\u00e8s-Tafilalet, Mekn\\u00e8s-Tafilalet\", \"18 Apr 2020 - Electrical Engineer in Bangalore\", \"18 Aug 2020 - Technical Support Engineer \", \"19 Jun 2020 - Program Coordinator in Troy, MI\", \"19 Mar 2020 - Software Test Engineer in Krak\\u00f3w\", \"8 Aug 2020 - Material Planner in Pune\", \"23 Feb 2020 - Software Engineer Advanced \", \"8 Feb 2020 - Software Engineer in West Lafayette, IN\", \"15 Sep 2019 - Systems Engineer in Troy, MI\", \"26 Apr 2020 - Corporate in Troy, MI\", \"21 Jan 2020 - Configuration Analyst in Auburn Hills, MI\", \"28 Oct 2019 - Anonymous Employee in Noida\", \"25 Feb 2020 - Anonymous Employee in Troy, MI\", \"30 Jan 2020 - Security Analyst in Troy, MI\", \"21 Jan 2020 - Manager in Stamford, CT\", \"25 Jan 2020 - Anonymous Employee \", \"3 Feb 2020 - Financial Analyst in Austin, TX\", \"3 Feb 2020 - Financial Analyst in Troy, MI\", \"15 Apr 2020 - Software Architect \", \"15 Jan 2020 - Algorithm Engineer \", \"8 Jan 2020 - Anonymous Employee \", \"9 Jan 2020 - Vehicle Operator in Las Vegas, NV\", \"13 Jan 2020 - Simulation Engineer in Troy, MI\", \"22 Jul 2019 - Autonomous Vehicle Operator in Las Vegas, NV\", \"29 Mar 2020 - SiL/HiL Engineer in Krak\\u00f3w\", \"11 Dec 2019 - Senior Software Engineer in Bangalore\", \"30 Dec 2019 - Industrial Engineer in Ju\\u00e1rez, Chihuahua, Chihuahua\", \"8 Oct 2019 - Vehicle Operator in Pittsburgh, PA\", \"18 Mar 2020 - Product Owner in Wuppertal\", \"22 Jul 2019 - Vehicle Operator in Las Vegas, NV\", \"28 Nov 2019 - Architect \", \"25 Nov 2019 - Algorithm Engineer \", \"21 Nov 2019 - Applications in Allen Park, MI\", \"18 Nov 2019 - Senior Design Engineer in Chennai\", \"13 Oct 2019 - Engineering \", \"20 Nov 2019 - Anonymous Employee \", \"12 Nov 2019 - Advanced Safety and User Experience in Troy, MI\", \"12 Nov 2019 - Advanced Safety and User Experience in Troy, MI\", \"22 Mar 2020 - Engineer in Troy, MI\", \"21 Nov 2019 - Anonymous Employee \", \"24 Nov 2019 - Anonymous Employee \", \"11 Oct 2019 - Software Verification Engineer \", \"22 Sep 2019 - Software Project Manager in Bangalore\", \"23 Feb 2020 - Electrical Engineer \", \"3 Oct 2019 - Software Engineer ADAS in Troy, MI\", \"29 Apr 2019 - Algorithm Engineer in Troy, MI\", \"5 Nov 2019 - Indirect Procurement \", \"24 Jan 2020 - Anonymous Employee \", \"22 Aug 2019 - Workday Analyst in Troy, MI\", \"30 Oct 2019 - Anonymous Employee \", \"20 Nov 2019 - Engineer in Troy, MI\", \"24 Jan 2020 -  in Boston, MA\", \"24 Sep 2019 - Researcher in Singapore\", \"5 Sep 2019 - Senior Software Engineer \", \"18 Sep 2019 - Senior Software Engineer in Bangalore\", \"25 Jul 2019 - Director in Boston, MA\", \"16 Jul 2019 - Driver \", \"12 Jun 2019 - Vehicle Operator \", \"2 Jan 2019 - Prefer Not to Say in Pittsburgh, PA\", \"2 Dec 2019 - Technical Designer in Ju\\u00e1rez, Chihuahua, Chihuahua\", \"24 Jul 2019 - IT Specialist in Detroit, MI\", \"8 Feb 2019 - Senior Technical Leader in Bangalore\", \"23 Jul 2019 - Mechanical Engineer \", \"25 Nov 2019 - Electrical Engineer in Troy, MI\", \"25 May 2019 - Senior Technical Leader in Bangalore\", \"22 Jun 2019 - Vehicle Operator \", \"17 Jan 2020 - Anonymous Employee \", \"18 Oct 2019 - Learning and Development Manager in Detroit, MI\", \"1 Dec 2019 - Customer Service Representative in N\\u00fcrnberg\", \"15 Nov 2019 - PC&L Manager in Troy, MI\", \"22 Jun 2019 - Anonymous Employee \", \"16 Mar 2019 - Electrical Engineer in Auburn Hills, MI\", \"1 Aug 2019 - Mechanical Design Engineer in Chennai\", \"21 Nov 2019 - Senior Software Engineer \", \"18 Jul 2019 - Anonymous Employee in Barcelona\", \"24 Jul 2019 - Engineer \", \"11 Jun 2019 - Industrial Engineer in Matamoros, Tamaulipas, Tamaulipas\", \"11 Jun 2019 - Industrial Engineer in Matamoros, Tamaulipas, Tamaulipas\", \"12 May 2019 - Sustaining Engineer in Krak\\u00f3w\", \"13 Jun 2019 - IT PMO Senior Portfolio Advisor in Troy, MI\", \"8 Jul 2019 - Anonymous Employee \", \"1 Jul 2019 - Anonymous Employee \", \"1 Mar 2019 - Vehicle Operator in Pittsburgh, PA\", \"2 Oct 2019 -  \", \"7 Oct 2019 - Logistics Analyst in Krak\\u00f3w\", \"4 Jul 2019 - Technical Lead in Bangalore\", \"18 Jun 2019 - Anonymous Employee in Chennai\", \"15 Apr 2019 - Work Study Student in Wuppertal\", \"6 Mar 2019 - Senior Manager in Troy, MI\", \"11 Jun 2019 - Anonymous Employee in Bangalore\", \"22 May 2019 - Internship \", \"13 Jun 2019 - Financial Controller in Mattighofen, Upper Austria\", \"28 Mar 2019 - Senior Engineer in Bangalore\", \"27 Sep 2019 - Expert Systems Engineer in Krak\\u00f3w\", \"11 Mar 2019 - Anonymous Employee \", \"23 Sep 2019 - Software Engineer in Bangalore\", \"9 May 2019 - Anonymous Employee \", \"21 Sep 2019 - Anonymous Employee in Bangalore\", \"9 Nov 2018 - Anonymous Employee \", \"11 Oct 2019 - Senior Director in Troy, MI\", \"16 May 2019 -  \", \"12 Mar 2019 - Anonymous Employee in Braga\", \"12 Jun 2019 - Anonymous Employee in Troy, MI\", \"7 Apr 2019 - Vehicle Operator in Las Vegas, NV\", \"3 May 2019 - Design Engineer in Chennai\", \"30 Jul 2019 - Logistics Supervisor \", \"17 Feb 2019 - Polyvalent Operator in Novi Sad\", \"11 Jan 2019 - Senior Software Engineer in Boston, MA\", \"24 Apr 2019 - Software Engineer in Bangalore\", \"29 Oct 2019 - Anonymous Employee \", \"17 Sep 2019 - Financial Analyst in Troy, MI\", \"31 Mar 2019 - Sales Engineer in Ciudad de Mexico\", \"16 Jul 2019 - Senior in East Las Vegas, NV\", \"6 Aug 2019 - Anonymous Employee \", \"22 Apr 2019 - Anonymous Employee \", \"1 Jul 2019 - Software Developer in Kokomo, IN\", \"29 Jul 2019 - Manufacturing Engineering Manager in Tangier\", \"29 Nov 2018 - Design Engineer in Troy, MI\", \"29 Mar 2019 - Anonymous Employee \", \"3 Jun 2019 - Advanced Manufacturing Engineer in Auburn Hills, MI\", \"10 Jun 2019 - Anonymous Employee in Kollam\", \"25 Jul 2019 - Deputy Manager in Dh\\u0101ruhera\", \"12 Jul 2019 - Production Supervisor in Pimpri-Chinchwad\", \"1 Jul 2019 - Senior Electrical Engineer in Bangalore\", \"20 Feb 2019 - Software Engineer in Quer\\u00e9taro, Quer\\u00e9taro, Quer\\u00e9taro\", \"17 Jul 2019 - Technical Lead in Bangalore\", \"27 Jun 2019 - Anonymous Employee in Bangalore\", \"27 Jun 2019 - Anonymous Employee in Bangalore\", \"7 Jul 2019 - Team Lead \", \"1 Feb 2019 - Onsite Support Engineer \", \"26 Feb 2019 - Director of Operations in Ciudad de Mexico\", \"21 Feb 2019 - Validation Engineer \", \"14 Feb 2019 - Project Manager \", \"16 Feb 2019 - Systems Engineer in Krak\\u00f3w\", \"19 Feb 2019 - Anonymous Employee \", \"6 Jan 2019 -  \", \"6 Jun 2019 - Android Developer in Bangalore\", \"14 Jan 2019 - Anonymous Employee in Bangalore\", \"23 Dec 2018 - Systems Test Engineer in Krak\\u00f3w\", \"26 Mar 2019 - Senior Software Engineer in Bangalore\", \"15 Apr 2019 - Software Engineer in Bangalore\", \"26 Nov 2018 - Anonymous Employee \", \"19 Nov 2018 - Anonymous Employee \", \"16 Nov 2018 - Advanced Applications Engineer in Whitefield\", \"24 Sep 2018 - Software Verification Engineer - Student in West Lafayette, IN\", \"25 Jan 2019 - Test EA in Singapore\", \"17 Apr 2019 - Product Engineer \", \"17 Apr 2019 - Product Engineer \", \"1 Apr 2019 - IT Operations Manager in \\u0130zmir\", \"11 Apr 2019 - Anonymous Employee in Tangier\", \"28 Mar 2019 - Assistant PE Engineer in Bangalore\", \"21 Oct 2018 - Senior Design Engineer in Chennai\", \"22 Oct 2018 -  \", \"10 Mar 2019 - Quality Engineer \", \"2 Mar 2019 - Anonymous Employee \", \"11 Oct 2018 - Software/Systems Test Engineer in Krak\\u00f3w\", \"21 Sep 2018 -  in Troy, MI\", \"6 Apr 2018 - Vehicle Operator in Las Vegas, NV\", \"14 Sep 2018 - Salesforce Administrator in Troy, MI\", \"20 Mar 2019 - Senior Engineer in Chennai\", \"8 Feb 2019 - Anonymous Employee \", \"13 Jan 2019 - Senior Software Engineer in Bangalore\", \"18 Feb 2019 - Embedded Software Engineer in Kokomo, IN\", \"24 Sep 2018 - Anonymous Employee \", \"1 Nov 2018 - Senior Financial Analyst in Troy, MI\", \"18 Oct 2018 - Anonymous Employee \", \"27 Dec 2018 - Anonymous Employee \", \"12 Oct 2018 - Anonymous Employee \", \"22 Nov 2018 - Anonymous Employee \", \"8 Nov 2018 - Anonymous Employee \", \"14 Jan 2019 - Anonymous Employee \", \"3 Oct 2018 - Validation Engineer in Nuevo Laredo\", \"17 Sep 2018 - Anonymous Employee \", \"1 Mar 2018 - Engineer in Warren, OH\", \"17 Aug 2018 - Vehicle Operator in Las Vegas, NV\", \"9 Apr 2018 - Safety Driver in Las Vegas, NV\", \"24 Aug 2018 - Engineering Manager \", \"4 Sep 2018 - Anonymous Employee \", \"7 Mar 2018 - Technical Leader in Bangalore\", \"21 Aug 2018 - Software Engineer(Internship) in Pittsburgh, PA\", \"8 Mar 2018 - Anonymous Employee \", \"16 Jan 2018 - Anonymous Employee in Troy, MI\", \"30 Aug 2018 - Software Engineer Advanced in Bangalore\", \"24 Apr 2018 - Test Operator in Las Vegas, NV\", \"21 May 2018 - Anonymous Employee \", \"26 Dec 2017 - Mechanical Engineer in Detroit, MI\", \"21 Jan 2018 - Anonymous Employee \", \"3 Mar 2018 - Anonymous Employee \", \"12 Jul 2018 - Senior Engineer in Bangalore\", \"26 Jul 2018 - Anonymous Employee \", \"26 Feb 2018 - Analyst in Troy, MI\", \"31 Jul 2018 - Anonymous Employee \", \"7 Aug 2018 - Technical Leader in Bangalore\", \"26 Mar 2018 - Current Employee in Las Vegas, NV\", \"30 Jun 2018 - Senior Software Engineer in Bangalore\", \"25 Feb 2018 - Expert Software Engineer in Krak\\u00f3w\", \"22 Apr 2018 - Technical Manager in Kokomo, IN\", \"22 Apr 2018 - Technical Manager in Kokomo, IN\", \"1 May 2018 - Software Engineer Advanced in Bangalore\", \"1 Jun 2018 - Product Engineer in Warren, OH\", \"29 Jan 2018 - Technical Lead in Bangalore\", \"2 Apr 2018 - Anonymous Employee \", \"10 Jan 2018 - Anonymous Employee \", \"27 Feb 2018 - Anonymous Employee \", \"6 Apr 2018 - Anonymous Employee in Las Vegas, NV\", \"26 Jul 2018 - Account Executive in New Delhi\", \"27 Mar 2018 - Software Engineer in Pittsburgh, PA\", \"10 May 2018 - Advance Software Engineer in Bangalore\", \"23 Aug 2018 - Advanced Technical Leader in Bangalore\", \"19 Apr 2018 - Software Engineer in Bangalore\", \"15 Jul 2018 - Anonymous Employee \", \"5 Dec 2017 - Electrical Engineer in Kokomo, IN\", \"26 Mar 2018 - Director, Supplier Alignment in Troy, MI\", \"19 Dec 2017 - Anonymous Employee \", \"4 Mar 2018 - Technical Leader in Bangalore Rural\", \"9 Mar 2018 - Anonymous Employee in Troy, MI\", \"20 Mar 2018 - Anonymous Employee \", \"20 Mar 2018 - Anonymous Employee \", \"12 Apr 2018 - Anonymous Employee \", \"29 Aug 2018 - Anonymous Employee \", \"26 Dec 2017 - Anonymous Employee \", \"9 Mar 2018 - Anonymous Employee \", \"15 May 2018 - Lean in Fort Myers, FL\", \"27 May 2018 - Design Engineer in Fort Myers, FL\", \"16 Dec 2017 - Anonymous Employee \", \"7 Jun 2018 - Anonymous Employee \", \"26 Jun 2018 - Maintenance Supervisor in Amf G Boro, NC\", \"8 Jul 2018 - Assistant Manager and Quality Systems Responsible \", \"26 Jun 2018 - Anonymous Employee in Chennai\", \"18 Aug 2018 - Anonymous Employee \", \"22 Feb 2018 - Project Engineer in \\u0130zmir\", \"21 Jun 2018 - Anonymous Employee \", \"9 Jul 2018 - Anonymous Employee \", \"16 Aug 2018 - Anonymous Employee \", \"11 May 2018 - Anonymous Employee \", \"14 Jan 2018 - Entwicklungsingenieur in Wiehl\"]}],                        {\"barmode\": \"overlay\", \"legend\": {\"bgcolor\": \"#F5F6F9\", \"font\": {\"color\": \"#4D5663\"}}, \"paper_bgcolor\": \"#F5F6F9\", \"plot_bgcolor\": \"#F5F6F9\", \"template\": {\"data\": {\"bar\": [{\"error_x\": {\"color\": \"#2a3f5f\"}, \"error_y\": {\"color\": \"#2a3f5f\"}, \"marker\": {\"line\": {\"color\": \"#E5ECF6\", \"width\": 0.5}}, \"type\": \"bar\"}], \"barpolar\": [{\"marker\": {\"line\": {\"color\": \"#E5ECF6\", \"width\": 0.5}}, \"type\": \"barpolar\"}], \"carpet\": [{\"aaxis\": {\"endlinecolor\": \"#2a3f5f\", \"gridcolor\": \"white\", \"linecolor\": \"white\", \"minorgridcolor\": \"white\", \"startlinecolor\": \"#2a3f5f\"}, \"baxis\": {\"endlinecolor\": \"#2a3f5f\", \"gridcolor\": \"white\", \"linecolor\": \"white\", \"minorgridcolor\": \"white\", \"startlinecolor\": \"#2a3f5f\"}, \"type\": \"carpet\"}], \"choropleth\": [{\"colorbar\": {\"outlinewidth\": 0, \"ticks\": \"\"}, \"type\": \"choropleth\"}], \"contour\": [{\"colorbar\": {\"outlinewidth\": 0, \"ticks\": \"\"}, \"colorscale\": [[0.0, \"#0d0887\"], [0.1111111111111111, \"#46039f\"], [0.2222222222222222, \"#7201a8\"], [0.3333333333333333, \"#9c179e\"], [0.4444444444444444, \"#bd3786\"], [0.5555555555555556, \"#d8576b\"], [0.6666666666666666, \"#ed7953\"], [0.7777777777777778, \"#fb9f3a\"], [0.8888888888888888, \"#fdca26\"], [1.0, \"#f0f921\"]], \"type\": \"contour\"}], \"contourcarpet\": [{\"colorbar\": {\"outlinewidth\": 0, \"ticks\": \"\"}, \"type\": \"contourcarpet\"}], \"heatmap\": [{\"colorbar\": {\"outlinewidth\": 0, \"ticks\": \"\"}, \"colorscale\": [[0.0, \"#0d0887\"], [0.1111111111111111, \"#46039f\"], [0.2222222222222222, \"#7201a8\"], [0.3333333333333333, \"#9c179e\"], [0.4444444444444444, \"#bd3786\"], [0.5555555555555556, \"#d8576b\"], [0.6666666666666666, \"#ed7953\"], [0.7777777777777778, \"#fb9f3a\"], [0.8888888888888888, \"#fdca26\"], [1.0, \"#f0f921\"]], \"type\": \"heatmap\"}], \"heatmapgl\": [{\"colorbar\": {\"outlinewidth\": 0, \"ticks\": \"\"}, \"colorscale\": [[0.0, \"#0d0887\"], [0.1111111111111111, \"#46039f\"], [0.2222222222222222, \"#7201a8\"], [0.3333333333333333, \"#9c179e\"], [0.4444444444444444, \"#bd3786\"], [0.5555555555555556, \"#d8576b\"], [0.6666666666666666, \"#ed7953\"], [0.7777777777777778, \"#fb9f3a\"], [0.8888888888888888, \"#fdca26\"], [1.0, \"#f0f921\"]], \"type\": \"heatmapgl\"}], \"histogram\": [{\"marker\": {\"colorbar\": {\"outlinewidth\": 0, \"ticks\": \"\"}}, \"type\": \"histogram\"}], \"histogram2d\": [{\"colorbar\": {\"outlinewidth\": 0, \"ticks\": \"\"}, \"colorscale\": [[0.0, \"#0d0887\"], [0.1111111111111111, \"#46039f\"], [0.2222222222222222, \"#7201a8\"], [0.3333333333333333, \"#9c179e\"], [0.4444444444444444, \"#bd3786\"], [0.5555555555555556, \"#d8576b\"], [0.6666666666666666, \"#ed7953\"], [0.7777777777777778, \"#fb9f3a\"], [0.8888888888888888, \"#fdca26\"], [1.0, \"#f0f921\"]], \"type\": \"histogram2d\"}], \"histogram2dcontour\": [{\"colorbar\": {\"outlinewidth\": 0, \"ticks\": \"\"}, \"colorscale\": [[0.0, \"#0d0887\"], [0.1111111111111111, \"#46039f\"], [0.2222222222222222, \"#7201a8\"], [0.3333333333333333, \"#9c179e\"], [0.4444444444444444, \"#bd3786\"], [0.5555555555555556, \"#d8576b\"], [0.6666666666666666, \"#ed7953\"], [0.7777777777777778, \"#fb9f3a\"], [0.8888888888888888, \"#fdca26\"], [1.0, \"#f0f921\"]], \"type\": \"histogram2dcontour\"}], \"mesh3d\": [{\"colorbar\": {\"outlinewidth\": 0, \"ticks\": \"\"}, \"type\": \"mesh3d\"}], \"parcoords\": [{\"line\": {\"colorbar\": {\"outlinewidth\": 0, \"ticks\": \"\"}}, \"type\": \"parcoords\"}], \"pie\": [{\"automargin\": true, \"type\": \"pie\"}], \"scatter\": [{\"marker\": {\"colorbar\": {\"outlinewidth\": 0, \"ticks\": \"\"}}, \"type\": \"scatter\"}], \"scatter3d\": [{\"line\": {\"colorbar\": {\"outlinewidth\": 0, \"ticks\": \"\"}}, \"marker\": {\"colorbar\": {\"outlinewidth\": 0, \"ticks\": \"\"}}, \"type\": \"scatter3d\"}], \"scattercarpet\": [{\"marker\": {\"colorbar\": {\"outlinewidth\": 0, \"ticks\": \"\"}}, \"type\": \"scattercarpet\"}], \"scattergeo\": [{\"marker\": {\"colorbar\": {\"outlinewidth\": 0, \"ticks\": \"\"}}, \"type\": \"scattergeo\"}], \"scattergl\": [{\"marker\": {\"colorbar\": {\"outlinewidth\": 0, \"ticks\": \"\"}}, \"type\": \"scattergl\"}], \"scattermapbox\": [{\"marker\": {\"colorbar\": {\"outlinewidth\": 0, \"ticks\": \"\"}}, \"type\": \"scattermapbox\"}], \"scatterpolar\": [{\"marker\": {\"colorbar\": {\"outlinewidth\": 0, \"ticks\": \"\"}}, \"type\": \"scatterpolar\"}], \"scatterpolargl\": [{\"marker\": {\"colorbar\": {\"outlinewidth\": 0, \"ticks\": \"\"}}, \"type\": \"scatterpolargl\"}], \"scatterternary\": [{\"marker\": {\"colorbar\": {\"outlinewidth\": 0, \"ticks\": \"\"}}, \"type\": \"scatterternary\"}], \"surface\": [{\"colorbar\": {\"outlinewidth\": 0, \"ticks\": \"\"}, \"colorscale\": [[0.0, \"#0d0887\"], [0.1111111111111111, \"#46039f\"], [0.2222222222222222, \"#7201a8\"], [0.3333333333333333, \"#9c179e\"], [0.4444444444444444, \"#bd3786\"], [0.5555555555555556, \"#d8576b\"], [0.6666666666666666, \"#ed7953\"], [0.7777777777777778, \"#fb9f3a\"], [0.8888888888888888, \"#fdca26\"], [1.0, \"#f0f921\"]], \"type\": \"surface\"}], \"table\": [{\"cells\": {\"fill\": {\"color\": \"#EBF0F8\"}, \"line\": {\"color\": \"white\"}}, \"header\": {\"fill\": {\"color\": \"#C8D4E3\"}, \"line\": {\"color\": \"white\"}}, \"type\": \"table\"}]}, \"layout\": {\"annotationdefaults\": {\"arrowcolor\": \"#2a3f5f\", \"arrowhead\": 0, \"arrowwidth\": 1}, \"autotypenumbers\": \"strict\", \"coloraxis\": {\"colorbar\": {\"outlinewidth\": 0, \"ticks\": \"\"}}, \"colorscale\": {\"diverging\": [[0, \"#8e0152\"], [0.1, \"#c51b7d\"], [0.2, \"#de77ae\"], [0.3, \"#f1b6da\"], [0.4, \"#fde0ef\"], [0.5, \"#f7f7f7\"], [0.6, \"#e6f5d0\"], [0.7, \"#b8e186\"], [0.8, \"#7fbc41\"], [0.9, \"#4d9221\"], [1, \"#276419\"]], \"sequential\": [[0.0, \"#0d0887\"], [0.1111111111111111, \"#46039f\"], [0.2222222222222222, \"#7201a8\"], [0.3333333333333333, \"#9c179e\"], [0.4444444444444444, \"#bd3786\"], [0.5555555555555556, \"#d8576b\"], [0.6666666666666666, \"#ed7953\"], [0.7777777777777778, \"#fb9f3a\"], [0.8888888888888888, \"#fdca26\"], [1.0, \"#f0f921\"]], \"sequentialminus\": [[0.0, \"#0d0887\"], [0.1111111111111111, \"#46039f\"], [0.2222222222222222, \"#7201a8\"], [0.3333333333333333, \"#9c179e\"], [0.4444444444444444, \"#bd3786\"], [0.5555555555555556, \"#d8576b\"], [0.6666666666666666, \"#ed7953\"], [0.7777777777777778, \"#fb9f3a\"], [0.8888888888888888, \"#fdca26\"], [1.0, \"#f0f921\"]]}, \"colorway\": [\"#636efa\", \"#EF553B\", \"#00cc96\", \"#ab63fa\", \"#FFA15A\", \"#19d3f3\", \"#FF6692\", \"#B6E880\", \"#FF97FF\", \"#FECB52\"], \"font\": {\"color\": \"#2a3f5f\"}, \"geo\": {\"bgcolor\": \"white\", \"lakecolor\": \"white\", \"landcolor\": \"#E5ECF6\", \"showlakes\": true, \"showland\": true, \"subunitcolor\": \"white\"}, \"hoverlabel\": {\"align\": \"left\"}, \"hovermode\": \"closest\", \"mapbox\": {\"style\": \"light\"}, \"paper_bgcolor\": \"white\", \"plot_bgcolor\": \"#E5ECF6\", \"polar\": {\"angularaxis\": {\"gridcolor\": \"white\", \"linecolor\": \"white\", \"ticks\": \"\"}, \"bgcolor\": \"#E5ECF6\", \"radialaxis\": {\"gridcolor\": \"white\", \"linecolor\": \"white\", \"ticks\": \"\"}}, \"scene\": {\"xaxis\": {\"backgroundcolor\": \"#E5ECF6\", \"gridcolor\": \"white\", \"gridwidth\": 2, \"linecolor\": \"white\", \"showbackground\": true, \"ticks\": \"\", \"zerolinecolor\": \"white\"}, \"yaxis\": {\"backgroundcolor\": \"#E5ECF6\", \"gridcolor\": \"white\", \"gridwidth\": 2, \"linecolor\": \"white\", \"showbackground\": true, \"ticks\": \"\", \"zerolinecolor\": \"white\"}, \"zaxis\": {\"backgroundcolor\": \"#E5ECF6\", \"gridcolor\": \"white\", \"gridwidth\": 2, \"linecolor\": \"white\", \"showbackground\": true, \"ticks\": \"\", \"zerolinecolor\": \"white\"}}, \"shapedefaults\": {\"line\": {\"color\": \"#2a3f5f\"}}, \"ternary\": {\"aaxis\": {\"gridcolor\": \"white\", \"linecolor\": \"white\", \"ticks\": \"\"}, \"baxis\": {\"gridcolor\": \"white\", \"linecolor\": \"white\", \"ticks\": \"\"}, \"bgcolor\": \"#E5ECF6\", \"caxis\": {\"gridcolor\": \"white\", \"linecolor\": \"white\", \"ticks\": \"\"}}, \"title\": {\"x\": 0.05}, \"xaxis\": {\"automargin\": true, \"gridcolor\": \"white\", \"linecolor\": \"white\", \"ticks\": \"\", \"title\": {\"standoff\": 15}, \"zerolinecolor\": \"white\", \"zerolinewidth\": 2}, \"yaxis\": {\"automargin\": true, \"gridcolor\": \"white\", \"linecolor\": \"white\", \"ticks\": \"\", \"title\": {\"standoff\": 15}, \"zerolinecolor\": \"white\", \"zerolinewidth\": 2}}}, \"title\": {\"font\": {\"color\": \"#4D5663\"}}, \"xaxis\": {\"gridcolor\": \"#E1E5ED\", \"showgrid\": true, \"tickfont\": {\"color\": \"#4D5663\"}, \"title\": {\"font\": {\"color\": \"#4D5663\"}, \"text\": \"\"}, \"zerolinecolor\": \"#E1E5ED\"}, \"yaxis\": {\"gridcolor\": \"#E1E5ED\", \"showgrid\": true, \"tickfont\": {\"color\": \"#4D5663\"}, \"title\": {\"font\": {\"color\": \"#4D5663\"}, \"text\": \"\"}, \"zerolinecolor\": \"#E1E5ED\"}},                        {\"showLink\": true, \"linkText\": \"Export to plot.ly\", \"plotlyServerURL\": \"https://plot.ly\", \"responsive\": true}                    ).then(function(){\n",
       "                            \n",
       "var gd = document.getElementById('be44cf8a-8cbb-4ec4-bafa-9cdc44ba9ca1');\n",
       "var x = new MutationObserver(function (mutations, observer) {{\n",
       "        var display = window.getComputedStyle(gd).display;\n",
       "        if (!display || display === 'none') {{\n",
       "            console.log([gd, 'removed!']);\n",
       "            Plotly.purge(gd);\n",
       "            observer.disconnect();\n",
       "        }}\n",
       "}});\n",
       "\n",
       "// Listen for the removal of the full notebook cells\n",
       "var notebookContainer = gd.closest('#notebook-container');\n",
       "if (notebookContainer) {{\n",
       "    x.observe(notebookContainer, {childList: true});\n",
       "}}\n",
       "\n",
       "// Listen for the clearing of the current output cell\n",
       "var outputEl = gd.closest('.output');\n",
       "if (outputEl) {{\n",
       "    x.observe(outputEl, {childList: true});\n",
       "}}\n",
       "\n",
       "                        })                };                });            </script>        </div>"
      ]
     },
     "metadata": {},
     "output_type": "display_data"
    }
   ],
   "source": [
    "df[['Rating', 'Author Info']].iplot(kind='hist', color='red')"
   ]
  },
  {
   "cell_type": "code",
   "execution_count": null,
   "id": "6ec7ea43",
   "metadata": {},
   "outputs": [],
   "source": []
  }
 ],
 "metadata": {
  "kernelspec": {
   "display_name": "Python 3",
   "language": "python",
   "name": "python3"
  },
  "language_info": {
   "codemirror_mode": {
    "name": "ipython",
    "version": 3
   },
   "file_extension": ".py",
   "mimetype": "text/x-python",
   "name": "python",
   "nbconvert_exporter": "python",
   "pygments_lexer": "ipython3",
   "version": "3.9.2"
  }
 },
 "nbformat": 4,
 "nbformat_minor": 5
}
