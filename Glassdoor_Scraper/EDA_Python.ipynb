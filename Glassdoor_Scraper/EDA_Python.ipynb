{
 "cells": [
  {
   "cell_type": "code",
   "execution_count": 1,
   "id": "5e3babe3",
   "metadata": {},
   "outputs": [],
   "source": [
    "# Extract keyords and important topics\n",
    "# Wordcloud to show the ones that occur the most often\n",
    "# Visualizations between employee title, tenure, department and the rating they gave"
   ]
  },
  {
   "cell_type": "code",
   "execution_count": 2,
   "id": "64fb603b",
   "metadata": {},
   "outputs": [],
   "source": [
    "# Heatmap on a map of the world for grades by location"
   ]
  },
  {
   "cell_type": "code",
   "execution_count": 3,
   "id": "495344b6",
   "metadata": {},
   "outputs": [],
   "source": [
    "# Extract the top N positives and negative points that come up in reviews"
   ]
  },
  {
   "cell_type": "code",
   "execution_count": 4,
   "id": "89c37bb6",
   "metadata": {},
   "outputs": [],
   "source": [
    "# General sentiment about the company - different segments of the employee population.\n",
    "\n",
    "# > What are the segments of people we are interested in? Everyone? Mangers and up?\n",
    "# > What do we want to know about them? How they feel about the company\n",
    "# > Why do they feel that way? - Topic Extraction and Clustering\n",
    "# > How has this changed through time? Were people giving better reviews in 2018?"
   ]
  },
  {
   "cell_type": "code",
   "execution_count": 5,
   "id": "cd3dac81",
   "metadata": {},
   "outputs": [],
   "source": [
    "import pandas as pd\n",
    "import numpy as np\n",
    "import seaborn as sns\n",
    "import matplotlib.pyplot as plt\n",
    "import os\n",
    "%matplotlib inline\n",
    "import string"
   ]
  },
  {
   "cell_type": "code",
   "execution_count": 6,
   "id": "eca3181a",
   "metadata": {},
   "outputs": [],
   "source": [
    "import plotly as py\n",
    "import cufflinks as cf"
   ]
  },
  {
   "cell_type": "code",
   "execution_count": 7,
   "id": "767fae3b",
   "metadata": {},
   "outputs": [
    {
     "data": {
      "text/html": [
       "        <script type=\"text/javascript\">\n",
       "        window.PlotlyConfig = {MathJaxConfig: 'local'};\n",
       "        if (window.MathJax) {MathJax.Hub.Config({SVG: {font: \"STIX-Web\"}});}\n",
       "        if (typeof require !== 'undefined') {\n",
       "        require.undef(\"plotly\");\n",
       "        requirejs.config({\n",
       "            paths: {\n",
       "                'plotly': ['https://cdn.plot.ly/plotly-latest.min']\n",
       "            }\n",
       "        });\n",
       "        require(['plotly'], function(Plotly) {\n",
       "            window._Plotly = Plotly;\n",
       "        });\n",
       "        }\n",
       "        </script>\n",
       "        "
      ]
     },
     "metadata": {},
     "output_type": "display_data"
    },
    {
     "data": {
      "text/html": [
       "        <script type=\"text/javascript\">\n",
       "        window.PlotlyConfig = {MathJaxConfig: 'local'};\n",
       "        if (window.MathJax) {MathJax.Hub.Config({SVG: {font: \"STIX-Web\"}});}\n",
       "        if (typeof require !== 'undefined') {\n",
       "        require.undef(\"plotly\");\n",
       "        requirejs.config({\n",
       "            paths: {\n",
       "                'plotly': ['https://cdn.plot.ly/plotly-latest.min']\n",
       "            }\n",
       "        });\n",
       "        require(['plotly'], function(Plotly) {\n",
       "            window._Plotly = Plotly;\n",
       "        });\n",
       "        }\n",
       "        </script>\n",
       "        "
      ]
     },
     "metadata": {},
     "output_type": "display_data"
    }
   ],
   "source": [
    "from plotly.offline import iplot\n",
    "py.offline.init_notebook_mode(connected=True)\n",
    "cf.go_offline()"
   ]
  },
  {
   "cell_type": "markdown",
   "id": "dfefe13d",
   "metadata": {},
   "source": [
    "### Data import"
   ]
  },
  {
   "cell_type": "code",
   "execution_count": 8,
   "id": "d9a55d87",
   "metadata": {},
   "outputs": [
    {
     "data": {
      "text/html": [
       "<div>\n",
       "<style scoped>\n",
       "    .dataframe tbody tr th:only-of-type {\n",
       "        vertical-align: middle;\n",
       "    }\n",
       "\n",
       "    .dataframe tbody tr th {\n",
       "        vertical-align: top;\n",
       "    }\n",
       "\n",
       "    .dataframe thead th {\n",
       "        text-align: right;\n",
       "    }\n",
       "</style>\n",
       "<table border=\"1\" class=\"dataframe\">\n",
       "  <thead>\n",
       "    <tr style=\"text-align: right;\">\n",
       "      <th></th>\n",
       "      <th>Title</th>\n",
       "      <th>Rating</th>\n",
       "      <th>Employee_Status</th>\n",
       "      <th>Pros</th>\n",
       "      <th>Cons</th>\n",
       "      <th>Date_Posted</th>\n",
       "      <th>Employee_Title</th>\n",
       "      <th>Location</th>\n",
       "      <th>Unnamed: 9</th>\n",
       "    </tr>\n",
       "  </thead>\n",
       "  <tbody>\n",
       "    <tr>\n",
       "      <th>0</th>\n",
       "      <td>Great Culture and Company That Cares</td>\n",
       "      <td>4</td>\n",
       "      <td>Current Employee</td>\n",
       "      <td>Not much politics and very few ego's. Everyone...</td>\n",
       "      <td>Need to focus on career growth and promoting w...</td>\n",
       "      <td>13-Jan-21</td>\n",
       "      <td>Senior Corporate Recruiter in Troy</td>\n",
       "      <td>MI</td>\n",
       "      <td>NaN</td>\n",
       "    </tr>\n",
       "    <tr>\n",
       "      <th>1</th>\n",
       "      <td>Shaping the Future of Mobility!</td>\n",
       "      <td>5</td>\n",
       "      <td>Current Employee, more than 1 year</td>\n",
       "      <td>Global Work Environment, Cutting Edge Technolo...</td>\n",
       "      <td>None to mention at this time.</td>\n",
       "      <td>14-Apr-21</td>\n",
       "      <td>Program Manager in Dublin</td>\n",
       "      <td>Dublin</td>\n",
       "      <td>NaN</td>\n",
       "    </tr>\n",
       "    <tr>\n",
       "      <th>2</th>\n",
       "      <td>Lots of potential- getting there</td>\n",
       "      <td>4</td>\n",
       "      <td>Current Employee, more than 1 year</td>\n",
       "      <td>A very fast paced environment - you definitely...</td>\n",
       "      <td>Training and coaching could be better- high ex...</td>\n",
       "      <td>22-May-21</td>\n",
       "      <td>SCM in Dublin</td>\n",
       "      <td>Dublin</td>\n",
       "      <td>NaN</td>\n",
       "    </tr>\n",
       "    <tr>\n",
       "      <th>3</th>\n",
       "      <td>Alright but not the best</td>\n",
       "      <td>3</td>\n",
       "      <td>Current Employee, more than 1 year</td>\n",
       "      <td>Excellent office, good staff, good pay, good b...</td>\n",
       "      <td>Dis organised, office politics at mid/top leve...</td>\n",
       "      <td>08-Mar-21</td>\n",
       "      <td>Business Analyst in Dublin</td>\n",
       "      <td>Dublin</td>\n",
       "      <td>NaN</td>\n",
       "    </tr>\n",
       "    <tr>\n",
       "      <th>4</th>\n",
       "      <td>Aptiv</td>\n",
       "      <td>3</td>\n",
       "      <td>Current Employee</td>\n",
       "      <td>It is one of the leaders in the automotive ind...</td>\n",
       "      <td>High pressure for hitting numbers, it is more ...</td>\n",
       "      <td>07-Nov-20</td>\n",
       "      <td>Supply Chain in Dublin</td>\n",
       "      <td>Dublin</td>\n",
       "      <td>NaN</td>\n",
       "    </tr>\n",
       "  </tbody>\n",
       "</table>\n",
       "</div>"
      ],
      "text/plain": [
       "                                  Title  Rating  \\\n",
       "0  Great Culture and Company That Cares       4   \n",
       "1       Shaping the Future of Mobility!       5   \n",
       "2      Lots of potential- getting there       4   \n",
       "3              Alright but not the best       3   \n",
       "4                                 Aptiv       3   \n",
       "\n",
       "                      Employee_Status  \\\n",
       "0                    Current Employee   \n",
       "1  Current Employee, more than 1 year   \n",
       "2  Current Employee, more than 1 year   \n",
       "3  Current Employee, more than 1 year   \n",
       "4                    Current Employee   \n",
       "\n",
       "                                                Pros  \\\n",
       "0  Not much politics and very few ego's. Everyone...   \n",
       "1  Global Work Environment, Cutting Edge Technolo...   \n",
       "2  A very fast paced environment - you definitely...   \n",
       "3  Excellent office, good staff, good pay, good b...   \n",
       "4  It is one of the leaders in the automotive ind...   \n",
       "\n",
       "                                                Cons Date_Posted  \\\n",
       "0  Need to focus on career growth and promoting w...   13-Jan-21   \n",
       "1                      None to mention at this time.   14-Apr-21   \n",
       "2  Training and coaching could be better- high ex...   22-May-21   \n",
       "3  Dis organised, office politics at mid/top leve...   08-Mar-21   \n",
       "4  High pressure for hitting numbers, it is more ...   07-Nov-20   \n",
       "\n",
       "                        Employee_Title Location Unnamed: 9  \n",
       "0   Senior Corporate Recruiter in Troy       MI        NaN  \n",
       "1            Program Manager in Dublin   Dublin        NaN  \n",
       "2                        SCM in Dublin   Dublin        NaN  \n",
       "3           Business Analyst in Dublin   Dublin        NaN  \n",
       "4               Supply Chain in Dublin   Dublin        NaN  "
      ]
     },
     "execution_count": 8,
     "metadata": {},
     "output_type": "execute_result"
    }
   ],
   "source": [
    "df = pd.read_csv('Data.csv', index_col = 0)\n",
    "df.head()"
   ]
  },
  {
   "cell_type": "code",
   "execution_count": 9,
   "id": "137a83ce",
   "metadata": {},
   "outputs": [
    {
     "data": {
      "text/plain": [
       "Index(['Title', 'Rating', 'Employee_Status', 'Pros', 'Cons', 'Date_Posted',\n",
       "       'Employee_Title', 'Location', 'Unnamed: 9'],\n",
       "      dtype='object')"
      ]
     },
     "execution_count": 9,
     "metadata": {},
     "output_type": "execute_result"
    }
   ],
   "source": [
    "df.columns"
   ]
  },
  {
   "cell_type": "code",
   "execution_count": 10,
   "id": "6755bec3",
   "metadata": {},
   "outputs": [
    {
     "data": {
      "text/html": [
       "<div>\n",
       "<style scoped>\n",
       "    .dataframe tbody tr th:only-of-type {\n",
       "        vertical-align: middle;\n",
       "    }\n",
       "\n",
       "    .dataframe tbody tr th {\n",
       "        vertical-align: top;\n",
       "    }\n",
       "\n",
       "    .dataframe thead th {\n",
       "        text-align: right;\n",
       "    }\n",
       "</style>\n",
       "<table border=\"1\" class=\"dataframe\">\n",
       "  <thead>\n",
       "    <tr style=\"text-align: right;\">\n",
       "      <th></th>\n",
       "      <th>Title</th>\n",
       "      <th>Rating</th>\n",
       "      <th>Employee_Status</th>\n",
       "      <th>Pros</th>\n",
       "      <th>Cons</th>\n",
       "      <th>Date_Posted</th>\n",
       "      <th>Employee_Title</th>\n",
       "      <th>Location</th>\n",
       "    </tr>\n",
       "  </thead>\n",
       "  <tbody>\n",
       "    <tr>\n",
       "      <th>0</th>\n",
       "      <td>Great Culture and Company That Cares</td>\n",
       "      <td>4</td>\n",
       "      <td>Current Employee</td>\n",
       "      <td>Not much politics and very few ego's. Everyone...</td>\n",
       "      <td>Need to focus on career growth and promoting w...</td>\n",
       "      <td>13-Jan-21</td>\n",
       "      <td>Senior Corporate Recruiter in Troy</td>\n",
       "      <td>MI</td>\n",
       "    </tr>\n",
       "    <tr>\n",
       "      <th>1</th>\n",
       "      <td>Shaping the Future of Mobility!</td>\n",
       "      <td>5</td>\n",
       "      <td>Current Employee, more than 1 year</td>\n",
       "      <td>Global Work Environment, Cutting Edge Technolo...</td>\n",
       "      <td>None to mention at this time.</td>\n",
       "      <td>14-Apr-21</td>\n",
       "      <td>Program Manager in Dublin</td>\n",
       "      <td>Dublin</td>\n",
       "    </tr>\n",
       "    <tr>\n",
       "      <th>2</th>\n",
       "      <td>Lots of potential- getting there</td>\n",
       "      <td>4</td>\n",
       "      <td>Current Employee, more than 1 year</td>\n",
       "      <td>A very fast paced environment - you definitely...</td>\n",
       "      <td>Training and coaching could be better- high ex...</td>\n",
       "      <td>22-May-21</td>\n",
       "      <td>SCM in Dublin</td>\n",
       "      <td>Dublin</td>\n",
       "    </tr>\n",
       "    <tr>\n",
       "      <th>3</th>\n",
       "      <td>Alright but not the best</td>\n",
       "      <td>3</td>\n",
       "      <td>Current Employee, more than 1 year</td>\n",
       "      <td>Excellent office, good staff, good pay, good b...</td>\n",
       "      <td>Dis organised, office politics at mid/top leve...</td>\n",
       "      <td>08-Mar-21</td>\n",
       "      <td>Business Analyst in Dublin</td>\n",
       "      <td>Dublin</td>\n",
       "    </tr>\n",
       "    <tr>\n",
       "      <th>4</th>\n",
       "      <td>Aptiv</td>\n",
       "      <td>3</td>\n",
       "      <td>Current Employee</td>\n",
       "      <td>It is one of the leaders in the automotive ind...</td>\n",
       "      <td>High pressure for hitting numbers, it is more ...</td>\n",
       "      <td>07-Nov-20</td>\n",
       "      <td>Supply Chain in Dublin</td>\n",
       "      <td>Dublin</td>\n",
       "    </tr>\n",
       "  </tbody>\n",
       "</table>\n",
       "</div>"
      ],
      "text/plain": [
       "                                  Title  Rating  \\\n",
       "0  Great Culture and Company That Cares       4   \n",
       "1       Shaping the Future of Mobility!       5   \n",
       "2      Lots of potential- getting there       4   \n",
       "3              Alright but not the best       3   \n",
       "4                                 Aptiv       3   \n",
       "\n",
       "                      Employee_Status  \\\n",
       "0                    Current Employee   \n",
       "1  Current Employee, more than 1 year   \n",
       "2  Current Employee, more than 1 year   \n",
       "3  Current Employee, more than 1 year   \n",
       "4                    Current Employee   \n",
       "\n",
       "                                                Pros  \\\n",
       "0  Not much politics and very few ego's. Everyone...   \n",
       "1  Global Work Environment, Cutting Edge Technolo...   \n",
       "2  A very fast paced environment - you definitely...   \n",
       "3  Excellent office, good staff, good pay, good b...   \n",
       "4  It is one of the leaders in the automotive ind...   \n",
       "\n",
       "                                                Cons Date_Posted  \\\n",
       "0  Need to focus on career growth and promoting w...   13-Jan-21   \n",
       "1                      None to mention at this time.   14-Apr-21   \n",
       "2  Training and coaching could be better- high ex...   22-May-21   \n",
       "3  Dis organised, office politics at mid/top leve...   08-Mar-21   \n",
       "4  High pressure for hitting numbers, it is more ...   07-Nov-20   \n",
       "\n",
       "                        Employee_Title Location  \n",
       "0   Senior Corporate Recruiter in Troy       MI  \n",
       "1            Program Manager in Dublin   Dublin  \n",
       "2                        SCM in Dublin   Dublin  \n",
       "3           Business Analyst in Dublin   Dublin  \n",
       "4               Supply Chain in Dublin   Dublin  "
      ]
     },
     "execution_count": 10,
     "metadata": {},
     "output_type": "execute_result"
    }
   ],
   "source": [
    "# DROP UNWANTED COLUMNS\n",
    "df.drop(labels=['Unnamed: 9'], axis=1, inplace=True)\n",
    "df.head()"
   ]
  },
  {
   "cell_type": "code",
   "execution_count": 11,
   "id": "3c1afe74",
   "metadata": {},
   "outputs": [
    {
     "ename": "KeyError",
     "evalue": "'Date Posted'",
     "output_type": "error",
     "traceback": [
      "\u001b[1;31m---------------------------------------------------------------------------\u001b[0m",
      "\u001b[1;31mKeyError\u001b[0m                                  Traceback (most recent call last)",
      "\u001b[1;32mc:\\users\\xj30hh\\appdata\\local\\programs\\python\\python39\\lib\\site-packages\\pandas\\core\\indexes\\base.py\u001b[0m in \u001b[0;36mget_loc\u001b[1;34m(self, key, method, tolerance)\u001b[0m\n\u001b[0;32m   3079\u001b[0m             \u001b[1;32mtry\u001b[0m\u001b[1;33m:\u001b[0m\u001b[1;33m\u001b[0m\u001b[1;33m\u001b[0m\u001b[0m\n\u001b[1;32m-> 3080\u001b[1;33m                 \u001b[1;32mreturn\u001b[0m \u001b[0mself\u001b[0m\u001b[1;33m.\u001b[0m\u001b[0m_engine\u001b[0m\u001b[1;33m.\u001b[0m\u001b[0mget_loc\u001b[0m\u001b[1;33m(\u001b[0m\u001b[0mcasted_key\u001b[0m\u001b[1;33m)\u001b[0m\u001b[1;33m\u001b[0m\u001b[1;33m\u001b[0m\u001b[0m\n\u001b[0m\u001b[0;32m   3081\u001b[0m             \u001b[1;32mexcept\u001b[0m \u001b[0mKeyError\u001b[0m \u001b[1;32mas\u001b[0m \u001b[0merr\u001b[0m\u001b[1;33m:\u001b[0m\u001b[1;33m\u001b[0m\u001b[1;33m\u001b[0m\u001b[0m\n",
      "\u001b[1;32mpandas\\_libs\\index.pyx\u001b[0m in \u001b[0;36mpandas._libs.index.IndexEngine.get_loc\u001b[1;34m()\u001b[0m\n",
      "\u001b[1;32mpandas\\_libs\\index.pyx\u001b[0m in \u001b[0;36mpandas._libs.index.IndexEngine.get_loc\u001b[1;34m()\u001b[0m\n",
      "\u001b[1;32mpandas\\_libs\\hashtable_class_helper.pxi\u001b[0m in \u001b[0;36mpandas._libs.hashtable.PyObjectHashTable.get_item\u001b[1;34m()\u001b[0m\n",
      "\u001b[1;32mpandas\\_libs\\hashtable_class_helper.pxi\u001b[0m in \u001b[0;36mpandas._libs.hashtable.PyObjectHashTable.get_item\u001b[1;34m()\u001b[0m\n",
      "\u001b[1;31mKeyError\u001b[0m: 'Date Posted'",
      "\nThe above exception was the direct cause of the following exception:\n",
      "\u001b[1;31mKeyError\u001b[0m                                  Traceback (most recent call last)",
      "\u001b[1;32m<ipython-input-11-221d50bc905e>\u001b[0m in \u001b[0;36m<module>\u001b[1;34m\u001b[0m\n\u001b[1;32m----> 1\u001b[1;33m \u001b[0mdf\u001b[0m \u001b[1;33m=\u001b[0m \u001b[0mdf\u001b[0m\u001b[1;33m[\u001b[0m\u001b[1;34m\"Date Posted\"\u001b[0m\u001b[1;33m]\u001b[0m\u001b[1;33m.\u001b[0m\u001b[0mdt\u001b[0m\u001b[1;33m.\u001b[0m\u001b[0mstrftime\u001b[0m\u001b[1;33m(\u001b[0m\u001b[1;34m\"%y/%m/%d\"\u001b[0m\u001b[1;33m)\u001b[0m\u001b[1;33m\u001b[0m\u001b[1;33m\u001b[0m\u001b[0m\n\u001b[0m\u001b[0;32m      2\u001b[0m \u001b[0mdf\u001b[0m\u001b[1;33m.\u001b[0m\u001b[0mhead\u001b[0m\u001b[1;33m(\u001b[0m\u001b[1;33m)\u001b[0m\u001b[1;33m\u001b[0m\u001b[1;33m\u001b[0m\u001b[0m\n",
      "\u001b[1;32mc:\\users\\xj30hh\\appdata\\local\\programs\\python\\python39\\lib\\site-packages\\pandas\\core\\frame.py\u001b[0m in \u001b[0;36m__getitem__\u001b[1;34m(self, key)\u001b[0m\n\u001b[0;32m   3022\u001b[0m             \u001b[1;32mif\u001b[0m \u001b[0mself\u001b[0m\u001b[1;33m.\u001b[0m\u001b[0mcolumns\u001b[0m\u001b[1;33m.\u001b[0m\u001b[0mnlevels\u001b[0m \u001b[1;33m>\u001b[0m \u001b[1;36m1\u001b[0m\u001b[1;33m:\u001b[0m\u001b[1;33m\u001b[0m\u001b[1;33m\u001b[0m\u001b[0m\n\u001b[0;32m   3023\u001b[0m                 \u001b[1;32mreturn\u001b[0m \u001b[0mself\u001b[0m\u001b[1;33m.\u001b[0m\u001b[0m_getitem_multilevel\u001b[0m\u001b[1;33m(\u001b[0m\u001b[0mkey\u001b[0m\u001b[1;33m)\u001b[0m\u001b[1;33m\u001b[0m\u001b[1;33m\u001b[0m\u001b[0m\n\u001b[1;32m-> 3024\u001b[1;33m             \u001b[0mindexer\u001b[0m \u001b[1;33m=\u001b[0m \u001b[0mself\u001b[0m\u001b[1;33m.\u001b[0m\u001b[0mcolumns\u001b[0m\u001b[1;33m.\u001b[0m\u001b[0mget_loc\u001b[0m\u001b[1;33m(\u001b[0m\u001b[0mkey\u001b[0m\u001b[1;33m)\u001b[0m\u001b[1;33m\u001b[0m\u001b[1;33m\u001b[0m\u001b[0m\n\u001b[0m\u001b[0;32m   3025\u001b[0m             \u001b[1;32mif\u001b[0m \u001b[0mis_integer\u001b[0m\u001b[1;33m(\u001b[0m\u001b[0mindexer\u001b[0m\u001b[1;33m)\u001b[0m\u001b[1;33m:\u001b[0m\u001b[1;33m\u001b[0m\u001b[1;33m\u001b[0m\u001b[0m\n\u001b[0;32m   3026\u001b[0m                 \u001b[0mindexer\u001b[0m \u001b[1;33m=\u001b[0m \u001b[1;33m[\u001b[0m\u001b[0mindexer\u001b[0m\u001b[1;33m]\u001b[0m\u001b[1;33m\u001b[0m\u001b[1;33m\u001b[0m\u001b[0m\n",
      "\u001b[1;32mc:\\users\\xj30hh\\appdata\\local\\programs\\python\\python39\\lib\\site-packages\\pandas\\core\\indexes\\base.py\u001b[0m in \u001b[0;36mget_loc\u001b[1;34m(self, key, method, tolerance)\u001b[0m\n\u001b[0;32m   3080\u001b[0m                 \u001b[1;32mreturn\u001b[0m \u001b[0mself\u001b[0m\u001b[1;33m.\u001b[0m\u001b[0m_engine\u001b[0m\u001b[1;33m.\u001b[0m\u001b[0mget_loc\u001b[0m\u001b[1;33m(\u001b[0m\u001b[0mcasted_key\u001b[0m\u001b[1;33m)\u001b[0m\u001b[1;33m\u001b[0m\u001b[1;33m\u001b[0m\u001b[0m\n\u001b[0;32m   3081\u001b[0m             \u001b[1;32mexcept\u001b[0m \u001b[0mKeyError\u001b[0m \u001b[1;32mas\u001b[0m \u001b[0merr\u001b[0m\u001b[1;33m:\u001b[0m\u001b[1;33m\u001b[0m\u001b[1;33m\u001b[0m\u001b[0m\n\u001b[1;32m-> 3082\u001b[1;33m                 \u001b[1;32mraise\u001b[0m \u001b[0mKeyError\u001b[0m\u001b[1;33m(\u001b[0m\u001b[0mkey\u001b[0m\u001b[1;33m)\u001b[0m \u001b[1;32mfrom\u001b[0m \u001b[0merr\u001b[0m\u001b[1;33m\u001b[0m\u001b[1;33m\u001b[0m\u001b[0m\n\u001b[0m\u001b[0;32m   3083\u001b[0m \u001b[1;33m\u001b[0m\u001b[0m\n\u001b[0;32m   3084\u001b[0m         \u001b[1;32mif\u001b[0m \u001b[0mtolerance\u001b[0m \u001b[1;32mis\u001b[0m \u001b[1;32mnot\u001b[0m \u001b[1;32mNone\u001b[0m\u001b[1;33m:\u001b[0m\u001b[1;33m\u001b[0m\u001b[1;33m\u001b[0m\u001b[0m\n",
      "\u001b[1;31mKeyError\u001b[0m: 'Date Posted'"
     ]
    }
   ],
   "source": [
    "df = df[\"Date Posted\"].dt.strftime(\"%y/%m/%d\")\n",
    "df.head()\n"
   ]
  },
  {
   "cell_type": "code",
   "execution_count": null,
   "id": "4dda6c88",
   "metadata": {},
   "outputs": [],
   "source": [
    "formatted_df.head()"
   ]
  },
  {
   "cell_type": "code",
   "execution_count": null,
   "id": "ff2aee95",
   "metadata": {},
   "outputs": [],
   "source": [
    "# Add month column\n",
    "df['Year'] = df['Date Posted'].str[0:3]\n",
    "df['Year'] = df['Year'].astype('int32')\n",
    "df.head()"
   ]
  },
  {
   "cell_type": "code",
   "execution_count": null,
   "id": "c2f24907",
   "metadata": {},
   "outputs": [],
   "source": [
    "# Ratings allocated to reviews\n",
    "plt.figure(figsize=(10,10))\n",
    "\n",
    "ax = sns.countplot(x=df['Rating'], data=df, order=df['Rating'].value_counts().index)\n",
    "for p, label in zip(ax.patches, df['Rating'].value_counts()):\n",
    "    print(p)\n",
    "    print(label)\n",
    "    ax.annotate(label, (p.get_x()+0.25, p.get_height()+0.5))"
   ]
  },
  {
   "cell_type": "code",
   "execution_count": null,
   "id": "2e0ecdf5",
   "metadata": {},
   "outputs": [],
   "source": [
    "# Convert datatype to datetime\n",
    "df['Date Posted'] =  pd.to_datetime(df['Date Posted'])"
   ]
  },
  {
   "cell_type": "code",
   "execution_count": null,
   "id": "013a96ca",
   "metadata": {},
   "outputs": [],
   "source": [
    "# Group by date posted\n",
    "results = df.groupby('Date Posted').sum()\n",
    "print(results)"
   ]
  },
  {
   "cell_type": "code",
   "execution_count": 29,
   "id": "cccf06a3",
   "metadata": {},
   "outputs": [
    {
     "ename": "NameError",
     "evalue": "name 'results' is not defined",
     "output_type": "error",
     "traceback": [
      "\u001b[1;31m---------------------------------------------------------------------------\u001b[0m",
      "\u001b[1;31mNameError\u001b[0m                                 Traceback (most recent call last)",
      "\u001b[1;32m<ipython-input-29-b64f83e9b743>\u001b[0m in \u001b[0;36m<module>\u001b[1;34m\u001b[0m\n\u001b[0;32m      8\u001b[0m \u001b[0mmonths\u001b[0m \u001b[1;33m=\u001b[0m \u001b[0mrange\u001b[0m\u001b[1;33m(\u001b[0m\u001b[1;36m1\u001b[0m\u001b[1;33m,\u001b[0m\u001b[1;36m13\u001b[0m\u001b[1;33m)\u001b[0m\u001b[1;33m\u001b[0m\u001b[1;33m\u001b[0m\u001b[0m\n\u001b[0;32m      9\u001b[0m \u001b[1;33m\u001b[0m\u001b[0m\n\u001b[1;32m---> 10\u001b[1;33m \u001b[0mplt\u001b[0m\u001b[1;33m.\u001b[0m\u001b[0mbar\u001b[0m\u001b[1;33m(\u001b[0m\u001b[0mmonths\u001b[0m\u001b[1;33m,\u001b[0m \u001b[0mresults\u001b[0m\u001b[1;33m[\u001b[0m\u001b[1;34m'Date Posted'\u001b[0m\u001b[1;33m]\u001b[0m\u001b[1;33m)\u001b[0m\u001b[1;33m\u001b[0m\u001b[1;33m\u001b[0m\u001b[0m\n\u001b[0m\u001b[0;32m     11\u001b[0m \u001b[0mplt\u001b[0m\u001b[1;33m.\u001b[0m\u001b[0mxticks\u001b[0m\u001b[1;33m(\u001b[0m\u001b[0mDate_Posted\u001b[0m\u001b[1;33m)\u001b[0m\u001b[1;33m\u001b[0m\u001b[1;33m\u001b[0m\u001b[0m\n\u001b[0;32m     12\u001b[0m \u001b[0mplt\u001b[0m\u001b[1;33m.\u001b[0m\u001b[0mylabel\u001b[0m\u001b[1;33m(\u001b[0m\u001b[1;34m'Ratings'\u001b[0m\u001b[1;33m)\u001b[0m\u001b[1;33m\u001b[0m\u001b[1;33m\u001b[0m\u001b[0m\n",
      "\u001b[1;31mNameError\u001b[0m: name 'results' is not defined"
     ]
    }
   ],
   "source": [
    "\n",
    "# time_series = pd.DataFrame(df['Rating'].value_counts().reset_index())\n",
    "# time_series.columns = ['Date Posted', 'Rating']\n",
    "\n",
    "# time_series.plot(kind='hist')\n",
    "# plt.show()\n",
    "\n",
    "\n",
    "months = range(1,13)\n",
    "\n",
    "plt.bar(months, results['Date Posted'])\n",
    "plt.xticks(Date_Posted)\n",
    "plt.ylabel('Ratings')\n",
    "plt.xlabel('Month Number')\n",
    "plt.show()\n",
    "\n",
    "# df = df.sort_values('Date Posted', ascending=True)\n",
    "# plt.plot(df['Date Posted'], df['Rating'])\n",
    "# plt.xticks(rotation='vertical', spread)\n",
    "\n",
    "# Define plot space\n",
    "fig, ax = plt.subplots(figsize=(10, 6))\n",
    "\n",
    "# Define x and y axes\n",
    "ax.plot('Date Posted', Rating)\n",
    "\n",
    "plt.show()"
   ]
  },
  {
   "cell_type": "markdown",
   "id": "1edea8a4",
   "metadata": {},
   "source": [
    "### Feature Engineering"
   ]
  },
  {
   "cell_type": "code",
   "execution_count": null,
   "id": "d3002dba",
   "metadata": {},
   "outputs": [],
   "source": [
    "from textblob import TextBlob"
   ]
  },
  {
   "cell_type": "code",
   "execution_count": null,
   "id": "d27ad006",
   "metadata": {},
   "outputs": [],
   "source": [
    "# What is the sentiment polarity for a particular text\n",
    "df['Pros_polarity'] = df['Pros'].apply(lambda x: TextBlob(x).sentiment.polarity)"
   ]
  },
  {
   "cell_type": "code",
   "execution_count": null,
   "id": "5b7334c9",
   "metadata": {},
   "outputs": [],
   "source": [
    "# Review length - How many characters are there\n",
    "df['Pros_len'] = df['Pros'].apply(lambda x: len(x))"
   ]
  },
  {
   "cell_type": "code",
   "execution_count": null,
   "id": "9efee546",
   "metadata": {},
   "outputs": [],
   "source": [
    "# Total number of words in the review\n",
    "df['Pros_Word_count'] = df['Pros'].apply(lambda x: len(x.split()))"
   ]
  },
  {
   "cell_type": "code",
   "execution_count": null,
   "id": "4d973fc3",
   "metadata": {},
   "outputs": [],
   "source": [
    "# Calculate the aarege word length\n",
    "def get_avg_word_length(x):\n",
    "    words = x.split()\n",
    "    word_len = 0\n",
    "    for word in words:\n",
    "        word_len = word_len + len(word)\n",
    "    return word_len/len(words)"
   ]
  },
  {
   "cell_type": "code",
   "execution_count": null,
   "id": "1fdeedd2",
   "metadata": {},
   "outputs": [],
   "source": [
    "df['Pros_avg_words_len'] = df['Pros'].apply(lambda x: get_avg_word_length(x))"
   ]
  },
  {
   "cell_type": "code",
   "execution_count": null,
   "id": "eeaefd59",
   "metadata": {},
   "outputs": [],
   "source": [
    "df.head()"
   ]
  },
  {
   "cell_type": "code",
   "execution_count": null,
   "id": "3cb0dee5",
   "metadata": {},
   "outputs": [],
   "source": [
    "# What is the sentiment polarity for a particular text\n",
    "df['Cons_polarity'] = df['Cons'].apply(lambda x: TextBlob(x).sentiment.polarity)\n",
    "\n",
    "# Review length - How many characters are there\n",
    "df['Cons_len'] = df['Cons'].apply(lambda x: len(x))\n",
    "\n",
    "# Total number of words in the review\n",
    "df['Cons_Word_count'] = df['Cons'].apply(lambda x: len(x.split()))"
   ]
  },
  {
   "cell_type": "code",
   "execution_count": null,
   "id": "9c766b0f",
   "metadata": {},
   "outputs": [],
   "source": [
    "# Calculate the aarege word length\n",
    "def get_avg_word_length(x):\n",
    "    words = x.split()\n",
    "    word_len = 0\n",
    "    for word in words:\n",
    "        word_len = word_len + len(word)\n",
    "    return word_len/len(words)"
   ]
  },
  {
   "cell_type": "code",
   "execution_count": null,
   "id": "aad81499",
   "metadata": {},
   "outputs": [],
   "source": [
    "df['Cons_avg_words_len'] = df['Pros'].apply(lambda x: get_avg_word_length(x))"
   ]
  },
  {
   "cell_type": "code",
   "execution_count": null,
   "id": "1bd3e23c",
   "metadata": {},
   "outputs": [],
   "source": [
    "df.head()"
   ]
  },
  {
   "cell_type": "markdown",
   "id": "ae5390c9",
   "metadata": {},
   "source": [
    "### Distribution of Sentiment Polarity"
   ]
  },
  {
   "cell_type": "code",
   "execution_count": 24,
   "id": "99d9102e",
   "metadata": {},
   "outputs": [
    {
     "ename": "KeyError",
     "evalue": "'Pros_polarity'",
     "output_type": "error",
     "traceback": [
      "\u001b[1;31m---------------------------------------------------------------------------\u001b[0m",
      "\u001b[1;31mKeyError\u001b[0m                                  Traceback (most recent call last)",
      "\u001b[1;32mc:\\users\\xj30hh\\appdata\\local\\programs\\python\\python39\\lib\\site-packages\\pandas\\core\\indexes\\base.py\u001b[0m in \u001b[0;36mget_loc\u001b[1;34m(self, key, method, tolerance)\u001b[0m\n\u001b[0;32m   3079\u001b[0m             \u001b[1;32mtry\u001b[0m\u001b[1;33m:\u001b[0m\u001b[1;33m\u001b[0m\u001b[1;33m\u001b[0m\u001b[0m\n\u001b[1;32m-> 3080\u001b[1;33m                 \u001b[1;32mreturn\u001b[0m \u001b[0mself\u001b[0m\u001b[1;33m.\u001b[0m\u001b[0m_engine\u001b[0m\u001b[1;33m.\u001b[0m\u001b[0mget_loc\u001b[0m\u001b[1;33m(\u001b[0m\u001b[0mcasted_key\u001b[0m\u001b[1;33m)\u001b[0m\u001b[1;33m\u001b[0m\u001b[1;33m\u001b[0m\u001b[0m\n\u001b[0m\u001b[0;32m   3081\u001b[0m             \u001b[1;32mexcept\u001b[0m \u001b[0mKeyError\u001b[0m \u001b[1;32mas\u001b[0m \u001b[0merr\u001b[0m\u001b[1;33m:\u001b[0m\u001b[1;33m\u001b[0m\u001b[1;33m\u001b[0m\u001b[0m\n",
      "\u001b[1;32mpandas\\_libs\\index.pyx\u001b[0m in \u001b[0;36mpandas._libs.index.IndexEngine.get_loc\u001b[1;34m()\u001b[0m\n",
      "\u001b[1;32mpandas\\_libs\\index.pyx\u001b[0m in \u001b[0;36mpandas._libs.index.IndexEngine.get_loc\u001b[1;34m()\u001b[0m\n",
      "\u001b[1;32mpandas\\_libs\\hashtable_class_helper.pxi\u001b[0m in \u001b[0;36mpandas._libs.hashtable.PyObjectHashTable.get_item\u001b[1;34m()\u001b[0m\n",
      "\u001b[1;32mpandas\\_libs\\hashtable_class_helper.pxi\u001b[0m in \u001b[0;36mpandas._libs.hashtable.PyObjectHashTable.get_item\u001b[1;34m()\u001b[0m\n",
      "\u001b[1;31mKeyError\u001b[0m: 'Pros_polarity'",
      "\nThe above exception was the direct cause of the following exception:\n",
      "\u001b[1;31mKeyError\u001b[0m                                  Traceback (most recent call last)",
      "\u001b[1;32m<ipython-input-24-3765ad6403b2>\u001b[0m in \u001b[0;36m<module>\u001b[1;34m\u001b[0m\n\u001b[1;32m----> 1\u001b[1;33m \u001b[0mdf\u001b[0m\u001b[1;33m[\u001b[0m\u001b[1;34m'Pros_polarity'\u001b[0m\u001b[1;33m]\u001b[0m\u001b[1;33m.\u001b[0m\u001b[0miplot\u001b[0m\u001b[1;33m(\u001b[0m\u001b[0mkind\u001b[0m \u001b[1;33m=\u001b[0m \u001b[1;34m'hist'\u001b[0m\u001b[1;33m,\u001b[0m \u001b[0mcolors\u001b[0m \u001b[1;33m=\u001b[0m \u001b[1;34m'red'\u001b[0m\u001b[1;33m,\u001b[0m \u001b[0mbins\u001b[0m \u001b[1;33m=\u001b[0m \u001b[1;36m50\u001b[0m\u001b[1;33m,\u001b[0m \u001b[0mxTitle\u001b[0m \u001b[1;33m=\u001b[0m \u001b[1;34m'Polarity'\u001b[0m\u001b[1;33m)\u001b[0m\u001b[1;33m\u001b[0m\u001b[1;33m\u001b[0m\u001b[0m\n\u001b[0m\u001b[0;32m      2\u001b[0m \u001b[0mdf\u001b[0m\u001b[1;33m[\u001b[0m\u001b[1;34m'Cons_polarity'\u001b[0m\u001b[1;33m]\u001b[0m\u001b[1;33m.\u001b[0m\u001b[0miplot\u001b[0m\u001b[1;33m(\u001b[0m\u001b[0mkind\u001b[0m \u001b[1;33m=\u001b[0m \u001b[1;34m'hist'\u001b[0m\u001b[1;33m,\u001b[0m \u001b[0mcolors\u001b[0m \u001b[1;33m=\u001b[0m \u001b[1;34m'red'\u001b[0m\u001b[1;33m,\u001b[0m \u001b[0mbins\u001b[0m \u001b[1;33m=\u001b[0m \u001b[1;36m50\u001b[0m\u001b[1;33m,\u001b[0m \u001b[0mxTitle\u001b[0m \u001b[1;33m=\u001b[0m \u001b[1;34m'Polarity'\u001b[0m\u001b[1;33m)\u001b[0m\u001b[1;33m\u001b[0m\u001b[1;33m\u001b[0m\u001b[0m\n",
      "\u001b[1;32mc:\\users\\xj30hh\\appdata\\local\\programs\\python\\python39\\lib\\site-packages\\pandas\\core\\frame.py\u001b[0m in \u001b[0;36m__getitem__\u001b[1;34m(self, key)\u001b[0m\n\u001b[0;32m   3022\u001b[0m             \u001b[1;32mif\u001b[0m \u001b[0mself\u001b[0m\u001b[1;33m.\u001b[0m\u001b[0mcolumns\u001b[0m\u001b[1;33m.\u001b[0m\u001b[0mnlevels\u001b[0m \u001b[1;33m>\u001b[0m \u001b[1;36m1\u001b[0m\u001b[1;33m:\u001b[0m\u001b[1;33m\u001b[0m\u001b[1;33m\u001b[0m\u001b[0m\n\u001b[0;32m   3023\u001b[0m                 \u001b[1;32mreturn\u001b[0m \u001b[0mself\u001b[0m\u001b[1;33m.\u001b[0m\u001b[0m_getitem_multilevel\u001b[0m\u001b[1;33m(\u001b[0m\u001b[0mkey\u001b[0m\u001b[1;33m)\u001b[0m\u001b[1;33m\u001b[0m\u001b[1;33m\u001b[0m\u001b[0m\n\u001b[1;32m-> 3024\u001b[1;33m             \u001b[0mindexer\u001b[0m \u001b[1;33m=\u001b[0m \u001b[0mself\u001b[0m\u001b[1;33m.\u001b[0m\u001b[0mcolumns\u001b[0m\u001b[1;33m.\u001b[0m\u001b[0mget_loc\u001b[0m\u001b[1;33m(\u001b[0m\u001b[0mkey\u001b[0m\u001b[1;33m)\u001b[0m\u001b[1;33m\u001b[0m\u001b[1;33m\u001b[0m\u001b[0m\n\u001b[0m\u001b[0;32m   3025\u001b[0m             \u001b[1;32mif\u001b[0m \u001b[0mis_integer\u001b[0m\u001b[1;33m(\u001b[0m\u001b[0mindexer\u001b[0m\u001b[1;33m)\u001b[0m\u001b[1;33m:\u001b[0m\u001b[1;33m\u001b[0m\u001b[1;33m\u001b[0m\u001b[0m\n\u001b[0;32m   3026\u001b[0m                 \u001b[0mindexer\u001b[0m \u001b[1;33m=\u001b[0m \u001b[1;33m[\u001b[0m\u001b[0mindexer\u001b[0m\u001b[1;33m]\u001b[0m\u001b[1;33m\u001b[0m\u001b[1;33m\u001b[0m\u001b[0m\n",
      "\u001b[1;32mc:\\users\\xj30hh\\appdata\\local\\programs\\python\\python39\\lib\\site-packages\\pandas\\core\\indexes\\base.py\u001b[0m in \u001b[0;36mget_loc\u001b[1;34m(self, key, method, tolerance)\u001b[0m\n\u001b[0;32m   3080\u001b[0m                 \u001b[1;32mreturn\u001b[0m \u001b[0mself\u001b[0m\u001b[1;33m.\u001b[0m\u001b[0m_engine\u001b[0m\u001b[1;33m.\u001b[0m\u001b[0mget_loc\u001b[0m\u001b[1;33m(\u001b[0m\u001b[0mcasted_key\u001b[0m\u001b[1;33m)\u001b[0m\u001b[1;33m\u001b[0m\u001b[1;33m\u001b[0m\u001b[0m\n\u001b[0;32m   3081\u001b[0m             \u001b[1;32mexcept\u001b[0m \u001b[0mKeyError\u001b[0m \u001b[1;32mas\u001b[0m \u001b[0merr\u001b[0m\u001b[1;33m:\u001b[0m\u001b[1;33m\u001b[0m\u001b[1;33m\u001b[0m\u001b[0m\n\u001b[1;32m-> 3082\u001b[1;33m                 \u001b[1;32mraise\u001b[0m \u001b[0mKeyError\u001b[0m\u001b[1;33m(\u001b[0m\u001b[0mkey\u001b[0m\u001b[1;33m)\u001b[0m \u001b[1;32mfrom\u001b[0m \u001b[0merr\u001b[0m\u001b[1;33m\u001b[0m\u001b[1;33m\u001b[0m\u001b[0m\n\u001b[0m\u001b[0;32m   3083\u001b[0m \u001b[1;33m\u001b[0m\u001b[0m\n\u001b[0;32m   3084\u001b[0m         \u001b[1;32mif\u001b[0m \u001b[0mtolerance\u001b[0m \u001b[1;32mis\u001b[0m \u001b[1;32mnot\u001b[0m \u001b[1;32mNone\u001b[0m\u001b[1;33m:\u001b[0m\u001b[1;33m\u001b[0m\u001b[1;33m\u001b[0m\u001b[0m\n",
      "\u001b[1;31mKeyError\u001b[0m: 'Pros_polarity'"
     ]
    }
   ],
   "source": [
    "df['Pros_polarity'].iplot(kind = 'hist', colors = 'red', bins = 50, xTitle = 'Polarity')\n",
    "df['Cons_polarity'].iplot(kind = 'hist', colors = 'red', bins = 50, xTitle = 'Polarity')"
   ]
  },
  {
   "cell_type": "code",
   "execution_count": null,
   "id": "c6d9fd57",
   "metadata": {},
   "outputs": [],
   "source": [
    "### Distribution of Reviews, Ratings"
   ]
  },
  {
   "cell_type": "code",
   "execution_count": null,
   "id": "d6802889",
   "metadata": {
    "scrolled": false
   },
   "outputs": [],
   "source": [
    "df['Rating'].iplot(kind = 'hist', xTitle = 'Rating', yTitle = 'Count', title = 'Review Rating Distribution')"
   ]
  },
  {
   "cell_type": "code",
   "execution_count": 23,
   "id": "74ea05a5",
   "metadata": {},
   "outputs": [
    {
     "data": {
      "application/vnd.plotly.v1+json": {
       "config": {
        "linkText": "Export to plot.ly",
        "plotlyServerURL": "https://plot.ly",
        "showLink": true
       },
       "data": [
        {
         "histfunc": "count",
         "histnorm": "",
         "marker": {
          "color": "rgba(219, 64, 82, 1.0)",
          "line": {
           "color": "#4D5663",
           "width": 1.3
          }
         },
         "name": "Rating",
         "opacity": 0.8,
         "orientation": "v",
         "type": "histogram",
         "x": [
          4,
          5,
          4,
          3,
          3,
          1,
          1,
          4,
          5,
          1,
          5,
          4,
          1,
          5,
          1,
          2,
          1,
          1,
          1,
          4,
          1,
          5,
          4,
          2,
          1,
          2,
          5,
          1,
          5,
          5,
          1,
          1,
          1,
          5,
          4,
          3,
          5,
          4,
          5,
          5,
          4,
          5,
          3,
          5,
          3,
          4,
          5,
          4,
          3,
          5,
          4,
          5,
          5,
          2,
          4,
          5,
          4,
          5,
          5,
          4,
          4,
          4,
          3,
          5,
          4,
          2,
          4,
          4,
          4,
          4,
          5,
          3,
          4,
          2,
          3,
          5,
          3,
          4,
          5,
          5,
          5,
          4,
          1,
          4,
          4,
          4,
          4,
          2,
          4,
          4,
          5,
          4,
          3,
          2,
          5,
          3,
          3,
          4,
          5,
          5,
          5,
          1,
          3,
          3,
          3,
          4,
          3,
          3,
          3,
          1,
          1,
          4,
          4,
          4,
          4,
          1,
          5,
          5,
          5,
          4,
          5,
          4,
          4,
          5,
          3,
          3,
          5,
          3,
          3,
          5,
          5,
          5,
          4,
          5,
          4,
          5,
          4,
          4,
          4,
          5,
          5,
          4,
          4,
          4,
          4,
          5,
          4,
          3,
          4,
          3,
          5,
          2,
          2,
          2,
          4,
          5,
          3,
          5,
          4,
          4,
          4,
          4,
          4,
          3,
          5,
          3,
          1,
          4,
          5,
          3,
          3,
          5,
          2,
          2,
          4,
          4,
          5,
          3,
          5,
          4,
          3,
          4,
          4,
          4,
          4,
          5,
          4,
          3,
          4,
          3,
          5,
          3,
          4,
          2,
          3,
          3,
          5,
          5,
          2,
          5,
          4,
          5,
          4,
          4,
          5,
          5,
          4,
          3,
          5,
          3,
          5,
          5,
          3,
          2,
          4,
          5,
          1,
          4,
          4,
          2,
          5,
          4,
          4,
          4,
          3,
          1,
          4,
          3,
          3,
          1,
          2,
          2,
          3,
          2,
          2,
          5,
          4,
          3,
          5,
          4,
          4,
          1,
          4,
          5,
          2,
          4,
          4,
          2,
          4,
          4,
          5,
          3,
          4,
          1,
          1,
          4,
          5,
          4,
          4,
          4,
          4,
          5,
          4,
          3,
          4,
          5,
          5,
          5,
          4,
          3,
          4,
          5,
          3,
          4,
          3,
          2,
          5,
          3,
          4,
          3,
          1,
          4,
          3,
          5,
          5,
          5,
          2,
          3,
          4,
          4,
          4,
          3,
          4,
          4,
          4,
          4,
          5,
          4,
          4,
          3,
          4,
          4,
          4,
          4,
          3,
          3,
          5,
          2,
          5,
          4,
          4,
          4,
          3,
          4,
          4,
          3,
          4,
          4,
          4,
          3,
          3,
          3,
          2,
          5,
          2,
          1,
          4,
          3,
          3,
          4,
          2,
          4,
          1,
          5,
          3,
          5,
          3,
          5,
          4,
          4,
          4,
          4,
          5,
          2,
          2,
          1,
          2,
          4,
          1,
          4,
          4,
          3,
          1,
          4,
          1,
          1,
          4,
          5,
          5,
          5,
          5,
          3,
          5,
          4,
          5,
          4,
          5,
          3,
          4,
          4,
          4,
          1,
          5,
          4,
          4,
          5,
          4,
          5,
          4,
          5,
          5,
          1,
          4,
          4,
          4,
          5,
          3,
          4,
          4,
          4,
          3,
          1,
          4,
          1,
          1,
          4,
          4,
          5,
          5,
          3,
          5,
          2,
          3,
          4,
          4,
          4,
          3,
          4,
          2,
          1,
          2,
          3,
          3,
          4,
          4,
          4,
          3,
          4,
          5,
          5,
          5,
          5,
          5,
          5,
          5,
          1,
          2,
          2,
          5,
          4,
          4,
          4,
          4,
          4,
          4,
          4,
          3,
          2,
          3,
          4,
          3,
          4,
          1,
          4,
          4,
          1,
          5,
          4,
          3,
          1,
          5,
          4,
          1,
          1,
          5,
          1,
          3,
          2,
          2,
          3,
          3,
          4,
          3,
          3,
          1,
          3,
          2,
          4,
          3,
          3,
          3,
          3,
          5,
          1,
          5,
          4,
          4,
          4,
          1,
          3,
          4,
          4,
          3,
          3,
          5,
          5,
          4,
          4,
          3,
          3,
          3,
          2,
          3,
          3,
          4,
          4,
          3,
          3,
          4,
          1,
          5,
          5,
          1,
          3,
          3,
          3,
          1,
          1,
          3,
          3,
          1,
          3,
          2,
          1,
          3,
          3,
          2,
          5,
          5,
          4,
          5,
          5,
          5,
          3,
          5,
          5,
          5,
          4,
          5,
          3,
          5,
          4,
          4,
          4,
          4,
          2,
          5,
          4,
          4,
          4,
          4,
          4,
          5,
          3,
          5,
          1,
          2,
          5,
          4,
          5,
          4,
          5,
          4,
          4,
          5,
          5,
          5,
          5,
          5,
          4,
          4,
          4,
          4,
          4,
          4,
          4,
          5,
          4,
          5,
          4,
          3,
          3,
          2,
          3,
          2,
          3,
          3,
          2,
          1
         ]
        },
        {
         "histfunc": "count",
         "histnorm": "",
         "marker": {
          "color": "rgba(219, 64, 82, 0.8999999999999999)",
          "line": {
           "color": "#4D5663",
           "width": 1.3
          }
         },
         "name": "Date_Posted",
         "opacity": 0.8,
         "orientation": "v",
         "type": "histogram",
         "x": [
          "13-Jan-21",
          "14-Apr-21",
          "22-May-21",
          "08-Mar-21",
          "07-Nov-20",
          "11-May-20",
          "13-Jan-21",
          "07-Nov-20",
          "10-Aug-20",
          "28-Aug-20",
          "24-Nov-19",
          "06-Apr-20",
          "04-May-20",
          "18-Dec-19",
          "30-Apr-20",
          "25-Mar-20",
          "09-Nov-19",
          "31-Dec-19",
          "31-Jul-19",
          "06-May-19",
          "21-Sep-19",
          "21-Jun-19",
          "07-Apr-19",
          "13-Dec-18",
          "02-Nov-18",
          "09-Oct-18",
          "25-Sep-18",
          "05-Jan-19",
          "16-Feb-18",
          "26-Jun-18",
          "12-May-21",
          "15-May-21",
          "22-May-21",
          "27-May-21",
          "28-May-21",
          "01-Jun-21",
          "27-May-21",
          "27-May-21",
          "27-May-21",
          "26-May-21",
          "14-May-21",
          "19-May-21",
          "30-May-21",
          "06-May-21",
          "29-May-21",
          "13-May-21",
          "04-May-21",
          "30-Apr-21",
          "25-May-21",
          "06-May-21",
          "27-Apr-21",
          "03-May-21",
          "11-Mar-21",
          "23-May-21",
          "27-Apr-21",
          "29-Apr-21",
          "06-Apr-21",
          "23-Mar-21",
          "20-Apr-21",
          "20-Apr-21",
          "20-Apr-21",
          "19-Apr-21",
          "08-May-21",
          "07-Apr-21",
          "21-Apr-21",
          "05-May-21",
          "14-Apr-21",
          "11-Apr-21",
          "11-Apr-21",
          "10-Apr-21",
          "13-Apr-21",
          "07-May-21",
          "08-Apr-21",
          "19-Apr-21",
          "12-May-21",
          "26-Mar-21",
          "10-May-21",
          "07-Apr-21",
          "08-Apr-21",
          "31-Mar-21",
          "05-Apr-21",
          "08-Apr-21",
          "19-May-21",
          "01-Apr-21",
          "31-Mar-21",
          "06-Apr-21",
          "02-Apr-21",
          "05-May-21",
          "03-Apr-21",
          "02-Apr-21",
          "09-Mar-21",
          "26-Mar-21",
          "03-May-21",
          "18-Apr-21",
          "25-Mar-21",
          "29-Apr-21",
          "20-Mar-21",
          "13-Jan-21",
          "18-Mar-21",
          "16-Mar-21",
          "22-Mar-21",
          "10-May-21",
          "21-Apr-21",
          "24-Apr-21",
          "23-Apr-21",
          "10-Mar-21",
          "17-Mar-21",
          "30-Mar-21",
          "21-Apr-21",
          "16-Apr-21",
          "16-Apr-21",
          "09-Mar-21",
          "13-Mar-21",
          "15-Mar-21",
          "11-Mar-21",
          "01-May-21",
          "18-Feb-21",
          "06-Mar-21",
          "06-Mar-21",
          "04-Mar-21",
          "30-Jan-21",
          "06-Mar-21",
          "03-Mar-21",
          "12-Feb-21",
          "12-Apr-21",
          "30-Mar-21",
          "18-Feb-21",
          "04-Apr-21",
          "24-Feb-21",
          "22-Feb-21",
          "05-Jan-21",
          "17-Feb-21",
          "24-Feb-21",
          "22-Feb-21",
          "09-Feb-21",
          "24-Feb-21",
          "25-Feb-21",
          "27-Feb-21",
          "22-Jan-21",
          "18-Feb-21",
          "18-Feb-21",
          "17-Feb-21",
          "21-Feb-21",
          "17-Feb-21",
          "09-Feb-21",
          "10-Feb-21",
          "12-Feb-21",
          "31-Mar-21",
          "13-Jan-21",
          "31-Mar-21",
          "13-Feb-21",
          "20-Mar-21",
          "28-Mar-21",
          "25-Mar-21",
          "02-Sep-20",
          "01-Feb-21",
          "30-Jan-21",
          "04-Feb-21",
          "10-Feb-21",
          "16-Jan-21",
          "31-Jan-21",
          "01-Feb-21",
          "28-Dec-20",
          "19-Mar-21",
          "11-Jan-21",
          "01-Mar-21",
          "02-Apr-21",
          "25-Jan-21",
          "21-Jan-21",
          "16-Mar-21",
          "16-Mar-21",
          "21-Jan-21",
          "17-Mar-21",
          "10-Mar-21",
          "17-Jan-21",
          "15-Jan-21",
          "11-Nov-20",
          "12-Mar-21",
          "19-Jan-21",
          "15-Jan-21",
          "12-Mar-21",
          "20-Jan-21",
          "15-Jan-21",
          "08-Jan-21",
          "11-Jan-21",
          "17-Dec-20",
          "11-Jan-21",
          "08-Feb-21",
          "14-Dec-20",
          "22-Feb-21",
          "16-Dec-20",
          "15-Feb-21",
          "17-Dec-20",
          "12-Feb-21",
          "05-Feb-21",
          "25-Jan-21",
          "15-Dec-20",
          "19-Dec-20",
          "18-Jan-21",
          "10-Dec-20",
          "14-Dec-20",
          "18-Nov-20",
          "10-Nov-20",
          "14-Dec-20",
          "14-Dec-20",
          "29-Nov-20",
          "04-Dec-20",
          "18-Jan-21",
          "09-Dec-20",
          "16-Dec-20",
          "01-Dec-20",
          "24-Nov-20",
          "29-Jan-21",
          "05-Nov-20",
          "23-Nov-20",
          "02-Dec-20",
          "16-Jun-20",
          "22-Nov-20",
          "25-Nov-20",
          "25-Jan-21",
          "01-Dec-20",
          "23-Nov-20",
          "25-Nov-20",
          "17-Nov-20",
          "25-Jan-21",
          "10-Feb-21",
          "12-Oct-20",
          "24-Jan-21",
          "20-Jan-21",
          "16-Oct-20",
          "09-Dec-20",
          "10-Dec-20",
          "09-Jan-21",
          "07-Jan-21",
          "18-Jan-21",
          "09-Nov-20",
          "28-Oct-20",
          "22-Dec-20",
          "16-Oct-20",
          "27-Oct-20",
          "27-Oct-20",
          "28-Jan-21",
          "18-Oct-20",
          "19-Oct-20",
          "24-Sep-20",
          "24-Oct-20",
          "17-Oct-20",
          "18-Dec-20",
          "24-Sep-20",
          "07-Oct-20",
          "15-Oct-20",
          "02-Nov-20",
          "19-Oct-20",
          "13-Jan-21",
          "24-Mar-20",
          "19-Jul-20",
          "09-Oct-20",
          "05-Oct-20",
          "06-Oct-20",
          "06-Oct-20",
          "06-Oct-20",
          "04-Oct-20",
          "05-Oct-20",
          "30-Nov-20",
          "30-Sep-20",
          "21-Sep-20",
          "24-Sep-20",
          "12-Sep-20",
          "23-Sep-20",
          "03-Dec-20",
          "19-Aug-20",
          "25-Jun-20",
          "24-Nov-20",
          "01-Sep-20",
          "28-Sep-20",
          "20-Sep-20",
          "15-May-20",
          "12-Nov-20",
          "03-Jun-20",
          "31-Aug-20",
          "25-Oct-20",
          "30-Jul-20",
          "21-Nov-20",
          "28-Aug-20",
          "25-Aug-20",
          "25-Aug-20",
          "03-Aug-20",
          "04-Nov-20",
          "31-Aug-20",
          "26-Aug-20",
          "09-Jun-20",
          "10-Nov-20",
          "31-Aug-20",
          "17-Aug-20",
          "24-Aug-20",
          "25-Aug-20",
          "12-Aug-20",
          "31-Jul-20",
          "13-Jul-20",
          "11-Oct-20",
          "03-Aug-20",
          "05-Aug-20",
          "23-Jul-20",
          "16-May-20",
          "11-Mar-20",
          "19-Oct-20",
          "23-Jul-20",
          "05-Oct-20",
          "15-Jul-20",
          "12-Jul-20",
          "24-Jul-20",
          "15-Jul-20",
          "08-Oct-20",
          "28-Jan-20",
          "12-Jul-20",
          "09-Sep-20",
          "04-Jul-20",
          "14-Jun-20",
          "14-May-20",
          "25-Sep-20",
          "25-Sep-20",
          "12-Jun-20",
          "26-Aug-20",
          "30-May-20",
          "08-Jan-20",
          "10-Oct-20",
          "09-Jun-20",
          "04-Sep-20",
          "12-Aug-20",
          "08-Jun-20",
          "17-Aug-20",
          "07-Apr-20",
          "05-Oct-20",
          "13-May-20",
          "18-Aug-20",
          "12-May-20",
          "07-Aug-20",
          "11-May-20",
          "27-Apr-20",
          "17-May-20",
          "17-May-20",
          "16-Apr-20",
          "28-Apr-20",
          "10-May-20",
          "18-Apr-20",
          "18-Aug-20",
          "19-Jun-20",
          "19-Mar-20",
          "08-Aug-20",
          "23-Feb-20",
          "08-Feb-20",
          "15-Sep-19",
          "26-Apr-20",
          "21-Jan-20",
          "28-Oct-19",
          "25-Feb-20",
          "30-Jan-20",
          "21-Jan-20",
          "25-Jan-20",
          "03-Feb-20",
          "03-Feb-20",
          "15-Apr-20",
          "15-Jan-20",
          "08-Jan-20",
          "09-Jan-20",
          "13-Jan-20",
          "22-Jul-19",
          "29-Mar-20",
          "11-Dec-19",
          "30-Dec-19",
          "08-Oct-19",
          "18-Mar-20",
          "22-Jul-19",
          "28-Nov-19",
          "25-Nov-19",
          "21-Nov-19",
          "18-Nov-19",
          "13-Oct-19",
          "20-Nov-19",
          "12-Nov-19",
          "12-Nov-19",
          "22-Mar-20",
          "21-Nov-19",
          "24-Nov-19",
          "11-Oct-19",
          "22-Sep-19",
          "23-Feb-20",
          "03-Oct-19",
          "29-Apr-19",
          "05-Nov-19",
          "24-Jan-20",
          "22-Aug-19",
          "30-Oct-19",
          "20-Nov-19",
          "24-Jan-20",
          "24-Sep-19",
          "05-Sep-19",
          "18-Sep-19",
          "25-Jul-19",
          "16-Jul-19",
          "12-Jun-19",
          "02-Jan-19",
          "02-Dec-19",
          "24-Jul-19",
          "08-Feb-19",
          "23-Jul-19",
          "25-Nov-19",
          "25-May-19",
          "22-Jun-19",
          "17-Jan-20",
          "18-Oct-19",
          "01-Dec-19",
          "15-Nov-19",
          "22-Jun-19",
          "16-Mar-19",
          "01-Aug-19",
          "21-Nov-19",
          "18-Jul-19",
          "24-Jul-19",
          "11-Jun-19",
          "11-Jun-19",
          "12-May-19",
          "13-Jun-19",
          "08-Jul-19",
          "01-Jul-19",
          "01-Mar-19",
          "02-Oct-19",
          "07-Oct-19",
          "04-Jul-19",
          "18-Jun-19",
          "15-Apr-19",
          "06-Mar-19",
          "11-Jun-19",
          "22-May-19",
          "13-Jun-19",
          "28-Mar-19",
          "27-Sep-19",
          "11-Mar-19",
          "23-Sep-19",
          "09-May-19",
          "21-Sep-19",
          "09-Nov-18",
          "11-Oct-19",
          "16-May-19",
          "12-Mar-19",
          "12-Jun-19",
          "07-Apr-19",
          "03-May-19",
          "30-Jul-19",
          "17-Feb-19",
          "11-Jan-19",
          "24-Apr-19",
          "29-Oct-19",
          "17-Sep-19",
          "31-Mar-19",
          "16-Jul-19",
          "06-Aug-19",
          "22-Apr-19",
          "01-Jul-19",
          "29-Jul-19",
          "29-Nov-18",
          "29-Mar-19",
          "03-Jun-19",
          "10-Jun-19",
          "25-Jul-19",
          "12-Jul-19",
          "01-Jul-19",
          "20-Feb-19",
          "17-Jul-19",
          "27-Jun-19",
          "27-Jun-19",
          "07-Jul-19",
          "01-Feb-19",
          "26-Feb-19",
          "21-Feb-19",
          "14-Feb-19",
          "16-Feb-19",
          "19-Feb-19",
          "06-Jan-19",
          "06-Jun-19",
          "14-Jan-19",
          "23-Dec-18",
          "26-Mar-19",
          "15-Apr-19",
          "26-Nov-18",
          "19-Nov-18",
          "16-Nov-18",
          "24-Sep-18",
          "25-Jan-19",
          "17-Apr-19",
          "17-Apr-19",
          "01-Apr-19",
          "11-Apr-19",
          "28-Mar-19",
          "21-Oct-18",
          "22-Oct-18",
          "10-Mar-19",
          "02-Mar-19",
          "11-Oct-18",
          "21-Sep-18",
          "06-Apr-18",
          "14-Sep-18",
          "20-Mar-19",
          "08-Feb-19",
          "13-Jan-19",
          "18-Feb-19",
          "24-Sep-18",
          "01-Nov-18",
          "18-Oct-18",
          "27-Dec-18",
          "12-Oct-18",
          "22-Nov-18",
          "08-Nov-18",
          "14-Jan-19",
          "03-Oct-18",
          "17-Sep-18",
          "01-Mar-18",
          "17-Aug-18",
          "09-Apr-18",
          "24-Aug-18",
          "04-Sep-18",
          "07-Mar-18",
          "21-Aug-18",
          "08-Mar-18",
          "16-Jan-18",
          "30-Aug-18",
          "24-Apr-18",
          "21-May-18",
          "26-Dec-17",
          "21-Jan-18",
          "03-Mar-18",
          "12-Jul-18",
          "26-Jul-18",
          "26-Feb-18",
          "31-Jul-18",
          "07-Aug-18",
          "26-Mar-18",
          "30-Jun-18",
          "25-Feb-18",
          "22-Apr-18",
          "22-Apr-18",
          "01-May-18",
          "01-Jun-18",
          "29-Jan-18",
          "02-Apr-18",
          "10-Jan-18",
          "27-Feb-18",
          "06-Apr-18",
          "26-Jul-18",
          "27-Mar-18",
          "10-May-18",
          "23-Aug-18",
          "19-Apr-18",
          "15-Jul-18",
          "05-Dec-17",
          "26-Mar-18",
          "19-Dec-17",
          "04-Mar-18",
          "09-Mar-18",
          "20-Mar-18",
          "20-Mar-18",
          "12-Apr-18",
          "29-Aug-18",
          "26-Dec-17",
          "09-Mar-18",
          "15-May-18",
          "27-May-18",
          "16-Dec-17",
          "07-Jun-18",
          "26-Jun-18",
          "08-Jul-18",
          "26-Jun-18",
          "18-Aug-18",
          "22-Feb-18",
          "21-Jun-18",
          "09-Jul-18",
          "16-Aug-18",
          "11-May-18",
          "14-Jan-18"
         ]
        }
       ],
       "layout": {
        "barmode": "overlay",
        "legend": {
         "bgcolor": "#F5F6F9",
         "font": {
          "color": "#4D5663"
         }
        },
        "paper_bgcolor": "#F5F6F9",
        "plot_bgcolor": "#F5F6F9",
        "template": {
         "data": {
          "bar": [
           {
            "error_x": {
             "color": "#2a3f5f"
            },
            "error_y": {
             "color": "#2a3f5f"
            },
            "marker": {
             "line": {
              "color": "#E5ECF6",
              "width": 0.5
             }
            },
            "type": "bar"
           }
          ],
          "barpolar": [
           {
            "marker": {
             "line": {
              "color": "#E5ECF6",
              "width": 0.5
             }
            },
            "type": "barpolar"
           }
          ],
          "carpet": [
           {
            "aaxis": {
             "endlinecolor": "#2a3f5f",
             "gridcolor": "white",
             "linecolor": "white",
             "minorgridcolor": "white",
             "startlinecolor": "#2a3f5f"
            },
            "baxis": {
             "endlinecolor": "#2a3f5f",
             "gridcolor": "white",
             "linecolor": "white",
             "minorgridcolor": "white",
             "startlinecolor": "#2a3f5f"
            },
            "type": "carpet"
           }
          ],
          "choropleth": [
           {
            "colorbar": {
             "outlinewidth": 0,
             "ticks": ""
            },
            "type": "choropleth"
           }
          ],
          "contour": [
           {
            "colorbar": {
             "outlinewidth": 0,
             "ticks": ""
            },
            "colorscale": [
             [
              0,
              "#0d0887"
             ],
             [
              0.1111111111111111,
              "#46039f"
             ],
             [
              0.2222222222222222,
              "#7201a8"
             ],
             [
              0.3333333333333333,
              "#9c179e"
             ],
             [
              0.4444444444444444,
              "#bd3786"
             ],
             [
              0.5555555555555556,
              "#d8576b"
             ],
             [
              0.6666666666666666,
              "#ed7953"
             ],
             [
              0.7777777777777778,
              "#fb9f3a"
             ],
             [
              0.8888888888888888,
              "#fdca26"
             ],
             [
              1,
              "#f0f921"
             ]
            ],
            "type": "contour"
           }
          ],
          "contourcarpet": [
           {
            "colorbar": {
             "outlinewidth": 0,
             "ticks": ""
            },
            "type": "contourcarpet"
           }
          ],
          "heatmap": [
           {
            "colorbar": {
             "outlinewidth": 0,
             "ticks": ""
            },
            "colorscale": [
             [
              0,
              "#0d0887"
             ],
             [
              0.1111111111111111,
              "#46039f"
             ],
             [
              0.2222222222222222,
              "#7201a8"
             ],
             [
              0.3333333333333333,
              "#9c179e"
             ],
             [
              0.4444444444444444,
              "#bd3786"
             ],
             [
              0.5555555555555556,
              "#d8576b"
             ],
             [
              0.6666666666666666,
              "#ed7953"
             ],
             [
              0.7777777777777778,
              "#fb9f3a"
             ],
             [
              0.8888888888888888,
              "#fdca26"
             ],
             [
              1,
              "#f0f921"
             ]
            ],
            "type": "heatmap"
           }
          ],
          "heatmapgl": [
           {
            "colorbar": {
             "outlinewidth": 0,
             "ticks": ""
            },
            "colorscale": [
             [
              0,
              "#0d0887"
             ],
             [
              0.1111111111111111,
              "#46039f"
             ],
             [
              0.2222222222222222,
              "#7201a8"
             ],
             [
              0.3333333333333333,
              "#9c179e"
             ],
             [
              0.4444444444444444,
              "#bd3786"
             ],
             [
              0.5555555555555556,
              "#d8576b"
             ],
             [
              0.6666666666666666,
              "#ed7953"
             ],
             [
              0.7777777777777778,
              "#fb9f3a"
             ],
             [
              0.8888888888888888,
              "#fdca26"
             ],
             [
              1,
              "#f0f921"
             ]
            ],
            "type": "heatmapgl"
           }
          ],
          "histogram": [
           {
            "marker": {
             "colorbar": {
              "outlinewidth": 0,
              "ticks": ""
             }
            },
            "type": "histogram"
           }
          ],
          "histogram2d": [
           {
            "colorbar": {
             "outlinewidth": 0,
             "ticks": ""
            },
            "colorscale": [
             [
              0,
              "#0d0887"
             ],
             [
              0.1111111111111111,
              "#46039f"
             ],
             [
              0.2222222222222222,
              "#7201a8"
             ],
             [
              0.3333333333333333,
              "#9c179e"
             ],
             [
              0.4444444444444444,
              "#bd3786"
             ],
             [
              0.5555555555555556,
              "#d8576b"
             ],
             [
              0.6666666666666666,
              "#ed7953"
             ],
             [
              0.7777777777777778,
              "#fb9f3a"
             ],
             [
              0.8888888888888888,
              "#fdca26"
             ],
             [
              1,
              "#f0f921"
             ]
            ],
            "type": "histogram2d"
           }
          ],
          "histogram2dcontour": [
           {
            "colorbar": {
             "outlinewidth": 0,
             "ticks": ""
            },
            "colorscale": [
             [
              0,
              "#0d0887"
             ],
             [
              0.1111111111111111,
              "#46039f"
             ],
             [
              0.2222222222222222,
              "#7201a8"
             ],
             [
              0.3333333333333333,
              "#9c179e"
             ],
             [
              0.4444444444444444,
              "#bd3786"
             ],
             [
              0.5555555555555556,
              "#d8576b"
             ],
             [
              0.6666666666666666,
              "#ed7953"
             ],
             [
              0.7777777777777778,
              "#fb9f3a"
             ],
             [
              0.8888888888888888,
              "#fdca26"
             ],
             [
              1,
              "#f0f921"
             ]
            ],
            "type": "histogram2dcontour"
           }
          ],
          "mesh3d": [
           {
            "colorbar": {
             "outlinewidth": 0,
             "ticks": ""
            },
            "type": "mesh3d"
           }
          ],
          "parcoords": [
           {
            "line": {
             "colorbar": {
              "outlinewidth": 0,
              "ticks": ""
             }
            },
            "type": "parcoords"
           }
          ],
          "pie": [
           {
            "automargin": true,
            "type": "pie"
           }
          ],
          "scatter": [
           {
            "marker": {
             "colorbar": {
              "outlinewidth": 0,
              "ticks": ""
             }
            },
            "type": "scatter"
           }
          ],
          "scatter3d": [
           {
            "line": {
             "colorbar": {
              "outlinewidth": 0,
              "ticks": ""
             }
            },
            "marker": {
             "colorbar": {
              "outlinewidth": 0,
              "ticks": ""
             }
            },
            "type": "scatter3d"
           }
          ],
          "scattercarpet": [
           {
            "marker": {
             "colorbar": {
              "outlinewidth": 0,
              "ticks": ""
             }
            },
            "type": "scattercarpet"
           }
          ],
          "scattergeo": [
           {
            "marker": {
             "colorbar": {
              "outlinewidth": 0,
              "ticks": ""
             }
            },
            "type": "scattergeo"
           }
          ],
          "scattergl": [
           {
            "marker": {
             "colorbar": {
              "outlinewidth": 0,
              "ticks": ""
             }
            },
            "type": "scattergl"
           }
          ],
          "scattermapbox": [
           {
            "marker": {
             "colorbar": {
              "outlinewidth": 0,
              "ticks": ""
             }
            },
            "type": "scattermapbox"
           }
          ],
          "scatterpolar": [
           {
            "marker": {
             "colorbar": {
              "outlinewidth": 0,
              "ticks": ""
             }
            },
            "type": "scatterpolar"
           }
          ],
          "scatterpolargl": [
           {
            "marker": {
             "colorbar": {
              "outlinewidth": 0,
              "ticks": ""
             }
            },
            "type": "scatterpolargl"
           }
          ],
          "scatterternary": [
           {
            "marker": {
             "colorbar": {
              "outlinewidth": 0,
              "ticks": ""
             }
            },
            "type": "scatterternary"
           }
          ],
          "surface": [
           {
            "colorbar": {
             "outlinewidth": 0,
             "ticks": ""
            },
            "colorscale": [
             [
              0,
              "#0d0887"
             ],
             [
              0.1111111111111111,
              "#46039f"
             ],
             [
              0.2222222222222222,
              "#7201a8"
             ],
             [
              0.3333333333333333,
              "#9c179e"
             ],
             [
              0.4444444444444444,
              "#bd3786"
             ],
             [
              0.5555555555555556,
              "#d8576b"
             ],
             [
              0.6666666666666666,
              "#ed7953"
             ],
             [
              0.7777777777777778,
              "#fb9f3a"
             ],
             [
              0.8888888888888888,
              "#fdca26"
             ],
             [
              1,
              "#f0f921"
             ]
            ],
            "type": "surface"
           }
          ],
          "table": [
           {
            "cells": {
             "fill": {
              "color": "#EBF0F8"
             },
             "line": {
              "color": "white"
             }
            },
            "header": {
             "fill": {
              "color": "#C8D4E3"
             },
             "line": {
              "color": "white"
             }
            },
            "type": "table"
           }
          ]
         },
         "layout": {
          "annotationdefaults": {
           "arrowcolor": "#2a3f5f",
           "arrowhead": 0,
           "arrowwidth": 1
          },
          "autotypenumbers": "strict",
          "coloraxis": {
           "colorbar": {
            "outlinewidth": 0,
            "ticks": ""
           }
          },
          "colorscale": {
           "diverging": [
            [
             0,
             "#8e0152"
            ],
            [
             0.1,
             "#c51b7d"
            ],
            [
             0.2,
             "#de77ae"
            ],
            [
             0.3,
             "#f1b6da"
            ],
            [
             0.4,
             "#fde0ef"
            ],
            [
             0.5,
             "#f7f7f7"
            ],
            [
             0.6,
             "#e6f5d0"
            ],
            [
             0.7,
             "#b8e186"
            ],
            [
             0.8,
             "#7fbc41"
            ],
            [
             0.9,
             "#4d9221"
            ],
            [
             1,
             "#276419"
            ]
           ],
           "sequential": [
            [
             0,
             "#0d0887"
            ],
            [
             0.1111111111111111,
             "#46039f"
            ],
            [
             0.2222222222222222,
             "#7201a8"
            ],
            [
             0.3333333333333333,
             "#9c179e"
            ],
            [
             0.4444444444444444,
             "#bd3786"
            ],
            [
             0.5555555555555556,
             "#d8576b"
            ],
            [
             0.6666666666666666,
             "#ed7953"
            ],
            [
             0.7777777777777778,
             "#fb9f3a"
            ],
            [
             0.8888888888888888,
             "#fdca26"
            ],
            [
             1,
             "#f0f921"
            ]
           ],
           "sequentialminus": [
            [
             0,
             "#0d0887"
            ],
            [
             0.1111111111111111,
             "#46039f"
            ],
            [
             0.2222222222222222,
             "#7201a8"
            ],
            [
             0.3333333333333333,
             "#9c179e"
            ],
            [
             0.4444444444444444,
             "#bd3786"
            ],
            [
             0.5555555555555556,
             "#d8576b"
            ],
            [
             0.6666666666666666,
             "#ed7953"
            ],
            [
             0.7777777777777778,
             "#fb9f3a"
            ],
            [
             0.8888888888888888,
             "#fdca26"
            ],
            [
             1,
             "#f0f921"
            ]
           ]
          },
          "colorway": [
           "#636efa",
           "#EF553B",
           "#00cc96",
           "#ab63fa",
           "#FFA15A",
           "#19d3f3",
           "#FF6692",
           "#B6E880",
           "#FF97FF",
           "#FECB52"
          ],
          "font": {
           "color": "#2a3f5f"
          },
          "geo": {
           "bgcolor": "white",
           "lakecolor": "white",
           "landcolor": "#E5ECF6",
           "showlakes": true,
           "showland": true,
           "subunitcolor": "white"
          },
          "hoverlabel": {
           "align": "left"
          },
          "hovermode": "closest",
          "mapbox": {
           "style": "light"
          },
          "paper_bgcolor": "white",
          "plot_bgcolor": "#E5ECF6",
          "polar": {
           "angularaxis": {
            "gridcolor": "white",
            "linecolor": "white",
            "ticks": ""
           },
           "bgcolor": "#E5ECF6",
           "radialaxis": {
            "gridcolor": "white",
            "linecolor": "white",
            "ticks": ""
           }
          },
          "scene": {
           "xaxis": {
            "backgroundcolor": "#E5ECF6",
            "gridcolor": "white",
            "gridwidth": 2,
            "linecolor": "white",
            "showbackground": true,
            "ticks": "",
            "zerolinecolor": "white"
           },
           "yaxis": {
            "backgroundcolor": "#E5ECF6",
            "gridcolor": "white",
            "gridwidth": 2,
            "linecolor": "white",
            "showbackground": true,
            "ticks": "",
            "zerolinecolor": "white"
           },
           "zaxis": {
            "backgroundcolor": "#E5ECF6",
            "gridcolor": "white",
            "gridwidth": 2,
            "linecolor": "white",
            "showbackground": true,
            "ticks": "",
            "zerolinecolor": "white"
           }
          },
          "shapedefaults": {
           "line": {
            "color": "#2a3f5f"
           }
          },
          "ternary": {
           "aaxis": {
            "gridcolor": "white",
            "linecolor": "white",
            "ticks": ""
           },
           "baxis": {
            "gridcolor": "white",
            "linecolor": "white",
            "ticks": ""
           },
           "bgcolor": "#E5ECF6",
           "caxis": {
            "gridcolor": "white",
            "linecolor": "white",
            "ticks": ""
           }
          },
          "title": {
           "x": 0.05
          },
          "xaxis": {
           "automargin": true,
           "gridcolor": "white",
           "linecolor": "white",
           "ticks": "",
           "title": {
            "standoff": 15
           },
           "zerolinecolor": "white",
           "zerolinewidth": 2
          },
          "yaxis": {
           "automargin": true,
           "gridcolor": "white",
           "linecolor": "white",
           "ticks": "",
           "title": {
            "standoff": 15
           },
           "zerolinecolor": "white",
           "zerolinewidth": 2
          }
         }
        },
        "title": {
         "font": {
          "color": "#4D5663"
         }
        },
        "xaxis": {
         "gridcolor": "#E1E5ED",
         "showgrid": true,
         "tickfont": {
          "color": "#4D5663"
         },
         "title": {
          "font": {
           "color": "#4D5663"
          },
          "text": ""
         },
         "zerolinecolor": "#E1E5ED"
        },
        "yaxis": {
         "gridcolor": "#E1E5ED",
         "showgrid": true,
         "tickfont": {
          "color": "#4D5663"
         },
         "title": {
          "font": {
           "color": "#4D5663"
          },
          "text": ""
         },
         "zerolinecolor": "#E1E5ED"
        }
       }
      },
      "text/html": [
       "<div>                            <div id=\"1f8c1dfd-e8e4-47b8-9230-0c0946286bab\" class=\"plotly-graph-div\" style=\"height:525px; width:100%;\"></div>            <script type=\"text/javascript\">                require([\"plotly\"], function(Plotly) {                    window.PLOTLYENV=window.PLOTLYENV || {};\n",
       "                    window.PLOTLYENV.BASE_URL='https://plot.ly';                                    if (document.getElementById(\"1f8c1dfd-e8e4-47b8-9230-0c0946286bab\")) {                    Plotly.newPlot(                        \"1f8c1dfd-e8e4-47b8-9230-0c0946286bab\",                        [{\"histfunc\": \"count\", \"histnorm\": \"\", \"marker\": {\"color\": \"rgba(219, 64, 82, 1.0)\", \"line\": {\"color\": \"#4D5663\", \"width\": 1.3}}, \"name\": \"Rating\", \"opacity\": 0.8, \"orientation\": \"v\", \"type\": \"histogram\", \"x\": [4, 5, 4, 3, 3, 1, 1, 4, 5, 1, 5, 4, 1, 5, 1, 2, 1, 1, 1, 4, 1, 5, 4, 2, 1, 2, 5, 1, 5, 5, 1, 1, 1, 5, 4, 3, 5, 4, 5, 5, 4, 5, 3, 5, 3, 4, 5, 4, 3, 5, 4, 5, 5, 2, 4, 5, 4, 5, 5, 4, 4, 4, 3, 5, 4, 2, 4, 4, 4, 4, 5, 3, 4, 2, 3, 5, 3, 4, 5, 5, 5, 4, 1, 4, 4, 4, 4, 2, 4, 4, 5, 4, 3, 2, 5, 3, 3, 4, 5, 5, 5, 1, 3, 3, 3, 4, 3, 3, 3, 1, 1, 4, 4, 4, 4, 1, 5, 5, 5, 4, 5, 4, 4, 5, 3, 3, 5, 3, 3, 5, 5, 5, 4, 5, 4, 5, 4, 4, 4, 5, 5, 4, 4, 4, 4, 5, 4, 3, 4, 3, 5, 2, 2, 2, 4, 5, 3, 5, 4, 4, 4, 4, 4, 3, 5, 3, 1, 4, 5, 3, 3, 5, 2, 2, 4, 4, 5, 3, 5, 4, 3, 4, 4, 4, 4, 5, 4, 3, 4, 3, 5, 3, 4, 2, 3, 3, 5, 5, 2, 5, 4, 5, 4, 4, 5, 5, 4, 3, 5, 3, 5, 5, 3, 2, 4, 5, 1, 4, 4, 2, 5, 4, 4, 4, 3, 1, 4, 3, 3, 1, 2, 2, 3, 2, 2, 5, 4, 3, 5, 4, 4, 1, 4, 5, 2, 4, 4, 2, 4, 4, 5, 3, 4, 1, 1, 4, 5, 4, 4, 4, 4, 5, 4, 3, 4, 5, 5, 5, 4, 3, 4, 5, 3, 4, 3, 2, 5, 3, 4, 3, 1, 4, 3, 5, 5, 5, 2, 3, 4, 4, 4, 3, 4, 4, 4, 4, 5, 4, 4, 3, 4, 4, 4, 4, 3, 3, 5, 2, 5, 4, 4, 4, 3, 4, 4, 3, 4, 4, 4, 3, 3, 3, 2, 5, 2, 1, 4, 3, 3, 4, 2, 4, 1, 5, 3, 5, 3, 5, 4, 4, 4, 4, 5, 2, 2, 1, 2, 4, 1, 4, 4, 3, 1, 4, 1, 1, 4, 5, 5, 5, 5, 3, 5, 4, 5, 4, 5, 3, 4, 4, 4, 1, 5, 4, 4, 5, 4, 5, 4, 5, 5, 1, 4, 4, 4, 5, 3, 4, 4, 4, 3, 1, 4, 1, 1, 4, 4, 5, 5, 3, 5, 2, 3, 4, 4, 4, 3, 4, 2, 1, 2, 3, 3, 4, 4, 4, 3, 4, 5, 5, 5, 5, 5, 5, 5, 1, 2, 2, 5, 4, 4, 4, 4, 4, 4, 4, 3, 2, 3, 4, 3, 4, 1, 4, 4, 1, 5, 4, 3, 1, 5, 4, 1, 1, 5, 1, 3, 2, 2, 3, 3, 4, 3, 3, 1, 3, 2, 4, 3, 3, 3, 3, 5, 1, 5, 4, 4, 4, 1, 3, 4, 4, 3, 3, 5, 5, 4, 4, 3, 3, 3, 2, 3, 3, 4, 4, 3, 3, 4, 1, 5, 5, 1, 3, 3, 3, 1, 1, 3, 3, 1, 3, 2, 1, 3, 3, 2, 5, 5, 4, 5, 5, 5, 3, 5, 5, 5, 4, 5, 3, 5, 4, 4, 4, 4, 2, 5, 4, 4, 4, 4, 4, 5, 3, 5, 1, 2, 5, 4, 5, 4, 5, 4, 4, 5, 5, 5, 5, 5, 4, 4, 4, 4, 4, 4, 4, 5, 4, 5, 4, 3, 3, 2, 3, 2, 3, 3, 2, 1]}, {\"histfunc\": \"count\", \"histnorm\": \"\", \"marker\": {\"color\": \"rgba(219, 64, 82, 0.8999999999999999)\", \"line\": {\"color\": \"#4D5663\", \"width\": 1.3}}, \"name\": \"Date_Posted\", \"opacity\": 0.8, \"orientation\": \"v\", \"type\": \"histogram\", \"x\": [\"13-Jan-21\", \"14-Apr-21\", \"22-May-21\", \"08-Mar-21\", \"07-Nov-20\", \"11-May-20\", \"13-Jan-21\", \"07-Nov-20\", \"10-Aug-20\", \"28-Aug-20\", \"24-Nov-19\", \"06-Apr-20\", \"04-May-20\", \"18-Dec-19\", \"30-Apr-20\", \"25-Mar-20\", \"09-Nov-19\", \"31-Dec-19\", \"31-Jul-19\", \"06-May-19\", \"21-Sep-19\", \"21-Jun-19\", \"07-Apr-19\", \"13-Dec-18\", \"02-Nov-18\", \"09-Oct-18\", \"25-Sep-18\", \"05-Jan-19\", \"16-Feb-18\", \"26-Jun-18\", \"12-May-21\", \"15-May-21\", \"22-May-21\", \"27-May-21\", \"28-May-21\", \"01-Jun-21\", \"27-May-21\", \"27-May-21\", \"27-May-21\", \"26-May-21\", \"14-May-21\", \"19-May-21\", \"30-May-21\", \"06-May-21\", \"29-May-21\", \"13-May-21\", \"04-May-21\", \"30-Apr-21\", \"25-May-21\", \"06-May-21\", \"27-Apr-21\", \"03-May-21\", \"11-Mar-21\", \"23-May-21\", \"27-Apr-21\", \"29-Apr-21\", \"06-Apr-21\", \"23-Mar-21\", \"20-Apr-21\", \"20-Apr-21\", \"20-Apr-21\", \"19-Apr-21\", \"08-May-21\", \"07-Apr-21\", \"21-Apr-21\", \"05-May-21\", \"14-Apr-21\", \"11-Apr-21\", \"11-Apr-21\", \"10-Apr-21\", \"13-Apr-21\", \"07-May-21\", \"08-Apr-21\", \"19-Apr-21\", \"12-May-21\", \"26-Mar-21\", \"10-May-21\", \"07-Apr-21\", \"08-Apr-21\", \"31-Mar-21\", \"05-Apr-21\", \"08-Apr-21\", \"19-May-21\", \"01-Apr-21\", \"31-Mar-21\", \"06-Apr-21\", \"02-Apr-21\", \"05-May-21\", \"03-Apr-21\", \"02-Apr-21\", \"09-Mar-21\", \"26-Mar-21\", \"03-May-21\", \"18-Apr-21\", \"25-Mar-21\", \"29-Apr-21\", \"20-Mar-21\", \"13-Jan-21\", \"18-Mar-21\", \"16-Mar-21\", \"22-Mar-21\", \"10-May-21\", \"21-Apr-21\", \"24-Apr-21\", \"23-Apr-21\", \"10-Mar-21\", \"17-Mar-21\", \"30-Mar-21\", \"21-Apr-21\", \"16-Apr-21\", \"16-Apr-21\", \"09-Mar-21\", \"13-Mar-21\", \"15-Mar-21\", \"11-Mar-21\", \"01-May-21\", \"18-Feb-21\", \"06-Mar-21\", \"06-Mar-21\", \"04-Mar-21\", \"30-Jan-21\", \"06-Mar-21\", \"03-Mar-21\", \"12-Feb-21\", \"12-Apr-21\", \"30-Mar-21\", \"18-Feb-21\", \"04-Apr-21\", \"24-Feb-21\", \"22-Feb-21\", \"05-Jan-21\", \"17-Feb-21\", \"24-Feb-21\", \"22-Feb-21\", \"09-Feb-21\", \"24-Feb-21\", \"25-Feb-21\", \"27-Feb-21\", \"22-Jan-21\", \"18-Feb-21\", \"18-Feb-21\", \"17-Feb-21\", \"21-Feb-21\", \"17-Feb-21\", \"09-Feb-21\", \"10-Feb-21\", \"12-Feb-21\", \"31-Mar-21\", \"13-Jan-21\", \"31-Mar-21\", \"13-Feb-21\", \"20-Mar-21\", \"28-Mar-21\", \"25-Mar-21\", \"02-Sep-20\", \"01-Feb-21\", \"30-Jan-21\", \"04-Feb-21\", \"10-Feb-21\", \"16-Jan-21\", \"31-Jan-21\", \"01-Feb-21\", \"28-Dec-20\", \"19-Mar-21\", \"11-Jan-21\", \"01-Mar-21\", \"02-Apr-21\", \"25-Jan-21\", \"21-Jan-21\", \"16-Mar-21\", \"16-Mar-21\", \"21-Jan-21\", \"17-Mar-21\", \"10-Mar-21\", \"17-Jan-21\", \"15-Jan-21\", \"11-Nov-20\", \"12-Mar-21\", \"19-Jan-21\", \"15-Jan-21\", \"12-Mar-21\", \"20-Jan-21\", \"15-Jan-21\", \"08-Jan-21\", \"11-Jan-21\", \"17-Dec-20\", \"11-Jan-21\", \"08-Feb-21\", \"14-Dec-20\", \"22-Feb-21\", \"16-Dec-20\", \"15-Feb-21\", \"17-Dec-20\", \"12-Feb-21\", \"05-Feb-21\", \"25-Jan-21\", \"15-Dec-20\", \"19-Dec-20\", \"18-Jan-21\", \"10-Dec-20\", \"14-Dec-20\", \"18-Nov-20\", \"10-Nov-20\", \"14-Dec-20\", \"14-Dec-20\", \"29-Nov-20\", \"04-Dec-20\", \"18-Jan-21\", \"09-Dec-20\", \"16-Dec-20\", \"01-Dec-20\", \"24-Nov-20\", \"29-Jan-21\", \"05-Nov-20\", \"23-Nov-20\", \"02-Dec-20\", \"16-Jun-20\", \"22-Nov-20\", \"25-Nov-20\", \"25-Jan-21\", \"01-Dec-20\", \"23-Nov-20\", \"25-Nov-20\", \"17-Nov-20\", \"25-Jan-21\", \"10-Feb-21\", \"12-Oct-20\", \"24-Jan-21\", \"20-Jan-21\", \"16-Oct-20\", \"09-Dec-20\", \"10-Dec-20\", \"09-Jan-21\", \"07-Jan-21\", \"18-Jan-21\", \"09-Nov-20\", \"28-Oct-20\", \"22-Dec-20\", \"16-Oct-20\", \"27-Oct-20\", \"27-Oct-20\", \"28-Jan-21\", \"18-Oct-20\", \"19-Oct-20\", \"24-Sep-20\", \"24-Oct-20\", \"17-Oct-20\", \"18-Dec-20\", \"24-Sep-20\", \"07-Oct-20\", \"15-Oct-20\", \"02-Nov-20\", \"19-Oct-20\", \"13-Jan-21\", \"24-Mar-20\", \"19-Jul-20\", \"09-Oct-20\", \"05-Oct-20\", \"06-Oct-20\", \"06-Oct-20\", \"06-Oct-20\", \"04-Oct-20\", \"05-Oct-20\", \"30-Nov-20\", \"30-Sep-20\", \"21-Sep-20\", \"24-Sep-20\", \"12-Sep-20\", \"23-Sep-20\", \"03-Dec-20\", \"19-Aug-20\", \"25-Jun-20\", \"24-Nov-20\", \"01-Sep-20\", \"28-Sep-20\", \"20-Sep-20\", \"15-May-20\", \"12-Nov-20\", \"03-Jun-20\", \"31-Aug-20\", \"25-Oct-20\", \"30-Jul-20\", \"21-Nov-20\", \"28-Aug-20\", \"25-Aug-20\", \"25-Aug-20\", \"03-Aug-20\", \"04-Nov-20\", \"31-Aug-20\", \"26-Aug-20\", \"09-Jun-20\", \"10-Nov-20\", \"31-Aug-20\", \"17-Aug-20\", \"24-Aug-20\", \"25-Aug-20\", \"12-Aug-20\", \"31-Jul-20\", \"13-Jul-20\", \"11-Oct-20\", \"03-Aug-20\", \"05-Aug-20\", \"23-Jul-20\", \"16-May-20\", \"11-Mar-20\", \"19-Oct-20\", \"23-Jul-20\", \"05-Oct-20\", \"15-Jul-20\", \"12-Jul-20\", \"24-Jul-20\", \"15-Jul-20\", \"08-Oct-20\", \"28-Jan-20\", \"12-Jul-20\", \"09-Sep-20\", \"04-Jul-20\", \"14-Jun-20\", \"14-May-20\", \"25-Sep-20\", \"25-Sep-20\", \"12-Jun-20\", \"26-Aug-20\", \"30-May-20\", \"08-Jan-20\", \"10-Oct-20\", \"09-Jun-20\", \"04-Sep-20\", \"12-Aug-20\", \"08-Jun-20\", \"17-Aug-20\", \"07-Apr-20\", \"05-Oct-20\", \"13-May-20\", \"18-Aug-20\", \"12-May-20\", \"07-Aug-20\", \"11-May-20\", \"27-Apr-20\", \"17-May-20\", \"17-May-20\", \"16-Apr-20\", \"28-Apr-20\", \"10-May-20\", \"18-Apr-20\", \"18-Aug-20\", \"19-Jun-20\", \"19-Mar-20\", \"08-Aug-20\", \"23-Feb-20\", \"08-Feb-20\", \"15-Sep-19\", \"26-Apr-20\", \"21-Jan-20\", \"28-Oct-19\", \"25-Feb-20\", \"30-Jan-20\", \"21-Jan-20\", \"25-Jan-20\", \"03-Feb-20\", \"03-Feb-20\", \"15-Apr-20\", \"15-Jan-20\", \"08-Jan-20\", \"09-Jan-20\", \"13-Jan-20\", \"22-Jul-19\", \"29-Mar-20\", \"11-Dec-19\", \"30-Dec-19\", \"08-Oct-19\", \"18-Mar-20\", \"22-Jul-19\", \"28-Nov-19\", \"25-Nov-19\", \"21-Nov-19\", \"18-Nov-19\", \"13-Oct-19\", \"20-Nov-19\", \"12-Nov-19\", \"12-Nov-19\", \"22-Mar-20\", \"21-Nov-19\", \"24-Nov-19\", \"11-Oct-19\", \"22-Sep-19\", \"23-Feb-20\", \"03-Oct-19\", \"29-Apr-19\", \"05-Nov-19\", \"24-Jan-20\", \"22-Aug-19\", \"30-Oct-19\", \"20-Nov-19\", \"24-Jan-20\", \"24-Sep-19\", \"05-Sep-19\", \"18-Sep-19\", \"25-Jul-19\", \"16-Jul-19\", \"12-Jun-19\", \"02-Jan-19\", \"02-Dec-19\", \"24-Jul-19\", \"08-Feb-19\", \"23-Jul-19\", \"25-Nov-19\", \"25-May-19\", \"22-Jun-19\", \"17-Jan-20\", \"18-Oct-19\", \"01-Dec-19\", \"15-Nov-19\", \"22-Jun-19\", \"16-Mar-19\", \"01-Aug-19\", \"21-Nov-19\", \"18-Jul-19\", \"24-Jul-19\", \"11-Jun-19\", \"11-Jun-19\", \"12-May-19\", \"13-Jun-19\", \"08-Jul-19\", \"01-Jul-19\", \"01-Mar-19\", \"02-Oct-19\", \"07-Oct-19\", \"04-Jul-19\", \"18-Jun-19\", \"15-Apr-19\", \"06-Mar-19\", \"11-Jun-19\", \"22-May-19\", \"13-Jun-19\", \"28-Mar-19\", \"27-Sep-19\", \"11-Mar-19\", \"23-Sep-19\", \"09-May-19\", \"21-Sep-19\", \"09-Nov-18\", \"11-Oct-19\", \"16-May-19\", \"12-Mar-19\", \"12-Jun-19\", \"07-Apr-19\", \"03-May-19\", \"30-Jul-19\", \"17-Feb-19\", \"11-Jan-19\", \"24-Apr-19\", \"29-Oct-19\", \"17-Sep-19\", \"31-Mar-19\", \"16-Jul-19\", \"06-Aug-19\", \"22-Apr-19\", \"01-Jul-19\", \"29-Jul-19\", \"29-Nov-18\", \"29-Mar-19\", \"03-Jun-19\", \"10-Jun-19\", \"25-Jul-19\", \"12-Jul-19\", \"01-Jul-19\", \"20-Feb-19\", \"17-Jul-19\", \"27-Jun-19\", \"27-Jun-19\", \"07-Jul-19\", \"01-Feb-19\", \"26-Feb-19\", \"21-Feb-19\", \"14-Feb-19\", \"16-Feb-19\", \"19-Feb-19\", \"06-Jan-19\", \"06-Jun-19\", \"14-Jan-19\", \"23-Dec-18\", \"26-Mar-19\", \"15-Apr-19\", \"26-Nov-18\", \"19-Nov-18\", \"16-Nov-18\", \"24-Sep-18\", \"25-Jan-19\", \"17-Apr-19\", \"17-Apr-19\", \"01-Apr-19\", \"11-Apr-19\", \"28-Mar-19\", \"21-Oct-18\", \"22-Oct-18\", \"10-Mar-19\", \"02-Mar-19\", \"11-Oct-18\", \"21-Sep-18\", \"06-Apr-18\", \"14-Sep-18\", \"20-Mar-19\", \"08-Feb-19\", \"13-Jan-19\", \"18-Feb-19\", \"24-Sep-18\", \"01-Nov-18\", \"18-Oct-18\", \"27-Dec-18\", \"12-Oct-18\", \"22-Nov-18\", \"08-Nov-18\", \"14-Jan-19\", \"03-Oct-18\", \"17-Sep-18\", \"01-Mar-18\", \"17-Aug-18\", \"09-Apr-18\", \"24-Aug-18\", \"04-Sep-18\", \"07-Mar-18\", \"21-Aug-18\", \"08-Mar-18\", \"16-Jan-18\", \"30-Aug-18\", \"24-Apr-18\", \"21-May-18\", \"26-Dec-17\", \"21-Jan-18\", \"03-Mar-18\", \"12-Jul-18\", \"26-Jul-18\", \"26-Feb-18\", \"31-Jul-18\", \"07-Aug-18\", \"26-Mar-18\", \"30-Jun-18\", \"25-Feb-18\", \"22-Apr-18\", \"22-Apr-18\", \"01-May-18\", \"01-Jun-18\", \"29-Jan-18\", \"02-Apr-18\", \"10-Jan-18\", \"27-Feb-18\", \"06-Apr-18\", \"26-Jul-18\", \"27-Mar-18\", \"10-May-18\", \"23-Aug-18\", \"19-Apr-18\", \"15-Jul-18\", \"05-Dec-17\", \"26-Mar-18\", \"19-Dec-17\", \"04-Mar-18\", \"09-Mar-18\", \"20-Mar-18\", \"20-Mar-18\", \"12-Apr-18\", \"29-Aug-18\", \"26-Dec-17\", \"09-Mar-18\", \"15-May-18\", \"27-May-18\", \"16-Dec-17\", \"07-Jun-18\", \"26-Jun-18\", \"08-Jul-18\", \"26-Jun-18\", \"18-Aug-18\", \"22-Feb-18\", \"21-Jun-18\", \"09-Jul-18\", \"16-Aug-18\", \"11-May-18\", \"14-Jan-18\"]}],                        {\"barmode\": \"overlay\", \"legend\": {\"bgcolor\": \"#F5F6F9\", \"font\": {\"color\": \"#4D5663\"}}, \"paper_bgcolor\": \"#F5F6F9\", \"plot_bgcolor\": \"#F5F6F9\", \"template\": {\"data\": {\"bar\": [{\"error_x\": {\"color\": \"#2a3f5f\"}, \"error_y\": {\"color\": \"#2a3f5f\"}, \"marker\": {\"line\": {\"color\": \"#E5ECF6\", \"width\": 0.5}}, \"type\": \"bar\"}], \"barpolar\": [{\"marker\": {\"line\": {\"color\": \"#E5ECF6\", \"width\": 0.5}}, \"type\": \"barpolar\"}], \"carpet\": [{\"aaxis\": {\"endlinecolor\": \"#2a3f5f\", \"gridcolor\": \"white\", \"linecolor\": \"white\", \"minorgridcolor\": \"white\", \"startlinecolor\": \"#2a3f5f\"}, \"baxis\": {\"endlinecolor\": \"#2a3f5f\", \"gridcolor\": \"white\", \"linecolor\": \"white\", \"minorgridcolor\": \"white\", \"startlinecolor\": \"#2a3f5f\"}, \"type\": \"carpet\"}], \"choropleth\": [{\"colorbar\": {\"outlinewidth\": 0, \"ticks\": \"\"}, \"type\": \"choropleth\"}], \"contour\": [{\"colorbar\": {\"outlinewidth\": 0, \"ticks\": \"\"}, \"colorscale\": [[0.0, \"#0d0887\"], [0.1111111111111111, \"#46039f\"], [0.2222222222222222, \"#7201a8\"], [0.3333333333333333, \"#9c179e\"], [0.4444444444444444, \"#bd3786\"], [0.5555555555555556, \"#d8576b\"], [0.6666666666666666, \"#ed7953\"], [0.7777777777777778, \"#fb9f3a\"], [0.8888888888888888, \"#fdca26\"], [1.0, \"#f0f921\"]], \"type\": \"contour\"}], \"contourcarpet\": [{\"colorbar\": {\"outlinewidth\": 0, \"ticks\": \"\"}, \"type\": \"contourcarpet\"}], \"heatmap\": [{\"colorbar\": {\"outlinewidth\": 0, \"ticks\": \"\"}, \"colorscale\": [[0.0, \"#0d0887\"], [0.1111111111111111, \"#46039f\"], [0.2222222222222222, \"#7201a8\"], [0.3333333333333333, \"#9c179e\"], [0.4444444444444444, \"#bd3786\"], [0.5555555555555556, \"#d8576b\"], [0.6666666666666666, \"#ed7953\"], [0.7777777777777778, \"#fb9f3a\"], [0.8888888888888888, \"#fdca26\"], [1.0, \"#f0f921\"]], \"type\": \"heatmap\"}], \"heatmapgl\": [{\"colorbar\": {\"outlinewidth\": 0, \"ticks\": \"\"}, \"colorscale\": [[0.0, \"#0d0887\"], [0.1111111111111111, \"#46039f\"], [0.2222222222222222, \"#7201a8\"], [0.3333333333333333, \"#9c179e\"], [0.4444444444444444, \"#bd3786\"], [0.5555555555555556, \"#d8576b\"], [0.6666666666666666, \"#ed7953\"], [0.7777777777777778, \"#fb9f3a\"], [0.8888888888888888, \"#fdca26\"], [1.0, \"#f0f921\"]], \"type\": \"heatmapgl\"}], \"histogram\": [{\"marker\": {\"colorbar\": {\"outlinewidth\": 0, \"ticks\": \"\"}}, \"type\": \"histogram\"}], \"histogram2d\": [{\"colorbar\": {\"outlinewidth\": 0, \"ticks\": \"\"}, \"colorscale\": [[0.0, \"#0d0887\"], [0.1111111111111111, \"#46039f\"], [0.2222222222222222, \"#7201a8\"], [0.3333333333333333, \"#9c179e\"], [0.4444444444444444, \"#bd3786\"], [0.5555555555555556, \"#d8576b\"], [0.6666666666666666, \"#ed7953\"], [0.7777777777777778, \"#fb9f3a\"], [0.8888888888888888, \"#fdca26\"], [1.0, \"#f0f921\"]], \"type\": \"histogram2d\"}], \"histogram2dcontour\": [{\"colorbar\": {\"outlinewidth\": 0, \"ticks\": \"\"}, \"colorscale\": [[0.0, \"#0d0887\"], [0.1111111111111111, \"#46039f\"], [0.2222222222222222, \"#7201a8\"], [0.3333333333333333, \"#9c179e\"], [0.4444444444444444, \"#bd3786\"], [0.5555555555555556, \"#d8576b\"], [0.6666666666666666, \"#ed7953\"], [0.7777777777777778, \"#fb9f3a\"], [0.8888888888888888, \"#fdca26\"], [1.0, \"#f0f921\"]], \"type\": \"histogram2dcontour\"}], \"mesh3d\": [{\"colorbar\": {\"outlinewidth\": 0, \"ticks\": \"\"}, \"type\": \"mesh3d\"}], \"parcoords\": [{\"line\": {\"colorbar\": {\"outlinewidth\": 0, \"ticks\": \"\"}}, \"type\": \"parcoords\"}], \"pie\": [{\"automargin\": true, \"type\": \"pie\"}], \"scatter\": [{\"marker\": {\"colorbar\": {\"outlinewidth\": 0, \"ticks\": \"\"}}, \"type\": \"scatter\"}], \"scatter3d\": [{\"line\": {\"colorbar\": {\"outlinewidth\": 0, \"ticks\": \"\"}}, \"marker\": {\"colorbar\": {\"outlinewidth\": 0, \"ticks\": \"\"}}, \"type\": \"scatter3d\"}], \"scattercarpet\": [{\"marker\": {\"colorbar\": {\"outlinewidth\": 0, \"ticks\": \"\"}}, \"type\": \"scattercarpet\"}], \"scattergeo\": [{\"marker\": {\"colorbar\": {\"outlinewidth\": 0, \"ticks\": \"\"}}, \"type\": \"scattergeo\"}], \"scattergl\": [{\"marker\": {\"colorbar\": {\"outlinewidth\": 0, \"ticks\": \"\"}}, \"type\": \"scattergl\"}], \"scattermapbox\": [{\"marker\": {\"colorbar\": {\"outlinewidth\": 0, \"ticks\": \"\"}}, \"type\": \"scattermapbox\"}], \"scatterpolar\": [{\"marker\": {\"colorbar\": {\"outlinewidth\": 0, \"ticks\": \"\"}}, \"type\": \"scatterpolar\"}], \"scatterpolargl\": [{\"marker\": {\"colorbar\": {\"outlinewidth\": 0, \"ticks\": \"\"}}, \"type\": \"scatterpolargl\"}], \"scatterternary\": [{\"marker\": {\"colorbar\": {\"outlinewidth\": 0, \"ticks\": \"\"}}, \"type\": \"scatterternary\"}], \"surface\": [{\"colorbar\": {\"outlinewidth\": 0, \"ticks\": \"\"}, \"colorscale\": [[0.0, \"#0d0887\"], [0.1111111111111111, \"#46039f\"], [0.2222222222222222, \"#7201a8\"], [0.3333333333333333, \"#9c179e\"], [0.4444444444444444, \"#bd3786\"], [0.5555555555555556, \"#d8576b\"], [0.6666666666666666, \"#ed7953\"], [0.7777777777777778, \"#fb9f3a\"], [0.8888888888888888, \"#fdca26\"], [1.0, \"#f0f921\"]], \"type\": \"surface\"}], \"table\": [{\"cells\": {\"fill\": {\"color\": \"#EBF0F8\"}, \"line\": {\"color\": \"white\"}}, \"header\": {\"fill\": {\"color\": \"#C8D4E3\"}, \"line\": {\"color\": \"white\"}}, \"type\": \"table\"}]}, \"layout\": {\"annotationdefaults\": {\"arrowcolor\": \"#2a3f5f\", \"arrowhead\": 0, \"arrowwidth\": 1}, \"autotypenumbers\": \"strict\", \"coloraxis\": {\"colorbar\": {\"outlinewidth\": 0, \"ticks\": \"\"}}, \"colorscale\": {\"diverging\": [[0, \"#8e0152\"], [0.1, \"#c51b7d\"], [0.2, \"#de77ae\"], [0.3, \"#f1b6da\"], [0.4, \"#fde0ef\"], [0.5, \"#f7f7f7\"], [0.6, \"#e6f5d0\"], [0.7, \"#b8e186\"], [0.8, \"#7fbc41\"], [0.9, \"#4d9221\"], [1, \"#276419\"]], \"sequential\": [[0.0, \"#0d0887\"], [0.1111111111111111, \"#46039f\"], [0.2222222222222222, \"#7201a8\"], [0.3333333333333333, \"#9c179e\"], [0.4444444444444444, \"#bd3786\"], [0.5555555555555556, \"#d8576b\"], [0.6666666666666666, \"#ed7953\"], [0.7777777777777778, \"#fb9f3a\"], [0.8888888888888888, \"#fdca26\"], [1.0, \"#f0f921\"]], \"sequentialminus\": [[0.0, \"#0d0887\"], [0.1111111111111111, \"#46039f\"], [0.2222222222222222, \"#7201a8\"], [0.3333333333333333, \"#9c179e\"], [0.4444444444444444, \"#bd3786\"], [0.5555555555555556, \"#d8576b\"], [0.6666666666666666, \"#ed7953\"], [0.7777777777777778, \"#fb9f3a\"], [0.8888888888888888, \"#fdca26\"], [1.0, \"#f0f921\"]]}, \"colorway\": [\"#636efa\", \"#EF553B\", \"#00cc96\", \"#ab63fa\", \"#FFA15A\", \"#19d3f3\", \"#FF6692\", \"#B6E880\", \"#FF97FF\", \"#FECB52\"], \"font\": {\"color\": \"#2a3f5f\"}, \"geo\": {\"bgcolor\": \"white\", \"lakecolor\": \"white\", \"landcolor\": \"#E5ECF6\", \"showlakes\": true, \"showland\": true, \"subunitcolor\": \"white\"}, \"hoverlabel\": {\"align\": \"left\"}, \"hovermode\": \"closest\", \"mapbox\": {\"style\": \"light\"}, \"paper_bgcolor\": \"white\", \"plot_bgcolor\": \"#E5ECF6\", \"polar\": {\"angularaxis\": {\"gridcolor\": \"white\", \"linecolor\": \"white\", \"ticks\": \"\"}, \"bgcolor\": \"#E5ECF6\", \"radialaxis\": {\"gridcolor\": \"white\", \"linecolor\": \"white\", \"ticks\": \"\"}}, \"scene\": {\"xaxis\": {\"backgroundcolor\": \"#E5ECF6\", \"gridcolor\": \"white\", \"gridwidth\": 2, \"linecolor\": \"white\", \"showbackground\": true, \"ticks\": \"\", \"zerolinecolor\": \"white\"}, \"yaxis\": {\"backgroundcolor\": \"#E5ECF6\", \"gridcolor\": \"white\", \"gridwidth\": 2, \"linecolor\": \"white\", \"showbackground\": true, \"ticks\": \"\", \"zerolinecolor\": \"white\"}, \"zaxis\": {\"backgroundcolor\": \"#E5ECF6\", \"gridcolor\": \"white\", \"gridwidth\": 2, \"linecolor\": \"white\", \"showbackground\": true, \"ticks\": \"\", \"zerolinecolor\": \"white\"}}, \"shapedefaults\": {\"line\": {\"color\": \"#2a3f5f\"}}, \"ternary\": {\"aaxis\": {\"gridcolor\": \"white\", \"linecolor\": \"white\", \"ticks\": \"\"}, \"baxis\": {\"gridcolor\": \"white\", \"linecolor\": \"white\", \"ticks\": \"\"}, \"bgcolor\": \"#E5ECF6\", \"caxis\": {\"gridcolor\": \"white\", \"linecolor\": \"white\", \"ticks\": \"\"}}, \"title\": {\"x\": 0.05}, \"xaxis\": {\"automargin\": true, \"gridcolor\": \"white\", \"linecolor\": \"white\", \"ticks\": \"\", \"title\": {\"standoff\": 15}, \"zerolinecolor\": \"white\", \"zerolinewidth\": 2}, \"yaxis\": {\"automargin\": true, \"gridcolor\": \"white\", \"linecolor\": \"white\", \"ticks\": \"\", \"title\": {\"standoff\": 15}, \"zerolinecolor\": \"white\", \"zerolinewidth\": 2}}}, \"title\": {\"font\": {\"color\": \"#4D5663\"}}, \"xaxis\": {\"gridcolor\": \"#E1E5ED\", \"showgrid\": true, \"tickfont\": {\"color\": \"#4D5663\"}, \"title\": {\"font\": {\"color\": \"#4D5663\"}, \"text\": \"\"}, \"zerolinecolor\": \"#E1E5ED\"}, \"yaxis\": {\"gridcolor\": \"#E1E5ED\", \"showgrid\": true, \"tickfont\": {\"color\": \"#4D5663\"}, \"title\": {\"font\": {\"color\": \"#4D5663\"}, \"text\": \"\"}, \"zerolinecolor\": \"#E1E5ED\"}},                        {\"showLink\": true, \"linkText\": \"Export to plot.ly\", \"plotlyServerURL\": \"https://plot.ly\", \"responsive\": true}                    ).then(function(){\n",
       "                            \n",
       "var gd = document.getElementById('1f8c1dfd-e8e4-47b8-9230-0c0946286bab');\n",
       "var x = new MutationObserver(function (mutations, observer) {{\n",
       "        var display = window.getComputedStyle(gd).display;\n",
       "        if (!display || display === 'none') {{\n",
       "            console.log([gd, 'removed!']);\n",
       "            Plotly.purge(gd);\n",
       "            observer.disconnect();\n",
       "        }}\n",
       "}});\n",
       "\n",
       "// Listen for the removal of the full notebook cells\n",
       "var notebookContainer = gd.closest('#notebook-container');\n",
       "if (notebookContainer) {{\n",
       "    x.observe(notebookContainer, {childList: true});\n",
       "}}\n",
       "\n",
       "// Listen for the clearing of the current output cell\n",
       "var outputEl = gd.closest('.output');\n",
       "if (outputEl) {{\n",
       "    x.observe(outputEl, {childList: true});\n",
       "}}\n",
       "\n",
       "                        })                };                });            </script>        </div>"
      ]
     },
     "metadata": {},
     "output_type": "display_data"
    }
   ],
   "source": [
    "df[['Rating', 'Date_Posted']].iplot(kind='hist', color='red')"
   ]
  },
  {
   "cell_type": "markdown",
   "id": "c38314d7",
   "metadata": {},
   "source": [
    "### Candidate Keywords/Keyphrases"
   ]
  },
  {
   "cell_type": "code",
   "execution_count": 12,
   "id": "9a9d8fca",
   "metadata": {},
   "outputs": [],
   "source": [
    "doc = \"Need to focus on career growth and promoting within. Not much movement with internal candidates which turns into employees leaving.\""
   ]
  },
  {
   "cell_type": "code",
   "execution_count": 13,
   "id": "7443d9ac",
   "metadata": {},
   "outputs": [],
   "source": [
    "from sklearn.feature_extraction.text import CountVectorizer\n",
    "\n",
    "n_gram_range = (1, 1)\n",
    "stop_words = \"english\"\n",
    "\n",
    "# Extract candidate words/phrases\n",
    "count = CountVectorizer(ngram_range=n_gram_range, stop_words=stop_words).fit([doc])\n",
    "candidates = count.get_feature_names()"
   ]
  },
  {
   "cell_type": "code",
   "execution_count": 14,
   "id": "737e79bb",
   "metadata": {},
   "outputs": [],
   "source": [
    "from sentence_transformers import SentenceTransformer\n",
    "\n",
    "model = SentenceTransformer('distilbert-base-nli-mean-tokens')\n",
    "doc_embedding = model.encode([doc])\n",
    "candidate_embeddings = model.encode(candidates)"
   ]
  },
  {
   "cell_type": "code",
   "execution_count": 20,
   "id": "a2249d58",
   "metadata": {},
   "outputs": [],
   "source": [
    "from sklearn.metrics.pairwise import cosine_similarity\n",
    "\n",
    "top_n = 15\n",
    "distances = cosine_similarity(doc_embedding, candidate_embeddings)\n",
    "keywords = [candidates[index] for index in distances.argsort()[0][-top_n:]]"
   ]
  },
  {
   "cell_type": "code",
   "execution_count": 16,
   "id": "1443ccce",
   "metadata": {},
   "outputs": [
    {
     "data": {
      "text/plain": [
       "['turns',\n",
       " 'focus',\n",
       " 'internal',\n",
       " 'movement',\n",
       " 'need',\n",
       " 'growth',\n",
       " 'promoting',\n",
       " 'leaving',\n",
       " 'candidates',\n",
       " 'career',\n",
       " 'employees']"
      ]
     },
     "execution_count": 16,
     "metadata": {},
     "output_type": "execute_result"
    }
   ],
   "source": [
    "keywords"
   ]
  },
  {
   "cell_type": "code",
   "execution_count": 19,
   "id": "90b4c2cd",
   "metadata": {},
   "outputs": [],
   "source": [
    "mask = (df['Rating'] == 1) | (df['Rating'] == 2)\n",
    "df_rating_12 = df[mask]\n",
    "mask = (df['Rating'] == 4) | (df['Rating'] == 5) | (df['Rating'] == 3)\n",
    "df_rating_345 = df[mask]"
   ]
  },
  {
   "cell_type": "code",
   "execution_count": 18,
   "id": "7780f832",
   "metadata": {},
   "outputs": [
    {
     "name": "stdout",
     "output_type": "stream",
     "text": [
      "107\n",
      "472\n"
     ]
    }
   ],
   "source": [
    "print(len(df_rating_12))\n",
    "print(len(df_rating_345))"
   ]
  },
  {
   "cell_type": "code",
   "execution_count": null,
   "id": "7cdf6348",
   "metadata": {},
   "outputs": [],
   "source": []
  },
  {
   "cell_type": "code",
   "execution_count": null,
   "id": "07be49e0",
   "metadata": {},
   "outputs": [],
   "source": []
  },
  {
   "cell_type": "code",
   "execution_count": null,
   "id": "5a18dc14",
   "metadata": {},
   "outputs": [],
   "source": []
  },
  {
   "cell_type": "code",
   "execution_count": null,
   "id": "972247c9",
   "metadata": {},
   "outputs": [],
   "source": []
  },
  {
   "cell_type": "code",
   "execution_count": null,
   "id": "ec624ed7",
   "metadata": {},
   "outputs": [],
   "source": []
  },
  {
   "cell_type": "code",
   "execution_count": null,
   "id": "1403cc6e",
   "metadata": {},
   "outputs": [],
   "source": []
  }
 ],
 "metadata": {
  "kernelspec": {
   "display_name": "Python 3",
   "language": "python",
   "name": "python3"
  },
  "language_info": {
   "codemirror_mode": {
    "name": "ipython",
    "version": 3
   },
   "file_extension": ".py",
   "mimetype": "text/x-python",
   "name": "python",
   "nbconvert_exporter": "python",
   "pygments_lexer": "ipython3",
   "version": "3.9.2"
  }
 },
 "nbformat": 4,
 "nbformat_minor": 5
}
