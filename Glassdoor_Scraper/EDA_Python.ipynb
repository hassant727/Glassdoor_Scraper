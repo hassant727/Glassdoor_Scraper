{
 "cells": [
  {
   "cell_type": "code",
   "execution_count": null,
   "id": "2d35729a",
   "metadata": {},
   "outputs": [],
   "source": [
    "# Extract keyords and important topics\n",
    "# Wordcloud to show the ones that occur the most often\n",
    "# Visualizations between employee title, tenure, department and the rating they gave"
   ]
  },
  {
   "cell_type": "code",
   "execution_count": 61,
   "id": "bbae52ff",
   "metadata": {},
   "outputs": [],
   "source": [
    "# Heatmap on a map of the world for grades by location"
   ]
  },
  {
   "cell_type": "code",
   "execution_count": 62,
   "id": "847eb477",
   "metadata": {},
   "outputs": [],
   "source": [
    "# Extract the top N positives and negative points that come up in reviews"
   ]
  },
  {
   "cell_type": "code",
   "execution_count": null,
   "id": "088826df",
   "metadata": {},
   "outputs": [],
   "source": [
    "# General sentiment about the company - different segments of the employee population.\n",
    "\n",
    "# > What are the segments of people we are interested in? Everyone? Mangers and up?\n",
    "# > What do we want to know about them? How they feel about the company\n",
    "# > Why do they feel that way? - Topic Extraction and Clustering\n",
    "# > How has this changed through time? Were people giving better reviews in 2018?"
   ]
  },
  {
   "cell_type": "code",
   "execution_count": 48,
   "id": "cd3dac81",
   "metadata": {},
   "outputs": [],
   "source": [
    "import pandas as pd\n",
    "import numpy as np\n",
    "import seaborn as sns\n",
    "import matplotlib.pyplot as plt\n",
    "import os"
   ]
  },
  {
   "cell_type": "code",
   "execution_count": 49,
   "id": "d9a55d87",
   "metadata": {},
   "outputs": [
    {
     "data": {
      "text/html": [
       "<div>\n",
       "<style scoped>\n",
       "    .dataframe tbody tr th:only-of-type {\n",
       "        vertical-align: middle;\n",
       "    }\n",
       "\n",
       "    .dataframe tbody tr th {\n",
       "        vertical-align: top;\n",
       "    }\n",
       "\n",
       "    .dataframe thead th {\n",
       "        text-align: right;\n",
       "    }\n",
       "</style>\n",
       "<table border=\"1\" class=\"dataframe\">\n",
       "  <thead>\n",
       "    <tr style=\"text-align: right;\">\n",
       "      <th></th>\n",
       "      <th>Unnamed: 0</th>\n",
       "      <th>Title</th>\n",
       "      <th>Rating</th>\n",
       "      <th>Designation</th>\n",
       "      <th>Pros</th>\n",
       "      <th>Cons</th>\n",
       "      <th>Author Info</th>\n",
       "    </tr>\n",
       "  </thead>\n",
       "  <tbody>\n",
       "    <tr>\n",
       "      <th>0</th>\n",
       "      <td>0</td>\n",
       "      <td>Great Culture and Company That Cares</td>\n",
       "      <td>4</td>\n",
       "      <td>Current Employee</td>\n",
       "      <td>Not much politics and very few ego's. Everyone...</td>\n",
       "      <td>Need to focus on career growth and promoting w...</td>\n",
       "      <td>13 Jan 2021 - Senior Corporate Recruiter in Tr...</td>\n",
       "    </tr>\n",
       "    <tr>\n",
       "      <th>1</th>\n",
       "      <td>1</td>\n",
       "      <td>Shaping the Future of Mobility!</td>\n",
       "      <td>5</td>\n",
       "      <td>Current Employee, more than 1 year</td>\n",
       "      <td>Global Work Environment, Cutting Edge Technolo...</td>\n",
       "      <td>None to mention at this time.</td>\n",
       "      <td>14 Apr 2021 - Program Manager in Dublin, Dublin</td>\n",
       "    </tr>\n",
       "    <tr>\n",
       "      <th>2</th>\n",
       "      <td>2</td>\n",
       "      <td>Lots of potential- getting there</td>\n",
       "      <td>4</td>\n",
       "      <td>Current Employee, more than 1 year</td>\n",
       "      <td>A very fast paced environment - you definitely...</td>\n",
       "      <td>Training and coaching could be better- high ex...</td>\n",
       "      <td>22 May 2021 - SCM in Dublin, Dublin</td>\n",
       "    </tr>\n",
       "    <tr>\n",
       "      <th>3</th>\n",
       "      <td>3</td>\n",
       "      <td>Alright but not the best</td>\n",
       "      <td>3</td>\n",
       "      <td>Current Employee, more than 1 year</td>\n",
       "      <td>Excellent office, good staff, good pay, good b...</td>\n",
       "      <td>Dis organised, office politics at mid/top leve...</td>\n",
       "      <td>8 Mar 2021 - Business Analyst in Dublin, Dublin</td>\n",
       "    </tr>\n",
       "    <tr>\n",
       "      <th>4</th>\n",
       "      <td>4</td>\n",
       "      <td>Aptiv</td>\n",
       "      <td>3</td>\n",
       "      <td>Current Employee</td>\n",
       "      <td>It is one of the leaders in the automotive ind...</td>\n",
       "      <td>High pressure for hitting numbers, it is more ...</td>\n",
       "      <td>7 Nov 2020 - Supply Chain in Dublin, Dublin</td>\n",
       "    </tr>\n",
       "  </tbody>\n",
       "</table>\n",
       "</div>"
      ],
      "text/plain": [
       "   Unnamed: 0                                 Title  Rating  \\\n",
       "0           0  Great Culture and Company That Cares       4   \n",
       "1           1       Shaping the Future of Mobility!       5   \n",
       "2           2      Lots of potential- getting there       4   \n",
       "3           3              Alright but not the best       3   \n",
       "4           4                                 Aptiv       3   \n",
       "\n",
       "                          Designation  \\\n",
       "0                    Current Employee   \n",
       "1  Current Employee, more than 1 year   \n",
       "2  Current Employee, more than 1 year   \n",
       "3  Current Employee, more than 1 year   \n",
       "4                    Current Employee   \n",
       "\n",
       "                                                Pros  \\\n",
       "0  Not much politics and very few ego's. Everyone...   \n",
       "1  Global Work Environment, Cutting Edge Technolo...   \n",
       "2  A very fast paced environment - you definitely...   \n",
       "3  Excellent office, good staff, good pay, good b...   \n",
       "4  It is one of the leaders in the automotive ind...   \n",
       "\n",
       "                                                Cons  \\\n",
       "0  Need to focus on career growth and promoting w...   \n",
       "1                      None to mention at this time.   \n",
       "2  Training and coaching could be better- high ex...   \n",
       "3  Dis organised, office politics at mid/top leve...   \n",
       "4  High pressure for hitting numbers, it is more ...   \n",
       "\n",
       "                                         Author Info  \n",
       "0  13 Jan 2021 - Senior Corporate Recruiter in Tr...  \n",
       "1    14 Apr 2021 - Program Manager in Dublin, Dublin  \n",
       "2                22 May 2021 - SCM in Dublin, Dublin  \n",
       "3    8 Mar 2021 - Business Analyst in Dublin, Dublin  \n",
       "4        7 Nov 2020 - Supply Chain in Dublin, Dublin  "
      ]
     },
     "execution_count": 49,
     "metadata": {},
     "output_type": "execute_result"
    }
   ],
   "source": [
    "data = pd.read_csv(\"Data.csv\")\n",
    "data.head()"
   ]
  },
  {
   "cell_type": "code",
   "execution_count": 50,
   "id": "aebb944c",
   "metadata": {},
   "outputs": [
    {
     "data": {
      "text/plain": [
       "Unnamed: 0     579\n",
       "Title          503\n",
       "Rating           5\n",
       "Designation     14\n",
       "Pros           544\n",
       "Cons           552\n",
       "Author Info    562\n",
       "dtype: int64"
      ]
     },
     "execution_count": 50,
     "metadata": {},
     "output_type": "execute_result"
    }
   ],
   "source": [
    "data.nunique()"
   ]
  },
  {
   "cell_type": "code",
   "execution_count": 51,
   "id": "ef70e472",
   "metadata": {},
   "outputs": [],
   "source": [
    "### Cleaning the data"
   ]
  },
  {
   "cell_type": "code",
   "execution_count": 52,
   "id": "b2e10830",
   "metadata": {},
   "outputs": [
    {
     "data": {
      "text/plain": [
       "Unnamed: 0     0\n",
       "Title          0\n",
       "Rating         0\n",
       "Designation    0\n",
       "Pros           0\n",
       "Cons           0\n",
       "Author Info    0\n",
       "dtype: int64"
      ]
     },
     "execution_count": 52,
     "metadata": {},
     "output_type": "execute_result"
    }
   ],
   "source": [
    "data.isnull().sum()"
   ]
  },
  {
   "cell_type": "code",
   "execution_count": 53,
   "id": "52da39f3",
   "metadata": {},
   "outputs": [
    {
     "name": "stdout",
     "output_type": "stream",
     "text": [
      "None\n"
     ]
    }
   ],
   "source": [
    "# drop redundant data\n",
    "data_cleaned = data.drop(\"Unnamed: 0\", 1, inplace=True)\n",
    "print(data_cleaned)"
   ]
  },
  {
   "cell_type": "code",
   "execution_count": 54,
   "id": "f5cc4a5d",
   "metadata": {},
   "outputs": [],
   "source": [
    "# checking for outliers - data point that differ significantly\n"
   ]
  },
  {
   "cell_type": "code",
   "execution_count": 60,
   "id": "afb3ec7d",
   "metadata": {},
   "outputs": [
    {
     "ename": "TypeError",
     "evalue": "'module' object is not subscriptable",
     "output_type": "error",
     "traceback": [
      "\u001b[1;31m---------------------------------------------------------------------------\u001b[0m",
      "\u001b[1;31mTypeError\u001b[0m                                 Traceback (most recent call last)",
      "\u001b[1;32m<ipython-input-60-744bf4bf93fe>\u001b[0m in \u001b[0;36m<module>\u001b[1;34m\u001b[0m\n\u001b[1;32m----> 1\u001b[1;33m \u001b[0mpd\u001b[0m\u001b[1;33m[\u001b[0m\u001b[1;34m'Rating'\u001b[0m\u001b[1;33m]\u001b[0m\u001b[1;33m=\u001b[0m\u001b[0mpd\u001b[0m\u001b[1;33m[\u001b[0m\u001b[1;34m'Rating'\u001b[0m\u001b[1;33m]\u001b[0m\u001b[1;33m.\u001b[0m\u001b[0mastype\u001b[0m\u001b[1;33m(\u001b[0m\u001b[0mint\u001b[0m\u001b[1;33m)\u001b[0m\u001b[1;33m\u001b[0m\u001b[1;33m\u001b[0m\u001b[0m\n\u001b[0m",
      "\u001b[1;31mTypeError\u001b[0m: 'module' object is not subscriptable"
     ]
    }
   ],
   "source": [
    "pd['Rating']=pd['Rating'].astype(int)"
   ]
  },
  {
   "cell_type": "code",
   "execution_count": null,
   "id": "0aea44ce",
   "metadata": {},
   "outputs": [],
   "source": []
  }
 ],
 "metadata": {
  "kernelspec": {
   "display_name": "Python 3",
   "language": "python",
   "name": "python3"
  },
  "language_info": {
   "codemirror_mode": {
    "name": "ipython",
    "version": 3
   },
   "file_extension": ".py",
   "mimetype": "text/x-python",
   "name": "python",
   "nbconvert_exporter": "python",
   "pygments_lexer": "ipython3",
   "version": "3.9.2"
  }
 },
 "nbformat": 4,
 "nbformat_minor": 5
}
