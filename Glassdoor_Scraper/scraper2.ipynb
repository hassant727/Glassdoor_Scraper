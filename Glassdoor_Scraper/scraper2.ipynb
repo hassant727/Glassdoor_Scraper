{
 "metadata": {
  "language_info": {
   "codemirror_mode": {
    "name": "ipython",
    "version": 3
   },
   "file_extension": ".py",
   "mimetype": "text/x-python",
   "name": "python",
   "nbconvert_exporter": "python",
   "pygments_lexer": "ipython3",
   "version": "3.8.5"
  },
  "orig_nbformat": 2,
  "kernelspec": {
   "name": "python385jvsc74a57bd063d545d6b34b221bfcea102df6b615a60b093b240efbb248c70fd676f52e8a84",
   "display_name": "Python 3.8.5 64-bit (conda)"
  }
 },
 "nbformat": 4,
 "nbformat_minor": 2,
 "cells": [
  {
   "cell_type": "code",
   "execution_count": 21,
   "metadata": {},
   "outputs": [],
   "source": [
    "import requests\n",
    "from bs4 import BeautifulSoup\n",
    "import selenium\n",
    "import pandas as pd\n",
    "from selenium import webdriver\n",
    "from datetime import datetime, date, time\n",
    "from selenium.webdriver.support.ui import Select\n",
    "from selenium.webdriver.chrome.options import Options\n",
    "import time\n",
    "import re\n",
    "import json"
   ]
  },
  {
   "cell_type": "code",
   "execution_count": 22,
   "metadata": {},
   "outputs": [],
   "source": [
    "options = webdriver.ChromeOptions()\n",
    "options.add_argument(\"--ignore-certificate-errors\")\n",
    "options.add_argument(\"--incognito\")\n",
    "#options.add_argument('--headless')\n",
    "options.add_experimental_option('excludeSwitches', ['enable-logging'])\n",
    "driver = webdriver.Chrome(options=options)\n",
    "driver.implicitly_wait(100)"
   ]
  },
  {
   "cell_type": "code",
   "execution_count": 23,
   "metadata": {},
   "outputs": [],
   "source": [
    "url = \"https://www.glassdoor.ie/Reviews/Aptiv-Reviews-E1891089_P2.htm\"\n",
    "driver.get(url)"
   ]
  },
  {
   "cell_type": "code",
   "execution_count": 24,
   "metadata": {},
   "outputs": [
    {
     "output_type": "stream",
     "name": "stdout",
     "text": [
      "Title:  Place for ambitious and not to afraid of challenges\nRating:  5.0\nStatus:  Current Employee, more than 5 years\npros:  Aptiv gives unlimited opportunities to people who are not afraid to take the lead and go beyond their comfort zone.\nWork hard and play hard is fully applicable but in a healthy way.\nYou can expect an appropriate reward for exceeding expectations.\ncons:  Manufacturing and automotive are not easy domains, which you should understand joining.\nDate of Post:  24 May 2020 - IT DirectorIT\nLeicester, England, England\n\nTitle:  Great Company with Progressive Technology\nRating:  5.0\nStatus:  Current Employee, more than 1 year\npros:  Rare opportunity in Ireland to work in the automotive manufacturing industry. \nGenuine career opportunities.\nThe company truly embraces diversity.\nStrong CEO and sense of being in the right place at the right time.\nSalary, pension and health benefits above average but bonus is only average.\nGood social scene, great offices and location, free breakfast, friendly co-workers and some memorable nights out.\ncons:  Top-heavy management structure. Unfortunately there are too many middle management layers who only have administration/delegation capability rather than hands-on capability and direct experience.\nDate of Post:  24 Nov 2019 - Anonymous Employee\n"
     ]
    },
    {
     "output_type": "error",
     "ename": "AttributeError",
     "evalue": "'NoneType' object has no attribute 'text'",
     "traceback": [
      "\u001b[1;31m---------------------------------------------------------------------------\u001b[0m",
      "\u001b[1;31mAttributeError\u001b[0m                            Traceback (most recent call last)",
      "\u001b[1;32m<ipython-input-24-8682c9aec473>\u001b[0m in \u001b[0;36m<module>\u001b[1;34m\u001b[0m\n\u001b[0;32m     50\u001b[0m \u001b[1;33m\u001b[0m\u001b[0m\n\u001b[0;32m     51\u001b[0m     \u001b[0mauthorLocation\u001b[0m \u001b[1;33m=\u001b[0m \u001b[0mcontainer\u001b[0m\u001b[1;33m.\u001b[0m\u001b[0mfind\u001b[0m\u001b[1;33m(\u001b[0m\u001b[1;34m'span'\u001b[0m\u001b[1;33m,\u001b[0m \u001b[0mclass_\u001b[0m\u001b[1;33m=\u001b[0m\u001b[1;34m'authorLocation'\u001b[0m\u001b[1;33m)\u001b[0m\u001b[1;33m\u001b[0m\u001b[1;33m\u001b[0m\u001b[0m\n\u001b[1;32m---> 52\u001b[1;33m     \u001b[0mauthorLocation\u001b[0m \u001b[1;33m=\u001b[0m \u001b[0mauthorLocation\u001b[0m\u001b[1;33m.\u001b[0m\u001b[0mtext\u001b[0m\u001b[1;33m\u001b[0m\u001b[1;33m\u001b[0m\u001b[0m\n\u001b[0m\u001b[0;32m     53\u001b[0m     \u001b[0mprint\u001b[0m\u001b[1;33m(\u001b[0m\u001b[0mauthorLocation\u001b[0m\u001b[1;33m)\u001b[0m\u001b[1;33m\u001b[0m\u001b[1;33m\u001b[0m\u001b[0m\n\u001b[0;32m     54\u001b[0m \u001b[1;33m\u001b[0m\u001b[0m\n",
      "\u001b[1;31mAttributeError\u001b[0m: 'NoneType' object has no attribute 'text'"
     ]
    }
   ],
   "source": [
    "\n",
    "html_soup = BeautifulSoup(driver.page_source, \"html.parser\")\n",
    "containers = html_soup.find_all(\"div\", class_=\"gdReview\")\n",
    "\n",
    "userEmail = \"hassan.tariq@aptiv.com\"\n",
    "userPassword = \"REKucuV4\"\n",
    "\n",
    "\n",
    "driver.find_element_by_xpath(\"/html/body/header/nav[1]/div/div/div/div[1]/button\").click()\n",
    "time.sleep(5)\n",
    "driver.find_element_by_xpath(\"/html/body/div[11]/div/div/div[2]/div[2]/div[2]/div/div/div/div[3]/form/div[1]/div/div/input\").send_keys(userEmail)\n",
    "driver.find_element_by_xpath(\"/html/body/div[11]/div/div/div[2]/div[2]/div[2]/div/div/div/div[3]/form/div[2]/div/div/input\").send_keys(userPassword)\n",
    "driver.find_element_by_xpath(\"/html/body/div[11]/div/div/div[2]/div[2]/div[2]/div/div/div/div[3]/form/div[3]/div[1]/button\").click()\n",
    "time.sleep(5)\n",
    "# read = driver.find_element_by_class_name(\"v2__EIReviewDetailsV2__continueReading v2__EIReviewDetailsV2__clickable v2__EIReviewDetailsV2__newUiCta mb\")\n",
    "# read.click()\n",
    "\n",
    "for container in containers:\n",
    "\n",
    "    # scraping review tile \n",
    "    review_title = container.find('a', class_=\"reviewLink\")\n",
    "    review_title = review_title.text\n",
    "    print('Title: ', review_title)\n",
    "\n",
    "    # scraping no of star reviews without subelements\n",
    "    rating = container.find('span', class_='ratingNumber mr-xsm')\n",
    "    rating = rating.text\n",
    "    print('Rating: ', rating)\n",
    "\n",
    "    # scrapign status of employee\n",
    "    employee_Status = container.find('span', class_='pt-xsm pt-md-0 css-1qxtz39 eg4psks0')\n",
    "    employee_Status = employee_Status.text\n",
    "    print('Status: ', employee_Status)\n",
    "\n",
    "    \n",
    "    rev_text = container.find('div', class_=\"v2__EIReviewDetailsV2__fullWidth\")\n",
    "    pros = rev_text.text\n",
    "    pros = pros.strip('Pros')\n",
    "    cons = rev_text.next_sibling.text\n",
    "    cons = cons.strip('Cons')\n",
    "    #advise = rev_text.next_sibling.next_sibling.text\n",
    "    #advise = advise.strip('Advice to Management')\n",
    "    print('pros: ', pros)\n",
    "    print('cons: ', cons)\n",
    "    #print('advise: ', advise)\n",
    "\n",
    "\n",
    "    date_posted = container.find('span', class_='authorJobTitle middle common__EiReviewDetailsStyle__newGrey')\n",
    "    date_posted = date_posted.text\n",
    "    print('Date of Post: ', date_posted)\n",
    "    \n",
    "    authorLocation = container.find('span', class_='authorLocation')\n",
    "    authorLocation = authorLocation.text\n",
    "    print(authorLocation)\n",
    "\n",
    "    print()"
   ]
  },
  {
   "cell_type": "code",
   "execution_count": null,
   "metadata": {},
   "outputs": [],
   "source": []
  }
 ]
}