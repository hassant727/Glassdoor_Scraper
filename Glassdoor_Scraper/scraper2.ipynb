{
 "metadata": {
  "language_info": {
   "codemirror_mode": {
    "name": "ipython",
    "version": 3
   },
   "file_extension": ".py",
   "mimetype": "text/x-python",
   "name": "python",
   "nbconvert_exporter": "python",
   "pygments_lexer": "ipython3",
   "version": "3.8.5"
  },
  "orig_nbformat": 2,
  "kernelspec": {
   "name": "python385jvsc74a57bd063d545d6b34b221bfcea102df6b615a60b093b240efbb248c70fd676f52e8a84",
   "display_name": "Python 3.8.5 64-bit (conda)"
  }
 },
 "nbformat": 4,
 "nbformat_minor": 2,
 "cells": [
  {
   "cell_type": "code",
   "execution_count": 19,
   "metadata": {},
   "outputs": [],
   "source": [
    "import requests\n",
    "from bs4 import BeautifulSoup\n",
    "import selenium\n",
    "import pandas as pd\n",
    "from selenium import webdriver\n",
    "from datetime import datetime, date, time\n",
    "from selenium.webdriver.support.ui import Select\n",
    "from selenium.webdriver.chrome.options import Options\n",
    "import time\n",
    "import re\n",
    "import json"
   ]
  },
  {
   "cell_type": "code",
   "execution_count": 20,
   "metadata": {},
   "outputs": [],
   "source": [
    "options = webdriver.ChromeOptions()\n",
    "options.add_argument(\"--ignore-certificate-errors\")\n",
    "options.add_argument(\"--incognito\")\n",
    "#options.add_argument('--headless')\n",
    "options.add_experimental_option('excludeSwitches', ['enable-logging'])\n",
    "driver = webdriver.Chrome(options=options)\n",
    "driver.implicitly_wait(100)"
   ]
  },
  {
   "cell_type": "code",
   "execution_count": 21,
   "metadata": {},
   "outputs": [],
   "source": [
    "url = \"https://www.glassdoor.ie/Reviews/Aptiv-Reviews-E1891089.htm\"\n",
    "driver.get(url)"
   ]
  },
  {
   "cell_type": "code",
   "execution_count": 22,
   "metadata": {},
   "outputs": [
    {
     "output_type": "stream",
     "name": "stdout",
     "text": [
      "Title:  Great Culture and Company That Cares\nRating:  4.0\nDesignation:  Current Employee\npros:  Not much politics and very few ego's. Everyone is willing to help which is refreshing. Not very tough recruiting A Player Talent as Aptiv is a place where most want to work.\ncons:  Need to focus on career growth and promoting within. Not much movement with internal candidates which turns into employees leaving.\nAuthor Info:  Troy, MI\n\nTitle:  Shaping the Future of Mobility!\nRating:  5.0\nDesignation:  Current Employee, more than 1 year\npros:  Global Work Environment, Cutting Edge Technology Sector, Interesting Challenge\ncons:  None to mention at this time.\nAuthor Info:  Dublin, Dublin\n\nTitle:  Lots of potential- getting there\nRating:  4.0\nDesignation:  Current Employee, more than 1 year\npros:  A very fast paced environment - you definitely won't be bored and you learn lots in a short space of time\nA very global company- exciting to work with some many colleagues from all over the world, if a little daunting at first\nYou can make decisions fast - less bureaucracy that other companies\nReally nice office facilities, young energetic team of people, good work colleagues.\ncons:  Training and coaching could be better- high expectations but needs more structure and stability to help people succeed\nAuthor Info:  Dublin, Dublin\n\nTitle:  Alright but not the best\nRating:  3.0\nDesignation:  Current Employee, more than 1 year\npros:  Excellent office, good staff, good pay, good benefit\ncons:  Dis organised, office politics at mid/top level, not sociable, some poor manager\nAuthor Info:  Dublin, Dublin\n\nTitle:  Aptiv\nRating:  3.0\nDesignation:  Current Employee\npros:  It is one of the leaders in the automotive industry in the tier-1 supplier's segment.\ncons:  High pressure for hitting numbers, it is more important than people. You feel that no reasons are valid if you don't hit the numbers. It is typical behavior in US companies, I have worked in other previously.\nAuthor Info:  Dublin, Dublin\n\nTitle:  Black stain on the IDA - Kevin and Joe Show - no encore needed\nRating:  1.0\nDesignation:  Current Employee, less than 1 year\npros:  The marketing department is great at creating positive reviews on glassdoor. Disregard the obvious fake reviews, challenging work environment is short for toxic and unraveling as a recent million dollar survey announced. \n\nCan be hard to get your head around the global scale and complex divisional structures really means aptiv is full of fiefdom, to get anything done you need to follow a broken process using broken systems for no thought out reason for no recognition.\n\nQuestion anything - fired. have an opinion - fired. talk out of turn - fired. try something different - fired. \n\nThe fear and toxic culture comes from CEO CFO dynamic duo all they way down - the need to impress wall street at all costs means nothing matters only numbers. Culture is a joke there is none. \n\nThey are Trumpian rip off merchants overpaying themselves to fly all over the world telling people how important they are, Look out for them with their begging bowl in the coming months.\ncons:  Everything about this place is a con. Dont worry they will be shedding most of the irish workforce soon enough and move onto the next country willing to put up with the Kevin and Joe show.\nAuthor Info:  Dublin, Dublin\n\nTitle:  Bad culture, no HR alignment\nRating:  1.0\nDesignation:  Current Employee, more than 3 years\npros:  Fairly okay salary, key stakeholders good to work with\ncons:  HR is all over the place, no centralised HR, global comms are not aligned with local comms, miscommunication, favoritism, no annual bonus, poor incentives for HR team\nAuthor Info:  Dublin, Dublin\n\nTitle:  Good working place\nRating:  4.0\nDesignation:  Former Employee\npros:  good package comparing to other companie\ncons:  IT chaos in terms of org and proce\nAuthor Info:  Dublin, Dublin\n\nTitle:  Very good company advancing the technology for a safer, greener solutions for the future of mobility.\nRating:  5.0\nDesignation:  Current Employee\npros:  - Good base salary\n- Strong leadership\n- Friendly people\n- Very good vision\n- Commendable CSR activitie\ncons:  - Bonus is a bit low\n- Stock compensation is only available to executive\nAuthor Info:  Dublin, Dublin\n\nTitle:  Soulless company that grinds you into dust\nRating:  1.0\nDesignation:  Current Employee, more than 1 year\npros:  Beautiful offices, friendly work colleagues, free coffee and food, central location.\ncons:  This is the hardest company I've ever worked for - hard not because of the work, but because leadership make loyalty very difficult. I've spent my entire time here constantly wondering if the scheduled meeting with my manager is about me being fired. \n\nHonestly, I am only here until they fire me (which could be any day even though I excel in my reviews) or when I find a better job. \n\nAptiv has either fired or lost all the hardworking, competent and talented staff they had in the last six months. Why? Because they are likely showing up their managers by being able to answer the questions and solve the problems they can't. And, of course costs, despite raising the GDP of a small nation in investment in the last quarter.\n\nTo get a bit of perspective on the culture here: Aptiv's CEO told all staff on a company-wide call that work-life balance was a myth and you should structure your life around Aptiv. Morale is at an all time low.\n\nI wasn't experienced in the manufacturing sector prior to joining, and its a cut-throat sector. Aptiv is a manufacturing company trying to pivot into a tech company, but all senior leadership are from the manufacturing sector. American manufacturing management mythologies, everything is about cutting cents, so that the leadership can bolster their stock options.\nAuthor Info:  Dublin, Dublin\n\n"
     ]
    }
   ],
   "source": [
    "\n",
    "html_soup = BeautifulSoup(driver.page_source, \"html.parser\")\n",
    "containers = html_soup.find_all(\"div\", class_=\"gdReview\")\n",
    "\n",
    "userEmail = \"hassan.tariq@aptiv.com\"\n",
    "userPassword = \"REKucuV4\"\n",
    "\n",
    "\n",
    "driver.find_element_by_xpath(\"/html/body/header/nav[1]/div/div/div/div[1]/button\").click()\n",
    "time.sleep(5)\n",
    "driver.find_element_by_xpath(\"/html/body/div[11]/div/div/div[2]/div[2]/div[2]/div/div/div/div[3]/form/div[1]/div/div/input\").send_keys(userEmail)\n",
    "driver.find_element_by_xpath(\"/html/body/div[11]/div/div/div[2]/div[2]/div[2]/div/div/div/div[3]/form/div[2]/div/div/input\").send_keys(userPassword)\n",
    "driver.find_element_by_xpath(\"/html/body/div[11]/div/div/div[2]/div[2]/div[2]/div/div/div/div[3]/form/div[3]/div[1]/button\").click()\n",
    "time.sleep(5)\n",
    "# read = driver.find_element_by_class_name(\"v2__EIReviewDetailsV2__continueReading v2__EIReviewDetailsV2__clickable v2__EIReviewDetailsV2__newUiCta mb\")\n",
    "# read.click()\n",
    "\n",
    "for container in containers:\n",
    "\n",
    "    # scraping review tile \n",
    "    review_title = container.find('a', class_=\"reviewLink\")\n",
    "    review_title = review_title.text\n",
    "    print('Title: ', review_title)\n",
    "\n",
    "    # scraping no of star reviews without subelements\n",
    "    rating = container.find('span', class_='ratingNumber mr-xsm')\n",
    "    rating = rating.text\n",
    "    print('Rating: ', rating)\n",
    "\n",
    "    # scrapign status of employee\n",
    "    employee_Status = container.find('span', class_='pt-xsm pt-md-0 css-1qxtz39 eg4psks0')\n",
    "    employee_Status = employee_Status.text\n",
    "    print('Designation: ', employee_Status)\n",
    "\n",
    "    # \n",
    "    rev_text = container.find('div', class_=\"v2__EIReviewDetailsV2__fullWidth\")\n",
    "    pros = rev_text.text\n",
    "    pros = pros.strip('Pros')\n",
    "    cons = rev_text.next_sibling.text\n",
    "    cons = cons.strip('Cons')\n",
    "    #advise = rev_text.next_sibling.next_sibling.text\n",
    "    #advise = advise.strip('Advice to Management')\n",
    "    print('pros: ', pros)\n",
    "    print('cons: ', cons)\n",
    "    #print('advise: ', advise)\n",
    "\n",
    "\n",
    "    # date_posted = container.find('span', class_='authorJobTitle middle common__EiReviewDetailsStyle__newGrey')\n",
    "    # date_posted = date_posted.text\n",
    "    # print('date & position: ', date_posted)\n",
    "\n",
    "    author_info = container.find('span', class_='authorLocation')\n",
    "    author_info = author_info.text\n",
    "    print('Author Info: ', author_info)\n",
    "\n",
    "    print()"
   ]
  },
  {
   "cell_type": "code",
   "execution_count": 23,
   "metadata": {},
   "outputs": [
    {
     "output_type": "error",
     "ename": "ValueError",
     "evalue": "If using all scalar values, you must pass an index",
     "traceback": [
      "\u001b[1;31m---------------------------------------------------------------------------\u001b[0m",
      "\u001b[1;31mValueError\u001b[0m                                Traceback (most recent call last)",
      "\u001b[1;32m<ipython-input-23-28fdda8e0750>\u001b[0m in \u001b[0;36m<module>\u001b[1;34m\u001b[0m\n\u001b[1;32m----> 1\u001b[1;33m Data = pd.DataFrame(\n\u001b[0m\u001b[0;32m      2\u001b[0m     {\n\u001b[0;32m      3\u001b[0m         \u001b[1;34m\"Title\"\u001b[0m\u001b[1;33m:\u001b[0m \u001b[0mreview_title\u001b[0m\u001b[1;33m,\u001b[0m\u001b[1;33m\u001b[0m\u001b[1;33m\u001b[0m\u001b[0m\n\u001b[0;32m      4\u001b[0m         \u001b[1;34m\"Rating\"\u001b[0m\u001b[1;33m:\u001b[0m \u001b[0mrating\u001b[0m\u001b[1;33m,\u001b[0m\u001b[1;33m\u001b[0m\u001b[1;33m\u001b[0m\u001b[0m\n\u001b[0;32m      5\u001b[0m         \u001b[1;34m\"Designation\"\u001b[0m\u001b[1;33m:\u001b[0m \u001b[0memployee_Status\u001b[0m\u001b[1;33m,\u001b[0m\u001b[1;33m\u001b[0m\u001b[1;33m\u001b[0m\u001b[0m\n",
      "\u001b[1;32m~\\anaconda3\\lib\\site-packages\\pandas\\core\\frame.py\u001b[0m in \u001b[0;36m__init__\u001b[1;34m(self, data, index, columns, dtype, copy)\u001b[0m\n\u001b[0;32m    466\u001b[0m \u001b[1;33m\u001b[0m\u001b[0m\n\u001b[0;32m    467\u001b[0m         \u001b[1;32melif\u001b[0m \u001b[0misinstance\u001b[0m\u001b[1;33m(\u001b[0m\u001b[0mdata\u001b[0m\u001b[1;33m,\u001b[0m \u001b[0mdict\u001b[0m\u001b[1;33m)\u001b[0m\u001b[1;33m:\u001b[0m\u001b[1;33m\u001b[0m\u001b[1;33m\u001b[0m\u001b[0m\n\u001b[1;32m--> 468\u001b[1;33m             \u001b[0mmgr\u001b[0m \u001b[1;33m=\u001b[0m \u001b[0minit_dict\u001b[0m\u001b[1;33m(\u001b[0m\u001b[0mdata\u001b[0m\u001b[1;33m,\u001b[0m \u001b[0mindex\u001b[0m\u001b[1;33m,\u001b[0m \u001b[0mcolumns\u001b[0m\u001b[1;33m,\u001b[0m \u001b[0mdtype\u001b[0m\u001b[1;33m=\u001b[0m\u001b[0mdtype\u001b[0m\u001b[1;33m)\u001b[0m\u001b[1;33m\u001b[0m\u001b[1;33m\u001b[0m\u001b[0m\n\u001b[0m\u001b[0;32m    469\u001b[0m         \u001b[1;32melif\u001b[0m \u001b[0misinstance\u001b[0m\u001b[1;33m(\u001b[0m\u001b[0mdata\u001b[0m\u001b[1;33m,\u001b[0m \u001b[0mma\u001b[0m\u001b[1;33m.\u001b[0m\u001b[0mMaskedArray\u001b[0m\u001b[1;33m)\u001b[0m\u001b[1;33m:\u001b[0m\u001b[1;33m\u001b[0m\u001b[1;33m\u001b[0m\u001b[0m\n\u001b[0;32m    470\u001b[0m             \u001b[1;32mimport\u001b[0m \u001b[0mnumpy\u001b[0m\u001b[1;33m.\u001b[0m\u001b[0mma\u001b[0m\u001b[1;33m.\u001b[0m\u001b[0mmrecords\u001b[0m \u001b[1;32mas\u001b[0m \u001b[0mmrecords\u001b[0m\u001b[1;33m\u001b[0m\u001b[1;33m\u001b[0m\u001b[0m\n",
      "\u001b[1;32m~\\anaconda3\\lib\\site-packages\\pandas\\core\\internals\\construction.py\u001b[0m in \u001b[0;36minit_dict\u001b[1;34m(data, index, columns, dtype)\u001b[0m\n\u001b[0;32m    281\u001b[0m             \u001b[0marr\u001b[0m \u001b[1;32mif\u001b[0m \u001b[1;32mnot\u001b[0m \u001b[0mis_datetime64tz_dtype\u001b[0m\u001b[1;33m(\u001b[0m\u001b[0marr\u001b[0m\u001b[1;33m)\u001b[0m \u001b[1;32melse\u001b[0m \u001b[0marr\u001b[0m\u001b[1;33m.\u001b[0m\u001b[0mcopy\u001b[0m\u001b[1;33m(\u001b[0m\u001b[1;33m)\u001b[0m \u001b[1;32mfor\u001b[0m \u001b[0marr\u001b[0m \u001b[1;32min\u001b[0m \u001b[0marrays\u001b[0m\u001b[1;33m\u001b[0m\u001b[1;33m\u001b[0m\u001b[0m\n\u001b[0;32m    282\u001b[0m         ]\n\u001b[1;32m--> 283\u001b[1;33m     \u001b[1;32mreturn\u001b[0m \u001b[0marrays_to_mgr\u001b[0m\u001b[1;33m(\u001b[0m\u001b[0marrays\u001b[0m\u001b[1;33m,\u001b[0m \u001b[0mdata_names\u001b[0m\u001b[1;33m,\u001b[0m \u001b[0mindex\u001b[0m\u001b[1;33m,\u001b[0m \u001b[0mcolumns\u001b[0m\u001b[1;33m,\u001b[0m \u001b[0mdtype\u001b[0m\u001b[1;33m=\u001b[0m\u001b[0mdtype\u001b[0m\u001b[1;33m)\u001b[0m\u001b[1;33m\u001b[0m\u001b[1;33m\u001b[0m\u001b[0m\n\u001b[0m\u001b[0;32m    284\u001b[0m \u001b[1;33m\u001b[0m\u001b[0m\n\u001b[0;32m    285\u001b[0m \u001b[1;33m\u001b[0m\u001b[0m\n",
      "\u001b[1;32m~\\anaconda3\\lib\\site-packages\\pandas\\core\\internals\\construction.py\u001b[0m in \u001b[0;36marrays_to_mgr\u001b[1;34m(arrays, arr_names, index, columns, dtype, verify_integrity)\u001b[0m\n\u001b[0;32m     76\u001b[0m         \u001b[1;31m# figure out the index, if necessary\u001b[0m\u001b[1;33m\u001b[0m\u001b[1;33m\u001b[0m\u001b[1;33m\u001b[0m\u001b[0m\n\u001b[0;32m     77\u001b[0m         \u001b[1;32mif\u001b[0m \u001b[0mindex\u001b[0m \u001b[1;32mis\u001b[0m \u001b[1;32mNone\u001b[0m\u001b[1;33m:\u001b[0m\u001b[1;33m\u001b[0m\u001b[1;33m\u001b[0m\u001b[0m\n\u001b[1;32m---> 78\u001b[1;33m             \u001b[0mindex\u001b[0m \u001b[1;33m=\u001b[0m \u001b[0mextract_index\u001b[0m\u001b[1;33m(\u001b[0m\u001b[0marrays\u001b[0m\u001b[1;33m)\u001b[0m\u001b[1;33m\u001b[0m\u001b[1;33m\u001b[0m\u001b[0m\n\u001b[0m\u001b[0;32m     79\u001b[0m         \u001b[1;32melse\u001b[0m\u001b[1;33m:\u001b[0m\u001b[1;33m\u001b[0m\u001b[1;33m\u001b[0m\u001b[0m\n\u001b[0;32m     80\u001b[0m             \u001b[0mindex\u001b[0m \u001b[1;33m=\u001b[0m \u001b[0mensure_index\u001b[0m\u001b[1;33m(\u001b[0m\u001b[0mindex\u001b[0m\u001b[1;33m)\u001b[0m\u001b[1;33m\u001b[0m\u001b[1;33m\u001b[0m\u001b[0m\n",
      "\u001b[1;32m~\\anaconda3\\lib\\site-packages\\pandas\\core\\internals\\construction.py\u001b[0m in \u001b[0;36mextract_index\u001b[1;34m(data)\u001b[0m\n\u001b[0;32m    385\u001b[0m \u001b[1;33m\u001b[0m\u001b[0m\n\u001b[0;32m    386\u001b[0m         \u001b[1;32mif\u001b[0m \u001b[1;32mnot\u001b[0m \u001b[0mindexes\u001b[0m \u001b[1;32mand\u001b[0m \u001b[1;32mnot\u001b[0m \u001b[0mraw_lengths\u001b[0m\u001b[1;33m:\u001b[0m\u001b[1;33m\u001b[0m\u001b[1;33m\u001b[0m\u001b[0m\n\u001b[1;32m--> 387\u001b[1;33m             \u001b[1;32mraise\u001b[0m \u001b[0mValueError\u001b[0m\u001b[1;33m(\u001b[0m\u001b[1;34m\"If using all scalar values, you must pass an index\"\u001b[0m\u001b[1;33m)\u001b[0m\u001b[1;33m\u001b[0m\u001b[1;33m\u001b[0m\u001b[0m\n\u001b[0m\u001b[0;32m    388\u001b[0m \u001b[1;33m\u001b[0m\u001b[0m\n\u001b[0;32m    389\u001b[0m         \u001b[1;32mif\u001b[0m \u001b[0mhave_series\u001b[0m\u001b[1;33m:\u001b[0m\u001b[1;33m\u001b[0m\u001b[1;33m\u001b[0m\u001b[0m\n",
      "\u001b[1;31mValueError\u001b[0m: If using all scalar values, you must pass an index"
     ]
    }
   ],
   "source": [
    "Data = pd.DataFrame(\n",
    "    {\n",
    "        \"Title\": review_title,\n",
    "        \"Rating\": rating,\n",
    "        \"Designation\": employee_Status,\n",
    "        \"Pros\": pros,\n",
    "        \"Cons\": cons,\n",
    "        \"Author Info\": author_info \n",
    "    }\n",
    "    )   \n",
    "Data.to_csv(\"{}.csv\".format(review_title))\n",
    "driver.quit()"
   ]
  },
  {
   "cell_type": "code",
   "execution_count": null,
   "metadata": {},
   "outputs": [],
   "source": []
  }
 ]
}