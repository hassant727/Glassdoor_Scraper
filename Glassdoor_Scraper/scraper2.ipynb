{
 "metadata": {
  "language_info": {
   "codemirror_mode": {
    "name": "ipython",
    "version": 3
   },
   "file_extension": ".py",
   "mimetype": "text/x-python",
   "name": "python",
   "nbconvert_exporter": "python",
   "pygments_lexer": "ipython3",
   "version": "3.8.5"
  },
  "orig_nbformat": 2,
  "kernelspec": {
   "name": "python385jvsc74a57bd063d545d6b34b221bfcea102df6b615a60b093b240efbb248c70fd676f52e8a84",
   "display_name": "Python 3.8.5 64-bit (conda)"
  }
 },
 "nbformat": 4,
 "nbformat_minor": 2,
 "cells": [
  {
   "cell_type": "code",
   "execution_count": 1,
   "metadata": {},
   "outputs": [],
   "source": [
    "import requests\n",
    "from bs4 import BeautifulSoup\n",
    "import selenium\n",
    "import pandas\n",
    "from selenium import webdriver"
   ]
  },
  {
   "cell_type": "code",
   "execution_count": 2,
   "metadata": {},
   "outputs": [],
   "source": [
    "options = webdriver.ChromeOptions()\n",
    "options.add_argument(\"--ignore-certificate-errors\")\n",
    "options.add_argument(\"--incognito\")\n",
    "#options.add_argument('--headless')\n",
    "options.add_experimental_option('excludeSwitches', ['enable-logging'])\n",
    "driver = webdriver.Chrome(options=options)\n",
    "driver.implicitly_wait(100)"
   ]
  },
  {
   "cell_type": "code",
   "execution_count": 3,
   "metadata": {},
   "outputs": [],
   "source": [
    "url = \"https://www.glassdoor.ie/Reviews/Aptiv-Reviews-E1891089.htm?filter.iso3Language=eng\"\n",
    "driver.get(url)"
   ]
  },
  {
   "cell_type": "code",
   "execution_count": 23,
   "metadata": {
    "tags": []
   },
   "outputs": [
    {
     "output_type": "stream",
     "name": "stdout",
     "text": [
      "star reviews: 4.0\nemployee_status: Current Employee\nreview title: Great Culture and Company That Cares\ndate & position:  13 Jan 2021 - Senior Corporate Recruiter\nauthor location: Troy, MI\nPros\nNot much politics and very few ego's. Everyone is willing to help which is refreshing. Not very tough recruiting A Player Talent as Aptiv is a place where most want to work.\n\nstar reviews: 5.0\nemployee_status: Current Employee, more than 1 year\nreview title: Shaping the Future of Mobility!\ndate & position:  14 Apr 2021 - Program Manager\nauthor location: Dublin, Dublin\nPros\n"
     ]
    },
    {
     "output_type": "error",
     "ename": "AttributeError",
     "evalue": "'NoneType' object has no attribute 'text'",
     "traceback": [
      "\u001b[1;31m---------------------------------------------------------------------------\u001b[0m",
      "\u001b[1;31mAttributeError\u001b[0m                            Traceback (most recent call last)",
      "\u001b[1;32m<ipython-input-23-51debc8d8db1>\u001b[0m in \u001b[0;36m<module>\u001b[1;34m\u001b[0m\n\u001b[0;32m     41\u001b[0m \u001b[1;33m\u001b[0m\u001b[0m\n\u001b[0;32m     42\u001b[0m     \u001b[0mpros_cont\u001b[0m \u001b[1;33m=\u001b[0m \u001b[0mcontainer\u001b[0m\u001b[1;33m.\u001b[0m\u001b[0mfind\u001b[0m\u001b[1;33m(\u001b[0m\u001b[1;34m'p'\u001b[0m\u001b[1;33m,\u001b[0m \u001b[0mclass_\u001b[0m\u001b[1;33m=\u001b[0m\u001b[1;34m'mt-0 mb-0 pb v2__EIReviewDetailsV2__bodyColor v2__EIReviewDetailsV2__lineHeightLarge v2__EIReviewDetailsV2__isCollapsed'\u001b[0m\u001b[1;33m)\u001b[0m\u001b[1;33m\u001b[0m\u001b[1;33m\u001b[0m\u001b[0m\n\u001b[1;32m---> 43\u001b[1;33m     \u001b[0mpros_cont\u001b[0m \u001b[1;33m=\u001b[0m \u001b[0mpros_cont\u001b[0m\u001b[1;33m.\u001b[0m\u001b[0mtext\u001b[0m\u001b[1;33m\u001b[0m\u001b[1;33m\u001b[0m\u001b[0m\n\u001b[0m\u001b[0;32m     44\u001b[0m     \u001b[0mprint\u001b[0m\u001b[1;33m(\u001b[0m\u001b[0mpros_cont\u001b[0m\u001b[1;33m)\u001b[0m\u001b[1;33m\u001b[0m\u001b[1;33m\u001b[0m\u001b[0m\n\u001b[0;32m     45\u001b[0m \u001b[1;33m\u001b[0m\u001b[0m\n",
      "\u001b[1;31mAttributeError\u001b[0m: 'NoneType' object has no attribute 'text'"
     ]
    }
   ],
   "source": [
    "html_soup = BeautifulSoup(driver.page_source, \"html.parser\")\n",
    "containers = html_soup.find_all(\"div\", class_=\"gdReview\")\n",
    "for container in containers:\n",
    "    rating = container.find('span', class_='ratingNumber mr-xsm')\n",
    "    rating = rating.text\n",
    "    print('star reviews:', rating)\n",
    "\n",
    "    employee_Status = container.find('span', class_='pt-xsm pt-md-0 css-1qxtz39 eg4psks0')\n",
    "    employee_Status = employee_Status.text\n",
    "    print('employee_status:', employee_Status)\n",
    "\n",
    "    # review_title = container.find('a', class_='mb-xxsm')\n",
    "    # review_title = container.text\n",
    "    # print(review_title)\n",
    "\n",
    "    # list=[]\n",
    "    # for i in container:\n",
    "    #     list.append(i.get_text())\n",
    "    # print(list)\n",
    "\n",
    "    \n",
    "    #print(html_soup.select('h2.mb-xxsm')[0].get_text())\n",
    "    # for i,j in zip(html_soup.select('h2.mb-xxsm'),range(len(html_soup.select('h2.mb-xxsm')))):\n",
    "    #     print(html_soup.select('h2.mb-xxsm')[j].get_text())\n",
    "\n",
    "    title = container.find('a', class_=\"reviewLink\")\n",
    "    title = title.text\n",
    "    print('review title:', title)\n",
    "\n",
    "    date_posted = container.find('span', class_='authorJobTitle middle common__EiReviewDetailsStyle__newGrey')\n",
    "    date_posted = date_posted.text\n",
    "    print('date & position: ', date_posted)\n",
    "\n",
    "    author_location = container.find('span', class_='authorLocation')\n",
    "    author_location = author_location.text\n",
    "    print('author location:', author_location)\n",
    "    \n",
    "    pros = container.find('p', class_='mb-0 strong')\n",
    "    pros = pros.text\n",
    "    print(pros)\n",
    "\n",
    "\n",
    "    # job_title = container.find('span', class_='authorJobTitle middle common__EiReviewDetailsStyle__newGrey')\n",
    "    # job_title = job_title.text\n",
    "    # print(job_title)\n",
    "\n",
    "    # pros = container.find('p', class_='mb-0 strong')\n",
    "    # pros = pros.text\n",
    "    # print(job_title)\n",
    "\n",
    "    print()\n"
   ]
  },
  {
   "cell_type": "code",
   "execution_count": null,
   "metadata": {},
   "outputs": [],
   "source": []
  }
 ]
}