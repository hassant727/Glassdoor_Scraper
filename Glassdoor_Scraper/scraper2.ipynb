{
 "metadata": {
  "language_info": {
   "codemirror_mode": {
    "name": "ipython",
    "version": 3
   },
   "file_extension": ".py",
   "mimetype": "text/x-python",
   "name": "python",
   "nbconvert_exporter": "python",
   "pygments_lexer": "ipython3",
   "version": "3.8.5"
  },
  "orig_nbformat": 2,
  "kernelspec": {
   "name": "python385jvsc74a57bd063d545d6b34b221bfcea102df6b615a60b093b240efbb248c70fd676f52e8a84",
   "display_name": "Python 3.8.5 64-bit (conda)"
  }
 },
 "nbformat": 4,
 "nbformat_minor": 2,
 "cells": [
  {
   "cell_type": "code",
   "execution_count": 5,
   "metadata": {},
   "outputs": [],
   "source": [
    "import requests\n",
    "from bs4 import BeautifulSoup\n",
    "import selenium\n",
    "import pandas\n",
    "from selenium import webdriver\n",
    "from datetime import datetime, date, time\n",
    "import time\n"
   ]
  },
  {
   "cell_type": "code",
   "execution_count": 6,
   "metadata": {},
   "outputs": [],
   "source": [
    "options = webdriver.ChromeOptions()\n",
    "options.add_argument(\"--ignore-certificate-errors\")\n",
    "options.add_argument(\"--incognito\")\n",
    "#options.add_argument('--headless')\n",
    "options.add_experimental_option('excludeSwitches', ['enable-logging'])\n",
    "driver = webdriver.Chrome(options=options)\n",
    "driver.implicitly_wait(100)"
   ]
  },
  {
   "cell_type": "code",
   "execution_count": 3,
   "metadata": {},
   "outputs": [],
   "source": [
    "url = \"https://www.glassdoor.ie/Reviews/Aptiv-Reviews-E1891089.htm?filter.iso3Language=eng\"\n",
    "driver.get(url)"
   ]
  },
  {
   "cell_type": "code",
   "execution_count": 4,
   "metadata": {},
   "outputs": [
    {
     "output_type": "error",
     "ename": "SyntaxError",
     "evalue": "invalid syntax (<ipython-input-4-714b03a0fb2a>, line 14)",
     "traceback": [
      "\u001b[1;36m  File \u001b[1;32m\"<ipython-input-4-714b03a0fb2a>\"\u001b[1;36m, line \u001b[1;32m14\u001b[0m\n\u001b[1;33m    element = driver.find_element :xpath, 'v2__EIReviewDetailsV2__clickable '\u001b[0m\n\u001b[1;37m                                  ^\u001b[0m\n\u001b[1;31mSyntaxError\u001b[0m\u001b[1;31m:\u001b[0m invalid syntax\n"
     ]
    }
   ],
   "source": [
    "html_soup = BeautifulSoup(driver.page_source, \"html.parser\")\n",
    "containers = html_soup.find_all(\"div\", class_=\"gdReview\")\n",
    "\n",
    "userEmail = \"hassan.tariq@aptiv.com\"\n",
    "userPassword = \"REKucuV4\"\n",
    "\n",
    "driver.find_element_by_xpath(\"/html/body/header/nav[1]/div/div/div/div[1]/button\").click()\n",
    "time.sleep(5)\n",
    "driver.find_element_by_xpath(\"/html/body/div[11]/div/div/div[2]/div[2]/div[2]/div/div/div/div[3]/form/div[1]/div/div/input\").send_keys(userEmail)\n",
    "driver.find_element_by_xpath(\"/html/body/div[11]/div/div/div[2]/div[2]/div[2]/div/div/div/div[3]/form/div[2]/div/div/input\").send_keys(userPassword)\n",
    "driver.find_element_by_xpath(\"/html/body/div[11]/div/div/div[2]/div[2]/div[2]/div/div/div/div[3]/form/div[3]/div[1]/button\").click()\n",
    "time.sleep(5)\n",
    "#read = driver.find_element_by_class_name(\"v2__EIReviewDetailsV2__continueReading v2__EIReviewDetailsV2__clickable #v2__EIReviewDetailsV2__newUiCta mb\")\n",
    "element = driver.find_element :xpath, 'v2__EIReviewDetailsV2__clickable '\n",
    "element.click()\n",
    "\n",
    "# for button in read:\n",
    "#     button.click()\n",
    "\n",
    "for container in containers:\n",
    "    rating = container.find('span', class_='ratingNumber mr-xsm')\n",
    "    rating = rating.text\n",
    "    print('star reviews:', rating)\n",
    "\n",
    "    employee_Status = container.find('span', class_='pt-xsm pt-md-0 css-1qxtz39 eg4psks0')\n",
    "    employee_Status = employee_Status.text\n",
    "    print('employee_status:', employee_Status)\n",
    "    \n",
    "    #print(html_soup.select('h2.mb-xxsm')[0].get_text())\n",
    "    # for i,j in zip(html_soup.select('h2.mb-xxsm'),range(len(html_soup.select('h2.mb-xxsm')))):\n",
    "    #     print(html_soup.select('h2.mb-xxsm')[j].get_text())\n",
    "\n",
    "    review_title = container.find('a', class_=\"reviewLink\")\n",
    "    review_title = review_title.text\n",
    "    print('review title:', review_title)\n",
    "\n",
    "    date_posted = container.find('span', class_='authorJobTitle middle common__EiReviewDetailsStyle__newGrey')\n",
    "    date_posted = date_posted.text\n",
    "    print('date & position: ', date_posted)\n",
    "\n",
    "    author_location = container.find('span', class_='authorLocation')\n",
    "    author_location = author_location.text\n",
    "    print('author location:', author_location)\n",
    "    \n",
    "    rev_text = container.find('div', class_=\"v2__EIReviewDetailsV2__fullWidth\")\n",
    "    pros = rev_text.text\n",
    "    pros = pros.strip('Pros')\n",
    "    cons = rev_text.next_sibling.text\n",
    "    cons = cons.strip('Cons')\n",
    "    advise = rev_text.next_sibling.next_sibling.text\n",
    "    advise = advise.strip('Advice to Management')\n",
    "    print('pros: ', pros)\n",
    "    print('cons: ', cons)\n",
    "    print('advise: ', advise)\n",
    "\n",
    "    cont_reading = container.find('div', class_='v2__EIReviewDetailsV2__clickable')\n",
    "    cont_reading = cont_reading.click\n",
    "    print(cont_reading)\n",
    "\n",
    "    print()"
   ]
  },
  {
   "cell_type": "code",
   "execution_count": null,
   "metadata": {},
   "outputs": [],
   "source": [
    "//*[@id=\"empReview_35383741\"]/div/div/div[2]/div/div[2]/div[3]"
   ]
  }
 ]
}