{
 "cells": [
  {
   "cell_type": "code",
   "execution_count": 31,
   "id": "e1744637",
   "metadata": {},
   "outputs": [],
   "source": [
    "# Analyze the reviews as positive or negative reviews"
   ]
  },
  {
   "cell_type": "code",
   "execution_count": 47,
   "id": "f79d9978",
   "metadata": {},
   "outputs": [
    {
     "data": {
      "text/html": [
       "<div>\n",
       "<style scoped>\n",
       "    .dataframe tbody tr th:only-of-type {\n",
       "        vertical-align: middle;\n",
       "    }\n",
       "\n",
       "    .dataframe tbody tr th {\n",
       "        vertical-align: top;\n",
       "    }\n",
       "\n",
       "    .dataframe thead th {\n",
       "        text-align: right;\n",
       "    }\n",
       "</style>\n",
       "<table border=\"1\" class=\"dataframe\">\n",
       "  <thead>\n",
       "    <tr style=\"text-align: right;\">\n",
       "      <th></th>\n",
       "      <th>Title</th>\n",
       "      <th>Rating</th>\n",
       "      <th>Designation</th>\n",
       "      <th>Pros</th>\n",
       "      <th>Cons</th>\n",
       "      <th>Date</th>\n",
       "      <th>Position</th>\n",
       "    </tr>\n",
       "  </thead>\n",
       "  <tbody>\n",
       "    <tr>\n",
       "      <th>0</th>\n",
       "      <td>Great Culture and Company That Cares</td>\n",
       "      <td>4</td>\n",
       "      <td>Current Employee</td>\n",
       "      <td>Not much politics and very few ego's. Everyone...</td>\n",
       "      <td>Need to focus on career growth and promoting w...</td>\n",
       "      <td>2021</td>\n",
       "      <td>Senior Corporate Recruiter in Troy, MI</td>\n",
       "    </tr>\n",
       "    <tr>\n",
       "      <th>1</th>\n",
       "      <td>Shaping the Future of Mobility!</td>\n",
       "      <td>5</td>\n",
       "      <td>Current Employee, more than 1 year</td>\n",
       "      <td>Global Work Environment, Cutting Edge Technolo...</td>\n",
       "      <td>None to mention at this time.</td>\n",
       "      <td>2021</td>\n",
       "      <td>Program Manager in Dublin, Dublin</td>\n",
       "    </tr>\n",
       "    <tr>\n",
       "      <th>2</th>\n",
       "      <td>Lots of potential- getting there</td>\n",
       "      <td>4</td>\n",
       "      <td>Current Employee, more than 1 year</td>\n",
       "      <td>A very fast paced environment - you definitely...</td>\n",
       "      <td>Training and coaching could be better- high ex...</td>\n",
       "      <td>2021</td>\n",
       "      <td>SCM in Dublin, Dublin</td>\n",
       "    </tr>\n",
       "    <tr>\n",
       "      <th>3</th>\n",
       "      <td>Alright but not the best</td>\n",
       "      <td>3</td>\n",
       "      <td>Current Employee, more than 1 year</td>\n",
       "      <td>Excellent office, good staff, good pay, good b...</td>\n",
       "      <td>Dis organised, office politics at mid/top leve...</td>\n",
       "      <td>2021</td>\n",
       "      <td>Business Analyst in Dublin, Dublin</td>\n",
       "    </tr>\n",
       "    <tr>\n",
       "      <th>4</th>\n",
       "      <td>Aptiv</td>\n",
       "      <td>3</td>\n",
       "      <td>Current Employee</td>\n",
       "      <td>It is one of the leaders in the automotive ind...</td>\n",
       "      <td>High pressure for hitting numbers, it is more ...</td>\n",
       "      <td>2020</td>\n",
       "      <td>Supply Chain in Dublin, Dublin</td>\n",
       "    </tr>\n",
       "  </tbody>\n",
       "</table>\n",
       "</div>"
      ],
      "text/plain": [
       "                                  Title  Rating  \\\n",
       "0  Great Culture and Company That Cares       4   \n",
       "1       Shaping the Future of Mobility!       5   \n",
       "2      Lots of potential- getting there       4   \n",
       "3              Alright but not the best       3   \n",
       "4                                 Aptiv       3   \n",
       "\n",
       "                          Designation  \\\n",
       "0                    Current Employee   \n",
       "1  Current Employee, more than 1 year   \n",
       "2  Current Employee, more than 1 year   \n",
       "3  Current Employee, more than 1 year   \n",
       "4                    Current Employee   \n",
       "\n",
       "                                                Pros  \\\n",
       "0  Not much politics and very few ego's. Everyone...   \n",
       "1  Global Work Environment, Cutting Edge Technolo...   \n",
       "2  A very fast paced environment - you definitely...   \n",
       "3  Excellent office, good staff, good pay, good b...   \n",
       "4  It is one of the leaders in the automotive ind...   \n",
       "\n",
       "                                                Cons  Date  \\\n",
       "0  Need to focus on career growth and promoting w...  2021   \n",
       "1                      None to mention at this time.  2021   \n",
       "2  Training and coaching could be better- high ex...  2021   \n",
       "3  Dis organised, office politics at mid/top leve...  2021   \n",
       "4  High pressure for hitting numbers, it is more ...  2020   \n",
       "\n",
       "                                  Position  \n",
       "0   Senior Corporate Recruiter in Troy, MI  \n",
       "1        Program Manager in Dublin, Dublin  \n",
       "2                    SCM in Dublin, Dublin  \n",
       "3       Business Analyst in Dublin, Dublin  \n",
       "4           Supply Chain in Dublin, Dublin  "
      ]
     },
     "execution_count": 47,
     "metadata": {},
     "output_type": "execute_result"
    }
   ],
   "source": [
    "import pandas as pd\n",
    "reviews = pd.read_csv('Data.csv', index_col = 0)\n",
    "reviews.pop('Unnamed: 9')\n",
    "reviews.pop('Unnamed: 8')\n",
    "reviews.head()"
   ]
  },
  {
   "cell_type": "markdown",
   "id": "16dde43c",
   "metadata": {},
   "source": [
    "### Data Processing"
   ]
  },
  {
   "cell_type": "code",
   "execution_count": 51,
   "id": "b7fa29ae",
   "metadata": {},
   "outputs": [
    {
     "data": {
      "text/plain": [
       "0"
      ]
     },
     "execution_count": 51,
     "metadata": {},
     "output_type": "execute_result"
    }
   ],
   "source": [
    "len(reviews) - len(reviews.dropna())\n"
   ]
  },
  {
   "cell_type": "code",
   "execution_count": 52,
   "id": "f1f75af8",
   "metadata": {},
   "outputs": [
    {
     "data": {
      "text/plain": [
       "559"
      ]
     },
     "execution_count": 52,
     "metadata": {},
     "output_type": "execute_result"
    }
   ],
   "source": [
    "len(reviews)"
   ]
  },
  {
   "cell_type": "code",
   "execution_count": 53,
   "id": "efd2d928",
   "metadata": {},
   "outputs": [],
   "source": [
    "reviews = reviews.dropna()\n"
   ]
  },
  {
   "cell_type": "code",
   "execution_count": 54,
   "id": "b179e967",
   "metadata": {},
   "outputs": [],
   "source": [
    "# Check the datatype for review of every row\n",
    "# Change all the dattype to strigns\n",
    "for i in range(0,len(reviews)-1):\n",
    "    if type(reviews.iloc[i]['Pros']) != str:\n",
    "        reviews.iloc[i]['Pros'] = str(reviews.iloc[i]['Pros'])\n",
    "        \n",
    "for i in range(0,len(reviews)-1):\n",
    "    if type(reviews.iloc[i]['Cons']) != str:\n",
    "        reviews.iloc[i]['Cons'] = str(reviews.iloc[i]['Cons'])"
   ]
  },
  {
   "cell_type": "code",
   "execution_count": 55,
   "id": "a9bb9f8d",
   "metadata": {},
   "outputs": [],
   "source": [
    "# Neutral review no sentiment\n",
    "reviews = reviews[reviews['Rating'] != 3]"
   ]
  },
  {
   "cell_type": "code",
   "execution_count": 56,
   "id": "b1a37ba9",
   "metadata": {},
   "outputs": [
    {
     "data": {
      "text/html": [
       "<div>\n",
       "<style scoped>\n",
       "    .dataframe tbody tr th:only-of-type {\n",
       "        vertical-align: middle;\n",
       "    }\n",
       "\n",
       "    .dataframe tbody tr th {\n",
       "        vertical-align: top;\n",
       "    }\n",
       "\n",
       "    .dataframe thead th {\n",
       "        text-align: right;\n",
       "    }\n",
       "</style>\n",
       "<table border=\"1\" class=\"dataframe\">\n",
       "  <thead>\n",
       "    <tr style=\"text-align: right;\">\n",
       "      <th></th>\n",
       "      <th>Title</th>\n",
       "      <th>Rating</th>\n",
       "      <th>Designation</th>\n",
       "      <th>Pros</th>\n",
       "      <th>Cons</th>\n",
       "      <th>Date</th>\n",
       "      <th>Position</th>\n",
       "      <th>sentiment</th>\n",
       "    </tr>\n",
       "  </thead>\n",
       "  <tbody>\n",
       "    <tr>\n",
       "      <th>0</th>\n",
       "      <td>Great Culture and Company That Cares</td>\n",
       "      <td>4</td>\n",
       "      <td>Current Employee</td>\n",
       "      <td>Not much politics and very few ego's. Everyone...</td>\n",
       "      <td>Need to focus on career growth and promoting w...</td>\n",
       "      <td>2021</td>\n",
       "      <td>Senior Corporate Recruiter in Troy, MI</td>\n",
       "      <td>1</td>\n",
       "    </tr>\n",
       "    <tr>\n",
       "      <th>1</th>\n",
       "      <td>Shaping the Future of Mobility!</td>\n",
       "      <td>5</td>\n",
       "      <td>Current Employee, more than 1 year</td>\n",
       "      <td>Global Work Environment, Cutting Edge Technolo...</td>\n",
       "      <td>None to mention at this time.</td>\n",
       "      <td>2021</td>\n",
       "      <td>Program Manager in Dublin, Dublin</td>\n",
       "      <td>1</td>\n",
       "    </tr>\n",
       "    <tr>\n",
       "      <th>2</th>\n",
       "      <td>Lots of potential- getting there</td>\n",
       "      <td>4</td>\n",
       "      <td>Current Employee, more than 1 year</td>\n",
       "      <td>A very fast paced environment - you definitely...</td>\n",
       "      <td>Training and coaching could be better- high ex...</td>\n",
       "      <td>2021</td>\n",
       "      <td>SCM in Dublin, Dublin</td>\n",
       "      <td>1</td>\n",
       "    </tr>\n",
       "    <tr>\n",
       "      <th>5</th>\n",
       "      <td>Black stain on the IDA - Kevin and Joe Show - ...</td>\n",
       "      <td>1</td>\n",
       "      <td>Current Employee, less than 1 year</td>\n",
       "      <td>The marketing department is great at creating ...</td>\n",
       "      <td>Everything about this place is a con. Dont wor...</td>\n",
       "      <td>2020</td>\n",
       "      <td>Financial Analyst in Dublin, Dublin</td>\n",
       "      <td>0</td>\n",
       "    </tr>\n",
       "    <tr>\n",
       "      <th>6</th>\n",
       "      <td>Bad culture, no HR alignment</td>\n",
       "      <td>1</td>\n",
       "      <td>Current Employee, more than 3 years</td>\n",
       "      <td>Fairly okay salary, key stakeholders good to w...</td>\n",
       "      <td>HR is all over the place, no centralised HR, g...</td>\n",
       "      <td>2021</td>\n",
       "      <td>Human Resources Business Partner HRBP in Dubl...</td>\n",
       "      <td>0</td>\n",
       "    </tr>\n",
       "    <tr>\n",
       "      <th>7</th>\n",
       "      <td>Good working place</td>\n",
       "      <td>4</td>\n",
       "      <td>Former Employee</td>\n",
       "      <td>good package comparing to other companies</td>\n",
       "      <td>IT chaos in terms of org and process</td>\n",
       "      <td>2020</td>\n",
       "      <td>Solutions Architect in Dublin, Dublin</td>\n",
       "      <td>1</td>\n",
       "    </tr>\n",
       "    <tr>\n",
       "      <th>9</th>\n",
       "      <td>Soulless company that grinds you into dust</td>\n",
       "      <td>1</td>\n",
       "      <td>Current Employee, more than 1 year</td>\n",
       "      <td>Beautiful offices, friendly work colleagues, f...</td>\n",
       "      <td>This is the hardest company I've ever worked f...</td>\n",
       "      <td>2020</td>\n",
       "      <td>Corporate Ops in Dublin, Dublin</td>\n",
       "      <td>0</td>\n",
       "    </tr>\n",
       "    <tr>\n",
       "      <th>10</th>\n",
       "      <td>Great Company with Progressive Technology</td>\n",
       "      <td>5</td>\n",
       "      <td>Current Employee, more than 1 year</td>\n",
       "      <td>Rare opportunity in Ireland to work in the aut...</td>\n",
       "      <td>Top-heavy management structure. Unfortunately ...</td>\n",
       "      <td>2019</td>\n",
       "      <td>Anonymous Employee</td>\n",
       "      <td>1</td>\n",
       "    </tr>\n",
       "    <tr>\n",
       "      <th>11</th>\n",
       "      <td>\"Best place I've ever worked\"</td>\n",
       "      <td>4</td>\n",
       "      <td>Current Employee, less than 1 year</td>\n",
       "      <td>Great place to build new skills. Work with sma...</td>\n",
       "      <td>Work life balance. Slow hierarchical progression.</td>\n",
       "      <td>2020</td>\n",
       "      <td>IT Analyst in Dublin, Dublin</td>\n",
       "      <td>1</td>\n",
       "    </tr>\n",
       "    <tr>\n",
       "      <th>12</th>\n",
       "      <td>Horrific still having nightmares</td>\n",
       "      <td>1</td>\n",
       "      <td>Former Employee, more than 1 year</td>\n",
       "      <td>My exit interview as i could see light at the ...</td>\n",
       "      <td>Micro management, really bad culture as in NO ...</td>\n",
       "      <td>2020</td>\n",
       "      <td>Finance</td>\n",
       "      <td>0</td>\n",
       "    </tr>\n",
       "  </tbody>\n",
       "</table>\n",
       "</div>"
      ],
      "text/plain": [
       "                                                Title  Rating  \\\n",
       "0                Great Culture and Company That Cares       4   \n",
       "1                     Shaping the Future of Mobility!       5   \n",
       "2                    Lots of potential- getting there       4   \n",
       "5   Black stain on the IDA - Kevin and Joe Show - ...       1   \n",
       "6                        Bad culture, no HR alignment       1   \n",
       "7                                  Good working place       4   \n",
       "9          Soulless company that grinds you into dust       1   \n",
       "10          Great Company with Progressive Technology       5   \n",
       "11                      \"Best place I've ever worked\"       4   \n",
       "12                   Horrific still having nightmares       1   \n",
       "\n",
       "                            Designation  \\\n",
       "0                      Current Employee   \n",
       "1    Current Employee, more than 1 year   \n",
       "2    Current Employee, more than 1 year   \n",
       "5    Current Employee, less than 1 year   \n",
       "6   Current Employee, more than 3 years   \n",
       "7                       Former Employee   \n",
       "9    Current Employee, more than 1 year   \n",
       "10   Current Employee, more than 1 year   \n",
       "11   Current Employee, less than 1 year   \n",
       "12    Former Employee, more than 1 year   \n",
       "\n",
       "                                                 Pros  \\\n",
       "0   Not much politics and very few ego's. Everyone...   \n",
       "1   Global Work Environment, Cutting Edge Technolo...   \n",
       "2   A very fast paced environment - you definitely...   \n",
       "5   The marketing department is great at creating ...   \n",
       "6   Fairly okay salary, key stakeholders good to w...   \n",
       "7           good package comparing to other companies   \n",
       "9   Beautiful offices, friendly work colleagues, f...   \n",
       "10  Rare opportunity in Ireland to work in the aut...   \n",
       "11  Great place to build new skills. Work with sma...   \n",
       "12  My exit interview as i could see light at the ...   \n",
       "\n",
       "                                                 Cons  Date  \\\n",
       "0   Need to focus on career growth and promoting w...  2021   \n",
       "1                       None to mention at this time.  2021   \n",
       "2   Training and coaching could be better- high ex...  2021   \n",
       "5   Everything about this place is a con. Dont wor...  2020   \n",
       "6   HR is all over the place, no centralised HR, g...  2021   \n",
       "7                IT chaos in terms of org and process  2020   \n",
       "9   This is the hardest company I've ever worked f...  2020   \n",
       "10  Top-heavy management structure. Unfortunately ...  2019   \n",
       "11  Work life balance. Slow hierarchical progression.  2020   \n",
       "12  Micro management, really bad culture as in NO ...  2020   \n",
       "\n",
       "                                             Position  sentiment  \n",
       "0              Senior Corporate Recruiter in Troy, MI          1  \n",
       "1                   Program Manager in Dublin, Dublin          1  \n",
       "2                               SCM in Dublin, Dublin          1  \n",
       "5                 Financial Analyst in Dublin, Dublin          0  \n",
       "6    Human Resources Business Partner HRBP in Dubl...          0  \n",
       "7               Solutions Architect in Dublin, Dublin          1  \n",
       "9                     Corporate Ops in Dublin, Dublin          0  \n",
       "10                                Anonymous Employee           1  \n",
       "11                       IT Analyst in Dublin, Dublin          1  \n",
       "12                                           Finance           0  "
      ]
     },
     "execution_count": 56,
     "metadata": {},
     "output_type": "execute_result"
    }
   ],
   "source": [
    "# Rating 1 and 2 is negative sentiment, 4 and above is positive sentiment\n",
    "# Apply the function sentiment and create a new column that will represent\n",
    "# the positive and negative sentiment as 1 or 0\n",
    "def sentiment(n):\n",
    "    return 1 if n >= 4 else 0\n",
    "reviews['sentiment'] = reviews['Rating'].apply(sentiment)\n",
    "reviews.head(10)"
   ]
  },
  {
   "cell_type": "code",
   "execution_count": 57,
   "id": "e0d7568c",
   "metadata": {},
   "outputs": [
    {
     "data": {
      "text/html": [
       "<div>\n",
       "<style scoped>\n",
       "    .dataframe tbody tr th:only-of-type {\n",
       "        vertical-align: middle;\n",
       "    }\n",
       "\n",
       "    .dataframe tbody tr th {\n",
       "        vertical-align: top;\n",
       "    }\n",
       "\n",
       "    .dataframe thead th {\n",
       "        text-align: right;\n",
       "    }\n",
       "</style>\n",
       "<table border=\"1\" class=\"dataframe\">\n",
       "  <thead>\n",
       "    <tr style=\"text-align: right;\">\n",
       "      <th></th>\n",
       "      <th>Title</th>\n",
       "      <th>Rating</th>\n",
       "      <th>Designation</th>\n",
       "      <th>Pros</th>\n",
       "      <th>Cons</th>\n",
       "      <th>Date</th>\n",
       "      <th>Position</th>\n",
       "      <th>sentiment</th>\n",
       "      <th>all_features</th>\n",
       "    </tr>\n",
       "  </thead>\n",
       "  <tbody>\n",
       "    <tr>\n",
       "      <th>0</th>\n",
       "      <td>Great Culture and Company That Cares</td>\n",
       "      <td>4</td>\n",
       "      <td>Current Employee</td>\n",
       "      <td>Not much politics and very few ego's. Everyone...</td>\n",
       "      <td>Need to focus on career growth and promoting w...</td>\n",
       "      <td>2021</td>\n",
       "      <td>Senior Corporate Recruiter in Troy, MI</td>\n",
       "      <td>1</td>\n",
       "      <td>Great Culture and Company That Cares Not much ...</td>\n",
       "    </tr>\n",
       "    <tr>\n",
       "      <th>1</th>\n",
       "      <td>Shaping the Future of Mobility!</td>\n",
       "      <td>5</td>\n",
       "      <td>Current Employee, more than 1 year</td>\n",
       "      <td>Global Work Environment, Cutting Edge Technolo...</td>\n",
       "      <td>None to mention at this time.</td>\n",
       "      <td>2021</td>\n",
       "      <td>Program Manager in Dublin, Dublin</td>\n",
       "      <td>1</td>\n",
       "      <td>Shaping the Future of Mobility! Global Work En...</td>\n",
       "    </tr>\n",
       "    <tr>\n",
       "      <th>2</th>\n",
       "      <td>Lots of potential- getting there</td>\n",
       "      <td>4</td>\n",
       "      <td>Current Employee, more than 1 year</td>\n",
       "      <td>A very fast paced environment - you definitely...</td>\n",
       "      <td>Training and coaching could be better- high ex...</td>\n",
       "      <td>2021</td>\n",
       "      <td>SCM in Dublin, Dublin</td>\n",
       "      <td>1</td>\n",
       "      <td>Lots of potential- getting there A very fast p...</td>\n",
       "    </tr>\n",
       "    <tr>\n",
       "      <th>5</th>\n",
       "      <td>Black stain on the IDA - Kevin and Joe Show - ...</td>\n",
       "      <td>1</td>\n",
       "      <td>Current Employee, less than 1 year</td>\n",
       "      <td>The marketing department is great at creating ...</td>\n",
       "      <td>Everything about this place is a con. Dont wor...</td>\n",
       "      <td>2020</td>\n",
       "      <td>Financial Analyst in Dublin, Dublin</td>\n",
       "      <td>0</td>\n",
       "      <td>Black stain on the IDA - Kevin and Joe Show - ...</td>\n",
       "    </tr>\n",
       "    <tr>\n",
       "      <th>6</th>\n",
       "      <td>Bad culture, no HR alignment</td>\n",
       "      <td>1</td>\n",
       "      <td>Current Employee, more than 3 years</td>\n",
       "      <td>Fairly okay salary, key stakeholders good to w...</td>\n",
       "      <td>HR is all over the place, no centralised HR, g...</td>\n",
       "      <td>2021</td>\n",
       "      <td>Human Resources Business Partner HRBP in Dubl...</td>\n",
       "      <td>0</td>\n",
       "      <td>Bad culture, no HR alignment Fairly okay salar...</td>\n",
       "    </tr>\n",
       "  </tbody>\n",
       "</table>\n",
       "</div>"
      ],
      "text/plain": [
       "                                               Title  Rating  \\\n",
       "0               Great Culture and Company That Cares       4   \n",
       "1                    Shaping the Future of Mobility!       5   \n",
       "2                   Lots of potential- getting there       4   \n",
       "5  Black stain on the IDA - Kevin and Joe Show - ...       1   \n",
       "6                       Bad culture, no HR alignment       1   \n",
       "\n",
       "                           Designation  \\\n",
       "0                     Current Employee   \n",
       "1   Current Employee, more than 1 year   \n",
       "2   Current Employee, more than 1 year   \n",
       "5   Current Employee, less than 1 year   \n",
       "6  Current Employee, more than 3 years   \n",
       "\n",
       "                                                Pros  \\\n",
       "0  Not much politics and very few ego's. Everyone...   \n",
       "1  Global Work Environment, Cutting Edge Technolo...   \n",
       "2  A very fast paced environment - you definitely...   \n",
       "5  The marketing department is great at creating ...   \n",
       "6  Fairly okay salary, key stakeholders good to w...   \n",
       "\n",
       "                                                Cons  Date  \\\n",
       "0  Need to focus on career growth and promoting w...  2021   \n",
       "1                      None to mention at this time.  2021   \n",
       "2  Training and coaching could be better- high ex...  2021   \n",
       "5  Everything about this place is a con. Dont wor...  2020   \n",
       "6  HR is all over the place, no centralised HR, g...  2021   \n",
       "\n",
       "                                            Position  sentiment  \\\n",
       "0             Senior Corporate Recruiter in Troy, MI          1   \n",
       "1                  Program Manager in Dublin, Dublin          1   \n",
       "2                              SCM in Dublin, Dublin          1   \n",
       "5                Financial Analyst in Dublin, Dublin          0   \n",
       "6   Human Resources Business Partner HRBP in Dubl...          0   \n",
       "\n",
       "                                        all_features  \n",
       "0  Great Culture and Company That Cares Not much ...  \n",
       "1  Shaping the Future of Mobility! Global Work En...  \n",
       "2  Lots of potential- getting there A very fast p...  \n",
       "5  Black stain on the IDA - Kevin and Joe Show - ...  \n",
       "6  Bad culture, no HR alignment Fairly okay salar...  "
      ]
     },
     "execution_count": 57,
     "metadata": {},
     "output_type": "execute_result"
    }
   ],
   "source": [
    "# Prepare th training features - Combine title and review columns to create a new one\n",
    "def combined_features(row):\n",
    "    return row['Title'] + ' '+ row['Pros'] + ' '+ row['Cons']\n",
    "reviews['all_features'] = reviews.apply(combined_features, axis=1)\n",
    "reviews.head()"
   ]
  },
  {
   "cell_type": "markdown",
   "id": "f783a848",
   "metadata": {},
   "source": [
    "### Develop the sentiment classifier"
   ]
  },
  {
   "cell_type": "code",
   "execution_count": 58,
   "id": "b6849c5b",
   "metadata": {},
   "outputs": [],
   "source": [
    "# Define the input varibale X and output varible y\n",
    "# x should be all_features and y should be sentimnet\n",
    "X = reviews['all_features']\n",
    "y = reviews['sentiment']"
   ]
  },
  {
   "cell_type": "code",
   "execution_count": 59,
   "id": "1b471d32",
   "metadata": {},
   "outputs": [],
   "source": [
    "# use train test function to split data into testign and training\n",
    "# 75% for the training and 25% for the testing\n",
    "from sklearn.model_selection import train_test_split\n",
    "X_train, X_test, y_train, y_test = train_test_split(X, y, random_state=0)"
   ]
  },
  {
   "cell_type": "code",
   "execution_count": 60,
   "id": "32b8ee44",
   "metadata": {},
   "outputs": [],
   "source": [
    "# Use the count vectorizer to develop vectors for each word in the string\n",
    "# fit both training and testign data into it\n",
    "from sklearn.feature_extraction.text import CountVectorizer\n",
    "cv = CountVectorizer()\n",
    "ctmTr = cv.fit_transform(X_train)\n",
    "X_test_dtm = cv.transform(X_test)"
   ]
  },
  {
   "cell_type": "code",
   "execution_count": 61,
   "id": "22e71dae",
   "metadata": {},
   "outputs": [
    {
     "data": {
      "text/plain": [
       "LogisticRegression()"
      ]
     },
     "execution_count": 61,
     "metadata": {},
     "output_type": "execute_result"
    }
   ],
   "source": [
    "# Using logistic regression and fit the trianing data into the model\n",
    "from sklearn.linear_model import LogisticRegression\n",
    "from sklearn.metrics import accuracy_score\n",
    "model = LogisticRegression()\n",
    "model.fit(ctmTr, y_train)\n",
    "# logistic regression model is trained with the training data"
   ]
  },
  {
   "cell_type": "code",
   "execution_count": 62,
   "id": "ae54bcea",
   "metadata": {},
   "outputs": [
    {
     "name": "stdout",
     "output_type": "stream",
     "text": [
      "[1 1 1 1 1 1 1 1 1 1 1 1 1 1 1 0 1 1 1 0 1 1 1 1 1 1 1 1 1 1 1 1 1 1 1 1 1\n",
      " 1 1 1 1 0 0 1 1 1 1 1 1 1 1 0 1 1 1 0 1 1 1 0 1 1 1 1 1 1 1 1 1 0 1 1 1 1\n",
      " 1 1 1 1 1 1 0 0 0 0 1 1 1 1 1 1 1 1 1 1 1 0 1 1 1 0 1 1 1 1 1 1 1 0 1 0 1\n",
      " 1]\n"
     ]
    }
   ],
   "source": [
    "# predict sentiment for the test data\n",
    "y_pred_class = model.predict(X_test_dtm)\n",
    "print(y_pred_class)"
   ]
  },
  {
   "cell_type": "code",
   "execution_count": 63,
   "id": "d01ee519",
   "metadata": {},
   "outputs": [
    {
     "data": {
      "text/plain": [
       "0.8482142857142857"
      ]
     },
     "execution_count": 63,
     "metadata": {},
     "output_type": "execute_result"
    }
   ],
   "source": [
    "# check accuracy of the test data. it will compare the predicted sentiment with the original \n",
    "accuracy_score(y_test, y_pred_class)"
   ]
  },
  {
   "cell_type": "code",
   "execution_count": null,
   "id": "4106c32b",
   "metadata": {},
   "outputs": [],
   "source": []
  },
  {
   "cell_type": "code",
   "execution_count": 66,
   "id": "20ea92f2",
   "metadata": {},
   "outputs": [],
   "source": [
    "reviews.to_csv('New_Data.csv')"
   ]
  },
  {
   "cell_type": "code",
   "execution_count": 1,
   "id": "e21dc463",
   "metadata": {},
   "outputs": [],
   "source": []
  },
  {
   "cell_type": "code",
   "execution_count": null,
   "metadata": {},
   "outputs": [],
   "source": []
  }
 ],
 "metadata": {
  "kernelspec": {
   "name": "python3",
   "display_name": "Python 3.8.10 64-bit ('PythonSoftwareFoundation.Python.3.8_qbz5n2kfra8p0')"
  },
  "language_info": {
   "codemirror_mode": {
    "name": "ipython",
    "version": 3
   },
   "file_extension": ".py",
   "mimetype": "text/x-python",
   "name": "python",
   "nbconvert_exporter": "python",
   "pygments_lexer": "ipython3",
   "version": "3.8.10"
  },
  "interpreter": {
   "hash": "c4772c41da68fc74360513f37641d931d5c41d0cdb820d7cbbc25e68bc1b0486"
  }
 },
 "nbformat": 4,
 "nbformat_minor": 5
}